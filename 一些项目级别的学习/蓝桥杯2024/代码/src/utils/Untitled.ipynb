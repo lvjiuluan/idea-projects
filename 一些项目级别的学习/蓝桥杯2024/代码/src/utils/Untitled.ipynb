{
 "cells": [
  {
   "cell_type": "code",
   "execution_count": 6,
   "id": "ddd48c62-b14a-4fd8-8a77-dce53ddbd74b",
   "metadata": {},
   "outputs": [],
   "source": [
    "import paramiko\n",
    "\n",
    "# 设置SSH连接参数\n",
    "ssh = paramiko.SSHClient()\n",
    "ssh.set_missing_host_key_policy(paramiko.AutoAddPolicy())\n",
    "ssh.connect(hostname='43.142.181.137', username='root', password='13110197267ljlLJL!')\n",
    "\n",
    "# 设置源文件路径和目标路径\n",
    "source_file = './answer.txt'\n",
    "target_folder = '/usr/local/nginx/html/answer.txt'\n",
    "\n",
    "# 使用SFTP传输文件\n",
    "sftp = ssh.open_sftp()\n",
    "sftp.put(source_file, target_folder)  # 目标文件名可以按需更改\n",
    "sftp.close()\n",
    "\n",
    "# 关闭SSH连接\n",
    "ssh.close()\n"
   ]
  },
  {
   "cell_type": "code",
   "execution_count": 4,
   "id": "08edd53f-7447-4c7b-b852-fac176c27f50",
   "metadata": {},
   "outputs": [],
   "source": [
    "def writeQuestion(filePath = r\"D:\\IDEA Projects\\一些项目级别的学习\\蓝桥杯2024\\代码\\src\\main\\Solution.java\"):\n",
    "    destFilePath = r\"D:\\IDEA Projects\\一些项目级别的学习\\蓝桥杯2024\\代码\\src\\utils\\question.txt\"\n",
    "    with open(filePath, 'r') as file, open(destFilePath,'w') as destFile:\n",
    "        for line in file:\n",
    "            line = line.strip()  # 去掉左右两端的空白字符\n",
    "            if line.startswith(\"//\"):  # 检查是否以\"//\"开始\n",
    "                line = line[2:]  # 去掉\"//\"\n",
    "                destFile.write(line + '\\n')  # 将修改后的行写入destFilePath"
   ]
  },
  {
   "cell_type": "code",
   "execution_count": 5,
   "id": "1c57210c-db9f-4343-b8d6-8b0c48776753",
   "metadata": {},
   "outputs": [
    {
     "ename": "UnicodeDecodeError",
     "evalue": "'gbk' codec can't decode byte 0xae in position 147: illegal multibyte sequence",
     "output_type": "error",
     "traceback": [
      "\u001b[1;31m---------------------------------------------------------------------------\u001b[0m",
      "\u001b[1;31mUnicodeDecodeError\u001b[0m                        Traceback (most recent call last)",
      "Cell \u001b[1;32mIn[5], line 1\u001b[0m\n\u001b[1;32m----> 1\u001b[0m writeQuestion()\n",
      "Cell \u001b[1;32mIn[4], line 4\u001b[0m, in \u001b[0;36mwriteQuestion\u001b[1;34m(filePath)\u001b[0m\n\u001b[0;32m      2\u001b[0m destFilePath \u001b[38;5;241m=\u001b[39m \u001b[38;5;124mr\u001b[39m\u001b[38;5;124m\"\u001b[39m\u001b[38;5;124mD:\u001b[39m\u001b[38;5;124m\\\u001b[39m\u001b[38;5;124mIDEA Projects\u001b[39m\u001b[38;5;124m\\\u001b[39m\u001b[38;5;124m一些项目级别的学习\u001b[39m\u001b[38;5;124m\\\u001b[39m\u001b[38;5;124m蓝桥杯2024\u001b[39m\u001b[38;5;124m\\\u001b[39m\u001b[38;5;124m代码\u001b[39m\u001b[38;5;124m\\\u001b[39m\u001b[38;5;124msrc\u001b[39m\u001b[38;5;124m\\\u001b[39m\u001b[38;5;124mutils\u001b[39m\u001b[38;5;124m\\\u001b[39m\u001b[38;5;124mquestion.txt\u001b[39m\u001b[38;5;124m\"\u001b[39m\n\u001b[0;32m      3\u001b[0m \u001b[38;5;28;01mwith\u001b[39;00m \u001b[38;5;28mopen\u001b[39m(filePath, \u001b[38;5;124m'\u001b[39m\u001b[38;5;124mr\u001b[39m\u001b[38;5;124m'\u001b[39m) \u001b[38;5;28;01mas\u001b[39;00m file, \u001b[38;5;28mopen\u001b[39m(destFilePath,\u001b[38;5;124m'\u001b[39m\u001b[38;5;124mw\u001b[39m\u001b[38;5;124m'\u001b[39m) \u001b[38;5;28;01mas\u001b[39;00m destFile:\n\u001b[1;32m----> 4\u001b[0m     \u001b[38;5;28;01mfor\u001b[39;00m line \u001b[38;5;129;01min\u001b[39;00m file:\n\u001b[0;32m      5\u001b[0m         line \u001b[38;5;241m=\u001b[39m line\u001b[38;5;241m.\u001b[39mstrip()  \u001b[38;5;66;03m# 去掉左右两端的空白字符\u001b[39;00m\n\u001b[0;32m      6\u001b[0m         \u001b[38;5;28;01mif\u001b[39;00m line\u001b[38;5;241m.\u001b[39mstartswith(\u001b[38;5;124m\"\u001b[39m\u001b[38;5;124m//\u001b[39m\u001b[38;5;124m\"\u001b[39m):  \u001b[38;5;66;03m# 检查是否以\"//\"开始\u001b[39;00m\n",
      "\u001b[1;31mUnicodeDecodeError\u001b[0m: 'gbk' codec can't decode byte 0xae in position 147: illegal multibyte sequence"
     ]
    }
   ],
   "source": [
    "writeQuestion()"
   ]
  },
  {
   "cell_type": "code",
   "execution_count": null,
   "id": "2caa7991-998f-4292-aff7-f649030a6c7f",
   "metadata": {},
   "outputs": [],
   "source": []
  }
 ],
 "metadata": {
  "kernelspec": {
   "display_name": "Python 3 (ipykernel)",
   "language": "python",
   "name": "python3"
  },
  "language_info": {
   "codemirror_mode": {
    "name": "ipython",
    "version": 3
   },
   "file_extension": ".py",
   "mimetype": "text/x-python",
   "name": "python",
   "nbconvert_exporter": "python",
   "pygments_lexer": "ipython3",
   "version": "3.11.7"
  }
 },
 "nbformat": 4,
 "nbformat_minor": 5
}
