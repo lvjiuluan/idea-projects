{
 "cells": [
  {
   "cell_type": "markdown",
   "id": "044365cf",
   "metadata": {},
   "source": [
    "# 一次对话"
   ]
  },
  {
   "cell_type": "code",
   "execution_count": 1,
   "id": "8779686b",
   "metadata": {
    "scrolled": false
   },
   "outputs": [
    {
     "name": "stdout",
     "output_type": "stream",
     "text": [
      "首先，让我们了解一下快速幂算法的基本概念。假设我们要计算 a 的 b 次方，我们可以通过连续乘 b 次 a 来得到结果，但这种做法的时间复杂度是 O(b)，在 b 非常大的情况下，运算效率非常低。\n",
      "\n",
      "然而，我们可以使用快速幂算法来提高计算效率。这种算法的基本思路是将 b 转换为二进制表示，然后用分治策略高效地计算 a 的 b 次方。比如要计算 a^13，13转换为二进制是 1101，那么a^13就可以表示为 a^(2^3)*a^(2^2)*a。(注意，位置值为0的不需要计算，因为a^0=1，不影响结果)。\n",
      "\n",
      "这样，计算的时间复杂度就可以降低到 O(logb)。 \n",
      "\n",
      "这就是快速幂算法的基本想法，现在我们来用 Java 写出对应的代码。\n",
      "\n",
      "```java\n",
      "public class Solution {\n",
      "    public long quickPower(long a, long b, long mod) {\n",
      "        long result = 1;\n",
      "        while (b != 0) {\n",
      "            if ((b & 1) == 1) result = (result * a) % mod;  // 如果当前位为1则乘以a\n",
      "            a = (a * a) % mod;  // a不断平方\n",
      "            b >>= 1;  // 右移一位\n",
      "        }\n",
      "        return result;\n",
      "    }\n",
      "}\n",
      "```\n",
      "以上代码实现了求a的b次方对于mod的模的值。通过 &(位运算) 和 >>=（右移运算）进行快速幂运算。当然如果不需要对模的求值同样可以去掉。\n"
     ]
    }
   ],
   "source": [
    "from openai import OpenAI\n",
    "\n",
    "def get_response(user_message):\n",
    "    api_key = ''\n",
    "    client = OpenAI(api_key=\"sk-dV1vmy9KJ1GDr3OMNOqAlSUnIMR3S6wbsGRSKKTGYpXhAWMn\", base_url=\"https://api.chatanywhere.tech\")\n",
    "\n",
    "    response = client.chat.completions.create(\n",
    "#         model=\"gpt-3.5-turbo\",\n",
    "        model=\"gpt-4\",\n",
    "        messages=[\n",
    "            {\"role\": \"system\", \"content\": \"你是一个数学博士，同时也精通Java编程语言，熟悉各种算法\"},\n",
    "            {\"role\": \"user\", \"content\": user_message}\n",
    "        ]\n",
    "    )\n",
    "    return response.choices[0].message.content\n",
    "\n",
    "# 使用函数\n",
    "print(get_response(\"如何求快速幂\"))"
   ]
  },
  {
   "cell_type": "markdown",
   "id": "448ab1c2",
   "metadata": {},
   "source": [
    "# 上下文对话"
   ]
  },
  {
   "cell_type": "code",
   "execution_count": null,
   "id": "cc923bcd",
   "metadata": {},
   "outputs": [],
   "source": [
    "class ChatAssistant:\n",
    "    def __init__(self):\n",
    "        self.api_key = ''\n",
    "        self.client = OpenAI(api_key=\"sk-dV1vmy9KJ1GDr3OMNOqAlSUnIMR3S6wbsGRSKKTGYpXhAWMn\", base_url=\"https://api.chatanywhere.tech\")\n",
    "        self.messages = [{\"role\": \"system\", \"content\": \"你是一个数学博士，同时也精通Java编程语言，熟悉各种算法\"}]\n",
    "\n",
    "    def add_message(self, role, content):\n",
    "        self.messages.append({\"role\": role, \"content\": content})\n",
    "\n",
    "    def get_response(self, user_message):\n",
    "        self.add_message(\"user\", user_message)\n",
    "        response = self.client.chat.completions.create(\n",
    "            model=\"gpt-4\",\n",
    "            messages=self.messages\n",
    "        )\n",
    "        assistant_message = response.choices[0].message.content\n",
    "        self.add_message(\"assistant\", assistant_message)\n",
    "        return assistant_message\n",
    "\n",
    "# 使用ChatAssistant\n",
    "chat_assistant = ChatAssistant()\n",
    "print(chat_assistant.get_response(\"如何求快速幂?\"))"
   ]
  }
 ],
 "metadata": {
  "kernelspec": {
   "display_name": "Python 3 (ipykernel)",
   "language": "python",
   "name": "python3"
  },
  "language_info": {
   "codemirror_mode": {
    "name": "ipython",
    "version": 3
   },
   "file_extension": ".py",
   "mimetype": "text/x-python",
   "name": "python",
   "nbconvert_exporter": "python",
   "pygments_lexer": "ipython3",
   "version": "3.11.4"
  }
 },
 "nbformat": 4,
 "nbformat_minor": 5
}
