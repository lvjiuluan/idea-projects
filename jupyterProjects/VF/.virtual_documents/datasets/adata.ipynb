import pandas as pd
bank_data = pd.read_csv('bank.csv',sep=';')
# 查看数据集的形状
print("数据集形状：", bank_data.shape)
# 查看数据集的维度
print("数据集维度：", bank_data.ndim)


bank_data.head(10)


# 假设bank_data是原始数据集
bank_data = pd.read_csv('bank.csv',sep=';')

# 假设你想要将'A'和'B'列的数据放入一个新的数据集df1，将'C'和'D'列的数据放入另一个数据集df2
bank_data_A = bank_data[['age', 'job','marital','education','default','balance','housing','loan']]
bank_data_A['index']=range(0,len(bank_data_A));
bank_data_B = bank_data[['contact', 'day','month','duration','campaign','pdays','previous','poutcome','y']]
bank_data_B['index']=range(0,len(bank_data_B));
print(bank_data_A.shape)
print(bank_data_B.shape)


bank_data_A.head()


bank_data_B.head()


# 将数据集保存为新的CSV文件
bank_data_A.to_csv('../datasetsAB/bank_data_A.csv', index=False)
bank_data_B.to_csv('../datasetsAB/bank_data_B.csv', index=False)



