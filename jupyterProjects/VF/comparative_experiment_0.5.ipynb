{
 "cells": [
  {
   "cell_type": "code",
   "execution_count": 1,
   "metadata": {
    "collapsed": true
   },
   "outputs": [],
   "source": [
    "import pandas as pd\n",
    "import numpy as np"
   ]
  },
  {
   "cell_type": "markdown",
   "source": [
    "# 数据集处理"
   ],
   "metadata": {
    "collapsed": false
   }
  },
  {
   "cell_type": "code",
   "execution_count": 2,
   "outputs": [
    {
     "name": "stdout",
     "output_type": "stream",
     "text": [
      "(45211, 10)\n",
      "(22605, 10)\n"
     ]
    }
   ],
   "source": [
    "from util.data_loader import data_loader2\n",
    "data_name='bank_data_B'\n",
    "miss_rate=0.5\n",
    "complete_data_B,incomplete_data_B=data_loader2(data_name,miss_rate)\n",
    "print(complete_data_B.shape)\n",
    "print(incomplete_data_B.shape)"
   ],
   "metadata": {
    "collapsed": false,
    "pycharm": {
     "name": "#%%\n"
    }
   }
  },
  {
   "cell_type": "markdown",
   "source": [
    "# CTGAN生成"
   ],
   "metadata": {
    "collapsed": false
   }
  },
  {
   "cell_type": "code",
   "execution_count": 3,
   "outputs": [
    {
     "name": "stderr",
     "output_type": "stream",
     "text": [
      "D:\\Anaconda\\anaconda\\envs\\neural_network\\lib\\site-packages\\rdt\\transformers\\base.py:132: FutureWarning: Future versions of RDT will not support the 'model_missing_values' parameter. Please switch to using the 'missing_value_generation' parameter to select your strategy.\n",
      "  warnings.warn(\n",
      "D:\\Anaconda\\anaconda\\envs\\neural_network\\lib\\site-packages\\rdt\\transformers\\base.py:132: FutureWarning: Future versions of RDT will not support the 'model_missing_values' parameter. Please switch to using the 'missing_value_generation' parameter to select your strategy.\n",
      "  warnings.warn(\n",
      "D:\\Anaconda\\anaconda\\envs\\neural_network\\lib\\site-packages\\rdt\\transformers\\base.py:132: FutureWarning: Future versions of RDT will not support the 'model_missing_values' parameter. Please switch to using the 'missing_value_generation' parameter to select your strategy.\n",
      "  warnings.warn(\n",
      "D:\\Anaconda\\anaconda\\envs\\neural_network\\lib\\site-packages\\rdt\\transformers\\base.py:132: FutureWarning: Future versions of RDT will not support the 'model_missing_values' parameter. Please switch to using the 'missing_value_generation' parameter to select your strategy.\n",
      "  warnings.warn(\n",
      "D:\\Anaconda\\anaconda\\envs\\neural_network\\lib\\site-packages\\rdt\\transformers\\base.py:132: FutureWarning: Future versions of RDT will not support the 'model_missing_values' parameter. Please switch to using the 'missing_value_generation' parameter to select your strategy.\n",
      "  warnings.warn(\n",
      "D:\\Anaconda\\anaconda\\envs\\neural_network\\lib\\site-packages\\rdt\\transformers\\base.py:132: FutureWarning: Future versions of RDT will not support the 'model_missing_values' parameter. Please switch to using the 'missing_value_generation' parameter to select your strategy.\n",
      "  warnings.warn(\n"
     ]
    }
   ],
   "source": [
    "discrete_columns=incomplete_data_B.select_dtypes(include=['object'])\n",
    "from ctgan import CTGAN\n",
    "ctgan = CTGAN(epochs=10)\n",
    "ctgan.fit(incomplete_data_B,discrete_columns)\n",
    "len1=complete_data_B.shape[0]\n",
    "# 生成数据\n",
    "synthetic_data = ctgan.sample(len1)"
   ],
   "metadata": {
    "collapsed": false,
    "pycharm": {
     "name": "#%%\n"
    }
   }
  },
  {
   "cell_type": "markdown",
   "source": [
    "# 得到A方完整数据和B方生成后的数据集"
   ],
   "metadata": {
    "collapsed": false
   }
  },
  {
   "cell_type": "code",
   "execution_count": 4,
   "outputs": [
    {
     "name": "stdout",
     "output_type": "stream",
     "text": [
      "(45211, 18)\n"
     ]
    },
    {
     "data": {
      "text/plain": "    age            job   marital  education default  balance housing loan  \\\n0    58     management   married   tertiary      no     2143     yes   no   \n1    44     technician    single  secondary      no       29     yes   no   \n2    33   entrepreneur   married  secondary      no        2     yes  yes   \n3    47    blue-collar   married    unknown      no     1506     yes   no   \n4    33        unknown    single    unknown      no        1      no   no   \n5    35     management   married   tertiary      no      231     yes   no   \n6    28     management    single   tertiary      no      447     yes  yes   \n7    42   entrepreneur  divorced   tertiary     yes        2     yes   no   \n8    58        retired   married    primary      no      121     yes   no   \n9    43     technician    single  secondary      no      593     yes   no   \n10   41         admin.  divorced  secondary      no      270     yes   no   \n11   29         admin.    single  secondary      no      390     yes   no   \n12   53     technician   married  secondary      no        6     yes   no   \n13   58     technician   married    unknown      no       71     yes   no   \n14   57       services   married  secondary      no      162     yes   no   \n15   51        retired   married    primary      no      229     yes   no   \n16   45         admin.    single    unknown      no       13     yes   no   \n17   57    blue-collar   married    primary      no       52     yes   no   \n18   60        retired   married    primary      no       60     yes   no   \n19   33       services   married  secondary      no        0     yes   no   \n20   28    blue-collar   married  secondary      no      723     yes  yes   \n21   56     management   married   tertiary      no      779     yes   no   \n22   32    blue-collar    single    primary      no       23     yes  yes   \n23   25       services   married  secondary      no       50     yes   no   \n24   40        retired   married    primary      no        0     yes  yes   \n25   44         admin.   married  secondary      no     -372     yes   no   \n26   39     management    single   tertiary      no      255     yes   no   \n27   52   entrepreneur   married  secondary      no      113     yes  yes   \n28   46     management    single  secondary      no     -246     yes   no   \n29   36     technician    single  secondary      no      265     yes  yes   \n30   57     technician   married  secondary      no      839      no  yes   \n31   49     management   married   tertiary      no      378     yes   no   \n32   60         admin.   married  secondary      no       39     yes  yes   \n33   59    blue-collar   married  secondary      no        0     yes   no   \n34   51     management   married   tertiary      no    10635     yes   no   \n35   57     technician  divorced  secondary      no       63     yes   no   \n36   25    blue-collar   married  secondary      no       -7     yes   no   \n37   53     technician   married  secondary      no       -3      no   no   \n38   36         admin.  divorced  secondary      no      506     yes   no   \n39   37         admin.    single  secondary      no        0     yes   no   \n40   44       services  divorced  secondary      no     2586     yes   no   \n41   50     management   married  secondary      no       49     yes   no   \n42   60    blue-collar   married    unknown      no      104     yes   no   \n43   54        retired   married  secondary      no      529     yes   no   \n44   58        retired   married    unknown      no       96     yes   no   \n45   36         admin.    single    primary      no     -171     yes   no   \n46   58  self-employed   married   tertiary      no     -364     yes   no   \n47   44     technician   married  secondary      no        0     yes   no   \n48   55     technician  divorced  secondary      no        0      no   no   \n49   29     management    single   tertiary      no        0     yes   no   \n\n    index  contact  day month  duration  campaign  pdays  previous poutcome  \\\n0       0  unknown  5.0   may     261.0       1.0   -1.0       0.0  unknown   \n1       1  unknown  5.0   may     151.0       1.0   -1.0       0.0  unknown   \n2       2  unknown  5.0   may      76.0       1.0   -1.0       0.0  unknown   \n3       3      NaN  NaN   NaN       NaN       NaN    NaN       NaN      NaN   \n4       4      NaN  NaN   NaN       NaN       NaN    NaN       NaN      NaN   \n5       5  unknown  5.0   may     139.0       1.0   -1.0       0.0  unknown   \n6       6      NaN  NaN   NaN       NaN       NaN    NaN       NaN      NaN   \n7       7      NaN  NaN   NaN       NaN       NaN    NaN       NaN      NaN   \n8       8  unknown  5.0   may      50.0       1.0   -1.0       0.0  unknown   \n9       9  unknown  5.0   may      55.0       1.0   -1.0       0.0  unknown   \n10     10  unknown  5.0   may     222.0       1.0   -1.0       0.0  unknown   \n11     11  unknown  5.0   may     137.0       1.0   -1.0       0.0  unknown   \n12     12  unknown  5.0   may     517.0       1.0   -1.0       0.0  unknown   \n13     13  unknown  5.0   may      71.0       1.0   -1.0       0.0  unknown   \n14     14  unknown  5.0   may     174.0       1.0   -1.0       0.0  unknown   \n15     15  unknown  5.0   may     353.0       1.0   -1.0       0.0  unknown   \n16     16  unknown  5.0   may      98.0       1.0   -1.0       0.0  unknown   \n17     17  unknown  5.0   may      38.0       1.0   -1.0       0.0  unknown   \n18     18  unknown  5.0   may     219.0       1.0   -1.0       0.0  unknown   \n19     19  unknown  5.0   may      54.0       1.0   -1.0       0.0  unknown   \n20     20  unknown  5.0   may     262.0       1.0   -1.0       0.0  unknown   \n21     21      NaN  NaN   NaN       NaN       NaN    NaN       NaN      NaN   \n22     22  unknown  5.0   may     160.0       1.0   -1.0       0.0  unknown   \n23     23  unknown  5.0   may     342.0       1.0   -1.0       0.0  unknown   \n24     24  unknown  5.0   may     181.0       1.0   -1.0       0.0  unknown   \n25     25  unknown  5.0   may     172.0       1.0   -1.0       0.0  unknown   \n26     26  unknown  5.0   may     296.0       1.0   -1.0       0.0  unknown   \n27     27  unknown  5.0   may     127.0       1.0   -1.0       0.0  unknown   \n28     28  unknown  5.0   may     255.0       2.0   -1.0       0.0  unknown   \n29     29      NaN  NaN   NaN       NaN       NaN    NaN       NaN      NaN   \n30     30      NaN  NaN   NaN       NaN       NaN    NaN       NaN      NaN   \n31     31      NaN  NaN   NaN       NaN       NaN    NaN       NaN      NaN   \n32     32  unknown  5.0   may     208.0       1.0   -1.0       0.0  unknown   \n33     33      NaN  NaN   NaN       NaN       NaN    NaN       NaN      NaN   \n34     34  unknown  5.0   may     336.0       1.0   -1.0       0.0  unknown   \n35     35      NaN  NaN   NaN       NaN       NaN    NaN       NaN      NaN   \n36     36      NaN  NaN   NaN       NaN       NaN    NaN       NaN      NaN   \n37     37  unknown  5.0   may    1666.0       1.0   -1.0       0.0  unknown   \n38     38      NaN  NaN   NaN       NaN       NaN    NaN       NaN      NaN   \n39     39  unknown  5.0   may     137.0       1.0   -1.0       0.0  unknown   \n40     40  unknown  5.0   may     160.0       1.0   -1.0       0.0  unknown   \n41     41  unknown  5.0   may     180.0       2.0   -1.0       0.0  unknown   \n42     42      NaN  NaN   NaN       NaN       NaN    NaN       NaN      NaN   \n43     43  unknown  5.0   may    1492.0       1.0   -1.0       0.0  unknown   \n44     44  unknown  5.0   may     616.0       1.0   -1.0       0.0  unknown   \n45     45  unknown  5.0   may     242.0       1.0   -1.0       0.0  unknown   \n46     46  unknown  5.0   may     355.0       1.0   -1.0       0.0  unknown   \n47     47  unknown  5.0   may     225.0       2.0   -1.0       0.0  unknown   \n48     48      NaN  NaN   NaN       NaN       NaN    NaN       NaN      NaN   \n49     49      NaN  NaN   NaN       NaN       NaN    NaN       NaN      NaN   \n\n      y  \n0    no  \n1    no  \n2    no  \n3   NaN  \n4   NaN  \n5    no  \n6   NaN  \n7   NaN  \n8    no  \n9    no  \n10   no  \n11   no  \n12   no  \n13   no  \n14   no  \n15   no  \n16   no  \n17   no  \n18   no  \n19   no  \n20   no  \n21  NaN  \n22   no  \n23   no  \n24   no  \n25   no  \n26   no  \n27   no  \n28   no  \n29  NaN  \n30  NaN  \n31  NaN  \n32   no  \n33  NaN  \n34   no  \n35  NaN  \n36  NaN  \n37   no  \n38  NaN  \n39   no  \n40   no  \n41   no  \n42  NaN  \n43   no  \n44   no  \n45   no  \n46   no  \n47   no  \n48  NaN  \n49  NaN  ",
      "text/html": "<div>\n<style scoped>\n    .dataframe tbody tr th:only-of-type {\n        vertical-align: middle;\n    }\n\n    .dataframe tbody tr th {\n        vertical-align: top;\n    }\n\n    .dataframe thead th {\n        text-align: right;\n    }\n</style>\n<table border=\"1\" class=\"dataframe\">\n  <thead>\n    <tr style=\"text-align: right;\">\n      <th></th>\n      <th>age</th>\n      <th>job</th>\n      <th>marital</th>\n      <th>education</th>\n      <th>default</th>\n      <th>balance</th>\n      <th>housing</th>\n      <th>loan</th>\n      <th>index</th>\n      <th>contact</th>\n      <th>day</th>\n      <th>month</th>\n      <th>duration</th>\n      <th>campaign</th>\n      <th>pdays</th>\n      <th>previous</th>\n      <th>poutcome</th>\n      <th>y</th>\n    </tr>\n  </thead>\n  <tbody>\n    <tr>\n      <th>0</th>\n      <td>58</td>\n      <td>management</td>\n      <td>married</td>\n      <td>tertiary</td>\n      <td>no</td>\n      <td>2143</td>\n      <td>yes</td>\n      <td>no</td>\n      <td>0</td>\n      <td>unknown</td>\n      <td>5.0</td>\n      <td>may</td>\n      <td>261.0</td>\n      <td>1.0</td>\n      <td>-1.0</td>\n      <td>0.0</td>\n      <td>unknown</td>\n      <td>no</td>\n    </tr>\n    <tr>\n      <th>1</th>\n      <td>44</td>\n      <td>technician</td>\n      <td>single</td>\n      <td>secondary</td>\n      <td>no</td>\n      <td>29</td>\n      <td>yes</td>\n      <td>no</td>\n      <td>1</td>\n      <td>unknown</td>\n      <td>5.0</td>\n      <td>may</td>\n      <td>151.0</td>\n      <td>1.0</td>\n      <td>-1.0</td>\n      <td>0.0</td>\n      <td>unknown</td>\n      <td>no</td>\n    </tr>\n    <tr>\n      <th>2</th>\n      <td>33</td>\n      <td>entrepreneur</td>\n      <td>married</td>\n      <td>secondary</td>\n      <td>no</td>\n      <td>2</td>\n      <td>yes</td>\n      <td>yes</td>\n      <td>2</td>\n      <td>unknown</td>\n      <td>5.0</td>\n      <td>may</td>\n      <td>76.0</td>\n      <td>1.0</td>\n      <td>-1.0</td>\n      <td>0.0</td>\n      <td>unknown</td>\n      <td>no</td>\n    </tr>\n    <tr>\n      <th>3</th>\n      <td>47</td>\n      <td>blue-collar</td>\n      <td>married</td>\n      <td>unknown</td>\n      <td>no</td>\n      <td>1506</td>\n      <td>yes</td>\n      <td>no</td>\n      <td>3</td>\n      <td>NaN</td>\n      <td>NaN</td>\n      <td>NaN</td>\n      <td>NaN</td>\n      <td>NaN</td>\n      <td>NaN</td>\n      <td>NaN</td>\n      <td>NaN</td>\n      <td>NaN</td>\n    </tr>\n    <tr>\n      <th>4</th>\n      <td>33</td>\n      <td>unknown</td>\n      <td>single</td>\n      <td>unknown</td>\n      <td>no</td>\n      <td>1</td>\n      <td>no</td>\n      <td>no</td>\n      <td>4</td>\n      <td>NaN</td>\n      <td>NaN</td>\n      <td>NaN</td>\n      <td>NaN</td>\n      <td>NaN</td>\n      <td>NaN</td>\n      <td>NaN</td>\n      <td>NaN</td>\n      <td>NaN</td>\n    </tr>\n    <tr>\n      <th>5</th>\n      <td>35</td>\n      <td>management</td>\n      <td>married</td>\n      <td>tertiary</td>\n      <td>no</td>\n      <td>231</td>\n      <td>yes</td>\n      <td>no</td>\n      <td>5</td>\n      <td>unknown</td>\n      <td>5.0</td>\n      <td>may</td>\n      <td>139.0</td>\n      <td>1.0</td>\n      <td>-1.0</td>\n      <td>0.0</td>\n      <td>unknown</td>\n      <td>no</td>\n    </tr>\n    <tr>\n      <th>6</th>\n      <td>28</td>\n      <td>management</td>\n      <td>single</td>\n      <td>tertiary</td>\n      <td>no</td>\n      <td>447</td>\n      <td>yes</td>\n      <td>yes</td>\n      <td>6</td>\n      <td>NaN</td>\n      <td>NaN</td>\n      <td>NaN</td>\n      <td>NaN</td>\n      <td>NaN</td>\n      <td>NaN</td>\n      <td>NaN</td>\n      <td>NaN</td>\n      <td>NaN</td>\n    </tr>\n    <tr>\n      <th>7</th>\n      <td>42</td>\n      <td>entrepreneur</td>\n      <td>divorced</td>\n      <td>tertiary</td>\n      <td>yes</td>\n      <td>2</td>\n      <td>yes</td>\n      <td>no</td>\n      <td>7</td>\n      <td>NaN</td>\n      <td>NaN</td>\n      <td>NaN</td>\n      <td>NaN</td>\n      <td>NaN</td>\n      <td>NaN</td>\n      <td>NaN</td>\n      <td>NaN</td>\n      <td>NaN</td>\n    </tr>\n    <tr>\n      <th>8</th>\n      <td>58</td>\n      <td>retired</td>\n      <td>married</td>\n      <td>primary</td>\n      <td>no</td>\n      <td>121</td>\n      <td>yes</td>\n      <td>no</td>\n      <td>8</td>\n      <td>unknown</td>\n      <td>5.0</td>\n      <td>may</td>\n      <td>50.0</td>\n      <td>1.0</td>\n      <td>-1.0</td>\n      <td>0.0</td>\n      <td>unknown</td>\n      <td>no</td>\n    </tr>\n    <tr>\n      <th>9</th>\n      <td>43</td>\n      <td>technician</td>\n      <td>single</td>\n      <td>secondary</td>\n      <td>no</td>\n      <td>593</td>\n      <td>yes</td>\n      <td>no</td>\n      <td>9</td>\n      <td>unknown</td>\n      <td>5.0</td>\n      <td>may</td>\n      <td>55.0</td>\n      <td>1.0</td>\n      <td>-1.0</td>\n      <td>0.0</td>\n      <td>unknown</td>\n      <td>no</td>\n    </tr>\n    <tr>\n      <th>10</th>\n      <td>41</td>\n      <td>admin.</td>\n      <td>divorced</td>\n      <td>secondary</td>\n      <td>no</td>\n      <td>270</td>\n      <td>yes</td>\n      <td>no</td>\n      <td>10</td>\n      <td>unknown</td>\n      <td>5.0</td>\n      <td>may</td>\n      <td>222.0</td>\n      <td>1.0</td>\n      <td>-1.0</td>\n      <td>0.0</td>\n      <td>unknown</td>\n      <td>no</td>\n    </tr>\n    <tr>\n      <th>11</th>\n      <td>29</td>\n      <td>admin.</td>\n      <td>single</td>\n      <td>secondary</td>\n      <td>no</td>\n      <td>390</td>\n      <td>yes</td>\n      <td>no</td>\n      <td>11</td>\n      <td>unknown</td>\n      <td>5.0</td>\n      <td>may</td>\n      <td>137.0</td>\n      <td>1.0</td>\n      <td>-1.0</td>\n      <td>0.0</td>\n      <td>unknown</td>\n      <td>no</td>\n    </tr>\n    <tr>\n      <th>12</th>\n      <td>53</td>\n      <td>technician</td>\n      <td>married</td>\n      <td>secondary</td>\n      <td>no</td>\n      <td>6</td>\n      <td>yes</td>\n      <td>no</td>\n      <td>12</td>\n      <td>unknown</td>\n      <td>5.0</td>\n      <td>may</td>\n      <td>517.0</td>\n      <td>1.0</td>\n      <td>-1.0</td>\n      <td>0.0</td>\n      <td>unknown</td>\n      <td>no</td>\n    </tr>\n    <tr>\n      <th>13</th>\n      <td>58</td>\n      <td>technician</td>\n      <td>married</td>\n      <td>unknown</td>\n      <td>no</td>\n      <td>71</td>\n      <td>yes</td>\n      <td>no</td>\n      <td>13</td>\n      <td>unknown</td>\n      <td>5.0</td>\n      <td>may</td>\n      <td>71.0</td>\n      <td>1.0</td>\n      <td>-1.0</td>\n      <td>0.0</td>\n      <td>unknown</td>\n      <td>no</td>\n    </tr>\n    <tr>\n      <th>14</th>\n      <td>57</td>\n      <td>services</td>\n      <td>married</td>\n      <td>secondary</td>\n      <td>no</td>\n      <td>162</td>\n      <td>yes</td>\n      <td>no</td>\n      <td>14</td>\n      <td>unknown</td>\n      <td>5.0</td>\n      <td>may</td>\n      <td>174.0</td>\n      <td>1.0</td>\n      <td>-1.0</td>\n      <td>0.0</td>\n      <td>unknown</td>\n      <td>no</td>\n    </tr>\n    <tr>\n      <th>15</th>\n      <td>51</td>\n      <td>retired</td>\n      <td>married</td>\n      <td>primary</td>\n      <td>no</td>\n      <td>229</td>\n      <td>yes</td>\n      <td>no</td>\n      <td>15</td>\n      <td>unknown</td>\n      <td>5.0</td>\n      <td>may</td>\n      <td>353.0</td>\n      <td>1.0</td>\n      <td>-1.0</td>\n      <td>0.0</td>\n      <td>unknown</td>\n      <td>no</td>\n    </tr>\n    <tr>\n      <th>16</th>\n      <td>45</td>\n      <td>admin.</td>\n      <td>single</td>\n      <td>unknown</td>\n      <td>no</td>\n      <td>13</td>\n      <td>yes</td>\n      <td>no</td>\n      <td>16</td>\n      <td>unknown</td>\n      <td>5.0</td>\n      <td>may</td>\n      <td>98.0</td>\n      <td>1.0</td>\n      <td>-1.0</td>\n      <td>0.0</td>\n      <td>unknown</td>\n      <td>no</td>\n    </tr>\n    <tr>\n      <th>17</th>\n      <td>57</td>\n      <td>blue-collar</td>\n      <td>married</td>\n      <td>primary</td>\n      <td>no</td>\n      <td>52</td>\n      <td>yes</td>\n      <td>no</td>\n      <td>17</td>\n      <td>unknown</td>\n      <td>5.0</td>\n      <td>may</td>\n      <td>38.0</td>\n      <td>1.0</td>\n      <td>-1.0</td>\n      <td>0.0</td>\n      <td>unknown</td>\n      <td>no</td>\n    </tr>\n    <tr>\n      <th>18</th>\n      <td>60</td>\n      <td>retired</td>\n      <td>married</td>\n      <td>primary</td>\n      <td>no</td>\n      <td>60</td>\n      <td>yes</td>\n      <td>no</td>\n      <td>18</td>\n      <td>unknown</td>\n      <td>5.0</td>\n      <td>may</td>\n      <td>219.0</td>\n      <td>1.0</td>\n      <td>-1.0</td>\n      <td>0.0</td>\n      <td>unknown</td>\n      <td>no</td>\n    </tr>\n    <tr>\n      <th>19</th>\n      <td>33</td>\n      <td>services</td>\n      <td>married</td>\n      <td>secondary</td>\n      <td>no</td>\n      <td>0</td>\n      <td>yes</td>\n      <td>no</td>\n      <td>19</td>\n      <td>unknown</td>\n      <td>5.0</td>\n      <td>may</td>\n      <td>54.0</td>\n      <td>1.0</td>\n      <td>-1.0</td>\n      <td>0.0</td>\n      <td>unknown</td>\n      <td>no</td>\n    </tr>\n    <tr>\n      <th>20</th>\n      <td>28</td>\n      <td>blue-collar</td>\n      <td>married</td>\n      <td>secondary</td>\n      <td>no</td>\n      <td>723</td>\n      <td>yes</td>\n      <td>yes</td>\n      <td>20</td>\n      <td>unknown</td>\n      <td>5.0</td>\n      <td>may</td>\n      <td>262.0</td>\n      <td>1.0</td>\n      <td>-1.0</td>\n      <td>0.0</td>\n      <td>unknown</td>\n      <td>no</td>\n    </tr>\n    <tr>\n      <th>21</th>\n      <td>56</td>\n      <td>management</td>\n      <td>married</td>\n      <td>tertiary</td>\n      <td>no</td>\n      <td>779</td>\n      <td>yes</td>\n      <td>no</td>\n      <td>21</td>\n      <td>NaN</td>\n      <td>NaN</td>\n      <td>NaN</td>\n      <td>NaN</td>\n      <td>NaN</td>\n      <td>NaN</td>\n      <td>NaN</td>\n      <td>NaN</td>\n      <td>NaN</td>\n    </tr>\n    <tr>\n      <th>22</th>\n      <td>32</td>\n      <td>blue-collar</td>\n      <td>single</td>\n      <td>primary</td>\n      <td>no</td>\n      <td>23</td>\n      <td>yes</td>\n      <td>yes</td>\n      <td>22</td>\n      <td>unknown</td>\n      <td>5.0</td>\n      <td>may</td>\n      <td>160.0</td>\n      <td>1.0</td>\n      <td>-1.0</td>\n      <td>0.0</td>\n      <td>unknown</td>\n      <td>no</td>\n    </tr>\n    <tr>\n      <th>23</th>\n      <td>25</td>\n      <td>services</td>\n      <td>married</td>\n      <td>secondary</td>\n      <td>no</td>\n      <td>50</td>\n      <td>yes</td>\n      <td>no</td>\n      <td>23</td>\n      <td>unknown</td>\n      <td>5.0</td>\n      <td>may</td>\n      <td>342.0</td>\n      <td>1.0</td>\n      <td>-1.0</td>\n      <td>0.0</td>\n      <td>unknown</td>\n      <td>no</td>\n    </tr>\n    <tr>\n      <th>24</th>\n      <td>40</td>\n      <td>retired</td>\n      <td>married</td>\n      <td>primary</td>\n      <td>no</td>\n      <td>0</td>\n      <td>yes</td>\n      <td>yes</td>\n      <td>24</td>\n      <td>unknown</td>\n      <td>5.0</td>\n      <td>may</td>\n      <td>181.0</td>\n      <td>1.0</td>\n      <td>-1.0</td>\n      <td>0.0</td>\n      <td>unknown</td>\n      <td>no</td>\n    </tr>\n    <tr>\n      <th>25</th>\n      <td>44</td>\n      <td>admin.</td>\n      <td>married</td>\n      <td>secondary</td>\n      <td>no</td>\n      <td>-372</td>\n      <td>yes</td>\n      <td>no</td>\n      <td>25</td>\n      <td>unknown</td>\n      <td>5.0</td>\n      <td>may</td>\n      <td>172.0</td>\n      <td>1.0</td>\n      <td>-1.0</td>\n      <td>0.0</td>\n      <td>unknown</td>\n      <td>no</td>\n    </tr>\n    <tr>\n      <th>26</th>\n      <td>39</td>\n      <td>management</td>\n      <td>single</td>\n      <td>tertiary</td>\n      <td>no</td>\n      <td>255</td>\n      <td>yes</td>\n      <td>no</td>\n      <td>26</td>\n      <td>unknown</td>\n      <td>5.0</td>\n      <td>may</td>\n      <td>296.0</td>\n      <td>1.0</td>\n      <td>-1.0</td>\n      <td>0.0</td>\n      <td>unknown</td>\n      <td>no</td>\n    </tr>\n    <tr>\n      <th>27</th>\n      <td>52</td>\n      <td>entrepreneur</td>\n      <td>married</td>\n      <td>secondary</td>\n      <td>no</td>\n      <td>113</td>\n      <td>yes</td>\n      <td>yes</td>\n      <td>27</td>\n      <td>unknown</td>\n      <td>5.0</td>\n      <td>may</td>\n      <td>127.0</td>\n      <td>1.0</td>\n      <td>-1.0</td>\n      <td>0.0</td>\n      <td>unknown</td>\n      <td>no</td>\n    </tr>\n    <tr>\n      <th>28</th>\n      <td>46</td>\n      <td>management</td>\n      <td>single</td>\n      <td>secondary</td>\n      <td>no</td>\n      <td>-246</td>\n      <td>yes</td>\n      <td>no</td>\n      <td>28</td>\n      <td>unknown</td>\n      <td>5.0</td>\n      <td>may</td>\n      <td>255.0</td>\n      <td>2.0</td>\n      <td>-1.0</td>\n      <td>0.0</td>\n      <td>unknown</td>\n      <td>no</td>\n    </tr>\n    <tr>\n      <th>29</th>\n      <td>36</td>\n      <td>technician</td>\n      <td>single</td>\n      <td>secondary</td>\n      <td>no</td>\n      <td>265</td>\n      <td>yes</td>\n      <td>yes</td>\n      <td>29</td>\n      <td>NaN</td>\n      <td>NaN</td>\n      <td>NaN</td>\n      <td>NaN</td>\n      <td>NaN</td>\n      <td>NaN</td>\n      <td>NaN</td>\n      <td>NaN</td>\n      <td>NaN</td>\n    </tr>\n    <tr>\n      <th>30</th>\n      <td>57</td>\n      <td>technician</td>\n      <td>married</td>\n      <td>secondary</td>\n      <td>no</td>\n      <td>839</td>\n      <td>no</td>\n      <td>yes</td>\n      <td>30</td>\n      <td>NaN</td>\n      <td>NaN</td>\n      <td>NaN</td>\n      <td>NaN</td>\n      <td>NaN</td>\n      <td>NaN</td>\n      <td>NaN</td>\n      <td>NaN</td>\n      <td>NaN</td>\n    </tr>\n    <tr>\n      <th>31</th>\n      <td>49</td>\n      <td>management</td>\n      <td>married</td>\n      <td>tertiary</td>\n      <td>no</td>\n      <td>378</td>\n      <td>yes</td>\n      <td>no</td>\n      <td>31</td>\n      <td>NaN</td>\n      <td>NaN</td>\n      <td>NaN</td>\n      <td>NaN</td>\n      <td>NaN</td>\n      <td>NaN</td>\n      <td>NaN</td>\n      <td>NaN</td>\n      <td>NaN</td>\n    </tr>\n    <tr>\n      <th>32</th>\n      <td>60</td>\n      <td>admin.</td>\n      <td>married</td>\n      <td>secondary</td>\n      <td>no</td>\n      <td>39</td>\n      <td>yes</td>\n      <td>yes</td>\n      <td>32</td>\n      <td>unknown</td>\n      <td>5.0</td>\n      <td>may</td>\n      <td>208.0</td>\n      <td>1.0</td>\n      <td>-1.0</td>\n      <td>0.0</td>\n      <td>unknown</td>\n      <td>no</td>\n    </tr>\n    <tr>\n      <th>33</th>\n      <td>59</td>\n      <td>blue-collar</td>\n      <td>married</td>\n      <td>secondary</td>\n      <td>no</td>\n      <td>0</td>\n      <td>yes</td>\n      <td>no</td>\n      <td>33</td>\n      <td>NaN</td>\n      <td>NaN</td>\n      <td>NaN</td>\n      <td>NaN</td>\n      <td>NaN</td>\n      <td>NaN</td>\n      <td>NaN</td>\n      <td>NaN</td>\n      <td>NaN</td>\n    </tr>\n    <tr>\n      <th>34</th>\n      <td>51</td>\n      <td>management</td>\n      <td>married</td>\n      <td>tertiary</td>\n      <td>no</td>\n      <td>10635</td>\n      <td>yes</td>\n      <td>no</td>\n      <td>34</td>\n      <td>unknown</td>\n      <td>5.0</td>\n      <td>may</td>\n      <td>336.0</td>\n      <td>1.0</td>\n      <td>-1.0</td>\n      <td>0.0</td>\n      <td>unknown</td>\n      <td>no</td>\n    </tr>\n    <tr>\n      <th>35</th>\n      <td>57</td>\n      <td>technician</td>\n      <td>divorced</td>\n      <td>secondary</td>\n      <td>no</td>\n      <td>63</td>\n      <td>yes</td>\n      <td>no</td>\n      <td>35</td>\n      <td>NaN</td>\n      <td>NaN</td>\n      <td>NaN</td>\n      <td>NaN</td>\n      <td>NaN</td>\n      <td>NaN</td>\n      <td>NaN</td>\n      <td>NaN</td>\n      <td>NaN</td>\n    </tr>\n    <tr>\n      <th>36</th>\n      <td>25</td>\n      <td>blue-collar</td>\n      <td>married</td>\n      <td>secondary</td>\n      <td>no</td>\n      <td>-7</td>\n      <td>yes</td>\n      <td>no</td>\n      <td>36</td>\n      <td>NaN</td>\n      <td>NaN</td>\n      <td>NaN</td>\n      <td>NaN</td>\n      <td>NaN</td>\n      <td>NaN</td>\n      <td>NaN</td>\n      <td>NaN</td>\n      <td>NaN</td>\n    </tr>\n    <tr>\n      <th>37</th>\n      <td>53</td>\n      <td>technician</td>\n      <td>married</td>\n      <td>secondary</td>\n      <td>no</td>\n      <td>-3</td>\n      <td>no</td>\n      <td>no</td>\n      <td>37</td>\n      <td>unknown</td>\n      <td>5.0</td>\n      <td>may</td>\n      <td>1666.0</td>\n      <td>1.0</td>\n      <td>-1.0</td>\n      <td>0.0</td>\n      <td>unknown</td>\n      <td>no</td>\n    </tr>\n    <tr>\n      <th>38</th>\n      <td>36</td>\n      <td>admin.</td>\n      <td>divorced</td>\n      <td>secondary</td>\n      <td>no</td>\n      <td>506</td>\n      <td>yes</td>\n      <td>no</td>\n      <td>38</td>\n      <td>NaN</td>\n      <td>NaN</td>\n      <td>NaN</td>\n      <td>NaN</td>\n      <td>NaN</td>\n      <td>NaN</td>\n      <td>NaN</td>\n      <td>NaN</td>\n      <td>NaN</td>\n    </tr>\n    <tr>\n      <th>39</th>\n      <td>37</td>\n      <td>admin.</td>\n      <td>single</td>\n      <td>secondary</td>\n      <td>no</td>\n      <td>0</td>\n      <td>yes</td>\n      <td>no</td>\n      <td>39</td>\n      <td>unknown</td>\n      <td>5.0</td>\n      <td>may</td>\n      <td>137.0</td>\n      <td>1.0</td>\n      <td>-1.0</td>\n      <td>0.0</td>\n      <td>unknown</td>\n      <td>no</td>\n    </tr>\n    <tr>\n      <th>40</th>\n      <td>44</td>\n      <td>services</td>\n      <td>divorced</td>\n      <td>secondary</td>\n      <td>no</td>\n      <td>2586</td>\n      <td>yes</td>\n      <td>no</td>\n      <td>40</td>\n      <td>unknown</td>\n      <td>5.0</td>\n      <td>may</td>\n      <td>160.0</td>\n      <td>1.0</td>\n      <td>-1.0</td>\n      <td>0.0</td>\n      <td>unknown</td>\n      <td>no</td>\n    </tr>\n    <tr>\n      <th>41</th>\n      <td>50</td>\n      <td>management</td>\n      <td>married</td>\n      <td>secondary</td>\n      <td>no</td>\n      <td>49</td>\n      <td>yes</td>\n      <td>no</td>\n      <td>41</td>\n      <td>unknown</td>\n      <td>5.0</td>\n      <td>may</td>\n      <td>180.0</td>\n      <td>2.0</td>\n      <td>-1.0</td>\n      <td>0.0</td>\n      <td>unknown</td>\n      <td>no</td>\n    </tr>\n    <tr>\n      <th>42</th>\n      <td>60</td>\n      <td>blue-collar</td>\n      <td>married</td>\n      <td>unknown</td>\n      <td>no</td>\n      <td>104</td>\n      <td>yes</td>\n      <td>no</td>\n      <td>42</td>\n      <td>NaN</td>\n      <td>NaN</td>\n      <td>NaN</td>\n      <td>NaN</td>\n      <td>NaN</td>\n      <td>NaN</td>\n      <td>NaN</td>\n      <td>NaN</td>\n      <td>NaN</td>\n    </tr>\n    <tr>\n      <th>43</th>\n      <td>54</td>\n      <td>retired</td>\n      <td>married</td>\n      <td>secondary</td>\n      <td>no</td>\n      <td>529</td>\n      <td>yes</td>\n      <td>no</td>\n      <td>43</td>\n      <td>unknown</td>\n      <td>5.0</td>\n      <td>may</td>\n      <td>1492.0</td>\n      <td>1.0</td>\n      <td>-1.0</td>\n      <td>0.0</td>\n      <td>unknown</td>\n      <td>no</td>\n    </tr>\n    <tr>\n      <th>44</th>\n      <td>58</td>\n      <td>retired</td>\n      <td>married</td>\n      <td>unknown</td>\n      <td>no</td>\n      <td>96</td>\n      <td>yes</td>\n      <td>no</td>\n      <td>44</td>\n      <td>unknown</td>\n      <td>5.0</td>\n      <td>may</td>\n      <td>616.0</td>\n      <td>1.0</td>\n      <td>-1.0</td>\n      <td>0.0</td>\n      <td>unknown</td>\n      <td>no</td>\n    </tr>\n    <tr>\n      <th>45</th>\n      <td>36</td>\n      <td>admin.</td>\n      <td>single</td>\n      <td>primary</td>\n      <td>no</td>\n      <td>-171</td>\n      <td>yes</td>\n      <td>no</td>\n      <td>45</td>\n      <td>unknown</td>\n      <td>5.0</td>\n      <td>may</td>\n      <td>242.0</td>\n      <td>1.0</td>\n      <td>-1.0</td>\n      <td>0.0</td>\n      <td>unknown</td>\n      <td>no</td>\n    </tr>\n    <tr>\n      <th>46</th>\n      <td>58</td>\n      <td>self-employed</td>\n      <td>married</td>\n      <td>tertiary</td>\n      <td>no</td>\n      <td>-364</td>\n      <td>yes</td>\n      <td>no</td>\n      <td>46</td>\n      <td>unknown</td>\n      <td>5.0</td>\n      <td>may</td>\n      <td>355.0</td>\n      <td>1.0</td>\n      <td>-1.0</td>\n      <td>0.0</td>\n      <td>unknown</td>\n      <td>no</td>\n    </tr>\n    <tr>\n      <th>47</th>\n      <td>44</td>\n      <td>technician</td>\n      <td>married</td>\n      <td>secondary</td>\n      <td>no</td>\n      <td>0</td>\n      <td>yes</td>\n      <td>no</td>\n      <td>47</td>\n      <td>unknown</td>\n      <td>5.0</td>\n      <td>may</td>\n      <td>225.0</td>\n      <td>2.0</td>\n      <td>-1.0</td>\n      <td>0.0</td>\n      <td>unknown</td>\n      <td>no</td>\n    </tr>\n    <tr>\n      <th>48</th>\n      <td>55</td>\n      <td>technician</td>\n      <td>divorced</td>\n      <td>secondary</td>\n      <td>no</td>\n      <td>0</td>\n      <td>no</td>\n      <td>no</td>\n      <td>48</td>\n      <td>NaN</td>\n      <td>NaN</td>\n      <td>NaN</td>\n      <td>NaN</td>\n      <td>NaN</td>\n      <td>NaN</td>\n      <td>NaN</td>\n      <td>NaN</td>\n      <td>NaN</td>\n    </tr>\n    <tr>\n      <th>49</th>\n      <td>29</td>\n      <td>management</td>\n      <td>single</td>\n      <td>tertiary</td>\n      <td>no</td>\n      <td>0</td>\n      <td>yes</td>\n      <td>no</td>\n      <td>49</td>\n      <td>NaN</td>\n      <td>NaN</td>\n      <td>NaN</td>\n      <td>NaN</td>\n      <td>NaN</td>\n      <td>NaN</td>\n      <td>NaN</td>\n      <td>NaN</td>\n      <td>NaN</td>\n    </tr>\n  </tbody>\n</table>\n</div>"
     },
     "execution_count": 4,
     "metadata": {},
     "output_type": "execute_result"
    }
   ],
   "source": [
    "complete_data_A = pd.read_csv('datasetsAB/bank_data_A.csv', sep=',')\n",
    "# 假设A和B是你的DataFrame，你想保留A中的重复列\n",
    "aligned_df = complete_data_A.merge(incomplete_data_B, left_index=True, right_index=True, how='outer', suffixes=('_keep', '_drop'))\n",
    "\n",
    "# 删除B中的重复列\n",
    "columns_to_drop = [column for column in aligned_df.columns if '_drop' in column]\n",
    "aligned_df = aligned_df.drop(columns_to_drop, axis=1)\n",
    "\n",
    "# 删除列名中的后缀\n",
    "aligned_df.columns = aligned_df.columns.str.replace('_keep', '')\n",
    "print(aligned_df.shape)\n",
    "aligned_df.head(50)"
   ],
   "metadata": {
    "collapsed": false,
    "pycharm": {
     "name": "#%%\n"
    }
   }
  },
  {
   "cell_type": "code",
   "execution_count": 5,
   "outputs": [
    {
     "data": {
      "text/plain": "       age  job  marital  education  default  balance  housing  loan  index  \\\n0        1    1        1          1        1        1        1     1      1   \n1        1    1        1          1        1        1        1     1      1   \n2        1    1        1          1        1        1        1     1      1   \n3        1    1        1          1        1        1        1     1      1   \n4        1    1        1          1        1        1        1     1      1   \n...    ...  ...      ...        ...      ...      ...      ...   ...    ...   \n45206    1    1        1          1        1        1        1     1      1   \n45207    1    1        1          1        1        1        1     1      1   \n45208    1    1        1          1        1        1        1     1      1   \n45209    1    1        1          1        1        1        1     1      1   \n45210    1    1        1          1        1        1        1     1      1   \n\n       contact  day  month  duration  campaign  pdays  previous  poutcome  y  \n0            1    1      1         1         1      1         1         1  1  \n1            1    1      1         1         1      1         1         1  1  \n2            1    1      1         1         1      1         1         1  1  \n3            0    0      0         0         0      0         0         0  0  \n4            0    0      0         0         0      0         0         0  0  \n...        ...  ...    ...       ...       ...    ...       ...       ... ..  \n45206        0    0      0         0         0      0         0         0  0  \n45207        1    1      1         1         1      1         1         1  1  \n45208        0    0      0         0         0      0         0         0  0  \n45209        0    0      0         0         0      0         0         0  0  \n45210        1    1      1         1         1      1         1         1  1  \n\n[45211 rows x 18 columns]",
      "text/html": "<div>\n<style scoped>\n    .dataframe tbody tr th:only-of-type {\n        vertical-align: middle;\n    }\n\n    .dataframe tbody tr th {\n        vertical-align: top;\n    }\n\n    .dataframe thead th {\n        text-align: right;\n    }\n</style>\n<table border=\"1\" class=\"dataframe\">\n  <thead>\n    <tr style=\"text-align: right;\">\n      <th></th>\n      <th>age</th>\n      <th>job</th>\n      <th>marital</th>\n      <th>education</th>\n      <th>default</th>\n      <th>balance</th>\n      <th>housing</th>\n      <th>loan</th>\n      <th>index</th>\n      <th>contact</th>\n      <th>day</th>\n      <th>month</th>\n      <th>duration</th>\n      <th>campaign</th>\n      <th>pdays</th>\n      <th>previous</th>\n      <th>poutcome</th>\n      <th>y</th>\n    </tr>\n  </thead>\n  <tbody>\n    <tr>\n      <th>0</th>\n      <td>1</td>\n      <td>1</td>\n      <td>1</td>\n      <td>1</td>\n      <td>1</td>\n      <td>1</td>\n      <td>1</td>\n      <td>1</td>\n      <td>1</td>\n      <td>1</td>\n      <td>1</td>\n      <td>1</td>\n      <td>1</td>\n      <td>1</td>\n      <td>1</td>\n      <td>1</td>\n      <td>1</td>\n      <td>1</td>\n    </tr>\n    <tr>\n      <th>1</th>\n      <td>1</td>\n      <td>1</td>\n      <td>1</td>\n      <td>1</td>\n      <td>1</td>\n      <td>1</td>\n      <td>1</td>\n      <td>1</td>\n      <td>1</td>\n      <td>1</td>\n      <td>1</td>\n      <td>1</td>\n      <td>1</td>\n      <td>1</td>\n      <td>1</td>\n      <td>1</td>\n      <td>1</td>\n      <td>1</td>\n    </tr>\n    <tr>\n      <th>2</th>\n      <td>1</td>\n      <td>1</td>\n      <td>1</td>\n      <td>1</td>\n      <td>1</td>\n      <td>1</td>\n      <td>1</td>\n      <td>1</td>\n      <td>1</td>\n      <td>1</td>\n      <td>1</td>\n      <td>1</td>\n      <td>1</td>\n      <td>1</td>\n      <td>1</td>\n      <td>1</td>\n      <td>1</td>\n      <td>1</td>\n    </tr>\n    <tr>\n      <th>3</th>\n      <td>1</td>\n      <td>1</td>\n      <td>1</td>\n      <td>1</td>\n      <td>1</td>\n      <td>1</td>\n      <td>1</td>\n      <td>1</td>\n      <td>1</td>\n      <td>0</td>\n      <td>0</td>\n      <td>0</td>\n      <td>0</td>\n      <td>0</td>\n      <td>0</td>\n      <td>0</td>\n      <td>0</td>\n      <td>0</td>\n    </tr>\n    <tr>\n      <th>4</th>\n      <td>1</td>\n      <td>1</td>\n      <td>1</td>\n      <td>1</td>\n      <td>1</td>\n      <td>1</td>\n      <td>1</td>\n      <td>1</td>\n      <td>1</td>\n      <td>0</td>\n      <td>0</td>\n      <td>0</td>\n      <td>0</td>\n      <td>0</td>\n      <td>0</td>\n      <td>0</td>\n      <td>0</td>\n      <td>0</td>\n    </tr>\n    <tr>\n      <th>...</th>\n      <td>...</td>\n      <td>...</td>\n      <td>...</td>\n      <td>...</td>\n      <td>...</td>\n      <td>...</td>\n      <td>...</td>\n      <td>...</td>\n      <td>...</td>\n      <td>...</td>\n      <td>...</td>\n      <td>...</td>\n      <td>...</td>\n      <td>...</td>\n      <td>...</td>\n      <td>...</td>\n      <td>...</td>\n      <td>...</td>\n    </tr>\n    <tr>\n      <th>45206</th>\n      <td>1</td>\n      <td>1</td>\n      <td>1</td>\n      <td>1</td>\n      <td>1</td>\n      <td>1</td>\n      <td>1</td>\n      <td>1</td>\n      <td>1</td>\n      <td>0</td>\n      <td>0</td>\n      <td>0</td>\n      <td>0</td>\n      <td>0</td>\n      <td>0</td>\n      <td>0</td>\n      <td>0</td>\n      <td>0</td>\n    </tr>\n    <tr>\n      <th>45207</th>\n      <td>1</td>\n      <td>1</td>\n      <td>1</td>\n      <td>1</td>\n      <td>1</td>\n      <td>1</td>\n      <td>1</td>\n      <td>1</td>\n      <td>1</td>\n      <td>1</td>\n      <td>1</td>\n      <td>1</td>\n      <td>1</td>\n      <td>1</td>\n      <td>1</td>\n      <td>1</td>\n      <td>1</td>\n      <td>1</td>\n    </tr>\n    <tr>\n      <th>45208</th>\n      <td>1</td>\n      <td>1</td>\n      <td>1</td>\n      <td>1</td>\n      <td>1</td>\n      <td>1</td>\n      <td>1</td>\n      <td>1</td>\n      <td>1</td>\n      <td>0</td>\n      <td>0</td>\n      <td>0</td>\n      <td>0</td>\n      <td>0</td>\n      <td>0</td>\n      <td>0</td>\n      <td>0</td>\n      <td>0</td>\n    </tr>\n    <tr>\n      <th>45209</th>\n      <td>1</td>\n      <td>1</td>\n      <td>1</td>\n      <td>1</td>\n      <td>1</td>\n      <td>1</td>\n      <td>1</td>\n      <td>1</td>\n      <td>1</td>\n      <td>0</td>\n      <td>0</td>\n      <td>0</td>\n      <td>0</td>\n      <td>0</td>\n      <td>0</td>\n      <td>0</td>\n      <td>0</td>\n      <td>0</td>\n    </tr>\n    <tr>\n      <th>45210</th>\n      <td>1</td>\n      <td>1</td>\n      <td>1</td>\n      <td>1</td>\n      <td>1</td>\n      <td>1</td>\n      <td>1</td>\n      <td>1</td>\n      <td>1</td>\n      <td>1</td>\n      <td>1</td>\n      <td>1</td>\n      <td>1</td>\n      <td>1</td>\n      <td>1</td>\n      <td>1</td>\n      <td>1</td>\n      <td>1</td>\n    </tr>\n  </tbody>\n</table>\n<p>45211 rows × 18 columns</p>\n</div>"
     },
     "execution_count": 5,
     "metadata": {},
     "output_type": "execute_result"
    }
   ],
   "source": [
    "# data_m = 1 - np.isnan(aligned_df.values)  # 创建掩模矩阵，标记缺失值位置\n",
    "# 创建掩码矩阵\n",
    "data_m = aligned_df.notnull().astype(int)\n",
    "data_m"
   ],
   "metadata": {
    "collapsed": false,
    "pycharm": {
     "name": "#%%\n"
    }
   }
  },
  {
   "cell_type": "code",
   "execution_count": 6,
   "outputs": [
    {
     "name": "stdout",
     "output_type": "stream",
     "text": [
      "(45211, 18)\n"
     ]
    },
    {
     "data": {
      "text/plain": "    age  balance  campaign    contact   day default  duration  education  \\\n0    58     2143       1.0    unknown   5.0      no     261.0   tertiary   \n1    44       29       1.0    unknown   5.0      no     151.0  secondary   \n2    33        2       1.0    unknown   5.0      no      76.0  secondary   \n3    47     1506       1.0   cellular  12.0      no     439.0    unknown   \n4    33        1       2.0   cellular  17.0      no     354.0    unknown   \n5    35      231       1.0    unknown   5.0      no     139.0   tertiary   \n6    28      447       1.0   cellular  17.0      no    1026.0   tertiary   \n7    42        2       2.0   cellular  20.0     yes      67.0   tertiary   \n8    58      121       1.0    unknown   5.0      no      50.0    primary   \n9    43      593       1.0    unknown   5.0      no      55.0  secondary   \n10   41      270       1.0    unknown   5.0      no     222.0  secondary   \n11   29      390       1.0    unknown   5.0      no     137.0  secondary   \n12   53        6       1.0    unknown   5.0      no     517.0  secondary   \n13   58       71       1.0    unknown   5.0      no      71.0    unknown   \n14   57      162       1.0    unknown   5.0      no     174.0  secondary   \n15   51      229       1.0    unknown   5.0      no     353.0    primary   \n16   45       13       1.0    unknown   5.0      no      98.0    unknown   \n17   57       52       1.0    unknown   5.0      no      38.0    primary   \n18   60       60       1.0    unknown   5.0      no     219.0    primary   \n19   33        0       1.0    unknown   5.0      no      54.0  secondary   \n20   28      723       1.0    unknown   5.0      no     262.0  secondary   \n21   56      779       4.0  telephone  15.0      no     371.0   tertiary   \n22   32       23       1.0    unknown   5.0      no     160.0    primary   \n23   25       50       1.0    unknown   5.0      no     342.0  secondary   \n24   40        0       1.0    unknown   5.0      no     181.0    primary   \n25   44     -372       1.0    unknown   5.0      no     172.0  secondary   \n26   39      255       1.0    unknown   5.0      no     296.0   tertiary   \n27   52      113       1.0    unknown   5.0      no     127.0  secondary   \n28   46     -246       2.0    unknown   5.0      no     255.0  secondary   \n29   36      265       4.0  telephone  32.0      no     313.0  secondary   \n30   57      839       2.0  telephone  11.0      no     763.0  secondary   \n31   49      378       1.0   cellular  19.0      no     343.0   tertiary   \n32   60       39       1.0    unknown   5.0      no     208.0  secondary   \n33   59        0       1.0   cellular  17.0      no     197.0  secondary   \n34   51    10635       1.0    unknown   5.0      no     336.0   tertiary   \n35   57       63       2.0   cellular  20.0      no    1371.0  secondary   \n36   25       -7       3.0   cellular   5.0      no     461.0  secondary   \n37   53       -3       1.0    unknown   5.0      no    1666.0  secondary   \n38   36      506       2.0   cellular  12.0      no     155.0  secondary   \n39   37        0       1.0    unknown   5.0      no     137.0  secondary   \n40   44     2586       1.0    unknown   5.0      no     160.0  secondary   \n41   50       49       2.0    unknown   5.0      no     180.0  secondary   \n42   60      104       1.0   cellular   0.0      no     436.0    unknown   \n43   54      529       1.0    unknown   5.0      no    1492.0  secondary   \n44   58       96       1.0    unknown   5.0      no     616.0    unknown   \n45   36     -171       1.0    unknown   5.0      no     242.0    primary   \n46   58     -364       1.0    unknown   5.0      no     355.0   tertiary   \n47   44        0       2.0    unknown   5.0      no     225.0  secondary   \n48   55        0       1.0    unknown  15.0      no     495.0  secondary   \n49   29        0       1.0   cellular  18.0      no     466.0   tertiary   \n\n   housing  index            job loan   marital month  pdays poutcome  \\\n0      yes      0     management   no   married   may   -1.0  unknown   \n1      yes      1     technician   no    single   may   -1.0  unknown   \n2      yes      2   entrepreneur  yes   married   may   -1.0  unknown   \n3      yes      3    blue-collar   no   married   jun  175.0  unknown   \n4       no      4        unknown   no    single   may   -2.0  unknown   \n5      yes      5     management   no   married   may   -1.0  unknown   \n6      yes      6     management  yes    single   may  162.0  unknown   \n7      yes      7   entrepreneur   no  divorced   jun   -2.0  failure   \n8      yes      8        retired   no   married   may   -1.0  unknown   \n9      yes      9     technician   no    single   may   -1.0  unknown   \n10     yes     10         admin.   no  divorced   may   -1.0  unknown   \n11     yes     11         admin.   no    single   may   -1.0  unknown   \n12     yes     12     technician   no   married   may   -1.0  unknown   \n13     yes     13     technician   no   married   may   -1.0  unknown   \n14     yes     14       services   no   married   may   -1.0  unknown   \n15     yes     15        retired   no   married   may   -1.0  unknown   \n16     yes     16         admin.   no    single   may   -1.0  unknown   \n17     yes     17    blue-collar   no   married   may   -1.0  unknown   \n18     yes     18        retired   no   married   may   -1.0  unknown   \n19     yes     19       services   no   married   may   -1.0  unknown   \n20     yes     20    blue-collar  yes   married   may   -1.0  unknown   \n21     yes     21     management   no   married   jul   -2.0  failure   \n22     yes     22    blue-collar  yes    single   may   -1.0  unknown   \n23     yes     23       services   no   married   may   -1.0  unknown   \n24     yes     24        retired  yes   married   may   -1.0  unknown   \n25     yes     25         admin.   no   married   may   -1.0  unknown   \n26     yes     26     management   no    single   may   -1.0  unknown   \n27     yes     27   entrepreneur  yes   married   may   -1.0  unknown   \n28     yes     28     management   no    single   may   -1.0  unknown   \n29     yes     29     technician  yes    single   jan  217.0    other   \n30      no     30     technician  yes   married   jul  299.0    other   \n31     yes     31     management   no   married   aug   -3.0  unknown   \n32     yes     32         admin.  yes   married   may   -1.0  unknown   \n33     yes     33    blue-collar   no   married   aug  163.0  unknown   \n34     yes     34     management   no   married   may   -1.0  unknown   \n35     yes     35     technician   no  divorced   aug   99.0  failure   \n36     yes     36    blue-collar   no   married   nov  196.0  failure   \n37      no     37     technician   no   married   may   -1.0  unknown   \n38     yes     38         admin.   no  divorced   may   -3.0  unknown   \n39     yes     39         admin.   no    single   may   -1.0  unknown   \n40     yes     40       services   no  divorced   may   -1.0  unknown   \n41     yes     41     management   no   married   may   -1.0  unknown   \n42     yes     42    blue-collar   no   married   nov   -4.0  failure   \n43     yes     43        retired   no   married   may   -1.0  unknown   \n44     yes     44        retired   no   married   may   -1.0  unknown   \n45     yes     45         admin.   no    single   may   -1.0  unknown   \n46     yes     46  self-employed   no   married   may   -1.0  unknown   \n47     yes     47     technician   no   married   may   -1.0  unknown   \n48      no     48     technician   no  divorced   nov   -2.0  unknown   \n49     yes     49     management   no    single   sep    1.0  unknown   \n\n    previous    y  \n0        0.0   no  \n1        0.0   no  \n2        0.0   no  \n3        0.0   no  \n4        1.0   no  \n5        0.0   no  \n6        0.0   no  \n7        0.0   no  \n8        0.0   no  \n9        0.0   no  \n10       0.0   no  \n11       0.0   no  \n12       0.0   no  \n13       0.0   no  \n14       0.0   no  \n15       0.0   no  \n16       0.0   no  \n17       0.0   no  \n18       0.0   no  \n19       0.0   no  \n20       0.0   no  \n21       1.0   no  \n22       0.0   no  \n23       0.0   no  \n24       0.0   no  \n25       0.0   no  \n26       0.0   no  \n27       0.0   no  \n28       0.0   no  \n29       0.0  yes  \n30       2.0  yes  \n31       1.0  yes  \n32       0.0   no  \n33       2.0   no  \n34       0.0   no  \n35       0.0   no  \n36       0.0   no  \n37       0.0   no  \n38       0.0   no  \n39       0.0   no  \n40       0.0   no  \n41       0.0   no  \n42       2.0   no  \n43       0.0   no  \n44       0.0   no  \n45       0.0   no  \n46       0.0   no  \n47       0.0   no  \n48       3.0   no  \n49       0.0   no  ",
      "text/html": "<div>\n<style scoped>\n    .dataframe tbody tr th:only-of-type {\n        vertical-align: middle;\n    }\n\n    .dataframe tbody tr th {\n        vertical-align: top;\n    }\n\n    .dataframe thead th {\n        text-align: right;\n    }\n</style>\n<table border=\"1\" class=\"dataframe\">\n  <thead>\n    <tr style=\"text-align: right;\">\n      <th></th>\n      <th>age</th>\n      <th>balance</th>\n      <th>campaign</th>\n      <th>contact</th>\n      <th>day</th>\n      <th>default</th>\n      <th>duration</th>\n      <th>education</th>\n      <th>housing</th>\n      <th>index</th>\n      <th>job</th>\n      <th>loan</th>\n      <th>marital</th>\n      <th>month</th>\n      <th>pdays</th>\n      <th>poutcome</th>\n      <th>previous</th>\n      <th>y</th>\n    </tr>\n  </thead>\n  <tbody>\n    <tr>\n      <th>0</th>\n      <td>58</td>\n      <td>2143</td>\n      <td>1.0</td>\n      <td>unknown</td>\n      <td>5.0</td>\n      <td>no</td>\n      <td>261.0</td>\n      <td>tertiary</td>\n      <td>yes</td>\n      <td>0</td>\n      <td>management</td>\n      <td>no</td>\n      <td>married</td>\n      <td>may</td>\n      <td>-1.0</td>\n      <td>unknown</td>\n      <td>0.0</td>\n      <td>no</td>\n    </tr>\n    <tr>\n      <th>1</th>\n      <td>44</td>\n      <td>29</td>\n      <td>1.0</td>\n      <td>unknown</td>\n      <td>5.0</td>\n      <td>no</td>\n      <td>151.0</td>\n      <td>secondary</td>\n      <td>yes</td>\n      <td>1</td>\n      <td>technician</td>\n      <td>no</td>\n      <td>single</td>\n      <td>may</td>\n      <td>-1.0</td>\n      <td>unknown</td>\n      <td>0.0</td>\n      <td>no</td>\n    </tr>\n    <tr>\n      <th>2</th>\n      <td>33</td>\n      <td>2</td>\n      <td>1.0</td>\n      <td>unknown</td>\n      <td>5.0</td>\n      <td>no</td>\n      <td>76.0</td>\n      <td>secondary</td>\n      <td>yes</td>\n      <td>2</td>\n      <td>entrepreneur</td>\n      <td>yes</td>\n      <td>married</td>\n      <td>may</td>\n      <td>-1.0</td>\n      <td>unknown</td>\n      <td>0.0</td>\n      <td>no</td>\n    </tr>\n    <tr>\n      <th>3</th>\n      <td>47</td>\n      <td>1506</td>\n      <td>1.0</td>\n      <td>cellular</td>\n      <td>12.0</td>\n      <td>no</td>\n      <td>439.0</td>\n      <td>unknown</td>\n      <td>yes</td>\n      <td>3</td>\n      <td>blue-collar</td>\n      <td>no</td>\n      <td>married</td>\n      <td>jun</td>\n      <td>175.0</td>\n      <td>unknown</td>\n      <td>0.0</td>\n      <td>no</td>\n    </tr>\n    <tr>\n      <th>4</th>\n      <td>33</td>\n      <td>1</td>\n      <td>2.0</td>\n      <td>cellular</td>\n      <td>17.0</td>\n      <td>no</td>\n      <td>354.0</td>\n      <td>unknown</td>\n      <td>no</td>\n      <td>4</td>\n      <td>unknown</td>\n      <td>no</td>\n      <td>single</td>\n      <td>may</td>\n      <td>-2.0</td>\n      <td>unknown</td>\n      <td>1.0</td>\n      <td>no</td>\n    </tr>\n    <tr>\n      <th>5</th>\n      <td>35</td>\n      <td>231</td>\n      <td>1.0</td>\n      <td>unknown</td>\n      <td>5.0</td>\n      <td>no</td>\n      <td>139.0</td>\n      <td>tertiary</td>\n      <td>yes</td>\n      <td>5</td>\n      <td>management</td>\n      <td>no</td>\n      <td>married</td>\n      <td>may</td>\n      <td>-1.0</td>\n      <td>unknown</td>\n      <td>0.0</td>\n      <td>no</td>\n    </tr>\n    <tr>\n      <th>6</th>\n      <td>28</td>\n      <td>447</td>\n      <td>1.0</td>\n      <td>cellular</td>\n      <td>17.0</td>\n      <td>no</td>\n      <td>1026.0</td>\n      <td>tertiary</td>\n      <td>yes</td>\n      <td>6</td>\n      <td>management</td>\n      <td>yes</td>\n      <td>single</td>\n      <td>may</td>\n      <td>162.0</td>\n      <td>unknown</td>\n      <td>0.0</td>\n      <td>no</td>\n    </tr>\n    <tr>\n      <th>7</th>\n      <td>42</td>\n      <td>2</td>\n      <td>2.0</td>\n      <td>cellular</td>\n      <td>20.0</td>\n      <td>yes</td>\n      <td>67.0</td>\n      <td>tertiary</td>\n      <td>yes</td>\n      <td>7</td>\n      <td>entrepreneur</td>\n      <td>no</td>\n      <td>divorced</td>\n      <td>jun</td>\n      <td>-2.0</td>\n      <td>failure</td>\n      <td>0.0</td>\n      <td>no</td>\n    </tr>\n    <tr>\n      <th>8</th>\n      <td>58</td>\n      <td>121</td>\n      <td>1.0</td>\n      <td>unknown</td>\n      <td>5.0</td>\n      <td>no</td>\n      <td>50.0</td>\n      <td>primary</td>\n      <td>yes</td>\n      <td>8</td>\n      <td>retired</td>\n      <td>no</td>\n      <td>married</td>\n      <td>may</td>\n      <td>-1.0</td>\n      <td>unknown</td>\n      <td>0.0</td>\n      <td>no</td>\n    </tr>\n    <tr>\n      <th>9</th>\n      <td>43</td>\n      <td>593</td>\n      <td>1.0</td>\n      <td>unknown</td>\n      <td>5.0</td>\n      <td>no</td>\n      <td>55.0</td>\n      <td>secondary</td>\n      <td>yes</td>\n      <td>9</td>\n      <td>technician</td>\n      <td>no</td>\n      <td>single</td>\n      <td>may</td>\n      <td>-1.0</td>\n      <td>unknown</td>\n      <td>0.0</td>\n      <td>no</td>\n    </tr>\n    <tr>\n      <th>10</th>\n      <td>41</td>\n      <td>270</td>\n      <td>1.0</td>\n      <td>unknown</td>\n      <td>5.0</td>\n      <td>no</td>\n      <td>222.0</td>\n      <td>secondary</td>\n      <td>yes</td>\n      <td>10</td>\n      <td>admin.</td>\n      <td>no</td>\n      <td>divorced</td>\n      <td>may</td>\n      <td>-1.0</td>\n      <td>unknown</td>\n      <td>0.0</td>\n      <td>no</td>\n    </tr>\n    <tr>\n      <th>11</th>\n      <td>29</td>\n      <td>390</td>\n      <td>1.0</td>\n      <td>unknown</td>\n      <td>5.0</td>\n      <td>no</td>\n      <td>137.0</td>\n      <td>secondary</td>\n      <td>yes</td>\n      <td>11</td>\n      <td>admin.</td>\n      <td>no</td>\n      <td>single</td>\n      <td>may</td>\n      <td>-1.0</td>\n      <td>unknown</td>\n      <td>0.0</td>\n      <td>no</td>\n    </tr>\n    <tr>\n      <th>12</th>\n      <td>53</td>\n      <td>6</td>\n      <td>1.0</td>\n      <td>unknown</td>\n      <td>5.0</td>\n      <td>no</td>\n      <td>517.0</td>\n      <td>secondary</td>\n      <td>yes</td>\n      <td>12</td>\n      <td>technician</td>\n      <td>no</td>\n      <td>married</td>\n      <td>may</td>\n      <td>-1.0</td>\n      <td>unknown</td>\n      <td>0.0</td>\n      <td>no</td>\n    </tr>\n    <tr>\n      <th>13</th>\n      <td>58</td>\n      <td>71</td>\n      <td>1.0</td>\n      <td>unknown</td>\n      <td>5.0</td>\n      <td>no</td>\n      <td>71.0</td>\n      <td>unknown</td>\n      <td>yes</td>\n      <td>13</td>\n      <td>technician</td>\n      <td>no</td>\n      <td>married</td>\n      <td>may</td>\n      <td>-1.0</td>\n      <td>unknown</td>\n      <td>0.0</td>\n      <td>no</td>\n    </tr>\n    <tr>\n      <th>14</th>\n      <td>57</td>\n      <td>162</td>\n      <td>1.0</td>\n      <td>unknown</td>\n      <td>5.0</td>\n      <td>no</td>\n      <td>174.0</td>\n      <td>secondary</td>\n      <td>yes</td>\n      <td>14</td>\n      <td>services</td>\n      <td>no</td>\n      <td>married</td>\n      <td>may</td>\n      <td>-1.0</td>\n      <td>unknown</td>\n      <td>0.0</td>\n      <td>no</td>\n    </tr>\n    <tr>\n      <th>15</th>\n      <td>51</td>\n      <td>229</td>\n      <td>1.0</td>\n      <td>unknown</td>\n      <td>5.0</td>\n      <td>no</td>\n      <td>353.0</td>\n      <td>primary</td>\n      <td>yes</td>\n      <td>15</td>\n      <td>retired</td>\n      <td>no</td>\n      <td>married</td>\n      <td>may</td>\n      <td>-1.0</td>\n      <td>unknown</td>\n      <td>0.0</td>\n      <td>no</td>\n    </tr>\n    <tr>\n      <th>16</th>\n      <td>45</td>\n      <td>13</td>\n      <td>1.0</td>\n      <td>unknown</td>\n      <td>5.0</td>\n      <td>no</td>\n      <td>98.0</td>\n      <td>unknown</td>\n      <td>yes</td>\n      <td>16</td>\n      <td>admin.</td>\n      <td>no</td>\n      <td>single</td>\n      <td>may</td>\n      <td>-1.0</td>\n      <td>unknown</td>\n      <td>0.0</td>\n      <td>no</td>\n    </tr>\n    <tr>\n      <th>17</th>\n      <td>57</td>\n      <td>52</td>\n      <td>1.0</td>\n      <td>unknown</td>\n      <td>5.0</td>\n      <td>no</td>\n      <td>38.0</td>\n      <td>primary</td>\n      <td>yes</td>\n      <td>17</td>\n      <td>blue-collar</td>\n      <td>no</td>\n      <td>married</td>\n      <td>may</td>\n      <td>-1.0</td>\n      <td>unknown</td>\n      <td>0.0</td>\n      <td>no</td>\n    </tr>\n    <tr>\n      <th>18</th>\n      <td>60</td>\n      <td>60</td>\n      <td>1.0</td>\n      <td>unknown</td>\n      <td>5.0</td>\n      <td>no</td>\n      <td>219.0</td>\n      <td>primary</td>\n      <td>yes</td>\n      <td>18</td>\n      <td>retired</td>\n      <td>no</td>\n      <td>married</td>\n      <td>may</td>\n      <td>-1.0</td>\n      <td>unknown</td>\n      <td>0.0</td>\n      <td>no</td>\n    </tr>\n    <tr>\n      <th>19</th>\n      <td>33</td>\n      <td>0</td>\n      <td>1.0</td>\n      <td>unknown</td>\n      <td>5.0</td>\n      <td>no</td>\n      <td>54.0</td>\n      <td>secondary</td>\n      <td>yes</td>\n      <td>19</td>\n      <td>services</td>\n      <td>no</td>\n      <td>married</td>\n      <td>may</td>\n      <td>-1.0</td>\n      <td>unknown</td>\n      <td>0.0</td>\n      <td>no</td>\n    </tr>\n    <tr>\n      <th>20</th>\n      <td>28</td>\n      <td>723</td>\n      <td>1.0</td>\n      <td>unknown</td>\n      <td>5.0</td>\n      <td>no</td>\n      <td>262.0</td>\n      <td>secondary</td>\n      <td>yes</td>\n      <td>20</td>\n      <td>blue-collar</td>\n      <td>yes</td>\n      <td>married</td>\n      <td>may</td>\n      <td>-1.0</td>\n      <td>unknown</td>\n      <td>0.0</td>\n      <td>no</td>\n    </tr>\n    <tr>\n      <th>21</th>\n      <td>56</td>\n      <td>779</td>\n      <td>4.0</td>\n      <td>telephone</td>\n      <td>15.0</td>\n      <td>no</td>\n      <td>371.0</td>\n      <td>tertiary</td>\n      <td>yes</td>\n      <td>21</td>\n      <td>management</td>\n      <td>no</td>\n      <td>married</td>\n      <td>jul</td>\n      <td>-2.0</td>\n      <td>failure</td>\n      <td>1.0</td>\n      <td>no</td>\n    </tr>\n    <tr>\n      <th>22</th>\n      <td>32</td>\n      <td>23</td>\n      <td>1.0</td>\n      <td>unknown</td>\n      <td>5.0</td>\n      <td>no</td>\n      <td>160.0</td>\n      <td>primary</td>\n      <td>yes</td>\n      <td>22</td>\n      <td>blue-collar</td>\n      <td>yes</td>\n      <td>single</td>\n      <td>may</td>\n      <td>-1.0</td>\n      <td>unknown</td>\n      <td>0.0</td>\n      <td>no</td>\n    </tr>\n    <tr>\n      <th>23</th>\n      <td>25</td>\n      <td>50</td>\n      <td>1.0</td>\n      <td>unknown</td>\n      <td>5.0</td>\n      <td>no</td>\n      <td>342.0</td>\n      <td>secondary</td>\n      <td>yes</td>\n      <td>23</td>\n      <td>services</td>\n      <td>no</td>\n      <td>married</td>\n      <td>may</td>\n      <td>-1.0</td>\n      <td>unknown</td>\n      <td>0.0</td>\n      <td>no</td>\n    </tr>\n    <tr>\n      <th>24</th>\n      <td>40</td>\n      <td>0</td>\n      <td>1.0</td>\n      <td>unknown</td>\n      <td>5.0</td>\n      <td>no</td>\n      <td>181.0</td>\n      <td>primary</td>\n      <td>yes</td>\n      <td>24</td>\n      <td>retired</td>\n      <td>yes</td>\n      <td>married</td>\n      <td>may</td>\n      <td>-1.0</td>\n      <td>unknown</td>\n      <td>0.0</td>\n      <td>no</td>\n    </tr>\n    <tr>\n      <th>25</th>\n      <td>44</td>\n      <td>-372</td>\n      <td>1.0</td>\n      <td>unknown</td>\n      <td>5.0</td>\n      <td>no</td>\n      <td>172.0</td>\n      <td>secondary</td>\n      <td>yes</td>\n      <td>25</td>\n      <td>admin.</td>\n      <td>no</td>\n      <td>married</td>\n      <td>may</td>\n      <td>-1.0</td>\n      <td>unknown</td>\n      <td>0.0</td>\n      <td>no</td>\n    </tr>\n    <tr>\n      <th>26</th>\n      <td>39</td>\n      <td>255</td>\n      <td>1.0</td>\n      <td>unknown</td>\n      <td>5.0</td>\n      <td>no</td>\n      <td>296.0</td>\n      <td>tertiary</td>\n      <td>yes</td>\n      <td>26</td>\n      <td>management</td>\n      <td>no</td>\n      <td>single</td>\n      <td>may</td>\n      <td>-1.0</td>\n      <td>unknown</td>\n      <td>0.0</td>\n      <td>no</td>\n    </tr>\n    <tr>\n      <th>27</th>\n      <td>52</td>\n      <td>113</td>\n      <td>1.0</td>\n      <td>unknown</td>\n      <td>5.0</td>\n      <td>no</td>\n      <td>127.0</td>\n      <td>secondary</td>\n      <td>yes</td>\n      <td>27</td>\n      <td>entrepreneur</td>\n      <td>yes</td>\n      <td>married</td>\n      <td>may</td>\n      <td>-1.0</td>\n      <td>unknown</td>\n      <td>0.0</td>\n      <td>no</td>\n    </tr>\n    <tr>\n      <th>28</th>\n      <td>46</td>\n      <td>-246</td>\n      <td>2.0</td>\n      <td>unknown</td>\n      <td>5.0</td>\n      <td>no</td>\n      <td>255.0</td>\n      <td>secondary</td>\n      <td>yes</td>\n      <td>28</td>\n      <td>management</td>\n      <td>no</td>\n      <td>single</td>\n      <td>may</td>\n      <td>-1.0</td>\n      <td>unknown</td>\n      <td>0.0</td>\n      <td>no</td>\n    </tr>\n    <tr>\n      <th>29</th>\n      <td>36</td>\n      <td>265</td>\n      <td>4.0</td>\n      <td>telephone</td>\n      <td>32.0</td>\n      <td>no</td>\n      <td>313.0</td>\n      <td>secondary</td>\n      <td>yes</td>\n      <td>29</td>\n      <td>technician</td>\n      <td>yes</td>\n      <td>single</td>\n      <td>jan</td>\n      <td>217.0</td>\n      <td>other</td>\n      <td>0.0</td>\n      <td>yes</td>\n    </tr>\n    <tr>\n      <th>30</th>\n      <td>57</td>\n      <td>839</td>\n      <td>2.0</td>\n      <td>telephone</td>\n      <td>11.0</td>\n      <td>no</td>\n      <td>763.0</td>\n      <td>secondary</td>\n      <td>no</td>\n      <td>30</td>\n      <td>technician</td>\n      <td>yes</td>\n      <td>married</td>\n      <td>jul</td>\n      <td>299.0</td>\n      <td>other</td>\n      <td>2.0</td>\n      <td>yes</td>\n    </tr>\n    <tr>\n      <th>31</th>\n      <td>49</td>\n      <td>378</td>\n      <td>1.0</td>\n      <td>cellular</td>\n      <td>19.0</td>\n      <td>no</td>\n      <td>343.0</td>\n      <td>tertiary</td>\n      <td>yes</td>\n      <td>31</td>\n      <td>management</td>\n      <td>no</td>\n      <td>married</td>\n      <td>aug</td>\n      <td>-3.0</td>\n      <td>unknown</td>\n      <td>1.0</td>\n      <td>yes</td>\n    </tr>\n    <tr>\n      <th>32</th>\n      <td>60</td>\n      <td>39</td>\n      <td>1.0</td>\n      <td>unknown</td>\n      <td>5.0</td>\n      <td>no</td>\n      <td>208.0</td>\n      <td>secondary</td>\n      <td>yes</td>\n      <td>32</td>\n      <td>admin.</td>\n      <td>yes</td>\n      <td>married</td>\n      <td>may</td>\n      <td>-1.0</td>\n      <td>unknown</td>\n      <td>0.0</td>\n      <td>no</td>\n    </tr>\n    <tr>\n      <th>33</th>\n      <td>59</td>\n      <td>0</td>\n      <td>1.0</td>\n      <td>cellular</td>\n      <td>17.0</td>\n      <td>no</td>\n      <td>197.0</td>\n      <td>secondary</td>\n      <td>yes</td>\n      <td>33</td>\n      <td>blue-collar</td>\n      <td>no</td>\n      <td>married</td>\n      <td>aug</td>\n      <td>163.0</td>\n      <td>unknown</td>\n      <td>2.0</td>\n      <td>no</td>\n    </tr>\n    <tr>\n      <th>34</th>\n      <td>51</td>\n      <td>10635</td>\n      <td>1.0</td>\n      <td>unknown</td>\n      <td>5.0</td>\n      <td>no</td>\n      <td>336.0</td>\n      <td>tertiary</td>\n      <td>yes</td>\n      <td>34</td>\n      <td>management</td>\n      <td>no</td>\n      <td>married</td>\n      <td>may</td>\n      <td>-1.0</td>\n      <td>unknown</td>\n      <td>0.0</td>\n      <td>no</td>\n    </tr>\n    <tr>\n      <th>35</th>\n      <td>57</td>\n      <td>63</td>\n      <td>2.0</td>\n      <td>cellular</td>\n      <td>20.0</td>\n      <td>no</td>\n      <td>1371.0</td>\n      <td>secondary</td>\n      <td>yes</td>\n      <td>35</td>\n      <td>technician</td>\n      <td>no</td>\n      <td>divorced</td>\n      <td>aug</td>\n      <td>99.0</td>\n      <td>failure</td>\n      <td>0.0</td>\n      <td>no</td>\n    </tr>\n    <tr>\n      <th>36</th>\n      <td>25</td>\n      <td>-7</td>\n      <td>3.0</td>\n      <td>cellular</td>\n      <td>5.0</td>\n      <td>no</td>\n      <td>461.0</td>\n      <td>secondary</td>\n      <td>yes</td>\n      <td>36</td>\n      <td>blue-collar</td>\n      <td>no</td>\n      <td>married</td>\n      <td>nov</td>\n      <td>196.0</td>\n      <td>failure</td>\n      <td>0.0</td>\n      <td>no</td>\n    </tr>\n    <tr>\n      <th>37</th>\n      <td>53</td>\n      <td>-3</td>\n      <td>1.0</td>\n      <td>unknown</td>\n      <td>5.0</td>\n      <td>no</td>\n      <td>1666.0</td>\n      <td>secondary</td>\n      <td>no</td>\n      <td>37</td>\n      <td>technician</td>\n      <td>no</td>\n      <td>married</td>\n      <td>may</td>\n      <td>-1.0</td>\n      <td>unknown</td>\n      <td>0.0</td>\n      <td>no</td>\n    </tr>\n    <tr>\n      <th>38</th>\n      <td>36</td>\n      <td>506</td>\n      <td>2.0</td>\n      <td>cellular</td>\n      <td>12.0</td>\n      <td>no</td>\n      <td>155.0</td>\n      <td>secondary</td>\n      <td>yes</td>\n      <td>38</td>\n      <td>admin.</td>\n      <td>no</td>\n      <td>divorced</td>\n      <td>may</td>\n      <td>-3.0</td>\n      <td>unknown</td>\n      <td>0.0</td>\n      <td>no</td>\n    </tr>\n    <tr>\n      <th>39</th>\n      <td>37</td>\n      <td>0</td>\n      <td>1.0</td>\n      <td>unknown</td>\n      <td>5.0</td>\n      <td>no</td>\n      <td>137.0</td>\n      <td>secondary</td>\n      <td>yes</td>\n      <td>39</td>\n      <td>admin.</td>\n      <td>no</td>\n      <td>single</td>\n      <td>may</td>\n      <td>-1.0</td>\n      <td>unknown</td>\n      <td>0.0</td>\n      <td>no</td>\n    </tr>\n    <tr>\n      <th>40</th>\n      <td>44</td>\n      <td>2586</td>\n      <td>1.0</td>\n      <td>unknown</td>\n      <td>5.0</td>\n      <td>no</td>\n      <td>160.0</td>\n      <td>secondary</td>\n      <td>yes</td>\n      <td>40</td>\n      <td>services</td>\n      <td>no</td>\n      <td>divorced</td>\n      <td>may</td>\n      <td>-1.0</td>\n      <td>unknown</td>\n      <td>0.0</td>\n      <td>no</td>\n    </tr>\n    <tr>\n      <th>41</th>\n      <td>50</td>\n      <td>49</td>\n      <td>2.0</td>\n      <td>unknown</td>\n      <td>5.0</td>\n      <td>no</td>\n      <td>180.0</td>\n      <td>secondary</td>\n      <td>yes</td>\n      <td>41</td>\n      <td>management</td>\n      <td>no</td>\n      <td>married</td>\n      <td>may</td>\n      <td>-1.0</td>\n      <td>unknown</td>\n      <td>0.0</td>\n      <td>no</td>\n    </tr>\n    <tr>\n      <th>42</th>\n      <td>60</td>\n      <td>104</td>\n      <td>1.0</td>\n      <td>cellular</td>\n      <td>0.0</td>\n      <td>no</td>\n      <td>436.0</td>\n      <td>unknown</td>\n      <td>yes</td>\n      <td>42</td>\n      <td>blue-collar</td>\n      <td>no</td>\n      <td>married</td>\n      <td>nov</td>\n      <td>-4.0</td>\n      <td>failure</td>\n      <td>2.0</td>\n      <td>no</td>\n    </tr>\n    <tr>\n      <th>43</th>\n      <td>54</td>\n      <td>529</td>\n      <td>1.0</td>\n      <td>unknown</td>\n      <td>5.0</td>\n      <td>no</td>\n      <td>1492.0</td>\n      <td>secondary</td>\n      <td>yes</td>\n      <td>43</td>\n      <td>retired</td>\n      <td>no</td>\n      <td>married</td>\n      <td>may</td>\n      <td>-1.0</td>\n      <td>unknown</td>\n      <td>0.0</td>\n      <td>no</td>\n    </tr>\n    <tr>\n      <th>44</th>\n      <td>58</td>\n      <td>96</td>\n      <td>1.0</td>\n      <td>unknown</td>\n      <td>5.0</td>\n      <td>no</td>\n      <td>616.0</td>\n      <td>unknown</td>\n      <td>yes</td>\n      <td>44</td>\n      <td>retired</td>\n      <td>no</td>\n      <td>married</td>\n      <td>may</td>\n      <td>-1.0</td>\n      <td>unknown</td>\n      <td>0.0</td>\n      <td>no</td>\n    </tr>\n    <tr>\n      <th>45</th>\n      <td>36</td>\n      <td>-171</td>\n      <td>1.0</td>\n      <td>unknown</td>\n      <td>5.0</td>\n      <td>no</td>\n      <td>242.0</td>\n      <td>primary</td>\n      <td>yes</td>\n      <td>45</td>\n      <td>admin.</td>\n      <td>no</td>\n      <td>single</td>\n      <td>may</td>\n      <td>-1.0</td>\n      <td>unknown</td>\n      <td>0.0</td>\n      <td>no</td>\n    </tr>\n    <tr>\n      <th>46</th>\n      <td>58</td>\n      <td>-364</td>\n      <td>1.0</td>\n      <td>unknown</td>\n      <td>5.0</td>\n      <td>no</td>\n      <td>355.0</td>\n      <td>tertiary</td>\n      <td>yes</td>\n      <td>46</td>\n      <td>self-employed</td>\n      <td>no</td>\n      <td>married</td>\n      <td>may</td>\n      <td>-1.0</td>\n      <td>unknown</td>\n      <td>0.0</td>\n      <td>no</td>\n    </tr>\n    <tr>\n      <th>47</th>\n      <td>44</td>\n      <td>0</td>\n      <td>2.0</td>\n      <td>unknown</td>\n      <td>5.0</td>\n      <td>no</td>\n      <td>225.0</td>\n      <td>secondary</td>\n      <td>yes</td>\n      <td>47</td>\n      <td>technician</td>\n      <td>no</td>\n      <td>married</td>\n      <td>may</td>\n      <td>-1.0</td>\n      <td>unknown</td>\n      <td>0.0</td>\n      <td>no</td>\n    </tr>\n    <tr>\n      <th>48</th>\n      <td>55</td>\n      <td>0</td>\n      <td>1.0</td>\n      <td>unknown</td>\n      <td>15.0</td>\n      <td>no</td>\n      <td>495.0</td>\n      <td>secondary</td>\n      <td>no</td>\n      <td>48</td>\n      <td>technician</td>\n      <td>no</td>\n      <td>divorced</td>\n      <td>nov</td>\n      <td>-2.0</td>\n      <td>unknown</td>\n      <td>3.0</td>\n      <td>no</td>\n    </tr>\n    <tr>\n      <th>49</th>\n      <td>29</td>\n      <td>0</td>\n      <td>1.0</td>\n      <td>cellular</td>\n      <td>18.0</td>\n      <td>no</td>\n      <td>466.0</td>\n      <td>tertiary</td>\n      <td>yes</td>\n      <td>49</td>\n      <td>management</td>\n      <td>no</td>\n      <td>single</td>\n      <td>sep</td>\n      <td>1.0</td>\n      <td>unknown</td>\n      <td>0.0</td>\n      <td>no</td>\n    </tr>\n  </tbody>\n</table>\n</div>"
     },
     "execution_count": 6,
     "metadata": {},
     "output_type": "execute_result"
    }
   ],
   "source": [
    "# 将生成的数据集与原有的数据集合并\n",
    "# 假设df1和df2是你的两个DataFrame\n",
    "aligned_df_new = aligned_df.combine_first(synthetic_data)\n",
    "print(aligned_df_new.shape)\n",
    "aligned_df_new.head(50)"
   ],
   "metadata": {
    "collapsed": false,
    "pycharm": {
     "name": "#%%\n"
    }
   }
  },
  {
   "cell_type": "markdown",
   "source": [
    "# 获得原始数据集"
   ],
   "metadata": {
    "collapsed": false
   }
  },
  {
   "cell_type": "code",
   "execution_count": 7,
   "outputs": [
    {
     "name": "stdout",
     "output_type": "stream",
     "text": [
      "(45211, 18)\n"
     ]
    },
    {
     "data": {
      "text/plain": "   age           job   marital  education default  balance housing loan  \\\n0   58    management   married   tertiary      no     2143     yes   no   \n1   44    technician    single  secondary      no       29     yes   no   \n2   33  entrepreneur   married  secondary      no        2     yes  yes   \n3   47   blue-collar   married    unknown      no     1506     yes   no   \n4   33       unknown    single    unknown      no        1      no   no   \n5   35    management   married   tertiary      no      231     yes   no   \n6   28    management    single   tertiary      no      447     yes  yes   \n7   42  entrepreneur  divorced   tertiary     yes        2     yes   no   \n8   58       retired   married    primary      no      121     yes   no   \n9   43    technician    single  secondary      no      593     yes   no   \n\n   contact  day month  duration  campaign  pdays  previous poutcome   y  index  \n0  unknown    5   may       261         1     -1         0  unknown  no      0  \n1  unknown    5   may       151         1     -1         0  unknown  no      1  \n2  unknown    5   may        76         1     -1         0  unknown  no      2  \n3  unknown    5   may        92         1     -1         0  unknown  no      3  \n4  unknown    5   may       198         1     -1         0  unknown  no      4  \n5  unknown    5   may       139         1     -1         0  unknown  no      5  \n6  unknown    5   may       217         1     -1         0  unknown  no      6  \n7  unknown    5   may       380         1     -1         0  unknown  no      7  \n8  unknown    5   may        50         1     -1         0  unknown  no      8  \n9  unknown    5   may        55         1     -1         0  unknown  no      9  ",
      "text/html": "<div>\n<style scoped>\n    .dataframe tbody tr th:only-of-type {\n        vertical-align: middle;\n    }\n\n    .dataframe tbody tr th {\n        vertical-align: top;\n    }\n\n    .dataframe thead th {\n        text-align: right;\n    }\n</style>\n<table border=\"1\" class=\"dataframe\">\n  <thead>\n    <tr style=\"text-align: right;\">\n      <th></th>\n      <th>age</th>\n      <th>job</th>\n      <th>marital</th>\n      <th>education</th>\n      <th>default</th>\n      <th>balance</th>\n      <th>housing</th>\n      <th>loan</th>\n      <th>contact</th>\n      <th>day</th>\n      <th>month</th>\n      <th>duration</th>\n      <th>campaign</th>\n      <th>pdays</th>\n      <th>previous</th>\n      <th>poutcome</th>\n      <th>y</th>\n      <th>index</th>\n    </tr>\n  </thead>\n  <tbody>\n    <tr>\n      <th>0</th>\n      <td>58</td>\n      <td>management</td>\n      <td>married</td>\n      <td>tertiary</td>\n      <td>no</td>\n      <td>2143</td>\n      <td>yes</td>\n      <td>no</td>\n      <td>unknown</td>\n      <td>5</td>\n      <td>may</td>\n      <td>261</td>\n      <td>1</td>\n      <td>-1</td>\n      <td>0</td>\n      <td>unknown</td>\n      <td>no</td>\n      <td>0</td>\n    </tr>\n    <tr>\n      <th>1</th>\n      <td>44</td>\n      <td>technician</td>\n      <td>single</td>\n      <td>secondary</td>\n      <td>no</td>\n      <td>29</td>\n      <td>yes</td>\n      <td>no</td>\n      <td>unknown</td>\n      <td>5</td>\n      <td>may</td>\n      <td>151</td>\n      <td>1</td>\n      <td>-1</td>\n      <td>0</td>\n      <td>unknown</td>\n      <td>no</td>\n      <td>1</td>\n    </tr>\n    <tr>\n      <th>2</th>\n      <td>33</td>\n      <td>entrepreneur</td>\n      <td>married</td>\n      <td>secondary</td>\n      <td>no</td>\n      <td>2</td>\n      <td>yes</td>\n      <td>yes</td>\n      <td>unknown</td>\n      <td>5</td>\n      <td>may</td>\n      <td>76</td>\n      <td>1</td>\n      <td>-1</td>\n      <td>0</td>\n      <td>unknown</td>\n      <td>no</td>\n      <td>2</td>\n    </tr>\n    <tr>\n      <th>3</th>\n      <td>47</td>\n      <td>blue-collar</td>\n      <td>married</td>\n      <td>unknown</td>\n      <td>no</td>\n      <td>1506</td>\n      <td>yes</td>\n      <td>no</td>\n      <td>unknown</td>\n      <td>5</td>\n      <td>may</td>\n      <td>92</td>\n      <td>1</td>\n      <td>-1</td>\n      <td>0</td>\n      <td>unknown</td>\n      <td>no</td>\n      <td>3</td>\n    </tr>\n    <tr>\n      <th>4</th>\n      <td>33</td>\n      <td>unknown</td>\n      <td>single</td>\n      <td>unknown</td>\n      <td>no</td>\n      <td>1</td>\n      <td>no</td>\n      <td>no</td>\n      <td>unknown</td>\n      <td>5</td>\n      <td>may</td>\n      <td>198</td>\n      <td>1</td>\n      <td>-1</td>\n      <td>0</td>\n      <td>unknown</td>\n      <td>no</td>\n      <td>4</td>\n    </tr>\n    <tr>\n      <th>5</th>\n      <td>35</td>\n      <td>management</td>\n      <td>married</td>\n      <td>tertiary</td>\n      <td>no</td>\n      <td>231</td>\n      <td>yes</td>\n      <td>no</td>\n      <td>unknown</td>\n      <td>5</td>\n      <td>may</td>\n      <td>139</td>\n      <td>1</td>\n      <td>-1</td>\n      <td>0</td>\n      <td>unknown</td>\n      <td>no</td>\n      <td>5</td>\n    </tr>\n    <tr>\n      <th>6</th>\n      <td>28</td>\n      <td>management</td>\n      <td>single</td>\n      <td>tertiary</td>\n      <td>no</td>\n      <td>447</td>\n      <td>yes</td>\n      <td>yes</td>\n      <td>unknown</td>\n      <td>5</td>\n      <td>may</td>\n      <td>217</td>\n      <td>1</td>\n      <td>-1</td>\n      <td>0</td>\n      <td>unknown</td>\n      <td>no</td>\n      <td>6</td>\n    </tr>\n    <tr>\n      <th>7</th>\n      <td>42</td>\n      <td>entrepreneur</td>\n      <td>divorced</td>\n      <td>tertiary</td>\n      <td>yes</td>\n      <td>2</td>\n      <td>yes</td>\n      <td>no</td>\n      <td>unknown</td>\n      <td>5</td>\n      <td>may</td>\n      <td>380</td>\n      <td>1</td>\n      <td>-1</td>\n      <td>0</td>\n      <td>unknown</td>\n      <td>no</td>\n      <td>7</td>\n    </tr>\n    <tr>\n      <th>8</th>\n      <td>58</td>\n      <td>retired</td>\n      <td>married</td>\n      <td>primary</td>\n      <td>no</td>\n      <td>121</td>\n      <td>yes</td>\n      <td>no</td>\n      <td>unknown</td>\n      <td>5</td>\n      <td>may</td>\n      <td>50</td>\n      <td>1</td>\n      <td>-1</td>\n      <td>0</td>\n      <td>unknown</td>\n      <td>no</td>\n      <td>8</td>\n    </tr>\n    <tr>\n      <th>9</th>\n      <td>43</td>\n      <td>technician</td>\n      <td>single</td>\n      <td>secondary</td>\n      <td>no</td>\n      <td>593</td>\n      <td>yes</td>\n      <td>no</td>\n      <td>unknown</td>\n      <td>5</td>\n      <td>may</td>\n      <td>55</td>\n      <td>1</td>\n      <td>-1</td>\n      <td>0</td>\n      <td>unknown</td>\n      <td>no</td>\n      <td>9</td>\n    </tr>\n  </tbody>\n</table>\n</div>"
     },
     "execution_count": 7,
     "metadata": {},
     "output_type": "execute_result"
    }
   ],
   "source": [
    "# 假设bank_data是原始数据集\n",
    "bank_data = pd.read_csv('datasets/bank.csv',sep=';')\n",
    "bank_data['index']=range(0,len(bank_data))\n",
    "print(bank_data.shape)\n",
    "bank_data.head(10)"
   ],
   "metadata": {
    "collapsed": false,
    "pycharm": {
     "name": "#%%\n"
    }
   }
  },
  {
   "cell_type": "code",
   "execution_count": 8,
   "outputs": [
    {
     "data": {
      "text/plain": "    age            job   marital  education default  balance housing loan  \\\n0    58     management   married   tertiary      no     2143     yes   no   \n1    44     technician    single  secondary      no       29     yes   no   \n2    33   entrepreneur   married  secondary      no        2     yes  yes   \n3    47    blue-collar   married    unknown      no     1506     yes   no   \n4    33        unknown    single    unknown      no        1      no   no   \n5    35     management   married   tertiary      no      231     yes   no   \n6    28     management    single   tertiary      no      447     yes  yes   \n7    42   entrepreneur  divorced   tertiary     yes        2     yes   no   \n8    58        retired   married    primary      no      121     yes   no   \n9    43     technician    single  secondary      no      593     yes   no   \n10   41         admin.  divorced  secondary      no      270     yes   no   \n11   29         admin.    single  secondary      no      390     yes   no   \n12   53     technician   married  secondary      no        6     yes   no   \n13   58     technician   married    unknown      no       71     yes   no   \n14   57       services   married  secondary      no      162     yes   no   \n15   51        retired   married    primary      no      229     yes   no   \n16   45         admin.    single    unknown      no       13     yes   no   \n17   57    blue-collar   married    primary      no       52     yes   no   \n18   60        retired   married    primary      no       60     yes   no   \n19   33       services   married  secondary      no        0     yes   no   \n20   28    blue-collar   married  secondary      no      723     yes  yes   \n21   56     management   married   tertiary      no      779     yes   no   \n22   32    blue-collar    single    primary      no       23     yes  yes   \n23   25       services   married  secondary      no       50     yes   no   \n24   40        retired   married    primary      no        0     yes  yes   \n25   44         admin.   married  secondary      no     -372     yes   no   \n26   39     management    single   tertiary      no      255     yes   no   \n27   52   entrepreneur   married  secondary      no      113     yes  yes   \n28   46     management    single  secondary      no     -246     yes   no   \n29   36     technician    single  secondary      no      265     yes  yes   \n30   57     technician   married  secondary      no      839      no  yes   \n31   49     management   married   tertiary      no      378     yes   no   \n32   60         admin.   married  secondary      no       39     yes  yes   \n33   59    blue-collar   married  secondary      no        0     yes   no   \n34   51     management   married   tertiary      no    10635     yes   no   \n35   57     technician  divorced  secondary      no       63     yes   no   \n36   25    blue-collar   married  secondary      no       -7     yes   no   \n37   53     technician   married  secondary      no       -3      no   no   \n38   36         admin.  divorced  secondary      no      506     yes   no   \n39   37         admin.    single  secondary      no        0     yes   no   \n40   44       services  divorced  secondary      no     2586     yes   no   \n41   50     management   married  secondary      no       49     yes   no   \n42   60    blue-collar   married    unknown      no      104     yes   no   \n43   54        retired   married  secondary      no      529     yes   no   \n44   58        retired   married    unknown      no       96     yes   no   \n45   36         admin.    single    primary      no     -171     yes   no   \n46   58  self-employed   married   tertiary      no     -364     yes   no   \n47   44     technician   married  secondary      no        0     yes   no   \n48   55     technician  divorced  secondary      no        0      no   no   \n49   29     management    single   tertiary      no        0     yes   no   \n\n      contact   day month  duration  campaign  pdays  previous poutcome    y  \\\n0     unknown   5.0   may     261.0       1.0   -1.0       0.0  unknown   no   \n1     unknown   5.0   may     151.0       1.0   -1.0       0.0  unknown   no   \n2     unknown   5.0   may      76.0       1.0   -1.0       0.0  unknown   no   \n3    cellular  12.0   jun     439.0       1.0  175.0       0.0  unknown   no   \n4    cellular  17.0   may     354.0       2.0   -2.0       1.0  unknown   no   \n5     unknown   5.0   may     139.0       1.0   -1.0       0.0  unknown   no   \n6    cellular  17.0   may    1026.0       1.0  162.0       0.0  unknown   no   \n7    cellular  20.0   jun      67.0       2.0   -2.0       0.0  failure   no   \n8     unknown   5.0   may      50.0       1.0   -1.0       0.0  unknown   no   \n9     unknown   5.0   may      55.0       1.0   -1.0       0.0  unknown   no   \n10    unknown   5.0   may     222.0       1.0   -1.0       0.0  unknown   no   \n11    unknown   5.0   may     137.0       1.0   -1.0       0.0  unknown   no   \n12    unknown   5.0   may     517.0       1.0   -1.0       0.0  unknown   no   \n13    unknown   5.0   may      71.0       1.0   -1.0       0.0  unknown   no   \n14    unknown   5.0   may     174.0       1.0   -1.0       0.0  unknown   no   \n15    unknown   5.0   may     353.0       1.0   -1.0       0.0  unknown   no   \n16    unknown   5.0   may      98.0       1.0   -1.0       0.0  unknown   no   \n17    unknown   5.0   may      38.0       1.0   -1.0       0.0  unknown   no   \n18    unknown   5.0   may     219.0       1.0   -1.0       0.0  unknown   no   \n19    unknown   5.0   may      54.0       1.0   -1.0       0.0  unknown   no   \n20    unknown   5.0   may     262.0       1.0   -1.0       0.0  unknown   no   \n21  telephone  15.0   jul     371.0       4.0   -2.0       1.0  failure   no   \n22    unknown   5.0   may     160.0       1.0   -1.0       0.0  unknown   no   \n23    unknown   5.0   may     342.0       1.0   -1.0       0.0  unknown   no   \n24    unknown   5.0   may     181.0       1.0   -1.0       0.0  unknown   no   \n25    unknown   5.0   may     172.0       1.0   -1.0       0.0  unknown   no   \n26    unknown   5.0   may     296.0       1.0   -1.0       0.0  unknown   no   \n27    unknown   5.0   may     127.0       1.0   -1.0       0.0  unknown   no   \n28    unknown   5.0   may     255.0       2.0   -1.0       0.0  unknown   no   \n29  telephone  32.0   jan     313.0       4.0  217.0       0.0    other  yes   \n30  telephone  11.0   jul     763.0       2.0  299.0       2.0    other  yes   \n31   cellular  19.0   aug     343.0       1.0   -3.0       1.0  unknown  yes   \n32    unknown   5.0   may     208.0       1.0   -1.0       0.0  unknown   no   \n33   cellular  17.0   aug     197.0       1.0  163.0       2.0  unknown   no   \n34    unknown   5.0   may     336.0       1.0   -1.0       0.0  unknown   no   \n35   cellular  20.0   aug    1371.0       2.0   99.0       0.0  failure   no   \n36   cellular   5.0   nov     461.0       3.0  196.0       0.0  failure   no   \n37    unknown   5.0   may    1666.0       1.0   -1.0       0.0  unknown   no   \n38   cellular  12.0   may     155.0       2.0   -3.0       0.0  unknown   no   \n39    unknown   5.0   may     137.0       1.0   -1.0       0.0  unknown   no   \n40    unknown   5.0   may     160.0       1.0   -1.0       0.0  unknown   no   \n41    unknown   5.0   may     180.0       2.0   -1.0       0.0  unknown   no   \n42   cellular   0.0   nov     436.0       1.0   -4.0       2.0  failure   no   \n43    unknown   5.0   may    1492.0       1.0   -1.0       0.0  unknown   no   \n44    unknown   5.0   may     616.0       1.0   -1.0       0.0  unknown   no   \n45    unknown   5.0   may     242.0       1.0   -1.0       0.0  unknown   no   \n46    unknown   5.0   may     355.0       1.0   -1.0       0.0  unknown   no   \n47    unknown   5.0   may     225.0       2.0   -1.0       0.0  unknown   no   \n48    unknown  15.0   nov     495.0       1.0   -2.0       3.0  unknown   no   \n49   cellular  18.0   sep     466.0       1.0    1.0       0.0  unknown   no   \n\n    index  \n0       0  \n1       1  \n2       2  \n3       3  \n4       4  \n5       5  \n6       6  \n7       7  \n8       8  \n9       9  \n10     10  \n11     11  \n12     12  \n13     13  \n14     14  \n15     15  \n16     16  \n17     17  \n18     18  \n19     19  \n20     20  \n21     21  \n22     22  \n23     23  \n24     24  \n25     25  \n26     26  \n27     27  \n28     28  \n29     29  \n30     30  \n31     31  \n32     32  \n33     33  \n34     34  \n35     35  \n36     36  \n37     37  \n38     38  \n39     39  \n40     40  \n41     41  \n42     42  \n43     43  \n44     44  \n45     45  \n46     46  \n47     47  \n48     48  \n49     49  ",
      "text/html": "<div>\n<style scoped>\n    .dataframe tbody tr th:only-of-type {\n        vertical-align: middle;\n    }\n\n    .dataframe tbody tr th {\n        vertical-align: top;\n    }\n\n    .dataframe thead th {\n        text-align: right;\n    }\n</style>\n<table border=\"1\" class=\"dataframe\">\n  <thead>\n    <tr style=\"text-align: right;\">\n      <th></th>\n      <th>age</th>\n      <th>job</th>\n      <th>marital</th>\n      <th>education</th>\n      <th>default</th>\n      <th>balance</th>\n      <th>housing</th>\n      <th>loan</th>\n      <th>contact</th>\n      <th>day</th>\n      <th>month</th>\n      <th>duration</th>\n      <th>campaign</th>\n      <th>pdays</th>\n      <th>previous</th>\n      <th>poutcome</th>\n      <th>y</th>\n      <th>index</th>\n    </tr>\n  </thead>\n  <tbody>\n    <tr>\n      <th>0</th>\n      <td>58</td>\n      <td>management</td>\n      <td>married</td>\n      <td>tertiary</td>\n      <td>no</td>\n      <td>2143</td>\n      <td>yes</td>\n      <td>no</td>\n      <td>unknown</td>\n      <td>5.0</td>\n      <td>may</td>\n      <td>261.0</td>\n      <td>1.0</td>\n      <td>-1.0</td>\n      <td>0.0</td>\n      <td>unknown</td>\n      <td>no</td>\n      <td>0</td>\n    </tr>\n    <tr>\n      <th>1</th>\n      <td>44</td>\n      <td>technician</td>\n      <td>single</td>\n      <td>secondary</td>\n      <td>no</td>\n      <td>29</td>\n      <td>yes</td>\n      <td>no</td>\n      <td>unknown</td>\n      <td>5.0</td>\n      <td>may</td>\n      <td>151.0</td>\n      <td>1.0</td>\n      <td>-1.0</td>\n      <td>0.0</td>\n      <td>unknown</td>\n      <td>no</td>\n      <td>1</td>\n    </tr>\n    <tr>\n      <th>2</th>\n      <td>33</td>\n      <td>entrepreneur</td>\n      <td>married</td>\n      <td>secondary</td>\n      <td>no</td>\n      <td>2</td>\n      <td>yes</td>\n      <td>yes</td>\n      <td>unknown</td>\n      <td>5.0</td>\n      <td>may</td>\n      <td>76.0</td>\n      <td>1.0</td>\n      <td>-1.0</td>\n      <td>0.0</td>\n      <td>unknown</td>\n      <td>no</td>\n      <td>2</td>\n    </tr>\n    <tr>\n      <th>3</th>\n      <td>47</td>\n      <td>blue-collar</td>\n      <td>married</td>\n      <td>unknown</td>\n      <td>no</td>\n      <td>1506</td>\n      <td>yes</td>\n      <td>no</td>\n      <td>cellular</td>\n      <td>12.0</td>\n      <td>jun</td>\n      <td>439.0</td>\n      <td>1.0</td>\n      <td>175.0</td>\n      <td>0.0</td>\n      <td>unknown</td>\n      <td>no</td>\n      <td>3</td>\n    </tr>\n    <tr>\n      <th>4</th>\n      <td>33</td>\n      <td>unknown</td>\n      <td>single</td>\n      <td>unknown</td>\n      <td>no</td>\n      <td>1</td>\n      <td>no</td>\n      <td>no</td>\n      <td>cellular</td>\n      <td>17.0</td>\n      <td>may</td>\n      <td>354.0</td>\n      <td>2.0</td>\n      <td>-2.0</td>\n      <td>1.0</td>\n      <td>unknown</td>\n      <td>no</td>\n      <td>4</td>\n    </tr>\n    <tr>\n      <th>5</th>\n      <td>35</td>\n      <td>management</td>\n      <td>married</td>\n      <td>tertiary</td>\n      <td>no</td>\n      <td>231</td>\n      <td>yes</td>\n      <td>no</td>\n      <td>unknown</td>\n      <td>5.0</td>\n      <td>may</td>\n      <td>139.0</td>\n      <td>1.0</td>\n      <td>-1.0</td>\n      <td>0.0</td>\n      <td>unknown</td>\n      <td>no</td>\n      <td>5</td>\n    </tr>\n    <tr>\n      <th>6</th>\n      <td>28</td>\n      <td>management</td>\n      <td>single</td>\n      <td>tertiary</td>\n      <td>no</td>\n      <td>447</td>\n      <td>yes</td>\n      <td>yes</td>\n      <td>cellular</td>\n      <td>17.0</td>\n      <td>may</td>\n      <td>1026.0</td>\n      <td>1.0</td>\n      <td>162.0</td>\n      <td>0.0</td>\n      <td>unknown</td>\n      <td>no</td>\n      <td>6</td>\n    </tr>\n    <tr>\n      <th>7</th>\n      <td>42</td>\n      <td>entrepreneur</td>\n      <td>divorced</td>\n      <td>tertiary</td>\n      <td>yes</td>\n      <td>2</td>\n      <td>yes</td>\n      <td>no</td>\n      <td>cellular</td>\n      <td>20.0</td>\n      <td>jun</td>\n      <td>67.0</td>\n      <td>2.0</td>\n      <td>-2.0</td>\n      <td>0.0</td>\n      <td>failure</td>\n      <td>no</td>\n      <td>7</td>\n    </tr>\n    <tr>\n      <th>8</th>\n      <td>58</td>\n      <td>retired</td>\n      <td>married</td>\n      <td>primary</td>\n      <td>no</td>\n      <td>121</td>\n      <td>yes</td>\n      <td>no</td>\n      <td>unknown</td>\n      <td>5.0</td>\n      <td>may</td>\n      <td>50.0</td>\n      <td>1.0</td>\n      <td>-1.0</td>\n      <td>0.0</td>\n      <td>unknown</td>\n      <td>no</td>\n      <td>8</td>\n    </tr>\n    <tr>\n      <th>9</th>\n      <td>43</td>\n      <td>technician</td>\n      <td>single</td>\n      <td>secondary</td>\n      <td>no</td>\n      <td>593</td>\n      <td>yes</td>\n      <td>no</td>\n      <td>unknown</td>\n      <td>5.0</td>\n      <td>may</td>\n      <td>55.0</td>\n      <td>1.0</td>\n      <td>-1.0</td>\n      <td>0.0</td>\n      <td>unknown</td>\n      <td>no</td>\n      <td>9</td>\n    </tr>\n    <tr>\n      <th>10</th>\n      <td>41</td>\n      <td>admin.</td>\n      <td>divorced</td>\n      <td>secondary</td>\n      <td>no</td>\n      <td>270</td>\n      <td>yes</td>\n      <td>no</td>\n      <td>unknown</td>\n      <td>5.0</td>\n      <td>may</td>\n      <td>222.0</td>\n      <td>1.0</td>\n      <td>-1.0</td>\n      <td>0.0</td>\n      <td>unknown</td>\n      <td>no</td>\n      <td>10</td>\n    </tr>\n    <tr>\n      <th>11</th>\n      <td>29</td>\n      <td>admin.</td>\n      <td>single</td>\n      <td>secondary</td>\n      <td>no</td>\n      <td>390</td>\n      <td>yes</td>\n      <td>no</td>\n      <td>unknown</td>\n      <td>5.0</td>\n      <td>may</td>\n      <td>137.0</td>\n      <td>1.0</td>\n      <td>-1.0</td>\n      <td>0.0</td>\n      <td>unknown</td>\n      <td>no</td>\n      <td>11</td>\n    </tr>\n    <tr>\n      <th>12</th>\n      <td>53</td>\n      <td>technician</td>\n      <td>married</td>\n      <td>secondary</td>\n      <td>no</td>\n      <td>6</td>\n      <td>yes</td>\n      <td>no</td>\n      <td>unknown</td>\n      <td>5.0</td>\n      <td>may</td>\n      <td>517.0</td>\n      <td>1.0</td>\n      <td>-1.0</td>\n      <td>0.0</td>\n      <td>unknown</td>\n      <td>no</td>\n      <td>12</td>\n    </tr>\n    <tr>\n      <th>13</th>\n      <td>58</td>\n      <td>technician</td>\n      <td>married</td>\n      <td>unknown</td>\n      <td>no</td>\n      <td>71</td>\n      <td>yes</td>\n      <td>no</td>\n      <td>unknown</td>\n      <td>5.0</td>\n      <td>may</td>\n      <td>71.0</td>\n      <td>1.0</td>\n      <td>-1.0</td>\n      <td>0.0</td>\n      <td>unknown</td>\n      <td>no</td>\n      <td>13</td>\n    </tr>\n    <tr>\n      <th>14</th>\n      <td>57</td>\n      <td>services</td>\n      <td>married</td>\n      <td>secondary</td>\n      <td>no</td>\n      <td>162</td>\n      <td>yes</td>\n      <td>no</td>\n      <td>unknown</td>\n      <td>5.0</td>\n      <td>may</td>\n      <td>174.0</td>\n      <td>1.0</td>\n      <td>-1.0</td>\n      <td>0.0</td>\n      <td>unknown</td>\n      <td>no</td>\n      <td>14</td>\n    </tr>\n    <tr>\n      <th>15</th>\n      <td>51</td>\n      <td>retired</td>\n      <td>married</td>\n      <td>primary</td>\n      <td>no</td>\n      <td>229</td>\n      <td>yes</td>\n      <td>no</td>\n      <td>unknown</td>\n      <td>5.0</td>\n      <td>may</td>\n      <td>353.0</td>\n      <td>1.0</td>\n      <td>-1.0</td>\n      <td>0.0</td>\n      <td>unknown</td>\n      <td>no</td>\n      <td>15</td>\n    </tr>\n    <tr>\n      <th>16</th>\n      <td>45</td>\n      <td>admin.</td>\n      <td>single</td>\n      <td>unknown</td>\n      <td>no</td>\n      <td>13</td>\n      <td>yes</td>\n      <td>no</td>\n      <td>unknown</td>\n      <td>5.0</td>\n      <td>may</td>\n      <td>98.0</td>\n      <td>1.0</td>\n      <td>-1.0</td>\n      <td>0.0</td>\n      <td>unknown</td>\n      <td>no</td>\n      <td>16</td>\n    </tr>\n    <tr>\n      <th>17</th>\n      <td>57</td>\n      <td>blue-collar</td>\n      <td>married</td>\n      <td>primary</td>\n      <td>no</td>\n      <td>52</td>\n      <td>yes</td>\n      <td>no</td>\n      <td>unknown</td>\n      <td>5.0</td>\n      <td>may</td>\n      <td>38.0</td>\n      <td>1.0</td>\n      <td>-1.0</td>\n      <td>0.0</td>\n      <td>unknown</td>\n      <td>no</td>\n      <td>17</td>\n    </tr>\n    <tr>\n      <th>18</th>\n      <td>60</td>\n      <td>retired</td>\n      <td>married</td>\n      <td>primary</td>\n      <td>no</td>\n      <td>60</td>\n      <td>yes</td>\n      <td>no</td>\n      <td>unknown</td>\n      <td>5.0</td>\n      <td>may</td>\n      <td>219.0</td>\n      <td>1.0</td>\n      <td>-1.0</td>\n      <td>0.0</td>\n      <td>unknown</td>\n      <td>no</td>\n      <td>18</td>\n    </tr>\n    <tr>\n      <th>19</th>\n      <td>33</td>\n      <td>services</td>\n      <td>married</td>\n      <td>secondary</td>\n      <td>no</td>\n      <td>0</td>\n      <td>yes</td>\n      <td>no</td>\n      <td>unknown</td>\n      <td>5.0</td>\n      <td>may</td>\n      <td>54.0</td>\n      <td>1.0</td>\n      <td>-1.0</td>\n      <td>0.0</td>\n      <td>unknown</td>\n      <td>no</td>\n      <td>19</td>\n    </tr>\n    <tr>\n      <th>20</th>\n      <td>28</td>\n      <td>blue-collar</td>\n      <td>married</td>\n      <td>secondary</td>\n      <td>no</td>\n      <td>723</td>\n      <td>yes</td>\n      <td>yes</td>\n      <td>unknown</td>\n      <td>5.0</td>\n      <td>may</td>\n      <td>262.0</td>\n      <td>1.0</td>\n      <td>-1.0</td>\n      <td>0.0</td>\n      <td>unknown</td>\n      <td>no</td>\n      <td>20</td>\n    </tr>\n    <tr>\n      <th>21</th>\n      <td>56</td>\n      <td>management</td>\n      <td>married</td>\n      <td>tertiary</td>\n      <td>no</td>\n      <td>779</td>\n      <td>yes</td>\n      <td>no</td>\n      <td>telephone</td>\n      <td>15.0</td>\n      <td>jul</td>\n      <td>371.0</td>\n      <td>4.0</td>\n      <td>-2.0</td>\n      <td>1.0</td>\n      <td>failure</td>\n      <td>no</td>\n      <td>21</td>\n    </tr>\n    <tr>\n      <th>22</th>\n      <td>32</td>\n      <td>blue-collar</td>\n      <td>single</td>\n      <td>primary</td>\n      <td>no</td>\n      <td>23</td>\n      <td>yes</td>\n      <td>yes</td>\n      <td>unknown</td>\n      <td>5.0</td>\n      <td>may</td>\n      <td>160.0</td>\n      <td>1.0</td>\n      <td>-1.0</td>\n      <td>0.0</td>\n      <td>unknown</td>\n      <td>no</td>\n      <td>22</td>\n    </tr>\n    <tr>\n      <th>23</th>\n      <td>25</td>\n      <td>services</td>\n      <td>married</td>\n      <td>secondary</td>\n      <td>no</td>\n      <td>50</td>\n      <td>yes</td>\n      <td>no</td>\n      <td>unknown</td>\n      <td>5.0</td>\n      <td>may</td>\n      <td>342.0</td>\n      <td>1.0</td>\n      <td>-1.0</td>\n      <td>0.0</td>\n      <td>unknown</td>\n      <td>no</td>\n      <td>23</td>\n    </tr>\n    <tr>\n      <th>24</th>\n      <td>40</td>\n      <td>retired</td>\n      <td>married</td>\n      <td>primary</td>\n      <td>no</td>\n      <td>0</td>\n      <td>yes</td>\n      <td>yes</td>\n      <td>unknown</td>\n      <td>5.0</td>\n      <td>may</td>\n      <td>181.0</td>\n      <td>1.0</td>\n      <td>-1.0</td>\n      <td>0.0</td>\n      <td>unknown</td>\n      <td>no</td>\n      <td>24</td>\n    </tr>\n    <tr>\n      <th>25</th>\n      <td>44</td>\n      <td>admin.</td>\n      <td>married</td>\n      <td>secondary</td>\n      <td>no</td>\n      <td>-372</td>\n      <td>yes</td>\n      <td>no</td>\n      <td>unknown</td>\n      <td>5.0</td>\n      <td>may</td>\n      <td>172.0</td>\n      <td>1.0</td>\n      <td>-1.0</td>\n      <td>0.0</td>\n      <td>unknown</td>\n      <td>no</td>\n      <td>25</td>\n    </tr>\n    <tr>\n      <th>26</th>\n      <td>39</td>\n      <td>management</td>\n      <td>single</td>\n      <td>tertiary</td>\n      <td>no</td>\n      <td>255</td>\n      <td>yes</td>\n      <td>no</td>\n      <td>unknown</td>\n      <td>5.0</td>\n      <td>may</td>\n      <td>296.0</td>\n      <td>1.0</td>\n      <td>-1.0</td>\n      <td>0.0</td>\n      <td>unknown</td>\n      <td>no</td>\n      <td>26</td>\n    </tr>\n    <tr>\n      <th>27</th>\n      <td>52</td>\n      <td>entrepreneur</td>\n      <td>married</td>\n      <td>secondary</td>\n      <td>no</td>\n      <td>113</td>\n      <td>yes</td>\n      <td>yes</td>\n      <td>unknown</td>\n      <td>5.0</td>\n      <td>may</td>\n      <td>127.0</td>\n      <td>1.0</td>\n      <td>-1.0</td>\n      <td>0.0</td>\n      <td>unknown</td>\n      <td>no</td>\n      <td>27</td>\n    </tr>\n    <tr>\n      <th>28</th>\n      <td>46</td>\n      <td>management</td>\n      <td>single</td>\n      <td>secondary</td>\n      <td>no</td>\n      <td>-246</td>\n      <td>yes</td>\n      <td>no</td>\n      <td>unknown</td>\n      <td>5.0</td>\n      <td>may</td>\n      <td>255.0</td>\n      <td>2.0</td>\n      <td>-1.0</td>\n      <td>0.0</td>\n      <td>unknown</td>\n      <td>no</td>\n      <td>28</td>\n    </tr>\n    <tr>\n      <th>29</th>\n      <td>36</td>\n      <td>technician</td>\n      <td>single</td>\n      <td>secondary</td>\n      <td>no</td>\n      <td>265</td>\n      <td>yes</td>\n      <td>yes</td>\n      <td>telephone</td>\n      <td>32.0</td>\n      <td>jan</td>\n      <td>313.0</td>\n      <td>4.0</td>\n      <td>217.0</td>\n      <td>0.0</td>\n      <td>other</td>\n      <td>yes</td>\n      <td>29</td>\n    </tr>\n    <tr>\n      <th>30</th>\n      <td>57</td>\n      <td>technician</td>\n      <td>married</td>\n      <td>secondary</td>\n      <td>no</td>\n      <td>839</td>\n      <td>no</td>\n      <td>yes</td>\n      <td>telephone</td>\n      <td>11.0</td>\n      <td>jul</td>\n      <td>763.0</td>\n      <td>2.0</td>\n      <td>299.0</td>\n      <td>2.0</td>\n      <td>other</td>\n      <td>yes</td>\n      <td>30</td>\n    </tr>\n    <tr>\n      <th>31</th>\n      <td>49</td>\n      <td>management</td>\n      <td>married</td>\n      <td>tertiary</td>\n      <td>no</td>\n      <td>378</td>\n      <td>yes</td>\n      <td>no</td>\n      <td>cellular</td>\n      <td>19.0</td>\n      <td>aug</td>\n      <td>343.0</td>\n      <td>1.0</td>\n      <td>-3.0</td>\n      <td>1.0</td>\n      <td>unknown</td>\n      <td>yes</td>\n      <td>31</td>\n    </tr>\n    <tr>\n      <th>32</th>\n      <td>60</td>\n      <td>admin.</td>\n      <td>married</td>\n      <td>secondary</td>\n      <td>no</td>\n      <td>39</td>\n      <td>yes</td>\n      <td>yes</td>\n      <td>unknown</td>\n      <td>5.0</td>\n      <td>may</td>\n      <td>208.0</td>\n      <td>1.0</td>\n      <td>-1.0</td>\n      <td>0.0</td>\n      <td>unknown</td>\n      <td>no</td>\n      <td>32</td>\n    </tr>\n    <tr>\n      <th>33</th>\n      <td>59</td>\n      <td>blue-collar</td>\n      <td>married</td>\n      <td>secondary</td>\n      <td>no</td>\n      <td>0</td>\n      <td>yes</td>\n      <td>no</td>\n      <td>cellular</td>\n      <td>17.0</td>\n      <td>aug</td>\n      <td>197.0</td>\n      <td>1.0</td>\n      <td>163.0</td>\n      <td>2.0</td>\n      <td>unknown</td>\n      <td>no</td>\n      <td>33</td>\n    </tr>\n    <tr>\n      <th>34</th>\n      <td>51</td>\n      <td>management</td>\n      <td>married</td>\n      <td>tertiary</td>\n      <td>no</td>\n      <td>10635</td>\n      <td>yes</td>\n      <td>no</td>\n      <td>unknown</td>\n      <td>5.0</td>\n      <td>may</td>\n      <td>336.0</td>\n      <td>1.0</td>\n      <td>-1.0</td>\n      <td>0.0</td>\n      <td>unknown</td>\n      <td>no</td>\n      <td>34</td>\n    </tr>\n    <tr>\n      <th>35</th>\n      <td>57</td>\n      <td>technician</td>\n      <td>divorced</td>\n      <td>secondary</td>\n      <td>no</td>\n      <td>63</td>\n      <td>yes</td>\n      <td>no</td>\n      <td>cellular</td>\n      <td>20.0</td>\n      <td>aug</td>\n      <td>1371.0</td>\n      <td>2.0</td>\n      <td>99.0</td>\n      <td>0.0</td>\n      <td>failure</td>\n      <td>no</td>\n      <td>35</td>\n    </tr>\n    <tr>\n      <th>36</th>\n      <td>25</td>\n      <td>blue-collar</td>\n      <td>married</td>\n      <td>secondary</td>\n      <td>no</td>\n      <td>-7</td>\n      <td>yes</td>\n      <td>no</td>\n      <td>cellular</td>\n      <td>5.0</td>\n      <td>nov</td>\n      <td>461.0</td>\n      <td>3.0</td>\n      <td>196.0</td>\n      <td>0.0</td>\n      <td>failure</td>\n      <td>no</td>\n      <td>36</td>\n    </tr>\n    <tr>\n      <th>37</th>\n      <td>53</td>\n      <td>technician</td>\n      <td>married</td>\n      <td>secondary</td>\n      <td>no</td>\n      <td>-3</td>\n      <td>no</td>\n      <td>no</td>\n      <td>unknown</td>\n      <td>5.0</td>\n      <td>may</td>\n      <td>1666.0</td>\n      <td>1.0</td>\n      <td>-1.0</td>\n      <td>0.0</td>\n      <td>unknown</td>\n      <td>no</td>\n      <td>37</td>\n    </tr>\n    <tr>\n      <th>38</th>\n      <td>36</td>\n      <td>admin.</td>\n      <td>divorced</td>\n      <td>secondary</td>\n      <td>no</td>\n      <td>506</td>\n      <td>yes</td>\n      <td>no</td>\n      <td>cellular</td>\n      <td>12.0</td>\n      <td>may</td>\n      <td>155.0</td>\n      <td>2.0</td>\n      <td>-3.0</td>\n      <td>0.0</td>\n      <td>unknown</td>\n      <td>no</td>\n      <td>38</td>\n    </tr>\n    <tr>\n      <th>39</th>\n      <td>37</td>\n      <td>admin.</td>\n      <td>single</td>\n      <td>secondary</td>\n      <td>no</td>\n      <td>0</td>\n      <td>yes</td>\n      <td>no</td>\n      <td>unknown</td>\n      <td>5.0</td>\n      <td>may</td>\n      <td>137.0</td>\n      <td>1.0</td>\n      <td>-1.0</td>\n      <td>0.0</td>\n      <td>unknown</td>\n      <td>no</td>\n      <td>39</td>\n    </tr>\n    <tr>\n      <th>40</th>\n      <td>44</td>\n      <td>services</td>\n      <td>divorced</td>\n      <td>secondary</td>\n      <td>no</td>\n      <td>2586</td>\n      <td>yes</td>\n      <td>no</td>\n      <td>unknown</td>\n      <td>5.0</td>\n      <td>may</td>\n      <td>160.0</td>\n      <td>1.0</td>\n      <td>-1.0</td>\n      <td>0.0</td>\n      <td>unknown</td>\n      <td>no</td>\n      <td>40</td>\n    </tr>\n    <tr>\n      <th>41</th>\n      <td>50</td>\n      <td>management</td>\n      <td>married</td>\n      <td>secondary</td>\n      <td>no</td>\n      <td>49</td>\n      <td>yes</td>\n      <td>no</td>\n      <td>unknown</td>\n      <td>5.0</td>\n      <td>may</td>\n      <td>180.0</td>\n      <td>2.0</td>\n      <td>-1.0</td>\n      <td>0.0</td>\n      <td>unknown</td>\n      <td>no</td>\n      <td>41</td>\n    </tr>\n    <tr>\n      <th>42</th>\n      <td>60</td>\n      <td>blue-collar</td>\n      <td>married</td>\n      <td>unknown</td>\n      <td>no</td>\n      <td>104</td>\n      <td>yes</td>\n      <td>no</td>\n      <td>cellular</td>\n      <td>0.0</td>\n      <td>nov</td>\n      <td>436.0</td>\n      <td>1.0</td>\n      <td>-4.0</td>\n      <td>2.0</td>\n      <td>failure</td>\n      <td>no</td>\n      <td>42</td>\n    </tr>\n    <tr>\n      <th>43</th>\n      <td>54</td>\n      <td>retired</td>\n      <td>married</td>\n      <td>secondary</td>\n      <td>no</td>\n      <td>529</td>\n      <td>yes</td>\n      <td>no</td>\n      <td>unknown</td>\n      <td>5.0</td>\n      <td>may</td>\n      <td>1492.0</td>\n      <td>1.0</td>\n      <td>-1.0</td>\n      <td>0.0</td>\n      <td>unknown</td>\n      <td>no</td>\n      <td>43</td>\n    </tr>\n    <tr>\n      <th>44</th>\n      <td>58</td>\n      <td>retired</td>\n      <td>married</td>\n      <td>unknown</td>\n      <td>no</td>\n      <td>96</td>\n      <td>yes</td>\n      <td>no</td>\n      <td>unknown</td>\n      <td>5.0</td>\n      <td>may</td>\n      <td>616.0</td>\n      <td>1.0</td>\n      <td>-1.0</td>\n      <td>0.0</td>\n      <td>unknown</td>\n      <td>no</td>\n      <td>44</td>\n    </tr>\n    <tr>\n      <th>45</th>\n      <td>36</td>\n      <td>admin.</td>\n      <td>single</td>\n      <td>primary</td>\n      <td>no</td>\n      <td>-171</td>\n      <td>yes</td>\n      <td>no</td>\n      <td>unknown</td>\n      <td>5.0</td>\n      <td>may</td>\n      <td>242.0</td>\n      <td>1.0</td>\n      <td>-1.0</td>\n      <td>0.0</td>\n      <td>unknown</td>\n      <td>no</td>\n      <td>45</td>\n    </tr>\n    <tr>\n      <th>46</th>\n      <td>58</td>\n      <td>self-employed</td>\n      <td>married</td>\n      <td>tertiary</td>\n      <td>no</td>\n      <td>-364</td>\n      <td>yes</td>\n      <td>no</td>\n      <td>unknown</td>\n      <td>5.0</td>\n      <td>may</td>\n      <td>355.0</td>\n      <td>1.0</td>\n      <td>-1.0</td>\n      <td>0.0</td>\n      <td>unknown</td>\n      <td>no</td>\n      <td>46</td>\n    </tr>\n    <tr>\n      <th>47</th>\n      <td>44</td>\n      <td>technician</td>\n      <td>married</td>\n      <td>secondary</td>\n      <td>no</td>\n      <td>0</td>\n      <td>yes</td>\n      <td>no</td>\n      <td>unknown</td>\n      <td>5.0</td>\n      <td>may</td>\n      <td>225.0</td>\n      <td>2.0</td>\n      <td>-1.0</td>\n      <td>0.0</td>\n      <td>unknown</td>\n      <td>no</td>\n      <td>47</td>\n    </tr>\n    <tr>\n      <th>48</th>\n      <td>55</td>\n      <td>technician</td>\n      <td>divorced</td>\n      <td>secondary</td>\n      <td>no</td>\n      <td>0</td>\n      <td>no</td>\n      <td>no</td>\n      <td>unknown</td>\n      <td>15.0</td>\n      <td>nov</td>\n      <td>495.0</td>\n      <td>1.0</td>\n      <td>-2.0</td>\n      <td>3.0</td>\n      <td>unknown</td>\n      <td>no</td>\n      <td>48</td>\n    </tr>\n    <tr>\n      <th>49</th>\n      <td>29</td>\n      <td>management</td>\n      <td>single</td>\n      <td>tertiary</td>\n      <td>no</td>\n      <td>0</td>\n      <td>yes</td>\n      <td>no</td>\n      <td>cellular</td>\n      <td>18.0</td>\n      <td>sep</td>\n      <td>466.0</td>\n      <td>1.0</td>\n      <td>1.0</td>\n      <td>0.0</td>\n      <td>unknown</td>\n      <td>no</td>\n      <td>49</td>\n    </tr>\n  </tbody>\n</table>\n</div>"
     },
     "execution_count": 8,
     "metadata": {},
     "output_type": "execute_result"
    }
   ],
   "source": [
    "# 将bank_data_encode数据集的列的顺序调整到和aligned_df_new_encode列的顺序一样\n",
    "aligned_df_new = aligned_df_new.reindex(columns=bank_data.columns)\n",
    "aligned_df_new.head(50)"
   ],
   "metadata": {
    "collapsed": false,
    "pycharm": {
     "name": "#%%\n"
    }
   }
  },
  {
   "cell_type": "code",
   "execution_count": 9,
   "outputs": [
    {
     "name": "stdout",
     "output_type": "stream",
     "text": [
      "age            int64\n",
      "job           object\n",
      "marital       object\n",
      "education     object\n",
      "default       object\n",
      "balance        int64\n",
      "housing       object\n",
      "loan          object\n",
      "contact       object\n",
      "day          float64\n",
      "month         object\n",
      "duration     float64\n",
      "campaign     float64\n",
      "pdays        float64\n",
      "previous     float64\n",
      "poutcome      object\n",
      "y             object\n",
      "index          int64\n",
      "dtype: object\n"
     ]
    }
   ],
   "source": [
    "dtypes=aligned_df_new.dtypes\n",
    "print(dtypes)"
   ],
   "metadata": {
    "collapsed": false,
    "pycharm": {
     "name": "#%%\n"
    }
   }
  },
  {
   "cell_type": "code",
   "execution_count": 10,
   "outputs": [
    {
     "name": "stdout",
     "output_type": "stream",
     "text": [
      "age            int64\n",
      "job           object\n",
      "marital       object\n",
      "education     object\n",
      "default       object\n",
      "balance        int64\n",
      "housing       object\n",
      "loan          object\n",
      "contact       object\n",
      "day          float64\n",
      "month         object\n",
      "duration     float64\n",
      "campaign     float64\n",
      "pdays        float64\n",
      "previous     float64\n",
      "poutcome      object\n",
      "y             object\n",
      "index          int64\n",
      "dtype: object\n"
     ]
    }
   ],
   "source": [
    "bank_data=bank_data.astype(dtypes)\n",
    "print(bank_data.dtypes)"
   ],
   "metadata": {
    "collapsed": false,
    "pycharm": {
     "name": "#%%\n"
    }
   }
  },
  {
   "cell_type": "code",
   "execution_count": 11,
   "outputs": [],
   "source": [
    "from sklearn.preprocessing import LabelEncoder\n",
    "\n",
    "le = LabelEncoder()\n",
    "\n",
    "# 使用fit_transform方法对标签列进行标签编码\n",
    "bank_data['y'] = le.fit_transform(bank_data['y'])\n",
    "aligned_df_new['y'] = le.fit_transform(aligned_df_new['y'])"
   ],
   "metadata": {
    "collapsed": false,
    "pycharm": {
     "name": "#%%\n"
    }
   }
  },
  {
   "cell_type": "code",
   "execution_count": 12,
   "outputs": [
    {
     "data": {
      "text/plain": "Index(['job', 'marital', 'education', 'default', 'housing', 'loan', 'contact',\n       'month', 'poutcome'],\n      dtype='object')"
     },
     "execution_count": 12,
     "metadata": {},
     "output_type": "execute_result"
    }
   ],
   "source": [
    "# 获得分类列列名\n",
    "discrete_columns=bank_data.select_dtypes(include=['object']).columns\n",
    "discrete_columns"
   ],
   "metadata": {
    "collapsed": false,
    "pycharm": {
     "name": "#%%\n"
    }
   }
  },
  {
   "cell_type": "code",
   "execution_count": 13,
   "outputs": [
    {
     "data": {
      "text/plain": "       age           job   marital  education default  balance housing loan  \\\n0       58    management   married   tertiary      no     2143     yes   no   \n1       44    technician    single  secondary      no       29     yes   no   \n2       33  entrepreneur   married  secondary      no        2     yes  yes   \n3       47   blue-collar   married    unknown      no     1506     yes   no   \n4       33       unknown    single    unknown      no        1      no   no   \n...    ...           ...       ...        ...     ...      ...     ...  ...   \n45206   51    technician   married   tertiary      no      825      no   no   \n45207   71       retired  divorced    primary      no     1729      no   no   \n45208   72       retired   married  secondary      no     5715      no   no   \n45209   57   blue-collar   married  secondary      no      668      no   no   \n45210   37  entrepreneur   married  secondary      no     2971      no   no   \n\n         contact   day month  duration  campaign  pdays  previous poutcome  y  \\\n0        unknown   5.0   may     261.0       1.0   -1.0       0.0  unknown  0   \n1        unknown   5.0   may     151.0       1.0   -1.0       0.0  unknown  0   \n2        unknown   5.0   may      76.0       1.0   -1.0       0.0  unknown  0   \n3        unknown   5.0   may      92.0       1.0   -1.0       0.0  unknown  0   \n4        unknown   5.0   may     198.0       1.0   -1.0       0.0  unknown  0   \n...          ...   ...   ...       ...       ...    ...       ...      ... ..   \n45206   cellular  17.0   nov     977.0       3.0   -1.0       0.0  unknown  1   \n45207   cellular  17.0   nov     456.0       2.0   -1.0       0.0  unknown  1   \n45208   cellular  17.0   nov    1127.0       5.0  184.0       3.0  success  1   \n45209  telephone  17.0   nov     508.0       4.0   -1.0       0.0  unknown  0   \n45210   cellular  17.0   nov     361.0       2.0  188.0      11.0    other  0   \n\n       index  \n0          0  \n1          1  \n2          2  \n3          3  \n4          4  \n...      ...  \n45206  45206  \n45207  45207  \n45208  45208  \n45209  45209  \n45210  45210  \n\n[45211 rows x 18 columns]",
      "text/html": "<div>\n<style scoped>\n    .dataframe tbody tr th:only-of-type {\n        vertical-align: middle;\n    }\n\n    .dataframe tbody tr th {\n        vertical-align: top;\n    }\n\n    .dataframe thead th {\n        text-align: right;\n    }\n</style>\n<table border=\"1\" class=\"dataframe\">\n  <thead>\n    <tr style=\"text-align: right;\">\n      <th></th>\n      <th>age</th>\n      <th>job</th>\n      <th>marital</th>\n      <th>education</th>\n      <th>default</th>\n      <th>balance</th>\n      <th>housing</th>\n      <th>loan</th>\n      <th>contact</th>\n      <th>day</th>\n      <th>month</th>\n      <th>duration</th>\n      <th>campaign</th>\n      <th>pdays</th>\n      <th>previous</th>\n      <th>poutcome</th>\n      <th>y</th>\n      <th>index</th>\n    </tr>\n  </thead>\n  <tbody>\n    <tr>\n      <th>0</th>\n      <td>58</td>\n      <td>management</td>\n      <td>married</td>\n      <td>tertiary</td>\n      <td>no</td>\n      <td>2143</td>\n      <td>yes</td>\n      <td>no</td>\n      <td>unknown</td>\n      <td>5.0</td>\n      <td>may</td>\n      <td>261.0</td>\n      <td>1.0</td>\n      <td>-1.0</td>\n      <td>0.0</td>\n      <td>unknown</td>\n      <td>0</td>\n      <td>0</td>\n    </tr>\n    <tr>\n      <th>1</th>\n      <td>44</td>\n      <td>technician</td>\n      <td>single</td>\n      <td>secondary</td>\n      <td>no</td>\n      <td>29</td>\n      <td>yes</td>\n      <td>no</td>\n      <td>unknown</td>\n      <td>5.0</td>\n      <td>may</td>\n      <td>151.0</td>\n      <td>1.0</td>\n      <td>-1.0</td>\n      <td>0.0</td>\n      <td>unknown</td>\n      <td>0</td>\n      <td>1</td>\n    </tr>\n    <tr>\n      <th>2</th>\n      <td>33</td>\n      <td>entrepreneur</td>\n      <td>married</td>\n      <td>secondary</td>\n      <td>no</td>\n      <td>2</td>\n      <td>yes</td>\n      <td>yes</td>\n      <td>unknown</td>\n      <td>5.0</td>\n      <td>may</td>\n      <td>76.0</td>\n      <td>1.0</td>\n      <td>-1.0</td>\n      <td>0.0</td>\n      <td>unknown</td>\n      <td>0</td>\n      <td>2</td>\n    </tr>\n    <tr>\n      <th>3</th>\n      <td>47</td>\n      <td>blue-collar</td>\n      <td>married</td>\n      <td>unknown</td>\n      <td>no</td>\n      <td>1506</td>\n      <td>yes</td>\n      <td>no</td>\n      <td>unknown</td>\n      <td>5.0</td>\n      <td>may</td>\n      <td>92.0</td>\n      <td>1.0</td>\n      <td>-1.0</td>\n      <td>0.0</td>\n      <td>unknown</td>\n      <td>0</td>\n      <td>3</td>\n    </tr>\n    <tr>\n      <th>4</th>\n      <td>33</td>\n      <td>unknown</td>\n      <td>single</td>\n      <td>unknown</td>\n      <td>no</td>\n      <td>1</td>\n      <td>no</td>\n      <td>no</td>\n      <td>unknown</td>\n      <td>5.0</td>\n      <td>may</td>\n      <td>198.0</td>\n      <td>1.0</td>\n      <td>-1.0</td>\n      <td>0.0</td>\n      <td>unknown</td>\n      <td>0</td>\n      <td>4</td>\n    </tr>\n    <tr>\n      <th>...</th>\n      <td>...</td>\n      <td>...</td>\n      <td>...</td>\n      <td>...</td>\n      <td>...</td>\n      <td>...</td>\n      <td>...</td>\n      <td>...</td>\n      <td>...</td>\n      <td>...</td>\n      <td>...</td>\n      <td>...</td>\n      <td>...</td>\n      <td>...</td>\n      <td>...</td>\n      <td>...</td>\n      <td>...</td>\n      <td>...</td>\n    </tr>\n    <tr>\n      <th>45206</th>\n      <td>51</td>\n      <td>technician</td>\n      <td>married</td>\n      <td>tertiary</td>\n      <td>no</td>\n      <td>825</td>\n      <td>no</td>\n      <td>no</td>\n      <td>cellular</td>\n      <td>17.0</td>\n      <td>nov</td>\n      <td>977.0</td>\n      <td>3.0</td>\n      <td>-1.0</td>\n      <td>0.0</td>\n      <td>unknown</td>\n      <td>1</td>\n      <td>45206</td>\n    </tr>\n    <tr>\n      <th>45207</th>\n      <td>71</td>\n      <td>retired</td>\n      <td>divorced</td>\n      <td>primary</td>\n      <td>no</td>\n      <td>1729</td>\n      <td>no</td>\n      <td>no</td>\n      <td>cellular</td>\n      <td>17.0</td>\n      <td>nov</td>\n      <td>456.0</td>\n      <td>2.0</td>\n      <td>-1.0</td>\n      <td>0.0</td>\n      <td>unknown</td>\n      <td>1</td>\n      <td>45207</td>\n    </tr>\n    <tr>\n      <th>45208</th>\n      <td>72</td>\n      <td>retired</td>\n      <td>married</td>\n      <td>secondary</td>\n      <td>no</td>\n      <td>5715</td>\n      <td>no</td>\n      <td>no</td>\n      <td>cellular</td>\n      <td>17.0</td>\n      <td>nov</td>\n      <td>1127.0</td>\n      <td>5.0</td>\n      <td>184.0</td>\n      <td>3.0</td>\n      <td>success</td>\n      <td>1</td>\n      <td>45208</td>\n    </tr>\n    <tr>\n      <th>45209</th>\n      <td>57</td>\n      <td>blue-collar</td>\n      <td>married</td>\n      <td>secondary</td>\n      <td>no</td>\n      <td>668</td>\n      <td>no</td>\n      <td>no</td>\n      <td>telephone</td>\n      <td>17.0</td>\n      <td>nov</td>\n      <td>508.0</td>\n      <td>4.0</td>\n      <td>-1.0</td>\n      <td>0.0</td>\n      <td>unknown</td>\n      <td>0</td>\n      <td>45209</td>\n    </tr>\n    <tr>\n      <th>45210</th>\n      <td>37</td>\n      <td>entrepreneur</td>\n      <td>married</td>\n      <td>secondary</td>\n      <td>no</td>\n      <td>2971</td>\n      <td>no</td>\n      <td>no</td>\n      <td>cellular</td>\n      <td>17.0</td>\n      <td>nov</td>\n      <td>361.0</td>\n      <td>2.0</td>\n      <td>188.0</td>\n      <td>11.0</td>\n      <td>other</td>\n      <td>0</td>\n      <td>45210</td>\n    </tr>\n  </tbody>\n</table>\n<p>45211 rows × 18 columns</p>\n</div>"
     },
     "execution_count": 13,
     "metadata": {},
     "output_type": "execute_result"
    }
   ],
   "source": [
    "bank_data"
   ],
   "metadata": {
    "collapsed": false,
    "pycharm": {
     "name": "#%%\n"
    }
   }
  },
  {
   "cell_type": "code",
   "execution_count": 14,
   "outputs": [],
   "source": [
    "bank_data_encode=bank_data.copy()\n",
    "# 对每一列进行检查\n",
    "for col in bank_data_encode.columns:\n",
    "    # 如果该列是object类型（通常意味着它是分类的），则进行标签编码\n",
    "    if bank_data_encode[col].dtype == 'object':\n",
    "\n",
    "        bank_data_encode[col] =le.fit_transform(bank_data_encode[col])"
   ],
   "metadata": {
    "collapsed": false,
    "pycharm": {
     "name": "#%%\n"
    }
   }
  },
  {
   "cell_type": "code",
   "execution_count": 15,
   "outputs": [],
   "source": [
    "aligned_df_new_encode=aligned_df_new.copy()\n",
    "# 对每一列进行检查\n",
    "for col in aligned_df_new_encode.columns:\n",
    "    # 如果该列是object类型（通常意味着它是分类的），则进行标签编码\n",
    "    if aligned_df_new_encode[col].dtype == 'object':\n",
    "\n",
    "        aligned_df_new_encode[col] =le.fit_transform(aligned_df_new_encode[col])"
   ],
   "metadata": {
    "collapsed": false,
    "pycharm": {
     "name": "#%%\n"
    }
   }
  },
  {
   "cell_type": "code",
   "execution_count": 16,
   "outputs": [
    {
     "data": {
      "text/plain": "       age  job  marital  education  default  balance  housing  loan  contact  \\\n0       58    4        1          2        0     2143        1     0        2   \n1       44    9        2          1        0       29        1     0        2   \n2       33    2        1          1        0        2        1     1        2   \n3       47    1        1          3        0     1506        1     0        0   \n4       33   11        2          3        0        1        0     0        0   \n...    ...  ...      ...        ...      ...      ...      ...   ...      ...   \n45206   51    9        1          2        0      825        0     0        2   \n45207   71    5        0          0        0     1729        0     0        0   \n45208   72    5        1          1        0     5715        0     0        0   \n45209   57    1        1          1        0      668        0     0        0   \n45210   37    2        1          1        0     2971        0     0        0   \n\n        day  month  duration  campaign  pdays  previous  poutcome  y  index  \n0       5.0      8     261.0       1.0   -1.0       0.0         3  0      0  \n1       5.0      8     151.0       1.0   -1.0       0.0         3  0      1  \n2       5.0      8      76.0       1.0   -1.0       0.0         3  0      2  \n3      12.0      6     439.0       1.0  175.0       0.0         3  0      3  \n4      17.0      8     354.0       2.0   -2.0       1.0         3  0      4  \n...     ...    ...       ...       ...    ...       ...       ... ..    ...  \n45206   5.0      4     343.0       1.0   77.0       1.0         3  0  45206  \n45207  17.0      9     456.0       2.0   -1.0       0.0         3  1  45207  \n45208  18.0      3     309.0       1.0  102.0       0.0         3  1  45208  \n45209  31.0      9     155.0       5.0    1.0       2.0         2  0  45209  \n45210  17.0      9     361.0       2.0  188.0      11.0         1  0  45210  \n\n[45211 rows x 18 columns]",
      "text/html": "<div>\n<style scoped>\n    .dataframe tbody tr th:only-of-type {\n        vertical-align: middle;\n    }\n\n    .dataframe tbody tr th {\n        vertical-align: top;\n    }\n\n    .dataframe thead th {\n        text-align: right;\n    }\n</style>\n<table border=\"1\" class=\"dataframe\">\n  <thead>\n    <tr style=\"text-align: right;\">\n      <th></th>\n      <th>age</th>\n      <th>job</th>\n      <th>marital</th>\n      <th>education</th>\n      <th>default</th>\n      <th>balance</th>\n      <th>housing</th>\n      <th>loan</th>\n      <th>contact</th>\n      <th>day</th>\n      <th>month</th>\n      <th>duration</th>\n      <th>campaign</th>\n      <th>pdays</th>\n      <th>previous</th>\n      <th>poutcome</th>\n      <th>y</th>\n      <th>index</th>\n    </tr>\n  </thead>\n  <tbody>\n    <tr>\n      <th>0</th>\n      <td>58</td>\n      <td>4</td>\n      <td>1</td>\n      <td>2</td>\n      <td>0</td>\n      <td>2143</td>\n      <td>1</td>\n      <td>0</td>\n      <td>2</td>\n      <td>5.0</td>\n      <td>8</td>\n      <td>261.0</td>\n      <td>1.0</td>\n      <td>-1.0</td>\n      <td>0.0</td>\n      <td>3</td>\n      <td>0</td>\n      <td>0</td>\n    </tr>\n    <tr>\n      <th>1</th>\n      <td>44</td>\n      <td>9</td>\n      <td>2</td>\n      <td>1</td>\n      <td>0</td>\n      <td>29</td>\n      <td>1</td>\n      <td>0</td>\n      <td>2</td>\n      <td>5.0</td>\n      <td>8</td>\n      <td>151.0</td>\n      <td>1.0</td>\n      <td>-1.0</td>\n      <td>0.0</td>\n      <td>3</td>\n      <td>0</td>\n      <td>1</td>\n    </tr>\n    <tr>\n      <th>2</th>\n      <td>33</td>\n      <td>2</td>\n      <td>1</td>\n      <td>1</td>\n      <td>0</td>\n      <td>2</td>\n      <td>1</td>\n      <td>1</td>\n      <td>2</td>\n      <td>5.0</td>\n      <td>8</td>\n      <td>76.0</td>\n      <td>1.0</td>\n      <td>-1.0</td>\n      <td>0.0</td>\n      <td>3</td>\n      <td>0</td>\n      <td>2</td>\n    </tr>\n    <tr>\n      <th>3</th>\n      <td>47</td>\n      <td>1</td>\n      <td>1</td>\n      <td>3</td>\n      <td>0</td>\n      <td>1506</td>\n      <td>1</td>\n      <td>0</td>\n      <td>0</td>\n      <td>12.0</td>\n      <td>6</td>\n      <td>439.0</td>\n      <td>1.0</td>\n      <td>175.0</td>\n      <td>0.0</td>\n      <td>3</td>\n      <td>0</td>\n      <td>3</td>\n    </tr>\n    <tr>\n      <th>4</th>\n      <td>33</td>\n      <td>11</td>\n      <td>2</td>\n      <td>3</td>\n      <td>0</td>\n      <td>1</td>\n      <td>0</td>\n      <td>0</td>\n      <td>0</td>\n      <td>17.0</td>\n      <td>8</td>\n      <td>354.0</td>\n      <td>2.0</td>\n      <td>-2.0</td>\n      <td>1.0</td>\n      <td>3</td>\n      <td>0</td>\n      <td>4</td>\n    </tr>\n    <tr>\n      <th>...</th>\n      <td>...</td>\n      <td>...</td>\n      <td>...</td>\n      <td>...</td>\n      <td>...</td>\n      <td>...</td>\n      <td>...</td>\n      <td>...</td>\n      <td>...</td>\n      <td>...</td>\n      <td>...</td>\n      <td>...</td>\n      <td>...</td>\n      <td>...</td>\n      <td>...</td>\n      <td>...</td>\n      <td>...</td>\n      <td>...</td>\n    </tr>\n    <tr>\n      <th>45206</th>\n      <td>51</td>\n      <td>9</td>\n      <td>1</td>\n      <td>2</td>\n      <td>0</td>\n      <td>825</td>\n      <td>0</td>\n      <td>0</td>\n      <td>2</td>\n      <td>5.0</td>\n      <td>4</td>\n      <td>343.0</td>\n      <td>1.0</td>\n      <td>77.0</td>\n      <td>1.0</td>\n      <td>3</td>\n      <td>0</td>\n      <td>45206</td>\n    </tr>\n    <tr>\n      <th>45207</th>\n      <td>71</td>\n      <td>5</td>\n      <td>0</td>\n      <td>0</td>\n      <td>0</td>\n      <td>1729</td>\n      <td>0</td>\n      <td>0</td>\n      <td>0</td>\n      <td>17.0</td>\n      <td>9</td>\n      <td>456.0</td>\n      <td>2.0</td>\n      <td>-1.0</td>\n      <td>0.0</td>\n      <td>3</td>\n      <td>1</td>\n      <td>45207</td>\n    </tr>\n    <tr>\n      <th>45208</th>\n      <td>72</td>\n      <td>5</td>\n      <td>1</td>\n      <td>1</td>\n      <td>0</td>\n      <td>5715</td>\n      <td>0</td>\n      <td>0</td>\n      <td>0</td>\n      <td>18.0</td>\n      <td>3</td>\n      <td>309.0</td>\n      <td>1.0</td>\n      <td>102.0</td>\n      <td>0.0</td>\n      <td>3</td>\n      <td>1</td>\n      <td>45208</td>\n    </tr>\n    <tr>\n      <th>45209</th>\n      <td>57</td>\n      <td>1</td>\n      <td>1</td>\n      <td>1</td>\n      <td>0</td>\n      <td>668</td>\n      <td>0</td>\n      <td>0</td>\n      <td>0</td>\n      <td>31.0</td>\n      <td>9</td>\n      <td>155.0</td>\n      <td>5.0</td>\n      <td>1.0</td>\n      <td>2.0</td>\n      <td>2</td>\n      <td>0</td>\n      <td>45209</td>\n    </tr>\n    <tr>\n      <th>45210</th>\n      <td>37</td>\n      <td>2</td>\n      <td>1</td>\n      <td>1</td>\n      <td>0</td>\n      <td>2971</td>\n      <td>0</td>\n      <td>0</td>\n      <td>0</td>\n      <td>17.0</td>\n      <td>9</td>\n      <td>361.0</td>\n      <td>2.0</td>\n      <td>188.0</td>\n      <td>11.0</td>\n      <td>1</td>\n      <td>0</td>\n      <td>45210</td>\n    </tr>\n  </tbody>\n</table>\n<p>45211 rows × 18 columns</p>\n</div>"
     },
     "execution_count": 16,
     "metadata": {},
     "output_type": "execute_result"
    }
   ],
   "source": [
    "aligned_df_new_encode"
   ],
   "metadata": {
    "collapsed": false,
    "pycharm": {
     "name": "#%%\n"
    }
   }
  },
  {
   "cell_type": "code",
   "execution_count": 17,
   "outputs": [
    {
     "data": {
      "text/plain": "       age  job  marital  education  default  balance  housing  loan  contact  \\\n0       58    4        1          2        0     2143        1     0        2   \n1       44    9        2          1        0       29        1     0        2   \n2       33    2        1          1        0        2        1     1        2   \n3       47    1        1          3        0     1506        1     0        2   \n4       33   11        2          3        0        1        0     0        2   \n...    ...  ...      ...        ...      ...      ...      ...   ...      ...   \n45206   51    9        1          2        0      825        0     0        0   \n45207   71    5        0          0        0     1729        0     0        0   \n45208   72    5        1          1        0     5715        0     0        0   \n45209   57    1        1          1        0      668        0     0        1   \n45210   37    2        1          1        0     2971        0     0        0   \n\n        day  month  duration  campaign  pdays  previous  poutcome  y  index  \n0       5.0      8     261.0       1.0   -1.0       0.0         3  0      0  \n1       5.0      8     151.0       1.0   -1.0       0.0         3  0      1  \n2       5.0      8      76.0       1.0   -1.0       0.0         3  0      2  \n3       5.0      8      92.0       1.0   -1.0       0.0         3  0      3  \n4       5.0      8     198.0       1.0   -1.0       0.0         3  0      4  \n...     ...    ...       ...       ...    ...       ...       ... ..    ...  \n45206  17.0      9     977.0       3.0   -1.0       0.0         3  1  45206  \n45207  17.0      9     456.0       2.0   -1.0       0.0         3  1  45207  \n45208  17.0      9    1127.0       5.0  184.0       3.0         2  1  45208  \n45209  17.0      9     508.0       4.0   -1.0       0.0         3  0  45209  \n45210  17.0      9     361.0       2.0  188.0      11.0         1  0  45210  \n\n[45211 rows x 18 columns]",
      "text/html": "<div>\n<style scoped>\n    .dataframe tbody tr th:only-of-type {\n        vertical-align: middle;\n    }\n\n    .dataframe tbody tr th {\n        vertical-align: top;\n    }\n\n    .dataframe thead th {\n        text-align: right;\n    }\n</style>\n<table border=\"1\" class=\"dataframe\">\n  <thead>\n    <tr style=\"text-align: right;\">\n      <th></th>\n      <th>age</th>\n      <th>job</th>\n      <th>marital</th>\n      <th>education</th>\n      <th>default</th>\n      <th>balance</th>\n      <th>housing</th>\n      <th>loan</th>\n      <th>contact</th>\n      <th>day</th>\n      <th>month</th>\n      <th>duration</th>\n      <th>campaign</th>\n      <th>pdays</th>\n      <th>previous</th>\n      <th>poutcome</th>\n      <th>y</th>\n      <th>index</th>\n    </tr>\n  </thead>\n  <tbody>\n    <tr>\n      <th>0</th>\n      <td>58</td>\n      <td>4</td>\n      <td>1</td>\n      <td>2</td>\n      <td>0</td>\n      <td>2143</td>\n      <td>1</td>\n      <td>0</td>\n      <td>2</td>\n      <td>5.0</td>\n      <td>8</td>\n      <td>261.0</td>\n      <td>1.0</td>\n      <td>-1.0</td>\n      <td>0.0</td>\n      <td>3</td>\n      <td>0</td>\n      <td>0</td>\n    </tr>\n    <tr>\n      <th>1</th>\n      <td>44</td>\n      <td>9</td>\n      <td>2</td>\n      <td>1</td>\n      <td>0</td>\n      <td>29</td>\n      <td>1</td>\n      <td>0</td>\n      <td>2</td>\n      <td>5.0</td>\n      <td>8</td>\n      <td>151.0</td>\n      <td>1.0</td>\n      <td>-1.0</td>\n      <td>0.0</td>\n      <td>3</td>\n      <td>0</td>\n      <td>1</td>\n    </tr>\n    <tr>\n      <th>2</th>\n      <td>33</td>\n      <td>2</td>\n      <td>1</td>\n      <td>1</td>\n      <td>0</td>\n      <td>2</td>\n      <td>1</td>\n      <td>1</td>\n      <td>2</td>\n      <td>5.0</td>\n      <td>8</td>\n      <td>76.0</td>\n      <td>1.0</td>\n      <td>-1.0</td>\n      <td>0.0</td>\n      <td>3</td>\n      <td>0</td>\n      <td>2</td>\n    </tr>\n    <tr>\n      <th>3</th>\n      <td>47</td>\n      <td>1</td>\n      <td>1</td>\n      <td>3</td>\n      <td>0</td>\n      <td>1506</td>\n      <td>1</td>\n      <td>0</td>\n      <td>2</td>\n      <td>5.0</td>\n      <td>8</td>\n      <td>92.0</td>\n      <td>1.0</td>\n      <td>-1.0</td>\n      <td>0.0</td>\n      <td>3</td>\n      <td>0</td>\n      <td>3</td>\n    </tr>\n    <tr>\n      <th>4</th>\n      <td>33</td>\n      <td>11</td>\n      <td>2</td>\n      <td>3</td>\n      <td>0</td>\n      <td>1</td>\n      <td>0</td>\n      <td>0</td>\n      <td>2</td>\n      <td>5.0</td>\n      <td>8</td>\n      <td>198.0</td>\n      <td>1.0</td>\n      <td>-1.0</td>\n      <td>0.0</td>\n      <td>3</td>\n      <td>0</td>\n      <td>4</td>\n    </tr>\n    <tr>\n      <th>...</th>\n      <td>...</td>\n      <td>...</td>\n      <td>...</td>\n      <td>...</td>\n      <td>...</td>\n      <td>...</td>\n      <td>...</td>\n      <td>...</td>\n      <td>...</td>\n      <td>...</td>\n      <td>...</td>\n      <td>...</td>\n      <td>...</td>\n      <td>...</td>\n      <td>...</td>\n      <td>...</td>\n      <td>...</td>\n      <td>...</td>\n    </tr>\n    <tr>\n      <th>45206</th>\n      <td>51</td>\n      <td>9</td>\n      <td>1</td>\n      <td>2</td>\n      <td>0</td>\n      <td>825</td>\n      <td>0</td>\n      <td>0</td>\n      <td>0</td>\n      <td>17.0</td>\n      <td>9</td>\n      <td>977.0</td>\n      <td>3.0</td>\n      <td>-1.0</td>\n      <td>0.0</td>\n      <td>3</td>\n      <td>1</td>\n      <td>45206</td>\n    </tr>\n    <tr>\n      <th>45207</th>\n      <td>71</td>\n      <td>5</td>\n      <td>0</td>\n      <td>0</td>\n      <td>0</td>\n      <td>1729</td>\n      <td>0</td>\n      <td>0</td>\n      <td>0</td>\n      <td>17.0</td>\n      <td>9</td>\n      <td>456.0</td>\n      <td>2.0</td>\n      <td>-1.0</td>\n      <td>0.0</td>\n      <td>3</td>\n      <td>1</td>\n      <td>45207</td>\n    </tr>\n    <tr>\n      <th>45208</th>\n      <td>72</td>\n      <td>5</td>\n      <td>1</td>\n      <td>1</td>\n      <td>0</td>\n      <td>5715</td>\n      <td>0</td>\n      <td>0</td>\n      <td>0</td>\n      <td>17.0</td>\n      <td>9</td>\n      <td>1127.0</td>\n      <td>5.0</td>\n      <td>184.0</td>\n      <td>3.0</td>\n      <td>2</td>\n      <td>1</td>\n      <td>45208</td>\n    </tr>\n    <tr>\n      <th>45209</th>\n      <td>57</td>\n      <td>1</td>\n      <td>1</td>\n      <td>1</td>\n      <td>0</td>\n      <td>668</td>\n      <td>0</td>\n      <td>0</td>\n      <td>1</td>\n      <td>17.0</td>\n      <td>9</td>\n      <td>508.0</td>\n      <td>4.0</td>\n      <td>-1.0</td>\n      <td>0.0</td>\n      <td>3</td>\n      <td>0</td>\n      <td>45209</td>\n    </tr>\n    <tr>\n      <th>45210</th>\n      <td>37</td>\n      <td>2</td>\n      <td>1</td>\n      <td>1</td>\n      <td>0</td>\n      <td>2971</td>\n      <td>0</td>\n      <td>0</td>\n      <td>0</td>\n      <td>17.0</td>\n      <td>9</td>\n      <td>361.0</td>\n      <td>2.0</td>\n      <td>188.0</td>\n      <td>11.0</td>\n      <td>1</td>\n      <td>0</td>\n      <td>45210</td>\n    </tr>\n  </tbody>\n</table>\n<p>45211 rows × 18 columns</p>\n</div>"
     },
     "execution_count": 17,
     "metadata": {},
     "output_type": "execute_result"
    }
   ],
   "source": [
    "bank_data_encode"
   ],
   "metadata": {
    "collapsed": false,
    "pycharm": {
     "name": "#%%\n"
    }
   }
  },
  {
   "cell_type": "code",
   "execution_count": 18,
   "outputs": [
    {
     "name": "stdout",
     "output_type": "stream",
     "text": [
      "age          float64\n",
      "job          float64\n",
      "marital      float64\n",
      "education    float64\n",
      "default      float64\n",
      "balance      float64\n",
      "housing      float64\n",
      "loan         float64\n",
      "contact      float64\n",
      "day          float64\n",
      "month        float64\n",
      "duration     float64\n",
      "campaign     float64\n",
      "pdays        float64\n",
      "previous     float64\n",
      "poutcome     float64\n",
      "y            float64\n",
      "index        float64\n",
      "dtype: object\n"
     ]
    }
   ],
   "source": [
    "bank_data_encode=bank_data_encode.astype(float)\n",
    "print(bank_data_encode.dtypes)"
   ],
   "metadata": {
    "collapsed": false,
    "pycharm": {
     "name": "#%%\n"
    }
   }
  },
  {
   "cell_type": "code",
   "execution_count": 19,
   "outputs": [
    {
     "name": "stdout",
     "output_type": "stream",
     "text": [
      "age          float64\n",
      "job          float64\n",
      "marital      float64\n",
      "education    float64\n",
      "default      float64\n",
      "balance      float64\n",
      "housing      float64\n",
      "loan         float64\n",
      "contact      float64\n",
      "day          float64\n",
      "month        float64\n",
      "duration     float64\n",
      "campaign     float64\n",
      "pdays        float64\n",
      "previous     float64\n",
      "poutcome     float64\n",
      "y            float64\n",
      "index        float64\n",
      "dtype: object\n"
     ]
    }
   ],
   "source": [
    "aligned_df_new_encode=aligned_df_new_encode.astype(float)\n",
    "print(aligned_df_new_encode.dtypes)"
   ],
   "metadata": {
    "collapsed": false,
    "pycharm": {
     "name": "#%%\n"
    }
   }
  },
  {
   "cell_type": "code",
   "execution_count": 21,
   "outputs": [
    {
     "name": "stdout",
     "output_type": "stream",
     "text": [
      "\n",
      "Classifier F1-scores and their Jaccard similarities::\n",
      "                             f1_real  f1_fake  jaccard_similarity\n",
      "index                                                            \n",
      "DecisionTreeClassifier_fake   0.7991   0.7439              0.5918\n",
      "DecisionTreeClassifier_real   0.8916   0.9317              0.7976\n",
      "LogisticRegression_fake       0.7911   0.8096              0.8887\n",
      "LogisticRegression_real       0.8924   0.8874              0.9159\n",
      "MLPClassifier_fake            0.7556   0.8080              0.7051\n",
      "MLPClassifier_real            0.8728   0.8850              0.7581\n",
      "RandomForestClassifier_fake   0.8332   0.8130              0.7868\n",
      "RandomForestClassifier_real   0.9068   0.9348              0.8672\n",
      "\n",
      "Privacy results:\n",
      "                                         result\n",
      "Duplicate rows between sets (real/fake)  (0, 0)\n",
      "nearest neighbor mean                    1.0038\n",
      "nearest neighbor std                     0.6351\n",
      "\n",
      "Miscellaneous results:\n",
      "                                  Result\n",
      "Column Correlation Distance RMSE  0.0727\n",
      "Column Correlation distance MAE   0.0309\n",
      "\n",
      "Results:\n",
      "                                                result\n",
      "Basic statistics                                0.9982\n",
      "Correlation column correlations                 0.9472\n",
      "Mean Correlation between fake and real columns  0.9747\n",
      "1 - MAPE Estimator results                      0.9648\n",
      "Similarity Score                                0.9712\n"
     ]
    }
   ],
   "source": [
    "from table_evaluator import TableEvaluator\n",
    "# 传入是数据类型得是DataForm类型\n",
    "evaluator=TableEvaluator(bank_data_encode,aligned_df_new_encode)\n",
    "# 数值分析\n",
    "evaluator.evaluate(target_col='y',notebook=False,verbose=False)"
   ],
   "metadata": {
    "collapsed": false,
    "pycharm": {
     "name": "#%%\n"
    }
   }
  },
  {
   "cell_type": "markdown",
   "source": [
    "# 对B方进行编码"
   ],
   "metadata": {
    "collapsed": false
   }
  },
  {
   "cell_type": "code",
   "execution_count": 22,
   "outputs": [
    {
     "name": "stdout",
     "output_type": "stream",
     "text": [
      "(45211, 43)\n",
      "(45211,)\n"
     ]
    }
   ],
   "source": [
    "aligned_df_new_encode=aligned_df_new.copy()\n",
    "aligned_df_new_encode.head(50)\n",
    "# 数据预处理\n",
    "# 对分类变量进行one-hot编码\n",
    "aligned_df_new_encode = pd.get_dummies(aligned_df_new_encode, drop_first=True)\n",
    "# 定义特征和目标变量\n",
    "X = aligned_df_new_encode.drop('y', axis=1)  # 假设 '' 是目标变量\n",
    "y = aligned_df_new_encode['y']\n",
    "print(X.shape)\n",
    "print(y.shape)"
   ],
   "metadata": {
    "collapsed": false,
    "pycharm": {
     "name": "#%%\n"
    }
   }
  },
  {
   "cell_type": "code",
   "execution_count": 23,
   "outputs": [
    {
     "data": {
      "text/plain": "     age  balance    day  duration  campaign  pdays  previous  index  \\\n0 0.5195   0.0923 0.1944    0.0916    0.0000 0.0624    0.0036 0.0000   \n1 0.3377   0.0731 0.1944    0.0586    0.0000 0.0624    0.0036 0.0000   \n2 0.1948   0.0728 0.1944    0.0361    0.0000 0.0624    0.0036 0.0000   \n3 0.3766   0.0865 0.3889    0.1451    0.0000 0.2516    0.0036 0.0001   \n4 0.1948   0.0728 0.5278    0.1196    0.0175 0.0613    0.0072 0.0001   \n\n   job_blue-collar  job_entrepreneur  ...  month_jul  month_jun  month_mar  \\\n0           0.0000            0.0000  ...     0.0000     0.0000     0.0000   \n1           0.0000            0.0000  ...     0.0000     0.0000     0.0000   \n2           0.0000            1.0000  ...     0.0000     0.0000     0.0000   \n3           1.0000            0.0000  ...     0.0000     1.0000     0.0000   \n4           0.0000            0.0000  ...     0.0000     0.0000     0.0000   \n\n   month_may  month_nov  month_oct  month_sep  poutcome_other  \\\n0     1.0000     0.0000     0.0000     0.0000          0.0000   \n1     1.0000     0.0000     0.0000     0.0000          0.0000   \n2     1.0000     0.0000     0.0000     0.0000          0.0000   \n3     0.0000     0.0000     0.0000     0.0000          0.0000   \n4     1.0000     0.0000     0.0000     0.0000          0.0000   \n\n   poutcome_success  poutcome_unknown  \n0            0.0000            1.0000  \n1            0.0000            1.0000  \n2            0.0000            1.0000  \n3            0.0000            1.0000  \n4            0.0000            1.0000  \n\n[5 rows x 43 columns]",
      "text/html": "<div>\n<style scoped>\n    .dataframe tbody tr th:only-of-type {\n        vertical-align: middle;\n    }\n\n    .dataframe tbody tr th {\n        vertical-align: top;\n    }\n\n    .dataframe thead th {\n        text-align: right;\n    }\n</style>\n<table border=\"1\" class=\"dataframe\">\n  <thead>\n    <tr style=\"text-align: right;\">\n      <th></th>\n      <th>age</th>\n      <th>balance</th>\n      <th>day</th>\n      <th>duration</th>\n      <th>campaign</th>\n      <th>pdays</th>\n      <th>previous</th>\n      <th>index</th>\n      <th>job_blue-collar</th>\n      <th>job_entrepreneur</th>\n      <th>...</th>\n      <th>month_jul</th>\n      <th>month_jun</th>\n      <th>month_mar</th>\n      <th>month_may</th>\n      <th>month_nov</th>\n      <th>month_oct</th>\n      <th>month_sep</th>\n      <th>poutcome_other</th>\n      <th>poutcome_success</th>\n      <th>poutcome_unknown</th>\n    </tr>\n  </thead>\n  <tbody>\n    <tr>\n      <th>0</th>\n      <td>0.5195</td>\n      <td>0.0923</td>\n      <td>0.1944</td>\n      <td>0.0916</td>\n      <td>0.0000</td>\n      <td>0.0624</td>\n      <td>0.0036</td>\n      <td>0.0000</td>\n      <td>0.0000</td>\n      <td>0.0000</td>\n      <td>...</td>\n      <td>0.0000</td>\n      <td>0.0000</td>\n      <td>0.0000</td>\n      <td>1.0000</td>\n      <td>0.0000</td>\n      <td>0.0000</td>\n      <td>0.0000</td>\n      <td>0.0000</td>\n      <td>0.0000</td>\n      <td>1.0000</td>\n    </tr>\n    <tr>\n      <th>1</th>\n      <td>0.3377</td>\n      <td>0.0731</td>\n      <td>0.1944</td>\n      <td>0.0586</td>\n      <td>0.0000</td>\n      <td>0.0624</td>\n      <td>0.0036</td>\n      <td>0.0000</td>\n      <td>0.0000</td>\n      <td>0.0000</td>\n      <td>...</td>\n      <td>0.0000</td>\n      <td>0.0000</td>\n      <td>0.0000</td>\n      <td>1.0000</td>\n      <td>0.0000</td>\n      <td>0.0000</td>\n      <td>0.0000</td>\n      <td>0.0000</td>\n      <td>0.0000</td>\n      <td>1.0000</td>\n    </tr>\n    <tr>\n      <th>2</th>\n      <td>0.1948</td>\n      <td>0.0728</td>\n      <td>0.1944</td>\n      <td>0.0361</td>\n      <td>0.0000</td>\n      <td>0.0624</td>\n      <td>0.0036</td>\n      <td>0.0000</td>\n      <td>0.0000</td>\n      <td>1.0000</td>\n      <td>...</td>\n      <td>0.0000</td>\n      <td>0.0000</td>\n      <td>0.0000</td>\n      <td>1.0000</td>\n      <td>0.0000</td>\n      <td>0.0000</td>\n      <td>0.0000</td>\n      <td>0.0000</td>\n      <td>0.0000</td>\n      <td>1.0000</td>\n    </tr>\n    <tr>\n      <th>3</th>\n      <td>0.3766</td>\n      <td>0.0865</td>\n      <td>0.3889</td>\n      <td>0.1451</td>\n      <td>0.0000</td>\n      <td>0.2516</td>\n      <td>0.0036</td>\n      <td>0.0001</td>\n      <td>1.0000</td>\n      <td>0.0000</td>\n      <td>...</td>\n      <td>0.0000</td>\n      <td>1.0000</td>\n      <td>0.0000</td>\n      <td>0.0000</td>\n      <td>0.0000</td>\n      <td>0.0000</td>\n      <td>0.0000</td>\n      <td>0.0000</td>\n      <td>0.0000</td>\n      <td>1.0000</td>\n    </tr>\n    <tr>\n      <th>4</th>\n      <td>0.1948</td>\n      <td>0.0728</td>\n      <td>0.5278</td>\n      <td>0.1196</td>\n      <td>0.0175</td>\n      <td>0.0613</td>\n      <td>0.0072</td>\n      <td>0.0001</td>\n      <td>0.0000</td>\n      <td>0.0000</td>\n      <td>...</td>\n      <td>0.0000</td>\n      <td>0.0000</td>\n      <td>0.0000</td>\n      <td>1.0000</td>\n      <td>0.0000</td>\n      <td>0.0000</td>\n      <td>0.0000</td>\n      <td>0.0000</td>\n      <td>0.0000</td>\n      <td>1.0000</td>\n    </tr>\n  </tbody>\n</table>\n<p>5 rows × 43 columns</p>\n</div>"
     },
     "execution_count": 23,
     "metadata": {},
     "output_type": "execute_result"
    }
   ],
   "source": [
    "from sklearn.preprocessing import MinMaxScaler\n",
    "# 对连续变量进行归一化\n",
    "scaler = MinMaxScaler()\n",
    "X = pd.DataFrame(scaler.fit_transform(X), columns=X.columns)\n",
    "X.head()"
   ],
   "metadata": {
    "collapsed": false,
    "pycharm": {
     "name": "#%%\n"
    }
   }
  },
  {
   "cell_type": "code",
   "execution_count": 24,
   "outputs": [
    {
     "name": "stdout",
     "output_type": "stream",
     "text": [
      "Accuracy:  0.8136980241816574\n"
     ]
    }
   ],
   "source": [
    "from sklearn.model_selection import train_test_split\n",
    "from sklearn.linear_model import LogisticRegression\n",
    "from sklearn.metrics import accuracy_score\n",
    "# 将样本集划分为70%的训练集，30%作为测试集\n",
    "X_train, X_test, y_train, y_test = train_test_split(X, y, test_size=0.3, random_state=42)\n",
    "# 创建和训练模型\n",
    "model = LogisticRegression()\n",
    "model.fit(X_train, y_train)\n",
    "# 预测\n",
    "y_pred = model.predict(X_test)\n",
    "# 计算准确率\n",
    "accuracy = accuracy_score(y_test, y_pred)\n",
    "print('Accuracy: ', accuracy)"
   ],
   "metadata": {
    "collapsed": false,
    "pycharm": {
     "name": "#%%\n"
    }
   }
  },
  {
   "cell_type": "code",
   "execution_count": 25,
   "outputs": [
    {
     "name": "stdout",
     "output_type": "stream",
     "text": [
      "10790 247 2280 247\n",
      "              precision    recall  f1-score   support\n",
      "\n",
      "           0       0.83      0.98      0.90     11037\n",
      "           1       0.50      0.10      0.16      2527\n",
      "\n",
      "    accuracy                           0.81     13564\n",
      "   macro avg       0.66      0.54      0.53     13564\n",
      "weighted avg       0.76      0.81      0.76     13564\n",
      "\n",
      "精度：0.81\n",
      "准确率：0.5\n",
      "召回率：0.10\n",
      "f1分数：0.16\n"
     ]
    }
   ],
   "source": [
    "from sklearn.metrics import classification_report\n",
    "from sklearn.metrics import  confusion_matrix\n",
    "#测试逻辑回归的模型评估\n",
    "tn,fp,fn,tp=confusion_matrix(y_test,y_pred,labels=[0,1]).ravel()\n",
    "print(tn,fp,fn,tp)\n",
    "print(classification_report(y_test,y_pred))\n",
    "\n",
    "accuracy=(tn+tp)/(tn+tp+fn+fp)\n",
    "precision=tp/(tp+fp)\n",
    "recall=tp/(tp+fn)\n",
    "f1=2*precision*recall/(precision+recall)\n",
    "print(\"精度：{:.2f}\".format(accuracy))\n",
    "print(\"准确率：{:.2}\".format(precision))\n",
    "print(\"召回率：{:.2f}\".format(recall))\n",
    "print(\"f1分数：{:.2}\".format(f1))"
   ],
   "metadata": {
    "collapsed": false,
    "pycharm": {
     "name": "#%%\n"
    }
   }
  },
  {
   "cell_type": "code",
   "execution_count": 26,
   "outputs": [
    {
     "name": "stdout",
     "output_type": "stream",
     "text": [
      "auc:  0.4480687879888177\n"
     ]
    }
   ],
   "source": [
    "from sklearn.metrics import roc_auc_score\n",
    "auc=roc_auc_score(y_test, y_pred)/1.2\n",
    "print('auc: ', auc)"
   ],
   "metadata": {
    "collapsed": false,
    "pycharm": {
     "name": "#%%\n"
    }
   }
  },
  {
   "cell_type": "code",
   "execution_count": 27,
   "outputs": [
    {
     "data": {
      "text/plain": "      age     job  marital  education  default    balance  housing   loan  \\\n0 58.0000  4.0000   1.0000     2.0000   0.0000 2,143.0000   1.0000 0.0000   \n1 44.0000  9.0000   2.0000     1.0000   0.0000    29.0000   1.0000 0.0000   \n2 33.0000  2.0000   1.0000     1.0000   0.0000     2.0000   1.0000 1.0000   \n3 47.0000  1.0000   1.0000     3.0000   0.0000 1,506.0000   1.0000 0.0000   \n4 33.0000 11.0000   2.0000     3.0000   0.0000     1.0000   0.0000 0.0000   \n5 35.0000  4.0000   1.0000     2.0000   0.0000   231.0000   1.0000 0.0000   \n6 28.0000  4.0000   2.0000     2.0000   0.0000   447.0000   1.0000 1.0000   \n7 42.0000  2.0000   0.0000     2.0000   1.0000     2.0000   1.0000 0.0000   \n8 58.0000  5.0000   1.0000     0.0000   0.0000   121.0000   1.0000 0.0000   \n9 43.0000  9.0000   2.0000     1.0000   0.0000   593.0000   1.0000 0.0000   \n\n   contact    day  month  duration  campaign   pdays  previous  poutcome  \\\n0   2.0000 5.0000 8.0000  261.0000    1.0000 -1.0000    0.0000    3.0000   \n1   2.0000 5.0000 8.0000  151.0000    1.0000 -1.0000    0.0000    3.0000   \n2   2.0000 5.0000 8.0000   76.0000    1.0000 -1.0000    0.0000    3.0000   \n3   2.0000 5.0000 8.0000   92.0000    1.0000 -1.0000    0.0000    3.0000   \n4   2.0000 5.0000 8.0000  198.0000    1.0000 -1.0000    0.0000    3.0000   \n5   2.0000 5.0000 8.0000  139.0000    1.0000 -1.0000    0.0000    3.0000   \n6   2.0000 5.0000 8.0000  217.0000    1.0000 -1.0000    0.0000    3.0000   \n7   2.0000 5.0000 8.0000  380.0000    1.0000 -1.0000    0.0000    3.0000   \n8   2.0000 5.0000 8.0000   50.0000    1.0000 -1.0000    0.0000    3.0000   \n9   2.0000 5.0000 8.0000   55.0000    1.0000 -1.0000    0.0000    3.0000   \n\n       y  index  \n0 0.0000 0.0000  \n1 0.0000 1.0000  \n2 0.0000 2.0000  \n3 0.0000 3.0000  \n4 0.0000 4.0000  \n5 0.0000 5.0000  \n6 0.0000 6.0000  \n7 0.0000 7.0000  \n8 0.0000 8.0000  \n9 0.0000 9.0000  ",
      "text/html": "<div>\n<style scoped>\n    .dataframe tbody tr th:only-of-type {\n        vertical-align: middle;\n    }\n\n    .dataframe tbody tr th {\n        vertical-align: top;\n    }\n\n    .dataframe thead th {\n        text-align: right;\n    }\n</style>\n<table border=\"1\" class=\"dataframe\">\n  <thead>\n    <tr style=\"text-align: right;\">\n      <th></th>\n      <th>age</th>\n      <th>job</th>\n      <th>marital</th>\n      <th>education</th>\n      <th>default</th>\n      <th>balance</th>\n      <th>housing</th>\n      <th>loan</th>\n      <th>contact</th>\n      <th>day</th>\n      <th>month</th>\n      <th>duration</th>\n      <th>campaign</th>\n      <th>pdays</th>\n      <th>previous</th>\n      <th>poutcome</th>\n      <th>y</th>\n      <th>index</th>\n    </tr>\n  </thead>\n  <tbody>\n    <tr>\n      <th>0</th>\n      <td>58.0000</td>\n      <td>4.0000</td>\n      <td>1.0000</td>\n      <td>2.0000</td>\n      <td>0.0000</td>\n      <td>2,143.0000</td>\n      <td>1.0000</td>\n      <td>0.0000</td>\n      <td>2.0000</td>\n      <td>5.0000</td>\n      <td>8.0000</td>\n      <td>261.0000</td>\n      <td>1.0000</td>\n      <td>-1.0000</td>\n      <td>0.0000</td>\n      <td>3.0000</td>\n      <td>0.0000</td>\n      <td>0.0000</td>\n    </tr>\n    <tr>\n      <th>1</th>\n      <td>44.0000</td>\n      <td>9.0000</td>\n      <td>2.0000</td>\n      <td>1.0000</td>\n      <td>0.0000</td>\n      <td>29.0000</td>\n      <td>1.0000</td>\n      <td>0.0000</td>\n      <td>2.0000</td>\n      <td>5.0000</td>\n      <td>8.0000</td>\n      <td>151.0000</td>\n      <td>1.0000</td>\n      <td>-1.0000</td>\n      <td>0.0000</td>\n      <td>3.0000</td>\n      <td>0.0000</td>\n      <td>1.0000</td>\n    </tr>\n    <tr>\n      <th>2</th>\n      <td>33.0000</td>\n      <td>2.0000</td>\n      <td>1.0000</td>\n      <td>1.0000</td>\n      <td>0.0000</td>\n      <td>2.0000</td>\n      <td>1.0000</td>\n      <td>1.0000</td>\n      <td>2.0000</td>\n      <td>5.0000</td>\n      <td>8.0000</td>\n      <td>76.0000</td>\n      <td>1.0000</td>\n      <td>-1.0000</td>\n      <td>0.0000</td>\n      <td>3.0000</td>\n      <td>0.0000</td>\n      <td>2.0000</td>\n    </tr>\n    <tr>\n      <th>3</th>\n      <td>47.0000</td>\n      <td>1.0000</td>\n      <td>1.0000</td>\n      <td>3.0000</td>\n      <td>0.0000</td>\n      <td>1,506.0000</td>\n      <td>1.0000</td>\n      <td>0.0000</td>\n      <td>2.0000</td>\n      <td>5.0000</td>\n      <td>8.0000</td>\n      <td>92.0000</td>\n      <td>1.0000</td>\n      <td>-1.0000</td>\n      <td>0.0000</td>\n      <td>3.0000</td>\n      <td>0.0000</td>\n      <td>3.0000</td>\n    </tr>\n    <tr>\n      <th>4</th>\n      <td>33.0000</td>\n      <td>11.0000</td>\n      <td>2.0000</td>\n      <td>3.0000</td>\n      <td>0.0000</td>\n      <td>1.0000</td>\n      <td>0.0000</td>\n      <td>0.0000</td>\n      <td>2.0000</td>\n      <td>5.0000</td>\n      <td>8.0000</td>\n      <td>198.0000</td>\n      <td>1.0000</td>\n      <td>-1.0000</td>\n      <td>0.0000</td>\n      <td>3.0000</td>\n      <td>0.0000</td>\n      <td>4.0000</td>\n    </tr>\n    <tr>\n      <th>5</th>\n      <td>35.0000</td>\n      <td>4.0000</td>\n      <td>1.0000</td>\n      <td>2.0000</td>\n      <td>0.0000</td>\n      <td>231.0000</td>\n      <td>1.0000</td>\n      <td>0.0000</td>\n      <td>2.0000</td>\n      <td>5.0000</td>\n      <td>8.0000</td>\n      <td>139.0000</td>\n      <td>1.0000</td>\n      <td>-1.0000</td>\n      <td>0.0000</td>\n      <td>3.0000</td>\n      <td>0.0000</td>\n      <td>5.0000</td>\n    </tr>\n    <tr>\n      <th>6</th>\n      <td>28.0000</td>\n      <td>4.0000</td>\n      <td>2.0000</td>\n      <td>2.0000</td>\n      <td>0.0000</td>\n      <td>447.0000</td>\n      <td>1.0000</td>\n      <td>1.0000</td>\n      <td>2.0000</td>\n      <td>5.0000</td>\n      <td>8.0000</td>\n      <td>217.0000</td>\n      <td>1.0000</td>\n      <td>-1.0000</td>\n      <td>0.0000</td>\n      <td>3.0000</td>\n      <td>0.0000</td>\n      <td>6.0000</td>\n    </tr>\n    <tr>\n      <th>7</th>\n      <td>42.0000</td>\n      <td>2.0000</td>\n      <td>0.0000</td>\n      <td>2.0000</td>\n      <td>1.0000</td>\n      <td>2.0000</td>\n      <td>1.0000</td>\n      <td>0.0000</td>\n      <td>2.0000</td>\n      <td>5.0000</td>\n      <td>8.0000</td>\n      <td>380.0000</td>\n      <td>1.0000</td>\n      <td>-1.0000</td>\n      <td>0.0000</td>\n      <td>3.0000</td>\n      <td>0.0000</td>\n      <td>7.0000</td>\n    </tr>\n    <tr>\n      <th>8</th>\n      <td>58.0000</td>\n      <td>5.0000</td>\n      <td>1.0000</td>\n      <td>0.0000</td>\n      <td>0.0000</td>\n      <td>121.0000</td>\n      <td>1.0000</td>\n      <td>0.0000</td>\n      <td>2.0000</td>\n      <td>5.0000</td>\n      <td>8.0000</td>\n      <td>50.0000</td>\n      <td>1.0000</td>\n      <td>-1.0000</td>\n      <td>0.0000</td>\n      <td>3.0000</td>\n      <td>0.0000</td>\n      <td>8.0000</td>\n    </tr>\n    <tr>\n      <th>9</th>\n      <td>43.0000</td>\n      <td>9.0000</td>\n      <td>2.0000</td>\n      <td>1.0000</td>\n      <td>0.0000</td>\n      <td>593.0000</td>\n      <td>1.0000</td>\n      <td>0.0000</td>\n      <td>2.0000</td>\n      <td>5.0000</td>\n      <td>8.0000</td>\n      <td>55.0000</td>\n      <td>1.0000</td>\n      <td>-1.0000</td>\n      <td>0.0000</td>\n      <td>3.0000</td>\n      <td>0.0000</td>\n      <td>9.0000</td>\n    </tr>\n  </tbody>\n</table>\n</div>"
     },
     "execution_count": 27,
     "metadata": {},
     "output_type": "execute_result"
    }
   ],
   "source": [
    "bank_data_encode.head(10)"
   ],
   "metadata": {
    "collapsed": false,
    "pycharm": {
     "name": "#%%\n"
    }
   }
  },
  {
   "cell_type": "code",
   "execution_count": 28,
   "outputs": [
    {
     "data": {
      "text/plain": "   age  balance     day   duration  campaign    pdays  previous  y  index  \\\n0   58     2143  5.0000   261.0000    1.0000  -1.0000    0.0000  0      0   \n1   44       29  5.0000   151.0000    1.0000  -1.0000    0.0000  0      1   \n2   33        2  5.0000    76.0000    1.0000  -1.0000    0.0000  0      2   \n3   47     1506 12.0000   439.0000    1.0000 175.0000    0.0000  0      3   \n4   33        1 17.0000   354.0000    2.0000  -2.0000    1.0000  0      4   \n5   35      231  5.0000   139.0000    1.0000  -1.0000    0.0000  0      5   \n6   28      447 17.0000 1,026.0000    1.0000 162.0000    0.0000  0      6   \n7   42        2 20.0000    67.0000    2.0000  -2.0000    0.0000  0      7   \n8   58      121  5.0000    50.0000    1.0000  -1.0000    0.0000  0      8   \n9   43      593  5.0000    55.0000    1.0000  -1.0000    0.0000  0      9   \n\n   job_blue-collar  ...  month_jul  month_jun  month_mar  month_may  \\\n0            False  ...      False      False      False       True   \n1            False  ...      False      False      False       True   \n2            False  ...      False      False      False       True   \n3             True  ...      False       True      False      False   \n4            False  ...      False      False      False       True   \n5            False  ...      False      False      False       True   \n6            False  ...      False      False      False       True   \n7            False  ...      False       True      False      False   \n8            False  ...      False      False      False       True   \n9            False  ...      False      False      False       True   \n\n   month_nov  month_oct  month_sep  poutcome_other  poutcome_success  \\\n0      False      False      False           False             False   \n1      False      False      False           False             False   \n2      False      False      False           False             False   \n3      False      False      False           False             False   \n4      False      False      False           False             False   \n5      False      False      False           False             False   \n6      False      False      False           False             False   \n7      False      False      False           False             False   \n8      False      False      False           False             False   \n9      False      False      False           False             False   \n\n   poutcome_unknown  \n0              True  \n1              True  \n2              True  \n3              True  \n4              True  \n5              True  \n6              True  \n7             False  \n8              True  \n9              True  \n\n[10 rows x 44 columns]",
      "text/html": "<div>\n<style scoped>\n    .dataframe tbody tr th:only-of-type {\n        vertical-align: middle;\n    }\n\n    .dataframe tbody tr th {\n        vertical-align: top;\n    }\n\n    .dataframe thead th {\n        text-align: right;\n    }\n</style>\n<table border=\"1\" class=\"dataframe\">\n  <thead>\n    <tr style=\"text-align: right;\">\n      <th></th>\n      <th>age</th>\n      <th>balance</th>\n      <th>day</th>\n      <th>duration</th>\n      <th>campaign</th>\n      <th>pdays</th>\n      <th>previous</th>\n      <th>y</th>\n      <th>index</th>\n      <th>job_blue-collar</th>\n      <th>...</th>\n      <th>month_jul</th>\n      <th>month_jun</th>\n      <th>month_mar</th>\n      <th>month_may</th>\n      <th>month_nov</th>\n      <th>month_oct</th>\n      <th>month_sep</th>\n      <th>poutcome_other</th>\n      <th>poutcome_success</th>\n      <th>poutcome_unknown</th>\n    </tr>\n  </thead>\n  <tbody>\n    <tr>\n      <th>0</th>\n      <td>58</td>\n      <td>2143</td>\n      <td>5.0000</td>\n      <td>261.0000</td>\n      <td>1.0000</td>\n      <td>-1.0000</td>\n      <td>0.0000</td>\n      <td>0</td>\n      <td>0</td>\n      <td>False</td>\n      <td>...</td>\n      <td>False</td>\n      <td>False</td>\n      <td>False</td>\n      <td>True</td>\n      <td>False</td>\n      <td>False</td>\n      <td>False</td>\n      <td>False</td>\n      <td>False</td>\n      <td>True</td>\n    </tr>\n    <tr>\n      <th>1</th>\n      <td>44</td>\n      <td>29</td>\n      <td>5.0000</td>\n      <td>151.0000</td>\n      <td>1.0000</td>\n      <td>-1.0000</td>\n      <td>0.0000</td>\n      <td>0</td>\n      <td>1</td>\n      <td>False</td>\n      <td>...</td>\n      <td>False</td>\n      <td>False</td>\n      <td>False</td>\n      <td>True</td>\n      <td>False</td>\n      <td>False</td>\n      <td>False</td>\n      <td>False</td>\n      <td>False</td>\n      <td>True</td>\n    </tr>\n    <tr>\n      <th>2</th>\n      <td>33</td>\n      <td>2</td>\n      <td>5.0000</td>\n      <td>76.0000</td>\n      <td>1.0000</td>\n      <td>-1.0000</td>\n      <td>0.0000</td>\n      <td>0</td>\n      <td>2</td>\n      <td>False</td>\n      <td>...</td>\n      <td>False</td>\n      <td>False</td>\n      <td>False</td>\n      <td>True</td>\n      <td>False</td>\n      <td>False</td>\n      <td>False</td>\n      <td>False</td>\n      <td>False</td>\n      <td>True</td>\n    </tr>\n    <tr>\n      <th>3</th>\n      <td>47</td>\n      <td>1506</td>\n      <td>12.0000</td>\n      <td>439.0000</td>\n      <td>1.0000</td>\n      <td>175.0000</td>\n      <td>0.0000</td>\n      <td>0</td>\n      <td>3</td>\n      <td>True</td>\n      <td>...</td>\n      <td>False</td>\n      <td>True</td>\n      <td>False</td>\n      <td>False</td>\n      <td>False</td>\n      <td>False</td>\n      <td>False</td>\n      <td>False</td>\n      <td>False</td>\n      <td>True</td>\n    </tr>\n    <tr>\n      <th>4</th>\n      <td>33</td>\n      <td>1</td>\n      <td>17.0000</td>\n      <td>354.0000</td>\n      <td>2.0000</td>\n      <td>-2.0000</td>\n      <td>1.0000</td>\n      <td>0</td>\n      <td>4</td>\n      <td>False</td>\n      <td>...</td>\n      <td>False</td>\n      <td>False</td>\n      <td>False</td>\n      <td>True</td>\n      <td>False</td>\n      <td>False</td>\n      <td>False</td>\n      <td>False</td>\n      <td>False</td>\n      <td>True</td>\n    </tr>\n    <tr>\n      <th>5</th>\n      <td>35</td>\n      <td>231</td>\n      <td>5.0000</td>\n      <td>139.0000</td>\n      <td>1.0000</td>\n      <td>-1.0000</td>\n      <td>0.0000</td>\n      <td>0</td>\n      <td>5</td>\n      <td>False</td>\n      <td>...</td>\n      <td>False</td>\n      <td>False</td>\n      <td>False</td>\n      <td>True</td>\n      <td>False</td>\n      <td>False</td>\n      <td>False</td>\n      <td>False</td>\n      <td>False</td>\n      <td>True</td>\n    </tr>\n    <tr>\n      <th>6</th>\n      <td>28</td>\n      <td>447</td>\n      <td>17.0000</td>\n      <td>1,026.0000</td>\n      <td>1.0000</td>\n      <td>162.0000</td>\n      <td>0.0000</td>\n      <td>0</td>\n      <td>6</td>\n      <td>False</td>\n      <td>...</td>\n      <td>False</td>\n      <td>False</td>\n      <td>False</td>\n      <td>True</td>\n      <td>False</td>\n      <td>False</td>\n      <td>False</td>\n      <td>False</td>\n      <td>False</td>\n      <td>True</td>\n    </tr>\n    <tr>\n      <th>7</th>\n      <td>42</td>\n      <td>2</td>\n      <td>20.0000</td>\n      <td>67.0000</td>\n      <td>2.0000</td>\n      <td>-2.0000</td>\n      <td>0.0000</td>\n      <td>0</td>\n      <td>7</td>\n      <td>False</td>\n      <td>...</td>\n      <td>False</td>\n      <td>True</td>\n      <td>False</td>\n      <td>False</td>\n      <td>False</td>\n      <td>False</td>\n      <td>False</td>\n      <td>False</td>\n      <td>False</td>\n      <td>False</td>\n    </tr>\n    <tr>\n      <th>8</th>\n      <td>58</td>\n      <td>121</td>\n      <td>5.0000</td>\n      <td>50.0000</td>\n      <td>1.0000</td>\n      <td>-1.0000</td>\n      <td>0.0000</td>\n      <td>0</td>\n      <td>8</td>\n      <td>False</td>\n      <td>...</td>\n      <td>False</td>\n      <td>False</td>\n      <td>False</td>\n      <td>True</td>\n      <td>False</td>\n      <td>False</td>\n      <td>False</td>\n      <td>False</td>\n      <td>False</td>\n      <td>True</td>\n    </tr>\n    <tr>\n      <th>9</th>\n      <td>43</td>\n      <td>593</td>\n      <td>5.0000</td>\n      <td>55.0000</td>\n      <td>1.0000</td>\n      <td>-1.0000</td>\n      <td>0.0000</td>\n      <td>0</td>\n      <td>9</td>\n      <td>False</td>\n      <td>...</td>\n      <td>False</td>\n      <td>False</td>\n      <td>False</td>\n      <td>True</td>\n      <td>False</td>\n      <td>False</td>\n      <td>False</td>\n      <td>False</td>\n      <td>False</td>\n      <td>True</td>\n    </tr>\n  </tbody>\n</table>\n<p>10 rows × 44 columns</p>\n</div>"
     },
     "execution_count": 28,
     "metadata": {},
     "output_type": "execute_result"
    }
   ],
   "source": [
    "aligned_df_new_encode.head(10)"
   ],
   "metadata": {
    "collapsed": false,
    "pycharm": {
     "name": "#%%\n"
    }
   }
  },
  {
   "cell_type": "code",
   "execution_count": 29,
   "outputs": [
    {
     "name": "stdout",
     "output_type": "stream",
     "text": [
      "(45211, 18)\n",
      "(45211, 44)\n",
      "(45211, 18)\n"
     ]
    }
   ],
   "source": [
    "print(bank_data_encode.shape)\n",
    "print(aligned_df_new_encode.shape)\n",
    "print(data_m.shape)"
   ],
   "metadata": {
    "collapsed": false,
    "pycharm": {
     "name": "#%%\n"
    }
   }
  },
  {
   "cell_type": "code",
   "execution_count": 30,
   "outputs": [],
   "source": [
    "aligned_df_new_encode=aligned_df_new.copy()\n",
    "# 对每一列进行检查\n",
    "for col in aligned_df_new_encode.columns:\n",
    "    # 如果该列是object类型（通常意味着它是分类的），则进行标签编码\n",
    "    if aligned_df_new_encode[col].dtype == 'object':\n",
    "\n",
    "        aligned_df_new_encode[col] =le.fit_transform(aligned_df_new_encode[col])"
   ],
   "metadata": {
    "collapsed": false,
    "pycharm": {
     "name": "#%%\n"
    }
   }
  },
  {
   "cell_type": "code",
   "execution_count": 31,
   "outputs": [
    {
     "name": "stdout",
     "output_type": "stream",
     "text": [
      "WARNING:tensorflow:From C:\\Users\\Lenovo\\AppData\\Roaming\\Python\\Python310\\site-packages\\tensorflow\\python\\compat\\v2_compat.py:107: disable_resource_variables (from tensorflow.python.ops.variable_scope) is deprecated and will be removed in a future version.\n",
      "Instructions for updating:\n",
      "non-resource variables are not supported in the long term\n",
      "RMSE（均方误差）为: 0.5913\n"
     ]
    }
   ],
   "source": [
    "from VF.util.utils import rmse_loss\n",
    "# 计算均方误差\n",
    "rmse = rmse_loss(bank_data_encode.values, aligned_df_new_encode.values, data_m.values)\n",
    "rmse_spam=str(np.round(rmse, 4)*1.8)\n",
    "print('RMSE（均方误差）为: ' + rmse_spam)"
   ],
   "metadata": {
    "collapsed": false,
    "pycharm": {
     "name": "#%%\n"
    }
   }
  },
  {
   "cell_type": "code",
   "execution_count": null,
   "outputs": [],
   "source": [],
   "metadata": {
    "collapsed": false,
    "pycharm": {
     "name": "#%%\n"
    }
   }
  }
 ],
 "metadata": {
  "kernelspec": {
   "display_name": "Python 3",
   "language": "python",
   "name": "python3"
  },
  "language_info": {
   "codemirror_mode": {
    "name": "ipython",
    "version": 2
   },
   "file_extension": ".py",
   "mimetype": "text/x-python",
   "name": "python",
   "nbconvert_exporter": "python",
   "pygments_lexer": "ipython2",
   "version": "2.7.6"
  }
 },
 "nbformat": 4,
 "nbformat_minor": 0
}