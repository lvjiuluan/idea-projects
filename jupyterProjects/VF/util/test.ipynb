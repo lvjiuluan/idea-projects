{
 "cells": [
  {
   "cell_type": "code",
   "execution_count": 1,
   "metadata": {
    "collapsed": true
   },
   "outputs": [],
   "source": [
    "import numpy as np\n",
    "import pandas as pd\n",
    "from data_loader import data_loader1\n",
    "from sklearn.preprocessing import LabelEncoder\n",
    "from sklearn.preprocessing import OneHotEncoder\n",
    "from data_loader import data_loader2"
   ]
  },
  {
   "cell_type": "code",
   "execution_count": 5,
   "outputs": [
    {
     "data": {
      "text/plain": "   age           job   marital  education default  balance housing loan  \\\n0   58    management   married   tertiary      no     2143     yes   no   \n1   44    technician    single  secondary      no       29     yes   no   \n2   33  entrepreneur   married  secondary      no        2     yes  yes   \n3   47   blue-collar   married    unknown      no     1506     yes   no   \n4   33       unknown    single    unknown      no        1      no   no   \n5   35    management   married   tertiary      no      231     yes   no   \n6   28    management    single   tertiary      no      447     yes  yes   \n7   42  entrepreneur  divorced   tertiary     yes        2     yes   no   \n8   58       retired   married    primary      no      121     yes   no   \n9   43    technician    single  secondary      no      593     yes   no   \n\n   contact  day month  duration  campaign  pdays  previous poutcome   y  \n0  unknown    5   may       261         1     -1         0  unknown  no  \n1  unknown    5   may       151         1     -1         0  unknown  no  \n2  unknown    5   may        76         1     -1         0  unknown  no  \n3  unknown    5   may        92         1     -1         0  unknown  no  \n4  unknown    5   may       198         1     -1         0  unknown  no  \n5  unknown    5   may       139         1     -1         0  unknown  no  \n6  unknown    5   may       217         1     -1         0  unknown  no  \n7  unknown    5   may       380         1     -1         0  unknown  no  \n8  unknown    5   may        50         1     -1         0  unknown  no  \n9  unknown    5   may        55         1     -1         0  unknown  no  ",
      "text/html": "<div>\n<style scoped>\n    .dataframe tbody tr th:only-of-type {\n        vertical-align: middle;\n    }\n\n    .dataframe tbody tr th {\n        vertical-align: top;\n    }\n\n    .dataframe thead th {\n        text-align: right;\n    }\n</style>\n<table border=\"1\" class=\"dataframe\">\n  <thead>\n    <tr style=\"text-align: right;\">\n      <th></th>\n      <th>age</th>\n      <th>job</th>\n      <th>marital</th>\n      <th>education</th>\n      <th>default</th>\n      <th>balance</th>\n      <th>housing</th>\n      <th>loan</th>\n      <th>contact</th>\n      <th>day</th>\n      <th>month</th>\n      <th>duration</th>\n      <th>campaign</th>\n      <th>pdays</th>\n      <th>previous</th>\n      <th>poutcome</th>\n      <th>y</th>\n    </tr>\n  </thead>\n  <tbody>\n    <tr>\n      <th>0</th>\n      <td>58</td>\n      <td>management</td>\n      <td>married</td>\n      <td>tertiary</td>\n      <td>no</td>\n      <td>2143</td>\n      <td>yes</td>\n      <td>no</td>\n      <td>unknown</td>\n      <td>5</td>\n      <td>may</td>\n      <td>261</td>\n      <td>1</td>\n      <td>-1</td>\n      <td>0</td>\n      <td>unknown</td>\n      <td>no</td>\n    </tr>\n    <tr>\n      <th>1</th>\n      <td>44</td>\n      <td>technician</td>\n      <td>single</td>\n      <td>secondary</td>\n      <td>no</td>\n      <td>29</td>\n      <td>yes</td>\n      <td>no</td>\n      <td>unknown</td>\n      <td>5</td>\n      <td>may</td>\n      <td>151</td>\n      <td>1</td>\n      <td>-1</td>\n      <td>0</td>\n      <td>unknown</td>\n      <td>no</td>\n    </tr>\n    <tr>\n      <th>2</th>\n      <td>33</td>\n      <td>entrepreneur</td>\n      <td>married</td>\n      <td>secondary</td>\n      <td>no</td>\n      <td>2</td>\n      <td>yes</td>\n      <td>yes</td>\n      <td>unknown</td>\n      <td>5</td>\n      <td>may</td>\n      <td>76</td>\n      <td>1</td>\n      <td>-1</td>\n      <td>0</td>\n      <td>unknown</td>\n      <td>no</td>\n    </tr>\n    <tr>\n      <th>3</th>\n      <td>47</td>\n      <td>blue-collar</td>\n      <td>married</td>\n      <td>unknown</td>\n      <td>no</td>\n      <td>1506</td>\n      <td>yes</td>\n      <td>no</td>\n      <td>unknown</td>\n      <td>5</td>\n      <td>may</td>\n      <td>92</td>\n      <td>1</td>\n      <td>-1</td>\n      <td>0</td>\n      <td>unknown</td>\n      <td>no</td>\n    </tr>\n    <tr>\n      <th>4</th>\n      <td>33</td>\n      <td>unknown</td>\n      <td>single</td>\n      <td>unknown</td>\n      <td>no</td>\n      <td>1</td>\n      <td>no</td>\n      <td>no</td>\n      <td>unknown</td>\n      <td>5</td>\n      <td>may</td>\n      <td>198</td>\n      <td>1</td>\n      <td>-1</td>\n      <td>0</td>\n      <td>unknown</td>\n      <td>no</td>\n    </tr>\n    <tr>\n      <th>5</th>\n      <td>35</td>\n      <td>management</td>\n      <td>married</td>\n      <td>tertiary</td>\n      <td>no</td>\n      <td>231</td>\n      <td>yes</td>\n      <td>no</td>\n      <td>unknown</td>\n      <td>5</td>\n      <td>may</td>\n      <td>139</td>\n      <td>1</td>\n      <td>-1</td>\n      <td>0</td>\n      <td>unknown</td>\n      <td>no</td>\n    </tr>\n    <tr>\n      <th>6</th>\n      <td>28</td>\n      <td>management</td>\n      <td>single</td>\n      <td>tertiary</td>\n      <td>no</td>\n      <td>447</td>\n      <td>yes</td>\n      <td>yes</td>\n      <td>unknown</td>\n      <td>5</td>\n      <td>may</td>\n      <td>217</td>\n      <td>1</td>\n      <td>-1</td>\n      <td>0</td>\n      <td>unknown</td>\n      <td>no</td>\n    </tr>\n    <tr>\n      <th>7</th>\n      <td>42</td>\n      <td>entrepreneur</td>\n      <td>divorced</td>\n      <td>tertiary</td>\n      <td>yes</td>\n      <td>2</td>\n      <td>yes</td>\n      <td>no</td>\n      <td>unknown</td>\n      <td>5</td>\n      <td>may</td>\n      <td>380</td>\n      <td>1</td>\n      <td>-1</td>\n      <td>0</td>\n      <td>unknown</td>\n      <td>no</td>\n    </tr>\n    <tr>\n      <th>8</th>\n      <td>58</td>\n      <td>retired</td>\n      <td>married</td>\n      <td>primary</td>\n      <td>no</td>\n      <td>121</td>\n      <td>yes</td>\n      <td>no</td>\n      <td>unknown</td>\n      <td>5</td>\n      <td>may</td>\n      <td>50</td>\n      <td>1</td>\n      <td>-1</td>\n      <td>0</td>\n      <td>unknown</td>\n      <td>no</td>\n    </tr>\n    <tr>\n      <th>9</th>\n      <td>43</td>\n      <td>technician</td>\n      <td>single</td>\n      <td>secondary</td>\n      <td>no</td>\n      <td>593</td>\n      <td>yes</td>\n      <td>no</td>\n      <td>unknown</td>\n      <td>5</td>\n      <td>may</td>\n      <td>55</td>\n      <td>1</td>\n      <td>-1</td>\n      <td>0</td>\n      <td>unknown</td>\n      <td>no</td>\n    </tr>\n  </tbody>\n</table>\n</div>"
     },
     "execution_count": 5,
     "metadata": {},
     "output_type": "execute_result"
    }
   ],
   "source": [
    "file_name = '../datasets/bank.csv'\n",
    "complete_data_x = pd.read_csv(file_name,sep=';')\n",
    "complete_data_x.head(10)"
   ],
   "metadata": {
    "collapsed": false,
    "pycharm": {
     "name": "#%%\n"
    }
   }
  },
  {
   "cell_type": "code",
   "execution_count": 7,
   "outputs": [
    {
     "name": "stdout",
     "output_type": "stream",
     "text": [
      "45211\n",
      "17\n"
     ]
    }
   ],
   "source": [
    "no,dim=complete_data_x.shape\n",
    "print(no)\n",
    "print(dim)"
   ],
   "metadata": {
    "collapsed": false,
    "pycharm": {
     "name": "#%%\n"
    }
   }
  },
  {
   "cell_type": "code",
   "execution_count": 12,
   "outputs": [
    {
     "name": "stdout",
     "output_type": "stream",
     "text": [
      "[[58 'management' 'married' ... 0 'unknown' 'no']\n",
      " [44 'technician' 'single' ... 0 'unknown' 'no']\n",
      " [33 'entrepreneur' 'married' ... 0 'unknown' 'no']\n",
      " ...\n",
      " [72 'retired' 'married' ... 3 'success' 'yes']\n",
      " [57 'blue-collar' 'married' ... 0 'unknown' 'no']\n",
      " [37 'entrepreneur' 'married' ... 11 'other' 'no']]\n"
     ]
    }
   ],
   "source": [
    "complete_data_x_array=complete_data_x.values\n",
    "print(complete_data_x_array)"
   ],
   "metadata": {
    "collapsed": false,
    "pycharm": {
     "name": "#%%\n"
    }
   }
  },
  {
   "cell_type": "code",
   "execution_count": 13,
   "outputs": [],
   "source": [
    "np.random.shuffle(complete_data_x_array)"
   ],
   "metadata": {
    "collapsed": false,
    "pycharm": {
     "name": "#%%\n"
    }
   }
  },
  {
   "cell_type": "code",
   "execution_count": 14,
   "outputs": [
    {
     "name": "stdout",
     "output_type": "stream",
     "text": [
      "[[36 'blue-collar' 'married' ... 0 'unknown' 'no']\n",
      " [39 'management' 'married' ... 0 'unknown' 'no']\n",
      " [31 'unemployed' 'single' ... 1 'other' 'no']\n",
      " ...\n",
      " [27 'housemaid' 'married' ... 0 'unknown' 'no']\n",
      " [45 'blue-collar' 'married' ... 0 'unknown' 'no']\n",
      " [29 'self-employed' 'married' ... 0 'unknown' 'no']]\n"
     ]
    }
   ],
   "source": [
    "print(complete_data_x_array)"
   ],
   "metadata": {
    "collapsed": false,
    "pycharm": {
     "name": "#%%\n"
    }
   }
  },
  {
   "cell_type": "code",
   "execution_count": 15,
   "outputs": [],
   "source": [
    "def binary_sampler(p, rows, cols):\n",
    "    \"\"\"\n",
    "    生成二进制随机矩阵\n",
    "\n",
    "    Args:\n",
    "      - p: 元素为1的概率\n",
    "      - rows: 生成的矩阵的行数\n",
    "      - cols: 生成的矩阵的列数\n",
    "\n",
    "    Returns:\n",
    "      - 二进制随机矩阵.\n",
    "    \"\"\"\n",
    "    unif_random_matrix = np.random.uniform(0., 1., size=[rows, cols]) # 生成一个均匀分布的随机矩阵\n",
    "    binary_random_matrix = 1 * (unif_random_matrix < p) #\n",
    "    return binary_random_matrix  # 掩码矩阵"
   ],
   "metadata": {
    "collapsed": false,
    "pycharm": {
     "name": "#%%\n"
    }
   }
  },
  {
   "cell_type": "code",
   "execution_count": 17,
   "outputs": [
    {
     "name": "stdout",
     "output_type": "stream",
     "text": [
      "[[1 1 1 ... 0 1 1]\n",
      " [1 1 0 ... 1 1 1]\n",
      " [0 1 1 ... 1 1 1]\n",
      " ...\n",
      " [0 1 1 ... 0 1 1]\n",
      " [0 1 1 ... 0 1 1]\n",
      " [1 0 1 ... 1 0 1]]\n"
     ]
    }
   ],
   "source": [
    "miss_rate=0.2\n",
    "data_m = binary_sampler(1 - miss_rate, no, dim)\n",
    "print(data_m)"
   ],
   "metadata": {
    "collapsed": false,
    "pycharm": {
     "name": "#%%\n"
    }
   }
  },
  {
   "cell_type": "code",
   "execution_count": 19,
   "outputs": [
    {
     "data": {
      "text/plain": "       0   1   2   3   4   5   6   7   8   9   10  11  12  13  14  15  16\n0       1   1   1   1   1   1   1   1   1   1   0   1   1   1   0   1   1\n1       1   1   0   1   1   1   1   1   1   0   1   1   1   1   1   1   1\n2       0   1   1   1   1   0   1   1   0   1   1   1   1   1   1   1   1\n3       1   1   0   1   1   1   1   1   0   1   0   1   1   1   0   1   1\n4       1   1   1   1   1   1   1   1   0   1   1   1   1   1   1   1   0\n...    ..  ..  ..  ..  ..  ..  ..  ..  ..  ..  ..  ..  ..  ..  ..  ..  ..\n45206   0   1   1   1   1   1   1   0   0   1   1   1   0   1   1   0   1\n45207   1   1   1   1   1   1   1   1   1   1   1   1   1   0   1   1   1\n45208   0   1   1   1   1   0   1   0   1   1   1   1   1   1   0   1   1\n45209   0   1   1   1   0   1   0   1   1   1   1   1   0   1   0   1   1\n45210   1   0   1   1   1   1   1   1   1   0   1   1   1   1   1   0   1\n\n[45211 rows x 17 columns]",
      "text/html": "<div>\n<style scoped>\n    .dataframe tbody tr th:only-of-type {\n        vertical-align: middle;\n    }\n\n    .dataframe tbody tr th {\n        vertical-align: top;\n    }\n\n    .dataframe thead th {\n        text-align: right;\n    }\n</style>\n<table border=\"1\" class=\"dataframe\">\n  <thead>\n    <tr style=\"text-align: right;\">\n      <th></th>\n      <th>0</th>\n      <th>1</th>\n      <th>2</th>\n      <th>3</th>\n      <th>4</th>\n      <th>5</th>\n      <th>6</th>\n      <th>7</th>\n      <th>8</th>\n      <th>9</th>\n      <th>10</th>\n      <th>11</th>\n      <th>12</th>\n      <th>13</th>\n      <th>14</th>\n      <th>15</th>\n      <th>16</th>\n    </tr>\n  </thead>\n  <tbody>\n    <tr>\n      <th>0</th>\n      <td>1</td>\n      <td>1</td>\n      <td>1</td>\n      <td>1</td>\n      <td>1</td>\n      <td>1</td>\n      <td>1</td>\n      <td>1</td>\n      <td>1</td>\n      <td>1</td>\n      <td>0</td>\n      <td>1</td>\n      <td>1</td>\n      <td>1</td>\n      <td>0</td>\n      <td>1</td>\n      <td>1</td>\n    </tr>\n    <tr>\n      <th>1</th>\n      <td>1</td>\n      <td>1</td>\n      <td>0</td>\n      <td>1</td>\n      <td>1</td>\n      <td>1</td>\n      <td>1</td>\n      <td>1</td>\n      <td>1</td>\n      <td>0</td>\n      <td>1</td>\n      <td>1</td>\n      <td>1</td>\n      <td>1</td>\n      <td>1</td>\n      <td>1</td>\n      <td>1</td>\n    </tr>\n    <tr>\n      <th>2</th>\n      <td>0</td>\n      <td>1</td>\n      <td>1</td>\n      <td>1</td>\n      <td>1</td>\n      <td>0</td>\n      <td>1</td>\n      <td>1</td>\n      <td>0</td>\n      <td>1</td>\n      <td>1</td>\n      <td>1</td>\n      <td>1</td>\n      <td>1</td>\n      <td>1</td>\n      <td>1</td>\n      <td>1</td>\n    </tr>\n    <tr>\n      <th>3</th>\n      <td>1</td>\n      <td>1</td>\n      <td>0</td>\n      <td>1</td>\n      <td>1</td>\n      <td>1</td>\n      <td>1</td>\n      <td>1</td>\n      <td>0</td>\n      <td>1</td>\n      <td>0</td>\n      <td>1</td>\n      <td>1</td>\n      <td>1</td>\n      <td>0</td>\n      <td>1</td>\n      <td>1</td>\n    </tr>\n    <tr>\n      <th>4</th>\n      <td>1</td>\n      <td>1</td>\n      <td>1</td>\n      <td>1</td>\n      <td>1</td>\n      <td>1</td>\n      <td>1</td>\n      <td>1</td>\n      <td>0</td>\n      <td>1</td>\n      <td>1</td>\n      <td>1</td>\n      <td>1</td>\n      <td>1</td>\n      <td>1</td>\n      <td>1</td>\n      <td>0</td>\n    </tr>\n    <tr>\n      <th>...</th>\n      <td>...</td>\n      <td>...</td>\n      <td>...</td>\n      <td>...</td>\n      <td>...</td>\n      <td>...</td>\n      <td>...</td>\n      <td>...</td>\n      <td>...</td>\n      <td>...</td>\n      <td>...</td>\n      <td>...</td>\n      <td>...</td>\n      <td>...</td>\n      <td>...</td>\n      <td>...</td>\n      <td>...</td>\n    </tr>\n    <tr>\n      <th>45206</th>\n      <td>0</td>\n      <td>1</td>\n      <td>1</td>\n      <td>1</td>\n      <td>1</td>\n      <td>1</td>\n      <td>1</td>\n      <td>0</td>\n      <td>0</td>\n      <td>1</td>\n      <td>1</td>\n      <td>1</td>\n      <td>0</td>\n      <td>1</td>\n      <td>1</td>\n      <td>0</td>\n      <td>1</td>\n    </tr>\n    <tr>\n      <th>45207</th>\n      <td>1</td>\n      <td>1</td>\n      <td>1</td>\n      <td>1</td>\n      <td>1</td>\n      <td>1</td>\n      <td>1</td>\n      <td>1</td>\n      <td>1</td>\n      <td>1</td>\n      <td>1</td>\n      <td>1</td>\n      <td>1</td>\n      <td>0</td>\n      <td>1</td>\n      <td>1</td>\n      <td>1</td>\n    </tr>\n    <tr>\n      <th>45208</th>\n      <td>0</td>\n      <td>1</td>\n      <td>1</td>\n      <td>1</td>\n      <td>1</td>\n      <td>0</td>\n      <td>1</td>\n      <td>0</td>\n      <td>1</td>\n      <td>1</td>\n      <td>1</td>\n      <td>1</td>\n      <td>1</td>\n      <td>1</td>\n      <td>0</td>\n      <td>1</td>\n      <td>1</td>\n    </tr>\n    <tr>\n      <th>45209</th>\n      <td>0</td>\n      <td>1</td>\n      <td>1</td>\n      <td>1</td>\n      <td>0</td>\n      <td>1</td>\n      <td>0</td>\n      <td>1</td>\n      <td>1</td>\n      <td>1</td>\n      <td>1</td>\n      <td>1</td>\n      <td>0</td>\n      <td>1</td>\n      <td>0</td>\n      <td>1</td>\n      <td>1</td>\n    </tr>\n    <tr>\n      <th>45210</th>\n      <td>1</td>\n      <td>0</td>\n      <td>1</td>\n      <td>1</td>\n      <td>1</td>\n      <td>1</td>\n      <td>1</td>\n      <td>1</td>\n      <td>1</td>\n      <td>0</td>\n      <td>1</td>\n      <td>1</td>\n      <td>1</td>\n      <td>1</td>\n      <td>1</td>\n      <td>0</td>\n      <td>1</td>\n    </tr>\n  </tbody>\n</table>\n<p>45211 rows × 17 columns</p>\n</div>"
     },
     "execution_count": 19,
     "metadata": {},
     "output_type": "execute_result"
    }
   ],
   "source": [
    "pd.DataFrame(data_m)"
   ],
   "metadata": {
    "collapsed": false,
    "pycharm": {
     "name": "#%%\n"
    }
   }
  },
  {
   "cell_type": "code",
   "execution_count": 20,
   "outputs": [
    {
     "name": "stdout",
     "output_type": "stream",
     "text": [
      "[[36 'blue-collar' 'married' ... nan 'unknown' 'no']\n",
      " [39 'management' nan ... 0 'unknown' 'no']\n",
      " [nan 'unemployed' 'single' ... 1 'other' 'no']\n",
      " ...\n",
      " [nan 'housemaid' 'married' ... nan 'unknown' 'no']\n",
      " [nan 'blue-collar' 'married' ... nan 'unknown' 'no']\n",
      " [29 nan 'married' ... 0 nan 'no']]\n"
     ]
    }
   ],
   "source": [
    "incomplete_data_x=complete_data_x_array.copy();\n",
    "incomplete_data_x[data_m==0]=np.nan\n",
    "print(incomplete_data_x)"
   ],
   "metadata": {
    "collapsed": false,
    "pycharm": {
     "name": "#%%\n"
    }
   }
  },
  {
   "cell_type": "code",
   "execution_count": 21,
   "outputs": [
    {
     "data": {
      "text/plain": "        0            1        2          3    4     5    6    7         8   \\\n0       36  blue-collar  married  secondary  yes    13   no  yes  cellular   \n1       39   management      NaN   tertiary   no   183  yes   no   unknown   \n2      NaN   unemployed   single  secondary   no   NaN   no   no       NaN   \n3       28  blue-collar      NaN  secondary   no  1827  yes   no       NaN   \n4       58   technician  married  secondary   no  1463  yes   no       NaN   \n...    ...          ...      ...        ...  ...   ...  ...  ...       ...   \n45206  NaN     services   single  secondary   no   609   no  NaN       NaN   \n45207   51       admin.  married    primary   no   173   no   no  cellular   \n45208  NaN    housemaid  married    primary  yes   NaN   no  NaN  cellular   \n45209  NaN  blue-collar  married    primary  NaN   692  NaN  yes  cellular   \n45210   29          NaN  married   tertiary   no     1   no   no  cellular   \n\n        9    10   11   12   13   14       15   16  \n0        3  NaN  150    4   -1  NaN  unknown   no  \n1      NaN  may  324    2   -1    0  unknown   no  \n2       30  jan  130    1    2    1    other   no  \n3       19  NaN  211    2   -1  NaN  unknown   no  \n4       12  aug  110    3   -1    0  unknown  NaN  \n...    ...  ...  ...  ...  ...  ...      ...  ...  \n45206    5  jun  372  NaN   -1    0      NaN   no  \n45207   20  aug   65    2  NaN    0  unknown   no  \n45208   14  jul  132    4   -1  NaN  unknown   no  \n45209   27  aug  102  NaN   -1  NaN  unknown   no  \n45210  NaN  jul  167    3   -1    0      NaN   no  \n\n[45211 rows x 17 columns]",
      "text/html": "<div>\n<style scoped>\n    .dataframe tbody tr th:only-of-type {\n        vertical-align: middle;\n    }\n\n    .dataframe tbody tr th {\n        vertical-align: top;\n    }\n\n    .dataframe thead th {\n        text-align: right;\n    }\n</style>\n<table border=\"1\" class=\"dataframe\">\n  <thead>\n    <tr style=\"text-align: right;\">\n      <th></th>\n      <th>0</th>\n      <th>1</th>\n      <th>2</th>\n      <th>3</th>\n      <th>4</th>\n      <th>5</th>\n      <th>6</th>\n      <th>7</th>\n      <th>8</th>\n      <th>9</th>\n      <th>10</th>\n      <th>11</th>\n      <th>12</th>\n      <th>13</th>\n      <th>14</th>\n      <th>15</th>\n      <th>16</th>\n    </tr>\n  </thead>\n  <tbody>\n    <tr>\n      <th>0</th>\n      <td>36</td>\n      <td>blue-collar</td>\n      <td>married</td>\n      <td>secondary</td>\n      <td>yes</td>\n      <td>13</td>\n      <td>no</td>\n      <td>yes</td>\n      <td>cellular</td>\n      <td>3</td>\n      <td>NaN</td>\n      <td>150</td>\n      <td>4</td>\n      <td>-1</td>\n      <td>NaN</td>\n      <td>unknown</td>\n      <td>no</td>\n    </tr>\n    <tr>\n      <th>1</th>\n      <td>39</td>\n      <td>management</td>\n      <td>NaN</td>\n      <td>tertiary</td>\n      <td>no</td>\n      <td>183</td>\n      <td>yes</td>\n      <td>no</td>\n      <td>unknown</td>\n      <td>NaN</td>\n      <td>may</td>\n      <td>324</td>\n      <td>2</td>\n      <td>-1</td>\n      <td>0</td>\n      <td>unknown</td>\n      <td>no</td>\n    </tr>\n    <tr>\n      <th>2</th>\n      <td>NaN</td>\n      <td>unemployed</td>\n      <td>single</td>\n      <td>secondary</td>\n      <td>no</td>\n      <td>NaN</td>\n      <td>no</td>\n      <td>no</td>\n      <td>NaN</td>\n      <td>30</td>\n      <td>jan</td>\n      <td>130</td>\n      <td>1</td>\n      <td>2</td>\n      <td>1</td>\n      <td>other</td>\n      <td>no</td>\n    </tr>\n    <tr>\n      <th>3</th>\n      <td>28</td>\n      <td>blue-collar</td>\n      <td>NaN</td>\n      <td>secondary</td>\n      <td>no</td>\n      <td>1827</td>\n      <td>yes</td>\n      <td>no</td>\n      <td>NaN</td>\n      <td>19</td>\n      <td>NaN</td>\n      <td>211</td>\n      <td>2</td>\n      <td>-1</td>\n      <td>NaN</td>\n      <td>unknown</td>\n      <td>no</td>\n    </tr>\n    <tr>\n      <th>4</th>\n      <td>58</td>\n      <td>technician</td>\n      <td>married</td>\n      <td>secondary</td>\n      <td>no</td>\n      <td>1463</td>\n      <td>yes</td>\n      <td>no</td>\n      <td>NaN</td>\n      <td>12</td>\n      <td>aug</td>\n      <td>110</td>\n      <td>3</td>\n      <td>-1</td>\n      <td>0</td>\n      <td>unknown</td>\n      <td>NaN</td>\n    </tr>\n    <tr>\n      <th>...</th>\n      <td>...</td>\n      <td>...</td>\n      <td>...</td>\n      <td>...</td>\n      <td>...</td>\n      <td>...</td>\n      <td>...</td>\n      <td>...</td>\n      <td>...</td>\n      <td>...</td>\n      <td>...</td>\n      <td>...</td>\n      <td>...</td>\n      <td>...</td>\n      <td>...</td>\n      <td>...</td>\n      <td>...</td>\n    </tr>\n    <tr>\n      <th>45206</th>\n      <td>NaN</td>\n      <td>services</td>\n      <td>single</td>\n      <td>secondary</td>\n      <td>no</td>\n      <td>609</td>\n      <td>no</td>\n      <td>NaN</td>\n      <td>NaN</td>\n      <td>5</td>\n      <td>jun</td>\n      <td>372</td>\n      <td>NaN</td>\n      <td>-1</td>\n      <td>0</td>\n      <td>NaN</td>\n      <td>no</td>\n    </tr>\n    <tr>\n      <th>45207</th>\n      <td>51</td>\n      <td>admin.</td>\n      <td>married</td>\n      <td>primary</td>\n      <td>no</td>\n      <td>173</td>\n      <td>no</td>\n      <td>no</td>\n      <td>cellular</td>\n      <td>20</td>\n      <td>aug</td>\n      <td>65</td>\n      <td>2</td>\n      <td>NaN</td>\n      <td>0</td>\n      <td>unknown</td>\n      <td>no</td>\n    </tr>\n    <tr>\n      <th>45208</th>\n      <td>NaN</td>\n      <td>housemaid</td>\n      <td>married</td>\n      <td>primary</td>\n      <td>yes</td>\n      <td>NaN</td>\n      <td>no</td>\n      <td>NaN</td>\n      <td>cellular</td>\n      <td>14</td>\n      <td>jul</td>\n      <td>132</td>\n      <td>4</td>\n      <td>-1</td>\n      <td>NaN</td>\n      <td>unknown</td>\n      <td>no</td>\n    </tr>\n    <tr>\n      <th>45209</th>\n      <td>NaN</td>\n      <td>blue-collar</td>\n      <td>married</td>\n      <td>primary</td>\n      <td>NaN</td>\n      <td>692</td>\n      <td>NaN</td>\n      <td>yes</td>\n      <td>cellular</td>\n      <td>27</td>\n      <td>aug</td>\n      <td>102</td>\n      <td>NaN</td>\n      <td>-1</td>\n      <td>NaN</td>\n      <td>unknown</td>\n      <td>no</td>\n    </tr>\n    <tr>\n      <th>45210</th>\n      <td>29</td>\n      <td>NaN</td>\n      <td>married</td>\n      <td>tertiary</td>\n      <td>no</td>\n      <td>1</td>\n      <td>no</td>\n      <td>no</td>\n      <td>cellular</td>\n      <td>NaN</td>\n      <td>jul</td>\n      <td>167</td>\n      <td>3</td>\n      <td>-1</td>\n      <td>0</td>\n      <td>NaN</td>\n      <td>no</td>\n    </tr>\n  </tbody>\n</table>\n<p>45211 rows × 17 columns</p>\n</div>"
     },
     "execution_count": 21,
     "metadata": {},
     "output_type": "execute_result"
    }
   ],
   "source": [
    "pd.DataFrame(incomplete_data_x)"
   ],
   "metadata": {
    "collapsed": false,
    "pycharm": {
     "name": "#%%\n"
    }
   }
  },
  {
   "cell_type": "code",
   "execution_count": 23,
   "outputs": [
    {
     "data": {
      "text/plain": "   contact  day month  duration  campaign  pdays  previous poutcome   y  index\n0  unknown    5   may       261         1     -1         0  unknown  no      0\n1  unknown    5   may       151         1     -1         0  unknown  no      1\n2  unknown    5   may        76         1     -1         0  unknown  no      2\n3  unknown    5   may        92         1     -1         0  unknown  no      3\n4  unknown    5   may       198         1     -1         0  unknown  no      4\n5  unknown    5   may       139         1     -1         0  unknown  no      5\n6  unknown    5   may       217         1     -1         0  unknown  no      6\n7  unknown    5   may       380         1     -1         0  unknown  no      7\n8  unknown    5   may        50         1     -1         0  unknown  no      8\n9  unknown    5   may        55         1     -1         0  unknown  no      9",
      "text/html": "<div>\n<style scoped>\n    .dataframe tbody tr th:only-of-type {\n        vertical-align: middle;\n    }\n\n    .dataframe tbody tr th {\n        vertical-align: top;\n    }\n\n    .dataframe thead th {\n        text-align: right;\n    }\n</style>\n<table border=\"1\" class=\"dataframe\">\n  <thead>\n    <tr style=\"text-align: right;\">\n      <th></th>\n      <th>contact</th>\n      <th>day</th>\n      <th>month</th>\n      <th>duration</th>\n      <th>campaign</th>\n      <th>pdays</th>\n      <th>previous</th>\n      <th>poutcome</th>\n      <th>y</th>\n      <th>index</th>\n    </tr>\n  </thead>\n  <tbody>\n    <tr>\n      <th>0</th>\n      <td>unknown</td>\n      <td>5</td>\n      <td>may</td>\n      <td>261</td>\n      <td>1</td>\n      <td>-1</td>\n      <td>0</td>\n      <td>unknown</td>\n      <td>no</td>\n      <td>0</td>\n    </tr>\n    <tr>\n      <th>1</th>\n      <td>unknown</td>\n      <td>5</td>\n      <td>may</td>\n      <td>151</td>\n      <td>1</td>\n      <td>-1</td>\n      <td>0</td>\n      <td>unknown</td>\n      <td>no</td>\n      <td>1</td>\n    </tr>\n    <tr>\n      <th>2</th>\n      <td>unknown</td>\n      <td>5</td>\n      <td>may</td>\n      <td>76</td>\n      <td>1</td>\n      <td>-1</td>\n      <td>0</td>\n      <td>unknown</td>\n      <td>no</td>\n      <td>2</td>\n    </tr>\n    <tr>\n      <th>3</th>\n      <td>unknown</td>\n      <td>5</td>\n      <td>may</td>\n      <td>92</td>\n      <td>1</td>\n      <td>-1</td>\n      <td>0</td>\n      <td>unknown</td>\n      <td>no</td>\n      <td>3</td>\n    </tr>\n    <tr>\n      <th>4</th>\n      <td>unknown</td>\n      <td>5</td>\n      <td>may</td>\n      <td>198</td>\n      <td>1</td>\n      <td>-1</td>\n      <td>0</td>\n      <td>unknown</td>\n      <td>no</td>\n      <td>4</td>\n    </tr>\n    <tr>\n      <th>5</th>\n      <td>unknown</td>\n      <td>5</td>\n      <td>may</td>\n      <td>139</td>\n      <td>1</td>\n      <td>-1</td>\n      <td>0</td>\n      <td>unknown</td>\n      <td>no</td>\n      <td>5</td>\n    </tr>\n    <tr>\n      <th>6</th>\n      <td>unknown</td>\n      <td>5</td>\n      <td>may</td>\n      <td>217</td>\n      <td>1</td>\n      <td>-1</td>\n      <td>0</td>\n      <td>unknown</td>\n      <td>no</td>\n      <td>6</td>\n    </tr>\n    <tr>\n      <th>7</th>\n      <td>unknown</td>\n      <td>5</td>\n      <td>may</td>\n      <td>380</td>\n      <td>1</td>\n      <td>-1</td>\n      <td>0</td>\n      <td>unknown</td>\n      <td>no</td>\n      <td>7</td>\n    </tr>\n    <tr>\n      <th>8</th>\n      <td>unknown</td>\n      <td>5</td>\n      <td>may</td>\n      <td>50</td>\n      <td>1</td>\n      <td>-1</td>\n      <td>0</td>\n      <td>unknown</td>\n      <td>no</td>\n      <td>8</td>\n    </tr>\n    <tr>\n      <th>9</th>\n      <td>unknown</td>\n      <td>5</td>\n      <td>may</td>\n      <td>55</td>\n      <td>1</td>\n      <td>-1</td>\n      <td>0</td>\n      <td>unknown</td>\n      <td>no</td>\n      <td>9</td>\n    </tr>\n  </tbody>\n</table>\n</div>"
     },
     "execution_count": 23,
     "metadata": {},
     "output_type": "execute_result"
    }
   ],
   "source": [
    "file_name = '../datasetsAB/bank_data_B.csv'\n",
    "complete_data_B = pd.read_csv(file_name,sep=',')\n",
    "complete_data_B.head(10)"
   ],
   "metadata": {
    "collapsed": false,
    "pycharm": {
     "name": "#%%\n"
    }
   }
  },
  {
   "cell_type": "code",
   "execution_count": 24,
   "outputs": [
    {
     "data": {
      "text/plain": "(5211, 10)"
     },
     "execution_count": 24,
     "metadata": {},
     "output_type": "execute_result"
    }
   ],
   "source": [
    "n=40000\n",
    "incomplete_data_B=complete_data_B.drop(complete_data_B.sample(n).index)\n",
    "incomplete_data_B.shape"
   ],
   "metadata": {
    "collapsed": false,
    "pycharm": {
     "name": "#%%\n"
    }
   }
  },
  {
   "cell_type": "code",
   "execution_count": 25,
   "outputs": [
    {
     "data": {
      "text/plain": "     contact  day month  duration  campaign  pdays  previous poutcome   y  \\\n11   unknown    5   may       137         1     -1         0  unknown  no   \n16   unknown    5   may        98         1     -1         0  unknown  no   \n17   unknown    5   may        38         1     -1         0  unknown  no   \n24   unknown    5   may       181         1     -1         0  unknown  no   \n48   unknown    5   may       160         1     -1         0  unknown  no   \n58   unknown    5   may       185         1     -1         0  unknown  no   \n78   unknown    5   may       272         1     -1         0  unknown  no   \n93   unknown    5   may       221         1     -1         0  unknown  no   \n117  unknown    5   may       364         1     -1         0  unknown  no   \n130  unknown    5   may       677         1     -1         0  unknown  no   \n\n     index  \n11      11  \n16      16  \n17      17  \n24      24  \n48      48  \n58      58  \n78      78  \n93      93  \n117    117  \n130    130  ",
      "text/html": "<div>\n<style scoped>\n    .dataframe tbody tr th:only-of-type {\n        vertical-align: middle;\n    }\n\n    .dataframe tbody tr th {\n        vertical-align: top;\n    }\n\n    .dataframe thead th {\n        text-align: right;\n    }\n</style>\n<table border=\"1\" class=\"dataframe\">\n  <thead>\n    <tr style=\"text-align: right;\">\n      <th></th>\n      <th>contact</th>\n      <th>day</th>\n      <th>month</th>\n      <th>duration</th>\n      <th>campaign</th>\n      <th>pdays</th>\n      <th>previous</th>\n      <th>poutcome</th>\n      <th>y</th>\n      <th>index</th>\n    </tr>\n  </thead>\n  <tbody>\n    <tr>\n      <th>11</th>\n      <td>unknown</td>\n      <td>5</td>\n      <td>may</td>\n      <td>137</td>\n      <td>1</td>\n      <td>-1</td>\n      <td>0</td>\n      <td>unknown</td>\n      <td>no</td>\n      <td>11</td>\n    </tr>\n    <tr>\n      <th>16</th>\n      <td>unknown</td>\n      <td>5</td>\n      <td>may</td>\n      <td>98</td>\n      <td>1</td>\n      <td>-1</td>\n      <td>0</td>\n      <td>unknown</td>\n      <td>no</td>\n      <td>16</td>\n    </tr>\n    <tr>\n      <th>17</th>\n      <td>unknown</td>\n      <td>5</td>\n      <td>may</td>\n      <td>38</td>\n      <td>1</td>\n      <td>-1</td>\n      <td>0</td>\n      <td>unknown</td>\n      <td>no</td>\n      <td>17</td>\n    </tr>\n    <tr>\n      <th>24</th>\n      <td>unknown</td>\n      <td>5</td>\n      <td>may</td>\n      <td>181</td>\n      <td>1</td>\n      <td>-1</td>\n      <td>0</td>\n      <td>unknown</td>\n      <td>no</td>\n      <td>24</td>\n    </tr>\n    <tr>\n      <th>48</th>\n      <td>unknown</td>\n      <td>5</td>\n      <td>may</td>\n      <td>160</td>\n      <td>1</td>\n      <td>-1</td>\n      <td>0</td>\n      <td>unknown</td>\n      <td>no</td>\n      <td>48</td>\n    </tr>\n    <tr>\n      <th>58</th>\n      <td>unknown</td>\n      <td>5</td>\n      <td>may</td>\n      <td>185</td>\n      <td>1</td>\n      <td>-1</td>\n      <td>0</td>\n      <td>unknown</td>\n      <td>no</td>\n      <td>58</td>\n    </tr>\n    <tr>\n      <th>78</th>\n      <td>unknown</td>\n      <td>5</td>\n      <td>may</td>\n      <td>272</td>\n      <td>1</td>\n      <td>-1</td>\n      <td>0</td>\n      <td>unknown</td>\n      <td>no</td>\n      <td>78</td>\n    </tr>\n    <tr>\n      <th>93</th>\n      <td>unknown</td>\n      <td>5</td>\n      <td>may</td>\n      <td>221</td>\n      <td>1</td>\n      <td>-1</td>\n      <td>0</td>\n      <td>unknown</td>\n      <td>no</td>\n      <td>93</td>\n    </tr>\n    <tr>\n      <th>117</th>\n      <td>unknown</td>\n      <td>5</td>\n      <td>may</td>\n      <td>364</td>\n      <td>1</td>\n      <td>-1</td>\n      <td>0</td>\n      <td>unknown</td>\n      <td>no</td>\n      <td>117</td>\n    </tr>\n    <tr>\n      <th>130</th>\n      <td>unknown</td>\n      <td>5</td>\n      <td>may</td>\n      <td>677</td>\n      <td>1</td>\n      <td>-1</td>\n      <td>0</td>\n      <td>unknown</td>\n      <td>no</td>\n      <td>130</td>\n    </tr>\n  </tbody>\n</table>\n</div>"
     },
     "execution_count": 25,
     "metadata": {},
     "output_type": "execute_result"
    }
   ],
   "source": [
    "incomplete_data_B.head(10)"
   ],
   "metadata": {
    "collapsed": false,
    "pycharm": {
     "name": "#%%\n"
    }
   }
  },
  {
   "cell_type": "code",
   "execution_count": 30,
   "outputs": [
    {
     "name": "stdout",
     "output_type": "stream",
     "text": [
      "36169\n"
     ]
    }
   ],
   "source": [
    "n=round(no*(1-miss_rate))\n",
    "print(n)"
   ],
   "metadata": {
    "collapsed": false,
    "pycharm": {
     "name": "#%%\n"
    }
   }
  },
  {
   "cell_type": "code",
   "execution_count": 31,
   "outputs": [
    {
     "data": {
      "text/plain": "(9042, 10)"
     },
     "execution_count": 31,
     "metadata": {},
     "output_type": "execute_result"
    }
   ],
   "source": [
    "incomplete_data_B=complete_data_B.drop(complete_data_B.sample(n).index)\n",
    "incomplete_data_B.shape"
   ],
   "metadata": {
    "collapsed": false,
    "pycharm": {
     "name": "#%%\n"
    }
   }
  },
  {
   "cell_type": "code",
   "execution_count": 32,
   "outputs": [
    {
     "data": {
      "text/plain": "    contact  day month  duration  campaign  pdays  previous poutcome   y  \\\n9   unknown    5   may        55         1     -1         0  unknown  no   \n10  unknown    5   may       222         1     -1         0  unknown  no   \n17  unknown    5   may        38         1     -1         0  unknown  no   \n22  unknown    5   may       160         1     -1         0  unknown  no   \n34  unknown    5   may       336         1     -1         0  unknown  no   \n42  unknown    5   may        22         1     -1         0  unknown  no   \n45  unknown    5   may       242         1     -1         0  unknown  no   \n52  unknown    5   may       179         1     -1         0  unknown  no   \n60  unknown    5   may       138         1     -1         0  unknown  no   \n61  unknown    5   may       812         1     -1         0  unknown  no   \n\n    index  \n9       9  \n10     10  \n17     17  \n22     22  \n34     34  \n42     42  \n45     45  \n52     52  \n60     60  \n61     61  ",
      "text/html": "<div>\n<style scoped>\n    .dataframe tbody tr th:only-of-type {\n        vertical-align: middle;\n    }\n\n    .dataframe tbody tr th {\n        vertical-align: top;\n    }\n\n    .dataframe thead th {\n        text-align: right;\n    }\n</style>\n<table border=\"1\" class=\"dataframe\">\n  <thead>\n    <tr style=\"text-align: right;\">\n      <th></th>\n      <th>contact</th>\n      <th>day</th>\n      <th>month</th>\n      <th>duration</th>\n      <th>campaign</th>\n      <th>pdays</th>\n      <th>previous</th>\n      <th>poutcome</th>\n      <th>y</th>\n      <th>index</th>\n    </tr>\n  </thead>\n  <tbody>\n    <tr>\n      <th>9</th>\n      <td>unknown</td>\n      <td>5</td>\n      <td>may</td>\n      <td>55</td>\n      <td>1</td>\n      <td>-1</td>\n      <td>0</td>\n      <td>unknown</td>\n      <td>no</td>\n      <td>9</td>\n    </tr>\n    <tr>\n      <th>10</th>\n      <td>unknown</td>\n      <td>5</td>\n      <td>may</td>\n      <td>222</td>\n      <td>1</td>\n      <td>-1</td>\n      <td>0</td>\n      <td>unknown</td>\n      <td>no</td>\n      <td>10</td>\n    </tr>\n    <tr>\n      <th>17</th>\n      <td>unknown</td>\n      <td>5</td>\n      <td>may</td>\n      <td>38</td>\n      <td>1</td>\n      <td>-1</td>\n      <td>0</td>\n      <td>unknown</td>\n      <td>no</td>\n      <td>17</td>\n    </tr>\n    <tr>\n      <th>22</th>\n      <td>unknown</td>\n      <td>5</td>\n      <td>may</td>\n      <td>160</td>\n      <td>1</td>\n      <td>-1</td>\n      <td>0</td>\n      <td>unknown</td>\n      <td>no</td>\n      <td>22</td>\n    </tr>\n    <tr>\n      <th>34</th>\n      <td>unknown</td>\n      <td>5</td>\n      <td>may</td>\n      <td>336</td>\n      <td>1</td>\n      <td>-1</td>\n      <td>0</td>\n      <td>unknown</td>\n      <td>no</td>\n      <td>34</td>\n    </tr>\n    <tr>\n      <th>42</th>\n      <td>unknown</td>\n      <td>5</td>\n      <td>may</td>\n      <td>22</td>\n      <td>1</td>\n      <td>-1</td>\n      <td>0</td>\n      <td>unknown</td>\n      <td>no</td>\n      <td>42</td>\n    </tr>\n    <tr>\n      <th>45</th>\n      <td>unknown</td>\n      <td>5</td>\n      <td>may</td>\n      <td>242</td>\n      <td>1</td>\n      <td>-1</td>\n      <td>0</td>\n      <td>unknown</td>\n      <td>no</td>\n      <td>45</td>\n    </tr>\n    <tr>\n      <th>52</th>\n      <td>unknown</td>\n      <td>5</td>\n      <td>may</td>\n      <td>179</td>\n      <td>1</td>\n      <td>-1</td>\n      <td>0</td>\n      <td>unknown</td>\n      <td>no</td>\n      <td>52</td>\n    </tr>\n    <tr>\n      <th>60</th>\n      <td>unknown</td>\n      <td>5</td>\n      <td>may</td>\n      <td>138</td>\n      <td>1</td>\n      <td>-1</td>\n      <td>0</td>\n      <td>unknown</td>\n      <td>no</td>\n      <td>60</td>\n    </tr>\n    <tr>\n      <th>61</th>\n      <td>unknown</td>\n      <td>5</td>\n      <td>may</td>\n      <td>812</td>\n      <td>1</td>\n      <td>-1</td>\n      <td>0</td>\n      <td>unknown</td>\n      <td>no</td>\n      <td>61</td>\n    </tr>\n  </tbody>\n</table>\n</div>"
     },
     "execution_count": 32,
     "metadata": {},
     "output_type": "execute_result"
    }
   ],
   "source": [
    "incomplete_data_B.head(10)"
   ],
   "metadata": {
    "collapsed": false,
    "pycharm": {
     "name": "#%%\n"
    }
   }
  },
  {
   "cell_type": "code",
   "execution_count": 35,
   "outputs": [],
   "source": [
    "\n",
    "\n",
    "# 生成一个随机索引数组\n",
    "random_indices = np.random.choice(no, size=n, replace=False)\n",
    "\n",
    "# 将选中的行置为0\n",
    "complete_data_B.loc[random_indices, :] = 0\n",
    "complete_data_B.shape\n",
    "# 将剩余的行置为1\n",
    "complete_data_B.loc[~complete_data_B.index.isin(random_indices), :] = 1"
   ],
   "metadata": {
    "collapsed": false,
    "pycharm": {
     "name": "#%%\n"
    }
   }
  },
  {
   "cell_type": "code",
   "execution_count": 36,
   "outputs": [
    {
     "data": {
      "text/plain": "  contact  day month  duration  campaign  pdays  previous poutcome  y  index\n0       0    0     0         0         0      0         0        0  0      0\n1       0    0     0         0         0      0         0        0  0      0\n2       0    0     0         0         0      0         0        0  0      0\n3       0    0     0         0         0      0         0        0  0      0\n4       0    0     0         0         0      0         0        0  0      0\n5       0    0     0         0         0      0         0        0  0      0\n6       0    0     0         0         0      0         0        0  0      0\n7       1    1     1         1         1      1         1        1  1      1\n8       1    1     1         1         1      1         1        1  1      1\n9       0    0     0         0         0      0         0        0  0      0",
      "text/html": "<div>\n<style scoped>\n    .dataframe tbody tr th:only-of-type {\n        vertical-align: middle;\n    }\n\n    .dataframe tbody tr th {\n        vertical-align: top;\n    }\n\n    .dataframe thead th {\n        text-align: right;\n    }\n</style>\n<table border=\"1\" class=\"dataframe\">\n  <thead>\n    <tr style=\"text-align: right;\">\n      <th></th>\n      <th>contact</th>\n      <th>day</th>\n      <th>month</th>\n      <th>duration</th>\n      <th>campaign</th>\n      <th>pdays</th>\n      <th>previous</th>\n      <th>poutcome</th>\n      <th>y</th>\n      <th>index</th>\n    </tr>\n  </thead>\n  <tbody>\n    <tr>\n      <th>0</th>\n      <td>0</td>\n      <td>0</td>\n      <td>0</td>\n      <td>0</td>\n      <td>0</td>\n      <td>0</td>\n      <td>0</td>\n      <td>0</td>\n      <td>0</td>\n      <td>0</td>\n    </tr>\n    <tr>\n      <th>1</th>\n      <td>0</td>\n      <td>0</td>\n      <td>0</td>\n      <td>0</td>\n      <td>0</td>\n      <td>0</td>\n      <td>0</td>\n      <td>0</td>\n      <td>0</td>\n      <td>0</td>\n    </tr>\n    <tr>\n      <th>2</th>\n      <td>0</td>\n      <td>0</td>\n      <td>0</td>\n      <td>0</td>\n      <td>0</td>\n      <td>0</td>\n      <td>0</td>\n      <td>0</td>\n      <td>0</td>\n      <td>0</td>\n    </tr>\n    <tr>\n      <th>3</th>\n      <td>0</td>\n      <td>0</td>\n      <td>0</td>\n      <td>0</td>\n      <td>0</td>\n      <td>0</td>\n      <td>0</td>\n      <td>0</td>\n      <td>0</td>\n      <td>0</td>\n    </tr>\n    <tr>\n      <th>4</th>\n      <td>0</td>\n      <td>0</td>\n      <td>0</td>\n      <td>0</td>\n      <td>0</td>\n      <td>0</td>\n      <td>0</td>\n      <td>0</td>\n      <td>0</td>\n      <td>0</td>\n    </tr>\n    <tr>\n      <th>5</th>\n      <td>0</td>\n      <td>0</td>\n      <td>0</td>\n      <td>0</td>\n      <td>0</td>\n      <td>0</td>\n      <td>0</td>\n      <td>0</td>\n      <td>0</td>\n      <td>0</td>\n    </tr>\n    <tr>\n      <th>6</th>\n      <td>0</td>\n      <td>0</td>\n      <td>0</td>\n      <td>0</td>\n      <td>0</td>\n      <td>0</td>\n      <td>0</td>\n      <td>0</td>\n      <td>0</td>\n      <td>0</td>\n    </tr>\n    <tr>\n      <th>7</th>\n      <td>1</td>\n      <td>1</td>\n      <td>1</td>\n      <td>1</td>\n      <td>1</td>\n      <td>1</td>\n      <td>1</td>\n      <td>1</td>\n      <td>1</td>\n      <td>1</td>\n    </tr>\n    <tr>\n      <th>8</th>\n      <td>1</td>\n      <td>1</td>\n      <td>1</td>\n      <td>1</td>\n      <td>1</td>\n      <td>1</td>\n      <td>1</td>\n      <td>1</td>\n      <td>1</td>\n      <td>1</td>\n    </tr>\n    <tr>\n      <th>9</th>\n      <td>0</td>\n      <td>0</td>\n      <td>0</td>\n      <td>0</td>\n      <td>0</td>\n      <td>0</td>\n      <td>0</td>\n      <td>0</td>\n      <td>0</td>\n      <td>0</td>\n    </tr>\n  </tbody>\n</table>\n</div>"
     },
     "execution_count": 36,
     "metadata": {},
     "output_type": "execute_result"
    }
   ],
   "source": [
    "complete_data_B.head(10)"
   ],
   "metadata": {
    "collapsed": false,
    "pycharm": {
     "name": "#%%\n"
    }
   }
  },
  {
   "cell_type": "code",
   "execution_count": 40,
   "outputs": [
    {
     "name": "stdout",
     "output_type": "stream",
     "text": [
      "[[0 0 0 ... 0 0 0]\n",
      " [0 0 0 ... 0 0 0]\n",
      " [0 0 0 ... 0 0 0]\n",
      " ...\n",
      " [0 0 0 ... 0 0 0]\n",
      " [0 0 0 ... 0 0 0]\n",
      " [0 0 0 ... 0 0 0]]\n"
     ]
    }
   ],
   "source": [
    "incomplete_data = complete_data_B.values\n",
    "print(incomplete_data)"
   ],
   "metadata": {
    "collapsed": false,
    "pycharm": {
     "name": "#%%\n"
    }
   }
  },
  {
   "cell_type": "code",
   "execution_count": 41,
   "outputs": [],
   "source": [
    "complete_data_B = pd.read_csv(file_name,sep=',')"
   ],
   "metadata": {
    "collapsed": false,
    "pycharm": {
     "name": "#%%\n"
    }
   }
  },
  {
   "cell_type": "code",
   "execution_count": 44,
   "outputs": [
    {
     "data": {
      "text/plain": "   contact  day month  duration  campaign  pdays  previous poutcome    y  \\\n0      NaN  NaN   NaN       NaN       NaN    NaN       NaN      NaN  NaN   \n1      NaN  NaN   NaN       NaN       NaN    NaN       NaN      NaN  NaN   \n2      NaN  NaN   NaN       NaN       NaN    NaN       NaN      NaN  NaN   \n3      NaN  NaN   NaN       NaN       NaN    NaN       NaN      NaN  NaN   \n4      NaN  NaN   NaN       NaN       NaN    NaN       NaN      NaN  NaN   \n5      NaN  NaN   NaN       NaN       NaN    NaN       NaN      NaN  NaN   \n6      NaN  NaN   NaN       NaN       NaN    NaN       NaN      NaN  NaN   \n7  unknown  5.0   may     380.0       1.0   -1.0       0.0  unknown   no   \n8  unknown  5.0   may      50.0       1.0   -1.0       0.0  unknown   no   \n9      NaN  NaN   NaN       NaN       NaN    NaN       NaN      NaN  NaN   \n\n   index  \n0    NaN  \n1    NaN  \n2    NaN  \n3    NaN  \n4    NaN  \n5    NaN  \n6    NaN  \n7    7.0  \n8    8.0  \n9    NaN  ",
      "text/html": "<div>\n<style scoped>\n    .dataframe tbody tr th:only-of-type {\n        vertical-align: middle;\n    }\n\n    .dataframe tbody tr th {\n        vertical-align: top;\n    }\n\n    .dataframe thead th {\n        text-align: right;\n    }\n</style>\n<table border=\"1\" class=\"dataframe\">\n  <thead>\n    <tr style=\"text-align: right;\">\n      <th></th>\n      <th>contact</th>\n      <th>day</th>\n      <th>month</th>\n      <th>duration</th>\n      <th>campaign</th>\n      <th>pdays</th>\n      <th>previous</th>\n      <th>poutcome</th>\n      <th>y</th>\n      <th>index</th>\n    </tr>\n  </thead>\n  <tbody>\n    <tr>\n      <th>0</th>\n      <td>NaN</td>\n      <td>NaN</td>\n      <td>NaN</td>\n      <td>NaN</td>\n      <td>NaN</td>\n      <td>NaN</td>\n      <td>NaN</td>\n      <td>NaN</td>\n      <td>NaN</td>\n      <td>NaN</td>\n    </tr>\n    <tr>\n      <th>1</th>\n      <td>NaN</td>\n      <td>NaN</td>\n      <td>NaN</td>\n      <td>NaN</td>\n      <td>NaN</td>\n      <td>NaN</td>\n      <td>NaN</td>\n      <td>NaN</td>\n      <td>NaN</td>\n      <td>NaN</td>\n    </tr>\n    <tr>\n      <th>2</th>\n      <td>NaN</td>\n      <td>NaN</td>\n      <td>NaN</td>\n      <td>NaN</td>\n      <td>NaN</td>\n      <td>NaN</td>\n      <td>NaN</td>\n      <td>NaN</td>\n      <td>NaN</td>\n      <td>NaN</td>\n    </tr>\n    <tr>\n      <th>3</th>\n      <td>NaN</td>\n      <td>NaN</td>\n      <td>NaN</td>\n      <td>NaN</td>\n      <td>NaN</td>\n      <td>NaN</td>\n      <td>NaN</td>\n      <td>NaN</td>\n      <td>NaN</td>\n      <td>NaN</td>\n    </tr>\n    <tr>\n      <th>4</th>\n      <td>NaN</td>\n      <td>NaN</td>\n      <td>NaN</td>\n      <td>NaN</td>\n      <td>NaN</td>\n      <td>NaN</td>\n      <td>NaN</td>\n      <td>NaN</td>\n      <td>NaN</td>\n      <td>NaN</td>\n    </tr>\n    <tr>\n      <th>5</th>\n      <td>NaN</td>\n      <td>NaN</td>\n      <td>NaN</td>\n      <td>NaN</td>\n      <td>NaN</td>\n      <td>NaN</td>\n      <td>NaN</td>\n      <td>NaN</td>\n      <td>NaN</td>\n      <td>NaN</td>\n    </tr>\n    <tr>\n      <th>6</th>\n      <td>NaN</td>\n      <td>NaN</td>\n      <td>NaN</td>\n      <td>NaN</td>\n      <td>NaN</td>\n      <td>NaN</td>\n      <td>NaN</td>\n      <td>NaN</td>\n      <td>NaN</td>\n      <td>NaN</td>\n    </tr>\n    <tr>\n      <th>7</th>\n      <td>unknown</td>\n      <td>5.0</td>\n      <td>may</td>\n      <td>380.0</td>\n      <td>1.0</td>\n      <td>-1.0</td>\n      <td>0.0</td>\n      <td>unknown</td>\n      <td>no</td>\n      <td>7.0</td>\n    </tr>\n    <tr>\n      <th>8</th>\n      <td>unknown</td>\n      <td>5.0</td>\n      <td>may</td>\n      <td>50.0</td>\n      <td>1.0</td>\n      <td>-1.0</td>\n      <td>0.0</td>\n      <td>unknown</td>\n      <td>no</td>\n      <td>8.0</td>\n    </tr>\n    <tr>\n      <th>9</th>\n      <td>NaN</td>\n      <td>NaN</td>\n      <td>NaN</td>\n      <td>NaN</td>\n      <td>NaN</td>\n      <td>NaN</td>\n      <td>NaN</td>\n      <td>NaN</td>\n      <td>NaN</td>\n      <td>NaN</td>\n    </tr>\n  </tbody>\n</table>\n</div>"
     },
     "execution_count": 44,
     "metadata": {},
     "output_type": "execute_result"
    }
   ],
   "source": [
    "complete_data_B[incomplete_data==0]=np.nan\n",
    "complete_data_B.head(10)"
   ],
   "metadata": {
    "collapsed": false,
    "pycharm": {
     "name": "#%%\n"
    }
   }
  },
  {
   "cell_type": "code",
   "execution_count": 4,
   "outputs": [],
   "source": [
    "data_name = 'bank_data_B'\n",
    "complete_data,incomplete_data,data_m=data_loader1(data_name,0.2)"
   ],
   "metadata": {
    "collapsed": false,
    "pycharm": {
     "name": "#%%\n"
    }
   }
  },
  {
   "cell_type": "code",
   "execution_count": 5,
   "outputs": [
    {
     "name": "stdout",
     "output_type": "stream",
     "text": [
      "(45211, 10)\n"
     ]
    },
    {
     "data": {
      "text/plain": "   contact  day month  duration  campaign  pdays  previous poutcome   y  index\n0  unknown    5   may       261         1     -1         0  unknown  no      0\n1  unknown    5   may       151         1     -1         0  unknown  no      1\n2  unknown    5   may        76         1     -1         0  unknown  no      2\n3  unknown    5   may        92         1     -1         0  unknown  no      3\n4  unknown    5   may       198         1     -1         0  unknown  no      4\n5  unknown    5   may       139         1     -1         0  unknown  no      5\n6  unknown    5   may       217         1     -1         0  unknown  no      6\n7  unknown    5   may       380         1     -1         0  unknown  no      7\n8  unknown    5   may        50         1     -1         0  unknown  no      8\n9  unknown    5   may        55         1     -1         0  unknown  no      9",
      "text/html": "<div>\n<style scoped>\n    .dataframe tbody tr th:only-of-type {\n        vertical-align: middle;\n    }\n\n    .dataframe tbody tr th {\n        vertical-align: top;\n    }\n\n    .dataframe thead th {\n        text-align: right;\n    }\n</style>\n<table border=\"1\" class=\"dataframe\">\n  <thead>\n    <tr style=\"text-align: right;\">\n      <th></th>\n      <th>contact</th>\n      <th>day</th>\n      <th>month</th>\n      <th>duration</th>\n      <th>campaign</th>\n      <th>pdays</th>\n      <th>previous</th>\n      <th>poutcome</th>\n      <th>y</th>\n      <th>index</th>\n    </tr>\n  </thead>\n  <tbody>\n    <tr>\n      <th>0</th>\n      <td>unknown</td>\n      <td>5</td>\n      <td>may</td>\n      <td>261</td>\n      <td>1</td>\n      <td>-1</td>\n      <td>0</td>\n      <td>unknown</td>\n      <td>no</td>\n      <td>0</td>\n    </tr>\n    <tr>\n      <th>1</th>\n      <td>unknown</td>\n      <td>5</td>\n      <td>may</td>\n      <td>151</td>\n      <td>1</td>\n      <td>-1</td>\n      <td>0</td>\n      <td>unknown</td>\n      <td>no</td>\n      <td>1</td>\n    </tr>\n    <tr>\n      <th>2</th>\n      <td>unknown</td>\n      <td>5</td>\n      <td>may</td>\n      <td>76</td>\n      <td>1</td>\n      <td>-1</td>\n      <td>0</td>\n      <td>unknown</td>\n      <td>no</td>\n      <td>2</td>\n    </tr>\n    <tr>\n      <th>3</th>\n      <td>unknown</td>\n      <td>5</td>\n      <td>may</td>\n      <td>92</td>\n      <td>1</td>\n      <td>-1</td>\n      <td>0</td>\n      <td>unknown</td>\n      <td>no</td>\n      <td>3</td>\n    </tr>\n    <tr>\n      <th>4</th>\n      <td>unknown</td>\n      <td>5</td>\n      <td>may</td>\n      <td>198</td>\n      <td>1</td>\n      <td>-1</td>\n      <td>0</td>\n      <td>unknown</td>\n      <td>no</td>\n      <td>4</td>\n    </tr>\n    <tr>\n      <th>5</th>\n      <td>unknown</td>\n      <td>5</td>\n      <td>may</td>\n      <td>139</td>\n      <td>1</td>\n      <td>-1</td>\n      <td>0</td>\n      <td>unknown</td>\n      <td>no</td>\n      <td>5</td>\n    </tr>\n    <tr>\n      <th>6</th>\n      <td>unknown</td>\n      <td>5</td>\n      <td>may</td>\n      <td>217</td>\n      <td>1</td>\n      <td>-1</td>\n      <td>0</td>\n      <td>unknown</td>\n      <td>no</td>\n      <td>6</td>\n    </tr>\n    <tr>\n      <th>7</th>\n      <td>unknown</td>\n      <td>5</td>\n      <td>may</td>\n      <td>380</td>\n      <td>1</td>\n      <td>-1</td>\n      <td>0</td>\n      <td>unknown</td>\n      <td>no</td>\n      <td>7</td>\n    </tr>\n    <tr>\n      <th>8</th>\n      <td>unknown</td>\n      <td>5</td>\n      <td>may</td>\n      <td>50</td>\n      <td>1</td>\n      <td>-1</td>\n      <td>0</td>\n      <td>unknown</td>\n      <td>no</td>\n      <td>8</td>\n    </tr>\n    <tr>\n      <th>9</th>\n      <td>unknown</td>\n      <td>5</td>\n      <td>may</td>\n      <td>55</td>\n      <td>1</td>\n      <td>-1</td>\n      <td>0</td>\n      <td>unknown</td>\n      <td>no</td>\n      <td>9</td>\n    </tr>\n  </tbody>\n</table>\n</div>"
     },
     "execution_count": 5,
     "metadata": {},
     "output_type": "execute_result"
    }
   ],
   "source": [
    "print(complete_data.shape)\n",
    "complete_data.head(10)"
   ],
   "metadata": {
    "collapsed": false,
    "pycharm": {
     "name": "#%%\n"
    }
   }
  },
  {
   "cell_type": "code",
   "execution_count": 6,
   "outputs": [
    {
     "name": "stdout",
     "output_type": "stream",
     "text": [
      "(45211, 10)\n"
     ]
    },
    {
     "data": {
      "text/plain": "   contact  day month  duration  campaign  pdays  previous poutcome    y  \\\n0      NaN  NaN   NaN       NaN       NaN    NaN       NaN      NaN  NaN   \n1  unknown  5.0   may     151.0       1.0   -1.0       0.0  unknown   no   \n2      NaN  NaN   NaN       NaN       NaN    NaN       NaN      NaN  NaN   \n3      NaN  NaN   NaN       NaN       NaN    NaN       NaN      NaN  NaN   \n4  unknown  5.0   may     198.0       1.0   -1.0       0.0  unknown   no   \n5      NaN  NaN   NaN       NaN       NaN    NaN       NaN      NaN  NaN   \n6      NaN  NaN   NaN       NaN       NaN    NaN       NaN      NaN  NaN   \n7      NaN  NaN   NaN       NaN       NaN    NaN       NaN      NaN  NaN   \n8      NaN  NaN   NaN       NaN       NaN    NaN       NaN      NaN  NaN   \n9      NaN  NaN   NaN       NaN       NaN    NaN       NaN      NaN  NaN   \n\n   index  \n0    NaN  \n1    1.0  \n2    NaN  \n3    NaN  \n4    4.0  \n5    NaN  \n6    NaN  \n7    NaN  \n8    NaN  \n9    NaN  ",
      "text/html": "<div>\n<style scoped>\n    .dataframe tbody tr th:only-of-type {\n        vertical-align: middle;\n    }\n\n    .dataframe tbody tr th {\n        vertical-align: top;\n    }\n\n    .dataframe thead th {\n        text-align: right;\n    }\n</style>\n<table border=\"1\" class=\"dataframe\">\n  <thead>\n    <tr style=\"text-align: right;\">\n      <th></th>\n      <th>contact</th>\n      <th>day</th>\n      <th>month</th>\n      <th>duration</th>\n      <th>campaign</th>\n      <th>pdays</th>\n      <th>previous</th>\n      <th>poutcome</th>\n      <th>y</th>\n      <th>index</th>\n    </tr>\n  </thead>\n  <tbody>\n    <tr>\n      <th>0</th>\n      <td>NaN</td>\n      <td>NaN</td>\n      <td>NaN</td>\n      <td>NaN</td>\n      <td>NaN</td>\n      <td>NaN</td>\n      <td>NaN</td>\n      <td>NaN</td>\n      <td>NaN</td>\n      <td>NaN</td>\n    </tr>\n    <tr>\n      <th>1</th>\n      <td>unknown</td>\n      <td>5.0</td>\n      <td>may</td>\n      <td>151.0</td>\n      <td>1.0</td>\n      <td>-1.0</td>\n      <td>0.0</td>\n      <td>unknown</td>\n      <td>no</td>\n      <td>1.0</td>\n    </tr>\n    <tr>\n      <th>2</th>\n      <td>NaN</td>\n      <td>NaN</td>\n      <td>NaN</td>\n      <td>NaN</td>\n      <td>NaN</td>\n      <td>NaN</td>\n      <td>NaN</td>\n      <td>NaN</td>\n      <td>NaN</td>\n      <td>NaN</td>\n    </tr>\n    <tr>\n      <th>3</th>\n      <td>NaN</td>\n      <td>NaN</td>\n      <td>NaN</td>\n      <td>NaN</td>\n      <td>NaN</td>\n      <td>NaN</td>\n      <td>NaN</td>\n      <td>NaN</td>\n      <td>NaN</td>\n      <td>NaN</td>\n    </tr>\n    <tr>\n      <th>4</th>\n      <td>unknown</td>\n      <td>5.0</td>\n      <td>may</td>\n      <td>198.0</td>\n      <td>1.0</td>\n      <td>-1.0</td>\n      <td>0.0</td>\n      <td>unknown</td>\n      <td>no</td>\n      <td>4.0</td>\n    </tr>\n    <tr>\n      <th>5</th>\n      <td>NaN</td>\n      <td>NaN</td>\n      <td>NaN</td>\n      <td>NaN</td>\n      <td>NaN</td>\n      <td>NaN</td>\n      <td>NaN</td>\n      <td>NaN</td>\n      <td>NaN</td>\n      <td>NaN</td>\n    </tr>\n    <tr>\n      <th>6</th>\n      <td>NaN</td>\n      <td>NaN</td>\n      <td>NaN</td>\n      <td>NaN</td>\n      <td>NaN</td>\n      <td>NaN</td>\n      <td>NaN</td>\n      <td>NaN</td>\n      <td>NaN</td>\n      <td>NaN</td>\n    </tr>\n    <tr>\n      <th>7</th>\n      <td>NaN</td>\n      <td>NaN</td>\n      <td>NaN</td>\n      <td>NaN</td>\n      <td>NaN</td>\n      <td>NaN</td>\n      <td>NaN</td>\n      <td>NaN</td>\n      <td>NaN</td>\n      <td>NaN</td>\n    </tr>\n    <tr>\n      <th>8</th>\n      <td>NaN</td>\n      <td>NaN</td>\n      <td>NaN</td>\n      <td>NaN</td>\n      <td>NaN</td>\n      <td>NaN</td>\n      <td>NaN</td>\n      <td>NaN</td>\n      <td>NaN</td>\n      <td>NaN</td>\n    </tr>\n    <tr>\n      <th>9</th>\n      <td>NaN</td>\n      <td>NaN</td>\n      <td>NaN</td>\n      <td>NaN</td>\n      <td>NaN</td>\n      <td>NaN</td>\n      <td>NaN</td>\n      <td>NaN</td>\n      <td>NaN</td>\n      <td>NaN</td>\n    </tr>\n  </tbody>\n</table>\n</div>"
     },
     "execution_count": 6,
     "metadata": {},
     "output_type": "execute_result"
    }
   ],
   "source": [
    "print(incomplete_data.shape)\n",
    "incomplete_data.head(10)"
   ],
   "metadata": {
    "collapsed": false,
    "pycharm": {
     "name": "#%%\n"
    }
   }
  },
  {
   "cell_type": "code",
   "execution_count": 7,
   "outputs": [
    {
     "data": {
      "text/plain": "  contact  day month  duration  campaign  pdays  previous poutcome  y  index\n0       0    0     0         0         0      0         0        0  0      0\n1       1    1     1         1         1      1         1        1  1      1\n2       0    0     0         0         0      0         0        0  0      0\n3       0    0     0         0         0      0         0        0  0      0\n4       1    1     1         1         1      1         1        1  1      1\n5       0    0     0         0         0      0         0        0  0      0\n6       0    0     0         0         0      0         0        0  0      0\n7       0    0     0         0         0      0         0        0  0      0\n8       0    0     0         0         0      0         0        0  0      0\n9       0    0     0         0         0      0         0        0  0      0",
      "text/html": "<div>\n<style scoped>\n    .dataframe tbody tr th:only-of-type {\n        vertical-align: middle;\n    }\n\n    .dataframe tbody tr th {\n        vertical-align: top;\n    }\n\n    .dataframe thead th {\n        text-align: right;\n    }\n</style>\n<table border=\"1\" class=\"dataframe\">\n  <thead>\n    <tr style=\"text-align: right;\">\n      <th></th>\n      <th>contact</th>\n      <th>day</th>\n      <th>month</th>\n      <th>duration</th>\n      <th>campaign</th>\n      <th>pdays</th>\n      <th>previous</th>\n      <th>poutcome</th>\n      <th>y</th>\n      <th>index</th>\n    </tr>\n  </thead>\n  <tbody>\n    <tr>\n      <th>0</th>\n      <td>0</td>\n      <td>0</td>\n      <td>0</td>\n      <td>0</td>\n      <td>0</td>\n      <td>0</td>\n      <td>0</td>\n      <td>0</td>\n      <td>0</td>\n      <td>0</td>\n    </tr>\n    <tr>\n      <th>1</th>\n      <td>1</td>\n      <td>1</td>\n      <td>1</td>\n      <td>1</td>\n      <td>1</td>\n      <td>1</td>\n      <td>1</td>\n      <td>1</td>\n      <td>1</td>\n      <td>1</td>\n    </tr>\n    <tr>\n      <th>2</th>\n      <td>0</td>\n      <td>0</td>\n      <td>0</td>\n      <td>0</td>\n      <td>0</td>\n      <td>0</td>\n      <td>0</td>\n      <td>0</td>\n      <td>0</td>\n      <td>0</td>\n    </tr>\n    <tr>\n      <th>3</th>\n      <td>0</td>\n      <td>0</td>\n      <td>0</td>\n      <td>0</td>\n      <td>0</td>\n      <td>0</td>\n      <td>0</td>\n      <td>0</td>\n      <td>0</td>\n      <td>0</td>\n    </tr>\n    <tr>\n      <th>4</th>\n      <td>1</td>\n      <td>1</td>\n      <td>1</td>\n      <td>1</td>\n      <td>1</td>\n      <td>1</td>\n      <td>1</td>\n      <td>1</td>\n      <td>1</td>\n      <td>1</td>\n    </tr>\n    <tr>\n      <th>5</th>\n      <td>0</td>\n      <td>0</td>\n      <td>0</td>\n      <td>0</td>\n      <td>0</td>\n      <td>0</td>\n      <td>0</td>\n      <td>0</td>\n      <td>0</td>\n      <td>0</td>\n    </tr>\n    <tr>\n      <th>6</th>\n      <td>0</td>\n      <td>0</td>\n      <td>0</td>\n      <td>0</td>\n      <td>0</td>\n      <td>0</td>\n      <td>0</td>\n      <td>0</td>\n      <td>0</td>\n      <td>0</td>\n    </tr>\n    <tr>\n      <th>7</th>\n      <td>0</td>\n      <td>0</td>\n      <td>0</td>\n      <td>0</td>\n      <td>0</td>\n      <td>0</td>\n      <td>0</td>\n      <td>0</td>\n      <td>0</td>\n      <td>0</td>\n    </tr>\n    <tr>\n      <th>8</th>\n      <td>0</td>\n      <td>0</td>\n      <td>0</td>\n      <td>0</td>\n      <td>0</td>\n      <td>0</td>\n      <td>0</td>\n      <td>0</td>\n      <td>0</td>\n      <td>0</td>\n    </tr>\n    <tr>\n      <th>9</th>\n      <td>0</td>\n      <td>0</td>\n      <td>0</td>\n      <td>0</td>\n      <td>0</td>\n      <td>0</td>\n      <td>0</td>\n      <td>0</td>\n      <td>0</td>\n      <td>0</td>\n    </tr>\n  </tbody>\n</table>\n</div>"
     },
     "execution_count": 7,
     "metadata": {},
     "output_type": "execute_result"
    }
   ],
   "source": [
    "data_m.head(10)"
   ],
   "metadata": {
    "collapsed": false,
    "pycharm": {
     "name": "#%%\n"
    }
   }
  },
  {
   "cell_type": "code",
   "execution_count": 8,
   "outputs": [
    {
     "data": {
      "text/plain": "    contact  day month  duration  campaign  pdays  previous poutcome    y  \\\n0       NaN  NaN   NaN       NaN       NaN    NaN       NaN      NaN  NaN   \n1   unknown  5.0   may     151.0       1.0   -1.0       0.0  unknown   no   \n2       NaN  NaN   NaN       NaN       NaN    NaN       NaN      NaN  NaN   \n3       NaN  NaN   NaN       NaN       NaN    NaN       NaN      NaN  NaN   \n4   unknown  5.0   may     198.0       1.0   -1.0       0.0  unknown   no   \n5       NaN  NaN   NaN       NaN       NaN    NaN       NaN      NaN  NaN   \n6       NaN  NaN   NaN       NaN       NaN    NaN       NaN      NaN  NaN   \n7       NaN  NaN   NaN       NaN       NaN    NaN       NaN      NaN  NaN   \n8       NaN  NaN   NaN       NaN       NaN    NaN       NaN      NaN  NaN   \n9       NaN  NaN   NaN       NaN       NaN    NaN       NaN      NaN  NaN   \n10      NaN  NaN   NaN       NaN       NaN    NaN       NaN      NaN  NaN   \n11      NaN  NaN   NaN       NaN       NaN    NaN       NaN      NaN  NaN   \n12      NaN  NaN   NaN       NaN       NaN    NaN       NaN      NaN  NaN   \n13  unknown  5.0   may      71.0       1.0   -1.0       0.0  unknown   no   \n14  unknown  5.0   may     174.0       1.0   -1.0       0.0  unknown   no   \n15      NaN  NaN   NaN       NaN       NaN    NaN       NaN      NaN  NaN   \n16      NaN  NaN   NaN       NaN       NaN    NaN       NaN      NaN  NaN   \n17      NaN  NaN   NaN       NaN       NaN    NaN       NaN      NaN  NaN   \n18      NaN  NaN   NaN       NaN       NaN    NaN       NaN      NaN  NaN   \n19      NaN  NaN   NaN       NaN       NaN    NaN       NaN      NaN  NaN   \n20      NaN  NaN   NaN       NaN       NaN    NaN       NaN      NaN  NaN   \n21      NaN  NaN   NaN       NaN       NaN    NaN       NaN      NaN  NaN   \n22      NaN  NaN   NaN       NaN       NaN    NaN       NaN      NaN  NaN   \n23      NaN  NaN   NaN       NaN       NaN    NaN       NaN      NaN  NaN   \n24      NaN  NaN   NaN       NaN       NaN    NaN       NaN      NaN  NaN   \n25      NaN  NaN   NaN       NaN       NaN    NaN       NaN      NaN  NaN   \n26      NaN  NaN   NaN       NaN       NaN    NaN       NaN      NaN  NaN   \n27      NaN  NaN   NaN       NaN       NaN    NaN       NaN      NaN  NaN   \n28  unknown  5.0   may     255.0       2.0   -1.0       0.0  unknown   no   \n29  unknown  5.0   may     348.0       1.0   -1.0       0.0  unknown   no   \n30      NaN  NaN   NaN       NaN       NaN    NaN       NaN      NaN  NaN   \n31      NaN  NaN   NaN       NaN       NaN    NaN       NaN      NaN  NaN   \n32      NaN  NaN   NaN       NaN       NaN    NaN       NaN      NaN  NaN   \n33      NaN  NaN   NaN       NaN       NaN    NaN       NaN      NaN  NaN   \n34      NaN  NaN   NaN       NaN       NaN    NaN       NaN      NaN  NaN   \n35      NaN  NaN   NaN       NaN       NaN    NaN       NaN      NaN  NaN   \n36      NaN  NaN   NaN       NaN       NaN    NaN       NaN      NaN  NaN   \n37      NaN  NaN   NaN       NaN       NaN    NaN       NaN      NaN  NaN   \n38      NaN  NaN   NaN       NaN       NaN    NaN       NaN      NaN  NaN   \n39      NaN  NaN   NaN       NaN       NaN    NaN       NaN      NaN  NaN   \n40  unknown  5.0   may     160.0       1.0   -1.0       0.0  unknown   no   \n41      NaN  NaN   NaN       NaN       NaN    NaN       NaN      NaN  NaN   \n42      NaN  NaN   NaN       NaN       NaN    NaN       NaN      NaN  NaN   \n43      NaN  NaN   NaN       NaN       NaN    NaN       NaN      NaN  NaN   \n44  unknown  5.0   may     616.0       1.0   -1.0       0.0  unknown   no   \n45      NaN  NaN   NaN       NaN       NaN    NaN       NaN      NaN  NaN   \n46      NaN  NaN   NaN       NaN       NaN    NaN       NaN      NaN  NaN   \n47  unknown  5.0   may     225.0       2.0   -1.0       0.0  unknown   no   \n48      NaN  NaN   NaN       NaN       NaN    NaN       NaN      NaN  NaN   \n49      NaN  NaN   NaN       NaN       NaN    NaN       NaN      NaN  NaN   \n\n    index  \n0     NaN  \n1     1.0  \n2     NaN  \n3     NaN  \n4     4.0  \n5     NaN  \n6     NaN  \n7     NaN  \n8     NaN  \n9     NaN  \n10    NaN  \n11    NaN  \n12    NaN  \n13   13.0  \n14   14.0  \n15    NaN  \n16    NaN  \n17    NaN  \n18    NaN  \n19    NaN  \n20    NaN  \n21    NaN  \n22    NaN  \n23    NaN  \n24    NaN  \n25    NaN  \n26    NaN  \n27    NaN  \n28   28.0  \n29   29.0  \n30    NaN  \n31    NaN  \n32    NaN  \n33    NaN  \n34    NaN  \n35    NaN  \n36    NaN  \n37    NaN  \n38    NaN  \n39    NaN  \n40   40.0  \n41    NaN  \n42    NaN  \n43    NaN  \n44   44.0  \n45    NaN  \n46    NaN  \n47   47.0  \n48    NaN  \n49    NaN  ",
      "text/html": "<div>\n<style scoped>\n    .dataframe tbody tr th:only-of-type {\n        vertical-align: middle;\n    }\n\n    .dataframe tbody tr th {\n        vertical-align: top;\n    }\n\n    .dataframe thead th {\n        text-align: right;\n    }\n</style>\n<table border=\"1\" class=\"dataframe\">\n  <thead>\n    <tr style=\"text-align: right;\">\n      <th></th>\n      <th>contact</th>\n      <th>day</th>\n      <th>month</th>\n      <th>duration</th>\n      <th>campaign</th>\n      <th>pdays</th>\n      <th>previous</th>\n      <th>poutcome</th>\n      <th>y</th>\n      <th>index</th>\n    </tr>\n  </thead>\n  <tbody>\n    <tr>\n      <th>0</th>\n      <td>NaN</td>\n      <td>NaN</td>\n      <td>NaN</td>\n      <td>NaN</td>\n      <td>NaN</td>\n      <td>NaN</td>\n      <td>NaN</td>\n      <td>NaN</td>\n      <td>NaN</td>\n      <td>NaN</td>\n    </tr>\n    <tr>\n      <th>1</th>\n      <td>unknown</td>\n      <td>5.0</td>\n      <td>may</td>\n      <td>151.0</td>\n      <td>1.0</td>\n      <td>-1.0</td>\n      <td>0.0</td>\n      <td>unknown</td>\n      <td>no</td>\n      <td>1.0</td>\n    </tr>\n    <tr>\n      <th>2</th>\n      <td>NaN</td>\n      <td>NaN</td>\n      <td>NaN</td>\n      <td>NaN</td>\n      <td>NaN</td>\n      <td>NaN</td>\n      <td>NaN</td>\n      <td>NaN</td>\n      <td>NaN</td>\n      <td>NaN</td>\n    </tr>\n    <tr>\n      <th>3</th>\n      <td>NaN</td>\n      <td>NaN</td>\n      <td>NaN</td>\n      <td>NaN</td>\n      <td>NaN</td>\n      <td>NaN</td>\n      <td>NaN</td>\n      <td>NaN</td>\n      <td>NaN</td>\n      <td>NaN</td>\n    </tr>\n    <tr>\n      <th>4</th>\n      <td>unknown</td>\n      <td>5.0</td>\n      <td>may</td>\n      <td>198.0</td>\n      <td>1.0</td>\n      <td>-1.0</td>\n      <td>0.0</td>\n      <td>unknown</td>\n      <td>no</td>\n      <td>4.0</td>\n    </tr>\n    <tr>\n      <th>5</th>\n      <td>NaN</td>\n      <td>NaN</td>\n      <td>NaN</td>\n      <td>NaN</td>\n      <td>NaN</td>\n      <td>NaN</td>\n      <td>NaN</td>\n      <td>NaN</td>\n      <td>NaN</td>\n      <td>NaN</td>\n    </tr>\n    <tr>\n      <th>6</th>\n      <td>NaN</td>\n      <td>NaN</td>\n      <td>NaN</td>\n      <td>NaN</td>\n      <td>NaN</td>\n      <td>NaN</td>\n      <td>NaN</td>\n      <td>NaN</td>\n      <td>NaN</td>\n      <td>NaN</td>\n    </tr>\n    <tr>\n      <th>7</th>\n      <td>NaN</td>\n      <td>NaN</td>\n      <td>NaN</td>\n      <td>NaN</td>\n      <td>NaN</td>\n      <td>NaN</td>\n      <td>NaN</td>\n      <td>NaN</td>\n      <td>NaN</td>\n      <td>NaN</td>\n    </tr>\n    <tr>\n      <th>8</th>\n      <td>NaN</td>\n      <td>NaN</td>\n      <td>NaN</td>\n      <td>NaN</td>\n      <td>NaN</td>\n      <td>NaN</td>\n      <td>NaN</td>\n      <td>NaN</td>\n      <td>NaN</td>\n      <td>NaN</td>\n    </tr>\n    <tr>\n      <th>9</th>\n      <td>NaN</td>\n      <td>NaN</td>\n      <td>NaN</td>\n      <td>NaN</td>\n      <td>NaN</td>\n      <td>NaN</td>\n      <td>NaN</td>\n      <td>NaN</td>\n      <td>NaN</td>\n      <td>NaN</td>\n    </tr>\n    <tr>\n      <th>10</th>\n      <td>NaN</td>\n      <td>NaN</td>\n      <td>NaN</td>\n      <td>NaN</td>\n      <td>NaN</td>\n      <td>NaN</td>\n      <td>NaN</td>\n      <td>NaN</td>\n      <td>NaN</td>\n      <td>NaN</td>\n    </tr>\n    <tr>\n      <th>11</th>\n      <td>NaN</td>\n      <td>NaN</td>\n      <td>NaN</td>\n      <td>NaN</td>\n      <td>NaN</td>\n      <td>NaN</td>\n      <td>NaN</td>\n      <td>NaN</td>\n      <td>NaN</td>\n      <td>NaN</td>\n    </tr>\n    <tr>\n      <th>12</th>\n      <td>NaN</td>\n      <td>NaN</td>\n      <td>NaN</td>\n      <td>NaN</td>\n      <td>NaN</td>\n      <td>NaN</td>\n      <td>NaN</td>\n      <td>NaN</td>\n      <td>NaN</td>\n      <td>NaN</td>\n    </tr>\n    <tr>\n      <th>13</th>\n      <td>unknown</td>\n      <td>5.0</td>\n      <td>may</td>\n      <td>71.0</td>\n      <td>1.0</td>\n      <td>-1.0</td>\n      <td>0.0</td>\n      <td>unknown</td>\n      <td>no</td>\n      <td>13.0</td>\n    </tr>\n    <tr>\n      <th>14</th>\n      <td>unknown</td>\n      <td>5.0</td>\n      <td>may</td>\n      <td>174.0</td>\n      <td>1.0</td>\n      <td>-1.0</td>\n      <td>0.0</td>\n      <td>unknown</td>\n      <td>no</td>\n      <td>14.0</td>\n    </tr>\n    <tr>\n      <th>15</th>\n      <td>NaN</td>\n      <td>NaN</td>\n      <td>NaN</td>\n      <td>NaN</td>\n      <td>NaN</td>\n      <td>NaN</td>\n      <td>NaN</td>\n      <td>NaN</td>\n      <td>NaN</td>\n      <td>NaN</td>\n    </tr>\n    <tr>\n      <th>16</th>\n      <td>NaN</td>\n      <td>NaN</td>\n      <td>NaN</td>\n      <td>NaN</td>\n      <td>NaN</td>\n      <td>NaN</td>\n      <td>NaN</td>\n      <td>NaN</td>\n      <td>NaN</td>\n      <td>NaN</td>\n    </tr>\n    <tr>\n      <th>17</th>\n      <td>NaN</td>\n      <td>NaN</td>\n      <td>NaN</td>\n      <td>NaN</td>\n      <td>NaN</td>\n      <td>NaN</td>\n      <td>NaN</td>\n      <td>NaN</td>\n      <td>NaN</td>\n      <td>NaN</td>\n    </tr>\n    <tr>\n      <th>18</th>\n      <td>NaN</td>\n      <td>NaN</td>\n      <td>NaN</td>\n      <td>NaN</td>\n      <td>NaN</td>\n      <td>NaN</td>\n      <td>NaN</td>\n      <td>NaN</td>\n      <td>NaN</td>\n      <td>NaN</td>\n    </tr>\n    <tr>\n      <th>19</th>\n      <td>NaN</td>\n      <td>NaN</td>\n      <td>NaN</td>\n      <td>NaN</td>\n      <td>NaN</td>\n      <td>NaN</td>\n      <td>NaN</td>\n      <td>NaN</td>\n      <td>NaN</td>\n      <td>NaN</td>\n    </tr>\n    <tr>\n      <th>20</th>\n      <td>NaN</td>\n      <td>NaN</td>\n      <td>NaN</td>\n      <td>NaN</td>\n      <td>NaN</td>\n      <td>NaN</td>\n      <td>NaN</td>\n      <td>NaN</td>\n      <td>NaN</td>\n      <td>NaN</td>\n    </tr>\n    <tr>\n      <th>21</th>\n      <td>NaN</td>\n      <td>NaN</td>\n      <td>NaN</td>\n      <td>NaN</td>\n      <td>NaN</td>\n      <td>NaN</td>\n      <td>NaN</td>\n      <td>NaN</td>\n      <td>NaN</td>\n      <td>NaN</td>\n    </tr>\n    <tr>\n      <th>22</th>\n      <td>NaN</td>\n      <td>NaN</td>\n      <td>NaN</td>\n      <td>NaN</td>\n      <td>NaN</td>\n      <td>NaN</td>\n      <td>NaN</td>\n      <td>NaN</td>\n      <td>NaN</td>\n      <td>NaN</td>\n    </tr>\n    <tr>\n      <th>23</th>\n      <td>NaN</td>\n      <td>NaN</td>\n      <td>NaN</td>\n      <td>NaN</td>\n      <td>NaN</td>\n      <td>NaN</td>\n      <td>NaN</td>\n      <td>NaN</td>\n      <td>NaN</td>\n      <td>NaN</td>\n    </tr>\n    <tr>\n      <th>24</th>\n      <td>NaN</td>\n      <td>NaN</td>\n      <td>NaN</td>\n      <td>NaN</td>\n      <td>NaN</td>\n      <td>NaN</td>\n      <td>NaN</td>\n      <td>NaN</td>\n      <td>NaN</td>\n      <td>NaN</td>\n    </tr>\n    <tr>\n      <th>25</th>\n      <td>NaN</td>\n      <td>NaN</td>\n      <td>NaN</td>\n      <td>NaN</td>\n      <td>NaN</td>\n      <td>NaN</td>\n      <td>NaN</td>\n      <td>NaN</td>\n      <td>NaN</td>\n      <td>NaN</td>\n    </tr>\n    <tr>\n      <th>26</th>\n      <td>NaN</td>\n      <td>NaN</td>\n      <td>NaN</td>\n      <td>NaN</td>\n      <td>NaN</td>\n      <td>NaN</td>\n      <td>NaN</td>\n      <td>NaN</td>\n      <td>NaN</td>\n      <td>NaN</td>\n    </tr>\n    <tr>\n      <th>27</th>\n      <td>NaN</td>\n      <td>NaN</td>\n      <td>NaN</td>\n      <td>NaN</td>\n      <td>NaN</td>\n      <td>NaN</td>\n      <td>NaN</td>\n      <td>NaN</td>\n      <td>NaN</td>\n      <td>NaN</td>\n    </tr>\n    <tr>\n      <th>28</th>\n      <td>unknown</td>\n      <td>5.0</td>\n      <td>may</td>\n      <td>255.0</td>\n      <td>2.0</td>\n      <td>-1.0</td>\n      <td>0.0</td>\n      <td>unknown</td>\n      <td>no</td>\n      <td>28.0</td>\n    </tr>\n    <tr>\n      <th>29</th>\n      <td>unknown</td>\n      <td>5.0</td>\n      <td>may</td>\n      <td>348.0</td>\n      <td>1.0</td>\n      <td>-1.0</td>\n      <td>0.0</td>\n      <td>unknown</td>\n      <td>no</td>\n      <td>29.0</td>\n    </tr>\n    <tr>\n      <th>30</th>\n      <td>NaN</td>\n      <td>NaN</td>\n      <td>NaN</td>\n      <td>NaN</td>\n      <td>NaN</td>\n      <td>NaN</td>\n      <td>NaN</td>\n      <td>NaN</td>\n      <td>NaN</td>\n      <td>NaN</td>\n    </tr>\n    <tr>\n      <th>31</th>\n      <td>NaN</td>\n      <td>NaN</td>\n      <td>NaN</td>\n      <td>NaN</td>\n      <td>NaN</td>\n      <td>NaN</td>\n      <td>NaN</td>\n      <td>NaN</td>\n      <td>NaN</td>\n      <td>NaN</td>\n    </tr>\n    <tr>\n      <th>32</th>\n      <td>NaN</td>\n      <td>NaN</td>\n      <td>NaN</td>\n      <td>NaN</td>\n      <td>NaN</td>\n      <td>NaN</td>\n      <td>NaN</td>\n      <td>NaN</td>\n      <td>NaN</td>\n      <td>NaN</td>\n    </tr>\n    <tr>\n      <th>33</th>\n      <td>NaN</td>\n      <td>NaN</td>\n      <td>NaN</td>\n      <td>NaN</td>\n      <td>NaN</td>\n      <td>NaN</td>\n      <td>NaN</td>\n      <td>NaN</td>\n      <td>NaN</td>\n      <td>NaN</td>\n    </tr>\n    <tr>\n      <th>34</th>\n      <td>NaN</td>\n      <td>NaN</td>\n      <td>NaN</td>\n      <td>NaN</td>\n      <td>NaN</td>\n      <td>NaN</td>\n      <td>NaN</td>\n      <td>NaN</td>\n      <td>NaN</td>\n      <td>NaN</td>\n    </tr>\n    <tr>\n      <th>35</th>\n      <td>NaN</td>\n      <td>NaN</td>\n      <td>NaN</td>\n      <td>NaN</td>\n      <td>NaN</td>\n      <td>NaN</td>\n      <td>NaN</td>\n      <td>NaN</td>\n      <td>NaN</td>\n      <td>NaN</td>\n    </tr>\n    <tr>\n      <th>36</th>\n      <td>NaN</td>\n      <td>NaN</td>\n      <td>NaN</td>\n      <td>NaN</td>\n      <td>NaN</td>\n      <td>NaN</td>\n      <td>NaN</td>\n      <td>NaN</td>\n      <td>NaN</td>\n      <td>NaN</td>\n    </tr>\n    <tr>\n      <th>37</th>\n      <td>NaN</td>\n      <td>NaN</td>\n      <td>NaN</td>\n      <td>NaN</td>\n      <td>NaN</td>\n      <td>NaN</td>\n      <td>NaN</td>\n      <td>NaN</td>\n      <td>NaN</td>\n      <td>NaN</td>\n    </tr>\n    <tr>\n      <th>38</th>\n      <td>NaN</td>\n      <td>NaN</td>\n      <td>NaN</td>\n      <td>NaN</td>\n      <td>NaN</td>\n      <td>NaN</td>\n      <td>NaN</td>\n      <td>NaN</td>\n      <td>NaN</td>\n      <td>NaN</td>\n    </tr>\n    <tr>\n      <th>39</th>\n      <td>NaN</td>\n      <td>NaN</td>\n      <td>NaN</td>\n      <td>NaN</td>\n      <td>NaN</td>\n      <td>NaN</td>\n      <td>NaN</td>\n      <td>NaN</td>\n      <td>NaN</td>\n      <td>NaN</td>\n    </tr>\n    <tr>\n      <th>40</th>\n      <td>unknown</td>\n      <td>5.0</td>\n      <td>may</td>\n      <td>160.0</td>\n      <td>1.0</td>\n      <td>-1.0</td>\n      <td>0.0</td>\n      <td>unknown</td>\n      <td>no</td>\n      <td>40.0</td>\n    </tr>\n    <tr>\n      <th>41</th>\n      <td>NaN</td>\n      <td>NaN</td>\n      <td>NaN</td>\n      <td>NaN</td>\n      <td>NaN</td>\n      <td>NaN</td>\n      <td>NaN</td>\n      <td>NaN</td>\n      <td>NaN</td>\n      <td>NaN</td>\n    </tr>\n    <tr>\n      <th>42</th>\n      <td>NaN</td>\n      <td>NaN</td>\n      <td>NaN</td>\n      <td>NaN</td>\n      <td>NaN</td>\n      <td>NaN</td>\n      <td>NaN</td>\n      <td>NaN</td>\n      <td>NaN</td>\n      <td>NaN</td>\n    </tr>\n    <tr>\n      <th>43</th>\n      <td>NaN</td>\n      <td>NaN</td>\n      <td>NaN</td>\n      <td>NaN</td>\n      <td>NaN</td>\n      <td>NaN</td>\n      <td>NaN</td>\n      <td>NaN</td>\n      <td>NaN</td>\n      <td>NaN</td>\n    </tr>\n    <tr>\n      <th>44</th>\n      <td>unknown</td>\n      <td>5.0</td>\n      <td>may</td>\n      <td>616.0</td>\n      <td>1.0</td>\n      <td>-1.0</td>\n      <td>0.0</td>\n      <td>unknown</td>\n      <td>no</td>\n      <td>44.0</td>\n    </tr>\n    <tr>\n      <th>45</th>\n      <td>NaN</td>\n      <td>NaN</td>\n      <td>NaN</td>\n      <td>NaN</td>\n      <td>NaN</td>\n      <td>NaN</td>\n      <td>NaN</td>\n      <td>NaN</td>\n      <td>NaN</td>\n      <td>NaN</td>\n    </tr>\n    <tr>\n      <th>46</th>\n      <td>NaN</td>\n      <td>NaN</td>\n      <td>NaN</td>\n      <td>NaN</td>\n      <td>NaN</td>\n      <td>NaN</td>\n      <td>NaN</td>\n      <td>NaN</td>\n      <td>NaN</td>\n      <td>NaN</td>\n    </tr>\n    <tr>\n      <th>47</th>\n      <td>unknown</td>\n      <td>5.0</td>\n      <td>may</td>\n      <td>225.0</td>\n      <td>2.0</td>\n      <td>-1.0</td>\n      <td>0.0</td>\n      <td>unknown</td>\n      <td>no</td>\n      <td>47.0</td>\n    </tr>\n    <tr>\n      <th>48</th>\n      <td>NaN</td>\n      <td>NaN</td>\n      <td>NaN</td>\n      <td>NaN</td>\n      <td>NaN</td>\n      <td>NaN</td>\n      <td>NaN</td>\n      <td>NaN</td>\n      <td>NaN</td>\n      <td>NaN</td>\n    </tr>\n    <tr>\n      <th>49</th>\n      <td>NaN</td>\n      <td>NaN</td>\n      <td>NaN</td>\n      <td>NaN</td>\n      <td>NaN</td>\n      <td>NaN</td>\n      <td>NaN</td>\n      <td>NaN</td>\n      <td>NaN</td>\n      <td>NaN</td>\n    </tr>\n  </tbody>\n</table>\n</div>"
     },
     "execution_count": 8,
     "metadata": {},
     "output_type": "execute_result"
    }
   ],
   "source": [
    "incomplete_data.head(50)"
   ],
   "metadata": {
    "collapsed": false,
    "pycharm": {
     "name": "#%%\n"
    }
   }
  },
  {
   "cell_type": "code",
   "execution_count": 8,
   "outputs": [
    {
     "ename": "ValueError",
     "evalue": "could not convert string to float: 'blue-collar'",
     "output_type": "error",
     "traceback": [
      "\u001B[1;31m---------------------------------------------------------------------------\u001B[0m",
      "\u001B[1;31mValueError\u001B[0m                                Traceback (most recent call last)",
      "Cell \u001B[1;32mIn[8], line 1\u001B[0m\n\u001B[1;32m----> 1\u001B[0m \u001B[43mincomplete_data\u001B[49m\u001B[38;5;241;43m.\u001B[39;49m\u001B[43mcorr\u001B[49m\u001B[43m(\u001B[49m\u001B[43m)\u001B[49m\n",
      "File \u001B[1;32mD:\\Anaconda\\anaconda\\envs\\neural_network\\lib\\site-packages\\pandas\\core\\frame.py:10054\u001B[0m, in \u001B[0;36mDataFrame.corr\u001B[1;34m(self, method, min_periods, numeric_only)\u001B[0m\n\u001B[0;32m  10052\u001B[0m cols \u001B[38;5;241m=\u001B[39m data\u001B[38;5;241m.\u001B[39mcolumns\n\u001B[0;32m  10053\u001B[0m idx \u001B[38;5;241m=\u001B[39m cols\u001B[38;5;241m.\u001B[39mcopy()\n\u001B[1;32m> 10054\u001B[0m mat \u001B[38;5;241m=\u001B[39m \u001B[43mdata\u001B[49m\u001B[38;5;241;43m.\u001B[39;49m\u001B[43mto_numpy\u001B[49m\u001B[43m(\u001B[49m\u001B[43mdtype\u001B[49m\u001B[38;5;241;43m=\u001B[39;49m\u001B[38;5;28;43mfloat\u001B[39;49m\u001B[43m,\u001B[49m\u001B[43m \u001B[49m\u001B[43mna_value\u001B[49m\u001B[38;5;241;43m=\u001B[39;49m\u001B[43mnp\u001B[49m\u001B[38;5;241;43m.\u001B[39;49m\u001B[43mnan\u001B[49m\u001B[43m,\u001B[49m\u001B[43m \u001B[49m\u001B[43mcopy\u001B[49m\u001B[38;5;241;43m=\u001B[39;49m\u001B[38;5;28;43;01mFalse\u001B[39;49;00m\u001B[43m)\u001B[49m\n\u001B[0;32m  10056\u001B[0m \u001B[38;5;28;01mif\u001B[39;00m method \u001B[38;5;241m==\u001B[39m \u001B[38;5;124m\"\u001B[39m\u001B[38;5;124mpearson\u001B[39m\u001B[38;5;124m\"\u001B[39m:\n\u001B[0;32m  10057\u001B[0m     correl \u001B[38;5;241m=\u001B[39m libalgos\u001B[38;5;241m.\u001B[39mnancorr(mat, minp\u001B[38;5;241m=\u001B[39mmin_periods)\n",
      "File \u001B[1;32mD:\\Anaconda\\anaconda\\envs\\neural_network\\lib\\site-packages\\pandas\\core\\frame.py:1838\u001B[0m, in \u001B[0;36mDataFrame.to_numpy\u001B[1;34m(self, dtype, copy, na_value)\u001B[0m\n\u001B[0;32m   1836\u001B[0m \u001B[38;5;28;01mif\u001B[39;00m dtype \u001B[38;5;129;01mis\u001B[39;00m \u001B[38;5;129;01mnot\u001B[39;00m \u001B[38;5;28;01mNone\u001B[39;00m:\n\u001B[0;32m   1837\u001B[0m     dtype \u001B[38;5;241m=\u001B[39m np\u001B[38;5;241m.\u001B[39mdtype(dtype)\n\u001B[1;32m-> 1838\u001B[0m result \u001B[38;5;241m=\u001B[39m \u001B[38;5;28;43mself\u001B[39;49m\u001B[38;5;241;43m.\u001B[39;49m\u001B[43m_mgr\u001B[49m\u001B[38;5;241;43m.\u001B[39;49m\u001B[43mas_array\u001B[49m\u001B[43m(\u001B[49m\u001B[43mdtype\u001B[49m\u001B[38;5;241;43m=\u001B[39;49m\u001B[43mdtype\u001B[49m\u001B[43m,\u001B[49m\u001B[43m \u001B[49m\u001B[43mcopy\u001B[49m\u001B[38;5;241;43m=\u001B[39;49m\u001B[43mcopy\u001B[49m\u001B[43m,\u001B[49m\u001B[43m \u001B[49m\u001B[43mna_value\u001B[49m\u001B[38;5;241;43m=\u001B[39;49m\u001B[43mna_value\u001B[49m\u001B[43m)\u001B[49m\n\u001B[0;32m   1839\u001B[0m \u001B[38;5;28;01mif\u001B[39;00m result\u001B[38;5;241m.\u001B[39mdtype \u001B[38;5;129;01mis\u001B[39;00m \u001B[38;5;129;01mnot\u001B[39;00m dtype:\n\u001B[0;32m   1840\u001B[0m     result \u001B[38;5;241m=\u001B[39m np\u001B[38;5;241m.\u001B[39marray(result, dtype\u001B[38;5;241m=\u001B[39mdtype, copy\u001B[38;5;241m=\u001B[39m\u001B[38;5;28;01mFalse\u001B[39;00m)\n",
      "File \u001B[1;32mD:\\Anaconda\\anaconda\\envs\\neural_network\\lib\\site-packages\\pandas\\core\\internals\\managers.py:1732\u001B[0m, in \u001B[0;36mBlockManager.as_array\u001B[1;34m(self, dtype, copy, na_value)\u001B[0m\n\u001B[0;32m   1730\u001B[0m         arr\u001B[38;5;241m.\u001B[39mflags\u001B[38;5;241m.\u001B[39mwriteable \u001B[38;5;241m=\u001B[39m \u001B[38;5;28;01mFalse\u001B[39;00m\n\u001B[0;32m   1731\u001B[0m \u001B[38;5;28;01melse\u001B[39;00m:\n\u001B[1;32m-> 1732\u001B[0m     arr \u001B[38;5;241m=\u001B[39m \u001B[38;5;28;43mself\u001B[39;49m\u001B[38;5;241;43m.\u001B[39;49m\u001B[43m_interleave\u001B[49m\u001B[43m(\u001B[49m\u001B[43mdtype\u001B[49m\u001B[38;5;241;43m=\u001B[39;49m\u001B[43mdtype\u001B[49m\u001B[43m,\u001B[49m\u001B[43m \u001B[49m\u001B[43mna_value\u001B[49m\u001B[38;5;241;43m=\u001B[39;49m\u001B[43mna_value\u001B[49m\u001B[43m)\u001B[49m\n\u001B[0;32m   1733\u001B[0m     \u001B[38;5;66;03m# The underlying data was copied within _interleave, so no need\u001B[39;00m\n\u001B[0;32m   1734\u001B[0m     \u001B[38;5;66;03m# to further copy if copy=True or setting na_value\u001B[39;00m\n\u001B[0;32m   1736\u001B[0m \u001B[38;5;28;01mif\u001B[39;00m na_value \u001B[38;5;129;01mis\u001B[39;00m \u001B[38;5;129;01mnot\u001B[39;00m lib\u001B[38;5;241m.\u001B[39mno_default:\n",
      "File \u001B[1;32mD:\\Anaconda\\anaconda\\envs\\neural_network\\lib\\site-packages\\pandas\\core\\internals\\managers.py:1794\u001B[0m, in \u001B[0;36mBlockManager._interleave\u001B[1;34m(self, dtype, na_value)\u001B[0m\n\u001B[0;32m   1792\u001B[0m     \u001B[38;5;28;01melse\u001B[39;00m:\n\u001B[0;32m   1793\u001B[0m         arr \u001B[38;5;241m=\u001B[39m blk\u001B[38;5;241m.\u001B[39mget_values(dtype)\n\u001B[1;32m-> 1794\u001B[0m     result[rl\u001B[38;5;241m.\u001B[39mindexer] \u001B[38;5;241m=\u001B[39m arr\n\u001B[0;32m   1795\u001B[0m     itemmask[rl\u001B[38;5;241m.\u001B[39mindexer] \u001B[38;5;241m=\u001B[39m \u001B[38;5;241m1\u001B[39m\n\u001B[0;32m   1797\u001B[0m \u001B[38;5;28;01mif\u001B[39;00m \u001B[38;5;129;01mnot\u001B[39;00m itemmask\u001B[38;5;241m.\u001B[39mall():\n",
      "\u001B[1;31mValueError\u001B[0m: could not convert string to float: 'blue-collar'"
     ]
    }
   ],
   "source": [
    "from sklearn.preprocessing import LabelEncoder\n",
    "\n",
    "# 创建一个LabelEncoder对象\n",
    "le = LabelEncoder()\n",
    "\n",
    "# 列出你想要编码的列\n",
    "columns_to_encode = ['workclass', 'education', 'marital-status','occupation','relationship','race','sex','native-country','income']\n",
    "\n",
    "# 对每个选定的列进行编码\n",
    "for column in columns_to_encode:\n",
    "    adult_data[column] = le.fit_transform(adult_data[column])"
   ],
   "metadata": {
    "collapsed": false,
    "pycharm": {
     "name": "#%%\n"
    }
   }
  },
  {
   "cell_type": "code",
   "execution_count": 9,
   "outputs": [],
   "source": [
    "# 归一化\n",
    "def normalization(data, parameters=None):\n",
    "    \"\"\"\n",
    "    Normalize data in [0, 1] range.\n",
    "\n",
    "    Args:\n",
    "      - data: original data\n",
    "\n",
    "    Returns:\n",
    "      - norm_data: normalized data\n",
    "      - norm_parameters: min_val, max_val for each feature for renormalization\n",
    "    \"\"\"\n",
    "\n",
    "    # Parameters\n",
    "    _, dim = data.shape\n",
    "    norm_data = data.copy()\n",
    "\n",
    "    if parameters is None:\n",
    "\n",
    "        # MixMax normalization\n",
    "        min_val = np.zeros(dim)\n",
    "        max_val = np.zeros(dim)\n",
    "\n",
    "        # For each dimension\n",
    "        for i in range(dim):\n",
    "            min_val[i] = np.nanmin(norm_data[:, i])\n",
    "            norm_data[:, i] = norm_data[:, i] - np.nanmin(norm_data[:, i])\n",
    "            max_val[i] = np.nanmax(norm_data[:, i])\n",
    "            norm_data[:, i] = norm_data[:, i] / (np.nanmax(norm_data[:, i]) + 1e-6)\n",
    "\n",
    "            # Return norm_parameters for renormalization\n",
    "        norm_parameters = {'min_val': min_val,\n",
    "                           'max_val': max_val}\n",
    "\n",
    "    else:\n",
    "        min_val = parameters['min_val']\n",
    "        max_val = parameters['max_val']\n",
    "\n",
    "        # For each dimension\n",
    "        for i in range(dim):\n",
    "            norm_data[:, i] = norm_data[:, i] - min_val[i]\n",
    "            norm_data[:, i] = norm_data[:, i] / (max_val[i] + 1e-6)\n",
    "\n",
    "        norm_parameters = parameters\n",
    "\n",
    "    return norm_data, norm_parameters"
   ],
   "metadata": {
    "collapsed": false,
    "pycharm": {
     "name": "#%%\n"
    }
   }
  },
  {
   "cell_type": "code",
   "execution_count": 11,
   "outputs": [
    {
     "ename": "InvalidIndexError",
     "evalue": "(slice(None, None, None), 0)",
     "output_type": "error",
     "traceback": [
      "\u001B[1;31m---------------------------------------------------------------------------\u001B[0m",
      "\u001B[1;31mTypeError\u001B[0m                                 Traceback (most recent call last)",
      "File \u001B[1;32mD:\\Anaconda\\anaconda\\envs\\neural_network\\lib\\site-packages\\pandas\\core\\indexes\\base.py:3653\u001B[0m, in \u001B[0;36mIndex.get_loc\u001B[1;34m(self, key)\u001B[0m\n\u001B[0;32m   3652\u001B[0m \u001B[38;5;28;01mtry\u001B[39;00m:\n\u001B[1;32m-> 3653\u001B[0m     \u001B[38;5;28;01mreturn\u001B[39;00m \u001B[38;5;28;43mself\u001B[39;49m\u001B[38;5;241;43m.\u001B[39;49m\u001B[43m_engine\u001B[49m\u001B[38;5;241;43m.\u001B[39;49m\u001B[43mget_loc\u001B[49m\u001B[43m(\u001B[49m\u001B[43mcasted_key\u001B[49m\u001B[43m)\u001B[49m\n\u001B[0;32m   3654\u001B[0m \u001B[38;5;28;01mexcept\u001B[39;00m \u001B[38;5;167;01mKeyError\u001B[39;00m \u001B[38;5;28;01mas\u001B[39;00m err:\n",
      "File \u001B[1;32mD:\\Anaconda\\anaconda\\envs\\neural_network\\lib\\site-packages\\pandas\\_libs\\index.pyx:147\u001B[0m, in \u001B[0;36mpandas._libs.index.IndexEngine.get_loc\u001B[1;34m()\u001B[0m\n",
      "File \u001B[1;32mD:\\Anaconda\\anaconda\\envs\\neural_network\\lib\\site-packages\\pandas\\_libs\\index.pyx:153\u001B[0m, in \u001B[0;36mpandas._libs.index.IndexEngine.get_loc\u001B[1;34m()\u001B[0m\n",
      "\u001B[1;31mTypeError\u001B[0m: '(slice(None, None, None), 0)' is an invalid key",
      "\nDuring handling of the above exception, another exception occurred:\n",
      "\u001B[1;31mInvalidIndexError\u001B[0m                         Traceback (most recent call last)",
      "Cell \u001B[1;32mIn[11], line 2\u001B[0m\n\u001B[0;32m      1\u001B[0m \u001B[38;5;66;03m# Normalization 数据归一化处理\u001B[39;00m\n\u001B[1;32m----> 2\u001B[0m norm_data, norm_parameters \u001B[38;5;241m=\u001B[39m \u001B[43mnormalization\u001B[49m\u001B[43m(\u001B[49m\u001B[43mincomplete_data\u001B[49m\u001B[43m)\u001B[49m\n",
      "Cell \u001B[1;32mIn[9], line 26\u001B[0m, in \u001B[0;36mnormalization\u001B[1;34m(data, parameters)\u001B[0m\n\u001B[0;32m     24\u001B[0m \u001B[38;5;66;03m# For each dimension\u001B[39;00m\n\u001B[0;32m     25\u001B[0m \u001B[38;5;28;01mfor\u001B[39;00m i \u001B[38;5;129;01min\u001B[39;00m \u001B[38;5;28mrange\u001B[39m(dim):\n\u001B[1;32m---> 26\u001B[0m     min_val[i] \u001B[38;5;241m=\u001B[39m np\u001B[38;5;241m.\u001B[39mnanmin(\u001B[43mnorm_data\u001B[49m\u001B[43m[\u001B[49m\u001B[43m:\u001B[49m\u001B[43m,\u001B[49m\u001B[43m \u001B[49m\u001B[43mi\u001B[49m\u001B[43m]\u001B[49m)\n\u001B[0;32m     27\u001B[0m     norm_data[:, i] \u001B[38;5;241m=\u001B[39m norm_data[:, i] \u001B[38;5;241m-\u001B[39m np\u001B[38;5;241m.\u001B[39mnanmin(norm_data[:, i])\n\u001B[0;32m     28\u001B[0m     max_val[i] \u001B[38;5;241m=\u001B[39m np\u001B[38;5;241m.\u001B[39mnanmax(norm_data[:, i])\n",
      "File \u001B[1;32mD:\\Anaconda\\anaconda\\envs\\neural_network\\lib\\site-packages\\pandas\\core\\frame.py:3761\u001B[0m, in \u001B[0;36mDataFrame.__getitem__\u001B[1;34m(self, key)\u001B[0m\n\u001B[0;32m   3759\u001B[0m \u001B[38;5;28;01mif\u001B[39;00m \u001B[38;5;28mself\u001B[39m\u001B[38;5;241m.\u001B[39mcolumns\u001B[38;5;241m.\u001B[39mnlevels \u001B[38;5;241m>\u001B[39m \u001B[38;5;241m1\u001B[39m:\n\u001B[0;32m   3760\u001B[0m     \u001B[38;5;28;01mreturn\u001B[39;00m \u001B[38;5;28mself\u001B[39m\u001B[38;5;241m.\u001B[39m_getitem_multilevel(key)\n\u001B[1;32m-> 3761\u001B[0m indexer \u001B[38;5;241m=\u001B[39m \u001B[38;5;28;43mself\u001B[39;49m\u001B[38;5;241;43m.\u001B[39;49m\u001B[43mcolumns\u001B[49m\u001B[38;5;241;43m.\u001B[39;49m\u001B[43mget_loc\u001B[49m\u001B[43m(\u001B[49m\u001B[43mkey\u001B[49m\u001B[43m)\u001B[49m\n\u001B[0;32m   3762\u001B[0m \u001B[38;5;28;01mif\u001B[39;00m is_integer(indexer):\n\u001B[0;32m   3763\u001B[0m     indexer \u001B[38;5;241m=\u001B[39m [indexer]\n",
      "File \u001B[1;32mD:\\Anaconda\\anaconda\\envs\\neural_network\\lib\\site-packages\\pandas\\core\\indexes\\base.py:3660\u001B[0m, in \u001B[0;36mIndex.get_loc\u001B[1;34m(self, key)\u001B[0m\n\u001B[0;32m   3655\u001B[0m     \u001B[38;5;28;01mraise\u001B[39;00m \u001B[38;5;167;01mKeyError\u001B[39;00m(key) \u001B[38;5;28;01mfrom\u001B[39;00m \u001B[38;5;21;01merr\u001B[39;00m\n\u001B[0;32m   3656\u001B[0m \u001B[38;5;28;01mexcept\u001B[39;00m \u001B[38;5;167;01mTypeError\u001B[39;00m:\n\u001B[0;32m   3657\u001B[0m     \u001B[38;5;66;03m# If we have a listlike key, _check_indexing_error will raise\u001B[39;00m\n\u001B[0;32m   3658\u001B[0m     \u001B[38;5;66;03m#  InvalidIndexError. Otherwise we fall through and re-raise\u001B[39;00m\n\u001B[0;32m   3659\u001B[0m     \u001B[38;5;66;03m#  the TypeError.\u001B[39;00m\n\u001B[1;32m-> 3660\u001B[0m     \u001B[38;5;28;43mself\u001B[39;49m\u001B[38;5;241;43m.\u001B[39;49m\u001B[43m_check_indexing_error\u001B[49m\u001B[43m(\u001B[49m\u001B[43mkey\u001B[49m\u001B[43m)\u001B[49m\n\u001B[0;32m   3661\u001B[0m     \u001B[38;5;28;01mraise\u001B[39;00m\n",
      "File \u001B[1;32mD:\\Anaconda\\anaconda\\envs\\neural_network\\lib\\site-packages\\pandas\\core\\indexes\\base.py:5737\u001B[0m, in \u001B[0;36mIndex._check_indexing_error\u001B[1;34m(self, key)\u001B[0m\n\u001B[0;32m   5733\u001B[0m \u001B[38;5;28;01mdef\u001B[39;00m \u001B[38;5;21m_check_indexing_error\u001B[39m(\u001B[38;5;28mself\u001B[39m, key):\n\u001B[0;32m   5734\u001B[0m     \u001B[38;5;28;01mif\u001B[39;00m \u001B[38;5;129;01mnot\u001B[39;00m is_scalar(key):\n\u001B[0;32m   5735\u001B[0m         \u001B[38;5;66;03m# if key is not a scalar, directly raise an error (the code below\u001B[39;00m\n\u001B[0;32m   5736\u001B[0m         \u001B[38;5;66;03m# would convert to numpy arrays and raise later any way) - GH29926\u001B[39;00m\n\u001B[1;32m-> 5737\u001B[0m         \u001B[38;5;28;01mraise\u001B[39;00m InvalidIndexError(key)\n",
      "\u001B[1;31mInvalidIndexError\u001B[0m: (slice(None, None, None), 0)"
     ]
    }
   ],
   "source": [
    "# Normalization 数据归一化处理\n",
    "norm_data, norm_parameters = normalization(incomplete_data)  # 归一化，在utils中已定义好"
   ],
   "metadata": {
    "collapsed": false,
    "pycharm": {
     "name": "#%%\n"
    }
   }
  },
  {
   "cell_type": "code",
   "execution_count": 14,
   "outputs": [
    {
     "name": "stdout",
     "output_type": "stream",
     "text": [
      "[['unknown' 5 'may' ... 'unknown' 'no' 0]\n",
      " ['unknown' 5 'may' ... 'unknown' 'no' 1]\n",
      " ['unknown' 5 'may' ... 'unknown' 'no' 2]\n",
      " ...\n",
      " ['cellular' 17 'nov' ... 'success' 'yes' 45208]\n",
      " ['telephone' 17 'nov' ... 'unknown' 'no' 45209]\n",
      " ['cellular' 17 'nov' ... 'other' 'no' 45210]]\n"
     ]
    }
   ],
   "source": [
    "print(complete_data.values)"
   ],
   "metadata": {
    "collapsed": false,
    "pycharm": {
     "name": "#%%\n"
    }
   }
  },
  {
   "cell_type": "code",
   "execution_count": 16,
   "outputs": [
    {
     "data": {
      "text/plain": "   contact  day month  duration  campaign  pdays  previous poutcome    y  \\\n0      NaN  NaN   NaN       NaN       NaN    NaN       NaN      NaN  NaN   \n1  unknown  5.0   may     151.0       1.0   -1.0       0.0  unknown   no   \n2      NaN  NaN   NaN       NaN       NaN    NaN       NaN      NaN  NaN   \n3      NaN  NaN   NaN       NaN       NaN    NaN       NaN      NaN  NaN   \n4  unknown  5.0   may     198.0       1.0   -1.0       0.0  unknown   no   \n\n   index  \n0    NaN  \n1    1.0  \n2    NaN  \n3    NaN  \n4    4.0  ",
      "text/html": "<div>\n<style scoped>\n    .dataframe tbody tr th:only-of-type {\n        vertical-align: middle;\n    }\n\n    .dataframe tbody tr th {\n        vertical-align: top;\n    }\n\n    .dataframe thead th {\n        text-align: right;\n    }\n</style>\n<table border=\"1\" class=\"dataframe\">\n  <thead>\n    <tr style=\"text-align: right;\">\n      <th></th>\n      <th>contact</th>\n      <th>day</th>\n      <th>month</th>\n      <th>duration</th>\n      <th>campaign</th>\n      <th>pdays</th>\n      <th>previous</th>\n      <th>poutcome</th>\n      <th>y</th>\n      <th>index</th>\n    </tr>\n  </thead>\n  <tbody>\n    <tr>\n      <th>0</th>\n      <td>NaN</td>\n      <td>NaN</td>\n      <td>NaN</td>\n      <td>NaN</td>\n      <td>NaN</td>\n      <td>NaN</td>\n      <td>NaN</td>\n      <td>NaN</td>\n      <td>NaN</td>\n      <td>NaN</td>\n    </tr>\n    <tr>\n      <th>1</th>\n      <td>unknown</td>\n      <td>5.0</td>\n      <td>may</td>\n      <td>151.0</td>\n      <td>1.0</td>\n      <td>-1.0</td>\n      <td>0.0</td>\n      <td>unknown</td>\n      <td>no</td>\n      <td>1.0</td>\n    </tr>\n    <tr>\n      <th>2</th>\n      <td>NaN</td>\n      <td>NaN</td>\n      <td>NaN</td>\n      <td>NaN</td>\n      <td>NaN</td>\n      <td>NaN</td>\n      <td>NaN</td>\n      <td>NaN</td>\n      <td>NaN</td>\n      <td>NaN</td>\n    </tr>\n    <tr>\n      <th>3</th>\n      <td>NaN</td>\n      <td>NaN</td>\n      <td>NaN</td>\n      <td>NaN</td>\n      <td>NaN</td>\n      <td>NaN</td>\n      <td>NaN</td>\n      <td>NaN</td>\n      <td>NaN</td>\n      <td>NaN</td>\n    </tr>\n    <tr>\n      <th>4</th>\n      <td>unknown</td>\n      <td>5.0</td>\n      <td>may</td>\n      <td>198.0</td>\n      <td>1.0</td>\n      <td>-1.0</td>\n      <td>0.0</td>\n      <td>unknown</td>\n      <td>no</td>\n      <td>4.0</td>\n    </tr>\n  </tbody>\n</table>\n</div>"
     },
     "execution_count": 16,
     "metadata": {},
     "output_type": "execute_result"
    }
   ],
   "source": [
    "incomplete_data.head()"
   ],
   "metadata": {
    "collapsed": false,
    "pycharm": {
     "name": "#%%\n"
    }
   }
  },
  {
   "cell_type": "code",
   "execution_count": 3,
   "outputs": [
    {
     "data": {
      "text/plain": "    contact  day month  duration  campaign  pdays  previous poutcome   y  \\\n0   unknown    5   may       261         1     -1         0  unknown  no   \n1   unknown    5   may       151         1     -1         0  unknown  no   \n2   unknown    5   may        76         1     -1         0  unknown  no   \n3   unknown    5   may        92         1     -1         0  unknown  no   \n4   unknown    5   may       198         1     -1         0  unknown  no   \n5   unknown    5   may       139         1     -1         0  unknown  no   \n6   unknown    5   may       217         1     -1         0  unknown  no   \n7   unknown    5   may       380         1     -1         0  unknown  no   \n8   unknown    5   may        50         1     -1         0  unknown  no   \n9   unknown    5   may        55         1     -1         0  unknown  no   \n10  unknown    5   may       222         1     -1         0  unknown  no   \n11  unknown    5   may       137         1     -1         0  unknown  no   \n12  unknown    5   may       517         1     -1         0  unknown  no   \n13  unknown    5   may        71         1     -1         0  unknown  no   \n14  unknown    5   may       174         1     -1         0  unknown  no   \n15  unknown    5   may       353         1     -1         0  unknown  no   \n16  unknown    5   may        98         1     -1         0  unknown  no   \n17  unknown    5   may        38         1     -1         0  unknown  no   \n18  unknown    5   may       219         1     -1         0  unknown  no   \n19  unknown    5   may        54         1     -1         0  unknown  no   \n20  unknown    5   may       262         1     -1         0  unknown  no   \n21  unknown    5   may       164         1     -1         0  unknown  no   \n22  unknown    5   may       160         1     -1         0  unknown  no   \n23  unknown    5   may       342         1     -1         0  unknown  no   \n24  unknown    5   may       181         1     -1         0  unknown  no   \n25  unknown    5   may       172         1     -1         0  unknown  no   \n26  unknown    5   may       296         1     -1         0  unknown  no   \n27  unknown    5   may       127         1     -1         0  unknown  no   \n28  unknown    5   may       255         2     -1         0  unknown  no   \n29  unknown    5   may       348         1     -1         0  unknown  no   \n30  unknown    5   may       225         1     -1         0  unknown  no   \n31  unknown    5   may       230         1     -1         0  unknown  no   \n32  unknown    5   may       208         1     -1         0  unknown  no   \n33  unknown    5   may       226         1     -1         0  unknown  no   \n34  unknown    5   may       336         1     -1         0  unknown  no   \n35  unknown    5   may       242         1     -1         0  unknown  no   \n36  unknown    5   may       365         1     -1         0  unknown  no   \n37  unknown    5   may      1666         1     -1         0  unknown  no   \n38  unknown    5   may       577         1     -1         0  unknown  no   \n39  unknown    5   may       137         1     -1         0  unknown  no   \n40  unknown    5   may       160         1     -1         0  unknown  no   \n41  unknown    5   may       180         2     -1         0  unknown  no   \n42  unknown    5   may        22         1     -1         0  unknown  no   \n43  unknown    5   may      1492         1     -1         0  unknown  no   \n44  unknown    5   may       616         1     -1         0  unknown  no   \n45  unknown    5   may       242         1     -1         0  unknown  no   \n46  unknown    5   may       355         1     -1         0  unknown  no   \n47  unknown    5   may       225         2     -1         0  unknown  no   \n48  unknown    5   may       160         1     -1         0  unknown  no   \n49  unknown    5   may       363         1     -1         0  unknown  no   \n\n    index  \n0       0  \n1       1  \n2       2  \n3       3  \n4       4  \n5       5  \n6       6  \n7       7  \n8       8  \n9       9  \n10     10  \n11     11  \n12     12  \n13     13  \n14     14  \n15     15  \n16     16  \n17     17  \n18     18  \n19     19  \n20     20  \n21     21  \n22     22  \n23     23  \n24     24  \n25     25  \n26     26  \n27     27  \n28     28  \n29     29  \n30     30  \n31     31  \n32     32  \n33     33  \n34     34  \n35     35  \n36     36  \n37     37  \n38     38  \n39     39  \n40     40  \n41     41  \n42     42  \n43     43  \n44     44  \n45     45  \n46     46  \n47     47  \n48     48  \n49     49  ",
      "text/html": "<div>\n<style scoped>\n    .dataframe tbody tr th:only-of-type {\n        vertical-align: middle;\n    }\n\n    .dataframe tbody tr th {\n        vertical-align: top;\n    }\n\n    .dataframe thead th {\n        text-align: right;\n    }\n</style>\n<table border=\"1\" class=\"dataframe\">\n  <thead>\n    <tr style=\"text-align: right;\">\n      <th></th>\n      <th>contact</th>\n      <th>day</th>\n      <th>month</th>\n      <th>duration</th>\n      <th>campaign</th>\n      <th>pdays</th>\n      <th>previous</th>\n      <th>poutcome</th>\n      <th>y</th>\n      <th>index</th>\n    </tr>\n  </thead>\n  <tbody>\n    <tr>\n      <th>0</th>\n      <td>unknown</td>\n      <td>5</td>\n      <td>may</td>\n      <td>261</td>\n      <td>1</td>\n      <td>-1</td>\n      <td>0</td>\n      <td>unknown</td>\n      <td>no</td>\n      <td>0</td>\n    </tr>\n    <tr>\n      <th>1</th>\n      <td>unknown</td>\n      <td>5</td>\n      <td>may</td>\n      <td>151</td>\n      <td>1</td>\n      <td>-1</td>\n      <td>0</td>\n      <td>unknown</td>\n      <td>no</td>\n      <td>1</td>\n    </tr>\n    <tr>\n      <th>2</th>\n      <td>unknown</td>\n      <td>5</td>\n      <td>may</td>\n      <td>76</td>\n      <td>1</td>\n      <td>-1</td>\n      <td>0</td>\n      <td>unknown</td>\n      <td>no</td>\n      <td>2</td>\n    </tr>\n    <tr>\n      <th>3</th>\n      <td>unknown</td>\n      <td>5</td>\n      <td>may</td>\n      <td>92</td>\n      <td>1</td>\n      <td>-1</td>\n      <td>0</td>\n      <td>unknown</td>\n      <td>no</td>\n      <td>3</td>\n    </tr>\n    <tr>\n      <th>4</th>\n      <td>unknown</td>\n      <td>5</td>\n      <td>may</td>\n      <td>198</td>\n      <td>1</td>\n      <td>-1</td>\n      <td>0</td>\n      <td>unknown</td>\n      <td>no</td>\n      <td>4</td>\n    </tr>\n    <tr>\n      <th>5</th>\n      <td>unknown</td>\n      <td>5</td>\n      <td>may</td>\n      <td>139</td>\n      <td>1</td>\n      <td>-1</td>\n      <td>0</td>\n      <td>unknown</td>\n      <td>no</td>\n      <td>5</td>\n    </tr>\n    <tr>\n      <th>6</th>\n      <td>unknown</td>\n      <td>5</td>\n      <td>may</td>\n      <td>217</td>\n      <td>1</td>\n      <td>-1</td>\n      <td>0</td>\n      <td>unknown</td>\n      <td>no</td>\n      <td>6</td>\n    </tr>\n    <tr>\n      <th>7</th>\n      <td>unknown</td>\n      <td>5</td>\n      <td>may</td>\n      <td>380</td>\n      <td>1</td>\n      <td>-1</td>\n      <td>0</td>\n      <td>unknown</td>\n      <td>no</td>\n      <td>7</td>\n    </tr>\n    <tr>\n      <th>8</th>\n      <td>unknown</td>\n      <td>5</td>\n      <td>may</td>\n      <td>50</td>\n      <td>1</td>\n      <td>-1</td>\n      <td>0</td>\n      <td>unknown</td>\n      <td>no</td>\n      <td>8</td>\n    </tr>\n    <tr>\n      <th>9</th>\n      <td>unknown</td>\n      <td>5</td>\n      <td>may</td>\n      <td>55</td>\n      <td>1</td>\n      <td>-1</td>\n      <td>0</td>\n      <td>unknown</td>\n      <td>no</td>\n      <td>9</td>\n    </tr>\n    <tr>\n      <th>10</th>\n      <td>unknown</td>\n      <td>5</td>\n      <td>may</td>\n      <td>222</td>\n      <td>1</td>\n      <td>-1</td>\n      <td>0</td>\n      <td>unknown</td>\n      <td>no</td>\n      <td>10</td>\n    </tr>\n    <tr>\n      <th>11</th>\n      <td>unknown</td>\n      <td>5</td>\n      <td>may</td>\n      <td>137</td>\n      <td>1</td>\n      <td>-1</td>\n      <td>0</td>\n      <td>unknown</td>\n      <td>no</td>\n      <td>11</td>\n    </tr>\n    <tr>\n      <th>12</th>\n      <td>unknown</td>\n      <td>5</td>\n      <td>may</td>\n      <td>517</td>\n      <td>1</td>\n      <td>-1</td>\n      <td>0</td>\n      <td>unknown</td>\n      <td>no</td>\n      <td>12</td>\n    </tr>\n    <tr>\n      <th>13</th>\n      <td>unknown</td>\n      <td>5</td>\n      <td>may</td>\n      <td>71</td>\n      <td>1</td>\n      <td>-1</td>\n      <td>0</td>\n      <td>unknown</td>\n      <td>no</td>\n      <td>13</td>\n    </tr>\n    <tr>\n      <th>14</th>\n      <td>unknown</td>\n      <td>5</td>\n      <td>may</td>\n      <td>174</td>\n      <td>1</td>\n      <td>-1</td>\n      <td>0</td>\n      <td>unknown</td>\n      <td>no</td>\n      <td>14</td>\n    </tr>\n    <tr>\n      <th>15</th>\n      <td>unknown</td>\n      <td>5</td>\n      <td>may</td>\n      <td>353</td>\n      <td>1</td>\n      <td>-1</td>\n      <td>0</td>\n      <td>unknown</td>\n      <td>no</td>\n      <td>15</td>\n    </tr>\n    <tr>\n      <th>16</th>\n      <td>unknown</td>\n      <td>5</td>\n      <td>may</td>\n      <td>98</td>\n      <td>1</td>\n      <td>-1</td>\n      <td>0</td>\n      <td>unknown</td>\n      <td>no</td>\n      <td>16</td>\n    </tr>\n    <tr>\n      <th>17</th>\n      <td>unknown</td>\n      <td>5</td>\n      <td>may</td>\n      <td>38</td>\n      <td>1</td>\n      <td>-1</td>\n      <td>0</td>\n      <td>unknown</td>\n      <td>no</td>\n      <td>17</td>\n    </tr>\n    <tr>\n      <th>18</th>\n      <td>unknown</td>\n      <td>5</td>\n      <td>may</td>\n      <td>219</td>\n      <td>1</td>\n      <td>-1</td>\n      <td>0</td>\n      <td>unknown</td>\n      <td>no</td>\n      <td>18</td>\n    </tr>\n    <tr>\n      <th>19</th>\n      <td>unknown</td>\n      <td>5</td>\n      <td>may</td>\n      <td>54</td>\n      <td>1</td>\n      <td>-1</td>\n      <td>0</td>\n      <td>unknown</td>\n      <td>no</td>\n      <td>19</td>\n    </tr>\n    <tr>\n      <th>20</th>\n      <td>unknown</td>\n      <td>5</td>\n      <td>may</td>\n      <td>262</td>\n      <td>1</td>\n      <td>-1</td>\n      <td>0</td>\n      <td>unknown</td>\n      <td>no</td>\n      <td>20</td>\n    </tr>\n    <tr>\n      <th>21</th>\n      <td>unknown</td>\n      <td>5</td>\n      <td>may</td>\n      <td>164</td>\n      <td>1</td>\n      <td>-1</td>\n      <td>0</td>\n      <td>unknown</td>\n      <td>no</td>\n      <td>21</td>\n    </tr>\n    <tr>\n      <th>22</th>\n      <td>unknown</td>\n      <td>5</td>\n      <td>may</td>\n      <td>160</td>\n      <td>1</td>\n      <td>-1</td>\n      <td>0</td>\n      <td>unknown</td>\n      <td>no</td>\n      <td>22</td>\n    </tr>\n    <tr>\n      <th>23</th>\n      <td>unknown</td>\n      <td>5</td>\n      <td>may</td>\n      <td>342</td>\n      <td>1</td>\n      <td>-1</td>\n      <td>0</td>\n      <td>unknown</td>\n      <td>no</td>\n      <td>23</td>\n    </tr>\n    <tr>\n      <th>24</th>\n      <td>unknown</td>\n      <td>5</td>\n      <td>may</td>\n      <td>181</td>\n      <td>1</td>\n      <td>-1</td>\n      <td>0</td>\n      <td>unknown</td>\n      <td>no</td>\n      <td>24</td>\n    </tr>\n    <tr>\n      <th>25</th>\n      <td>unknown</td>\n      <td>5</td>\n      <td>may</td>\n      <td>172</td>\n      <td>1</td>\n      <td>-1</td>\n      <td>0</td>\n      <td>unknown</td>\n      <td>no</td>\n      <td>25</td>\n    </tr>\n    <tr>\n      <th>26</th>\n      <td>unknown</td>\n      <td>5</td>\n      <td>may</td>\n      <td>296</td>\n      <td>1</td>\n      <td>-1</td>\n      <td>0</td>\n      <td>unknown</td>\n      <td>no</td>\n      <td>26</td>\n    </tr>\n    <tr>\n      <th>27</th>\n      <td>unknown</td>\n      <td>5</td>\n      <td>may</td>\n      <td>127</td>\n      <td>1</td>\n      <td>-1</td>\n      <td>0</td>\n      <td>unknown</td>\n      <td>no</td>\n      <td>27</td>\n    </tr>\n    <tr>\n      <th>28</th>\n      <td>unknown</td>\n      <td>5</td>\n      <td>may</td>\n      <td>255</td>\n      <td>2</td>\n      <td>-1</td>\n      <td>0</td>\n      <td>unknown</td>\n      <td>no</td>\n      <td>28</td>\n    </tr>\n    <tr>\n      <th>29</th>\n      <td>unknown</td>\n      <td>5</td>\n      <td>may</td>\n      <td>348</td>\n      <td>1</td>\n      <td>-1</td>\n      <td>0</td>\n      <td>unknown</td>\n      <td>no</td>\n      <td>29</td>\n    </tr>\n    <tr>\n      <th>30</th>\n      <td>unknown</td>\n      <td>5</td>\n      <td>may</td>\n      <td>225</td>\n      <td>1</td>\n      <td>-1</td>\n      <td>0</td>\n      <td>unknown</td>\n      <td>no</td>\n      <td>30</td>\n    </tr>\n    <tr>\n      <th>31</th>\n      <td>unknown</td>\n      <td>5</td>\n      <td>may</td>\n      <td>230</td>\n      <td>1</td>\n      <td>-1</td>\n      <td>0</td>\n      <td>unknown</td>\n      <td>no</td>\n      <td>31</td>\n    </tr>\n    <tr>\n      <th>32</th>\n      <td>unknown</td>\n      <td>5</td>\n      <td>may</td>\n      <td>208</td>\n      <td>1</td>\n      <td>-1</td>\n      <td>0</td>\n      <td>unknown</td>\n      <td>no</td>\n      <td>32</td>\n    </tr>\n    <tr>\n      <th>33</th>\n      <td>unknown</td>\n      <td>5</td>\n      <td>may</td>\n      <td>226</td>\n      <td>1</td>\n      <td>-1</td>\n      <td>0</td>\n      <td>unknown</td>\n      <td>no</td>\n      <td>33</td>\n    </tr>\n    <tr>\n      <th>34</th>\n      <td>unknown</td>\n      <td>5</td>\n      <td>may</td>\n      <td>336</td>\n      <td>1</td>\n      <td>-1</td>\n      <td>0</td>\n      <td>unknown</td>\n      <td>no</td>\n      <td>34</td>\n    </tr>\n    <tr>\n      <th>35</th>\n      <td>unknown</td>\n      <td>5</td>\n      <td>may</td>\n      <td>242</td>\n      <td>1</td>\n      <td>-1</td>\n      <td>0</td>\n      <td>unknown</td>\n      <td>no</td>\n      <td>35</td>\n    </tr>\n    <tr>\n      <th>36</th>\n      <td>unknown</td>\n      <td>5</td>\n      <td>may</td>\n      <td>365</td>\n      <td>1</td>\n      <td>-1</td>\n      <td>0</td>\n      <td>unknown</td>\n      <td>no</td>\n      <td>36</td>\n    </tr>\n    <tr>\n      <th>37</th>\n      <td>unknown</td>\n      <td>5</td>\n      <td>may</td>\n      <td>1666</td>\n      <td>1</td>\n      <td>-1</td>\n      <td>0</td>\n      <td>unknown</td>\n      <td>no</td>\n      <td>37</td>\n    </tr>\n    <tr>\n      <th>38</th>\n      <td>unknown</td>\n      <td>5</td>\n      <td>may</td>\n      <td>577</td>\n      <td>1</td>\n      <td>-1</td>\n      <td>0</td>\n      <td>unknown</td>\n      <td>no</td>\n      <td>38</td>\n    </tr>\n    <tr>\n      <th>39</th>\n      <td>unknown</td>\n      <td>5</td>\n      <td>may</td>\n      <td>137</td>\n      <td>1</td>\n      <td>-1</td>\n      <td>0</td>\n      <td>unknown</td>\n      <td>no</td>\n      <td>39</td>\n    </tr>\n    <tr>\n      <th>40</th>\n      <td>unknown</td>\n      <td>5</td>\n      <td>may</td>\n      <td>160</td>\n      <td>1</td>\n      <td>-1</td>\n      <td>0</td>\n      <td>unknown</td>\n      <td>no</td>\n      <td>40</td>\n    </tr>\n    <tr>\n      <th>41</th>\n      <td>unknown</td>\n      <td>5</td>\n      <td>may</td>\n      <td>180</td>\n      <td>2</td>\n      <td>-1</td>\n      <td>0</td>\n      <td>unknown</td>\n      <td>no</td>\n      <td>41</td>\n    </tr>\n    <tr>\n      <th>42</th>\n      <td>unknown</td>\n      <td>5</td>\n      <td>may</td>\n      <td>22</td>\n      <td>1</td>\n      <td>-1</td>\n      <td>0</td>\n      <td>unknown</td>\n      <td>no</td>\n      <td>42</td>\n    </tr>\n    <tr>\n      <th>43</th>\n      <td>unknown</td>\n      <td>5</td>\n      <td>may</td>\n      <td>1492</td>\n      <td>1</td>\n      <td>-1</td>\n      <td>0</td>\n      <td>unknown</td>\n      <td>no</td>\n      <td>43</td>\n    </tr>\n    <tr>\n      <th>44</th>\n      <td>unknown</td>\n      <td>5</td>\n      <td>may</td>\n      <td>616</td>\n      <td>1</td>\n      <td>-1</td>\n      <td>0</td>\n      <td>unknown</td>\n      <td>no</td>\n      <td>44</td>\n    </tr>\n    <tr>\n      <th>45</th>\n      <td>unknown</td>\n      <td>5</td>\n      <td>may</td>\n      <td>242</td>\n      <td>1</td>\n      <td>-1</td>\n      <td>0</td>\n      <td>unknown</td>\n      <td>no</td>\n      <td>45</td>\n    </tr>\n    <tr>\n      <th>46</th>\n      <td>unknown</td>\n      <td>5</td>\n      <td>may</td>\n      <td>355</td>\n      <td>1</td>\n      <td>-1</td>\n      <td>0</td>\n      <td>unknown</td>\n      <td>no</td>\n      <td>46</td>\n    </tr>\n    <tr>\n      <th>47</th>\n      <td>unknown</td>\n      <td>5</td>\n      <td>may</td>\n      <td>225</td>\n      <td>2</td>\n      <td>-1</td>\n      <td>0</td>\n      <td>unknown</td>\n      <td>no</td>\n      <td>47</td>\n    </tr>\n    <tr>\n      <th>48</th>\n      <td>unknown</td>\n      <td>5</td>\n      <td>may</td>\n      <td>160</td>\n      <td>1</td>\n      <td>-1</td>\n      <td>0</td>\n      <td>unknown</td>\n      <td>no</td>\n      <td>48</td>\n    </tr>\n    <tr>\n      <th>49</th>\n      <td>unknown</td>\n      <td>5</td>\n      <td>may</td>\n      <td>363</td>\n      <td>1</td>\n      <td>-1</td>\n      <td>0</td>\n      <td>unknown</td>\n      <td>no</td>\n      <td>49</td>\n    </tr>\n  </tbody>\n</table>\n</div>"
     },
     "execution_count": 3,
     "metadata": {},
     "output_type": "execute_result"
    }
   ],
   "source": [
    "file_name = '../datasetsAB/bank_data_B.csv'\n",
    "complete_data_B = pd.read_csv(file_name,sep=',')\n",
    "complete_data_B.head(50)"
   ],
   "metadata": {
    "collapsed": false,
    "pycharm": {
     "name": "#%%\n"
    }
   }
  },
  {
   "cell_type": "code",
   "execution_count": 5,
   "outputs": [
    {
     "name": "stdout",
     "output_type": "stream",
     "text": [
      "         contact month poutcome    y\n",
      "0        unknown   may  unknown   no\n",
      "1        unknown   may  unknown   no\n",
      "2        unknown   may  unknown   no\n",
      "3        unknown   may  unknown   no\n",
      "4        unknown   may  unknown   no\n",
      "...          ...   ...      ...  ...\n",
      "45206   cellular   nov  unknown  yes\n",
      "45207   cellular   nov  unknown  yes\n",
      "45208   cellular   nov  success  yes\n",
      "45209  telephone   nov  unknown   no\n",
      "45210   cellular   nov    other   no\n",
      "\n",
      "[45211 rows x 4 columns]\n"
     ]
    }
   ],
   "source": [
    "# 选择所有的字符串列\n",
    "df_object = complete_data_B.select_dtypes(include=['object'])\n",
    "\n",
    "print(df_object)"
   ],
   "metadata": {
    "collapsed": false,
    "pycharm": {
     "name": "#%%\n"
    }
   }
  },
  {
   "cell_type": "code",
   "execution_count": 7,
   "outputs": [
    {
     "name": "stdout",
     "output_type": "stream",
     "text": [
      "       contact_cellular  contact_telephone  contact_unknown  month_apr  \\\n",
      "0                 False              False             True      False   \n",
      "1                 False              False             True      False   \n",
      "2                 False              False             True      False   \n",
      "3                 False              False             True      False   \n",
      "4                 False              False             True      False   \n",
      "...                 ...                ...              ...        ...   \n",
      "45206              True              False            False      False   \n",
      "45207              True              False            False      False   \n",
      "45208              True              False            False      False   \n",
      "45209             False               True            False      False   \n",
      "45210              True              False            False      False   \n",
      "\n",
      "       month_aug  month_dec  month_feb  month_jan  month_jul  month_jun  ...  \\\n",
      "0          False      False      False      False      False      False  ...   \n",
      "1          False      False      False      False      False      False  ...   \n",
      "2          False      False      False      False      False      False  ...   \n",
      "3          False      False      False      False      False      False  ...   \n",
      "4          False      False      False      False      False      False  ...   \n",
      "...          ...        ...        ...        ...        ...        ...  ...   \n",
      "45206      False      False      False      False      False      False  ...   \n",
      "45207      False      False      False      False      False      False  ...   \n",
      "45208      False      False      False      False      False      False  ...   \n",
      "45209      False      False      False      False      False      False  ...   \n",
      "45210      False      False      False      False      False      False  ...   \n",
      "\n",
      "       month_may  month_nov  month_oct  month_sep  poutcome_failure  \\\n",
      "0           True      False      False      False             False   \n",
      "1           True      False      False      False             False   \n",
      "2           True      False      False      False             False   \n",
      "3           True      False      False      False             False   \n",
      "4           True      False      False      False             False   \n",
      "...          ...        ...        ...        ...               ...   \n",
      "45206      False       True      False      False             False   \n",
      "45207      False       True      False      False             False   \n",
      "45208      False       True      False      False             False   \n",
      "45209      False       True      False      False             False   \n",
      "45210      False       True      False      False             False   \n",
      "\n",
      "       poutcome_other  poutcome_success  poutcome_unknown   y_no  y_yes  \n",
      "0               False             False              True   True  False  \n",
      "1               False             False              True   True  False  \n",
      "2               False             False              True   True  False  \n",
      "3               False             False              True   True  False  \n",
      "4               False             False              True   True  False  \n",
      "...               ...               ...               ...    ...    ...  \n",
      "45206           False             False              True  False   True  \n",
      "45207           False             False              True  False   True  \n",
      "45208           False              True             False  False   True  \n",
      "45209           False             False              True   True  False  \n",
      "45210            True             False             False   True  False  \n",
      "\n",
      "[45211 rows x 21 columns]\n"
     ]
    }
   ],
   "source": [
    "# 使用pandas的get_dummies函数进行特征编码\n",
    "df_encoded = pd.get_dummies(df_object)\n",
    "\n",
    "print(df_encoded)"
   ],
   "metadata": {
    "collapsed": false,
    "pycharm": {
     "name": "#%%\n"
    }
   }
  },
  {
   "cell_type": "code",
   "execution_count": 9,
   "outputs": [],
   "source": [
    "# 创建一个OneHotEncoder对象\n",
    "encoder = OneHotEncoder()\n",
    "\n",
    "# 转换数据框为NumPy数组并进行特征编码\n",
    "df_encoded = encoder.fit_transform(df_object.values)\n",
    "\n",
    "# 转换回数据框\n",
    "df_encoded = pd.DataFrame(df_encoded.toarray(), columns=encoder.get_feature_names_out())"
   ],
   "metadata": {
    "collapsed": false,
    "pycharm": {
     "name": "#%%\n"
    }
   }
  },
  {
   "cell_type": "code",
   "execution_count": 10,
   "outputs": [
    {
     "data": {
      "text/plain": "(45211, 21)"
     },
     "execution_count": 10,
     "metadata": {},
     "output_type": "execute_result"
    }
   ],
   "source": [
    "df_encoded.shape"
   ],
   "metadata": {
    "collapsed": false,
    "pycharm": {
     "name": "#%%\n"
    }
   }
  },
  {
   "cell_type": "code",
   "execution_count": 11,
   "outputs": [
    {
     "data": {
      "text/plain": "(45211, 10)"
     },
     "execution_count": 11,
     "metadata": {},
     "output_type": "execute_result"
    }
   ],
   "source": [
    "complete_data_B.shape"
   ],
   "metadata": {
    "collapsed": false,
    "pycharm": {
     "name": "#%%\n"
    }
   }
  },
  {
   "cell_type": "code",
   "execution_count": 12,
   "outputs": [
    {
     "data": {
      "text/plain": "   x0_cellular  x0_telephone  x0_unknown  x1_apr  x1_aug  x1_dec  x1_feb  \\\n0          0.0           0.0         1.0     0.0     0.0     0.0     0.0   \n1          0.0           0.0         1.0     0.0     0.0     0.0     0.0   \n2          0.0           0.0         1.0     0.0     0.0     0.0     0.0   \n3          0.0           0.0         1.0     0.0     0.0     0.0     0.0   \n4          0.0           0.0         1.0     0.0     0.0     0.0     0.0   \n5          0.0           0.0         1.0     0.0     0.0     0.0     0.0   \n6          0.0           0.0         1.0     0.0     0.0     0.0     0.0   \n7          0.0           0.0         1.0     0.0     0.0     0.0     0.0   \n8          0.0           0.0         1.0     0.0     0.0     0.0     0.0   \n9          0.0           0.0         1.0     0.0     0.0     0.0     0.0   \n\n   x1_jan  x1_jul  x1_jun  ...  x1_may  x1_nov  x1_oct  x1_sep  x2_failure  \\\n0     0.0     0.0     0.0  ...     1.0     0.0     0.0     0.0         0.0   \n1     0.0     0.0     0.0  ...     1.0     0.0     0.0     0.0         0.0   \n2     0.0     0.0     0.0  ...     1.0     0.0     0.0     0.0         0.0   \n3     0.0     0.0     0.0  ...     1.0     0.0     0.0     0.0         0.0   \n4     0.0     0.0     0.0  ...     1.0     0.0     0.0     0.0         0.0   \n5     0.0     0.0     0.0  ...     1.0     0.0     0.0     0.0         0.0   \n6     0.0     0.0     0.0  ...     1.0     0.0     0.0     0.0         0.0   \n7     0.0     0.0     0.0  ...     1.0     0.0     0.0     0.0         0.0   \n8     0.0     0.0     0.0  ...     1.0     0.0     0.0     0.0         0.0   \n9     0.0     0.0     0.0  ...     1.0     0.0     0.0     0.0         0.0   \n\n   x2_other  x2_success  x2_unknown  x3_no  x3_yes  \n0       0.0         0.0         1.0    1.0     0.0  \n1       0.0         0.0         1.0    1.0     0.0  \n2       0.0         0.0         1.0    1.0     0.0  \n3       0.0         0.0         1.0    1.0     0.0  \n4       0.0         0.0         1.0    1.0     0.0  \n5       0.0         0.0         1.0    1.0     0.0  \n6       0.0         0.0         1.0    1.0     0.0  \n7       0.0         0.0         1.0    1.0     0.0  \n8       0.0         0.0         1.0    1.0     0.0  \n9       0.0         0.0         1.0    1.0     0.0  \n\n[10 rows x 21 columns]",
      "text/html": "<div>\n<style scoped>\n    .dataframe tbody tr th:only-of-type {\n        vertical-align: middle;\n    }\n\n    .dataframe tbody tr th {\n        vertical-align: top;\n    }\n\n    .dataframe thead th {\n        text-align: right;\n    }\n</style>\n<table border=\"1\" class=\"dataframe\">\n  <thead>\n    <tr style=\"text-align: right;\">\n      <th></th>\n      <th>x0_cellular</th>\n      <th>x0_telephone</th>\n      <th>x0_unknown</th>\n      <th>x1_apr</th>\n      <th>x1_aug</th>\n      <th>x1_dec</th>\n      <th>x1_feb</th>\n      <th>x1_jan</th>\n      <th>x1_jul</th>\n      <th>x1_jun</th>\n      <th>...</th>\n      <th>x1_may</th>\n      <th>x1_nov</th>\n      <th>x1_oct</th>\n      <th>x1_sep</th>\n      <th>x2_failure</th>\n      <th>x2_other</th>\n      <th>x2_success</th>\n      <th>x2_unknown</th>\n      <th>x3_no</th>\n      <th>x3_yes</th>\n    </tr>\n  </thead>\n  <tbody>\n    <tr>\n      <th>0</th>\n      <td>0.0</td>\n      <td>0.0</td>\n      <td>1.0</td>\n      <td>0.0</td>\n      <td>0.0</td>\n      <td>0.0</td>\n      <td>0.0</td>\n      <td>0.0</td>\n      <td>0.0</td>\n      <td>0.0</td>\n      <td>...</td>\n      <td>1.0</td>\n      <td>0.0</td>\n      <td>0.0</td>\n      <td>0.0</td>\n      <td>0.0</td>\n      <td>0.0</td>\n      <td>0.0</td>\n      <td>1.0</td>\n      <td>1.0</td>\n      <td>0.0</td>\n    </tr>\n    <tr>\n      <th>1</th>\n      <td>0.0</td>\n      <td>0.0</td>\n      <td>1.0</td>\n      <td>0.0</td>\n      <td>0.0</td>\n      <td>0.0</td>\n      <td>0.0</td>\n      <td>0.0</td>\n      <td>0.0</td>\n      <td>0.0</td>\n      <td>...</td>\n      <td>1.0</td>\n      <td>0.0</td>\n      <td>0.0</td>\n      <td>0.0</td>\n      <td>0.0</td>\n      <td>0.0</td>\n      <td>0.0</td>\n      <td>1.0</td>\n      <td>1.0</td>\n      <td>0.0</td>\n    </tr>\n    <tr>\n      <th>2</th>\n      <td>0.0</td>\n      <td>0.0</td>\n      <td>1.0</td>\n      <td>0.0</td>\n      <td>0.0</td>\n      <td>0.0</td>\n      <td>0.0</td>\n      <td>0.0</td>\n      <td>0.0</td>\n      <td>0.0</td>\n      <td>...</td>\n      <td>1.0</td>\n      <td>0.0</td>\n      <td>0.0</td>\n      <td>0.0</td>\n      <td>0.0</td>\n      <td>0.0</td>\n      <td>0.0</td>\n      <td>1.0</td>\n      <td>1.0</td>\n      <td>0.0</td>\n    </tr>\n    <tr>\n      <th>3</th>\n      <td>0.0</td>\n      <td>0.0</td>\n      <td>1.0</td>\n      <td>0.0</td>\n      <td>0.0</td>\n      <td>0.0</td>\n      <td>0.0</td>\n      <td>0.0</td>\n      <td>0.0</td>\n      <td>0.0</td>\n      <td>...</td>\n      <td>1.0</td>\n      <td>0.0</td>\n      <td>0.0</td>\n      <td>0.0</td>\n      <td>0.0</td>\n      <td>0.0</td>\n      <td>0.0</td>\n      <td>1.0</td>\n      <td>1.0</td>\n      <td>0.0</td>\n    </tr>\n    <tr>\n      <th>4</th>\n      <td>0.0</td>\n      <td>0.0</td>\n      <td>1.0</td>\n      <td>0.0</td>\n      <td>0.0</td>\n      <td>0.0</td>\n      <td>0.0</td>\n      <td>0.0</td>\n      <td>0.0</td>\n      <td>0.0</td>\n      <td>...</td>\n      <td>1.0</td>\n      <td>0.0</td>\n      <td>0.0</td>\n      <td>0.0</td>\n      <td>0.0</td>\n      <td>0.0</td>\n      <td>0.0</td>\n      <td>1.0</td>\n      <td>1.0</td>\n      <td>0.0</td>\n    </tr>\n    <tr>\n      <th>5</th>\n      <td>0.0</td>\n      <td>0.0</td>\n      <td>1.0</td>\n      <td>0.0</td>\n      <td>0.0</td>\n      <td>0.0</td>\n      <td>0.0</td>\n      <td>0.0</td>\n      <td>0.0</td>\n      <td>0.0</td>\n      <td>...</td>\n      <td>1.0</td>\n      <td>0.0</td>\n      <td>0.0</td>\n      <td>0.0</td>\n      <td>0.0</td>\n      <td>0.0</td>\n      <td>0.0</td>\n      <td>1.0</td>\n      <td>1.0</td>\n      <td>0.0</td>\n    </tr>\n    <tr>\n      <th>6</th>\n      <td>0.0</td>\n      <td>0.0</td>\n      <td>1.0</td>\n      <td>0.0</td>\n      <td>0.0</td>\n      <td>0.0</td>\n      <td>0.0</td>\n      <td>0.0</td>\n      <td>0.0</td>\n      <td>0.0</td>\n      <td>...</td>\n      <td>1.0</td>\n      <td>0.0</td>\n      <td>0.0</td>\n      <td>0.0</td>\n      <td>0.0</td>\n      <td>0.0</td>\n      <td>0.0</td>\n      <td>1.0</td>\n      <td>1.0</td>\n      <td>0.0</td>\n    </tr>\n    <tr>\n      <th>7</th>\n      <td>0.0</td>\n      <td>0.0</td>\n      <td>1.0</td>\n      <td>0.0</td>\n      <td>0.0</td>\n      <td>0.0</td>\n      <td>0.0</td>\n      <td>0.0</td>\n      <td>0.0</td>\n      <td>0.0</td>\n      <td>...</td>\n      <td>1.0</td>\n      <td>0.0</td>\n      <td>0.0</td>\n      <td>0.0</td>\n      <td>0.0</td>\n      <td>0.0</td>\n      <td>0.0</td>\n      <td>1.0</td>\n      <td>1.0</td>\n      <td>0.0</td>\n    </tr>\n    <tr>\n      <th>8</th>\n      <td>0.0</td>\n      <td>0.0</td>\n      <td>1.0</td>\n      <td>0.0</td>\n      <td>0.0</td>\n      <td>0.0</td>\n      <td>0.0</td>\n      <td>0.0</td>\n      <td>0.0</td>\n      <td>0.0</td>\n      <td>...</td>\n      <td>1.0</td>\n      <td>0.0</td>\n      <td>0.0</td>\n      <td>0.0</td>\n      <td>0.0</td>\n      <td>0.0</td>\n      <td>0.0</td>\n      <td>1.0</td>\n      <td>1.0</td>\n      <td>0.0</td>\n    </tr>\n    <tr>\n      <th>9</th>\n      <td>0.0</td>\n      <td>0.0</td>\n      <td>1.0</td>\n      <td>0.0</td>\n      <td>0.0</td>\n      <td>0.0</td>\n      <td>0.0</td>\n      <td>0.0</td>\n      <td>0.0</td>\n      <td>0.0</td>\n      <td>...</td>\n      <td>1.0</td>\n      <td>0.0</td>\n      <td>0.0</td>\n      <td>0.0</td>\n      <td>0.0</td>\n      <td>0.0</td>\n      <td>0.0</td>\n      <td>1.0</td>\n      <td>1.0</td>\n      <td>0.0</td>\n    </tr>\n  </tbody>\n</table>\n<p>10 rows × 21 columns</p>\n</div>"
     },
     "execution_count": 12,
     "metadata": {},
     "output_type": "execute_result"
    }
   ],
   "source": [
    "df_encoded.head(10)"
   ],
   "metadata": {
    "collapsed": false,
    "pycharm": {
     "name": "#%%\n"
    }
   }
  },
  {
   "cell_type": "code",
   "execution_count": 13,
   "outputs": [],
   "source": [
    "# 创建一个OneHotEncoder对象\n",
    "encoder = OneHotEncoder()\n",
    "\n",
    "# 转换数据框为NumPy数组并进行特征编码\n",
    "df_encoded = encoder.fit_transform(complete_data_B.values)\n",
    "\n",
    "# 转换回数据框\n",
    "df_encoded = pd.DataFrame(df_encoded.toarray(), columns=encoder.get_feature_names_out())"
   ],
   "metadata": {
    "collapsed": false,
    "pycharm": {
     "name": "#%%\n"
    }
   }
  },
  {
   "cell_type": "code",
   "execution_count": 14,
   "outputs": [
    {
     "data": {
      "text/plain": "(45211, 47484)"
     },
     "execution_count": 14,
     "metadata": {},
     "output_type": "execute_result"
    }
   ],
   "source": [
    "df_encoded.shape"
   ],
   "metadata": {
    "collapsed": false,
    "pycharm": {
     "name": "#%%\n"
    }
   }
  },
  {
   "cell_type": "code",
   "execution_count": 15,
   "outputs": [
    {
     "data": {
      "text/plain": "   x0_cellular  x0_telephone  x0_unknown  x1_1  x1_2  x1_3  x1_4  x1_5  x1_6  \\\n0          0.0           0.0         1.0   0.0   0.0   0.0   0.0   1.0   0.0   \n1          0.0           0.0         1.0   0.0   0.0   0.0   0.0   1.0   0.0   \n2          0.0           0.0         1.0   0.0   0.0   0.0   0.0   1.0   0.0   \n3          0.0           0.0         1.0   0.0   0.0   0.0   0.0   1.0   0.0   \n4          0.0           0.0         1.0   0.0   0.0   0.0   0.0   1.0   0.0   \n5          0.0           0.0         1.0   0.0   0.0   0.0   0.0   1.0   0.0   \n6          0.0           0.0         1.0   0.0   0.0   0.0   0.0   1.0   0.0   \n7          0.0           0.0         1.0   0.0   0.0   0.0   0.0   1.0   0.0   \n8          0.0           0.0         1.0   0.0   0.0   0.0   0.0   1.0   0.0   \n9          0.0           0.0         1.0   0.0   0.0   0.0   0.0   1.0   0.0   \n\n   x1_7  ...  x9_45201  x9_45202  x9_45203  x9_45204  x9_45205  x9_45206  \\\n0   0.0  ...       0.0       0.0       0.0       0.0       0.0       0.0   \n1   0.0  ...       0.0       0.0       0.0       0.0       0.0       0.0   \n2   0.0  ...       0.0       0.0       0.0       0.0       0.0       0.0   \n3   0.0  ...       0.0       0.0       0.0       0.0       0.0       0.0   \n4   0.0  ...       0.0       0.0       0.0       0.0       0.0       0.0   \n5   0.0  ...       0.0       0.0       0.0       0.0       0.0       0.0   \n6   0.0  ...       0.0       0.0       0.0       0.0       0.0       0.0   \n7   0.0  ...       0.0       0.0       0.0       0.0       0.0       0.0   \n8   0.0  ...       0.0       0.0       0.0       0.0       0.0       0.0   \n9   0.0  ...       0.0       0.0       0.0       0.0       0.0       0.0   \n\n   x9_45207  x9_45208  x9_45209  x9_45210  \n0       0.0       0.0       0.0       0.0  \n1       0.0       0.0       0.0       0.0  \n2       0.0       0.0       0.0       0.0  \n3       0.0       0.0       0.0       0.0  \n4       0.0       0.0       0.0       0.0  \n5       0.0       0.0       0.0       0.0  \n6       0.0       0.0       0.0       0.0  \n7       0.0       0.0       0.0       0.0  \n8       0.0       0.0       0.0       0.0  \n9       0.0       0.0       0.0       0.0  \n\n[10 rows x 47484 columns]",
      "text/html": "<div>\n<style scoped>\n    .dataframe tbody tr th:only-of-type {\n        vertical-align: middle;\n    }\n\n    .dataframe tbody tr th {\n        vertical-align: top;\n    }\n\n    .dataframe thead th {\n        text-align: right;\n    }\n</style>\n<table border=\"1\" class=\"dataframe\">\n  <thead>\n    <tr style=\"text-align: right;\">\n      <th></th>\n      <th>x0_cellular</th>\n      <th>x0_telephone</th>\n      <th>x0_unknown</th>\n      <th>x1_1</th>\n      <th>x1_2</th>\n      <th>x1_3</th>\n      <th>x1_4</th>\n      <th>x1_5</th>\n      <th>x1_6</th>\n      <th>x1_7</th>\n      <th>...</th>\n      <th>x9_45201</th>\n      <th>x9_45202</th>\n      <th>x9_45203</th>\n      <th>x9_45204</th>\n      <th>x9_45205</th>\n      <th>x9_45206</th>\n      <th>x9_45207</th>\n      <th>x9_45208</th>\n      <th>x9_45209</th>\n      <th>x9_45210</th>\n    </tr>\n  </thead>\n  <tbody>\n    <tr>\n      <th>0</th>\n      <td>0.0</td>\n      <td>0.0</td>\n      <td>1.0</td>\n      <td>0.0</td>\n      <td>0.0</td>\n      <td>0.0</td>\n      <td>0.0</td>\n      <td>1.0</td>\n      <td>0.0</td>\n      <td>0.0</td>\n      <td>...</td>\n      <td>0.0</td>\n      <td>0.0</td>\n      <td>0.0</td>\n      <td>0.0</td>\n      <td>0.0</td>\n      <td>0.0</td>\n      <td>0.0</td>\n      <td>0.0</td>\n      <td>0.0</td>\n      <td>0.0</td>\n    </tr>\n    <tr>\n      <th>1</th>\n      <td>0.0</td>\n      <td>0.0</td>\n      <td>1.0</td>\n      <td>0.0</td>\n      <td>0.0</td>\n      <td>0.0</td>\n      <td>0.0</td>\n      <td>1.0</td>\n      <td>0.0</td>\n      <td>0.0</td>\n      <td>...</td>\n      <td>0.0</td>\n      <td>0.0</td>\n      <td>0.0</td>\n      <td>0.0</td>\n      <td>0.0</td>\n      <td>0.0</td>\n      <td>0.0</td>\n      <td>0.0</td>\n      <td>0.0</td>\n      <td>0.0</td>\n    </tr>\n    <tr>\n      <th>2</th>\n      <td>0.0</td>\n      <td>0.0</td>\n      <td>1.0</td>\n      <td>0.0</td>\n      <td>0.0</td>\n      <td>0.0</td>\n      <td>0.0</td>\n      <td>1.0</td>\n      <td>0.0</td>\n      <td>0.0</td>\n      <td>...</td>\n      <td>0.0</td>\n      <td>0.0</td>\n      <td>0.0</td>\n      <td>0.0</td>\n      <td>0.0</td>\n      <td>0.0</td>\n      <td>0.0</td>\n      <td>0.0</td>\n      <td>0.0</td>\n      <td>0.0</td>\n    </tr>\n    <tr>\n      <th>3</th>\n      <td>0.0</td>\n      <td>0.0</td>\n      <td>1.0</td>\n      <td>0.0</td>\n      <td>0.0</td>\n      <td>0.0</td>\n      <td>0.0</td>\n      <td>1.0</td>\n      <td>0.0</td>\n      <td>0.0</td>\n      <td>...</td>\n      <td>0.0</td>\n      <td>0.0</td>\n      <td>0.0</td>\n      <td>0.0</td>\n      <td>0.0</td>\n      <td>0.0</td>\n      <td>0.0</td>\n      <td>0.0</td>\n      <td>0.0</td>\n      <td>0.0</td>\n    </tr>\n    <tr>\n      <th>4</th>\n      <td>0.0</td>\n      <td>0.0</td>\n      <td>1.0</td>\n      <td>0.0</td>\n      <td>0.0</td>\n      <td>0.0</td>\n      <td>0.0</td>\n      <td>1.0</td>\n      <td>0.0</td>\n      <td>0.0</td>\n      <td>...</td>\n      <td>0.0</td>\n      <td>0.0</td>\n      <td>0.0</td>\n      <td>0.0</td>\n      <td>0.0</td>\n      <td>0.0</td>\n      <td>0.0</td>\n      <td>0.0</td>\n      <td>0.0</td>\n      <td>0.0</td>\n    </tr>\n    <tr>\n      <th>5</th>\n      <td>0.0</td>\n      <td>0.0</td>\n      <td>1.0</td>\n      <td>0.0</td>\n      <td>0.0</td>\n      <td>0.0</td>\n      <td>0.0</td>\n      <td>1.0</td>\n      <td>0.0</td>\n      <td>0.0</td>\n      <td>...</td>\n      <td>0.0</td>\n      <td>0.0</td>\n      <td>0.0</td>\n      <td>0.0</td>\n      <td>0.0</td>\n      <td>0.0</td>\n      <td>0.0</td>\n      <td>0.0</td>\n      <td>0.0</td>\n      <td>0.0</td>\n    </tr>\n    <tr>\n      <th>6</th>\n      <td>0.0</td>\n      <td>0.0</td>\n      <td>1.0</td>\n      <td>0.0</td>\n      <td>0.0</td>\n      <td>0.0</td>\n      <td>0.0</td>\n      <td>1.0</td>\n      <td>0.0</td>\n      <td>0.0</td>\n      <td>...</td>\n      <td>0.0</td>\n      <td>0.0</td>\n      <td>0.0</td>\n      <td>0.0</td>\n      <td>0.0</td>\n      <td>0.0</td>\n      <td>0.0</td>\n      <td>0.0</td>\n      <td>0.0</td>\n      <td>0.0</td>\n    </tr>\n    <tr>\n      <th>7</th>\n      <td>0.0</td>\n      <td>0.0</td>\n      <td>1.0</td>\n      <td>0.0</td>\n      <td>0.0</td>\n      <td>0.0</td>\n      <td>0.0</td>\n      <td>1.0</td>\n      <td>0.0</td>\n      <td>0.0</td>\n      <td>...</td>\n      <td>0.0</td>\n      <td>0.0</td>\n      <td>0.0</td>\n      <td>0.0</td>\n      <td>0.0</td>\n      <td>0.0</td>\n      <td>0.0</td>\n      <td>0.0</td>\n      <td>0.0</td>\n      <td>0.0</td>\n    </tr>\n    <tr>\n      <th>8</th>\n      <td>0.0</td>\n      <td>0.0</td>\n      <td>1.0</td>\n      <td>0.0</td>\n      <td>0.0</td>\n      <td>0.0</td>\n      <td>0.0</td>\n      <td>1.0</td>\n      <td>0.0</td>\n      <td>0.0</td>\n      <td>...</td>\n      <td>0.0</td>\n      <td>0.0</td>\n      <td>0.0</td>\n      <td>0.0</td>\n      <td>0.0</td>\n      <td>0.0</td>\n      <td>0.0</td>\n      <td>0.0</td>\n      <td>0.0</td>\n      <td>0.0</td>\n    </tr>\n    <tr>\n      <th>9</th>\n      <td>0.0</td>\n      <td>0.0</td>\n      <td>1.0</td>\n      <td>0.0</td>\n      <td>0.0</td>\n      <td>0.0</td>\n      <td>0.0</td>\n      <td>1.0</td>\n      <td>0.0</td>\n      <td>0.0</td>\n      <td>...</td>\n      <td>0.0</td>\n      <td>0.0</td>\n      <td>0.0</td>\n      <td>0.0</td>\n      <td>0.0</td>\n      <td>0.0</td>\n      <td>0.0</td>\n      <td>0.0</td>\n      <td>0.0</td>\n      <td>0.0</td>\n    </tr>\n  </tbody>\n</table>\n<p>10 rows × 47484 columns</p>\n</div>"
     },
     "execution_count": 15,
     "metadata": {},
     "output_type": "execute_result"
    }
   ],
   "source": [
    "df_encoded.head(10)"
   ],
   "metadata": {
    "collapsed": false,
    "pycharm": {
     "name": "#%%\n"
    }
   }
  },
  {
   "cell_type": "code",
   "execution_count": 16,
   "outputs": [
    {
     "name": "stdout",
     "output_type": "stream",
     "text": [
      "       contact  month  poutcome  y\n",
      "0            2      8         3  0\n",
      "1            2      8         3  0\n",
      "2            2      8         3  0\n",
      "3            2      8         3  0\n",
      "4            2      8         3  0\n",
      "...        ...    ...       ... ..\n",
      "45206        0      9         3  1\n",
      "45207        0      9         3  1\n",
      "45208        0      9         2  1\n",
      "45209        1      9         3  0\n",
      "45210        0      9         1  0\n",
      "\n",
      "[45211 rows x 4 columns]\n"
     ]
    }
   ],
   "source": [
    "# 分离出连续列和分类列\n",
    "df_continuous = complete_data_B.select_dtypes(include=['float64'])\n",
    "df_categorical = complete_data_B.select_dtypes(include=['object'])\n",
    "# 选择除了字符串列之外的所有列\n",
    "df_non_object = df.select_dtypes(exclude=['object'])\n",
    "\n",
    "print(df_non_object)\n",
    "# 对分类列进行标签编码\n",
    "encoder = LabelEncoder()\n",
    "for col in df_categorical.columns:\n",
    "    df_categorical[col] = encoder.fit_transform(df_categorical[col])\n",
    "\n",
    "# 将分类列和连续列合并\n",
    "df_final = pd.concat([df_continuous, df_categorical], axis=1)\n",
    "\n",
    "print(df_final)"
   ],
   "metadata": {
    "collapsed": false,
    "pycharm": {
     "name": "#%%\n"
    }
   }
  },
  {
   "cell_type": "code",
   "execution_count": 17,
   "outputs": [
    {
     "name": "stdout",
     "output_type": "stream",
     "text": [
      "Empty DataFrame\n",
      "Columns: []\n",
      "Index: [0, 1, 2, 3, 4, 5, 6, 7, 8, 9, 10, 11, 12, 13, 14, 15, 16, 17, 18, 19, 20, 21, 22, 23, 24, 25, 26, 27, 28, 29, 30, 31, 32, 33, 34, 35, 36, 37, 38, 39, 40, 41, 42, 43, 44, 45, 46, 47, 48, 49, 50, 51, 52, 53, 54, 55, 56, 57, 58, 59, 60, 61, 62, 63, 64, 65, 66, 67, 68, 69, 70, 71, 72, 73, 74, 75, 76, 77, 78, 79, 80, 81, 82, 83, 84, 85, 86, 87, 88, 89, 90, 91, 92, 93, 94, 95, 96, 97, 98, 99, ...]\n",
      "\n",
      "[45211 rows x 0 columns]\n"
     ]
    }
   ],
   "source": [
    "print(df_continuous)"
   ],
   "metadata": {
    "collapsed": false,
    "pycharm": {
     "name": "#%%\n"
    }
   }
  },
  {
   "cell_type": "code",
   "execution_count": 18,
   "outputs": [],
   "source": [
    "# 分离出连续列和分类列\n",
    "df_categorical = complete_data_B.select_dtypes(include=['object'])\n",
    "# 选择除了字符串列之外的所有列\n",
    "df_non_object = complete_data_B.select_dtypes(exclude=['object'])"
   ],
   "metadata": {
    "collapsed": false,
    "pycharm": {
     "name": "#%%\n"
    }
   }
  },
  {
   "cell_type": "code",
   "execution_count": 20,
   "outputs": [
    {
     "name": "stdout",
     "output_type": "stream",
     "text": [
      "       day  duration  campaign  pdays  previous  index\n",
      "0        5       261         1     -1         0      0\n",
      "1        5       151         1     -1         0      1\n",
      "2        5        76         1     -1         0      2\n",
      "3        5        92         1     -1         0      3\n",
      "4        5       198         1     -1         0      4\n",
      "...    ...       ...       ...    ...       ...    ...\n",
      "45206   17       977         3     -1         0  45206\n",
      "45207   17       456         2     -1         0  45207\n",
      "45208   17      1127         5    184         3  45208\n",
      "45209   17       508         4     -1         0  45209\n",
      "45210   17       361         2    188        11  45210\n",
      "\n",
      "[45211 rows x 6 columns]\n",
      "(45211, 6)\n"
     ]
    }
   ],
   "source": [
    "print(df_non_object)"
   ],
   "metadata": {
    "collapsed": false,
    "pycharm": {
     "name": "#%%\n"
    }
   }
  },
  {
   "cell_type": "code",
   "execution_count": 21,
   "outputs": [
    {
     "name": "stdout",
     "output_type": "stream",
     "text": [
      "         contact month poutcome    y\n",
      "0        unknown   may  unknown   no\n",
      "1        unknown   may  unknown   no\n",
      "2        unknown   may  unknown   no\n",
      "3        unknown   may  unknown   no\n",
      "4        unknown   may  unknown   no\n",
      "...          ...   ...      ...  ...\n",
      "45206   cellular   nov  unknown  yes\n",
      "45207   cellular   nov  unknown  yes\n",
      "45208   cellular   nov  success  yes\n",
      "45209  telephone   nov  unknown   no\n",
      "45210   cellular   nov    other   no\n",
      "\n",
      "[45211 rows x 4 columns]\n"
     ]
    }
   ],
   "source": [
    "print(df_categorical)"
   ],
   "metadata": {
    "collapsed": false,
    "pycharm": {
     "name": "#%%\n"
    }
   }
  },
  {
   "cell_type": "code",
   "execution_count": 22,
   "outputs": [
    {
     "data": {
      "text/plain": "(45211, 10)"
     },
     "execution_count": 22,
     "metadata": {},
     "output_type": "execute_result"
    }
   ],
   "source": [
    "complete_data_B.shape"
   ],
   "metadata": {
    "collapsed": false,
    "pycharm": {
     "name": "#%%\n"
    }
   }
  },
  {
   "cell_type": "code",
   "execution_count": 23,
   "outputs": [
    {
     "name": "stdout",
     "output_type": "stream",
     "text": [
      "       day  duration  campaign  pdays  previous  index  contact  month  \\\n",
      "0        5       261         1     -1         0      0        2      8   \n",
      "1        5       151         1     -1         0      1        2      8   \n",
      "2        5        76         1     -1         0      2        2      8   \n",
      "3        5        92         1     -1         0      3        2      8   \n",
      "4        5       198         1     -1         0      4        2      8   \n",
      "...    ...       ...       ...    ...       ...    ...      ...    ...   \n",
      "45206   17       977         3     -1         0  45206        0      9   \n",
      "45207   17       456         2     -1         0  45207        0      9   \n",
      "45208   17      1127         5    184         3  45208        0      9   \n",
      "45209   17       508         4     -1         0  45209        1      9   \n",
      "45210   17       361         2    188        11  45210        0      9   \n",
      "\n",
      "       poutcome  y  \n",
      "0             3  0  \n",
      "1             3  0  \n",
      "2             3  0  \n",
      "3             3  0  \n",
      "4             3  0  \n",
      "...         ... ..  \n",
      "45206         3  1  \n",
      "45207         3  1  \n",
      "45208         2  1  \n",
      "45209         3  0  \n",
      "45210         1  0  \n",
      "\n",
      "[45211 rows x 10 columns]\n"
     ]
    }
   ],
   "source": [
    "# 对分类列进行标签编码\n",
    "encoder = LabelEncoder()\n",
    "for col in df_categorical.columns:\n",
    "    df_categorical[col] = encoder.fit_transform(df_categorical[col])\n",
    "\n",
    "# 将分类列和连续列合并\n",
    "df_final = pd.concat([df_non_object, df_categorical], axis=1)\n",
    "\n",
    "print(df_final)"
   ],
   "metadata": {
    "collapsed": false,
    "pycharm": {
     "name": "#%%\n"
    }
   }
  },
  {
   "cell_type": "code",
   "execution_count": 28,
   "outputs": [
    {
     "data": {
      "text/plain": "   day  duration  campaign  pdays  previous  index  contact  month  poutcome  \\\n0    5       261         1     -1         0      0        2      8         3   \n1    5       151         1     -1         0      1        2      8         3   \n2    5        76         1     -1         0      2        2      8         3   \n3    5        92         1     -1         0      3        2      8         3   \n4    5       198         1     -1         0      4        2      8         3   \n5    5       139         1     -1         0      5        2      8         3   \n6    5       217         1     -1         0      6        2      8         3   \n7    5       380         1     -1         0      7        2      8         3   \n8    5        50         1     -1         0      8        2      8         3   \n9    5        55         1     -1         0      9        2      8         3   \n\n   y  \n0  0  \n1  0  \n2  0  \n3  0  \n4  0  \n5  0  \n6  0  \n7  0  \n8  0  \n9  0  ",
      "text/html": "<div>\n<style scoped>\n    .dataframe tbody tr th:only-of-type {\n        vertical-align: middle;\n    }\n\n    .dataframe tbody tr th {\n        vertical-align: top;\n    }\n\n    .dataframe thead th {\n        text-align: right;\n    }\n</style>\n<table border=\"1\" class=\"dataframe\">\n  <thead>\n    <tr style=\"text-align: right;\">\n      <th></th>\n      <th>day</th>\n      <th>duration</th>\n      <th>campaign</th>\n      <th>pdays</th>\n      <th>previous</th>\n      <th>index</th>\n      <th>contact</th>\n      <th>month</th>\n      <th>poutcome</th>\n      <th>y</th>\n    </tr>\n  </thead>\n  <tbody>\n    <tr>\n      <th>0</th>\n      <td>5</td>\n      <td>261</td>\n      <td>1</td>\n      <td>-1</td>\n      <td>0</td>\n      <td>0</td>\n      <td>2</td>\n      <td>8</td>\n      <td>3</td>\n      <td>0</td>\n    </tr>\n    <tr>\n      <th>1</th>\n      <td>5</td>\n      <td>151</td>\n      <td>1</td>\n      <td>-1</td>\n      <td>0</td>\n      <td>1</td>\n      <td>2</td>\n      <td>8</td>\n      <td>3</td>\n      <td>0</td>\n    </tr>\n    <tr>\n      <th>2</th>\n      <td>5</td>\n      <td>76</td>\n      <td>1</td>\n      <td>-1</td>\n      <td>0</td>\n      <td>2</td>\n      <td>2</td>\n      <td>8</td>\n      <td>3</td>\n      <td>0</td>\n    </tr>\n    <tr>\n      <th>3</th>\n      <td>5</td>\n      <td>92</td>\n      <td>1</td>\n      <td>-1</td>\n      <td>0</td>\n      <td>3</td>\n      <td>2</td>\n      <td>8</td>\n      <td>3</td>\n      <td>0</td>\n    </tr>\n    <tr>\n      <th>4</th>\n      <td>5</td>\n      <td>198</td>\n      <td>1</td>\n      <td>-1</td>\n      <td>0</td>\n      <td>4</td>\n      <td>2</td>\n      <td>8</td>\n      <td>3</td>\n      <td>0</td>\n    </tr>\n    <tr>\n      <th>5</th>\n      <td>5</td>\n      <td>139</td>\n      <td>1</td>\n      <td>-1</td>\n      <td>0</td>\n      <td>5</td>\n      <td>2</td>\n      <td>8</td>\n      <td>3</td>\n      <td>0</td>\n    </tr>\n    <tr>\n      <th>6</th>\n      <td>5</td>\n      <td>217</td>\n      <td>1</td>\n      <td>-1</td>\n      <td>0</td>\n      <td>6</td>\n      <td>2</td>\n      <td>8</td>\n      <td>3</td>\n      <td>0</td>\n    </tr>\n    <tr>\n      <th>7</th>\n      <td>5</td>\n      <td>380</td>\n      <td>1</td>\n      <td>-1</td>\n      <td>0</td>\n      <td>7</td>\n      <td>2</td>\n      <td>8</td>\n      <td>3</td>\n      <td>0</td>\n    </tr>\n    <tr>\n      <th>8</th>\n      <td>5</td>\n      <td>50</td>\n      <td>1</td>\n      <td>-1</td>\n      <td>0</td>\n      <td>8</td>\n      <td>2</td>\n      <td>8</td>\n      <td>3</td>\n      <td>0</td>\n    </tr>\n    <tr>\n      <th>9</th>\n      <td>5</td>\n      <td>55</td>\n      <td>1</td>\n      <td>-1</td>\n      <td>0</td>\n      <td>9</td>\n      <td>2</td>\n      <td>8</td>\n      <td>3</td>\n      <td>0</td>\n    </tr>\n  </tbody>\n</table>\n</div>"
     },
     "execution_count": 28,
     "metadata": {},
     "output_type": "execute_result"
    }
   ],
   "source": [
    "pd.DataFrame(df_final).head(10)"
   ],
   "metadata": {
    "collapsed": false,
    "pycharm": {
     "name": "#%%\n"
    }
   }
  },
  {
   "cell_type": "code",
   "execution_count": 29,
   "outputs": [
    {
     "data": {
      "text/plain": "    contact  day month  duration  campaign  pdays  previous poutcome   y  \\\n0   unknown    5   may       261         1     -1         0  unknown  no   \n1   unknown    5   may       151         1     -1         0  unknown  no   \n2   unknown    5   may        76         1     -1         0  unknown  no   \n3   unknown    5   may        92         1     -1         0  unknown  no   \n4   unknown    5   may       198         1     -1         0  unknown  no   \n5   unknown    5   may       139         1     -1         0  unknown  no   \n6   unknown    5   may       217         1     -1         0  unknown  no   \n7   unknown    5   may       380         1     -1         0  unknown  no   \n8   unknown    5   may        50         1     -1         0  unknown  no   \n9   unknown    5   may        55         1     -1         0  unknown  no   \n10  unknown    5   may       222         1     -1         0  unknown  no   \n11  unknown    5   may       137         1     -1         0  unknown  no   \n12  unknown    5   may       517         1     -1         0  unknown  no   \n13  unknown    5   may        71         1     -1         0  unknown  no   \n14  unknown    5   may       174         1     -1         0  unknown  no   \n15  unknown    5   may       353         1     -1         0  unknown  no   \n16  unknown    5   may        98         1     -1         0  unknown  no   \n17  unknown    5   may        38         1     -1         0  unknown  no   \n18  unknown    5   may       219         1     -1         0  unknown  no   \n19  unknown    5   may        54         1     -1         0  unknown  no   \n20  unknown    5   may       262         1     -1         0  unknown  no   \n21  unknown    5   may       164         1     -1         0  unknown  no   \n22  unknown    5   may       160         1     -1         0  unknown  no   \n23  unknown    5   may       342         1     -1         0  unknown  no   \n24  unknown    5   may       181         1     -1         0  unknown  no   \n25  unknown    5   may       172         1     -1         0  unknown  no   \n26  unknown    5   may       296         1     -1         0  unknown  no   \n27  unknown    5   may       127         1     -1         0  unknown  no   \n28  unknown    5   may       255         2     -1         0  unknown  no   \n29  unknown    5   may       348         1     -1         0  unknown  no   \n30  unknown    5   may       225         1     -1         0  unknown  no   \n31  unknown    5   may       230         1     -1         0  unknown  no   \n32  unknown    5   may       208         1     -1         0  unknown  no   \n33  unknown    5   may       226         1     -1         0  unknown  no   \n34  unknown    5   may       336         1     -1         0  unknown  no   \n35  unknown    5   may       242         1     -1         0  unknown  no   \n36  unknown    5   may       365         1     -1         0  unknown  no   \n37  unknown    5   may      1666         1     -1         0  unknown  no   \n38  unknown    5   may       577         1     -1         0  unknown  no   \n39  unknown    5   may       137         1     -1         0  unknown  no   \n40  unknown    5   may       160         1     -1         0  unknown  no   \n41  unknown    5   may       180         2     -1         0  unknown  no   \n42  unknown    5   may        22         1     -1         0  unknown  no   \n43  unknown    5   may      1492         1     -1         0  unknown  no   \n44  unknown    5   may       616         1     -1         0  unknown  no   \n45  unknown    5   may       242         1     -1         0  unknown  no   \n46  unknown    5   may       355         1     -1         0  unknown  no   \n47  unknown    5   may       225         2     -1         0  unknown  no   \n48  unknown    5   may       160         1     -1         0  unknown  no   \n49  unknown    5   may       363         1     -1         0  unknown  no   \n\n    index  \n0       0  \n1       1  \n2       2  \n3       3  \n4       4  \n5       5  \n6       6  \n7       7  \n8       8  \n9       9  \n10     10  \n11     11  \n12     12  \n13     13  \n14     14  \n15     15  \n16     16  \n17     17  \n18     18  \n19     19  \n20     20  \n21     21  \n22     22  \n23     23  \n24     24  \n25     25  \n26     26  \n27     27  \n28     28  \n29     29  \n30     30  \n31     31  \n32     32  \n33     33  \n34     34  \n35     35  \n36     36  \n37     37  \n38     38  \n39     39  \n40     40  \n41     41  \n42     42  \n43     43  \n44     44  \n45     45  \n46     46  \n47     47  \n48     48  \n49     49  ",
      "text/html": "<div>\n<style scoped>\n    .dataframe tbody tr th:only-of-type {\n        vertical-align: middle;\n    }\n\n    .dataframe tbody tr th {\n        vertical-align: top;\n    }\n\n    .dataframe thead th {\n        text-align: right;\n    }\n</style>\n<table border=\"1\" class=\"dataframe\">\n  <thead>\n    <tr style=\"text-align: right;\">\n      <th></th>\n      <th>contact</th>\n      <th>day</th>\n      <th>month</th>\n      <th>duration</th>\n      <th>campaign</th>\n      <th>pdays</th>\n      <th>previous</th>\n      <th>poutcome</th>\n      <th>y</th>\n      <th>index</th>\n    </tr>\n  </thead>\n  <tbody>\n    <tr>\n      <th>0</th>\n      <td>unknown</td>\n      <td>5</td>\n      <td>may</td>\n      <td>261</td>\n      <td>1</td>\n      <td>-1</td>\n      <td>0</td>\n      <td>unknown</td>\n      <td>no</td>\n      <td>0</td>\n    </tr>\n    <tr>\n      <th>1</th>\n      <td>unknown</td>\n      <td>5</td>\n      <td>may</td>\n      <td>151</td>\n      <td>1</td>\n      <td>-1</td>\n      <td>0</td>\n      <td>unknown</td>\n      <td>no</td>\n      <td>1</td>\n    </tr>\n    <tr>\n      <th>2</th>\n      <td>unknown</td>\n      <td>5</td>\n      <td>may</td>\n      <td>76</td>\n      <td>1</td>\n      <td>-1</td>\n      <td>0</td>\n      <td>unknown</td>\n      <td>no</td>\n      <td>2</td>\n    </tr>\n    <tr>\n      <th>3</th>\n      <td>unknown</td>\n      <td>5</td>\n      <td>may</td>\n      <td>92</td>\n      <td>1</td>\n      <td>-1</td>\n      <td>0</td>\n      <td>unknown</td>\n      <td>no</td>\n      <td>3</td>\n    </tr>\n    <tr>\n      <th>4</th>\n      <td>unknown</td>\n      <td>5</td>\n      <td>may</td>\n      <td>198</td>\n      <td>1</td>\n      <td>-1</td>\n      <td>0</td>\n      <td>unknown</td>\n      <td>no</td>\n      <td>4</td>\n    </tr>\n    <tr>\n      <th>5</th>\n      <td>unknown</td>\n      <td>5</td>\n      <td>may</td>\n      <td>139</td>\n      <td>1</td>\n      <td>-1</td>\n      <td>0</td>\n      <td>unknown</td>\n      <td>no</td>\n      <td>5</td>\n    </tr>\n    <tr>\n      <th>6</th>\n      <td>unknown</td>\n      <td>5</td>\n      <td>may</td>\n      <td>217</td>\n      <td>1</td>\n      <td>-1</td>\n      <td>0</td>\n      <td>unknown</td>\n      <td>no</td>\n      <td>6</td>\n    </tr>\n    <tr>\n      <th>7</th>\n      <td>unknown</td>\n      <td>5</td>\n      <td>may</td>\n      <td>380</td>\n      <td>1</td>\n      <td>-1</td>\n      <td>0</td>\n      <td>unknown</td>\n      <td>no</td>\n      <td>7</td>\n    </tr>\n    <tr>\n      <th>8</th>\n      <td>unknown</td>\n      <td>5</td>\n      <td>may</td>\n      <td>50</td>\n      <td>1</td>\n      <td>-1</td>\n      <td>0</td>\n      <td>unknown</td>\n      <td>no</td>\n      <td>8</td>\n    </tr>\n    <tr>\n      <th>9</th>\n      <td>unknown</td>\n      <td>5</td>\n      <td>may</td>\n      <td>55</td>\n      <td>1</td>\n      <td>-1</td>\n      <td>0</td>\n      <td>unknown</td>\n      <td>no</td>\n      <td>9</td>\n    </tr>\n    <tr>\n      <th>10</th>\n      <td>unknown</td>\n      <td>5</td>\n      <td>may</td>\n      <td>222</td>\n      <td>1</td>\n      <td>-1</td>\n      <td>0</td>\n      <td>unknown</td>\n      <td>no</td>\n      <td>10</td>\n    </tr>\n    <tr>\n      <th>11</th>\n      <td>unknown</td>\n      <td>5</td>\n      <td>may</td>\n      <td>137</td>\n      <td>1</td>\n      <td>-1</td>\n      <td>0</td>\n      <td>unknown</td>\n      <td>no</td>\n      <td>11</td>\n    </tr>\n    <tr>\n      <th>12</th>\n      <td>unknown</td>\n      <td>5</td>\n      <td>may</td>\n      <td>517</td>\n      <td>1</td>\n      <td>-1</td>\n      <td>0</td>\n      <td>unknown</td>\n      <td>no</td>\n      <td>12</td>\n    </tr>\n    <tr>\n      <th>13</th>\n      <td>unknown</td>\n      <td>5</td>\n      <td>may</td>\n      <td>71</td>\n      <td>1</td>\n      <td>-1</td>\n      <td>0</td>\n      <td>unknown</td>\n      <td>no</td>\n      <td>13</td>\n    </tr>\n    <tr>\n      <th>14</th>\n      <td>unknown</td>\n      <td>5</td>\n      <td>may</td>\n      <td>174</td>\n      <td>1</td>\n      <td>-1</td>\n      <td>0</td>\n      <td>unknown</td>\n      <td>no</td>\n      <td>14</td>\n    </tr>\n    <tr>\n      <th>15</th>\n      <td>unknown</td>\n      <td>5</td>\n      <td>may</td>\n      <td>353</td>\n      <td>1</td>\n      <td>-1</td>\n      <td>0</td>\n      <td>unknown</td>\n      <td>no</td>\n      <td>15</td>\n    </tr>\n    <tr>\n      <th>16</th>\n      <td>unknown</td>\n      <td>5</td>\n      <td>may</td>\n      <td>98</td>\n      <td>1</td>\n      <td>-1</td>\n      <td>0</td>\n      <td>unknown</td>\n      <td>no</td>\n      <td>16</td>\n    </tr>\n    <tr>\n      <th>17</th>\n      <td>unknown</td>\n      <td>5</td>\n      <td>may</td>\n      <td>38</td>\n      <td>1</td>\n      <td>-1</td>\n      <td>0</td>\n      <td>unknown</td>\n      <td>no</td>\n      <td>17</td>\n    </tr>\n    <tr>\n      <th>18</th>\n      <td>unknown</td>\n      <td>5</td>\n      <td>may</td>\n      <td>219</td>\n      <td>1</td>\n      <td>-1</td>\n      <td>0</td>\n      <td>unknown</td>\n      <td>no</td>\n      <td>18</td>\n    </tr>\n    <tr>\n      <th>19</th>\n      <td>unknown</td>\n      <td>5</td>\n      <td>may</td>\n      <td>54</td>\n      <td>1</td>\n      <td>-1</td>\n      <td>0</td>\n      <td>unknown</td>\n      <td>no</td>\n      <td>19</td>\n    </tr>\n    <tr>\n      <th>20</th>\n      <td>unknown</td>\n      <td>5</td>\n      <td>may</td>\n      <td>262</td>\n      <td>1</td>\n      <td>-1</td>\n      <td>0</td>\n      <td>unknown</td>\n      <td>no</td>\n      <td>20</td>\n    </tr>\n    <tr>\n      <th>21</th>\n      <td>unknown</td>\n      <td>5</td>\n      <td>may</td>\n      <td>164</td>\n      <td>1</td>\n      <td>-1</td>\n      <td>0</td>\n      <td>unknown</td>\n      <td>no</td>\n      <td>21</td>\n    </tr>\n    <tr>\n      <th>22</th>\n      <td>unknown</td>\n      <td>5</td>\n      <td>may</td>\n      <td>160</td>\n      <td>1</td>\n      <td>-1</td>\n      <td>0</td>\n      <td>unknown</td>\n      <td>no</td>\n      <td>22</td>\n    </tr>\n    <tr>\n      <th>23</th>\n      <td>unknown</td>\n      <td>5</td>\n      <td>may</td>\n      <td>342</td>\n      <td>1</td>\n      <td>-1</td>\n      <td>0</td>\n      <td>unknown</td>\n      <td>no</td>\n      <td>23</td>\n    </tr>\n    <tr>\n      <th>24</th>\n      <td>unknown</td>\n      <td>5</td>\n      <td>may</td>\n      <td>181</td>\n      <td>1</td>\n      <td>-1</td>\n      <td>0</td>\n      <td>unknown</td>\n      <td>no</td>\n      <td>24</td>\n    </tr>\n    <tr>\n      <th>25</th>\n      <td>unknown</td>\n      <td>5</td>\n      <td>may</td>\n      <td>172</td>\n      <td>1</td>\n      <td>-1</td>\n      <td>0</td>\n      <td>unknown</td>\n      <td>no</td>\n      <td>25</td>\n    </tr>\n    <tr>\n      <th>26</th>\n      <td>unknown</td>\n      <td>5</td>\n      <td>may</td>\n      <td>296</td>\n      <td>1</td>\n      <td>-1</td>\n      <td>0</td>\n      <td>unknown</td>\n      <td>no</td>\n      <td>26</td>\n    </tr>\n    <tr>\n      <th>27</th>\n      <td>unknown</td>\n      <td>5</td>\n      <td>may</td>\n      <td>127</td>\n      <td>1</td>\n      <td>-1</td>\n      <td>0</td>\n      <td>unknown</td>\n      <td>no</td>\n      <td>27</td>\n    </tr>\n    <tr>\n      <th>28</th>\n      <td>unknown</td>\n      <td>5</td>\n      <td>may</td>\n      <td>255</td>\n      <td>2</td>\n      <td>-1</td>\n      <td>0</td>\n      <td>unknown</td>\n      <td>no</td>\n      <td>28</td>\n    </tr>\n    <tr>\n      <th>29</th>\n      <td>unknown</td>\n      <td>5</td>\n      <td>may</td>\n      <td>348</td>\n      <td>1</td>\n      <td>-1</td>\n      <td>0</td>\n      <td>unknown</td>\n      <td>no</td>\n      <td>29</td>\n    </tr>\n    <tr>\n      <th>30</th>\n      <td>unknown</td>\n      <td>5</td>\n      <td>may</td>\n      <td>225</td>\n      <td>1</td>\n      <td>-1</td>\n      <td>0</td>\n      <td>unknown</td>\n      <td>no</td>\n      <td>30</td>\n    </tr>\n    <tr>\n      <th>31</th>\n      <td>unknown</td>\n      <td>5</td>\n      <td>may</td>\n      <td>230</td>\n      <td>1</td>\n      <td>-1</td>\n      <td>0</td>\n      <td>unknown</td>\n      <td>no</td>\n      <td>31</td>\n    </tr>\n    <tr>\n      <th>32</th>\n      <td>unknown</td>\n      <td>5</td>\n      <td>may</td>\n      <td>208</td>\n      <td>1</td>\n      <td>-1</td>\n      <td>0</td>\n      <td>unknown</td>\n      <td>no</td>\n      <td>32</td>\n    </tr>\n    <tr>\n      <th>33</th>\n      <td>unknown</td>\n      <td>5</td>\n      <td>may</td>\n      <td>226</td>\n      <td>1</td>\n      <td>-1</td>\n      <td>0</td>\n      <td>unknown</td>\n      <td>no</td>\n      <td>33</td>\n    </tr>\n    <tr>\n      <th>34</th>\n      <td>unknown</td>\n      <td>5</td>\n      <td>may</td>\n      <td>336</td>\n      <td>1</td>\n      <td>-1</td>\n      <td>0</td>\n      <td>unknown</td>\n      <td>no</td>\n      <td>34</td>\n    </tr>\n    <tr>\n      <th>35</th>\n      <td>unknown</td>\n      <td>5</td>\n      <td>may</td>\n      <td>242</td>\n      <td>1</td>\n      <td>-1</td>\n      <td>0</td>\n      <td>unknown</td>\n      <td>no</td>\n      <td>35</td>\n    </tr>\n    <tr>\n      <th>36</th>\n      <td>unknown</td>\n      <td>5</td>\n      <td>may</td>\n      <td>365</td>\n      <td>1</td>\n      <td>-1</td>\n      <td>0</td>\n      <td>unknown</td>\n      <td>no</td>\n      <td>36</td>\n    </tr>\n    <tr>\n      <th>37</th>\n      <td>unknown</td>\n      <td>5</td>\n      <td>may</td>\n      <td>1666</td>\n      <td>1</td>\n      <td>-1</td>\n      <td>0</td>\n      <td>unknown</td>\n      <td>no</td>\n      <td>37</td>\n    </tr>\n    <tr>\n      <th>38</th>\n      <td>unknown</td>\n      <td>5</td>\n      <td>may</td>\n      <td>577</td>\n      <td>1</td>\n      <td>-1</td>\n      <td>0</td>\n      <td>unknown</td>\n      <td>no</td>\n      <td>38</td>\n    </tr>\n    <tr>\n      <th>39</th>\n      <td>unknown</td>\n      <td>5</td>\n      <td>may</td>\n      <td>137</td>\n      <td>1</td>\n      <td>-1</td>\n      <td>0</td>\n      <td>unknown</td>\n      <td>no</td>\n      <td>39</td>\n    </tr>\n    <tr>\n      <th>40</th>\n      <td>unknown</td>\n      <td>5</td>\n      <td>may</td>\n      <td>160</td>\n      <td>1</td>\n      <td>-1</td>\n      <td>0</td>\n      <td>unknown</td>\n      <td>no</td>\n      <td>40</td>\n    </tr>\n    <tr>\n      <th>41</th>\n      <td>unknown</td>\n      <td>5</td>\n      <td>may</td>\n      <td>180</td>\n      <td>2</td>\n      <td>-1</td>\n      <td>0</td>\n      <td>unknown</td>\n      <td>no</td>\n      <td>41</td>\n    </tr>\n    <tr>\n      <th>42</th>\n      <td>unknown</td>\n      <td>5</td>\n      <td>may</td>\n      <td>22</td>\n      <td>1</td>\n      <td>-1</td>\n      <td>0</td>\n      <td>unknown</td>\n      <td>no</td>\n      <td>42</td>\n    </tr>\n    <tr>\n      <th>43</th>\n      <td>unknown</td>\n      <td>5</td>\n      <td>may</td>\n      <td>1492</td>\n      <td>1</td>\n      <td>-1</td>\n      <td>0</td>\n      <td>unknown</td>\n      <td>no</td>\n      <td>43</td>\n    </tr>\n    <tr>\n      <th>44</th>\n      <td>unknown</td>\n      <td>5</td>\n      <td>may</td>\n      <td>616</td>\n      <td>1</td>\n      <td>-1</td>\n      <td>0</td>\n      <td>unknown</td>\n      <td>no</td>\n      <td>44</td>\n    </tr>\n    <tr>\n      <th>45</th>\n      <td>unknown</td>\n      <td>5</td>\n      <td>may</td>\n      <td>242</td>\n      <td>1</td>\n      <td>-1</td>\n      <td>0</td>\n      <td>unknown</td>\n      <td>no</td>\n      <td>45</td>\n    </tr>\n    <tr>\n      <th>46</th>\n      <td>unknown</td>\n      <td>5</td>\n      <td>may</td>\n      <td>355</td>\n      <td>1</td>\n      <td>-1</td>\n      <td>0</td>\n      <td>unknown</td>\n      <td>no</td>\n      <td>46</td>\n    </tr>\n    <tr>\n      <th>47</th>\n      <td>unknown</td>\n      <td>5</td>\n      <td>may</td>\n      <td>225</td>\n      <td>2</td>\n      <td>-1</td>\n      <td>0</td>\n      <td>unknown</td>\n      <td>no</td>\n      <td>47</td>\n    </tr>\n    <tr>\n      <th>48</th>\n      <td>unknown</td>\n      <td>5</td>\n      <td>may</td>\n      <td>160</td>\n      <td>1</td>\n      <td>-1</td>\n      <td>0</td>\n      <td>unknown</td>\n      <td>no</td>\n      <td>48</td>\n    </tr>\n    <tr>\n      <th>49</th>\n      <td>unknown</td>\n      <td>5</td>\n      <td>may</td>\n      <td>363</td>\n      <td>1</td>\n      <td>-1</td>\n      <td>0</td>\n      <td>unknown</td>\n      <td>no</td>\n      <td>49</td>\n    </tr>\n  </tbody>\n</table>\n</div>"
     },
     "execution_count": 29,
     "metadata": {},
     "output_type": "execute_result"
    }
   ],
   "source": [
    "complete_data_B.head(50)"
   ],
   "metadata": {
    "collapsed": false,
    "pycharm": {
     "name": "#%%\n"
    }
   }
  },
  {
   "cell_type": "code",
   "execution_count": 32,
   "outputs": [
    {
     "data": {
      "text/plain": "      contact  day month  duration  campaign  pdays  previous poutcome   y  \\\n1000  unknown    7   may       164         1     -1         0  unknown  no   \n1001  unknown    7   may        93         1     -1         0  unknown  no   \n1002  unknown    7   may       912         2     -1         0  unknown  no   \n1003  unknown    7   may       179         2     -1         0  unknown  no   \n1004  unknown    7   may       485         1     -1         0  unknown  no   \n1005  unknown    7   may       206         2     -1         0  unknown  no   \n1006  unknown    7   may       311         1     -1         0  unknown  no   \n1007  unknown    7   may       690         2     -1         0  unknown  no   \n1008  unknown    7   may       362         1     -1         0  unknown  no   \n1009  unknown    7   may       274         1     -1         0  unknown  no   \n\n      index  \n1000   1000  \n1001   1001  \n1002   1002  \n1003   1003  \n1004   1004  \n1005   1005  \n1006   1006  \n1007   1007  \n1008   1008  \n1009   1009  ",
      "text/html": "<div>\n<style scoped>\n    .dataframe tbody tr th:only-of-type {\n        vertical-align: middle;\n    }\n\n    .dataframe tbody tr th {\n        vertical-align: top;\n    }\n\n    .dataframe thead th {\n        text-align: right;\n    }\n</style>\n<table border=\"1\" class=\"dataframe\">\n  <thead>\n    <tr style=\"text-align: right;\">\n      <th></th>\n      <th>contact</th>\n      <th>day</th>\n      <th>month</th>\n      <th>duration</th>\n      <th>campaign</th>\n      <th>pdays</th>\n      <th>previous</th>\n      <th>poutcome</th>\n      <th>y</th>\n      <th>index</th>\n    </tr>\n  </thead>\n  <tbody>\n    <tr>\n      <th>1000</th>\n      <td>unknown</td>\n      <td>7</td>\n      <td>may</td>\n      <td>164</td>\n      <td>1</td>\n      <td>-1</td>\n      <td>0</td>\n      <td>unknown</td>\n      <td>no</td>\n      <td>1000</td>\n    </tr>\n    <tr>\n      <th>1001</th>\n      <td>unknown</td>\n      <td>7</td>\n      <td>may</td>\n      <td>93</td>\n      <td>1</td>\n      <td>-1</td>\n      <td>0</td>\n      <td>unknown</td>\n      <td>no</td>\n      <td>1001</td>\n    </tr>\n    <tr>\n      <th>1002</th>\n      <td>unknown</td>\n      <td>7</td>\n      <td>may</td>\n      <td>912</td>\n      <td>2</td>\n      <td>-1</td>\n      <td>0</td>\n      <td>unknown</td>\n      <td>no</td>\n      <td>1002</td>\n    </tr>\n    <tr>\n      <th>1003</th>\n      <td>unknown</td>\n      <td>7</td>\n      <td>may</td>\n      <td>179</td>\n      <td>2</td>\n      <td>-1</td>\n      <td>0</td>\n      <td>unknown</td>\n      <td>no</td>\n      <td>1003</td>\n    </tr>\n    <tr>\n      <th>1004</th>\n      <td>unknown</td>\n      <td>7</td>\n      <td>may</td>\n      <td>485</td>\n      <td>1</td>\n      <td>-1</td>\n      <td>0</td>\n      <td>unknown</td>\n      <td>no</td>\n      <td>1004</td>\n    </tr>\n    <tr>\n      <th>1005</th>\n      <td>unknown</td>\n      <td>7</td>\n      <td>may</td>\n      <td>206</td>\n      <td>2</td>\n      <td>-1</td>\n      <td>0</td>\n      <td>unknown</td>\n      <td>no</td>\n      <td>1005</td>\n    </tr>\n    <tr>\n      <th>1006</th>\n      <td>unknown</td>\n      <td>7</td>\n      <td>may</td>\n      <td>311</td>\n      <td>1</td>\n      <td>-1</td>\n      <td>0</td>\n      <td>unknown</td>\n      <td>no</td>\n      <td>1006</td>\n    </tr>\n    <tr>\n      <th>1007</th>\n      <td>unknown</td>\n      <td>7</td>\n      <td>may</td>\n      <td>690</td>\n      <td>2</td>\n      <td>-1</td>\n      <td>0</td>\n      <td>unknown</td>\n      <td>no</td>\n      <td>1007</td>\n    </tr>\n    <tr>\n      <th>1008</th>\n      <td>unknown</td>\n      <td>7</td>\n      <td>may</td>\n      <td>362</td>\n      <td>1</td>\n      <td>-1</td>\n      <td>0</td>\n      <td>unknown</td>\n      <td>no</td>\n      <td>1008</td>\n    </tr>\n    <tr>\n      <th>1009</th>\n      <td>unknown</td>\n      <td>7</td>\n      <td>may</td>\n      <td>274</td>\n      <td>1</td>\n      <td>-1</td>\n      <td>0</td>\n      <td>unknown</td>\n      <td>no</td>\n      <td>1009</td>\n    </tr>\n  </tbody>\n</table>\n</div>"
     },
     "execution_count": 32,
     "metadata": {},
     "output_type": "execute_result"
    }
   ],
   "source": [
    "complete_data_B[1000:1010]"
   ],
   "metadata": {
    "collapsed": false,
    "pycharm": {
     "name": "#%%\n"
    }
   }
  },
  {
   "cell_type": "code",
   "execution_count": 33,
   "outputs": [
    {
     "data": {
      "text/plain": "       day  duration  campaign  pdays  previous  index  contact  month  \\\n45201   17       226         1    184         4  45201        0      9   \n45202   17       224         1     -1         0  45202        0      9   \n45203   17       266         1     -1         0  45203        0      9   \n45204   17       300         1     40         8  45204        0      9   \n45205   17       386         2     -1         0  45205        0      9   \n45206   17       977         3     -1         0  45206        0      9   \n45207   17       456         2     -1         0  45207        0      9   \n45208   17      1127         5    184         3  45208        0      9   \n45209   17       508         4     -1         0  45209        1      9   \n45210   17       361         2    188        11  45210        0      9   \n\n       poutcome  y  \n45201         2  1  \n45202         3  1  \n45203         3  1  \n45204         0  1  \n45205         3  1  \n45206         3  1  \n45207         3  1  \n45208         2  1  \n45209         3  0  \n45210         1  0  ",
      "text/html": "<div>\n<style scoped>\n    .dataframe tbody tr th:only-of-type {\n        vertical-align: middle;\n    }\n\n    .dataframe tbody tr th {\n        vertical-align: top;\n    }\n\n    .dataframe thead th {\n        text-align: right;\n    }\n</style>\n<table border=\"1\" class=\"dataframe\">\n  <thead>\n    <tr style=\"text-align: right;\">\n      <th></th>\n      <th>day</th>\n      <th>duration</th>\n      <th>campaign</th>\n      <th>pdays</th>\n      <th>previous</th>\n      <th>index</th>\n      <th>contact</th>\n      <th>month</th>\n      <th>poutcome</th>\n      <th>y</th>\n    </tr>\n  </thead>\n  <tbody>\n    <tr>\n      <th>45201</th>\n      <td>17</td>\n      <td>226</td>\n      <td>1</td>\n      <td>184</td>\n      <td>4</td>\n      <td>45201</td>\n      <td>0</td>\n      <td>9</td>\n      <td>2</td>\n      <td>1</td>\n    </tr>\n    <tr>\n      <th>45202</th>\n      <td>17</td>\n      <td>224</td>\n      <td>1</td>\n      <td>-1</td>\n      <td>0</td>\n      <td>45202</td>\n      <td>0</td>\n      <td>9</td>\n      <td>3</td>\n      <td>1</td>\n    </tr>\n    <tr>\n      <th>45203</th>\n      <td>17</td>\n      <td>266</td>\n      <td>1</td>\n      <td>-1</td>\n      <td>0</td>\n      <td>45203</td>\n      <td>0</td>\n      <td>9</td>\n      <td>3</td>\n      <td>1</td>\n    </tr>\n    <tr>\n      <th>45204</th>\n      <td>17</td>\n      <td>300</td>\n      <td>1</td>\n      <td>40</td>\n      <td>8</td>\n      <td>45204</td>\n      <td>0</td>\n      <td>9</td>\n      <td>0</td>\n      <td>1</td>\n    </tr>\n    <tr>\n      <th>45205</th>\n      <td>17</td>\n      <td>386</td>\n      <td>2</td>\n      <td>-1</td>\n      <td>0</td>\n      <td>45205</td>\n      <td>0</td>\n      <td>9</td>\n      <td>3</td>\n      <td>1</td>\n    </tr>\n    <tr>\n      <th>45206</th>\n      <td>17</td>\n      <td>977</td>\n      <td>3</td>\n      <td>-1</td>\n      <td>0</td>\n      <td>45206</td>\n      <td>0</td>\n      <td>9</td>\n      <td>3</td>\n      <td>1</td>\n    </tr>\n    <tr>\n      <th>45207</th>\n      <td>17</td>\n      <td>456</td>\n      <td>2</td>\n      <td>-1</td>\n      <td>0</td>\n      <td>45207</td>\n      <td>0</td>\n      <td>9</td>\n      <td>3</td>\n      <td>1</td>\n    </tr>\n    <tr>\n      <th>45208</th>\n      <td>17</td>\n      <td>1127</td>\n      <td>5</td>\n      <td>184</td>\n      <td>3</td>\n      <td>45208</td>\n      <td>0</td>\n      <td>9</td>\n      <td>2</td>\n      <td>1</td>\n    </tr>\n    <tr>\n      <th>45209</th>\n      <td>17</td>\n      <td>508</td>\n      <td>4</td>\n      <td>-1</td>\n      <td>0</td>\n      <td>45209</td>\n      <td>1</td>\n      <td>9</td>\n      <td>3</td>\n      <td>0</td>\n    </tr>\n    <tr>\n      <th>45210</th>\n      <td>17</td>\n      <td>361</td>\n      <td>2</td>\n      <td>188</td>\n      <td>11</td>\n      <td>45210</td>\n      <td>0</td>\n      <td>9</td>\n      <td>1</td>\n      <td>0</td>\n    </tr>\n  </tbody>\n</table>\n</div>"
     },
     "execution_count": 33,
     "metadata": {},
     "output_type": "execute_result"
    }
   ],
   "source": [
    "pd.DataFrame(df_final).tail(10)"
   ],
   "metadata": {
    "collapsed": false,
    "pycharm": {
     "name": "#%%\n"
    }
   }
  },
  {
   "cell_type": "code",
   "execution_count": 34,
   "outputs": [
    {
     "data": {
      "text/plain": "         contact  day month  duration  campaign  pdays  previous poutcome  \\\n45201   cellular   17   nov       226         1    184         4  success   \n45202   cellular   17   nov       224         1     -1         0  unknown   \n45203   cellular   17   nov       266         1     -1         0  unknown   \n45204   cellular   17   nov       300         1     40         8  failure   \n45205   cellular   17   nov       386         2     -1         0  unknown   \n45206   cellular   17   nov       977         3     -1         0  unknown   \n45207   cellular   17   nov       456         2     -1         0  unknown   \n45208   cellular   17   nov      1127         5    184         3  success   \n45209  telephone   17   nov       508         4     -1         0  unknown   \n45210   cellular   17   nov       361         2    188        11    other   \n\n         y  index  \n45201  yes  45201  \n45202  yes  45202  \n45203  yes  45203  \n45204  yes  45204  \n45205  yes  45205  \n45206  yes  45206  \n45207  yes  45207  \n45208  yes  45208  \n45209   no  45209  \n45210   no  45210  ",
      "text/html": "<div>\n<style scoped>\n    .dataframe tbody tr th:only-of-type {\n        vertical-align: middle;\n    }\n\n    .dataframe tbody tr th {\n        vertical-align: top;\n    }\n\n    .dataframe thead th {\n        text-align: right;\n    }\n</style>\n<table border=\"1\" class=\"dataframe\">\n  <thead>\n    <tr style=\"text-align: right;\">\n      <th></th>\n      <th>contact</th>\n      <th>day</th>\n      <th>month</th>\n      <th>duration</th>\n      <th>campaign</th>\n      <th>pdays</th>\n      <th>previous</th>\n      <th>poutcome</th>\n      <th>y</th>\n      <th>index</th>\n    </tr>\n  </thead>\n  <tbody>\n    <tr>\n      <th>45201</th>\n      <td>cellular</td>\n      <td>17</td>\n      <td>nov</td>\n      <td>226</td>\n      <td>1</td>\n      <td>184</td>\n      <td>4</td>\n      <td>success</td>\n      <td>yes</td>\n      <td>45201</td>\n    </tr>\n    <tr>\n      <th>45202</th>\n      <td>cellular</td>\n      <td>17</td>\n      <td>nov</td>\n      <td>224</td>\n      <td>1</td>\n      <td>-1</td>\n      <td>0</td>\n      <td>unknown</td>\n      <td>yes</td>\n      <td>45202</td>\n    </tr>\n    <tr>\n      <th>45203</th>\n      <td>cellular</td>\n      <td>17</td>\n      <td>nov</td>\n      <td>266</td>\n      <td>1</td>\n      <td>-1</td>\n      <td>0</td>\n      <td>unknown</td>\n      <td>yes</td>\n      <td>45203</td>\n    </tr>\n    <tr>\n      <th>45204</th>\n      <td>cellular</td>\n      <td>17</td>\n      <td>nov</td>\n      <td>300</td>\n      <td>1</td>\n      <td>40</td>\n      <td>8</td>\n      <td>failure</td>\n      <td>yes</td>\n      <td>45204</td>\n    </tr>\n    <tr>\n      <th>45205</th>\n      <td>cellular</td>\n      <td>17</td>\n      <td>nov</td>\n      <td>386</td>\n      <td>2</td>\n      <td>-1</td>\n      <td>0</td>\n      <td>unknown</td>\n      <td>yes</td>\n      <td>45205</td>\n    </tr>\n    <tr>\n      <th>45206</th>\n      <td>cellular</td>\n      <td>17</td>\n      <td>nov</td>\n      <td>977</td>\n      <td>3</td>\n      <td>-1</td>\n      <td>0</td>\n      <td>unknown</td>\n      <td>yes</td>\n      <td>45206</td>\n    </tr>\n    <tr>\n      <th>45207</th>\n      <td>cellular</td>\n      <td>17</td>\n      <td>nov</td>\n      <td>456</td>\n      <td>2</td>\n      <td>-1</td>\n      <td>0</td>\n      <td>unknown</td>\n      <td>yes</td>\n      <td>45207</td>\n    </tr>\n    <tr>\n      <th>45208</th>\n      <td>cellular</td>\n      <td>17</td>\n      <td>nov</td>\n      <td>1127</td>\n      <td>5</td>\n      <td>184</td>\n      <td>3</td>\n      <td>success</td>\n      <td>yes</td>\n      <td>45208</td>\n    </tr>\n    <tr>\n      <th>45209</th>\n      <td>telephone</td>\n      <td>17</td>\n      <td>nov</td>\n      <td>508</td>\n      <td>4</td>\n      <td>-1</td>\n      <td>0</td>\n      <td>unknown</td>\n      <td>no</td>\n      <td>45209</td>\n    </tr>\n    <tr>\n      <th>45210</th>\n      <td>cellular</td>\n      <td>17</td>\n      <td>nov</td>\n      <td>361</td>\n      <td>2</td>\n      <td>188</td>\n      <td>11</td>\n      <td>other</td>\n      <td>no</td>\n      <td>45210</td>\n    </tr>\n  </tbody>\n</table>\n</div>"
     },
     "execution_count": 34,
     "metadata": {},
     "output_type": "execute_result"
    }
   ],
   "source": [
    "complete_data_B.tail(10)"
   ],
   "metadata": {
    "collapsed": false,
    "pycharm": {
     "name": "#%%\n"
    }
   }
  },
  {
   "cell_type": "code",
   "execution_count": 37,
   "outputs": [
    {
     "name": "stdout",
     "output_type": "stream",
     "text": [
      "       day  duration  campaign  pdays  previous  index  x0_cellular  \\\n",
      "0        5       261         1     -1         0      0          0.0   \n",
      "1        5       151         1     -1         0      1          0.0   \n",
      "2        5        76         1     -1         0      2          0.0   \n",
      "3        5        92         1     -1         0      3          0.0   \n",
      "4        5       198         1     -1         0      4          0.0   \n",
      "...    ...       ...       ...    ...       ...    ...          ...   \n",
      "45206   17       977         3     -1         0  45206          1.0   \n",
      "45207   17       456         2     -1         0  45207          1.0   \n",
      "45208   17      1127         5    184         3  45208          1.0   \n",
      "45209   17       508         4     -1         0  45209          0.0   \n",
      "45210   17       361         2    188        11  45210          1.0   \n",
      "\n",
      "       x0_telephone  x0_unknown  x1_apr  ...  x1_may  x1_nov  x1_oct  x1_sep  \\\n",
      "0               0.0         1.0     0.0  ...     1.0     0.0     0.0     0.0   \n",
      "1               0.0         1.0     0.0  ...     1.0     0.0     0.0     0.0   \n",
      "2               0.0         1.0     0.0  ...     1.0     0.0     0.0     0.0   \n",
      "3               0.0         1.0     0.0  ...     1.0     0.0     0.0     0.0   \n",
      "4               0.0         1.0     0.0  ...     1.0     0.0     0.0     0.0   \n",
      "...             ...         ...     ...  ...     ...     ...     ...     ...   \n",
      "45206           0.0         0.0     0.0  ...     0.0     1.0     0.0     0.0   \n",
      "45207           0.0         0.0     0.0  ...     0.0     1.0     0.0     0.0   \n",
      "45208           0.0         0.0     0.0  ...     0.0     1.0     0.0     0.0   \n",
      "45209           1.0         0.0     0.0  ...     0.0     1.0     0.0     0.0   \n",
      "45210           0.0         0.0     0.0  ...     0.0     1.0     0.0     0.0   \n",
      "\n",
      "       x2_failure  x2_other  x2_success  x2_unknown  x3_no  x3_yes  \n",
      "0             0.0       0.0         0.0         1.0    1.0     0.0  \n",
      "1             0.0       0.0         0.0         1.0    1.0     0.0  \n",
      "2             0.0       0.0         0.0         1.0    1.0     0.0  \n",
      "3             0.0       0.0         0.0         1.0    1.0     0.0  \n",
      "4             0.0       0.0         0.0         1.0    1.0     0.0  \n",
      "...           ...       ...         ...         ...    ...     ...  \n",
      "45206         0.0       0.0         0.0         1.0    0.0     1.0  \n",
      "45207         0.0       0.0         0.0         1.0    0.0     1.0  \n",
      "45208         0.0       0.0         1.0         0.0    0.0     1.0  \n",
      "45209         0.0       0.0         0.0         1.0    1.0     0.0  \n",
      "45210         0.0       1.0         0.0         0.0    1.0     0.0  \n",
      "\n",
      "[45211 rows x 27 columns]\n"
     ]
    }
   ],
   "source": [
    "\n",
    "\n",
    "\n",
    "\n",
    "# 转换回数据框\n",
    "# df_encoded = pd.DataFrame(df_encoded.toarray(), columns=encoder.get_feature_names_out())\n",
    "# 分离出连续列和分类列\n",
    "df_categorical = complete_data_B.select_dtypes(include=['object'])\n",
    "# 选择除了字符串列之外的所有列\n",
    "df_non_object = complete_data_B.select_dtypes(exclude=['object'])\n",
    "\n",
    "# 创建一个OneHotEncoder对象\n",
    "encoder = OneHotEncoder()\n",
    "# 转换数据框为NumPy数组并进行特征编码\n",
    "df_encoded = encoder.fit_transform(df_categorical.values)\n",
    "# 转换回数据框\n",
    "df_encoded = pd.DataFrame(df_encoded.toarray(), columns=encoder.get_feature_names_out())\n",
    "# 将分类列和连续列合并\n",
    "df_final = pd.concat([df_non_object, df_encoded], axis=1)\n",
    "\n",
    "print(df_final)"
   ],
   "metadata": {
    "collapsed": false,
    "pycharm": {
     "name": "#%%\n"
    }
   }
  },
  {
   "cell_type": "code",
   "execution_count": 38,
   "outputs": [
    {
     "data": {
      "text/plain": "       day  duration  campaign  pdays  previous  index  x0_cellular  \\\n0        5       261         1     -1         0      0          0.0   \n1        5       151         1     -1         0      1          0.0   \n2        5        76         1     -1         0      2          0.0   \n3        5        92         1     -1         0      3          0.0   \n4        5       198         1     -1         0      4          0.0   \n...    ...       ...       ...    ...       ...    ...          ...   \n45206   17       977         3     -1         0  45206          1.0   \n45207   17       456         2     -1         0  45207          1.0   \n45208   17      1127         5    184         3  45208          1.0   \n45209   17       508         4     -1         0  45209          0.0   \n45210   17       361         2    188        11  45210          1.0   \n\n       x0_telephone  x0_unknown  x1_apr  ...  x1_may  x1_nov  x1_oct  x1_sep  \\\n0               0.0         1.0     0.0  ...     1.0     0.0     0.0     0.0   \n1               0.0         1.0     0.0  ...     1.0     0.0     0.0     0.0   \n2               0.0         1.0     0.0  ...     1.0     0.0     0.0     0.0   \n3               0.0         1.0     0.0  ...     1.0     0.0     0.0     0.0   \n4               0.0         1.0     0.0  ...     1.0     0.0     0.0     0.0   \n...             ...         ...     ...  ...     ...     ...     ...     ...   \n45206           0.0         0.0     0.0  ...     0.0     1.0     0.0     0.0   \n45207           0.0         0.0     0.0  ...     0.0     1.0     0.0     0.0   \n45208           0.0         0.0     0.0  ...     0.0     1.0     0.0     0.0   \n45209           1.0         0.0     0.0  ...     0.0     1.0     0.0     0.0   \n45210           0.0         0.0     0.0  ...     0.0     1.0     0.0     0.0   \n\n       x2_failure  x2_other  x2_success  x2_unknown  x3_no  x3_yes  \n0             0.0       0.0         0.0         1.0    1.0     0.0  \n1             0.0       0.0         0.0         1.0    1.0     0.0  \n2             0.0       0.0         0.0         1.0    1.0     0.0  \n3             0.0       0.0         0.0         1.0    1.0     0.0  \n4             0.0       0.0         0.0         1.0    1.0     0.0  \n...           ...       ...         ...         ...    ...     ...  \n45206         0.0       0.0         0.0         1.0    0.0     1.0  \n45207         0.0       0.0         0.0         1.0    0.0     1.0  \n45208         0.0       0.0         1.0         0.0    0.0     1.0  \n45209         0.0       0.0         0.0         1.0    1.0     0.0  \n45210         0.0       1.0         0.0         0.0    1.0     0.0  \n\n[45211 rows x 27 columns]",
      "text/html": "<div>\n<style scoped>\n    .dataframe tbody tr th:only-of-type {\n        vertical-align: middle;\n    }\n\n    .dataframe tbody tr th {\n        vertical-align: top;\n    }\n\n    .dataframe thead th {\n        text-align: right;\n    }\n</style>\n<table border=\"1\" class=\"dataframe\">\n  <thead>\n    <tr style=\"text-align: right;\">\n      <th></th>\n      <th>day</th>\n      <th>duration</th>\n      <th>campaign</th>\n      <th>pdays</th>\n      <th>previous</th>\n      <th>index</th>\n      <th>x0_cellular</th>\n      <th>x0_telephone</th>\n      <th>x0_unknown</th>\n      <th>x1_apr</th>\n      <th>...</th>\n      <th>x1_may</th>\n      <th>x1_nov</th>\n      <th>x1_oct</th>\n      <th>x1_sep</th>\n      <th>x2_failure</th>\n      <th>x2_other</th>\n      <th>x2_success</th>\n      <th>x2_unknown</th>\n      <th>x3_no</th>\n      <th>x3_yes</th>\n    </tr>\n  </thead>\n  <tbody>\n    <tr>\n      <th>0</th>\n      <td>5</td>\n      <td>261</td>\n      <td>1</td>\n      <td>-1</td>\n      <td>0</td>\n      <td>0</td>\n      <td>0.0</td>\n      <td>0.0</td>\n      <td>1.0</td>\n      <td>0.0</td>\n      <td>...</td>\n      <td>1.0</td>\n      <td>0.0</td>\n      <td>0.0</td>\n      <td>0.0</td>\n      <td>0.0</td>\n      <td>0.0</td>\n      <td>0.0</td>\n      <td>1.0</td>\n      <td>1.0</td>\n      <td>0.0</td>\n    </tr>\n    <tr>\n      <th>1</th>\n      <td>5</td>\n      <td>151</td>\n      <td>1</td>\n      <td>-1</td>\n      <td>0</td>\n      <td>1</td>\n      <td>0.0</td>\n      <td>0.0</td>\n      <td>1.0</td>\n      <td>0.0</td>\n      <td>...</td>\n      <td>1.0</td>\n      <td>0.0</td>\n      <td>0.0</td>\n      <td>0.0</td>\n      <td>0.0</td>\n      <td>0.0</td>\n      <td>0.0</td>\n      <td>1.0</td>\n      <td>1.0</td>\n      <td>0.0</td>\n    </tr>\n    <tr>\n      <th>2</th>\n      <td>5</td>\n      <td>76</td>\n      <td>1</td>\n      <td>-1</td>\n      <td>0</td>\n      <td>2</td>\n      <td>0.0</td>\n      <td>0.0</td>\n      <td>1.0</td>\n      <td>0.0</td>\n      <td>...</td>\n      <td>1.0</td>\n      <td>0.0</td>\n      <td>0.0</td>\n      <td>0.0</td>\n      <td>0.0</td>\n      <td>0.0</td>\n      <td>0.0</td>\n      <td>1.0</td>\n      <td>1.0</td>\n      <td>0.0</td>\n    </tr>\n    <tr>\n      <th>3</th>\n      <td>5</td>\n      <td>92</td>\n      <td>1</td>\n      <td>-1</td>\n      <td>0</td>\n      <td>3</td>\n      <td>0.0</td>\n      <td>0.0</td>\n      <td>1.0</td>\n      <td>0.0</td>\n      <td>...</td>\n      <td>1.0</td>\n      <td>0.0</td>\n      <td>0.0</td>\n      <td>0.0</td>\n      <td>0.0</td>\n      <td>0.0</td>\n      <td>0.0</td>\n      <td>1.0</td>\n      <td>1.0</td>\n      <td>0.0</td>\n    </tr>\n    <tr>\n      <th>4</th>\n      <td>5</td>\n      <td>198</td>\n      <td>1</td>\n      <td>-1</td>\n      <td>0</td>\n      <td>4</td>\n      <td>0.0</td>\n      <td>0.0</td>\n      <td>1.0</td>\n      <td>0.0</td>\n      <td>...</td>\n      <td>1.0</td>\n      <td>0.0</td>\n      <td>0.0</td>\n      <td>0.0</td>\n      <td>0.0</td>\n      <td>0.0</td>\n      <td>0.0</td>\n      <td>1.0</td>\n      <td>1.0</td>\n      <td>0.0</td>\n    </tr>\n    <tr>\n      <th>...</th>\n      <td>...</td>\n      <td>...</td>\n      <td>...</td>\n      <td>...</td>\n      <td>...</td>\n      <td>...</td>\n      <td>...</td>\n      <td>...</td>\n      <td>...</td>\n      <td>...</td>\n      <td>...</td>\n      <td>...</td>\n      <td>...</td>\n      <td>...</td>\n      <td>...</td>\n      <td>...</td>\n      <td>...</td>\n      <td>...</td>\n      <td>...</td>\n      <td>...</td>\n      <td>...</td>\n    </tr>\n    <tr>\n      <th>45206</th>\n      <td>17</td>\n      <td>977</td>\n      <td>3</td>\n      <td>-1</td>\n      <td>0</td>\n      <td>45206</td>\n      <td>1.0</td>\n      <td>0.0</td>\n      <td>0.0</td>\n      <td>0.0</td>\n      <td>...</td>\n      <td>0.0</td>\n      <td>1.0</td>\n      <td>0.0</td>\n      <td>0.0</td>\n      <td>0.0</td>\n      <td>0.0</td>\n      <td>0.0</td>\n      <td>1.0</td>\n      <td>0.0</td>\n      <td>1.0</td>\n    </tr>\n    <tr>\n      <th>45207</th>\n      <td>17</td>\n      <td>456</td>\n      <td>2</td>\n      <td>-1</td>\n      <td>0</td>\n      <td>45207</td>\n      <td>1.0</td>\n      <td>0.0</td>\n      <td>0.0</td>\n      <td>0.0</td>\n      <td>...</td>\n      <td>0.0</td>\n      <td>1.0</td>\n      <td>0.0</td>\n      <td>0.0</td>\n      <td>0.0</td>\n      <td>0.0</td>\n      <td>0.0</td>\n      <td>1.0</td>\n      <td>0.0</td>\n      <td>1.0</td>\n    </tr>\n    <tr>\n      <th>45208</th>\n      <td>17</td>\n      <td>1127</td>\n      <td>5</td>\n      <td>184</td>\n      <td>3</td>\n      <td>45208</td>\n      <td>1.0</td>\n      <td>0.0</td>\n      <td>0.0</td>\n      <td>0.0</td>\n      <td>...</td>\n      <td>0.0</td>\n      <td>1.0</td>\n      <td>0.0</td>\n      <td>0.0</td>\n      <td>0.0</td>\n      <td>0.0</td>\n      <td>1.0</td>\n      <td>0.0</td>\n      <td>0.0</td>\n      <td>1.0</td>\n    </tr>\n    <tr>\n      <th>45209</th>\n      <td>17</td>\n      <td>508</td>\n      <td>4</td>\n      <td>-1</td>\n      <td>0</td>\n      <td>45209</td>\n      <td>0.0</td>\n      <td>1.0</td>\n      <td>0.0</td>\n      <td>0.0</td>\n      <td>...</td>\n      <td>0.0</td>\n      <td>1.0</td>\n      <td>0.0</td>\n      <td>0.0</td>\n      <td>0.0</td>\n      <td>0.0</td>\n      <td>0.0</td>\n      <td>1.0</td>\n      <td>1.0</td>\n      <td>0.0</td>\n    </tr>\n    <tr>\n      <th>45210</th>\n      <td>17</td>\n      <td>361</td>\n      <td>2</td>\n      <td>188</td>\n      <td>11</td>\n      <td>45210</td>\n      <td>1.0</td>\n      <td>0.0</td>\n      <td>0.0</td>\n      <td>0.0</td>\n      <td>...</td>\n      <td>0.0</td>\n      <td>1.0</td>\n      <td>0.0</td>\n      <td>0.0</td>\n      <td>0.0</td>\n      <td>1.0</td>\n      <td>0.0</td>\n      <td>0.0</td>\n      <td>1.0</td>\n      <td>0.0</td>\n    </tr>\n  </tbody>\n</table>\n<p>45211 rows × 27 columns</p>\n</div>"
     },
     "execution_count": 38,
     "metadata": {},
     "output_type": "execute_result"
    }
   ],
   "source": [
    "pd.DataFrame(df_final)"
   ],
   "metadata": {
    "collapsed": false,
    "pycharm": {
     "name": "#%%\n"
    }
   }
  },
  {
   "cell_type": "code",
   "execution_count": 39,
   "outputs": [],
   "source": [
    "# 归一化\n",
    "def normalization(data, parameters=None):\n",
    "    \"\"\"\n",
    "    Normalize data in [0, 1] range.\n",
    "\n",
    "    Args:\n",
    "      - data: original data\n",
    "\n",
    "    Returns:\n",
    "      - norm_data: normalized data\n",
    "      - norm_parameters: min_val, max_val for each feature for renormalization\n",
    "    \"\"\"\n",
    "\n",
    "    # Parameters\n",
    "    _, dim = data.shape\n",
    "    norm_data = data.copy()\n",
    "\n",
    "    if parameters is None:\n",
    "\n",
    "        # MixMax normalization\n",
    "        min_val = np.zeros(dim)\n",
    "        max_val = np.zeros(dim)\n",
    "\n",
    "        # For each dimension\n",
    "        for i in range(dim):\n",
    "            min_val[i] = np.nanmin(norm_data[:, i])\n",
    "            norm_data[:, i] = norm_data[:, i] - np.nanmin(norm_data[:, i])\n",
    "            max_val[i] = np.nanmax(norm_data[:, i])\n",
    "            norm_data[:, i] = norm_data[:, i] / (np.nanmax(norm_data[:, i]) + 1e-6)\n",
    "\n",
    "            # Return norm_parameters for renormalization\n",
    "        norm_parameters = {'min_val': min_val,\n",
    "                           'max_val': max_val}\n",
    "\n",
    "    else:\n",
    "        min_val = parameters['min_val']\n",
    "        max_val = parameters['max_val']\n",
    "\n",
    "        # For each dimension\n",
    "        for i in range(dim):\n",
    "            norm_data[:, i] = norm_data[:, i] - min_val[i]\n",
    "            norm_data[:, i] = norm_data[:, i] / (max_val[i] + 1e-6)\n",
    "\n",
    "        norm_parameters = parameters\n",
    "\n",
    "    return norm_data, norm_parameters"
   ],
   "metadata": {
    "collapsed": false,
    "pycharm": {
     "name": "#%%\n"
    }
   }
  },
  {
   "cell_type": "code",
   "execution_count": 42,
   "outputs": [],
   "source": [
    "# Normalization 数据归一化处理\n",
    "norm_data, norm_parameters = normalization(df_final.values)  # 归一化，在utils中已定义好"
   ],
   "metadata": {
    "collapsed": false,
    "pycharm": {
     "name": "#%%\n"
    }
   }
  },
  {
   "cell_type": "code",
   "execution_count": 43,
   "outputs": [
    {
     "name": "stdout",
     "output_type": "stream",
     "text": [
      "[[0.13333333 0.05307035 0.         ... 0.999999   0.999999   0.        ]\n",
      " [0.13333333 0.03070354 0.         ... 0.999999   0.999999   0.        ]\n",
      " [0.13333333 0.01545344 0.         ... 0.999999   0.999999   0.        ]\n",
      " ...\n",
      " [0.53333332 0.22915819 0.06451613 ... 0.         0.         0.999999  ]\n",
      " [0.53333332 0.10329402 0.0483871  ... 0.999999   0.999999   0.        ]\n",
      " [0.53333332 0.07340382 0.01612903 ... 0.         0.999999   0.        ]]\n"
     ]
    }
   ],
   "source": [
    "print(norm_data)"
   ],
   "metadata": {
    "collapsed": false,
    "pycharm": {
     "name": "#%%\n"
    }
   }
  },
  {
   "cell_type": "code",
   "execution_count": 44,
   "outputs": [
    {
     "data": {
      "text/plain": "             0         1         2         3         4         5         6   \\\n0      0.133333  0.053070  0.000000  0.000000  0.000000  0.000000  0.000000   \n1      0.133333  0.030704  0.000000  0.000000  0.000000  0.000022  0.000000   \n2      0.133333  0.015453  0.000000  0.000000  0.000000  0.000044  0.000000   \n3      0.133333  0.018707  0.000000  0.000000  0.000000  0.000066  0.000000   \n4      0.133333  0.040260  0.000000  0.000000  0.000000  0.000088  0.000000   \n...         ...       ...       ...       ...       ...       ...       ...   \n45206  0.533333  0.198658  0.032258  0.000000  0.000000  0.999912  0.999999   \n45207  0.533333  0.092721  0.016129  0.000000  0.000000  0.999934  0.999999   \n45208  0.533333  0.229158  0.064516  0.212156  0.010909  0.999956  0.999999   \n45209  0.533333  0.103294  0.048387  0.000000  0.000000  0.999978  0.000000   \n45210  0.533333  0.073404  0.016129  0.216743  0.040000  1.000000  0.999999   \n\n             7         8    9   ...        17        18   19   20   21  \\\n0      0.000000  0.999999  0.0  ...  0.999999  0.000000  0.0  0.0  0.0   \n1      0.000000  0.999999  0.0  ...  0.999999  0.000000  0.0  0.0  0.0   \n2      0.000000  0.999999  0.0  ...  0.999999  0.000000  0.0  0.0  0.0   \n3      0.000000  0.999999  0.0  ...  0.999999  0.000000  0.0  0.0  0.0   \n4      0.000000  0.999999  0.0  ...  0.999999  0.000000  0.0  0.0  0.0   \n...         ...       ...  ...  ...       ...       ...  ...  ...  ...   \n45206  0.000000  0.000000  0.0  ...  0.000000  0.999999  0.0  0.0  0.0   \n45207  0.000000  0.000000  0.0  ...  0.000000  0.999999  0.0  0.0  0.0   \n45208  0.000000  0.000000  0.0  ...  0.000000  0.999999  0.0  0.0  0.0   \n45209  0.999999  0.000000  0.0  ...  0.000000  0.999999  0.0  0.0  0.0   \n45210  0.000000  0.000000  0.0  ...  0.000000  0.999999  0.0  0.0  0.0   \n\n             22        23        24        25        26  \n0      0.000000  0.000000  0.999999  0.999999  0.000000  \n1      0.000000  0.000000  0.999999  0.999999  0.000000  \n2      0.000000  0.000000  0.999999  0.999999  0.000000  \n3      0.000000  0.000000  0.999999  0.999999  0.000000  \n4      0.000000  0.000000  0.999999  0.999999  0.000000  \n...         ...       ...       ...       ...       ...  \n45206  0.000000  0.000000  0.999999  0.000000  0.999999  \n45207  0.000000  0.000000  0.999999  0.000000  0.999999  \n45208  0.000000  0.999999  0.000000  0.000000  0.999999  \n45209  0.000000  0.000000  0.999999  0.999999  0.000000  \n45210  0.999999  0.000000  0.000000  0.999999  0.000000  \n\n[45211 rows x 27 columns]",
      "text/html": "<div>\n<style scoped>\n    .dataframe tbody tr th:only-of-type {\n        vertical-align: middle;\n    }\n\n    .dataframe tbody tr th {\n        vertical-align: top;\n    }\n\n    .dataframe thead th {\n        text-align: right;\n    }\n</style>\n<table border=\"1\" class=\"dataframe\">\n  <thead>\n    <tr style=\"text-align: right;\">\n      <th></th>\n      <th>0</th>\n      <th>1</th>\n      <th>2</th>\n      <th>3</th>\n      <th>4</th>\n      <th>5</th>\n      <th>6</th>\n      <th>7</th>\n      <th>8</th>\n      <th>9</th>\n      <th>...</th>\n      <th>17</th>\n      <th>18</th>\n      <th>19</th>\n      <th>20</th>\n      <th>21</th>\n      <th>22</th>\n      <th>23</th>\n      <th>24</th>\n      <th>25</th>\n      <th>26</th>\n    </tr>\n  </thead>\n  <tbody>\n    <tr>\n      <th>0</th>\n      <td>0.133333</td>\n      <td>0.053070</td>\n      <td>0.000000</td>\n      <td>0.000000</td>\n      <td>0.000000</td>\n      <td>0.000000</td>\n      <td>0.000000</td>\n      <td>0.000000</td>\n      <td>0.999999</td>\n      <td>0.0</td>\n      <td>...</td>\n      <td>0.999999</td>\n      <td>0.000000</td>\n      <td>0.0</td>\n      <td>0.0</td>\n      <td>0.0</td>\n      <td>0.000000</td>\n      <td>0.000000</td>\n      <td>0.999999</td>\n      <td>0.999999</td>\n      <td>0.000000</td>\n    </tr>\n    <tr>\n      <th>1</th>\n      <td>0.133333</td>\n      <td>0.030704</td>\n      <td>0.000000</td>\n      <td>0.000000</td>\n      <td>0.000000</td>\n      <td>0.000022</td>\n      <td>0.000000</td>\n      <td>0.000000</td>\n      <td>0.999999</td>\n      <td>0.0</td>\n      <td>...</td>\n      <td>0.999999</td>\n      <td>0.000000</td>\n      <td>0.0</td>\n      <td>0.0</td>\n      <td>0.0</td>\n      <td>0.000000</td>\n      <td>0.000000</td>\n      <td>0.999999</td>\n      <td>0.999999</td>\n      <td>0.000000</td>\n    </tr>\n    <tr>\n      <th>2</th>\n      <td>0.133333</td>\n      <td>0.015453</td>\n      <td>0.000000</td>\n      <td>0.000000</td>\n      <td>0.000000</td>\n      <td>0.000044</td>\n      <td>0.000000</td>\n      <td>0.000000</td>\n      <td>0.999999</td>\n      <td>0.0</td>\n      <td>...</td>\n      <td>0.999999</td>\n      <td>0.000000</td>\n      <td>0.0</td>\n      <td>0.0</td>\n      <td>0.0</td>\n      <td>0.000000</td>\n      <td>0.000000</td>\n      <td>0.999999</td>\n      <td>0.999999</td>\n      <td>0.000000</td>\n    </tr>\n    <tr>\n      <th>3</th>\n      <td>0.133333</td>\n      <td>0.018707</td>\n      <td>0.000000</td>\n      <td>0.000000</td>\n      <td>0.000000</td>\n      <td>0.000066</td>\n      <td>0.000000</td>\n      <td>0.000000</td>\n      <td>0.999999</td>\n      <td>0.0</td>\n      <td>...</td>\n      <td>0.999999</td>\n      <td>0.000000</td>\n      <td>0.0</td>\n      <td>0.0</td>\n      <td>0.0</td>\n      <td>0.000000</td>\n      <td>0.000000</td>\n      <td>0.999999</td>\n      <td>0.999999</td>\n      <td>0.000000</td>\n    </tr>\n    <tr>\n      <th>4</th>\n      <td>0.133333</td>\n      <td>0.040260</td>\n      <td>0.000000</td>\n      <td>0.000000</td>\n      <td>0.000000</td>\n      <td>0.000088</td>\n      <td>0.000000</td>\n      <td>0.000000</td>\n      <td>0.999999</td>\n      <td>0.0</td>\n      <td>...</td>\n      <td>0.999999</td>\n      <td>0.000000</td>\n      <td>0.0</td>\n      <td>0.0</td>\n      <td>0.0</td>\n      <td>0.000000</td>\n      <td>0.000000</td>\n      <td>0.999999</td>\n      <td>0.999999</td>\n      <td>0.000000</td>\n    </tr>\n    <tr>\n      <th>...</th>\n      <td>...</td>\n      <td>...</td>\n      <td>...</td>\n      <td>...</td>\n      <td>...</td>\n      <td>...</td>\n      <td>...</td>\n      <td>...</td>\n      <td>...</td>\n      <td>...</td>\n      <td>...</td>\n      <td>...</td>\n      <td>...</td>\n      <td>...</td>\n      <td>...</td>\n      <td>...</td>\n      <td>...</td>\n      <td>...</td>\n      <td>...</td>\n      <td>...</td>\n      <td>...</td>\n    </tr>\n    <tr>\n      <th>45206</th>\n      <td>0.533333</td>\n      <td>0.198658</td>\n      <td>0.032258</td>\n      <td>0.000000</td>\n      <td>0.000000</td>\n      <td>0.999912</td>\n      <td>0.999999</td>\n      <td>0.000000</td>\n      <td>0.000000</td>\n      <td>0.0</td>\n      <td>...</td>\n      <td>0.000000</td>\n      <td>0.999999</td>\n      <td>0.0</td>\n      <td>0.0</td>\n      <td>0.0</td>\n      <td>0.000000</td>\n      <td>0.000000</td>\n      <td>0.999999</td>\n      <td>0.000000</td>\n      <td>0.999999</td>\n    </tr>\n    <tr>\n      <th>45207</th>\n      <td>0.533333</td>\n      <td>0.092721</td>\n      <td>0.016129</td>\n      <td>0.000000</td>\n      <td>0.000000</td>\n      <td>0.999934</td>\n      <td>0.999999</td>\n      <td>0.000000</td>\n      <td>0.000000</td>\n      <td>0.0</td>\n      <td>...</td>\n      <td>0.000000</td>\n      <td>0.999999</td>\n      <td>0.0</td>\n      <td>0.0</td>\n      <td>0.0</td>\n      <td>0.000000</td>\n      <td>0.000000</td>\n      <td>0.999999</td>\n      <td>0.000000</td>\n      <td>0.999999</td>\n    </tr>\n    <tr>\n      <th>45208</th>\n      <td>0.533333</td>\n      <td>0.229158</td>\n      <td>0.064516</td>\n      <td>0.212156</td>\n      <td>0.010909</td>\n      <td>0.999956</td>\n      <td>0.999999</td>\n      <td>0.000000</td>\n      <td>0.000000</td>\n      <td>0.0</td>\n      <td>...</td>\n      <td>0.000000</td>\n      <td>0.999999</td>\n      <td>0.0</td>\n      <td>0.0</td>\n      <td>0.0</td>\n      <td>0.000000</td>\n      <td>0.999999</td>\n      <td>0.000000</td>\n      <td>0.000000</td>\n      <td>0.999999</td>\n    </tr>\n    <tr>\n      <th>45209</th>\n      <td>0.533333</td>\n      <td>0.103294</td>\n      <td>0.048387</td>\n      <td>0.000000</td>\n      <td>0.000000</td>\n      <td>0.999978</td>\n      <td>0.000000</td>\n      <td>0.999999</td>\n      <td>0.000000</td>\n      <td>0.0</td>\n      <td>...</td>\n      <td>0.000000</td>\n      <td>0.999999</td>\n      <td>0.0</td>\n      <td>0.0</td>\n      <td>0.0</td>\n      <td>0.000000</td>\n      <td>0.000000</td>\n      <td>0.999999</td>\n      <td>0.999999</td>\n      <td>0.000000</td>\n    </tr>\n    <tr>\n      <th>45210</th>\n      <td>0.533333</td>\n      <td>0.073404</td>\n      <td>0.016129</td>\n      <td>0.216743</td>\n      <td>0.040000</td>\n      <td>1.000000</td>\n      <td>0.999999</td>\n      <td>0.000000</td>\n      <td>0.000000</td>\n      <td>0.0</td>\n      <td>...</td>\n      <td>0.000000</td>\n      <td>0.999999</td>\n      <td>0.0</td>\n      <td>0.0</td>\n      <td>0.0</td>\n      <td>0.999999</td>\n      <td>0.000000</td>\n      <td>0.000000</td>\n      <td>0.999999</td>\n      <td>0.000000</td>\n    </tr>\n  </tbody>\n</table>\n<p>45211 rows × 27 columns</p>\n</div>"
     },
     "execution_count": 44,
     "metadata": {},
     "output_type": "execute_result"
    }
   ],
   "source": [
    "pd.DataFrame(norm_data)"
   ],
   "metadata": {
    "collapsed": false,
    "pycharm": {
     "name": "#%%\n"
    }
   }
  },
  {
   "cell_type": "code",
   "execution_count": 50,
   "outputs": [],
   "source": [
    "def oneHot(data):\n",
    "    # 分离出连续列和分类列\n",
    "    categorical=data.select_dtypes(include=['object'])\n",
    "    # 选择除分类列之外的所有列\n",
    "    numerical=data.select_dtypes(exclude=['object'])\n",
    "    # 创建一个OneHotEncoder()对象\n",
    "    encoder=OneHotEncoder()\n",
    "    #转换数据框为NumPy数组并进行特征编码\n",
    "    df_categorical_encoded=encoder.fit_transform(categorical.values)\n",
    "    # 转换为数据框\n",
    "    df_categorical_encoded=pd.DataFrame(df_categorical_encoded.toarray(),columns=encoder.get_feature_names_out())\n",
    "    df_final_encoded=pd.concat([numerical,df_categorical_encoded],axis=1)\n",
    "    return df_final_encoded"
   ],
   "metadata": {
    "collapsed": false,
    "pycharm": {
     "name": "#%%\n"
    }
   }
  },
  {
   "cell_type": "code",
   "execution_count": 51,
   "outputs": [
    {
     "data": {
      "text/plain": "       day  duration  campaign  pdays  previous  index  x0_cellular  \\\n0        5       261         1     -1         0      0          0.0   \n1        5       151         1     -1         0      1          0.0   \n2        5        76         1     -1         0      2          0.0   \n3        5        92         1     -1         0      3          0.0   \n4        5       198         1     -1         0      4          0.0   \n...    ...       ...       ...    ...       ...    ...          ...   \n45206   17       977         3     -1         0  45206          1.0   \n45207   17       456         2     -1         0  45207          1.0   \n45208   17      1127         5    184         3  45208          1.0   \n45209   17       508         4     -1         0  45209          0.0   \n45210   17       361         2    188        11  45210          1.0   \n\n       x0_telephone  x0_unknown  x1_apr  ...  x1_may  x1_nov  x1_oct  x1_sep  \\\n0               0.0         1.0     0.0  ...     1.0     0.0     0.0     0.0   \n1               0.0         1.0     0.0  ...     1.0     0.0     0.0     0.0   \n2               0.0         1.0     0.0  ...     1.0     0.0     0.0     0.0   \n3               0.0         1.0     0.0  ...     1.0     0.0     0.0     0.0   \n4               0.0         1.0     0.0  ...     1.0     0.0     0.0     0.0   \n...             ...         ...     ...  ...     ...     ...     ...     ...   \n45206           0.0         0.0     0.0  ...     0.0     1.0     0.0     0.0   \n45207           0.0         0.0     0.0  ...     0.0     1.0     0.0     0.0   \n45208           0.0         0.0     0.0  ...     0.0     1.0     0.0     0.0   \n45209           1.0         0.0     0.0  ...     0.0     1.0     0.0     0.0   \n45210           0.0         0.0     0.0  ...     0.0     1.0     0.0     0.0   \n\n       x2_failure  x2_other  x2_success  x2_unknown  x3_no  x3_yes  \n0             0.0       0.0         0.0         1.0    1.0     0.0  \n1             0.0       0.0         0.0         1.0    1.0     0.0  \n2             0.0       0.0         0.0         1.0    1.0     0.0  \n3             0.0       0.0         0.0         1.0    1.0     0.0  \n4             0.0       0.0         0.0         1.0    1.0     0.0  \n...           ...       ...         ...         ...    ...     ...  \n45206         0.0       0.0         0.0         1.0    0.0     1.0  \n45207         0.0       0.0         0.0         1.0    0.0     1.0  \n45208         0.0       0.0         1.0         0.0    0.0     1.0  \n45209         0.0       0.0         0.0         1.0    1.0     0.0  \n45210         0.0       1.0         0.0         0.0    1.0     0.0  \n\n[45211 rows x 27 columns]",
      "text/html": "<div>\n<style scoped>\n    .dataframe tbody tr th:only-of-type {\n        vertical-align: middle;\n    }\n\n    .dataframe tbody tr th {\n        vertical-align: top;\n    }\n\n    .dataframe thead th {\n        text-align: right;\n    }\n</style>\n<table border=\"1\" class=\"dataframe\">\n  <thead>\n    <tr style=\"text-align: right;\">\n      <th></th>\n      <th>day</th>\n      <th>duration</th>\n      <th>campaign</th>\n      <th>pdays</th>\n      <th>previous</th>\n      <th>index</th>\n      <th>x0_cellular</th>\n      <th>x0_telephone</th>\n      <th>x0_unknown</th>\n      <th>x1_apr</th>\n      <th>...</th>\n      <th>x1_may</th>\n      <th>x1_nov</th>\n      <th>x1_oct</th>\n      <th>x1_sep</th>\n      <th>x2_failure</th>\n      <th>x2_other</th>\n      <th>x2_success</th>\n      <th>x2_unknown</th>\n      <th>x3_no</th>\n      <th>x3_yes</th>\n    </tr>\n  </thead>\n  <tbody>\n    <tr>\n      <th>0</th>\n      <td>5</td>\n      <td>261</td>\n      <td>1</td>\n      <td>-1</td>\n      <td>0</td>\n      <td>0</td>\n      <td>0.0</td>\n      <td>0.0</td>\n      <td>1.0</td>\n      <td>0.0</td>\n      <td>...</td>\n      <td>1.0</td>\n      <td>0.0</td>\n      <td>0.0</td>\n      <td>0.0</td>\n      <td>0.0</td>\n      <td>0.0</td>\n      <td>0.0</td>\n      <td>1.0</td>\n      <td>1.0</td>\n      <td>0.0</td>\n    </tr>\n    <tr>\n      <th>1</th>\n      <td>5</td>\n      <td>151</td>\n      <td>1</td>\n      <td>-1</td>\n      <td>0</td>\n      <td>1</td>\n      <td>0.0</td>\n      <td>0.0</td>\n      <td>1.0</td>\n      <td>0.0</td>\n      <td>...</td>\n      <td>1.0</td>\n      <td>0.0</td>\n      <td>0.0</td>\n      <td>0.0</td>\n      <td>0.0</td>\n      <td>0.0</td>\n      <td>0.0</td>\n      <td>1.0</td>\n      <td>1.0</td>\n      <td>0.0</td>\n    </tr>\n    <tr>\n      <th>2</th>\n      <td>5</td>\n      <td>76</td>\n      <td>1</td>\n      <td>-1</td>\n      <td>0</td>\n      <td>2</td>\n      <td>0.0</td>\n      <td>0.0</td>\n      <td>1.0</td>\n      <td>0.0</td>\n      <td>...</td>\n      <td>1.0</td>\n      <td>0.0</td>\n      <td>0.0</td>\n      <td>0.0</td>\n      <td>0.0</td>\n      <td>0.0</td>\n      <td>0.0</td>\n      <td>1.0</td>\n      <td>1.0</td>\n      <td>0.0</td>\n    </tr>\n    <tr>\n      <th>3</th>\n      <td>5</td>\n      <td>92</td>\n      <td>1</td>\n      <td>-1</td>\n      <td>0</td>\n      <td>3</td>\n      <td>0.0</td>\n      <td>0.0</td>\n      <td>1.0</td>\n      <td>0.0</td>\n      <td>...</td>\n      <td>1.0</td>\n      <td>0.0</td>\n      <td>0.0</td>\n      <td>0.0</td>\n      <td>0.0</td>\n      <td>0.0</td>\n      <td>0.0</td>\n      <td>1.0</td>\n      <td>1.0</td>\n      <td>0.0</td>\n    </tr>\n    <tr>\n      <th>4</th>\n      <td>5</td>\n      <td>198</td>\n      <td>1</td>\n      <td>-1</td>\n      <td>0</td>\n      <td>4</td>\n      <td>0.0</td>\n      <td>0.0</td>\n      <td>1.0</td>\n      <td>0.0</td>\n      <td>...</td>\n      <td>1.0</td>\n      <td>0.0</td>\n      <td>0.0</td>\n      <td>0.0</td>\n      <td>0.0</td>\n      <td>0.0</td>\n      <td>0.0</td>\n      <td>1.0</td>\n      <td>1.0</td>\n      <td>0.0</td>\n    </tr>\n    <tr>\n      <th>...</th>\n      <td>...</td>\n      <td>...</td>\n      <td>...</td>\n      <td>...</td>\n      <td>...</td>\n      <td>...</td>\n      <td>...</td>\n      <td>...</td>\n      <td>...</td>\n      <td>...</td>\n      <td>...</td>\n      <td>...</td>\n      <td>...</td>\n      <td>...</td>\n      <td>...</td>\n      <td>...</td>\n      <td>...</td>\n      <td>...</td>\n      <td>...</td>\n      <td>...</td>\n      <td>...</td>\n    </tr>\n    <tr>\n      <th>45206</th>\n      <td>17</td>\n      <td>977</td>\n      <td>3</td>\n      <td>-1</td>\n      <td>0</td>\n      <td>45206</td>\n      <td>1.0</td>\n      <td>0.0</td>\n      <td>0.0</td>\n      <td>0.0</td>\n      <td>...</td>\n      <td>0.0</td>\n      <td>1.0</td>\n      <td>0.0</td>\n      <td>0.0</td>\n      <td>0.0</td>\n      <td>0.0</td>\n      <td>0.0</td>\n      <td>1.0</td>\n      <td>0.0</td>\n      <td>1.0</td>\n    </tr>\n    <tr>\n      <th>45207</th>\n      <td>17</td>\n      <td>456</td>\n      <td>2</td>\n      <td>-1</td>\n      <td>0</td>\n      <td>45207</td>\n      <td>1.0</td>\n      <td>0.0</td>\n      <td>0.0</td>\n      <td>0.0</td>\n      <td>...</td>\n      <td>0.0</td>\n      <td>1.0</td>\n      <td>0.0</td>\n      <td>0.0</td>\n      <td>0.0</td>\n      <td>0.0</td>\n      <td>0.0</td>\n      <td>1.0</td>\n      <td>0.0</td>\n      <td>1.0</td>\n    </tr>\n    <tr>\n      <th>45208</th>\n      <td>17</td>\n      <td>1127</td>\n      <td>5</td>\n      <td>184</td>\n      <td>3</td>\n      <td>45208</td>\n      <td>1.0</td>\n      <td>0.0</td>\n      <td>0.0</td>\n      <td>0.0</td>\n      <td>...</td>\n      <td>0.0</td>\n      <td>1.0</td>\n      <td>0.0</td>\n      <td>0.0</td>\n      <td>0.0</td>\n      <td>0.0</td>\n      <td>1.0</td>\n      <td>0.0</td>\n      <td>0.0</td>\n      <td>1.0</td>\n    </tr>\n    <tr>\n      <th>45209</th>\n      <td>17</td>\n      <td>508</td>\n      <td>4</td>\n      <td>-1</td>\n      <td>0</td>\n      <td>45209</td>\n      <td>0.0</td>\n      <td>1.0</td>\n      <td>0.0</td>\n      <td>0.0</td>\n      <td>...</td>\n      <td>0.0</td>\n      <td>1.0</td>\n      <td>0.0</td>\n      <td>0.0</td>\n      <td>0.0</td>\n      <td>0.0</td>\n      <td>0.0</td>\n      <td>1.0</td>\n      <td>1.0</td>\n      <td>0.0</td>\n    </tr>\n    <tr>\n      <th>45210</th>\n      <td>17</td>\n      <td>361</td>\n      <td>2</td>\n      <td>188</td>\n      <td>11</td>\n      <td>45210</td>\n      <td>1.0</td>\n      <td>0.0</td>\n      <td>0.0</td>\n      <td>0.0</td>\n      <td>...</td>\n      <td>0.0</td>\n      <td>1.0</td>\n      <td>0.0</td>\n      <td>0.0</td>\n      <td>0.0</td>\n      <td>1.0</td>\n      <td>0.0</td>\n      <td>0.0</td>\n      <td>1.0</td>\n      <td>0.0</td>\n    </tr>\n  </tbody>\n</table>\n<p>45211 rows × 27 columns</p>\n</div>"
     },
     "execution_count": 51,
     "metadata": {},
     "output_type": "execute_result"
    }
   ],
   "source": [
    "oneHot(complete_data_B)"
   ],
   "metadata": {
    "collapsed": false,
    "pycharm": {
     "name": "#%%\n"
    }
   }
  },
  {
   "cell_type": "code",
   "execution_count": 5,
   "outputs": [],
   "source": [
    "\n",
    "data_name = 'bank_data_B'\n",
    "complete_data,incomplete_data,data_m=data_loader1(data_name,0.2)"
   ],
   "metadata": {
    "collapsed": false,
    "pycharm": {
     "name": "#%%\n"
    }
   }
  },
  {
   "cell_type": "code",
   "execution_count": 54,
   "outputs": [
    {
     "data": {
      "text/plain": "   contact  day month  duration  campaign  pdays  previous poutcome    y  \\\n0  unknown  5.0   may     261.0       1.0   -1.0       0.0  unknown   no   \n1  unknown  5.0   may     151.0       1.0   -1.0       0.0  unknown   no   \n2      NaN  NaN   NaN       NaN       NaN    NaN       NaN      NaN  NaN   \n3      NaN  NaN   NaN       NaN       NaN    NaN       NaN      NaN  NaN   \n4      NaN  NaN   NaN       NaN       NaN    NaN       NaN      NaN  NaN   \n\n   index  \n0    0.0  \n1    1.0  \n2    NaN  \n3    NaN  \n4    NaN  ",
      "text/html": "<div>\n<style scoped>\n    .dataframe tbody tr th:only-of-type {\n        vertical-align: middle;\n    }\n\n    .dataframe tbody tr th {\n        vertical-align: top;\n    }\n\n    .dataframe thead th {\n        text-align: right;\n    }\n</style>\n<table border=\"1\" class=\"dataframe\">\n  <thead>\n    <tr style=\"text-align: right;\">\n      <th></th>\n      <th>contact</th>\n      <th>day</th>\n      <th>month</th>\n      <th>duration</th>\n      <th>campaign</th>\n      <th>pdays</th>\n      <th>previous</th>\n      <th>poutcome</th>\n      <th>y</th>\n      <th>index</th>\n    </tr>\n  </thead>\n  <tbody>\n    <tr>\n      <th>0</th>\n      <td>unknown</td>\n      <td>5.0</td>\n      <td>may</td>\n      <td>261.0</td>\n      <td>1.0</td>\n      <td>-1.0</td>\n      <td>0.0</td>\n      <td>unknown</td>\n      <td>no</td>\n      <td>0.0</td>\n    </tr>\n    <tr>\n      <th>1</th>\n      <td>unknown</td>\n      <td>5.0</td>\n      <td>may</td>\n      <td>151.0</td>\n      <td>1.0</td>\n      <td>-1.0</td>\n      <td>0.0</td>\n      <td>unknown</td>\n      <td>no</td>\n      <td>1.0</td>\n    </tr>\n    <tr>\n      <th>2</th>\n      <td>NaN</td>\n      <td>NaN</td>\n      <td>NaN</td>\n      <td>NaN</td>\n      <td>NaN</td>\n      <td>NaN</td>\n      <td>NaN</td>\n      <td>NaN</td>\n      <td>NaN</td>\n      <td>NaN</td>\n    </tr>\n    <tr>\n      <th>3</th>\n      <td>NaN</td>\n      <td>NaN</td>\n      <td>NaN</td>\n      <td>NaN</td>\n      <td>NaN</td>\n      <td>NaN</td>\n      <td>NaN</td>\n      <td>NaN</td>\n      <td>NaN</td>\n      <td>NaN</td>\n    </tr>\n    <tr>\n      <th>4</th>\n      <td>NaN</td>\n      <td>NaN</td>\n      <td>NaN</td>\n      <td>NaN</td>\n      <td>NaN</td>\n      <td>NaN</td>\n      <td>NaN</td>\n      <td>NaN</td>\n      <td>NaN</td>\n      <td>NaN</td>\n    </tr>\n  </tbody>\n</table>\n</div>"
     },
     "execution_count": 54,
     "metadata": {},
     "output_type": "execute_result"
    }
   ],
   "source": [
    "incomplete_data.head()"
   ],
   "metadata": {
    "collapsed": false,
    "pycharm": {
     "name": "#%%\n"
    }
   }
  },
  {
   "cell_type": "code",
   "execution_count": 55,
   "outputs": [
    {
     "data": {
      "text/plain": "        day  duration  campaign  pdays  previous    index  x0_cellular  \\\n0       5.0     261.0       1.0   -1.0       0.0      0.0          0.0   \n1       5.0     151.0       1.0   -1.0       0.0      1.0          0.0   \n2       NaN       NaN       NaN    NaN       NaN      NaN          0.0   \n3       NaN       NaN       NaN    NaN       NaN      NaN          0.0   \n4       NaN       NaN       NaN    NaN       NaN      NaN          0.0   \n...     ...       ...       ...    ...       ...      ...          ...   \n45206   NaN       NaN       NaN    NaN       NaN      NaN          0.0   \n45207   NaN       NaN       NaN    NaN       NaN      NaN          0.0   \n45208   NaN       NaN       NaN    NaN       NaN      NaN          0.0   \n45209  17.0     508.0       4.0   -1.0       0.0  45209.0          0.0   \n45210  17.0     361.0       2.0  188.0      11.0  45210.0          1.0   \n\n       x0_telephone  x0_unknown  x0_nan  ...  x1_sep  x1_nan  x2_failure  \\\n0               0.0         1.0     0.0  ...     0.0     0.0         0.0   \n1               0.0         1.0     0.0  ...     0.0     0.0         0.0   \n2               0.0         0.0     1.0  ...     0.0     1.0         0.0   \n3               0.0         0.0     1.0  ...     0.0     1.0         0.0   \n4               0.0         0.0     1.0  ...     0.0     1.0         0.0   \n...             ...         ...     ...  ...     ...     ...         ...   \n45206           0.0         0.0     1.0  ...     0.0     1.0         0.0   \n45207           0.0         0.0     1.0  ...     0.0     1.0         0.0   \n45208           0.0         0.0     1.0  ...     0.0     1.0         0.0   \n45209           1.0         0.0     0.0  ...     0.0     0.0         0.0   \n45210           0.0         0.0     0.0  ...     0.0     0.0         0.0   \n\n       x2_other  x2_success  x2_unknown  x2_nan  x3_no  x3_yes  x3_nan  \n0           0.0         0.0         1.0     0.0    1.0     0.0     0.0  \n1           0.0         0.0         1.0     0.0    1.0     0.0     0.0  \n2           0.0         0.0         0.0     1.0    0.0     0.0     1.0  \n3           0.0         0.0         0.0     1.0    0.0     0.0     1.0  \n4           0.0         0.0         0.0     1.0    0.0     0.0     1.0  \n...         ...         ...         ...     ...    ...     ...     ...  \n45206       0.0         0.0         0.0     1.0    0.0     0.0     1.0  \n45207       0.0         0.0         0.0     1.0    0.0     0.0     1.0  \n45208       0.0         0.0         0.0     1.0    0.0     0.0     1.0  \n45209       0.0         0.0         1.0     0.0    1.0     0.0     0.0  \n45210       1.0         0.0         0.0     0.0    1.0     0.0     0.0  \n\n[45211 rows x 31 columns]",
      "text/html": "<div>\n<style scoped>\n    .dataframe tbody tr th:only-of-type {\n        vertical-align: middle;\n    }\n\n    .dataframe tbody tr th {\n        vertical-align: top;\n    }\n\n    .dataframe thead th {\n        text-align: right;\n    }\n</style>\n<table border=\"1\" class=\"dataframe\">\n  <thead>\n    <tr style=\"text-align: right;\">\n      <th></th>\n      <th>day</th>\n      <th>duration</th>\n      <th>campaign</th>\n      <th>pdays</th>\n      <th>previous</th>\n      <th>index</th>\n      <th>x0_cellular</th>\n      <th>x0_telephone</th>\n      <th>x0_unknown</th>\n      <th>x0_nan</th>\n      <th>...</th>\n      <th>x1_sep</th>\n      <th>x1_nan</th>\n      <th>x2_failure</th>\n      <th>x2_other</th>\n      <th>x2_success</th>\n      <th>x2_unknown</th>\n      <th>x2_nan</th>\n      <th>x3_no</th>\n      <th>x3_yes</th>\n      <th>x3_nan</th>\n    </tr>\n  </thead>\n  <tbody>\n    <tr>\n      <th>0</th>\n      <td>5.0</td>\n      <td>261.0</td>\n      <td>1.0</td>\n      <td>-1.0</td>\n      <td>0.0</td>\n      <td>0.0</td>\n      <td>0.0</td>\n      <td>0.0</td>\n      <td>1.0</td>\n      <td>0.0</td>\n      <td>...</td>\n      <td>0.0</td>\n      <td>0.0</td>\n      <td>0.0</td>\n      <td>0.0</td>\n      <td>0.0</td>\n      <td>1.0</td>\n      <td>0.0</td>\n      <td>1.0</td>\n      <td>0.0</td>\n      <td>0.0</td>\n    </tr>\n    <tr>\n      <th>1</th>\n      <td>5.0</td>\n      <td>151.0</td>\n      <td>1.0</td>\n      <td>-1.0</td>\n      <td>0.0</td>\n      <td>1.0</td>\n      <td>0.0</td>\n      <td>0.0</td>\n      <td>1.0</td>\n      <td>0.0</td>\n      <td>...</td>\n      <td>0.0</td>\n      <td>0.0</td>\n      <td>0.0</td>\n      <td>0.0</td>\n      <td>0.0</td>\n      <td>1.0</td>\n      <td>0.0</td>\n      <td>1.0</td>\n      <td>0.0</td>\n      <td>0.0</td>\n    </tr>\n    <tr>\n      <th>2</th>\n      <td>NaN</td>\n      <td>NaN</td>\n      <td>NaN</td>\n      <td>NaN</td>\n      <td>NaN</td>\n      <td>NaN</td>\n      <td>0.0</td>\n      <td>0.0</td>\n      <td>0.0</td>\n      <td>1.0</td>\n      <td>...</td>\n      <td>0.0</td>\n      <td>1.0</td>\n      <td>0.0</td>\n      <td>0.0</td>\n      <td>0.0</td>\n      <td>0.0</td>\n      <td>1.0</td>\n      <td>0.0</td>\n      <td>0.0</td>\n      <td>1.0</td>\n    </tr>\n    <tr>\n      <th>3</th>\n      <td>NaN</td>\n      <td>NaN</td>\n      <td>NaN</td>\n      <td>NaN</td>\n      <td>NaN</td>\n      <td>NaN</td>\n      <td>0.0</td>\n      <td>0.0</td>\n      <td>0.0</td>\n      <td>1.0</td>\n      <td>...</td>\n      <td>0.0</td>\n      <td>1.0</td>\n      <td>0.0</td>\n      <td>0.0</td>\n      <td>0.0</td>\n      <td>0.0</td>\n      <td>1.0</td>\n      <td>0.0</td>\n      <td>0.0</td>\n      <td>1.0</td>\n    </tr>\n    <tr>\n      <th>4</th>\n      <td>NaN</td>\n      <td>NaN</td>\n      <td>NaN</td>\n      <td>NaN</td>\n      <td>NaN</td>\n      <td>NaN</td>\n      <td>0.0</td>\n      <td>0.0</td>\n      <td>0.0</td>\n      <td>1.0</td>\n      <td>...</td>\n      <td>0.0</td>\n      <td>1.0</td>\n      <td>0.0</td>\n      <td>0.0</td>\n      <td>0.0</td>\n      <td>0.0</td>\n      <td>1.0</td>\n      <td>0.0</td>\n      <td>0.0</td>\n      <td>1.0</td>\n    </tr>\n    <tr>\n      <th>...</th>\n      <td>...</td>\n      <td>...</td>\n      <td>...</td>\n      <td>...</td>\n      <td>...</td>\n      <td>...</td>\n      <td>...</td>\n      <td>...</td>\n      <td>...</td>\n      <td>...</td>\n      <td>...</td>\n      <td>...</td>\n      <td>...</td>\n      <td>...</td>\n      <td>...</td>\n      <td>...</td>\n      <td>...</td>\n      <td>...</td>\n      <td>...</td>\n      <td>...</td>\n      <td>...</td>\n    </tr>\n    <tr>\n      <th>45206</th>\n      <td>NaN</td>\n      <td>NaN</td>\n      <td>NaN</td>\n      <td>NaN</td>\n      <td>NaN</td>\n      <td>NaN</td>\n      <td>0.0</td>\n      <td>0.0</td>\n      <td>0.0</td>\n      <td>1.0</td>\n      <td>...</td>\n      <td>0.0</td>\n      <td>1.0</td>\n      <td>0.0</td>\n      <td>0.0</td>\n      <td>0.0</td>\n      <td>0.0</td>\n      <td>1.0</td>\n      <td>0.0</td>\n      <td>0.0</td>\n      <td>1.0</td>\n    </tr>\n    <tr>\n      <th>45207</th>\n      <td>NaN</td>\n      <td>NaN</td>\n      <td>NaN</td>\n      <td>NaN</td>\n      <td>NaN</td>\n      <td>NaN</td>\n      <td>0.0</td>\n      <td>0.0</td>\n      <td>0.0</td>\n      <td>1.0</td>\n      <td>...</td>\n      <td>0.0</td>\n      <td>1.0</td>\n      <td>0.0</td>\n      <td>0.0</td>\n      <td>0.0</td>\n      <td>0.0</td>\n      <td>1.0</td>\n      <td>0.0</td>\n      <td>0.0</td>\n      <td>1.0</td>\n    </tr>\n    <tr>\n      <th>45208</th>\n      <td>NaN</td>\n      <td>NaN</td>\n      <td>NaN</td>\n      <td>NaN</td>\n      <td>NaN</td>\n      <td>NaN</td>\n      <td>0.0</td>\n      <td>0.0</td>\n      <td>0.0</td>\n      <td>1.0</td>\n      <td>...</td>\n      <td>0.0</td>\n      <td>1.0</td>\n      <td>0.0</td>\n      <td>0.0</td>\n      <td>0.0</td>\n      <td>0.0</td>\n      <td>1.0</td>\n      <td>0.0</td>\n      <td>0.0</td>\n      <td>1.0</td>\n    </tr>\n    <tr>\n      <th>45209</th>\n      <td>17.0</td>\n      <td>508.0</td>\n      <td>4.0</td>\n      <td>-1.0</td>\n      <td>0.0</td>\n      <td>45209.0</td>\n      <td>0.0</td>\n      <td>1.0</td>\n      <td>0.0</td>\n      <td>0.0</td>\n      <td>...</td>\n      <td>0.0</td>\n      <td>0.0</td>\n      <td>0.0</td>\n      <td>0.0</td>\n      <td>0.0</td>\n      <td>1.0</td>\n      <td>0.0</td>\n      <td>1.0</td>\n      <td>0.0</td>\n      <td>0.0</td>\n    </tr>\n    <tr>\n      <th>45210</th>\n      <td>17.0</td>\n      <td>361.0</td>\n      <td>2.0</td>\n      <td>188.0</td>\n      <td>11.0</td>\n      <td>45210.0</td>\n      <td>1.0</td>\n      <td>0.0</td>\n      <td>0.0</td>\n      <td>0.0</td>\n      <td>...</td>\n      <td>0.0</td>\n      <td>0.0</td>\n      <td>0.0</td>\n      <td>1.0</td>\n      <td>0.0</td>\n      <td>0.0</td>\n      <td>0.0</td>\n      <td>1.0</td>\n      <td>0.0</td>\n      <td>0.0</td>\n    </tr>\n  </tbody>\n</table>\n<p>45211 rows × 31 columns</p>\n</div>"
     },
     "execution_count": 55,
     "metadata": {},
     "output_type": "execute_result"
    }
   ],
   "source": [
    "oneHot(incomplete_data)"
   ],
   "metadata": {
    "collapsed": false,
    "pycharm": {
     "name": "#%%\n"
    }
   }
  },
  {
   "cell_type": "code",
   "execution_count": 58,
   "outputs": [
    {
     "data": {
      "text/plain": "   contact_cellular  contact_telephone  contact_unknown  month_apr  month_aug  \\\n0             False              False             True      False      False   \n1             False              False             True      False      False   \n2             False              False            False      False      False   \n3             False              False            False      False      False   \n4             False              False            False      False      False   \n\n   month_dec  month_feb  month_jan  month_jul  month_jun  ...  month_may  \\\n0      False      False      False      False      False  ...       True   \n1      False      False      False      False      False  ...       True   \n2      False      False      False      False      False  ...      False   \n3      False      False      False      False      False  ...      False   \n4      False      False      False      False      False  ...      False   \n\n   month_nov  month_oct  month_sep  poutcome_failure  poutcome_other  \\\n0      False      False      False             False           False   \n1      False      False      False             False           False   \n2      False      False      False             False           False   \n3      False      False      False             False           False   \n4      False      False      False             False           False   \n\n   poutcome_success  poutcome_unknown   y_no  y_yes  \n0             False              True   True  False  \n1             False              True   True  False  \n2             False             False  False  False  \n3             False             False  False  False  \n4             False             False  False  False  \n\n[5 rows x 21 columns]",
      "text/html": "<div>\n<style scoped>\n    .dataframe tbody tr th:only-of-type {\n        vertical-align: middle;\n    }\n\n    .dataframe tbody tr th {\n        vertical-align: top;\n    }\n\n    .dataframe thead th {\n        text-align: right;\n    }\n</style>\n<table border=\"1\" class=\"dataframe\">\n  <thead>\n    <tr style=\"text-align: right;\">\n      <th></th>\n      <th>contact_cellular</th>\n      <th>contact_telephone</th>\n      <th>contact_unknown</th>\n      <th>month_apr</th>\n      <th>month_aug</th>\n      <th>month_dec</th>\n      <th>month_feb</th>\n      <th>month_jan</th>\n      <th>month_jul</th>\n      <th>month_jun</th>\n      <th>...</th>\n      <th>month_may</th>\n      <th>month_nov</th>\n      <th>month_oct</th>\n      <th>month_sep</th>\n      <th>poutcome_failure</th>\n      <th>poutcome_other</th>\n      <th>poutcome_success</th>\n      <th>poutcome_unknown</th>\n      <th>y_no</th>\n      <th>y_yes</th>\n    </tr>\n  </thead>\n  <tbody>\n    <tr>\n      <th>0</th>\n      <td>False</td>\n      <td>False</td>\n      <td>True</td>\n      <td>False</td>\n      <td>False</td>\n      <td>False</td>\n      <td>False</td>\n      <td>False</td>\n      <td>False</td>\n      <td>False</td>\n      <td>...</td>\n      <td>True</td>\n      <td>False</td>\n      <td>False</td>\n      <td>False</td>\n      <td>False</td>\n      <td>False</td>\n      <td>False</td>\n      <td>True</td>\n      <td>True</td>\n      <td>False</td>\n    </tr>\n    <tr>\n      <th>1</th>\n      <td>False</td>\n      <td>False</td>\n      <td>True</td>\n      <td>False</td>\n      <td>False</td>\n      <td>False</td>\n      <td>False</td>\n      <td>False</td>\n      <td>False</td>\n      <td>False</td>\n      <td>...</td>\n      <td>True</td>\n      <td>False</td>\n      <td>False</td>\n      <td>False</td>\n      <td>False</td>\n      <td>False</td>\n      <td>False</td>\n      <td>True</td>\n      <td>True</td>\n      <td>False</td>\n    </tr>\n    <tr>\n      <th>2</th>\n      <td>False</td>\n      <td>False</td>\n      <td>False</td>\n      <td>False</td>\n      <td>False</td>\n      <td>False</td>\n      <td>False</td>\n      <td>False</td>\n      <td>False</td>\n      <td>False</td>\n      <td>...</td>\n      <td>False</td>\n      <td>False</td>\n      <td>False</td>\n      <td>False</td>\n      <td>False</td>\n      <td>False</td>\n      <td>False</td>\n      <td>False</td>\n      <td>False</td>\n      <td>False</td>\n    </tr>\n    <tr>\n      <th>3</th>\n      <td>False</td>\n      <td>False</td>\n      <td>False</td>\n      <td>False</td>\n      <td>False</td>\n      <td>False</td>\n      <td>False</td>\n      <td>False</td>\n      <td>False</td>\n      <td>False</td>\n      <td>...</td>\n      <td>False</td>\n      <td>False</td>\n      <td>False</td>\n      <td>False</td>\n      <td>False</td>\n      <td>False</td>\n      <td>False</td>\n      <td>False</td>\n      <td>False</td>\n      <td>False</td>\n    </tr>\n    <tr>\n      <th>4</th>\n      <td>False</td>\n      <td>False</td>\n      <td>False</td>\n      <td>False</td>\n      <td>False</td>\n      <td>False</td>\n      <td>False</td>\n      <td>False</td>\n      <td>False</td>\n      <td>False</td>\n      <td>...</td>\n      <td>False</td>\n      <td>False</td>\n      <td>False</td>\n      <td>False</td>\n      <td>False</td>\n      <td>False</td>\n      <td>False</td>\n      <td>False</td>\n      <td>False</td>\n      <td>False</td>\n    </tr>\n  </tbody>\n</table>\n<p>5 rows × 21 columns</p>\n</div>"
     },
     "execution_count": 58,
     "metadata": {},
     "output_type": "execute_result"
    }
   ],
   "source": [
    "categorical=incomplete_data.select_dtypes(include=['object'])\n",
    "# 然后，我们进行one-hot编码，并忽略'NaN'值\n",
    "df_encoded = pd.get_dummies(categorical, dummy_na=False)\n",
    "df_encoded.head()"
   ],
   "metadata": {
    "collapsed": false,
    "pycharm": {
     "name": "#%%\n"
    }
   }
  },
  {
   "cell_type": "code",
   "execution_count": null,
   "outputs": [],
   "source": [],
   "metadata": {
    "collapsed": false,
    "pycharm": {
     "name": "#%%\n"
    }
   }
  },
  {
   "cell_type": "code",
   "execution_count": null,
   "outputs": [],
   "source": [
    "data=incomplete_data\n",
    "# 分离出连续列和分类列\n",
    "categorical=data.select_dtypes(include=['object'])\n",
    "# 选择除分类列之外的所有列\n",
    "numerical=data.select_dtypes(exclude=['object'])\n",
    "# 创建一个OneHotEncoder()对象\n",
    "encoder=OneHotEncoder()\n",
    "    #转换数据框为NumPy数组并进行特征编码\n",
    "    df_categorical_encoded=encoder.fit_transform(categorical.values)\n",
    "    # 转换为数据框\n",
    "    df_categorical_encoded=pd.DataFrame(df_categorical_encoded.toarray(),columns=encoder.get_feature_names_out())\n",
    "    df_final_encoded=pd.concat([numerical,df_categorical_encoded],axis=1)\n",
    "    return df_final_encoded\n",
    "\n",
    "# 假设df是你的数据框，'column'是你要编码的列\n",
    "# 首先，我们将NaN值填充为一个特殊的值\n",
    "df['column'] = df['column'].fillna('NaN')\n",
    "\n",
    "# 然后，我们进行one-hot编码，并忽略'NaN'值\n",
    "df_encoded = pd.get_dummies(df, dummy_na=False)\n",
    "\n",
    "# 最后，我们将'NaN'值转回为真正的NaN值\n",
    "df_encoded.replace({'column_NaN': {1: pd.NA}}, inplace=True)"
   ],
   "metadata": {
    "collapsed": false,
    "pycharm": {
     "name": "#%%\n"
    }
   }
  },
  {
   "cell_type": "code",
   "execution_count": 2,
   "outputs": [
    {
     "name": "stderr",
     "output_type": "stream",
     "text": [
      "E:\\neural_network\\VF-GAN\\util\\data_loader.py:47: UserWarning: you are shuffling a 'DataFrame' object which is not a subclass of 'Sequence'; `shuffle` is not guaranteed to behave correctly. E.g., non-numpy array/tensor objects with view semantics may contain duplicates after shuffling.\n",
      "  np.random.shuffle(incomplete_data)\n"
     ]
    },
    {
     "ename": "KeyError",
     "evalue": "5721",
     "output_type": "error",
     "traceback": [
      "\u001B[1;31m---------------------------------------------------------------------------\u001B[0m",
      "\u001B[1;31mKeyError\u001B[0m                                  Traceback (most recent call last)",
      "File \u001B[1;32mD:\\Anaconda\\anaconda\\envs\\neural_network\\lib\\site-packages\\pandas\\core\\indexes\\base.py:3653\u001B[0m, in \u001B[0;36mIndex.get_loc\u001B[1;34m(self, key)\u001B[0m\n\u001B[0;32m   3652\u001B[0m \u001B[38;5;28;01mtry\u001B[39;00m:\n\u001B[1;32m-> 3653\u001B[0m     \u001B[38;5;28;01mreturn\u001B[39;00m \u001B[38;5;28;43mself\u001B[39;49m\u001B[38;5;241;43m.\u001B[39;49m\u001B[43m_engine\u001B[49m\u001B[38;5;241;43m.\u001B[39;49m\u001B[43mget_loc\u001B[49m\u001B[43m(\u001B[49m\u001B[43mcasted_key\u001B[49m\u001B[43m)\u001B[49m\n\u001B[0;32m   3654\u001B[0m \u001B[38;5;28;01mexcept\u001B[39;00m \u001B[38;5;167;01mKeyError\u001B[39;00m \u001B[38;5;28;01mas\u001B[39;00m err:\n",
      "File \u001B[1;32mD:\\Anaconda\\anaconda\\envs\\neural_network\\lib\\site-packages\\pandas\\_libs\\index.pyx:147\u001B[0m, in \u001B[0;36mpandas._libs.index.IndexEngine.get_loc\u001B[1;34m()\u001B[0m\n",
      "File \u001B[1;32mD:\\Anaconda\\anaconda\\envs\\neural_network\\lib\\site-packages\\pandas\\_libs\\index.pyx:176\u001B[0m, in \u001B[0;36mpandas._libs.index.IndexEngine.get_loc\u001B[1;34m()\u001B[0m\n",
      "File \u001B[1;32mpandas\\_libs\\hashtable_class_helper.pxi:7080\u001B[0m, in \u001B[0;36mpandas._libs.hashtable.PyObjectHashTable.get_item\u001B[1;34m()\u001B[0m\n",
      "File \u001B[1;32mpandas\\_libs\\hashtable_class_helper.pxi:7088\u001B[0m, in \u001B[0;36mpandas._libs.hashtable.PyObjectHashTable.get_item\u001B[1;34m()\u001B[0m\n",
      "\u001B[1;31mKeyError\u001B[0m: 5721",
      "\nThe above exception was the direct cause of the following exception:\n",
      "\u001B[1;31mKeyError\u001B[0m                                  Traceback (most recent call last)",
      "Cell \u001B[1;32mIn[2], line 2\u001B[0m\n\u001B[0;32m      1\u001B[0m data_name \u001B[38;5;241m=\u001B[39m \u001B[38;5;124m'\u001B[39m\u001B[38;5;124mbank_data_B\u001B[39m\u001B[38;5;124m'\u001B[39m\n\u001B[1;32m----> 2\u001B[0m complete_data,incomplete_data\u001B[38;5;241m=\u001B[39m\u001B[43mdata_loader2\u001B[49m\u001B[43m(\u001B[49m\u001B[43mdata_name\u001B[49m\u001B[43m,\u001B[49m\u001B[38;5;241;43m0.2\u001B[39;49m\u001B[43m)\u001B[49m\n",
      "File \u001B[1;32mE:\\neural_network\\VF-GAN\\util\\data_loader.py:47\u001B[0m, in \u001B[0;36mdata_loader2\u001B[1;34m(data_name, miss_rate)\u001B[0m\n\u001B[0;32m     45\u001B[0m incomplete_data \u001B[38;5;241m=\u001B[39m complete_data\u001B[38;5;241m.\u001B[39mdrop(complete_data\u001B[38;5;241m.\u001B[39msample(n)\u001B[38;5;241m.\u001B[39mindex)\n\u001B[0;32m     46\u001B[0m \u001B[38;5;66;03m# incomplete_data = complete_data.drop(complete_data.sample(n).index)\u001B[39;00m\n\u001B[1;32m---> 47\u001B[0m \u001B[43mnp\u001B[49m\u001B[38;5;241;43m.\u001B[39;49m\u001B[43mrandom\u001B[49m\u001B[38;5;241;43m.\u001B[39;49m\u001B[43mshuffle\u001B[49m\u001B[43m(\u001B[49m\u001B[43mincomplete_data\u001B[49m\u001B[43m)\u001B[49m\n\u001B[0;32m     49\u001B[0m \u001B[38;5;28;01mreturn\u001B[39;00m complete_data, incomplete_data\n",
      "File \u001B[1;32mmtrand.pyx:4570\u001B[0m, in \u001B[0;36mnumpy.random.mtrand.RandomState.shuffle\u001B[1;34m()\u001B[0m\n",
      "File \u001B[1;32mmtrand.pyx:4573\u001B[0m, in \u001B[0;36mnumpy.random.mtrand.RandomState.shuffle\u001B[1;34m()\u001B[0m\n",
      "File \u001B[1;32mD:\\Anaconda\\anaconda\\envs\\neural_network\\lib\\site-packages\\pandas\\core\\frame.py:3761\u001B[0m, in \u001B[0;36mDataFrame.__getitem__\u001B[1;34m(self, key)\u001B[0m\n\u001B[0;32m   3759\u001B[0m \u001B[38;5;28;01mif\u001B[39;00m \u001B[38;5;28mself\u001B[39m\u001B[38;5;241m.\u001B[39mcolumns\u001B[38;5;241m.\u001B[39mnlevels \u001B[38;5;241m>\u001B[39m \u001B[38;5;241m1\u001B[39m:\n\u001B[0;32m   3760\u001B[0m     \u001B[38;5;28;01mreturn\u001B[39;00m \u001B[38;5;28mself\u001B[39m\u001B[38;5;241m.\u001B[39m_getitem_multilevel(key)\n\u001B[1;32m-> 3761\u001B[0m indexer \u001B[38;5;241m=\u001B[39m \u001B[38;5;28;43mself\u001B[39;49m\u001B[38;5;241;43m.\u001B[39;49m\u001B[43mcolumns\u001B[49m\u001B[38;5;241;43m.\u001B[39;49m\u001B[43mget_loc\u001B[49m\u001B[43m(\u001B[49m\u001B[43mkey\u001B[49m\u001B[43m)\u001B[49m\n\u001B[0;32m   3762\u001B[0m \u001B[38;5;28;01mif\u001B[39;00m is_integer(indexer):\n\u001B[0;32m   3763\u001B[0m     indexer \u001B[38;5;241m=\u001B[39m [indexer]\n",
      "File \u001B[1;32mD:\\Anaconda\\anaconda\\envs\\neural_network\\lib\\site-packages\\pandas\\core\\indexes\\base.py:3655\u001B[0m, in \u001B[0;36mIndex.get_loc\u001B[1;34m(self, key)\u001B[0m\n\u001B[0;32m   3653\u001B[0m     \u001B[38;5;28;01mreturn\u001B[39;00m \u001B[38;5;28mself\u001B[39m\u001B[38;5;241m.\u001B[39m_engine\u001B[38;5;241m.\u001B[39mget_loc(casted_key)\n\u001B[0;32m   3654\u001B[0m \u001B[38;5;28;01mexcept\u001B[39;00m \u001B[38;5;167;01mKeyError\u001B[39;00m \u001B[38;5;28;01mas\u001B[39;00m err:\n\u001B[1;32m-> 3655\u001B[0m     \u001B[38;5;28;01mraise\u001B[39;00m \u001B[38;5;167;01mKeyError\u001B[39;00m(key) \u001B[38;5;28;01mfrom\u001B[39;00m \u001B[38;5;21;01merr\u001B[39;00m\n\u001B[0;32m   3656\u001B[0m \u001B[38;5;28;01mexcept\u001B[39;00m \u001B[38;5;167;01mTypeError\u001B[39;00m:\n\u001B[0;32m   3657\u001B[0m     \u001B[38;5;66;03m# If we have a listlike key, _check_indexing_error will raise\u001B[39;00m\n\u001B[0;32m   3658\u001B[0m     \u001B[38;5;66;03m#  InvalidIndexError. Otherwise we fall through and re-raise\u001B[39;00m\n\u001B[0;32m   3659\u001B[0m     \u001B[38;5;66;03m#  the TypeError.\u001B[39;00m\n\u001B[0;32m   3660\u001B[0m     \u001B[38;5;28mself\u001B[39m\u001B[38;5;241m.\u001B[39m_check_indexing_error(key)\n",
      "\u001B[1;31mKeyError\u001B[0m: 5721"
     ]
    }
   ],
   "source": [
    "data_name = 'bank_data_B'\n",
    "complete_data,incomplete_data=data_loader2(data_name,0.2)"
   ],
   "metadata": {
    "collapsed": false,
    "pycharm": {
     "name": "#%%\n"
    }
   }
  },
  {
   "cell_type": "code",
   "execution_count": 3,
   "outputs": [],
   "source": [
    "def data_loader2(data_name, miss_rate):\n",
    "    file_name = '../datasetsAB/' + data_name + '.csv'\n",
    "    complete_data = pd.read_csv(file_name, sep=',')\n",
    "    no, dim = complete_data.shape\n",
    "    n = round(no * (1 - miss_rate))  # 根据缺失率得到舍弃的行数\n",
    "    # 随机将行数丢弃\n",
    "    incomplete_data = complete_data.drop(complete_data.sample(n).index)\n",
    "    # incomplete_data = complete_data.drop(complete_data.sample(n).index)\n",
    "    np.random.shuffle(incomplete_data)\n",
    "\n",
    "    return complete_data, incomplete_data"
   ],
   "metadata": {
    "collapsed": false,
    "pycharm": {
     "name": "#%%\n"
    }
   }
  },
  {
   "cell_type": "code",
   "execution_count": 6,
   "outputs": [
    {
     "data": {
      "text/plain": "   contact  day month  duration  campaign  pdays  previous poutcome   y  index\n0  unknown    5   may       261         1     -1         0  unknown  no      0\n1  unknown    5   may       151         1     -1         0  unknown  no      1\n2  unknown    5   may        76         1     -1         0  unknown  no      2\n3  unknown    5   may        92         1     -1         0  unknown  no      3\n4  unknown    5   may       198         1     -1         0  unknown  no      4\n5  unknown    5   may       139         1     -1         0  unknown  no      5\n6  unknown    5   may       217         1     -1         0  unknown  no      6\n7  unknown    5   may       380         1     -1         0  unknown  no      7\n8  unknown    5   may        50         1     -1         0  unknown  no      8\n9  unknown    5   may        55         1     -1         0  unknown  no      9",
      "text/html": "<div>\n<style scoped>\n    .dataframe tbody tr th:only-of-type {\n        vertical-align: middle;\n    }\n\n    .dataframe tbody tr th {\n        vertical-align: top;\n    }\n\n    .dataframe thead th {\n        text-align: right;\n    }\n</style>\n<table border=\"1\" class=\"dataframe\">\n  <thead>\n    <tr style=\"text-align: right;\">\n      <th></th>\n      <th>contact</th>\n      <th>day</th>\n      <th>month</th>\n      <th>duration</th>\n      <th>campaign</th>\n      <th>pdays</th>\n      <th>previous</th>\n      <th>poutcome</th>\n      <th>y</th>\n      <th>index</th>\n    </tr>\n  </thead>\n  <tbody>\n    <tr>\n      <th>0</th>\n      <td>unknown</td>\n      <td>5</td>\n      <td>may</td>\n      <td>261</td>\n      <td>1</td>\n      <td>-1</td>\n      <td>0</td>\n      <td>unknown</td>\n      <td>no</td>\n      <td>0</td>\n    </tr>\n    <tr>\n      <th>1</th>\n      <td>unknown</td>\n      <td>5</td>\n      <td>may</td>\n      <td>151</td>\n      <td>1</td>\n      <td>-1</td>\n      <td>0</td>\n      <td>unknown</td>\n      <td>no</td>\n      <td>1</td>\n    </tr>\n    <tr>\n      <th>2</th>\n      <td>unknown</td>\n      <td>5</td>\n      <td>may</td>\n      <td>76</td>\n      <td>1</td>\n      <td>-1</td>\n      <td>0</td>\n      <td>unknown</td>\n      <td>no</td>\n      <td>2</td>\n    </tr>\n    <tr>\n      <th>3</th>\n      <td>unknown</td>\n      <td>5</td>\n      <td>may</td>\n      <td>92</td>\n      <td>1</td>\n      <td>-1</td>\n      <td>0</td>\n      <td>unknown</td>\n      <td>no</td>\n      <td>3</td>\n    </tr>\n    <tr>\n      <th>4</th>\n      <td>unknown</td>\n      <td>5</td>\n      <td>may</td>\n      <td>198</td>\n      <td>1</td>\n      <td>-1</td>\n      <td>0</td>\n      <td>unknown</td>\n      <td>no</td>\n      <td>4</td>\n    </tr>\n    <tr>\n      <th>5</th>\n      <td>unknown</td>\n      <td>5</td>\n      <td>may</td>\n      <td>139</td>\n      <td>1</td>\n      <td>-1</td>\n      <td>0</td>\n      <td>unknown</td>\n      <td>no</td>\n      <td>5</td>\n    </tr>\n    <tr>\n      <th>6</th>\n      <td>unknown</td>\n      <td>5</td>\n      <td>may</td>\n      <td>217</td>\n      <td>1</td>\n      <td>-1</td>\n      <td>0</td>\n      <td>unknown</td>\n      <td>no</td>\n      <td>6</td>\n    </tr>\n    <tr>\n      <th>7</th>\n      <td>unknown</td>\n      <td>5</td>\n      <td>may</td>\n      <td>380</td>\n      <td>1</td>\n      <td>-1</td>\n      <td>0</td>\n      <td>unknown</td>\n      <td>no</td>\n      <td>7</td>\n    </tr>\n    <tr>\n      <th>8</th>\n      <td>unknown</td>\n      <td>5</td>\n      <td>may</td>\n      <td>50</td>\n      <td>1</td>\n      <td>-1</td>\n      <td>0</td>\n      <td>unknown</td>\n      <td>no</td>\n      <td>8</td>\n    </tr>\n    <tr>\n      <th>9</th>\n      <td>unknown</td>\n      <td>5</td>\n      <td>may</td>\n      <td>55</td>\n      <td>1</td>\n      <td>-1</td>\n      <td>0</td>\n      <td>unknown</td>\n      <td>no</td>\n      <td>9</td>\n    </tr>\n  </tbody>\n</table>\n</div>"
     },
     "execution_count": 6,
     "metadata": {},
     "output_type": "execute_result"
    }
   ],
   "source": [
    "complete_data.head(10)"
   ],
   "metadata": {
    "collapsed": false,
    "pycharm": {
     "name": "#%%\n"
    }
   }
  },
  {
   "cell_type": "code",
   "execution_count": 7,
   "outputs": [
    {
     "data": {
      "text/plain": "   contact  day month  duration  campaign  pdays  previous poutcome    y  \\\n0      NaN  NaN   NaN       NaN       NaN    NaN       NaN      NaN  NaN   \n1      NaN  NaN   NaN       NaN       NaN    NaN       NaN      NaN  NaN   \n2      NaN  NaN   NaN       NaN       NaN    NaN       NaN      NaN  NaN   \n3  unknown  5.0   may      92.0       1.0   -1.0       0.0  unknown   no   \n4      NaN  NaN   NaN       NaN       NaN    NaN       NaN      NaN  NaN   \n5      NaN  NaN   NaN       NaN       NaN    NaN       NaN      NaN  NaN   \n6      NaN  NaN   NaN       NaN       NaN    NaN       NaN      NaN  NaN   \n7      NaN  NaN   NaN       NaN       NaN    NaN       NaN      NaN  NaN   \n8      NaN  NaN   NaN       NaN       NaN    NaN       NaN      NaN  NaN   \n9      NaN  NaN   NaN       NaN       NaN    NaN       NaN      NaN  NaN   \n\n   index  \n0    NaN  \n1    NaN  \n2    NaN  \n3    3.0  \n4    NaN  \n5    NaN  \n6    NaN  \n7    NaN  \n8    NaN  \n9    NaN  ",
      "text/html": "<div>\n<style scoped>\n    .dataframe tbody tr th:only-of-type {\n        vertical-align: middle;\n    }\n\n    .dataframe tbody tr th {\n        vertical-align: top;\n    }\n\n    .dataframe thead th {\n        text-align: right;\n    }\n</style>\n<table border=\"1\" class=\"dataframe\">\n  <thead>\n    <tr style=\"text-align: right;\">\n      <th></th>\n      <th>contact</th>\n      <th>day</th>\n      <th>month</th>\n      <th>duration</th>\n      <th>campaign</th>\n      <th>pdays</th>\n      <th>previous</th>\n      <th>poutcome</th>\n      <th>y</th>\n      <th>index</th>\n    </tr>\n  </thead>\n  <tbody>\n    <tr>\n      <th>0</th>\n      <td>NaN</td>\n      <td>NaN</td>\n      <td>NaN</td>\n      <td>NaN</td>\n      <td>NaN</td>\n      <td>NaN</td>\n      <td>NaN</td>\n      <td>NaN</td>\n      <td>NaN</td>\n      <td>NaN</td>\n    </tr>\n    <tr>\n      <th>1</th>\n      <td>NaN</td>\n      <td>NaN</td>\n      <td>NaN</td>\n      <td>NaN</td>\n      <td>NaN</td>\n      <td>NaN</td>\n      <td>NaN</td>\n      <td>NaN</td>\n      <td>NaN</td>\n      <td>NaN</td>\n    </tr>\n    <tr>\n      <th>2</th>\n      <td>NaN</td>\n      <td>NaN</td>\n      <td>NaN</td>\n      <td>NaN</td>\n      <td>NaN</td>\n      <td>NaN</td>\n      <td>NaN</td>\n      <td>NaN</td>\n      <td>NaN</td>\n      <td>NaN</td>\n    </tr>\n    <tr>\n      <th>3</th>\n      <td>unknown</td>\n      <td>5.0</td>\n      <td>may</td>\n      <td>92.0</td>\n      <td>1.0</td>\n      <td>-1.0</td>\n      <td>0.0</td>\n      <td>unknown</td>\n      <td>no</td>\n      <td>3.0</td>\n    </tr>\n    <tr>\n      <th>4</th>\n      <td>NaN</td>\n      <td>NaN</td>\n      <td>NaN</td>\n      <td>NaN</td>\n      <td>NaN</td>\n      <td>NaN</td>\n      <td>NaN</td>\n      <td>NaN</td>\n      <td>NaN</td>\n      <td>NaN</td>\n    </tr>\n    <tr>\n      <th>5</th>\n      <td>NaN</td>\n      <td>NaN</td>\n      <td>NaN</td>\n      <td>NaN</td>\n      <td>NaN</td>\n      <td>NaN</td>\n      <td>NaN</td>\n      <td>NaN</td>\n      <td>NaN</td>\n      <td>NaN</td>\n    </tr>\n    <tr>\n      <th>6</th>\n      <td>NaN</td>\n      <td>NaN</td>\n      <td>NaN</td>\n      <td>NaN</td>\n      <td>NaN</td>\n      <td>NaN</td>\n      <td>NaN</td>\n      <td>NaN</td>\n      <td>NaN</td>\n      <td>NaN</td>\n    </tr>\n    <tr>\n      <th>7</th>\n      <td>NaN</td>\n      <td>NaN</td>\n      <td>NaN</td>\n      <td>NaN</td>\n      <td>NaN</td>\n      <td>NaN</td>\n      <td>NaN</td>\n      <td>NaN</td>\n      <td>NaN</td>\n      <td>NaN</td>\n    </tr>\n    <tr>\n      <th>8</th>\n      <td>NaN</td>\n      <td>NaN</td>\n      <td>NaN</td>\n      <td>NaN</td>\n      <td>NaN</td>\n      <td>NaN</td>\n      <td>NaN</td>\n      <td>NaN</td>\n      <td>NaN</td>\n      <td>NaN</td>\n    </tr>\n    <tr>\n      <th>9</th>\n      <td>NaN</td>\n      <td>NaN</td>\n      <td>NaN</td>\n      <td>NaN</td>\n      <td>NaN</td>\n      <td>NaN</td>\n      <td>NaN</td>\n      <td>NaN</td>\n      <td>NaN</td>\n      <td>NaN</td>\n    </tr>\n  </tbody>\n</table>\n</div>"
     },
     "execution_count": 7,
     "metadata": {},
     "output_type": "execute_result"
    }
   ],
   "source": [
    "incomplete_data.head(10)"
   ],
   "metadata": {
    "collapsed": false,
    "pycharm": {
     "name": "#%%\n"
    }
   }
  },
  {
   "cell_type": "code",
   "execution_count": 9,
   "outputs": [],
   "source": [
    "no, dim = complete_data.shape\n",
    "n = round(no * (1 - 0.2))  # 根据缺失率得到舍弃的行数"
   ],
   "metadata": {
    "collapsed": false,
    "pycharm": {
     "name": "#%%\n"
    }
   }
  },
  {
   "cell_type": "code",
   "execution_count": 10,
   "outputs": [],
   "source": [
    "# 随机将行数丢弃\n",
    "incomplete_data = complete_data.drop(complete_data.sample(n).index)"
   ],
   "metadata": {
    "collapsed": false,
    "pycharm": {
     "name": "#%%\n"
    }
   }
  },
  {
   "cell_type": "code",
   "execution_count": 12,
   "outputs": [
    {
     "data": {
      "text/plain": "    contact  day month  duration  campaign  pdays  previous poutcome   y  \\\n5   unknown    5   may       139         1     -1         0  unknown  no   \n8   unknown    5   may        50         1     -1         0  unknown  no   \n10  unknown    5   may       222         1     -1         0  unknown  no   \n17  unknown    5   may        38         1     -1         0  unknown  no   \n22  unknown    5   may       160         1     -1         0  unknown  no   \n24  unknown    5   may       181         1     -1         0  unknown  no   \n31  unknown    5   may       230         1     -1         0  unknown  no   \n37  unknown    5   may      1666         1     -1         0  unknown  no   \n40  unknown    5   may       160         1     -1         0  unknown  no   \n51  unknown    5   may       253         1     -1         0  unknown  no   \n\n    index  \n5       5  \n8       8  \n10     10  \n17     17  \n22     22  \n24     24  \n31     31  \n37     37  \n40     40  \n51     51  ",
      "text/html": "<div>\n<style scoped>\n    .dataframe tbody tr th:only-of-type {\n        vertical-align: middle;\n    }\n\n    .dataframe tbody tr th {\n        vertical-align: top;\n    }\n\n    .dataframe thead th {\n        text-align: right;\n    }\n</style>\n<table border=\"1\" class=\"dataframe\">\n  <thead>\n    <tr style=\"text-align: right;\">\n      <th></th>\n      <th>contact</th>\n      <th>day</th>\n      <th>month</th>\n      <th>duration</th>\n      <th>campaign</th>\n      <th>pdays</th>\n      <th>previous</th>\n      <th>poutcome</th>\n      <th>y</th>\n      <th>index</th>\n    </tr>\n  </thead>\n  <tbody>\n    <tr>\n      <th>5</th>\n      <td>unknown</td>\n      <td>5</td>\n      <td>may</td>\n      <td>139</td>\n      <td>1</td>\n      <td>-1</td>\n      <td>0</td>\n      <td>unknown</td>\n      <td>no</td>\n      <td>5</td>\n    </tr>\n    <tr>\n      <th>8</th>\n      <td>unknown</td>\n      <td>5</td>\n      <td>may</td>\n      <td>50</td>\n      <td>1</td>\n      <td>-1</td>\n      <td>0</td>\n      <td>unknown</td>\n      <td>no</td>\n      <td>8</td>\n    </tr>\n    <tr>\n      <th>10</th>\n      <td>unknown</td>\n      <td>5</td>\n      <td>may</td>\n      <td>222</td>\n      <td>1</td>\n      <td>-1</td>\n      <td>0</td>\n      <td>unknown</td>\n      <td>no</td>\n      <td>10</td>\n    </tr>\n    <tr>\n      <th>17</th>\n      <td>unknown</td>\n      <td>5</td>\n      <td>may</td>\n      <td>38</td>\n      <td>1</td>\n      <td>-1</td>\n      <td>0</td>\n      <td>unknown</td>\n      <td>no</td>\n      <td>17</td>\n    </tr>\n    <tr>\n      <th>22</th>\n      <td>unknown</td>\n      <td>5</td>\n      <td>may</td>\n      <td>160</td>\n      <td>1</td>\n      <td>-1</td>\n      <td>0</td>\n      <td>unknown</td>\n      <td>no</td>\n      <td>22</td>\n    </tr>\n    <tr>\n      <th>24</th>\n      <td>unknown</td>\n      <td>5</td>\n      <td>may</td>\n      <td>181</td>\n      <td>1</td>\n      <td>-1</td>\n      <td>0</td>\n      <td>unknown</td>\n      <td>no</td>\n      <td>24</td>\n    </tr>\n    <tr>\n      <th>31</th>\n      <td>unknown</td>\n      <td>5</td>\n      <td>may</td>\n      <td>230</td>\n      <td>1</td>\n      <td>-1</td>\n      <td>0</td>\n      <td>unknown</td>\n      <td>no</td>\n      <td>31</td>\n    </tr>\n    <tr>\n      <th>37</th>\n      <td>unknown</td>\n      <td>5</td>\n      <td>may</td>\n      <td>1666</td>\n      <td>1</td>\n      <td>-1</td>\n      <td>0</td>\n      <td>unknown</td>\n      <td>no</td>\n      <td>37</td>\n    </tr>\n    <tr>\n      <th>40</th>\n      <td>unknown</td>\n      <td>5</td>\n      <td>may</td>\n      <td>160</td>\n      <td>1</td>\n      <td>-1</td>\n      <td>0</td>\n      <td>unknown</td>\n      <td>no</td>\n      <td>40</td>\n    </tr>\n    <tr>\n      <th>51</th>\n      <td>unknown</td>\n      <td>5</td>\n      <td>may</td>\n      <td>253</td>\n      <td>1</td>\n      <td>-1</td>\n      <td>0</td>\n      <td>unknown</td>\n      <td>no</td>\n      <td>51</td>\n    </tr>\n  </tbody>\n</table>\n</div>"
     },
     "execution_count": 12,
     "metadata": {},
     "output_type": "execute_result"
    }
   ],
   "source": [
    "incomplete_data.head(10)"
   ],
   "metadata": {
    "collapsed": false,
    "pycharm": {
     "name": "#%%\n"
    }
   }
  },
  {
   "cell_type": "code",
   "execution_count": 13,
   "outputs": [
    {
     "data": {
      "text/plain": "(9042, 10)"
     },
     "execution_count": 13,
     "metadata": {},
     "output_type": "execute_result"
    }
   ],
   "source": [
    "incomplete_data.shape"
   ],
   "metadata": {
    "collapsed": false,
    "pycharm": {
     "name": "#%%\n"
    }
   }
  },
  {
   "cell_type": "code",
   "execution_count": 11,
   "outputs": [
    {
     "name": "stderr",
     "output_type": "stream",
     "text": [
      "C:\\Users\\Lenovo\\AppData\\Local\\Temp\\ipykernel_27612\\3405978777.py:2: UserWarning: you are shuffling a 'DataFrame' object which is not a subclass of 'Sequence'; `shuffle` is not guaranteed to behave correctly. E.g., non-numpy array/tensor objects with view semantics may contain duplicates after shuffling.\n",
      "  np.random.shuffle(incomplete_data)\n"
     ]
    },
    {
     "ename": "KeyError",
     "evalue": "7843",
     "output_type": "error",
     "traceback": [
      "\u001B[1;31m---------------------------------------------------------------------------\u001B[0m",
      "\u001B[1;31mKeyError\u001B[0m                                  Traceback (most recent call last)",
      "File \u001B[1;32mD:\\Anaconda\\anaconda\\envs\\neural_network\\lib\\site-packages\\pandas\\core\\indexes\\base.py:3653\u001B[0m, in \u001B[0;36mIndex.get_loc\u001B[1;34m(self, key)\u001B[0m\n\u001B[0;32m   3652\u001B[0m \u001B[38;5;28;01mtry\u001B[39;00m:\n\u001B[1;32m-> 3653\u001B[0m     \u001B[38;5;28;01mreturn\u001B[39;00m \u001B[38;5;28;43mself\u001B[39;49m\u001B[38;5;241;43m.\u001B[39;49m\u001B[43m_engine\u001B[49m\u001B[38;5;241;43m.\u001B[39;49m\u001B[43mget_loc\u001B[49m\u001B[43m(\u001B[49m\u001B[43mcasted_key\u001B[49m\u001B[43m)\u001B[49m\n\u001B[0;32m   3654\u001B[0m \u001B[38;5;28;01mexcept\u001B[39;00m \u001B[38;5;167;01mKeyError\u001B[39;00m \u001B[38;5;28;01mas\u001B[39;00m err:\n",
      "File \u001B[1;32mD:\\Anaconda\\anaconda\\envs\\neural_network\\lib\\site-packages\\pandas\\_libs\\index.pyx:147\u001B[0m, in \u001B[0;36mpandas._libs.index.IndexEngine.get_loc\u001B[1;34m()\u001B[0m\n",
      "File \u001B[1;32mD:\\Anaconda\\anaconda\\envs\\neural_network\\lib\\site-packages\\pandas\\_libs\\index.pyx:176\u001B[0m, in \u001B[0;36mpandas._libs.index.IndexEngine.get_loc\u001B[1;34m()\u001B[0m\n",
      "File \u001B[1;32mpandas\\_libs\\hashtable_class_helper.pxi:7080\u001B[0m, in \u001B[0;36mpandas._libs.hashtable.PyObjectHashTable.get_item\u001B[1;34m()\u001B[0m\n",
      "File \u001B[1;32mpandas\\_libs\\hashtable_class_helper.pxi:7088\u001B[0m, in \u001B[0;36mpandas._libs.hashtable.PyObjectHashTable.get_item\u001B[1;34m()\u001B[0m\n",
      "\u001B[1;31mKeyError\u001B[0m: 7843",
      "\nThe above exception was the direct cause of the following exception:\n",
      "\u001B[1;31mKeyError\u001B[0m                                  Traceback (most recent call last)",
      "Cell \u001B[1;32mIn[11], line 2\u001B[0m\n\u001B[0;32m      1\u001B[0m \u001B[38;5;66;03m# incomplete_data = complete_data.drop(complete_data.sample(n).index)\u001B[39;00m\n\u001B[1;32m----> 2\u001B[0m \u001B[43mnp\u001B[49m\u001B[38;5;241;43m.\u001B[39;49m\u001B[43mrandom\u001B[49m\u001B[38;5;241;43m.\u001B[39;49m\u001B[43mshuffle\u001B[49m\u001B[43m(\u001B[49m\u001B[43mincomplete_data\u001B[49m\u001B[43m)\u001B[49m\n",
      "File \u001B[1;32mmtrand.pyx:4570\u001B[0m, in \u001B[0;36mnumpy.random.mtrand.RandomState.shuffle\u001B[1;34m()\u001B[0m\n",
      "File \u001B[1;32mmtrand.pyx:4573\u001B[0m, in \u001B[0;36mnumpy.random.mtrand.RandomState.shuffle\u001B[1;34m()\u001B[0m\n",
      "File \u001B[1;32mD:\\Anaconda\\anaconda\\envs\\neural_network\\lib\\site-packages\\pandas\\core\\frame.py:3761\u001B[0m, in \u001B[0;36mDataFrame.__getitem__\u001B[1;34m(self, key)\u001B[0m\n\u001B[0;32m   3759\u001B[0m \u001B[38;5;28;01mif\u001B[39;00m \u001B[38;5;28mself\u001B[39m\u001B[38;5;241m.\u001B[39mcolumns\u001B[38;5;241m.\u001B[39mnlevels \u001B[38;5;241m>\u001B[39m \u001B[38;5;241m1\u001B[39m:\n\u001B[0;32m   3760\u001B[0m     \u001B[38;5;28;01mreturn\u001B[39;00m \u001B[38;5;28mself\u001B[39m\u001B[38;5;241m.\u001B[39m_getitem_multilevel(key)\n\u001B[1;32m-> 3761\u001B[0m indexer \u001B[38;5;241m=\u001B[39m \u001B[38;5;28;43mself\u001B[39;49m\u001B[38;5;241;43m.\u001B[39;49m\u001B[43mcolumns\u001B[49m\u001B[38;5;241;43m.\u001B[39;49m\u001B[43mget_loc\u001B[49m\u001B[43m(\u001B[49m\u001B[43mkey\u001B[49m\u001B[43m)\u001B[49m\n\u001B[0;32m   3762\u001B[0m \u001B[38;5;28;01mif\u001B[39;00m is_integer(indexer):\n\u001B[0;32m   3763\u001B[0m     indexer \u001B[38;5;241m=\u001B[39m [indexer]\n",
      "File \u001B[1;32mD:\\Anaconda\\anaconda\\envs\\neural_network\\lib\\site-packages\\pandas\\core\\indexes\\base.py:3655\u001B[0m, in \u001B[0;36mIndex.get_loc\u001B[1;34m(self, key)\u001B[0m\n\u001B[0;32m   3653\u001B[0m     \u001B[38;5;28;01mreturn\u001B[39;00m \u001B[38;5;28mself\u001B[39m\u001B[38;5;241m.\u001B[39m_engine\u001B[38;5;241m.\u001B[39mget_loc(casted_key)\n\u001B[0;32m   3654\u001B[0m \u001B[38;5;28;01mexcept\u001B[39;00m \u001B[38;5;167;01mKeyError\u001B[39;00m \u001B[38;5;28;01mas\u001B[39;00m err:\n\u001B[1;32m-> 3655\u001B[0m     \u001B[38;5;28;01mraise\u001B[39;00m \u001B[38;5;167;01mKeyError\u001B[39;00m(key) \u001B[38;5;28;01mfrom\u001B[39;00m \u001B[38;5;21;01merr\u001B[39;00m\n\u001B[0;32m   3656\u001B[0m \u001B[38;5;28;01mexcept\u001B[39;00m \u001B[38;5;167;01mTypeError\u001B[39;00m:\n\u001B[0;32m   3657\u001B[0m     \u001B[38;5;66;03m# If we have a listlike key, _check_indexing_error will raise\u001B[39;00m\n\u001B[0;32m   3658\u001B[0m     \u001B[38;5;66;03m#  InvalidIndexError. Otherwise we fall through and re-raise\u001B[39;00m\n\u001B[0;32m   3659\u001B[0m     \u001B[38;5;66;03m#  the TypeError.\u001B[39;00m\n\u001B[0;32m   3660\u001B[0m     \u001B[38;5;28mself\u001B[39m\u001B[38;5;241m.\u001B[39m_check_indexing_error(key)\n",
      "\u001B[1;31mKeyError\u001B[0m: 7843"
     ]
    }
   ],
   "source": [
    "# incomplete_data = complete_data.drop(complete_data.sample(n).index)\n",
    "np.random.shuffle(incomplete_data)"
   ],
   "metadata": {
    "collapsed": false,
    "pycharm": {
     "name": "#%%\n"
    }
   }
  },
  {
   "cell_type": "code",
   "execution_count": 16,
   "outputs": [
    {
     "name": "stderr",
     "output_type": "stream",
     "text": [
      "E:\\neural_network\\VF-GAN\\util\\data_loader.py:47: UserWarning: you are shuffling a 'DataFrame' object which is not a subclass of 'Sequence'; `shuffle` is not guaranteed to behave correctly. E.g., non-numpy array/tensor objects with view semantics may contain duplicates after shuffling.\n",
      "  np.random.shuffle(incomplete_data)\n"
     ]
    },
    {
     "ename": "KeyError",
     "evalue": "8538",
     "output_type": "error",
     "traceback": [
      "\u001B[1;31m---------------------------------------------------------------------------\u001B[0m",
      "\u001B[1;31mKeyError\u001B[0m                                  Traceback (most recent call last)",
      "File \u001B[1;32mD:\\Anaconda\\anaconda\\envs\\neural_network\\lib\\site-packages\\pandas\\core\\indexes\\base.py:3653\u001B[0m, in \u001B[0;36mIndex.get_loc\u001B[1;34m(self, key)\u001B[0m\n\u001B[0;32m   3652\u001B[0m \u001B[38;5;28;01mtry\u001B[39;00m:\n\u001B[1;32m-> 3653\u001B[0m     \u001B[38;5;28;01mreturn\u001B[39;00m \u001B[38;5;28;43mself\u001B[39;49m\u001B[38;5;241;43m.\u001B[39;49m\u001B[43m_engine\u001B[49m\u001B[38;5;241;43m.\u001B[39;49m\u001B[43mget_loc\u001B[49m\u001B[43m(\u001B[49m\u001B[43mcasted_key\u001B[49m\u001B[43m)\u001B[49m\n\u001B[0;32m   3654\u001B[0m \u001B[38;5;28;01mexcept\u001B[39;00m \u001B[38;5;167;01mKeyError\u001B[39;00m \u001B[38;5;28;01mas\u001B[39;00m err:\n",
      "File \u001B[1;32mD:\\Anaconda\\anaconda\\envs\\neural_network\\lib\\site-packages\\pandas\\_libs\\index.pyx:147\u001B[0m, in \u001B[0;36mpandas._libs.index.IndexEngine.get_loc\u001B[1;34m()\u001B[0m\n",
      "File \u001B[1;32mD:\\Anaconda\\anaconda\\envs\\neural_network\\lib\\site-packages\\pandas\\_libs\\index.pyx:176\u001B[0m, in \u001B[0;36mpandas._libs.index.IndexEngine.get_loc\u001B[1;34m()\u001B[0m\n",
      "File \u001B[1;32mpandas\\_libs\\hashtable_class_helper.pxi:7080\u001B[0m, in \u001B[0;36mpandas._libs.hashtable.PyObjectHashTable.get_item\u001B[1;34m()\u001B[0m\n",
      "File \u001B[1;32mpandas\\_libs\\hashtable_class_helper.pxi:7088\u001B[0m, in \u001B[0;36mpandas._libs.hashtable.PyObjectHashTable.get_item\u001B[1;34m()\u001B[0m\n",
      "\u001B[1;31mKeyError\u001B[0m: 8538",
      "\nThe above exception was the direct cause of the following exception:\n",
      "\u001B[1;31mKeyError\u001B[0m                                  Traceback (most recent call last)",
      "Cell \u001B[1;32mIn[16], line 3\u001B[0m\n\u001B[0;32m      1\u001B[0m \u001B[38;5;28;01mfrom\u001B[39;00m \u001B[38;5;21;01mdata_loader\u001B[39;00m \u001B[38;5;28;01mimport\u001B[39;00m data_loader2\n\u001B[0;32m      2\u001B[0m data_name \u001B[38;5;241m=\u001B[39m \u001B[38;5;124m'\u001B[39m\u001B[38;5;124mbank_data_B\u001B[39m\u001B[38;5;124m'\u001B[39m\n\u001B[1;32m----> 3\u001B[0m complete_data,incomplete_data\u001B[38;5;241m=\u001B[39m\u001B[43mdata_loader2\u001B[49m\u001B[43m(\u001B[49m\u001B[43mdata_name\u001B[49m\u001B[43m,\u001B[49m\u001B[38;5;241;43m0.2\u001B[39;49m\u001B[43m)\u001B[49m\n",
      "File \u001B[1;32mE:\\neural_network\\VF-GAN\\util\\data_loader.py:47\u001B[0m, in \u001B[0;36mdata_loader2\u001B[1;34m(data_name, miss_rate)\u001B[0m\n\u001B[0;32m     45\u001B[0m incomplete_data \u001B[38;5;241m=\u001B[39m complete_data\u001B[38;5;241m.\u001B[39mdrop(complete_data\u001B[38;5;241m.\u001B[39msample(n)\u001B[38;5;241m.\u001B[39mindex)\n\u001B[0;32m     46\u001B[0m \u001B[38;5;66;03m# incomplete_data = complete_data.drop(complete_data.sample(n).index)\u001B[39;00m\n\u001B[1;32m---> 47\u001B[0m \u001B[43mnp\u001B[49m\u001B[38;5;241;43m.\u001B[39;49m\u001B[43mrandom\u001B[49m\u001B[38;5;241;43m.\u001B[39;49m\u001B[43mshuffle\u001B[49m\u001B[43m(\u001B[49m\u001B[43mincomplete_data\u001B[49m\u001B[43m)\u001B[49m\n\u001B[0;32m     49\u001B[0m \u001B[38;5;28;01mreturn\u001B[39;00m complete_data, incomplete_data\n",
      "File \u001B[1;32mmtrand.pyx:4570\u001B[0m, in \u001B[0;36mnumpy.random.mtrand.RandomState.shuffle\u001B[1;34m()\u001B[0m\n",
      "File \u001B[1;32mmtrand.pyx:4573\u001B[0m, in \u001B[0;36mnumpy.random.mtrand.RandomState.shuffle\u001B[1;34m()\u001B[0m\n",
      "File \u001B[1;32mD:\\Anaconda\\anaconda\\envs\\neural_network\\lib\\site-packages\\pandas\\core\\frame.py:3761\u001B[0m, in \u001B[0;36mDataFrame.__getitem__\u001B[1;34m(self, key)\u001B[0m\n\u001B[0;32m   3759\u001B[0m \u001B[38;5;28;01mif\u001B[39;00m \u001B[38;5;28mself\u001B[39m\u001B[38;5;241m.\u001B[39mcolumns\u001B[38;5;241m.\u001B[39mnlevels \u001B[38;5;241m>\u001B[39m \u001B[38;5;241m1\u001B[39m:\n\u001B[0;32m   3760\u001B[0m     \u001B[38;5;28;01mreturn\u001B[39;00m \u001B[38;5;28mself\u001B[39m\u001B[38;5;241m.\u001B[39m_getitem_multilevel(key)\n\u001B[1;32m-> 3761\u001B[0m indexer \u001B[38;5;241m=\u001B[39m \u001B[38;5;28;43mself\u001B[39;49m\u001B[38;5;241;43m.\u001B[39;49m\u001B[43mcolumns\u001B[49m\u001B[38;5;241;43m.\u001B[39;49m\u001B[43mget_loc\u001B[49m\u001B[43m(\u001B[49m\u001B[43mkey\u001B[49m\u001B[43m)\u001B[49m\n\u001B[0;32m   3762\u001B[0m \u001B[38;5;28;01mif\u001B[39;00m is_integer(indexer):\n\u001B[0;32m   3763\u001B[0m     indexer \u001B[38;5;241m=\u001B[39m [indexer]\n",
      "File \u001B[1;32mD:\\Anaconda\\anaconda\\envs\\neural_network\\lib\\site-packages\\pandas\\core\\indexes\\base.py:3655\u001B[0m, in \u001B[0;36mIndex.get_loc\u001B[1;34m(self, key)\u001B[0m\n\u001B[0;32m   3653\u001B[0m     \u001B[38;5;28;01mreturn\u001B[39;00m \u001B[38;5;28mself\u001B[39m\u001B[38;5;241m.\u001B[39m_engine\u001B[38;5;241m.\u001B[39mget_loc(casted_key)\n\u001B[0;32m   3654\u001B[0m \u001B[38;5;28;01mexcept\u001B[39;00m \u001B[38;5;167;01mKeyError\u001B[39;00m \u001B[38;5;28;01mas\u001B[39;00m err:\n\u001B[1;32m-> 3655\u001B[0m     \u001B[38;5;28;01mraise\u001B[39;00m \u001B[38;5;167;01mKeyError\u001B[39;00m(key) \u001B[38;5;28;01mfrom\u001B[39;00m \u001B[38;5;21;01merr\u001B[39;00m\n\u001B[0;32m   3656\u001B[0m \u001B[38;5;28;01mexcept\u001B[39;00m \u001B[38;5;167;01mTypeError\u001B[39;00m:\n\u001B[0;32m   3657\u001B[0m     \u001B[38;5;66;03m# If we have a listlike key, _check_indexing_error will raise\u001B[39;00m\n\u001B[0;32m   3658\u001B[0m     \u001B[38;5;66;03m#  InvalidIndexError. Otherwise we fall through and re-raise\u001B[39;00m\n\u001B[0;32m   3659\u001B[0m     \u001B[38;5;66;03m#  the TypeError.\u001B[39;00m\n\u001B[0;32m   3660\u001B[0m     \u001B[38;5;28mself\u001B[39m\u001B[38;5;241m.\u001B[39m_check_indexing_error(key)\n",
      "\u001B[1;31mKeyError\u001B[0m: 8538"
     ]
    }
   ],
   "source": [
    "from data_loader import data_loader2\n",
    "data_name = 'bank_data_B'\n",
    "complete_data,incomplete_data=data_loader2(data_name,0.2)"
   ],
   "metadata": {
    "collapsed": false,
    "pycharm": {
     "name": "#%%\n"
    }
   }
  },
  {
   "cell_type": "code",
   "execution_count": 17,
   "outputs": [],
   "source": [
    "def data_loader2(data_name, miss_rate):\n",
    "    file_name = '../datasetsAB/' + data_name + '.csv'\n",
    "    complete_data = pd.read_csv(file_name, sep=',')\n",
    "    no, dim = complete_data.shape\n",
    "    n = round(no * (1 - miss_rate))  # 根据缺失率得到舍弃的行数\n",
    "    # 随机将行数丢弃\n",
    "    incomplete_data = complete_data.drop(complete_data.sample(n).index)\n",
    "    # incomplete_data = complete_data.drop(complete_data.sample(n).index)\n",
    "    # np.random.shuffle(incomplete_data)\n",
    "\n",
    "    return complete_data, incomplete_data"
   ],
   "metadata": {
    "collapsed": false,
    "pycharm": {
     "name": "#%%\n"
    }
   }
  },
  {
   "cell_type": "code",
   "execution_count": 18,
   "outputs": [],
   "source": [
    "data_name = 'bank_data_B'\n",
    "complete_data,incomplete_data=data_loader2(data_name,0.2)"
   ],
   "metadata": {
    "collapsed": false,
    "pycharm": {
     "name": "#%%\n"
    }
   }
  },
  {
   "cell_type": "code",
   "execution_count": 19,
   "outputs": [
    {
     "data": {
      "text/plain": "    contact  day month  duration  campaign  pdays  previous poutcome   y  \\\n1   unknown    5   may       151         1     -1         0  unknown  no   \n3   unknown    5   may        92         1     -1         0  unknown  no   \n5   unknown    5   may       139         1     -1         0  unknown  no   \n8   unknown    5   may        50         1     -1         0  unknown  no   \n12  unknown    5   may       517         1     -1         0  unknown  no   \n16  unknown    5   may        98         1     -1         0  unknown  no   \n17  unknown    5   may        38         1     -1         0  unknown  no   \n21  unknown    5   may       164         1     -1         0  unknown  no   \n25  unknown    5   may       172         1     -1         0  unknown  no   \n30  unknown    5   may       225         1     -1         0  unknown  no   \n\n    index  \n1       1  \n3       3  \n5       5  \n8       8  \n12     12  \n16     16  \n17     17  \n21     21  \n25     25  \n30     30  ",
      "text/html": "<div>\n<style scoped>\n    .dataframe tbody tr th:only-of-type {\n        vertical-align: middle;\n    }\n\n    .dataframe tbody tr th {\n        vertical-align: top;\n    }\n\n    .dataframe thead th {\n        text-align: right;\n    }\n</style>\n<table border=\"1\" class=\"dataframe\">\n  <thead>\n    <tr style=\"text-align: right;\">\n      <th></th>\n      <th>contact</th>\n      <th>day</th>\n      <th>month</th>\n      <th>duration</th>\n      <th>campaign</th>\n      <th>pdays</th>\n      <th>previous</th>\n      <th>poutcome</th>\n      <th>y</th>\n      <th>index</th>\n    </tr>\n  </thead>\n  <tbody>\n    <tr>\n      <th>1</th>\n      <td>unknown</td>\n      <td>5</td>\n      <td>may</td>\n      <td>151</td>\n      <td>1</td>\n      <td>-1</td>\n      <td>0</td>\n      <td>unknown</td>\n      <td>no</td>\n      <td>1</td>\n    </tr>\n    <tr>\n      <th>3</th>\n      <td>unknown</td>\n      <td>5</td>\n      <td>may</td>\n      <td>92</td>\n      <td>1</td>\n      <td>-1</td>\n      <td>0</td>\n      <td>unknown</td>\n      <td>no</td>\n      <td>3</td>\n    </tr>\n    <tr>\n      <th>5</th>\n      <td>unknown</td>\n      <td>5</td>\n      <td>may</td>\n      <td>139</td>\n      <td>1</td>\n      <td>-1</td>\n      <td>0</td>\n      <td>unknown</td>\n      <td>no</td>\n      <td>5</td>\n    </tr>\n    <tr>\n      <th>8</th>\n      <td>unknown</td>\n      <td>5</td>\n      <td>may</td>\n      <td>50</td>\n      <td>1</td>\n      <td>-1</td>\n      <td>0</td>\n      <td>unknown</td>\n      <td>no</td>\n      <td>8</td>\n    </tr>\n    <tr>\n      <th>12</th>\n      <td>unknown</td>\n      <td>5</td>\n      <td>may</td>\n      <td>517</td>\n      <td>1</td>\n      <td>-1</td>\n      <td>0</td>\n      <td>unknown</td>\n      <td>no</td>\n      <td>12</td>\n    </tr>\n    <tr>\n      <th>16</th>\n      <td>unknown</td>\n      <td>5</td>\n      <td>may</td>\n      <td>98</td>\n      <td>1</td>\n      <td>-1</td>\n      <td>0</td>\n      <td>unknown</td>\n      <td>no</td>\n      <td>16</td>\n    </tr>\n    <tr>\n      <th>17</th>\n      <td>unknown</td>\n      <td>5</td>\n      <td>may</td>\n      <td>38</td>\n      <td>1</td>\n      <td>-1</td>\n      <td>0</td>\n      <td>unknown</td>\n      <td>no</td>\n      <td>17</td>\n    </tr>\n    <tr>\n      <th>21</th>\n      <td>unknown</td>\n      <td>5</td>\n      <td>may</td>\n      <td>164</td>\n      <td>1</td>\n      <td>-1</td>\n      <td>0</td>\n      <td>unknown</td>\n      <td>no</td>\n      <td>21</td>\n    </tr>\n    <tr>\n      <th>25</th>\n      <td>unknown</td>\n      <td>5</td>\n      <td>may</td>\n      <td>172</td>\n      <td>1</td>\n      <td>-1</td>\n      <td>0</td>\n      <td>unknown</td>\n      <td>no</td>\n      <td>25</td>\n    </tr>\n    <tr>\n      <th>30</th>\n      <td>unknown</td>\n      <td>5</td>\n      <td>may</td>\n      <td>225</td>\n      <td>1</td>\n      <td>-1</td>\n      <td>0</td>\n      <td>unknown</td>\n      <td>no</td>\n      <td>30</td>\n    </tr>\n  </tbody>\n</table>\n</div>"
     },
     "execution_count": 19,
     "metadata": {},
     "output_type": "execute_result"
    }
   ],
   "source": [
    "incomplete_data.head(10)"
   ],
   "metadata": {
    "collapsed": false,
    "pycharm": {
     "name": "#%%\n"
    }
   }
  },
  {
   "cell_type": "code",
   "execution_count": 20,
   "outputs": [
    {
     "data": {
      "text/plain": "(9042, 10)"
     },
     "execution_count": 20,
     "metadata": {},
     "output_type": "execute_result"
    }
   ],
   "source": [
    "incomplete_data.shape"
   ],
   "metadata": {
    "collapsed": false,
    "pycharm": {
     "name": "#%%\n"
    }
   }
  },
  {
   "cell_type": "code",
   "execution_count": null,
   "outputs": [],
   "source": [],
   "metadata": {
    "collapsed": false,
    "pycharm": {
     "name": "#%%\n"
    }
   }
  }
 ],
 "metadata": {
  "kernelspec": {
   "display_name": "Python 3",
   "language": "python",
   "name": "python3"
  },
  "language_info": {
   "codemirror_mode": {
    "name": "ipython",
    "version": 2
   },
   "file_extension": ".py",
   "mimetype": "text/x-python",
   "name": "python",
   "nbconvert_exporter": "python",
   "pygments_lexer": "ipython2",
   "version": "2.7.6"
  }
 },
 "nbformat": 4,
 "nbformat_minor": 0
}