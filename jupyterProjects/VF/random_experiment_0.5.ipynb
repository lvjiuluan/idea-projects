{
 "cells": [
  {
   "cell_type": "markdown",
   "source": [
    "随机生成，然后进行填补"
   ],
   "metadata": {
    "collapsed": false
   }
  },
  {
   "cell_type": "code",
   "execution_count": 1,
   "metadata": {
    "collapsed": true
   },
   "outputs": [],
   "source": [
    "import pandas as pd\n",
    "import numpy as np"
   ]
  },
  {
   "cell_type": "markdown",
   "source": [
    "# 数据集处理"
   ],
   "metadata": {
    "collapsed": false
   }
  },
  {
   "cell_type": "markdown",
   "source": [
    "设置缺失的行占比率，然后得到单方的缺失数据集"
   ],
   "metadata": {
    "collapsed": false
   }
  },
  {
   "cell_type": "code",
   "execution_count": 2,
   "outputs": [],
   "source": [
    "from util.data_loader import data_loader2\n",
    "data_name='bank_data_B'\n",
    "miss_rate=0.5\n",
    "complete_data_B,incomplete_data_B=data_loader2(data_name,miss_rate)"
   ],
   "metadata": {
    "collapsed": false,
    "pycharm": {
     "name": "#%%\n"
    }
   }
  },
  {
   "cell_type": "markdown",
   "source": [
    "# CTGAN生成"
   ],
   "metadata": {
    "collapsed": false
   }
  },
  {
   "cell_type": "markdown",
   "source": [
    "选出分类列然后利用CTGAN进行生成"
   ],
   "metadata": {
    "collapsed": false
   }
  },
  {
   "cell_type": "code",
   "execution_count": 3,
   "outputs": [
    {
     "name": "stderr",
     "output_type": "stream",
     "text": [
      "D:\\Anaconda\\anaconda\\envs\\neural_network\\lib\\site-packages\\rdt\\transformers\\base.py:132: FutureWarning: Future versions of RDT will not support the 'model_missing_values' parameter. Please switch to using the 'missing_value_generation' parameter to select your strategy.\n",
      "  warnings.warn(\n",
      "D:\\Anaconda\\anaconda\\envs\\neural_network\\lib\\site-packages\\rdt\\transformers\\base.py:132: FutureWarning: Future versions of RDT will not support the 'model_missing_values' parameter. Please switch to using the 'missing_value_generation' parameter to select your strategy.\n",
      "  warnings.warn(\n",
      "D:\\Anaconda\\anaconda\\envs\\neural_network\\lib\\site-packages\\rdt\\transformers\\base.py:132: FutureWarning: Future versions of RDT will not support the 'model_missing_values' parameter. Please switch to using the 'missing_value_generation' parameter to select your strategy.\n",
      "  warnings.warn(\n",
      "D:\\Anaconda\\anaconda\\envs\\neural_network\\lib\\site-packages\\rdt\\transformers\\base.py:132: FutureWarning: Future versions of RDT will not support the 'model_missing_values' parameter. Please switch to using the 'missing_value_generation' parameter to select your strategy.\n",
      "  warnings.warn(\n",
      "D:\\Anaconda\\anaconda\\envs\\neural_network\\lib\\site-packages\\rdt\\transformers\\base.py:132: FutureWarning: Future versions of RDT will not support the 'model_missing_values' parameter. Please switch to using the 'missing_value_generation' parameter to select your strategy.\n",
      "  warnings.warn(\n",
      "D:\\Anaconda\\anaconda\\envs\\neural_network\\lib\\site-packages\\rdt\\transformers\\base.py:132: FutureWarning: Future versions of RDT will not support the 'model_missing_values' parameter. Please switch to using the 'missing_value_generation' parameter to select your strategy.\n",
      "  warnings.warn(\n"
     ]
    }
   ],
   "source": [
    "discrete_columns=incomplete_data_B.select_dtypes(include=['object'])\n",
    "from ctgan import CTGAN\n",
    "ctgan = CTGAN(epochs=10)\n",
    "ctgan.fit(incomplete_data_B,discrete_columns)\n",
    "len1=complete_data_B.shape[0]\n",
    "len2=incomplete_data_B.shape[0]\n",
    "# 生成数据\n",
    "synthetic_data = ctgan.sample(len1)"
   ],
   "metadata": {
    "collapsed": false,
    "pycharm": {
     "name": "#%%\n"
    }
   }
  },
  {
   "cell_type": "markdown",
   "source": [
    "生成的数据中随机保留3列数据，丢弃其他数据"
   ],
   "metadata": {
    "collapsed": false
   }
  },
  {
   "cell_type": "code",
   "execution_count": 24,
   "outputs": [
    {
     "data": {
      "text/plain": "       previous    y month\n0             0   no   jun\n1             0   no   may\n2             0   no   may\n3             5   no   may\n4             0   no   jun\n...         ...  ...   ...\n45206         0   no   apr\n45207         0   no   jul\n45208         0   no   may\n45209         4  yes   may\n45210         0   no   jul\n\n[45211 rows x 3 columns]",
      "text/html": "<div>\n<style scoped>\n    .dataframe tbody tr th:only-of-type {\n        vertical-align: middle;\n    }\n\n    .dataframe tbody tr th {\n        vertical-align: top;\n    }\n\n    .dataframe thead th {\n        text-align: right;\n    }\n</style>\n<table border=\"1\" class=\"dataframe\">\n  <thead>\n    <tr style=\"text-align: right;\">\n      <th></th>\n      <th>previous</th>\n      <th>y</th>\n      <th>month</th>\n    </tr>\n  </thead>\n  <tbody>\n    <tr>\n      <th>0</th>\n      <td>0</td>\n      <td>no</td>\n      <td>jun</td>\n    </tr>\n    <tr>\n      <th>1</th>\n      <td>0</td>\n      <td>no</td>\n      <td>may</td>\n    </tr>\n    <tr>\n      <th>2</th>\n      <td>0</td>\n      <td>no</td>\n      <td>may</td>\n    </tr>\n    <tr>\n      <th>3</th>\n      <td>5</td>\n      <td>no</td>\n      <td>may</td>\n    </tr>\n    <tr>\n      <th>4</th>\n      <td>0</td>\n      <td>no</td>\n      <td>jun</td>\n    </tr>\n    <tr>\n      <th>...</th>\n      <td>...</td>\n      <td>...</td>\n      <td>...</td>\n    </tr>\n    <tr>\n      <th>45206</th>\n      <td>0</td>\n      <td>no</td>\n      <td>apr</td>\n    </tr>\n    <tr>\n      <th>45207</th>\n      <td>0</td>\n      <td>no</td>\n      <td>jul</td>\n    </tr>\n    <tr>\n      <th>45208</th>\n      <td>0</td>\n      <td>no</td>\n      <td>may</td>\n    </tr>\n    <tr>\n      <th>45209</th>\n      <td>4</td>\n      <td>yes</td>\n      <td>may</td>\n    </tr>\n    <tr>\n      <th>45210</th>\n      <td>0</td>\n      <td>no</td>\n      <td>jul</td>\n    </tr>\n  </tbody>\n</table>\n<p>45211 rows × 3 columns</p>\n</div>"
     },
     "execution_count": 24,
     "metadata": {},
     "output_type": "execute_result"
    }
   ],
   "source": [
    "# 随机选择数据集中的3列\n",
    "random_columns = synthetic_data.drop('index', axis=1).sample(n=3, axis=1)\n",
    "random_columns"
   ],
   "metadata": {
    "collapsed": false,
    "pycharm": {
     "name": "#%%\n"
    }
   }
  },
  {
   "cell_type": "code",
   "execution_count": 25,
   "outputs": [
    {
     "name": "stdout",
     "output_type": "stream",
     "text": [
      "(45211, 10)\n"
     ]
    },
    {
     "data": {
      "text/plain": "   contact  day month  duration  campaign  pdays  previous  poutcome    y  \\\n0      NaN  NaN   jun       NaN       NaN    NaN         0       NaN   no   \n1      NaN  NaN   may       NaN       NaN    NaN         0       NaN   no   \n2      NaN  NaN   may       NaN       NaN    NaN         0       NaN   no   \n3      NaN  NaN   may       NaN       NaN    NaN         5       NaN   no   \n4      NaN  NaN   jun       NaN       NaN    NaN         0       NaN   no   \n5      NaN  NaN   nov       NaN       NaN    NaN         0       NaN   no   \n6      NaN  NaN   may       NaN       NaN    NaN         0       NaN   no   \n7      NaN  NaN   may       NaN       NaN    NaN         0       NaN   no   \n8      NaN  NaN   nov       NaN       NaN    NaN         0       NaN  yes   \n9      NaN  NaN   jul       NaN       NaN    NaN         0       NaN   no   \n\n   index  \n0    NaN  \n1    NaN  \n2    NaN  \n3    NaN  \n4    NaN  \n5    NaN  \n6    NaN  \n7    NaN  \n8    NaN  \n9    NaN  ",
      "text/html": "<div>\n<style scoped>\n    .dataframe tbody tr th:only-of-type {\n        vertical-align: middle;\n    }\n\n    .dataframe tbody tr th {\n        vertical-align: top;\n    }\n\n    .dataframe thead th {\n        text-align: right;\n    }\n</style>\n<table border=\"1\" class=\"dataframe\">\n  <thead>\n    <tr style=\"text-align: right;\">\n      <th></th>\n      <th>contact</th>\n      <th>day</th>\n      <th>month</th>\n      <th>duration</th>\n      <th>campaign</th>\n      <th>pdays</th>\n      <th>previous</th>\n      <th>poutcome</th>\n      <th>y</th>\n      <th>index</th>\n    </tr>\n  </thead>\n  <tbody>\n    <tr>\n      <th>0</th>\n      <td>NaN</td>\n      <td>NaN</td>\n      <td>jun</td>\n      <td>NaN</td>\n      <td>NaN</td>\n      <td>NaN</td>\n      <td>0</td>\n      <td>NaN</td>\n      <td>no</td>\n      <td>NaN</td>\n    </tr>\n    <tr>\n      <th>1</th>\n      <td>NaN</td>\n      <td>NaN</td>\n      <td>may</td>\n      <td>NaN</td>\n      <td>NaN</td>\n      <td>NaN</td>\n      <td>0</td>\n      <td>NaN</td>\n      <td>no</td>\n      <td>NaN</td>\n    </tr>\n    <tr>\n      <th>2</th>\n      <td>NaN</td>\n      <td>NaN</td>\n      <td>may</td>\n      <td>NaN</td>\n      <td>NaN</td>\n      <td>NaN</td>\n      <td>0</td>\n      <td>NaN</td>\n      <td>no</td>\n      <td>NaN</td>\n    </tr>\n    <tr>\n      <th>3</th>\n      <td>NaN</td>\n      <td>NaN</td>\n      <td>may</td>\n      <td>NaN</td>\n      <td>NaN</td>\n      <td>NaN</td>\n      <td>5</td>\n      <td>NaN</td>\n      <td>no</td>\n      <td>NaN</td>\n    </tr>\n    <tr>\n      <th>4</th>\n      <td>NaN</td>\n      <td>NaN</td>\n      <td>jun</td>\n      <td>NaN</td>\n      <td>NaN</td>\n      <td>NaN</td>\n      <td>0</td>\n      <td>NaN</td>\n      <td>no</td>\n      <td>NaN</td>\n    </tr>\n    <tr>\n      <th>5</th>\n      <td>NaN</td>\n      <td>NaN</td>\n      <td>nov</td>\n      <td>NaN</td>\n      <td>NaN</td>\n      <td>NaN</td>\n      <td>0</td>\n      <td>NaN</td>\n      <td>no</td>\n      <td>NaN</td>\n    </tr>\n    <tr>\n      <th>6</th>\n      <td>NaN</td>\n      <td>NaN</td>\n      <td>may</td>\n      <td>NaN</td>\n      <td>NaN</td>\n      <td>NaN</td>\n      <td>0</td>\n      <td>NaN</td>\n      <td>no</td>\n      <td>NaN</td>\n    </tr>\n    <tr>\n      <th>7</th>\n      <td>NaN</td>\n      <td>NaN</td>\n      <td>may</td>\n      <td>NaN</td>\n      <td>NaN</td>\n      <td>NaN</td>\n      <td>0</td>\n      <td>NaN</td>\n      <td>no</td>\n      <td>NaN</td>\n    </tr>\n    <tr>\n      <th>8</th>\n      <td>NaN</td>\n      <td>NaN</td>\n      <td>nov</td>\n      <td>NaN</td>\n      <td>NaN</td>\n      <td>NaN</td>\n      <td>0</td>\n      <td>NaN</td>\n      <td>yes</td>\n      <td>NaN</td>\n    </tr>\n    <tr>\n      <th>9</th>\n      <td>NaN</td>\n      <td>NaN</td>\n      <td>jul</td>\n      <td>NaN</td>\n      <td>NaN</td>\n      <td>NaN</td>\n      <td>0</td>\n      <td>NaN</td>\n      <td>no</td>\n      <td>NaN</td>\n    </tr>\n  </tbody>\n</table>\n</div>"
     },
     "execution_count": 25,
     "metadata": {},
     "output_type": "execute_result"
    }
   ],
   "source": [
    "# 创建一个新的DataFrame，保留要保留的列，其他列设为NaN\n",
    "correlation_synthetic_data = synthetic_data.copy()\n",
    "\n",
    "# correlation_synthetic_data=pd.DataFrame(correlation_synthetic_data)\n",
    "# correlation_synthetic_data.shape\n",
    "for column in correlation_synthetic_data.columns:\n",
    "    if column not in random_columns:\n",
    "        correlation_synthetic_data[column] = np.nan\n",
    "print(correlation_synthetic_data.shape)\n",
    "correlation_synthetic_data.head(10)"
   ],
   "metadata": {
    "collapsed": false,
    "pycharm": {
     "name": "#%%\n"
    }
   }
  },
  {
   "cell_type": "markdown",
   "source": [
    "# 得到A方完整数据集和B方随机生成的数据集"
   ],
   "metadata": {
    "collapsed": false
   }
  },
  {
   "cell_type": "code",
   "execution_count": 26,
   "outputs": [],
   "source": [
    "complete_data_A = pd.read_csv('datasetsAB/bank_data_A.csv', sep=',')\n",
    "# 假设A和B是你的DataFrame，你想保留A中的重复列\n",
    "aligned_df = complete_data_A.merge(incomplete_data_B, left_index=True, right_index=True, how='outer', suffixes=('_keep', '_drop'))\n",
    "\n",
    "# 删除B中的重复列\n",
    "columns_to_drop = [column for column in aligned_df.columns if '_drop' in column]\n",
    "aligned_df = aligned_df.drop(columns_to_drop, axis=1)\n",
    "\n",
    "# 删除列名中的后缀\n",
    "aligned_df.columns = aligned_df.columns.str.replace('_keep', '')"
   ],
   "metadata": {
    "collapsed": false,
    "pycharm": {
     "name": "#%%\n"
    }
   }
  },
  {
   "cell_type": "code",
   "execution_count": 27,
   "outputs": [
    {
     "name": "stdout",
     "output_type": "stream",
     "text": [
      "(45211, 18)\n"
     ]
    },
    {
     "data": {
      "text/plain": "    age            job   marital  education default  balance housing loan  \\\n0    58     management   married   tertiary      no     2143     yes   no   \n1    44     technician    single  secondary      no       29     yes   no   \n2    33   entrepreneur   married  secondary      no        2     yes  yes   \n3    47    blue-collar   married    unknown      no     1506     yes   no   \n4    33        unknown    single    unknown      no        1      no   no   \n5    35     management   married   tertiary      no      231     yes   no   \n6    28     management    single   tertiary      no      447     yes  yes   \n7    42   entrepreneur  divorced   tertiary     yes        2     yes   no   \n8    58        retired   married    primary      no      121     yes   no   \n9    43     technician    single  secondary      no      593     yes   no   \n10   41         admin.  divorced  secondary      no      270     yes   no   \n11   29         admin.    single  secondary      no      390     yes   no   \n12   53     technician   married  secondary      no        6     yes   no   \n13   58     technician   married    unknown      no       71     yes   no   \n14   57       services   married  secondary      no      162     yes   no   \n15   51        retired   married    primary      no      229     yes   no   \n16   45         admin.    single    unknown      no       13     yes   no   \n17   57    blue-collar   married    primary      no       52     yes   no   \n18   60        retired   married    primary      no       60     yes   no   \n19   33       services   married  secondary      no        0     yes   no   \n20   28    blue-collar   married  secondary      no      723     yes  yes   \n21   56     management   married   tertiary      no      779     yes   no   \n22   32    blue-collar    single    primary      no       23     yes  yes   \n23   25       services   married  secondary      no       50     yes   no   \n24   40        retired   married    primary      no        0     yes  yes   \n25   44         admin.   married  secondary      no     -372     yes   no   \n26   39     management    single   tertiary      no      255     yes   no   \n27   52   entrepreneur   married  secondary      no      113     yes  yes   \n28   46     management    single  secondary      no     -246     yes   no   \n29   36     technician    single  secondary      no      265     yes  yes   \n30   57     technician   married  secondary      no      839      no  yes   \n31   49     management   married   tertiary      no      378     yes   no   \n32   60         admin.   married  secondary      no       39     yes  yes   \n33   59    blue-collar   married  secondary      no        0     yes   no   \n34   51     management   married   tertiary      no    10635     yes   no   \n35   57     technician  divorced  secondary      no       63     yes   no   \n36   25    blue-collar   married  secondary      no       -7     yes   no   \n37   53     technician   married  secondary      no       -3      no   no   \n38   36         admin.  divorced  secondary      no      506     yes   no   \n39   37         admin.    single  secondary      no        0     yes   no   \n40   44       services  divorced  secondary      no     2586     yes   no   \n41   50     management   married  secondary      no       49     yes   no   \n42   60    blue-collar   married    unknown      no      104     yes   no   \n43   54        retired   married  secondary      no      529     yes   no   \n44   58        retired   married    unknown      no       96     yes   no   \n45   36         admin.    single    primary      no     -171     yes   no   \n46   58  self-employed   married   tertiary      no     -364     yes   no   \n47   44     technician   married  secondary      no        0     yes   no   \n48   55     technician  divorced  secondary      no        0      no   no   \n49   29     management    single   tertiary      no        0     yes   no   \n\n    index  contact    day month   duration  campaign   pdays  previous  \\\n0       0  unknown 5.0000   may   261.0000    1.0000 -1.0000    0.0000   \n1       1  unknown 5.0000   may   151.0000    1.0000 -1.0000    0.0000   \n2       2      NaN    NaN   NaN        NaN       NaN     NaN       NaN   \n3       3      NaN    NaN   NaN        NaN       NaN     NaN       NaN   \n4       4  unknown 5.0000   may   198.0000    1.0000 -1.0000    0.0000   \n5       5      NaN    NaN   NaN        NaN       NaN     NaN       NaN   \n6       6  unknown 5.0000   may   217.0000    1.0000 -1.0000    0.0000   \n7       7      NaN    NaN   NaN        NaN       NaN     NaN       NaN   \n8       8      NaN    NaN   NaN        NaN       NaN     NaN       NaN   \n9       9  unknown 5.0000   may    55.0000    1.0000 -1.0000    0.0000   \n10     10      NaN    NaN   NaN        NaN       NaN     NaN       NaN   \n11     11      NaN    NaN   NaN        NaN       NaN     NaN       NaN   \n12     12  unknown 5.0000   may   517.0000    1.0000 -1.0000    0.0000   \n13     13  unknown 5.0000   may    71.0000    1.0000 -1.0000    0.0000   \n14     14      NaN    NaN   NaN        NaN       NaN     NaN       NaN   \n15     15      NaN    NaN   NaN        NaN       NaN     NaN       NaN   \n16     16  unknown 5.0000   may    98.0000    1.0000 -1.0000    0.0000   \n17     17      NaN    NaN   NaN        NaN       NaN     NaN       NaN   \n18     18      NaN    NaN   NaN        NaN       NaN     NaN       NaN   \n19     19  unknown 5.0000   may    54.0000    1.0000 -1.0000    0.0000   \n20     20      NaN    NaN   NaN        NaN       NaN     NaN       NaN   \n21     21  unknown 5.0000   may   164.0000    1.0000 -1.0000    0.0000   \n22     22      NaN    NaN   NaN        NaN       NaN     NaN       NaN   \n23     23  unknown 5.0000   may   342.0000    1.0000 -1.0000    0.0000   \n24     24      NaN    NaN   NaN        NaN       NaN     NaN       NaN   \n25     25  unknown 5.0000   may   172.0000    1.0000 -1.0000    0.0000   \n26     26      NaN    NaN   NaN        NaN       NaN     NaN       NaN   \n27     27  unknown 5.0000   may   127.0000    1.0000 -1.0000    0.0000   \n28     28  unknown 5.0000   may   255.0000    2.0000 -1.0000    0.0000   \n29     29      NaN    NaN   NaN        NaN       NaN     NaN       NaN   \n30     30      NaN    NaN   NaN        NaN       NaN     NaN       NaN   \n31     31      NaN    NaN   NaN        NaN       NaN     NaN       NaN   \n32     32      NaN    NaN   NaN        NaN       NaN     NaN       NaN   \n33     33      NaN    NaN   NaN        NaN       NaN     NaN       NaN   \n34     34  unknown 5.0000   may   336.0000    1.0000 -1.0000    0.0000   \n35     35  unknown 5.0000   may   242.0000    1.0000 -1.0000    0.0000   \n36     36  unknown 5.0000   may   365.0000    1.0000 -1.0000    0.0000   \n37     37  unknown 5.0000   may 1,666.0000    1.0000 -1.0000    0.0000   \n38     38  unknown 5.0000   may   577.0000    1.0000 -1.0000    0.0000   \n39     39  unknown 5.0000   may   137.0000    1.0000 -1.0000    0.0000   \n40     40  unknown 5.0000   may   160.0000    1.0000 -1.0000    0.0000   \n41     41  unknown 5.0000   may   180.0000    2.0000 -1.0000    0.0000   \n42     42  unknown 5.0000   may    22.0000    1.0000 -1.0000    0.0000   \n43     43      NaN    NaN   NaN        NaN       NaN     NaN       NaN   \n44     44  unknown 5.0000   may   616.0000    1.0000 -1.0000    0.0000   \n45     45      NaN    NaN   NaN        NaN       NaN     NaN       NaN   \n46     46  unknown 5.0000   may   355.0000    1.0000 -1.0000    0.0000   \n47     47  unknown 5.0000   may   225.0000    2.0000 -1.0000    0.0000   \n48     48  unknown 5.0000   may   160.0000    1.0000 -1.0000    0.0000   \n49     49  unknown 5.0000   may   363.0000    1.0000 -1.0000    0.0000   \n\n   poutcome    y  \n0   unknown   no  \n1   unknown   no  \n2       NaN  NaN  \n3       NaN  NaN  \n4   unknown   no  \n5       NaN  NaN  \n6   unknown   no  \n7       NaN  NaN  \n8       NaN  NaN  \n9   unknown   no  \n10      NaN  NaN  \n11      NaN  NaN  \n12  unknown   no  \n13  unknown   no  \n14      NaN  NaN  \n15      NaN  NaN  \n16  unknown   no  \n17      NaN  NaN  \n18      NaN  NaN  \n19  unknown   no  \n20      NaN  NaN  \n21  unknown   no  \n22      NaN  NaN  \n23  unknown   no  \n24      NaN  NaN  \n25  unknown   no  \n26      NaN  NaN  \n27  unknown   no  \n28  unknown   no  \n29      NaN  NaN  \n30      NaN  NaN  \n31      NaN  NaN  \n32      NaN  NaN  \n33      NaN  NaN  \n34  unknown   no  \n35  unknown   no  \n36  unknown   no  \n37  unknown   no  \n38  unknown   no  \n39  unknown   no  \n40  unknown   no  \n41  unknown   no  \n42  unknown   no  \n43      NaN  NaN  \n44  unknown   no  \n45      NaN  NaN  \n46  unknown   no  \n47  unknown   no  \n48  unknown   no  \n49  unknown   no  ",
      "text/html": "<div>\n<style scoped>\n    .dataframe tbody tr th:only-of-type {\n        vertical-align: middle;\n    }\n\n    .dataframe tbody tr th {\n        vertical-align: top;\n    }\n\n    .dataframe thead th {\n        text-align: right;\n    }\n</style>\n<table border=\"1\" class=\"dataframe\">\n  <thead>\n    <tr style=\"text-align: right;\">\n      <th></th>\n      <th>age</th>\n      <th>job</th>\n      <th>marital</th>\n      <th>education</th>\n      <th>default</th>\n      <th>balance</th>\n      <th>housing</th>\n      <th>loan</th>\n      <th>index</th>\n      <th>contact</th>\n      <th>day</th>\n      <th>month</th>\n      <th>duration</th>\n      <th>campaign</th>\n      <th>pdays</th>\n      <th>previous</th>\n      <th>poutcome</th>\n      <th>y</th>\n    </tr>\n  </thead>\n  <tbody>\n    <tr>\n      <th>0</th>\n      <td>58</td>\n      <td>management</td>\n      <td>married</td>\n      <td>tertiary</td>\n      <td>no</td>\n      <td>2143</td>\n      <td>yes</td>\n      <td>no</td>\n      <td>0</td>\n      <td>unknown</td>\n      <td>5.0000</td>\n      <td>may</td>\n      <td>261.0000</td>\n      <td>1.0000</td>\n      <td>-1.0000</td>\n      <td>0.0000</td>\n      <td>unknown</td>\n      <td>no</td>\n    </tr>\n    <tr>\n      <th>1</th>\n      <td>44</td>\n      <td>technician</td>\n      <td>single</td>\n      <td>secondary</td>\n      <td>no</td>\n      <td>29</td>\n      <td>yes</td>\n      <td>no</td>\n      <td>1</td>\n      <td>unknown</td>\n      <td>5.0000</td>\n      <td>may</td>\n      <td>151.0000</td>\n      <td>1.0000</td>\n      <td>-1.0000</td>\n      <td>0.0000</td>\n      <td>unknown</td>\n      <td>no</td>\n    </tr>\n    <tr>\n      <th>2</th>\n      <td>33</td>\n      <td>entrepreneur</td>\n      <td>married</td>\n      <td>secondary</td>\n      <td>no</td>\n      <td>2</td>\n      <td>yes</td>\n      <td>yes</td>\n      <td>2</td>\n      <td>NaN</td>\n      <td>NaN</td>\n      <td>NaN</td>\n      <td>NaN</td>\n      <td>NaN</td>\n      <td>NaN</td>\n      <td>NaN</td>\n      <td>NaN</td>\n      <td>NaN</td>\n    </tr>\n    <tr>\n      <th>3</th>\n      <td>47</td>\n      <td>blue-collar</td>\n      <td>married</td>\n      <td>unknown</td>\n      <td>no</td>\n      <td>1506</td>\n      <td>yes</td>\n      <td>no</td>\n      <td>3</td>\n      <td>NaN</td>\n      <td>NaN</td>\n      <td>NaN</td>\n      <td>NaN</td>\n      <td>NaN</td>\n      <td>NaN</td>\n      <td>NaN</td>\n      <td>NaN</td>\n      <td>NaN</td>\n    </tr>\n    <tr>\n      <th>4</th>\n      <td>33</td>\n      <td>unknown</td>\n      <td>single</td>\n      <td>unknown</td>\n      <td>no</td>\n      <td>1</td>\n      <td>no</td>\n      <td>no</td>\n      <td>4</td>\n      <td>unknown</td>\n      <td>5.0000</td>\n      <td>may</td>\n      <td>198.0000</td>\n      <td>1.0000</td>\n      <td>-1.0000</td>\n      <td>0.0000</td>\n      <td>unknown</td>\n      <td>no</td>\n    </tr>\n    <tr>\n      <th>5</th>\n      <td>35</td>\n      <td>management</td>\n      <td>married</td>\n      <td>tertiary</td>\n      <td>no</td>\n      <td>231</td>\n      <td>yes</td>\n      <td>no</td>\n      <td>5</td>\n      <td>NaN</td>\n      <td>NaN</td>\n      <td>NaN</td>\n      <td>NaN</td>\n      <td>NaN</td>\n      <td>NaN</td>\n      <td>NaN</td>\n      <td>NaN</td>\n      <td>NaN</td>\n    </tr>\n    <tr>\n      <th>6</th>\n      <td>28</td>\n      <td>management</td>\n      <td>single</td>\n      <td>tertiary</td>\n      <td>no</td>\n      <td>447</td>\n      <td>yes</td>\n      <td>yes</td>\n      <td>6</td>\n      <td>unknown</td>\n      <td>5.0000</td>\n      <td>may</td>\n      <td>217.0000</td>\n      <td>1.0000</td>\n      <td>-1.0000</td>\n      <td>0.0000</td>\n      <td>unknown</td>\n      <td>no</td>\n    </tr>\n    <tr>\n      <th>7</th>\n      <td>42</td>\n      <td>entrepreneur</td>\n      <td>divorced</td>\n      <td>tertiary</td>\n      <td>yes</td>\n      <td>2</td>\n      <td>yes</td>\n      <td>no</td>\n      <td>7</td>\n      <td>NaN</td>\n      <td>NaN</td>\n      <td>NaN</td>\n      <td>NaN</td>\n      <td>NaN</td>\n      <td>NaN</td>\n      <td>NaN</td>\n      <td>NaN</td>\n      <td>NaN</td>\n    </tr>\n    <tr>\n      <th>8</th>\n      <td>58</td>\n      <td>retired</td>\n      <td>married</td>\n      <td>primary</td>\n      <td>no</td>\n      <td>121</td>\n      <td>yes</td>\n      <td>no</td>\n      <td>8</td>\n      <td>NaN</td>\n      <td>NaN</td>\n      <td>NaN</td>\n      <td>NaN</td>\n      <td>NaN</td>\n      <td>NaN</td>\n      <td>NaN</td>\n      <td>NaN</td>\n      <td>NaN</td>\n    </tr>\n    <tr>\n      <th>9</th>\n      <td>43</td>\n      <td>technician</td>\n      <td>single</td>\n      <td>secondary</td>\n      <td>no</td>\n      <td>593</td>\n      <td>yes</td>\n      <td>no</td>\n      <td>9</td>\n      <td>unknown</td>\n      <td>5.0000</td>\n      <td>may</td>\n      <td>55.0000</td>\n      <td>1.0000</td>\n      <td>-1.0000</td>\n      <td>0.0000</td>\n      <td>unknown</td>\n      <td>no</td>\n    </tr>\n    <tr>\n      <th>10</th>\n      <td>41</td>\n      <td>admin.</td>\n      <td>divorced</td>\n      <td>secondary</td>\n      <td>no</td>\n      <td>270</td>\n      <td>yes</td>\n      <td>no</td>\n      <td>10</td>\n      <td>NaN</td>\n      <td>NaN</td>\n      <td>NaN</td>\n      <td>NaN</td>\n      <td>NaN</td>\n      <td>NaN</td>\n      <td>NaN</td>\n      <td>NaN</td>\n      <td>NaN</td>\n    </tr>\n    <tr>\n      <th>11</th>\n      <td>29</td>\n      <td>admin.</td>\n      <td>single</td>\n      <td>secondary</td>\n      <td>no</td>\n      <td>390</td>\n      <td>yes</td>\n      <td>no</td>\n      <td>11</td>\n      <td>NaN</td>\n      <td>NaN</td>\n      <td>NaN</td>\n      <td>NaN</td>\n      <td>NaN</td>\n      <td>NaN</td>\n      <td>NaN</td>\n      <td>NaN</td>\n      <td>NaN</td>\n    </tr>\n    <tr>\n      <th>12</th>\n      <td>53</td>\n      <td>technician</td>\n      <td>married</td>\n      <td>secondary</td>\n      <td>no</td>\n      <td>6</td>\n      <td>yes</td>\n      <td>no</td>\n      <td>12</td>\n      <td>unknown</td>\n      <td>5.0000</td>\n      <td>may</td>\n      <td>517.0000</td>\n      <td>1.0000</td>\n      <td>-1.0000</td>\n      <td>0.0000</td>\n      <td>unknown</td>\n      <td>no</td>\n    </tr>\n    <tr>\n      <th>13</th>\n      <td>58</td>\n      <td>technician</td>\n      <td>married</td>\n      <td>unknown</td>\n      <td>no</td>\n      <td>71</td>\n      <td>yes</td>\n      <td>no</td>\n      <td>13</td>\n      <td>unknown</td>\n      <td>5.0000</td>\n      <td>may</td>\n      <td>71.0000</td>\n      <td>1.0000</td>\n      <td>-1.0000</td>\n      <td>0.0000</td>\n      <td>unknown</td>\n      <td>no</td>\n    </tr>\n    <tr>\n      <th>14</th>\n      <td>57</td>\n      <td>services</td>\n      <td>married</td>\n      <td>secondary</td>\n      <td>no</td>\n      <td>162</td>\n      <td>yes</td>\n      <td>no</td>\n      <td>14</td>\n      <td>NaN</td>\n      <td>NaN</td>\n      <td>NaN</td>\n      <td>NaN</td>\n      <td>NaN</td>\n      <td>NaN</td>\n      <td>NaN</td>\n      <td>NaN</td>\n      <td>NaN</td>\n    </tr>\n    <tr>\n      <th>15</th>\n      <td>51</td>\n      <td>retired</td>\n      <td>married</td>\n      <td>primary</td>\n      <td>no</td>\n      <td>229</td>\n      <td>yes</td>\n      <td>no</td>\n      <td>15</td>\n      <td>NaN</td>\n      <td>NaN</td>\n      <td>NaN</td>\n      <td>NaN</td>\n      <td>NaN</td>\n      <td>NaN</td>\n      <td>NaN</td>\n      <td>NaN</td>\n      <td>NaN</td>\n    </tr>\n    <tr>\n      <th>16</th>\n      <td>45</td>\n      <td>admin.</td>\n      <td>single</td>\n      <td>unknown</td>\n      <td>no</td>\n      <td>13</td>\n      <td>yes</td>\n      <td>no</td>\n      <td>16</td>\n      <td>unknown</td>\n      <td>5.0000</td>\n      <td>may</td>\n      <td>98.0000</td>\n      <td>1.0000</td>\n      <td>-1.0000</td>\n      <td>0.0000</td>\n      <td>unknown</td>\n      <td>no</td>\n    </tr>\n    <tr>\n      <th>17</th>\n      <td>57</td>\n      <td>blue-collar</td>\n      <td>married</td>\n      <td>primary</td>\n      <td>no</td>\n      <td>52</td>\n      <td>yes</td>\n      <td>no</td>\n      <td>17</td>\n      <td>NaN</td>\n      <td>NaN</td>\n      <td>NaN</td>\n      <td>NaN</td>\n      <td>NaN</td>\n      <td>NaN</td>\n      <td>NaN</td>\n      <td>NaN</td>\n      <td>NaN</td>\n    </tr>\n    <tr>\n      <th>18</th>\n      <td>60</td>\n      <td>retired</td>\n      <td>married</td>\n      <td>primary</td>\n      <td>no</td>\n      <td>60</td>\n      <td>yes</td>\n      <td>no</td>\n      <td>18</td>\n      <td>NaN</td>\n      <td>NaN</td>\n      <td>NaN</td>\n      <td>NaN</td>\n      <td>NaN</td>\n      <td>NaN</td>\n      <td>NaN</td>\n      <td>NaN</td>\n      <td>NaN</td>\n    </tr>\n    <tr>\n      <th>19</th>\n      <td>33</td>\n      <td>services</td>\n      <td>married</td>\n      <td>secondary</td>\n      <td>no</td>\n      <td>0</td>\n      <td>yes</td>\n      <td>no</td>\n      <td>19</td>\n      <td>unknown</td>\n      <td>5.0000</td>\n      <td>may</td>\n      <td>54.0000</td>\n      <td>1.0000</td>\n      <td>-1.0000</td>\n      <td>0.0000</td>\n      <td>unknown</td>\n      <td>no</td>\n    </tr>\n    <tr>\n      <th>20</th>\n      <td>28</td>\n      <td>blue-collar</td>\n      <td>married</td>\n      <td>secondary</td>\n      <td>no</td>\n      <td>723</td>\n      <td>yes</td>\n      <td>yes</td>\n      <td>20</td>\n      <td>NaN</td>\n      <td>NaN</td>\n      <td>NaN</td>\n      <td>NaN</td>\n      <td>NaN</td>\n      <td>NaN</td>\n      <td>NaN</td>\n      <td>NaN</td>\n      <td>NaN</td>\n    </tr>\n    <tr>\n      <th>21</th>\n      <td>56</td>\n      <td>management</td>\n      <td>married</td>\n      <td>tertiary</td>\n      <td>no</td>\n      <td>779</td>\n      <td>yes</td>\n      <td>no</td>\n      <td>21</td>\n      <td>unknown</td>\n      <td>5.0000</td>\n      <td>may</td>\n      <td>164.0000</td>\n      <td>1.0000</td>\n      <td>-1.0000</td>\n      <td>0.0000</td>\n      <td>unknown</td>\n      <td>no</td>\n    </tr>\n    <tr>\n      <th>22</th>\n      <td>32</td>\n      <td>blue-collar</td>\n      <td>single</td>\n      <td>primary</td>\n      <td>no</td>\n      <td>23</td>\n      <td>yes</td>\n      <td>yes</td>\n      <td>22</td>\n      <td>NaN</td>\n      <td>NaN</td>\n      <td>NaN</td>\n      <td>NaN</td>\n      <td>NaN</td>\n      <td>NaN</td>\n      <td>NaN</td>\n      <td>NaN</td>\n      <td>NaN</td>\n    </tr>\n    <tr>\n      <th>23</th>\n      <td>25</td>\n      <td>services</td>\n      <td>married</td>\n      <td>secondary</td>\n      <td>no</td>\n      <td>50</td>\n      <td>yes</td>\n      <td>no</td>\n      <td>23</td>\n      <td>unknown</td>\n      <td>5.0000</td>\n      <td>may</td>\n      <td>342.0000</td>\n      <td>1.0000</td>\n      <td>-1.0000</td>\n      <td>0.0000</td>\n      <td>unknown</td>\n      <td>no</td>\n    </tr>\n    <tr>\n      <th>24</th>\n      <td>40</td>\n      <td>retired</td>\n      <td>married</td>\n      <td>primary</td>\n      <td>no</td>\n      <td>0</td>\n      <td>yes</td>\n      <td>yes</td>\n      <td>24</td>\n      <td>NaN</td>\n      <td>NaN</td>\n      <td>NaN</td>\n      <td>NaN</td>\n      <td>NaN</td>\n      <td>NaN</td>\n      <td>NaN</td>\n      <td>NaN</td>\n      <td>NaN</td>\n    </tr>\n    <tr>\n      <th>25</th>\n      <td>44</td>\n      <td>admin.</td>\n      <td>married</td>\n      <td>secondary</td>\n      <td>no</td>\n      <td>-372</td>\n      <td>yes</td>\n      <td>no</td>\n      <td>25</td>\n      <td>unknown</td>\n      <td>5.0000</td>\n      <td>may</td>\n      <td>172.0000</td>\n      <td>1.0000</td>\n      <td>-1.0000</td>\n      <td>0.0000</td>\n      <td>unknown</td>\n      <td>no</td>\n    </tr>\n    <tr>\n      <th>26</th>\n      <td>39</td>\n      <td>management</td>\n      <td>single</td>\n      <td>tertiary</td>\n      <td>no</td>\n      <td>255</td>\n      <td>yes</td>\n      <td>no</td>\n      <td>26</td>\n      <td>NaN</td>\n      <td>NaN</td>\n      <td>NaN</td>\n      <td>NaN</td>\n      <td>NaN</td>\n      <td>NaN</td>\n      <td>NaN</td>\n      <td>NaN</td>\n      <td>NaN</td>\n    </tr>\n    <tr>\n      <th>27</th>\n      <td>52</td>\n      <td>entrepreneur</td>\n      <td>married</td>\n      <td>secondary</td>\n      <td>no</td>\n      <td>113</td>\n      <td>yes</td>\n      <td>yes</td>\n      <td>27</td>\n      <td>unknown</td>\n      <td>5.0000</td>\n      <td>may</td>\n      <td>127.0000</td>\n      <td>1.0000</td>\n      <td>-1.0000</td>\n      <td>0.0000</td>\n      <td>unknown</td>\n      <td>no</td>\n    </tr>\n    <tr>\n      <th>28</th>\n      <td>46</td>\n      <td>management</td>\n      <td>single</td>\n      <td>secondary</td>\n      <td>no</td>\n      <td>-246</td>\n      <td>yes</td>\n      <td>no</td>\n      <td>28</td>\n      <td>unknown</td>\n      <td>5.0000</td>\n      <td>may</td>\n      <td>255.0000</td>\n      <td>2.0000</td>\n      <td>-1.0000</td>\n      <td>0.0000</td>\n      <td>unknown</td>\n      <td>no</td>\n    </tr>\n    <tr>\n      <th>29</th>\n      <td>36</td>\n      <td>technician</td>\n      <td>single</td>\n      <td>secondary</td>\n      <td>no</td>\n      <td>265</td>\n      <td>yes</td>\n      <td>yes</td>\n      <td>29</td>\n      <td>NaN</td>\n      <td>NaN</td>\n      <td>NaN</td>\n      <td>NaN</td>\n      <td>NaN</td>\n      <td>NaN</td>\n      <td>NaN</td>\n      <td>NaN</td>\n      <td>NaN</td>\n    </tr>\n    <tr>\n      <th>30</th>\n      <td>57</td>\n      <td>technician</td>\n      <td>married</td>\n      <td>secondary</td>\n      <td>no</td>\n      <td>839</td>\n      <td>no</td>\n      <td>yes</td>\n      <td>30</td>\n      <td>NaN</td>\n      <td>NaN</td>\n      <td>NaN</td>\n      <td>NaN</td>\n      <td>NaN</td>\n      <td>NaN</td>\n      <td>NaN</td>\n      <td>NaN</td>\n      <td>NaN</td>\n    </tr>\n    <tr>\n      <th>31</th>\n      <td>49</td>\n      <td>management</td>\n      <td>married</td>\n      <td>tertiary</td>\n      <td>no</td>\n      <td>378</td>\n      <td>yes</td>\n      <td>no</td>\n      <td>31</td>\n      <td>NaN</td>\n      <td>NaN</td>\n      <td>NaN</td>\n      <td>NaN</td>\n      <td>NaN</td>\n      <td>NaN</td>\n      <td>NaN</td>\n      <td>NaN</td>\n      <td>NaN</td>\n    </tr>\n    <tr>\n      <th>32</th>\n      <td>60</td>\n      <td>admin.</td>\n      <td>married</td>\n      <td>secondary</td>\n      <td>no</td>\n      <td>39</td>\n      <td>yes</td>\n      <td>yes</td>\n      <td>32</td>\n      <td>NaN</td>\n      <td>NaN</td>\n      <td>NaN</td>\n      <td>NaN</td>\n      <td>NaN</td>\n      <td>NaN</td>\n      <td>NaN</td>\n      <td>NaN</td>\n      <td>NaN</td>\n    </tr>\n    <tr>\n      <th>33</th>\n      <td>59</td>\n      <td>blue-collar</td>\n      <td>married</td>\n      <td>secondary</td>\n      <td>no</td>\n      <td>0</td>\n      <td>yes</td>\n      <td>no</td>\n      <td>33</td>\n      <td>NaN</td>\n      <td>NaN</td>\n      <td>NaN</td>\n      <td>NaN</td>\n      <td>NaN</td>\n      <td>NaN</td>\n      <td>NaN</td>\n      <td>NaN</td>\n      <td>NaN</td>\n    </tr>\n    <tr>\n      <th>34</th>\n      <td>51</td>\n      <td>management</td>\n      <td>married</td>\n      <td>tertiary</td>\n      <td>no</td>\n      <td>10635</td>\n      <td>yes</td>\n      <td>no</td>\n      <td>34</td>\n      <td>unknown</td>\n      <td>5.0000</td>\n      <td>may</td>\n      <td>336.0000</td>\n      <td>1.0000</td>\n      <td>-1.0000</td>\n      <td>0.0000</td>\n      <td>unknown</td>\n      <td>no</td>\n    </tr>\n    <tr>\n      <th>35</th>\n      <td>57</td>\n      <td>technician</td>\n      <td>divorced</td>\n      <td>secondary</td>\n      <td>no</td>\n      <td>63</td>\n      <td>yes</td>\n      <td>no</td>\n      <td>35</td>\n      <td>unknown</td>\n      <td>5.0000</td>\n      <td>may</td>\n      <td>242.0000</td>\n      <td>1.0000</td>\n      <td>-1.0000</td>\n      <td>0.0000</td>\n      <td>unknown</td>\n      <td>no</td>\n    </tr>\n    <tr>\n      <th>36</th>\n      <td>25</td>\n      <td>blue-collar</td>\n      <td>married</td>\n      <td>secondary</td>\n      <td>no</td>\n      <td>-7</td>\n      <td>yes</td>\n      <td>no</td>\n      <td>36</td>\n      <td>unknown</td>\n      <td>5.0000</td>\n      <td>may</td>\n      <td>365.0000</td>\n      <td>1.0000</td>\n      <td>-1.0000</td>\n      <td>0.0000</td>\n      <td>unknown</td>\n      <td>no</td>\n    </tr>\n    <tr>\n      <th>37</th>\n      <td>53</td>\n      <td>technician</td>\n      <td>married</td>\n      <td>secondary</td>\n      <td>no</td>\n      <td>-3</td>\n      <td>no</td>\n      <td>no</td>\n      <td>37</td>\n      <td>unknown</td>\n      <td>5.0000</td>\n      <td>may</td>\n      <td>1,666.0000</td>\n      <td>1.0000</td>\n      <td>-1.0000</td>\n      <td>0.0000</td>\n      <td>unknown</td>\n      <td>no</td>\n    </tr>\n    <tr>\n      <th>38</th>\n      <td>36</td>\n      <td>admin.</td>\n      <td>divorced</td>\n      <td>secondary</td>\n      <td>no</td>\n      <td>506</td>\n      <td>yes</td>\n      <td>no</td>\n      <td>38</td>\n      <td>unknown</td>\n      <td>5.0000</td>\n      <td>may</td>\n      <td>577.0000</td>\n      <td>1.0000</td>\n      <td>-1.0000</td>\n      <td>0.0000</td>\n      <td>unknown</td>\n      <td>no</td>\n    </tr>\n    <tr>\n      <th>39</th>\n      <td>37</td>\n      <td>admin.</td>\n      <td>single</td>\n      <td>secondary</td>\n      <td>no</td>\n      <td>0</td>\n      <td>yes</td>\n      <td>no</td>\n      <td>39</td>\n      <td>unknown</td>\n      <td>5.0000</td>\n      <td>may</td>\n      <td>137.0000</td>\n      <td>1.0000</td>\n      <td>-1.0000</td>\n      <td>0.0000</td>\n      <td>unknown</td>\n      <td>no</td>\n    </tr>\n    <tr>\n      <th>40</th>\n      <td>44</td>\n      <td>services</td>\n      <td>divorced</td>\n      <td>secondary</td>\n      <td>no</td>\n      <td>2586</td>\n      <td>yes</td>\n      <td>no</td>\n      <td>40</td>\n      <td>unknown</td>\n      <td>5.0000</td>\n      <td>may</td>\n      <td>160.0000</td>\n      <td>1.0000</td>\n      <td>-1.0000</td>\n      <td>0.0000</td>\n      <td>unknown</td>\n      <td>no</td>\n    </tr>\n    <tr>\n      <th>41</th>\n      <td>50</td>\n      <td>management</td>\n      <td>married</td>\n      <td>secondary</td>\n      <td>no</td>\n      <td>49</td>\n      <td>yes</td>\n      <td>no</td>\n      <td>41</td>\n      <td>unknown</td>\n      <td>5.0000</td>\n      <td>may</td>\n      <td>180.0000</td>\n      <td>2.0000</td>\n      <td>-1.0000</td>\n      <td>0.0000</td>\n      <td>unknown</td>\n      <td>no</td>\n    </tr>\n    <tr>\n      <th>42</th>\n      <td>60</td>\n      <td>blue-collar</td>\n      <td>married</td>\n      <td>unknown</td>\n      <td>no</td>\n      <td>104</td>\n      <td>yes</td>\n      <td>no</td>\n      <td>42</td>\n      <td>unknown</td>\n      <td>5.0000</td>\n      <td>may</td>\n      <td>22.0000</td>\n      <td>1.0000</td>\n      <td>-1.0000</td>\n      <td>0.0000</td>\n      <td>unknown</td>\n      <td>no</td>\n    </tr>\n    <tr>\n      <th>43</th>\n      <td>54</td>\n      <td>retired</td>\n      <td>married</td>\n      <td>secondary</td>\n      <td>no</td>\n      <td>529</td>\n      <td>yes</td>\n      <td>no</td>\n      <td>43</td>\n      <td>NaN</td>\n      <td>NaN</td>\n      <td>NaN</td>\n      <td>NaN</td>\n      <td>NaN</td>\n      <td>NaN</td>\n      <td>NaN</td>\n      <td>NaN</td>\n      <td>NaN</td>\n    </tr>\n    <tr>\n      <th>44</th>\n      <td>58</td>\n      <td>retired</td>\n      <td>married</td>\n      <td>unknown</td>\n      <td>no</td>\n      <td>96</td>\n      <td>yes</td>\n      <td>no</td>\n      <td>44</td>\n      <td>unknown</td>\n      <td>5.0000</td>\n      <td>may</td>\n      <td>616.0000</td>\n      <td>1.0000</td>\n      <td>-1.0000</td>\n      <td>0.0000</td>\n      <td>unknown</td>\n      <td>no</td>\n    </tr>\n    <tr>\n      <th>45</th>\n      <td>36</td>\n      <td>admin.</td>\n      <td>single</td>\n      <td>primary</td>\n      <td>no</td>\n      <td>-171</td>\n      <td>yes</td>\n      <td>no</td>\n      <td>45</td>\n      <td>NaN</td>\n      <td>NaN</td>\n      <td>NaN</td>\n      <td>NaN</td>\n      <td>NaN</td>\n      <td>NaN</td>\n      <td>NaN</td>\n      <td>NaN</td>\n      <td>NaN</td>\n    </tr>\n    <tr>\n      <th>46</th>\n      <td>58</td>\n      <td>self-employed</td>\n      <td>married</td>\n      <td>tertiary</td>\n      <td>no</td>\n      <td>-364</td>\n      <td>yes</td>\n      <td>no</td>\n      <td>46</td>\n      <td>unknown</td>\n      <td>5.0000</td>\n      <td>may</td>\n      <td>355.0000</td>\n      <td>1.0000</td>\n      <td>-1.0000</td>\n      <td>0.0000</td>\n      <td>unknown</td>\n      <td>no</td>\n    </tr>\n    <tr>\n      <th>47</th>\n      <td>44</td>\n      <td>technician</td>\n      <td>married</td>\n      <td>secondary</td>\n      <td>no</td>\n      <td>0</td>\n      <td>yes</td>\n      <td>no</td>\n      <td>47</td>\n      <td>unknown</td>\n      <td>5.0000</td>\n      <td>may</td>\n      <td>225.0000</td>\n      <td>2.0000</td>\n      <td>-1.0000</td>\n      <td>0.0000</td>\n      <td>unknown</td>\n      <td>no</td>\n    </tr>\n    <tr>\n      <th>48</th>\n      <td>55</td>\n      <td>technician</td>\n      <td>divorced</td>\n      <td>secondary</td>\n      <td>no</td>\n      <td>0</td>\n      <td>no</td>\n      <td>no</td>\n      <td>48</td>\n      <td>unknown</td>\n      <td>5.0000</td>\n      <td>may</td>\n      <td>160.0000</td>\n      <td>1.0000</td>\n      <td>-1.0000</td>\n      <td>0.0000</td>\n      <td>unknown</td>\n      <td>no</td>\n    </tr>\n    <tr>\n      <th>49</th>\n      <td>29</td>\n      <td>management</td>\n      <td>single</td>\n      <td>tertiary</td>\n      <td>no</td>\n      <td>0</td>\n      <td>yes</td>\n      <td>no</td>\n      <td>49</td>\n      <td>unknown</td>\n      <td>5.0000</td>\n      <td>may</td>\n      <td>363.0000</td>\n      <td>1.0000</td>\n      <td>-1.0000</td>\n      <td>0.0000</td>\n      <td>unknown</td>\n      <td>no</td>\n    </tr>\n  </tbody>\n</table>\n</div>"
     },
     "execution_count": 27,
     "metadata": {},
     "output_type": "execute_result"
    }
   ],
   "source": [
    "print(aligned_df.shape)\n",
    "aligned_df.head(50)"
   ],
   "metadata": {
    "collapsed": false,
    "pycharm": {
     "name": "#%%\n"
    }
   }
  },
  {
   "cell_type": "code",
   "execution_count": 28,
   "outputs": [
    {
     "name": "stdout",
     "output_type": "stream",
     "text": [
      "(45211, 17)\n"
     ]
    },
    {
     "data": {
      "text/plain": "    age  balance  campaign  contact    day default   duration  education  \\\n0    58     2143    1.0000  unknown 5.0000      no   261.0000   tertiary   \n1    44       29    1.0000  unknown 5.0000      no   151.0000  secondary   \n2    33        2       NaN      NaN    NaN      no        NaN  secondary   \n3    47     1506       NaN      NaN    NaN      no        NaN    unknown   \n4    33        1    1.0000  unknown 5.0000      no   198.0000    unknown   \n5    35      231       NaN      NaN    NaN      no        NaN   tertiary   \n6    28      447    1.0000  unknown 5.0000      no   217.0000   tertiary   \n7    42        2       NaN      NaN    NaN     yes        NaN   tertiary   \n8    58      121       NaN      NaN    NaN      no        NaN    primary   \n9    43      593    1.0000  unknown 5.0000      no    55.0000  secondary   \n10   41      270       NaN      NaN    NaN      no        NaN  secondary   \n11   29      390       NaN      NaN    NaN      no        NaN  secondary   \n12   53        6    1.0000  unknown 5.0000      no   517.0000  secondary   \n13   58       71    1.0000  unknown 5.0000      no    71.0000    unknown   \n14   57      162       NaN      NaN    NaN      no        NaN  secondary   \n15   51      229       NaN      NaN    NaN      no        NaN    primary   \n16   45       13    1.0000  unknown 5.0000      no    98.0000    unknown   \n17   57       52       NaN      NaN    NaN      no        NaN    primary   \n18   60       60       NaN      NaN    NaN      no        NaN    primary   \n19   33        0    1.0000  unknown 5.0000      no    54.0000  secondary   \n20   28      723       NaN      NaN    NaN      no        NaN  secondary   \n21   56      779    1.0000  unknown 5.0000      no   164.0000   tertiary   \n22   32       23       NaN      NaN    NaN      no        NaN    primary   \n23   25       50    1.0000  unknown 5.0000      no   342.0000  secondary   \n24   40        0       NaN      NaN    NaN      no        NaN    primary   \n25   44     -372    1.0000  unknown 5.0000      no   172.0000  secondary   \n26   39      255       NaN      NaN    NaN      no        NaN   tertiary   \n27   52      113    1.0000  unknown 5.0000      no   127.0000  secondary   \n28   46     -246    2.0000  unknown 5.0000      no   255.0000  secondary   \n29   36      265       NaN      NaN    NaN      no        NaN  secondary   \n30   57      839       NaN      NaN    NaN      no        NaN  secondary   \n31   49      378       NaN      NaN    NaN      no        NaN   tertiary   \n32   60       39       NaN      NaN    NaN      no        NaN  secondary   \n33   59        0       NaN      NaN    NaN      no        NaN  secondary   \n34   51    10635    1.0000  unknown 5.0000      no   336.0000   tertiary   \n35   57       63    1.0000  unknown 5.0000      no   242.0000  secondary   \n36   25       -7    1.0000  unknown 5.0000      no   365.0000  secondary   \n37   53       -3    1.0000  unknown 5.0000      no 1,666.0000  secondary   \n38   36      506    1.0000  unknown 5.0000      no   577.0000  secondary   \n39   37        0    1.0000  unknown 5.0000      no   137.0000  secondary   \n40   44     2586    1.0000  unknown 5.0000      no   160.0000  secondary   \n41   50       49    2.0000  unknown 5.0000      no   180.0000  secondary   \n42   60      104    1.0000  unknown 5.0000      no    22.0000    unknown   \n43   54      529       NaN      NaN    NaN      no        NaN  secondary   \n44   58       96    1.0000  unknown 5.0000      no   616.0000    unknown   \n45   36     -171       NaN      NaN    NaN      no        NaN    primary   \n46   58     -364    1.0000  unknown 5.0000      no   355.0000   tertiary   \n47   44        0    2.0000  unknown 5.0000      no   225.0000  secondary   \n48   55        0    1.0000  unknown 5.0000      no   160.0000  secondary   \n49   29        0    1.0000  unknown 5.0000      no   363.0000   tertiary   \n\n   housing  index            job loan   marital month   pdays poutcome  \\\n0      yes      0     management   no   married   may -1.0000  unknown   \n1      yes      1     technician   no    single   may -1.0000  unknown   \n2      yes      2   entrepreneur  yes   married   may     NaN      NaN   \n3      yes      3    blue-collar   no   married   may     NaN      NaN   \n4       no      4        unknown   no    single   may -1.0000  unknown   \n5      yes      5     management   no   married   nov     NaN      NaN   \n6      yes      6     management  yes    single   may -1.0000  unknown   \n7      yes      7   entrepreneur   no  divorced   may     NaN      NaN   \n8      yes      8        retired   no   married   nov     NaN      NaN   \n9      yes      9     technician   no    single   may -1.0000  unknown   \n10     yes     10         admin.   no  divorced   nov     NaN      NaN   \n11     yes     11         admin.   no    single   jun     NaN      NaN   \n12     yes     12     technician   no   married   may -1.0000  unknown   \n13     yes     13     technician   no   married   may -1.0000  unknown   \n14     yes     14       services   no   married   apr     NaN      NaN   \n15     yes     15        retired   no   married   sep     NaN      NaN   \n16     yes     16         admin.   no    single   may -1.0000  unknown   \n17     yes     17    blue-collar   no   married   may     NaN      NaN   \n18     yes     18        retired   no   married   mar     NaN      NaN   \n19     yes     19       services   no   married   may -1.0000  unknown   \n20     yes     20    blue-collar  yes   married   aug     NaN      NaN   \n21     yes     21     management   no   married   may -1.0000  unknown   \n22     yes     22    blue-collar  yes    single   apr     NaN      NaN   \n23     yes     23       services   no   married   may -1.0000  unknown   \n24     yes     24        retired  yes   married   may     NaN      NaN   \n25     yes     25         admin.   no   married   may -1.0000  unknown   \n26     yes     26     management   no    single   nov     NaN      NaN   \n27     yes     27   entrepreneur  yes   married   may -1.0000  unknown   \n28     yes     28     management   no    single   may -1.0000  unknown   \n29     yes     29     technician  yes    single   aug     NaN      NaN   \n30      no     30     technician  yes   married   jun     NaN      NaN   \n31     yes     31     management   no   married   jun     NaN      NaN   \n32     yes     32         admin.  yes   married   may     NaN      NaN   \n33     yes     33    blue-collar   no   married   jul     NaN      NaN   \n34     yes     34     management   no   married   may -1.0000  unknown   \n35     yes     35     technician   no  divorced   may -1.0000  unknown   \n36     yes     36    blue-collar   no   married   may -1.0000  unknown   \n37      no     37     technician   no   married   may -1.0000  unknown   \n38     yes     38         admin.   no  divorced   may -1.0000  unknown   \n39     yes     39         admin.   no    single   may -1.0000  unknown   \n40     yes     40       services   no  divorced   may -1.0000  unknown   \n41     yes     41     management   no   married   may -1.0000  unknown   \n42     yes     42    blue-collar   no   married   may -1.0000  unknown   \n43     yes     43        retired   no   married   oct     NaN      NaN   \n44     yes     44        retired   no   married   may -1.0000  unknown   \n45     yes     45         admin.   no    single   jul     NaN      NaN   \n46     yes     46  self-employed   no   married   may -1.0000  unknown   \n47     yes     47     technician   no   married   may -1.0000  unknown   \n48      no     48     technician   no  divorced   may -1.0000  unknown   \n49     yes     49     management   no    single   may -1.0000  unknown   \n\n    previous  \n0     0.0000  \n1     0.0000  \n2     0.0000  \n3     5.0000  \n4     0.0000  \n5     0.0000  \n6     0.0000  \n7     0.0000  \n8     0.0000  \n9     0.0000  \n10    0.0000  \n11    0.0000  \n12    0.0000  \n13    0.0000  \n14    3.0000  \n15    0.0000  \n16    0.0000  \n17    0.0000  \n18    0.0000  \n19    0.0000  \n20    0.0000  \n21    0.0000  \n22    0.0000  \n23    0.0000  \n24    0.0000  \n25    0.0000  \n26    0.0000  \n27    0.0000  \n28    0.0000  \n29    0.0000  \n30    3.0000  \n31    0.0000  \n32    0.0000  \n33    0.0000  \n34    0.0000  \n35    0.0000  \n36    0.0000  \n37    0.0000  \n38    0.0000  \n39    0.0000  \n40    0.0000  \n41    0.0000  \n42    0.0000  \n43    0.0000  \n44    0.0000  \n45    0.0000  \n46    0.0000  \n47    0.0000  \n48    0.0000  \n49    0.0000  ",
      "text/html": "<div>\n<style scoped>\n    .dataframe tbody tr th:only-of-type {\n        vertical-align: middle;\n    }\n\n    .dataframe tbody tr th {\n        vertical-align: top;\n    }\n\n    .dataframe thead th {\n        text-align: right;\n    }\n</style>\n<table border=\"1\" class=\"dataframe\">\n  <thead>\n    <tr style=\"text-align: right;\">\n      <th></th>\n      <th>age</th>\n      <th>balance</th>\n      <th>campaign</th>\n      <th>contact</th>\n      <th>day</th>\n      <th>default</th>\n      <th>duration</th>\n      <th>education</th>\n      <th>housing</th>\n      <th>index</th>\n      <th>job</th>\n      <th>loan</th>\n      <th>marital</th>\n      <th>month</th>\n      <th>pdays</th>\n      <th>poutcome</th>\n      <th>previous</th>\n    </tr>\n  </thead>\n  <tbody>\n    <tr>\n      <th>0</th>\n      <td>58</td>\n      <td>2143</td>\n      <td>1.0000</td>\n      <td>unknown</td>\n      <td>5.0000</td>\n      <td>no</td>\n      <td>261.0000</td>\n      <td>tertiary</td>\n      <td>yes</td>\n      <td>0</td>\n      <td>management</td>\n      <td>no</td>\n      <td>married</td>\n      <td>may</td>\n      <td>-1.0000</td>\n      <td>unknown</td>\n      <td>0.0000</td>\n    </tr>\n    <tr>\n      <th>1</th>\n      <td>44</td>\n      <td>29</td>\n      <td>1.0000</td>\n      <td>unknown</td>\n      <td>5.0000</td>\n      <td>no</td>\n      <td>151.0000</td>\n      <td>secondary</td>\n      <td>yes</td>\n      <td>1</td>\n      <td>technician</td>\n      <td>no</td>\n      <td>single</td>\n      <td>may</td>\n      <td>-1.0000</td>\n      <td>unknown</td>\n      <td>0.0000</td>\n    </tr>\n    <tr>\n      <th>2</th>\n      <td>33</td>\n      <td>2</td>\n      <td>NaN</td>\n      <td>NaN</td>\n      <td>NaN</td>\n      <td>no</td>\n      <td>NaN</td>\n      <td>secondary</td>\n      <td>yes</td>\n      <td>2</td>\n      <td>entrepreneur</td>\n      <td>yes</td>\n      <td>married</td>\n      <td>may</td>\n      <td>NaN</td>\n      <td>NaN</td>\n      <td>0.0000</td>\n    </tr>\n    <tr>\n      <th>3</th>\n      <td>47</td>\n      <td>1506</td>\n      <td>NaN</td>\n      <td>NaN</td>\n      <td>NaN</td>\n      <td>no</td>\n      <td>NaN</td>\n      <td>unknown</td>\n      <td>yes</td>\n      <td>3</td>\n      <td>blue-collar</td>\n      <td>no</td>\n      <td>married</td>\n      <td>may</td>\n      <td>NaN</td>\n      <td>NaN</td>\n      <td>5.0000</td>\n    </tr>\n    <tr>\n      <th>4</th>\n      <td>33</td>\n      <td>1</td>\n      <td>1.0000</td>\n      <td>unknown</td>\n      <td>5.0000</td>\n      <td>no</td>\n      <td>198.0000</td>\n      <td>unknown</td>\n      <td>no</td>\n      <td>4</td>\n      <td>unknown</td>\n      <td>no</td>\n      <td>single</td>\n      <td>may</td>\n      <td>-1.0000</td>\n      <td>unknown</td>\n      <td>0.0000</td>\n    </tr>\n    <tr>\n      <th>5</th>\n      <td>35</td>\n      <td>231</td>\n      <td>NaN</td>\n      <td>NaN</td>\n      <td>NaN</td>\n      <td>no</td>\n      <td>NaN</td>\n      <td>tertiary</td>\n      <td>yes</td>\n      <td>5</td>\n      <td>management</td>\n      <td>no</td>\n      <td>married</td>\n      <td>nov</td>\n      <td>NaN</td>\n      <td>NaN</td>\n      <td>0.0000</td>\n    </tr>\n    <tr>\n      <th>6</th>\n      <td>28</td>\n      <td>447</td>\n      <td>1.0000</td>\n      <td>unknown</td>\n      <td>5.0000</td>\n      <td>no</td>\n      <td>217.0000</td>\n      <td>tertiary</td>\n      <td>yes</td>\n      <td>6</td>\n      <td>management</td>\n      <td>yes</td>\n      <td>single</td>\n      <td>may</td>\n      <td>-1.0000</td>\n      <td>unknown</td>\n      <td>0.0000</td>\n    </tr>\n    <tr>\n      <th>7</th>\n      <td>42</td>\n      <td>2</td>\n      <td>NaN</td>\n      <td>NaN</td>\n      <td>NaN</td>\n      <td>yes</td>\n      <td>NaN</td>\n      <td>tertiary</td>\n      <td>yes</td>\n      <td>7</td>\n      <td>entrepreneur</td>\n      <td>no</td>\n      <td>divorced</td>\n      <td>may</td>\n      <td>NaN</td>\n      <td>NaN</td>\n      <td>0.0000</td>\n    </tr>\n    <tr>\n      <th>8</th>\n      <td>58</td>\n      <td>121</td>\n      <td>NaN</td>\n      <td>NaN</td>\n      <td>NaN</td>\n      <td>no</td>\n      <td>NaN</td>\n      <td>primary</td>\n      <td>yes</td>\n      <td>8</td>\n      <td>retired</td>\n      <td>no</td>\n      <td>married</td>\n      <td>nov</td>\n      <td>NaN</td>\n      <td>NaN</td>\n      <td>0.0000</td>\n    </tr>\n    <tr>\n      <th>9</th>\n      <td>43</td>\n      <td>593</td>\n      <td>1.0000</td>\n      <td>unknown</td>\n      <td>5.0000</td>\n      <td>no</td>\n      <td>55.0000</td>\n      <td>secondary</td>\n      <td>yes</td>\n      <td>9</td>\n      <td>technician</td>\n      <td>no</td>\n      <td>single</td>\n      <td>may</td>\n      <td>-1.0000</td>\n      <td>unknown</td>\n      <td>0.0000</td>\n    </tr>\n    <tr>\n      <th>10</th>\n      <td>41</td>\n      <td>270</td>\n      <td>NaN</td>\n      <td>NaN</td>\n      <td>NaN</td>\n      <td>no</td>\n      <td>NaN</td>\n      <td>secondary</td>\n      <td>yes</td>\n      <td>10</td>\n      <td>admin.</td>\n      <td>no</td>\n      <td>divorced</td>\n      <td>nov</td>\n      <td>NaN</td>\n      <td>NaN</td>\n      <td>0.0000</td>\n    </tr>\n    <tr>\n      <th>11</th>\n      <td>29</td>\n      <td>390</td>\n      <td>NaN</td>\n      <td>NaN</td>\n      <td>NaN</td>\n      <td>no</td>\n      <td>NaN</td>\n      <td>secondary</td>\n      <td>yes</td>\n      <td>11</td>\n      <td>admin.</td>\n      <td>no</td>\n      <td>single</td>\n      <td>jun</td>\n      <td>NaN</td>\n      <td>NaN</td>\n      <td>0.0000</td>\n    </tr>\n    <tr>\n      <th>12</th>\n      <td>53</td>\n      <td>6</td>\n      <td>1.0000</td>\n      <td>unknown</td>\n      <td>5.0000</td>\n      <td>no</td>\n      <td>517.0000</td>\n      <td>secondary</td>\n      <td>yes</td>\n      <td>12</td>\n      <td>technician</td>\n      <td>no</td>\n      <td>married</td>\n      <td>may</td>\n      <td>-1.0000</td>\n      <td>unknown</td>\n      <td>0.0000</td>\n    </tr>\n    <tr>\n      <th>13</th>\n      <td>58</td>\n      <td>71</td>\n      <td>1.0000</td>\n      <td>unknown</td>\n      <td>5.0000</td>\n      <td>no</td>\n      <td>71.0000</td>\n      <td>unknown</td>\n      <td>yes</td>\n      <td>13</td>\n      <td>technician</td>\n      <td>no</td>\n      <td>married</td>\n      <td>may</td>\n      <td>-1.0000</td>\n      <td>unknown</td>\n      <td>0.0000</td>\n    </tr>\n    <tr>\n      <th>14</th>\n      <td>57</td>\n      <td>162</td>\n      <td>NaN</td>\n      <td>NaN</td>\n      <td>NaN</td>\n      <td>no</td>\n      <td>NaN</td>\n      <td>secondary</td>\n      <td>yes</td>\n      <td>14</td>\n      <td>services</td>\n      <td>no</td>\n      <td>married</td>\n      <td>apr</td>\n      <td>NaN</td>\n      <td>NaN</td>\n      <td>3.0000</td>\n    </tr>\n    <tr>\n      <th>15</th>\n      <td>51</td>\n      <td>229</td>\n      <td>NaN</td>\n      <td>NaN</td>\n      <td>NaN</td>\n      <td>no</td>\n      <td>NaN</td>\n      <td>primary</td>\n      <td>yes</td>\n      <td>15</td>\n      <td>retired</td>\n      <td>no</td>\n      <td>married</td>\n      <td>sep</td>\n      <td>NaN</td>\n      <td>NaN</td>\n      <td>0.0000</td>\n    </tr>\n    <tr>\n      <th>16</th>\n      <td>45</td>\n      <td>13</td>\n      <td>1.0000</td>\n      <td>unknown</td>\n      <td>5.0000</td>\n      <td>no</td>\n      <td>98.0000</td>\n      <td>unknown</td>\n      <td>yes</td>\n      <td>16</td>\n      <td>admin.</td>\n      <td>no</td>\n      <td>single</td>\n      <td>may</td>\n      <td>-1.0000</td>\n      <td>unknown</td>\n      <td>0.0000</td>\n    </tr>\n    <tr>\n      <th>17</th>\n      <td>57</td>\n      <td>52</td>\n      <td>NaN</td>\n      <td>NaN</td>\n      <td>NaN</td>\n      <td>no</td>\n      <td>NaN</td>\n      <td>primary</td>\n      <td>yes</td>\n      <td>17</td>\n      <td>blue-collar</td>\n      <td>no</td>\n      <td>married</td>\n      <td>may</td>\n      <td>NaN</td>\n      <td>NaN</td>\n      <td>0.0000</td>\n    </tr>\n    <tr>\n      <th>18</th>\n      <td>60</td>\n      <td>60</td>\n      <td>NaN</td>\n      <td>NaN</td>\n      <td>NaN</td>\n      <td>no</td>\n      <td>NaN</td>\n      <td>primary</td>\n      <td>yes</td>\n      <td>18</td>\n      <td>retired</td>\n      <td>no</td>\n      <td>married</td>\n      <td>mar</td>\n      <td>NaN</td>\n      <td>NaN</td>\n      <td>0.0000</td>\n    </tr>\n    <tr>\n      <th>19</th>\n      <td>33</td>\n      <td>0</td>\n      <td>1.0000</td>\n      <td>unknown</td>\n      <td>5.0000</td>\n      <td>no</td>\n      <td>54.0000</td>\n      <td>secondary</td>\n      <td>yes</td>\n      <td>19</td>\n      <td>services</td>\n      <td>no</td>\n      <td>married</td>\n      <td>may</td>\n      <td>-1.0000</td>\n      <td>unknown</td>\n      <td>0.0000</td>\n    </tr>\n    <tr>\n      <th>20</th>\n      <td>28</td>\n      <td>723</td>\n      <td>NaN</td>\n      <td>NaN</td>\n      <td>NaN</td>\n      <td>no</td>\n      <td>NaN</td>\n      <td>secondary</td>\n      <td>yes</td>\n      <td>20</td>\n      <td>blue-collar</td>\n      <td>yes</td>\n      <td>married</td>\n      <td>aug</td>\n      <td>NaN</td>\n      <td>NaN</td>\n      <td>0.0000</td>\n    </tr>\n    <tr>\n      <th>21</th>\n      <td>56</td>\n      <td>779</td>\n      <td>1.0000</td>\n      <td>unknown</td>\n      <td>5.0000</td>\n      <td>no</td>\n      <td>164.0000</td>\n      <td>tertiary</td>\n      <td>yes</td>\n      <td>21</td>\n      <td>management</td>\n      <td>no</td>\n      <td>married</td>\n      <td>may</td>\n      <td>-1.0000</td>\n      <td>unknown</td>\n      <td>0.0000</td>\n    </tr>\n    <tr>\n      <th>22</th>\n      <td>32</td>\n      <td>23</td>\n      <td>NaN</td>\n      <td>NaN</td>\n      <td>NaN</td>\n      <td>no</td>\n      <td>NaN</td>\n      <td>primary</td>\n      <td>yes</td>\n      <td>22</td>\n      <td>blue-collar</td>\n      <td>yes</td>\n      <td>single</td>\n      <td>apr</td>\n      <td>NaN</td>\n      <td>NaN</td>\n      <td>0.0000</td>\n    </tr>\n    <tr>\n      <th>23</th>\n      <td>25</td>\n      <td>50</td>\n      <td>1.0000</td>\n      <td>unknown</td>\n      <td>5.0000</td>\n      <td>no</td>\n      <td>342.0000</td>\n      <td>secondary</td>\n      <td>yes</td>\n      <td>23</td>\n      <td>services</td>\n      <td>no</td>\n      <td>married</td>\n      <td>may</td>\n      <td>-1.0000</td>\n      <td>unknown</td>\n      <td>0.0000</td>\n    </tr>\n    <tr>\n      <th>24</th>\n      <td>40</td>\n      <td>0</td>\n      <td>NaN</td>\n      <td>NaN</td>\n      <td>NaN</td>\n      <td>no</td>\n      <td>NaN</td>\n      <td>primary</td>\n      <td>yes</td>\n      <td>24</td>\n      <td>retired</td>\n      <td>yes</td>\n      <td>married</td>\n      <td>may</td>\n      <td>NaN</td>\n      <td>NaN</td>\n      <td>0.0000</td>\n    </tr>\n    <tr>\n      <th>25</th>\n      <td>44</td>\n      <td>-372</td>\n      <td>1.0000</td>\n      <td>unknown</td>\n      <td>5.0000</td>\n      <td>no</td>\n      <td>172.0000</td>\n      <td>secondary</td>\n      <td>yes</td>\n      <td>25</td>\n      <td>admin.</td>\n      <td>no</td>\n      <td>married</td>\n      <td>may</td>\n      <td>-1.0000</td>\n      <td>unknown</td>\n      <td>0.0000</td>\n    </tr>\n    <tr>\n      <th>26</th>\n      <td>39</td>\n      <td>255</td>\n      <td>NaN</td>\n      <td>NaN</td>\n      <td>NaN</td>\n      <td>no</td>\n      <td>NaN</td>\n      <td>tertiary</td>\n      <td>yes</td>\n      <td>26</td>\n      <td>management</td>\n      <td>no</td>\n      <td>single</td>\n      <td>nov</td>\n      <td>NaN</td>\n      <td>NaN</td>\n      <td>0.0000</td>\n    </tr>\n    <tr>\n      <th>27</th>\n      <td>52</td>\n      <td>113</td>\n      <td>1.0000</td>\n      <td>unknown</td>\n      <td>5.0000</td>\n      <td>no</td>\n      <td>127.0000</td>\n      <td>secondary</td>\n      <td>yes</td>\n      <td>27</td>\n      <td>entrepreneur</td>\n      <td>yes</td>\n      <td>married</td>\n      <td>may</td>\n      <td>-1.0000</td>\n      <td>unknown</td>\n      <td>0.0000</td>\n    </tr>\n    <tr>\n      <th>28</th>\n      <td>46</td>\n      <td>-246</td>\n      <td>2.0000</td>\n      <td>unknown</td>\n      <td>5.0000</td>\n      <td>no</td>\n      <td>255.0000</td>\n      <td>secondary</td>\n      <td>yes</td>\n      <td>28</td>\n      <td>management</td>\n      <td>no</td>\n      <td>single</td>\n      <td>may</td>\n      <td>-1.0000</td>\n      <td>unknown</td>\n      <td>0.0000</td>\n    </tr>\n    <tr>\n      <th>29</th>\n      <td>36</td>\n      <td>265</td>\n      <td>NaN</td>\n      <td>NaN</td>\n      <td>NaN</td>\n      <td>no</td>\n      <td>NaN</td>\n      <td>secondary</td>\n      <td>yes</td>\n      <td>29</td>\n      <td>technician</td>\n      <td>yes</td>\n      <td>single</td>\n      <td>aug</td>\n      <td>NaN</td>\n      <td>NaN</td>\n      <td>0.0000</td>\n    </tr>\n    <tr>\n      <th>30</th>\n      <td>57</td>\n      <td>839</td>\n      <td>NaN</td>\n      <td>NaN</td>\n      <td>NaN</td>\n      <td>no</td>\n      <td>NaN</td>\n      <td>secondary</td>\n      <td>no</td>\n      <td>30</td>\n      <td>technician</td>\n      <td>yes</td>\n      <td>married</td>\n      <td>jun</td>\n      <td>NaN</td>\n      <td>NaN</td>\n      <td>3.0000</td>\n    </tr>\n    <tr>\n      <th>31</th>\n      <td>49</td>\n      <td>378</td>\n      <td>NaN</td>\n      <td>NaN</td>\n      <td>NaN</td>\n      <td>no</td>\n      <td>NaN</td>\n      <td>tertiary</td>\n      <td>yes</td>\n      <td>31</td>\n      <td>management</td>\n      <td>no</td>\n      <td>married</td>\n      <td>jun</td>\n      <td>NaN</td>\n      <td>NaN</td>\n      <td>0.0000</td>\n    </tr>\n    <tr>\n      <th>32</th>\n      <td>60</td>\n      <td>39</td>\n      <td>NaN</td>\n      <td>NaN</td>\n      <td>NaN</td>\n      <td>no</td>\n      <td>NaN</td>\n      <td>secondary</td>\n      <td>yes</td>\n      <td>32</td>\n      <td>admin.</td>\n      <td>yes</td>\n      <td>married</td>\n      <td>may</td>\n      <td>NaN</td>\n      <td>NaN</td>\n      <td>0.0000</td>\n    </tr>\n    <tr>\n      <th>33</th>\n      <td>59</td>\n      <td>0</td>\n      <td>NaN</td>\n      <td>NaN</td>\n      <td>NaN</td>\n      <td>no</td>\n      <td>NaN</td>\n      <td>secondary</td>\n      <td>yes</td>\n      <td>33</td>\n      <td>blue-collar</td>\n      <td>no</td>\n      <td>married</td>\n      <td>jul</td>\n      <td>NaN</td>\n      <td>NaN</td>\n      <td>0.0000</td>\n    </tr>\n    <tr>\n      <th>34</th>\n      <td>51</td>\n      <td>10635</td>\n      <td>1.0000</td>\n      <td>unknown</td>\n      <td>5.0000</td>\n      <td>no</td>\n      <td>336.0000</td>\n      <td>tertiary</td>\n      <td>yes</td>\n      <td>34</td>\n      <td>management</td>\n      <td>no</td>\n      <td>married</td>\n      <td>may</td>\n      <td>-1.0000</td>\n      <td>unknown</td>\n      <td>0.0000</td>\n    </tr>\n    <tr>\n      <th>35</th>\n      <td>57</td>\n      <td>63</td>\n      <td>1.0000</td>\n      <td>unknown</td>\n      <td>5.0000</td>\n      <td>no</td>\n      <td>242.0000</td>\n      <td>secondary</td>\n      <td>yes</td>\n      <td>35</td>\n      <td>technician</td>\n      <td>no</td>\n      <td>divorced</td>\n      <td>may</td>\n      <td>-1.0000</td>\n      <td>unknown</td>\n      <td>0.0000</td>\n    </tr>\n    <tr>\n      <th>36</th>\n      <td>25</td>\n      <td>-7</td>\n      <td>1.0000</td>\n      <td>unknown</td>\n      <td>5.0000</td>\n      <td>no</td>\n      <td>365.0000</td>\n      <td>secondary</td>\n      <td>yes</td>\n      <td>36</td>\n      <td>blue-collar</td>\n      <td>no</td>\n      <td>married</td>\n      <td>may</td>\n      <td>-1.0000</td>\n      <td>unknown</td>\n      <td>0.0000</td>\n    </tr>\n    <tr>\n      <th>37</th>\n      <td>53</td>\n      <td>-3</td>\n      <td>1.0000</td>\n      <td>unknown</td>\n      <td>5.0000</td>\n      <td>no</td>\n      <td>1,666.0000</td>\n      <td>secondary</td>\n      <td>no</td>\n      <td>37</td>\n      <td>technician</td>\n      <td>no</td>\n      <td>married</td>\n      <td>may</td>\n      <td>-1.0000</td>\n      <td>unknown</td>\n      <td>0.0000</td>\n    </tr>\n    <tr>\n      <th>38</th>\n      <td>36</td>\n      <td>506</td>\n      <td>1.0000</td>\n      <td>unknown</td>\n      <td>5.0000</td>\n      <td>no</td>\n      <td>577.0000</td>\n      <td>secondary</td>\n      <td>yes</td>\n      <td>38</td>\n      <td>admin.</td>\n      <td>no</td>\n      <td>divorced</td>\n      <td>may</td>\n      <td>-1.0000</td>\n      <td>unknown</td>\n      <td>0.0000</td>\n    </tr>\n    <tr>\n      <th>39</th>\n      <td>37</td>\n      <td>0</td>\n      <td>1.0000</td>\n      <td>unknown</td>\n      <td>5.0000</td>\n      <td>no</td>\n      <td>137.0000</td>\n      <td>secondary</td>\n      <td>yes</td>\n      <td>39</td>\n      <td>admin.</td>\n      <td>no</td>\n      <td>single</td>\n      <td>may</td>\n      <td>-1.0000</td>\n      <td>unknown</td>\n      <td>0.0000</td>\n    </tr>\n    <tr>\n      <th>40</th>\n      <td>44</td>\n      <td>2586</td>\n      <td>1.0000</td>\n      <td>unknown</td>\n      <td>5.0000</td>\n      <td>no</td>\n      <td>160.0000</td>\n      <td>secondary</td>\n      <td>yes</td>\n      <td>40</td>\n      <td>services</td>\n      <td>no</td>\n      <td>divorced</td>\n      <td>may</td>\n      <td>-1.0000</td>\n      <td>unknown</td>\n      <td>0.0000</td>\n    </tr>\n    <tr>\n      <th>41</th>\n      <td>50</td>\n      <td>49</td>\n      <td>2.0000</td>\n      <td>unknown</td>\n      <td>5.0000</td>\n      <td>no</td>\n      <td>180.0000</td>\n      <td>secondary</td>\n      <td>yes</td>\n      <td>41</td>\n      <td>management</td>\n      <td>no</td>\n      <td>married</td>\n      <td>may</td>\n      <td>-1.0000</td>\n      <td>unknown</td>\n      <td>0.0000</td>\n    </tr>\n    <tr>\n      <th>42</th>\n      <td>60</td>\n      <td>104</td>\n      <td>1.0000</td>\n      <td>unknown</td>\n      <td>5.0000</td>\n      <td>no</td>\n      <td>22.0000</td>\n      <td>unknown</td>\n      <td>yes</td>\n      <td>42</td>\n      <td>blue-collar</td>\n      <td>no</td>\n      <td>married</td>\n      <td>may</td>\n      <td>-1.0000</td>\n      <td>unknown</td>\n      <td>0.0000</td>\n    </tr>\n    <tr>\n      <th>43</th>\n      <td>54</td>\n      <td>529</td>\n      <td>NaN</td>\n      <td>NaN</td>\n      <td>NaN</td>\n      <td>no</td>\n      <td>NaN</td>\n      <td>secondary</td>\n      <td>yes</td>\n      <td>43</td>\n      <td>retired</td>\n      <td>no</td>\n      <td>married</td>\n      <td>oct</td>\n      <td>NaN</td>\n      <td>NaN</td>\n      <td>0.0000</td>\n    </tr>\n    <tr>\n      <th>44</th>\n      <td>58</td>\n      <td>96</td>\n      <td>1.0000</td>\n      <td>unknown</td>\n      <td>5.0000</td>\n      <td>no</td>\n      <td>616.0000</td>\n      <td>unknown</td>\n      <td>yes</td>\n      <td>44</td>\n      <td>retired</td>\n      <td>no</td>\n      <td>married</td>\n      <td>may</td>\n      <td>-1.0000</td>\n      <td>unknown</td>\n      <td>0.0000</td>\n    </tr>\n    <tr>\n      <th>45</th>\n      <td>36</td>\n      <td>-171</td>\n      <td>NaN</td>\n      <td>NaN</td>\n      <td>NaN</td>\n      <td>no</td>\n      <td>NaN</td>\n      <td>primary</td>\n      <td>yes</td>\n      <td>45</td>\n      <td>admin.</td>\n      <td>no</td>\n      <td>single</td>\n      <td>jul</td>\n      <td>NaN</td>\n      <td>NaN</td>\n      <td>0.0000</td>\n    </tr>\n    <tr>\n      <th>46</th>\n      <td>58</td>\n      <td>-364</td>\n      <td>1.0000</td>\n      <td>unknown</td>\n      <td>5.0000</td>\n      <td>no</td>\n      <td>355.0000</td>\n      <td>tertiary</td>\n      <td>yes</td>\n      <td>46</td>\n      <td>self-employed</td>\n      <td>no</td>\n      <td>married</td>\n      <td>may</td>\n      <td>-1.0000</td>\n      <td>unknown</td>\n      <td>0.0000</td>\n    </tr>\n    <tr>\n      <th>47</th>\n      <td>44</td>\n      <td>0</td>\n      <td>2.0000</td>\n      <td>unknown</td>\n      <td>5.0000</td>\n      <td>no</td>\n      <td>225.0000</td>\n      <td>secondary</td>\n      <td>yes</td>\n      <td>47</td>\n      <td>technician</td>\n      <td>no</td>\n      <td>married</td>\n      <td>may</td>\n      <td>-1.0000</td>\n      <td>unknown</td>\n      <td>0.0000</td>\n    </tr>\n    <tr>\n      <th>48</th>\n      <td>55</td>\n      <td>0</td>\n      <td>1.0000</td>\n      <td>unknown</td>\n      <td>5.0000</td>\n      <td>no</td>\n      <td>160.0000</td>\n      <td>secondary</td>\n      <td>no</td>\n      <td>48</td>\n      <td>technician</td>\n      <td>no</td>\n      <td>divorced</td>\n      <td>may</td>\n      <td>-1.0000</td>\n      <td>unknown</td>\n      <td>0.0000</td>\n    </tr>\n    <tr>\n      <th>49</th>\n      <td>29</td>\n      <td>0</td>\n      <td>1.0000</td>\n      <td>unknown</td>\n      <td>5.0000</td>\n      <td>no</td>\n      <td>363.0000</td>\n      <td>tertiary</td>\n      <td>yes</td>\n      <td>49</td>\n      <td>management</td>\n      <td>no</td>\n      <td>single</td>\n      <td>may</td>\n      <td>-1.0000</td>\n      <td>unknown</td>\n      <td>0.0000</td>\n    </tr>\n  </tbody>\n</table>\n</div>"
     },
     "execution_count": 28,
     "metadata": {},
     "output_type": "execute_result"
    }
   ],
   "source": [
    "# 假设df1和df2是你的两个DataFrame\n",
    "aligned_df_new = aligned_df.combine_first(correlation_synthetic_data)\n",
    "aligned_df_new=aligned_df_new.drop('y',axis=1)\n",
    "print(aligned_df_new.shape)\n",
    "aligned_df_new.head(50)"
   ],
   "metadata": {
    "collapsed": false,
    "pycharm": {
     "name": "#%%\n"
    }
   }
  },
  {
   "cell_type": "markdown",
   "source": [
    "# 编码"
   ],
   "metadata": {
    "collapsed": false
   }
  },
  {
   "cell_type": "code",
   "execution_count": 29,
   "outputs": [
    {
     "data": {
      "text/plain": "    age  balance  campaign  contact    day default   duration  education  \\\n0    58     2143    1.0000  unknown 5.0000      no   261.0000   tertiary   \n1    44       29    1.0000  unknown 5.0000      no   151.0000  secondary   \n2    33        2       NaN      NaN    NaN      no        NaN  secondary   \n3    47     1506       NaN      NaN    NaN      no        NaN    unknown   \n4    33        1    1.0000  unknown 5.0000      no   198.0000    unknown   \n5    35      231       NaN      NaN    NaN      no        NaN   tertiary   \n6    28      447    1.0000  unknown 5.0000      no   217.0000   tertiary   \n7    42        2       NaN      NaN    NaN     yes        NaN   tertiary   \n8    58      121       NaN      NaN    NaN      no        NaN    primary   \n9    43      593    1.0000  unknown 5.0000      no    55.0000  secondary   \n10   41      270       NaN      NaN    NaN      no        NaN  secondary   \n11   29      390       NaN      NaN    NaN      no        NaN  secondary   \n12   53        6    1.0000  unknown 5.0000      no   517.0000  secondary   \n13   58       71    1.0000  unknown 5.0000      no    71.0000    unknown   \n14   57      162       NaN      NaN    NaN      no        NaN  secondary   \n15   51      229       NaN      NaN    NaN      no        NaN    primary   \n16   45       13    1.0000  unknown 5.0000      no    98.0000    unknown   \n17   57       52       NaN      NaN    NaN      no        NaN    primary   \n18   60       60       NaN      NaN    NaN      no        NaN    primary   \n19   33        0    1.0000  unknown 5.0000      no    54.0000  secondary   \n20   28      723       NaN      NaN    NaN      no        NaN  secondary   \n21   56      779    1.0000  unknown 5.0000      no   164.0000   tertiary   \n22   32       23       NaN      NaN    NaN      no        NaN    primary   \n23   25       50    1.0000  unknown 5.0000      no   342.0000  secondary   \n24   40        0       NaN      NaN    NaN      no        NaN    primary   \n25   44     -372    1.0000  unknown 5.0000      no   172.0000  secondary   \n26   39      255       NaN      NaN    NaN      no        NaN   tertiary   \n27   52      113    1.0000  unknown 5.0000      no   127.0000  secondary   \n28   46     -246    2.0000  unknown 5.0000      no   255.0000  secondary   \n29   36      265       NaN      NaN    NaN      no        NaN  secondary   \n30   57      839       NaN      NaN    NaN      no        NaN  secondary   \n31   49      378       NaN      NaN    NaN      no        NaN   tertiary   \n32   60       39       NaN      NaN    NaN      no        NaN  secondary   \n33   59        0       NaN      NaN    NaN      no        NaN  secondary   \n34   51    10635    1.0000  unknown 5.0000      no   336.0000   tertiary   \n35   57       63    1.0000  unknown 5.0000      no   242.0000  secondary   \n36   25       -7    1.0000  unknown 5.0000      no   365.0000  secondary   \n37   53       -3    1.0000  unknown 5.0000      no 1,666.0000  secondary   \n38   36      506    1.0000  unknown 5.0000      no   577.0000  secondary   \n39   37        0    1.0000  unknown 5.0000      no   137.0000  secondary   \n40   44     2586    1.0000  unknown 5.0000      no   160.0000  secondary   \n41   50       49    2.0000  unknown 5.0000      no   180.0000  secondary   \n42   60      104    1.0000  unknown 5.0000      no    22.0000    unknown   \n43   54      529       NaN      NaN    NaN      no        NaN  secondary   \n44   58       96    1.0000  unknown 5.0000      no   616.0000    unknown   \n45   36     -171       NaN      NaN    NaN      no        NaN    primary   \n46   58     -364    1.0000  unknown 5.0000      no   355.0000   tertiary   \n47   44        0    2.0000  unknown 5.0000      no   225.0000  secondary   \n48   55        0    1.0000  unknown 5.0000      no   160.0000  secondary   \n49   29        0    1.0000  unknown 5.0000      no   363.0000   tertiary   \n\n   housing  index            job loan   marital month   pdays poutcome  \\\n0      yes      0     management   no   married   may -1.0000  unknown   \n1      yes      1     technician   no    single   may -1.0000  unknown   \n2      yes      2   entrepreneur  yes   married   may     NaN      NaN   \n3      yes      3    blue-collar   no   married   may     NaN      NaN   \n4       no      4        unknown   no    single   may -1.0000  unknown   \n5      yes      5     management   no   married   nov     NaN      NaN   \n6      yes      6     management  yes    single   may -1.0000  unknown   \n7      yes      7   entrepreneur   no  divorced   may     NaN      NaN   \n8      yes      8        retired   no   married   nov     NaN      NaN   \n9      yes      9     technician   no    single   may -1.0000  unknown   \n10     yes     10         admin.   no  divorced   nov     NaN      NaN   \n11     yes     11         admin.   no    single   jun     NaN      NaN   \n12     yes     12     technician   no   married   may -1.0000  unknown   \n13     yes     13     technician   no   married   may -1.0000  unknown   \n14     yes     14       services   no   married   apr     NaN      NaN   \n15     yes     15        retired   no   married   sep     NaN      NaN   \n16     yes     16         admin.   no    single   may -1.0000  unknown   \n17     yes     17    blue-collar   no   married   may     NaN      NaN   \n18     yes     18        retired   no   married   mar     NaN      NaN   \n19     yes     19       services   no   married   may -1.0000  unknown   \n20     yes     20    blue-collar  yes   married   aug     NaN      NaN   \n21     yes     21     management   no   married   may -1.0000  unknown   \n22     yes     22    blue-collar  yes    single   apr     NaN      NaN   \n23     yes     23       services   no   married   may -1.0000  unknown   \n24     yes     24        retired  yes   married   may     NaN      NaN   \n25     yes     25         admin.   no   married   may -1.0000  unknown   \n26     yes     26     management   no    single   nov     NaN      NaN   \n27     yes     27   entrepreneur  yes   married   may -1.0000  unknown   \n28     yes     28     management   no    single   may -1.0000  unknown   \n29     yes     29     technician  yes    single   aug     NaN      NaN   \n30      no     30     technician  yes   married   jun     NaN      NaN   \n31     yes     31     management   no   married   jun     NaN      NaN   \n32     yes     32         admin.  yes   married   may     NaN      NaN   \n33     yes     33    blue-collar   no   married   jul     NaN      NaN   \n34     yes     34     management   no   married   may -1.0000  unknown   \n35     yes     35     technician   no  divorced   may -1.0000  unknown   \n36     yes     36    blue-collar   no   married   may -1.0000  unknown   \n37      no     37     technician   no   married   may -1.0000  unknown   \n38     yes     38         admin.   no  divorced   may -1.0000  unknown   \n39     yes     39         admin.   no    single   may -1.0000  unknown   \n40     yes     40       services   no  divorced   may -1.0000  unknown   \n41     yes     41     management   no   married   may -1.0000  unknown   \n42     yes     42    blue-collar   no   married   may -1.0000  unknown   \n43     yes     43        retired   no   married   oct     NaN      NaN   \n44     yes     44        retired   no   married   may -1.0000  unknown   \n45     yes     45         admin.   no    single   jul     NaN      NaN   \n46     yes     46  self-employed   no   married   may -1.0000  unknown   \n47     yes     47     technician   no   married   may -1.0000  unknown   \n48      no     48     technician   no  divorced   may -1.0000  unknown   \n49     yes     49     management   no    single   may -1.0000  unknown   \n\n    previous  \n0     0.0000  \n1     0.0000  \n2     0.0000  \n3     5.0000  \n4     0.0000  \n5     0.0000  \n6     0.0000  \n7     0.0000  \n8     0.0000  \n9     0.0000  \n10    0.0000  \n11    0.0000  \n12    0.0000  \n13    0.0000  \n14    3.0000  \n15    0.0000  \n16    0.0000  \n17    0.0000  \n18    0.0000  \n19    0.0000  \n20    0.0000  \n21    0.0000  \n22    0.0000  \n23    0.0000  \n24    0.0000  \n25    0.0000  \n26    0.0000  \n27    0.0000  \n28    0.0000  \n29    0.0000  \n30    3.0000  \n31    0.0000  \n32    0.0000  \n33    0.0000  \n34    0.0000  \n35    0.0000  \n36    0.0000  \n37    0.0000  \n38    0.0000  \n39    0.0000  \n40    0.0000  \n41    0.0000  \n42    0.0000  \n43    0.0000  \n44    0.0000  \n45    0.0000  \n46    0.0000  \n47    0.0000  \n48    0.0000  \n49    0.0000  ",
      "text/html": "<div>\n<style scoped>\n    .dataframe tbody tr th:only-of-type {\n        vertical-align: middle;\n    }\n\n    .dataframe tbody tr th {\n        vertical-align: top;\n    }\n\n    .dataframe thead th {\n        text-align: right;\n    }\n</style>\n<table border=\"1\" class=\"dataframe\">\n  <thead>\n    <tr style=\"text-align: right;\">\n      <th></th>\n      <th>age</th>\n      <th>balance</th>\n      <th>campaign</th>\n      <th>contact</th>\n      <th>day</th>\n      <th>default</th>\n      <th>duration</th>\n      <th>education</th>\n      <th>housing</th>\n      <th>index</th>\n      <th>job</th>\n      <th>loan</th>\n      <th>marital</th>\n      <th>month</th>\n      <th>pdays</th>\n      <th>poutcome</th>\n      <th>previous</th>\n    </tr>\n  </thead>\n  <tbody>\n    <tr>\n      <th>0</th>\n      <td>58</td>\n      <td>2143</td>\n      <td>1.0000</td>\n      <td>unknown</td>\n      <td>5.0000</td>\n      <td>no</td>\n      <td>261.0000</td>\n      <td>tertiary</td>\n      <td>yes</td>\n      <td>0</td>\n      <td>management</td>\n      <td>no</td>\n      <td>married</td>\n      <td>may</td>\n      <td>-1.0000</td>\n      <td>unknown</td>\n      <td>0.0000</td>\n    </tr>\n    <tr>\n      <th>1</th>\n      <td>44</td>\n      <td>29</td>\n      <td>1.0000</td>\n      <td>unknown</td>\n      <td>5.0000</td>\n      <td>no</td>\n      <td>151.0000</td>\n      <td>secondary</td>\n      <td>yes</td>\n      <td>1</td>\n      <td>technician</td>\n      <td>no</td>\n      <td>single</td>\n      <td>may</td>\n      <td>-1.0000</td>\n      <td>unknown</td>\n      <td>0.0000</td>\n    </tr>\n    <tr>\n      <th>2</th>\n      <td>33</td>\n      <td>2</td>\n      <td>NaN</td>\n      <td>NaN</td>\n      <td>NaN</td>\n      <td>no</td>\n      <td>NaN</td>\n      <td>secondary</td>\n      <td>yes</td>\n      <td>2</td>\n      <td>entrepreneur</td>\n      <td>yes</td>\n      <td>married</td>\n      <td>may</td>\n      <td>NaN</td>\n      <td>NaN</td>\n      <td>0.0000</td>\n    </tr>\n    <tr>\n      <th>3</th>\n      <td>47</td>\n      <td>1506</td>\n      <td>NaN</td>\n      <td>NaN</td>\n      <td>NaN</td>\n      <td>no</td>\n      <td>NaN</td>\n      <td>unknown</td>\n      <td>yes</td>\n      <td>3</td>\n      <td>blue-collar</td>\n      <td>no</td>\n      <td>married</td>\n      <td>may</td>\n      <td>NaN</td>\n      <td>NaN</td>\n      <td>5.0000</td>\n    </tr>\n    <tr>\n      <th>4</th>\n      <td>33</td>\n      <td>1</td>\n      <td>1.0000</td>\n      <td>unknown</td>\n      <td>5.0000</td>\n      <td>no</td>\n      <td>198.0000</td>\n      <td>unknown</td>\n      <td>no</td>\n      <td>4</td>\n      <td>unknown</td>\n      <td>no</td>\n      <td>single</td>\n      <td>may</td>\n      <td>-1.0000</td>\n      <td>unknown</td>\n      <td>0.0000</td>\n    </tr>\n    <tr>\n      <th>5</th>\n      <td>35</td>\n      <td>231</td>\n      <td>NaN</td>\n      <td>NaN</td>\n      <td>NaN</td>\n      <td>no</td>\n      <td>NaN</td>\n      <td>tertiary</td>\n      <td>yes</td>\n      <td>5</td>\n      <td>management</td>\n      <td>no</td>\n      <td>married</td>\n      <td>nov</td>\n      <td>NaN</td>\n      <td>NaN</td>\n      <td>0.0000</td>\n    </tr>\n    <tr>\n      <th>6</th>\n      <td>28</td>\n      <td>447</td>\n      <td>1.0000</td>\n      <td>unknown</td>\n      <td>5.0000</td>\n      <td>no</td>\n      <td>217.0000</td>\n      <td>tertiary</td>\n      <td>yes</td>\n      <td>6</td>\n      <td>management</td>\n      <td>yes</td>\n      <td>single</td>\n      <td>may</td>\n      <td>-1.0000</td>\n      <td>unknown</td>\n      <td>0.0000</td>\n    </tr>\n    <tr>\n      <th>7</th>\n      <td>42</td>\n      <td>2</td>\n      <td>NaN</td>\n      <td>NaN</td>\n      <td>NaN</td>\n      <td>yes</td>\n      <td>NaN</td>\n      <td>tertiary</td>\n      <td>yes</td>\n      <td>7</td>\n      <td>entrepreneur</td>\n      <td>no</td>\n      <td>divorced</td>\n      <td>may</td>\n      <td>NaN</td>\n      <td>NaN</td>\n      <td>0.0000</td>\n    </tr>\n    <tr>\n      <th>8</th>\n      <td>58</td>\n      <td>121</td>\n      <td>NaN</td>\n      <td>NaN</td>\n      <td>NaN</td>\n      <td>no</td>\n      <td>NaN</td>\n      <td>primary</td>\n      <td>yes</td>\n      <td>8</td>\n      <td>retired</td>\n      <td>no</td>\n      <td>married</td>\n      <td>nov</td>\n      <td>NaN</td>\n      <td>NaN</td>\n      <td>0.0000</td>\n    </tr>\n    <tr>\n      <th>9</th>\n      <td>43</td>\n      <td>593</td>\n      <td>1.0000</td>\n      <td>unknown</td>\n      <td>5.0000</td>\n      <td>no</td>\n      <td>55.0000</td>\n      <td>secondary</td>\n      <td>yes</td>\n      <td>9</td>\n      <td>technician</td>\n      <td>no</td>\n      <td>single</td>\n      <td>may</td>\n      <td>-1.0000</td>\n      <td>unknown</td>\n      <td>0.0000</td>\n    </tr>\n    <tr>\n      <th>10</th>\n      <td>41</td>\n      <td>270</td>\n      <td>NaN</td>\n      <td>NaN</td>\n      <td>NaN</td>\n      <td>no</td>\n      <td>NaN</td>\n      <td>secondary</td>\n      <td>yes</td>\n      <td>10</td>\n      <td>admin.</td>\n      <td>no</td>\n      <td>divorced</td>\n      <td>nov</td>\n      <td>NaN</td>\n      <td>NaN</td>\n      <td>0.0000</td>\n    </tr>\n    <tr>\n      <th>11</th>\n      <td>29</td>\n      <td>390</td>\n      <td>NaN</td>\n      <td>NaN</td>\n      <td>NaN</td>\n      <td>no</td>\n      <td>NaN</td>\n      <td>secondary</td>\n      <td>yes</td>\n      <td>11</td>\n      <td>admin.</td>\n      <td>no</td>\n      <td>single</td>\n      <td>jun</td>\n      <td>NaN</td>\n      <td>NaN</td>\n      <td>0.0000</td>\n    </tr>\n    <tr>\n      <th>12</th>\n      <td>53</td>\n      <td>6</td>\n      <td>1.0000</td>\n      <td>unknown</td>\n      <td>5.0000</td>\n      <td>no</td>\n      <td>517.0000</td>\n      <td>secondary</td>\n      <td>yes</td>\n      <td>12</td>\n      <td>technician</td>\n      <td>no</td>\n      <td>married</td>\n      <td>may</td>\n      <td>-1.0000</td>\n      <td>unknown</td>\n      <td>0.0000</td>\n    </tr>\n    <tr>\n      <th>13</th>\n      <td>58</td>\n      <td>71</td>\n      <td>1.0000</td>\n      <td>unknown</td>\n      <td>5.0000</td>\n      <td>no</td>\n      <td>71.0000</td>\n      <td>unknown</td>\n      <td>yes</td>\n      <td>13</td>\n      <td>technician</td>\n      <td>no</td>\n      <td>married</td>\n      <td>may</td>\n      <td>-1.0000</td>\n      <td>unknown</td>\n      <td>0.0000</td>\n    </tr>\n    <tr>\n      <th>14</th>\n      <td>57</td>\n      <td>162</td>\n      <td>NaN</td>\n      <td>NaN</td>\n      <td>NaN</td>\n      <td>no</td>\n      <td>NaN</td>\n      <td>secondary</td>\n      <td>yes</td>\n      <td>14</td>\n      <td>services</td>\n      <td>no</td>\n      <td>married</td>\n      <td>apr</td>\n      <td>NaN</td>\n      <td>NaN</td>\n      <td>3.0000</td>\n    </tr>\n    <tr>\n      <th>15</th>\n      <td>51</td>\n      <td>229</td>\n      <td>NaN</td>\n      <td>NaN</td>\n      <td>NaN</td>\n      <td>no</td>\n      <td>NaN</td>\n      <td>primary</td>\n      <td>yes</td>\n      <td>15</td>\n      <td>retired</td>\n      <td>no</td>\n      <td>married</td>\n      <td>sep</td>\n      <td>NaN</td>\n      <td>NaN</td>\n      <td>0.0000</td>\n    </tr>\n    <tr>\n      <th>16</th>\n      <td>45</td>\n      <td>13</td>\n      <td>1.0000</td>\n      <td>unknown</td>\n      <td>5.0000</td>\n      <td>no</td>\n      <td>98.0000</td>\n      <td>unknown</td>\n      <td>yes</td>\n      <td>16</td>\n      <td>admin.</td>\n      <td>no</td>\n      <td>single</td>\n      <td>may</td>\n      <td>-1.0000</td>\n      <td>unknown</td>\n      <td>0.0000</td>\n    </tr>\n    <tr>\n      <th>17</th>\n      <td>57</td>\n      <td>52</td>\n      <td>NaN</td>\n      <td>NaN</td>\n      <td>NaN</td>\n      <td>no</td>\n      <td>NaN</td>\n      <td>primary</td>\n      <td>yes</td>\n      <td>17</td>\n      <td>blue-collar</td>\n      <td>no</td>\n      <td>married</td>\n      <td>may</td>\n      <td>NaN</td>\n      <td>NaN</td>\n      <td>0.0000</td>\n    </tr>\n    <tr>\n      <th>18</th>\n      <td>60</td>\n      <td>60</td>\n      <td>NaN</td>\n      <td>NaN</td>\n      <td>NaN</td>\n      <td>no</td>\n      <td>NaN</td>\n      <td>primary</td>\n      <td>yes</td>\n      <td>18</td>\n      <td>retired</td>\n      <td>no</td>\n      <td>married</td>\n      <td>mar</td>\n      <td>NaN</td>\n      <td>NaN</td>\n      <td>0.0000</td>\n    </tr>\n    <tr>\n      <th>19</th>\n      <td>33</td>\n      <td>0</td>\n      <td>1.0000</td>\n      <td>unknown</td>\n      <td>5.0000</td>\n      <td>no</td>\n      <td>54.0000</td>\n      <td>secondary</td>\n      <td>yes</td>\n      <td>19</td>\n      <td>services</td>\n      <td>no</td>\n      <td>married</td>\n      <td>may</td>\n      <td>-1.0000</td>\n      <td>unknown</td>\n      <td>0.0000</td>\n    </tr>\n    <tr>\n      <th>20</th>\n      <td>28</td>\n      <td>723</td>\n      <td>NaN</td>\n      <td>NaN</td>\n      <td>NaN</td>\n      <td>no</td>\n      <td>NaN</td>\n      <td>secondary</td>\n      <td>yes</td>\n      <td>20</td>\n      <td>blue-collar</td>\n      <td>yes</td>\n      <td>married</td>\n      <td>aug</td>\n      <td>NaN</td>\n      <td>NaN</td>\n      <td>0.0000</td>\n    </tr>\n    <tr>\n      <th>21</th>\n      <td>56</td>\n      <td>779</td>\n      <td>1.0000</td>\n      <td>unknown</td>\n      <td>5.0000</td>\n      <td>no</td>\n      <td>164.0000</td>\n      <td>tertiary</td>\n      <td>yes</td>\n      <td>21</td>\n      <td>management</td>\n      <td>no</td>\n      <td>married</td>\n      <td>may</td>\n      <td>-1.0000</td>\n      <td>unknown</td>\n      <td>0.0000</td>\n    </tr>\n    <tr>\n      <th>22</th>\n      <td>32</td>\n      <td>23</td>\n      <td>NaN</td>\n      <td>NaN</td>\n      <td>NaN</td>\n      <td>no</td>\n      <td>NaN</td>\n      <td>primary</td>\n      <td>yes</td>\n      <td>22</td>\n      <td>blue-collar</td>\n      <td>yes</td>\n      <td>single</td>\n      <td>apr</td>\n      <td>NaN</td>\n      <td>NaN</td>\n      <td>0.0000</td>\n    </tr>\n    <tr>\n      <th>23</th>\n      <td>25</td>\n      <td>50</td>\n      <td>1.0000</td>\n      <td>unknown</td>\n      <td>5.0000</td>\n      <td>no</td>\n      <td>342.0000</td>\n      <td>secondary</td>\n      <td>yes</td>\n      <td>23</td>\n      <td>services</td>\n      <td>no</td>\n      <td>married</td>\n      <td>may</td>\n      <td>-1.0000</td>\n      <td>unknown</td>\n      <td>0.0000</td>\n    </tr>\n    <tr>\n      <th>24</th>\n      <td>40</td>\n      <td>0</td>\n      <td>NaN</td>\n      <td>NaN</td>\n      <td>NaN</td>\n      <td>no</td>\n      <td>NaN</td>\n      <td>primary</td>\n      <td>yes</td>\n      <td>24</td>\n      <td>retired</td>\n      <td>yes</td>\n      <td>married</td>\n      <td>may</td>\n      <td>NaN</td>\n      <td>NaN</td>\n      <td>0.0000</td>\n    </tr>\n    <tr>\n      <th>25</th>\n      <td>44</td>\n      <td>-372</td>\n      <td>1.0000</td>\n      <td>unknown</td>\n      <td>5.0000</td>\n      <td>no</td>\n      <td>172.0000</td>\n      <td>secondary</td>\n      <td>yes</td>\n      <td>25</td>\n      <td>admin.</td>\n      <td>no</td>\n      <td>married</td>\n      <td>may</td>\n      <td>-1.0000</td>\n      <td>unknown</td>\n      <td>0.0000</td>\n    </tr>\n    <tr>\n      <th>26</th>\n      <td>39</td>\n      <td>255</td>\n      <td>NaN</td>\n      <td>NaN</td>\n      <td>NaN</td>\n      <td>no</td>\n      <td>NaN</td>\n      <td>tertiary</td>\n      <td>yes</td>\n      <td>26</td>\n      <td>management</td>\n      <td>no</td>\n      <td>single</td>\n      <td>nov</td>\n      <td>NaN</td>\n      <td>NaN</td>\n      <td>0.0000</td>\n    </tr>\n    <tr>\n      <th>27</th>\n      <td>52</td>\n      <td>113</td>\n      <td>1.0000</td>\n      <td>unknown</td>\n      <td>5.0000</td>\n      <td>no</td>\n      <td>127.0000</td>\n      <td>secondary</td>\n      <td>yes</td>\n      <td>27</td>\n      <td>entrepreneur</td>\n      <td>yes</td>\n      <td>married</td>\n      <td>may</td>\n      <td>-1.0000</td>\n      <td>unknown</td>\n      <td>0.0000</td>\n    </tr>\n    <tr>\n      <th>28</th>\n      <td>46</td>\n      <td>-246</td>\n      <td>2.0000</td>\n      <td>unknown</td>\n      <td>5.0000</td>\n      <td>no</td>\n      <td>255.0000</td>\n      <td>secondary</td>\n      <td>yes</td>\n      <td>28</td>\n      <td>management</td>\n      <td>no</td>\n      <td>single</td>\n      <td>may</td>\n      <td>-1.0000</td>\n      <td>unknown</td>\n      <td>0.0000</td>\n    </tr>\n    <tr>\n      <th>29</th>\n      <td>36</td>\n      <td>265</td>\n      <td>NaN</td>\n      <td>NaN</td>\n      <td>NaN</td>\n      <td>no</td>\n      <td>NaN</td>\n      <td>secondary</td>\n      <td>yes</td>\n      <td>29</td>\n      <td>technician</td>\n      <td>yes</td>\n      <td>single</td>\n      <td>aug</td>\n      <td>NaN</td>\n      <td>NaN</td>\n      <td>0.0000</td>\n    </tr>\n    <tr>\n      <th>30</th>\n      <td>57</td>\n      <td>839</td>\n      <td>NaN</td>\n      <td>NaN</td>\n      <td>NaN</td>\n      <td>no</td>\n      <td>NaN</td>\n      <td>secondary</td>\n      <td>no</td>\n      <td>30</td>\n      <td>technician</td>\n      <td>yes</td>\n      <td>married</td>\n      <td>jun</td>\n      <td>NaN</td>\n      <td>NaN</td>\n      <td>3.0000</td>\n    </tr>\n    <tr>\n      <th>31</th>\n      <td>49</td>\n      <td>378</td>\n      <td>NaN</td>\n      <td>NaN</td>\n      <td>NaN</td>\n      <td>no</td>\n      <td>NaN</td>\n      <td>tertiary</td>\n      <td>yes</td>\n      <td>31</td>\n      <td>management</td>\n      <td>no</td>\n      <td>married</td>\n      <td>jun</td>\n      <td>NaN</td>\n      <td>NaN</td>\n      <td>0.0000</td>\n    </tr>\n    <tr>\n      <th>32</th>\n      <td>60</td>\n      <td>39</td>\n      <td>NaN</td>\n      <td>NaN</td>\n      <td>NaN</td>\n      <td>no</td>\n      <td>NaN</td>\n      <td>secondary</td>\n      <td>yes</td>\n      <td>32</td>\n      <td>admin.</td>\n      <td>yes</td>\n      <td>married</td>\n      <td>may</td>\n      <td>NaN</td>\n      <td>NaN</td>\n      <td>0.0000</td>\n    </tr>\n    <tr>\n      <th>33</th>\n      <td>59</td>\n      <td>0</td>\n      <td>NaN</td>\n      <td>NaN</td>\n      <td>NaN</td>\n      <td>no</td>\n      <td>NaN</td>\n      <td>secondary</td>\n      <td>yes</td>\n      <td>33</td>\n      <td>blue-collar</td>\n      <td>no</td>\n      <td>married</td>\n      <td>jul</td>\n      <td>NaN</td>\n      <td>NaN</td>\n      <td>0.0000</td>\n    </tr>\n    <tr>\n      <th>34</th>\n      <td>51</td>\n      <td>10635</td>\n      <td>1.0000</td>\n      <td>unknown</td>\n      <td>5.0000</td>\n      <td>no</td>\n      <td>336.0000</td>\n      <td>tertiary</td>\n      <td>yes</td>\n      <td>34</td>\n      <td>management</td>\n      <td>no</td>\n      <td>married</td>\n      <td>may</td>\n      <td>-1.0000</td>\n      <td>unknown</td>\n      <td>0.0000</td>\n    </tr>\n    <tr>\n      <th>35</th>\n      <td>57</td>\n      <td>63</td>\n      <td>1.0000</td>\n      <td>unknown</td>\n      <td>5.0000</td>\n      <td>no</td>\n      <td>242.0000</td>\n      <td>secondary</td>\n      <td>yes</td>\n      <td>35</td>\n      <td>technician</td>\n      <td>no</td>\n      <td>divorced</td>\n      <td>may</td>\n      <td>-1.0000</td>\n      <td>unknown</td>\n      <td>0.0000</td>\n    </tr>\n    <tr>\n      <th>36</th>\n      <td>25</td>\n      <td>-7</td>\n      <td>1.0000</td>\n      <td>unknown</td>\n      <td>5.0000</td>\n      <td>no</td>\n      <td>365.0000</td>\n      <td>secondary</td>\n      <td>yes</td>\n      <td>36</td>\n      <td>blue-collar</td>\n      <td>no</td>\n      <td>married</td>\n      <td>may</td>\n      <td>-1.0000</td>\n      <td>unknown</td>\n      <td>0.0000</td>\n    </tr>\n    <tr>\n      <th>37</th>\n      <td>53</td>\n      <td>-3</td>\n      <td>1.0000</td>\n      <td>unknown</td>\n      <td>5.0000</td>\n      <td>no</td>\n      <td>1,666.0000</td>\n      <td>secondary</td>\n      <td>no</td>\n      <td>37</td>\n      <td>technician</td>\n      <td>no</td>\n      <td>married</td>\n      <td>may</td>\n      <td>-1.0000</td>\n      <td>unknown</td>\n      <td>0.0000</td>\n    </tr>\n    <tr>\n      <th>38</th>\n      <td>36</td>\n      <td>506</td>\n      <td>1.0000</td>\n      <td>unknown</td>\n      <td>5.0000</td>\n      <td>no</td>\n      <td>577.0000</td>\n      <td>secondary</td>\n      <td>yes</td>\n      <td>38</td>\n      <td>admin.</td>\n      <td>no</td>\n      <td>divorced</td>\n      <td>may</td>\n      <td>-1.0000</td>\n      <td>unknown</td>\n      <td>0.0000</td>\n    </tr>\n    <tr>\n      <th>39</th>\n      <td>37</td>\n      <td>0</td>\n      <td>1.0000</td>\n      <td>unknown</td>\n      <td>5.0000</td>\n      <td>no</td>\n      <td>137.0000</td>\n      <td>secondary</td>\n      <td>yes</td>\n      <td>39</td>\n      <td>admin.</td>\n      <td>no</td>\n      <td>single</td>\n      <td>may</td>\n      <td>-1.0000</td>\n      <td>unknown</td>\n      <td>0.0000</td>\n    </tr>\n    <tr>\n      <th>40</th>\n      <td>44</td>\n      <td>2586</td>\n      <td>1.0000</td>\n      <td>unknown</td>\n      <td>5.0000</td>\n      <td>no</td>\n      <td>160.0000</td>\n      <td>secondary</td>\n      <td>yes</td>\n      <td>40</td>\n      <td>services</td>\n      <td>no</td>\n      <td>divorced</td>\n      <td>may</td>\n      <td>-1.0000</td>\n      <td>unknown</td>\n      <td>0.0000</td>\n    </tr>\n    <tr>\n      <th>41</th>\n      <td>50</td>\n      <td>49</td>\n      <td>2.0000</td>\n      <td>unknown</td>\n      <td>5.0000</td>\n      <td>no</td>\n      <td>180.0000</td>\n      <td>secondary</td>\n      <td>yes</td>\n      <td>41</td>\n      <td>management</td>\n      <td>no</td>\n      <td>married</td>\n      <td>may</td>\n      <td>-1.0000</td>\n      <td>unknown</td>\n      <td>0.0000</td>\n    </tr>\n    <tr>\n      <th>42</th>\n      <td>60</td>\n      <td>104</td>\n      <td>1.0000</td>\n      <td>unknown</td>\n      <td>5.0000</td>\n      <td>no</td>\n      <td>22.0000</td>\n      <td>unknown</td>\n      <td>yes</td>\n      <td>42</td>\n      <td>blue-collar</td>\n      <td>no</td>\n      <td>married</td>\n      <td>may</td>\n      <td>-1.0000</td>\n      <td>unknown</td>\n      <td>0.0000</td>\n    </tr>\n    <tr>\n      <th>43</th>\n      <td>54</td>\n      <td>529</td>\n      <td>NaN</td>\n      <td>NaN</td>\n      <td>NaN</td>\n      <td>no</td>\n      <td>NaN</td>\n      <td>secondary</td>\n      <td>yes</td>\n      <td>43</td>\n      <td>retired</td>\n      <td>no</td>\n      <td>married</td>\n      <td>oct</td>\n      <td>NaN</td>\n      <td>NaN</td>\n      <td>0.0000</td>\n    </tr>\n    <tr>\n      <th>44</th>\n      <td>58</td>\n      <td>96</td>\n      <td>1.0000</td>\n      <td>unknown</td>\n      <td>5.0000</td>\n      <td>no</td>\n      <td>616.0000</td>\n      <td>unknown</td>\n      <td>yes</td>\n      <td>44</td>\n      <td>retired</td>\n      <td>no</td>\n      <td>married</td>\n      <td>may</td>\n      <td>-1.0000</td>\n      <td>unknown</td>\n      <td>0.0000</td>\n    </tr>\n    <tr>\n      <th>45</th>\n      <td>36</td>\n      <td>-171</td>\n      <td>NaN</td>\n      <td>NaN</td>\n      <td>NaN</td>\n      <td>no</td>\n      <td>NaN</td>\n      <td>primary</td>\n      <td>yes</td>\n      <td>45</td>\n      <td>admin.</td>\n      <td>no</td>\n      <td>single</td>\n      <td>jul</td>\n      <td>NaN</td>\n      <td>NaN</td>\n      <td>0.0000</td>\n    </tr>\n    <tr>\n      <th>46</th>\n      <td>58</td>\n      <td>-364</td>\n      <td>1.0000</td>\n      <td>unknown</td>\n      <td>5.0000</td>\n      <td>no</td>\n      <td>355.0000</td>\n      <td>tertiary</td>\n      <td>yes</td>\n      <td>46</td>\n      <td>self-employed</td>\n      <td>no</td>\n      <td>married</td>\n      <td>may</td>\n      <td>-1.0000</td>\n      <td>unknown</td>\n      <td>0.0000</td>\n    </tr>\n    <tr>\n      <th>47</th>\n      <td>44</td>\n      <td>0</td>\n      <td>2.0000</td>\n      <td>unknown</td>\n      <td>5.0000</td>\n      <td>no</td>\n      <td>225.0000</td>\n      <td>secondary</td>\n      <td>yes</td>\n      <td>47</td>\n      <td>technician</td>\n      <td>no</td>\n      <td>married</td>\n      <td>may</td>\n      <td>-1.0000</td>\n      <td>unknown</td>\n      <td>0.0000</td>\n    </tr>\n    <tr>\n      <th>48</th>\n      <td>55</td>\n      <td>0</td>\n      <td>1.0000</td>\n      <td>unknown</td>\n      <td>5.0000</td>\n      <td>no</td>\n      <td>160.0000</td>\n      <td>secondary</td>\n      <td>no</td>\n      <td>48</td>\n      <td>technician</td>\n      <td>no</td>\n      <td>divorced</td>\n      <td>may</td>\n      <td>-1.0000</td>\n      <td>unknown</td>\n      <td>0.0000</td>\n    </tr>\n    <tr>\n      <th>49</th>\n      <td>29</td>\n      <td>0</td>\n      <td>1.0000</td>\n      <td>unknown</td>\n      <td>5.0000</td>\n      <td>no</td>\n      <td>363.0000</td>\n      <td>tertiary</td>\n      <td>yes</td>\n      <td>49</td>\n      <td>management</td>\n      <td>no</td>\n      <td>single</td>\n      <td>may</td>\n      <td>-1.0000</td>\n      <td>unknown</td>\n      <td>0.0000</td>\n    </tr>\n  </tbody>\n</table>\n</div>"
     },
     "execution_count": 29,
     "metadata": {},
     "output_type": "execute_result"
    }
   ],
   "source": [
    "aligned_df_new_encode=aligned_df_new.copy()\n",
    "aligned_df_new_encode.head(50)"
   ],
   "metadata": {
    "collapsed": false,
    "pycharm": {
     "name": "#%%\n"
    }
   }
  },
  {
   "cell_type": "markdown",
   "source": [
    "对分类列进行标签编码"
   ],
   "metadata": {
    "collapsed": false
   }
  },
  {
   "cell_type": "code",
   "execution_count": 30,
   "outputs": [
    {
     "name": "stdout",
     "output_type": "stream",
     "text": [
      "(45211, 17)\n"
     ]
    },
    {
     "data": {
      "text/plain": "    age  balance  campaign contact    day default   duration education  \\\n0    58     2143    1.0000       2 5.0000       0   261.0000         2   \n1    44       29    1.0000       2 5.0000       0   151.0000         1   \n2    33        2       NaN     NaN    NaN       0        NaN         1   \n3    47     1506       NaN     NaN    NaN       0        NaN         3   \n4    33        1    1.0000       2 5.0000       0   198.0000         3   \n5    35      231       NaN     NaN    NaN       0        NaN         2   \n6    28      447    1.0000       2 5.0000       0   217.0000         2   \n7    42        2       NaN     NaN    NaN       1        NaN         2   \n8    58      121       NaN     NaN    NaN       0        NaN         0   \n9    43      593    1.0000       2 5.0000       0    55.0000         1   \n10   41      270       NaN     NaN    NaN       0        NaN         1   \n11   29      390       NaN     NaN    NaN       0        NaN         1   \n12   53        6    1.0000       2 5.0000       0   517.0000         1   \n13   58       71    1.0000       2 5.0000       0    71.0000         3   \n14   57      162       NaN     NaN    NaN       0        NaN         1   \n15   51      229       NaN     NaN    NaN       0        NaN         0   \n16   45       13    1.0000       2 5.0000       0    98.0000         3   \n17   57       52       NaN     NaN    NaN       0        NaN         0   \n18   60       60       NaN     NaN    NaN       0        NaN         0   \n19   33        0    1.0000       2 5.0000       0    54.0000         1   \n20   28      723       NaN     NaN    NaN       0        NaN         1   \n21   56      779    1.0000       2 5.0000       0   164.0000         2   \n22   32       23       NaN     NaN    NaN       0        NaN         0   \n23   25       50    1.0000       2 5.0000       0   342.0000         1   \n24   40        0       NaN     NaN    NaN       0        NaN         0   \n25   44     -372    1.0000       2 5.0000       0   172.0000         1   \n26   39      255       NaN     NaN    NaN       0        NaN         2   \n27   52      113    1.0000       2 5.0000       0   127.0000         1   \n28   46     -246    2.0000       2 5.0000       0   255.0000         1   \n29   36      265       NaN     NaN    NaN       0        NaN         1   \n30   57      839       NaN     NaN    NaN       0        NaN         1   \n31   49      378       NaN     NaN    NaN       0        NaN         2   \n32   60       39       NaN     NaN    NaN       0        NaN         1   \n33   59        0       NaN     NaN    NaN       0        NaN         1   \n34   51    10635    1.0000       2 5.0000       0   336.0000         2   \n35   57       63    1.0000       2 5.0000       0   242.0000         1   \n36   25       -7    1.0000       2 5.0000       0   365.0000         1   \n37   53       -3    1.0000       2 5.0000       0 1,666.0000         1   \n38   36      506    1.0000       2 5.0000       0   577.0000         1   \n39   37        0    1.0000       2 5.0000       0   137.0000         1   \n40   44     2586    1.0000       2 5.0000       0   160.0000         1   \n41   50       49    2.0000       2 5.0000       0   180.0000         1   \n42   60      104    1.0000       2 5.0000       0    22.0000         3   \n43   54      529       NaN     NaN    NaN       0        NaN         1   \n44   58       96    1.0000       2 5.0000       0   616.0000         3   \n45   36     -171       NaN     NaN    NaN       0        NaN         0   \n46   58     -364    1.0000       2 5.0000       0   355.0000         2   \n47   44        0    2.0000       2 5.0000       0   225.0000         1   \n48   55        0    1.0000       2 5.0000       0   160.0000         1   \n49   29        0    1.0000       2 5.0000       0   363.0000         2   \n\n   housing  index job loan marital month   pdays poutcome  previous  \n0        1      0   4    0       1     8 -1.0000        3    0.0000  \n1        1      1   9    0       2     8 -1.0000        3    0.0000  \n2        1      2   2    1       1     8     NaN      NaN    0.0000  \n3        1      3   1    0       1     8     NaN      NaN    5.0000  \n4        0      4  11    0       2     8 -1.0000        3    0.0000  \n5        1      5   4    0       1     9     NaN      NaN    0.0000  \n6        1      6   4    1       2     8 -1.0000        3    0.0000  \n7        1      7   2    0       0     8     NaN      NaN    0.0000  \n8        1      8   5    0       1     9     NaN      NaN    0.0000  \n9        1      9   9    0       2     8 -1.0000        3    0.0000  \n10       1     10   0    0       0     9     NaN      NaN    0.0000  \n11       1     11   0    0       2     6     NaN      NaN    0.0000  \n12       1     12   9    0       1     8 -1.0000        3    0.0000  \n13       1     13   9    0       1     8 -1.0000        3    0.0000  \n14       1     14   7    0       1     0     NaN      NaN    3.0000  \n15       1     15   5    0       1    11     NaN      NaN    0.0000  \n16       1     16   0    0       2     8 -1.0000        3    0.0000  \n17       1     17   1    0       1     8     NaN      NaN    0.0000  \n18       1     18   5    0       1     7     NaN      NaN    0.0000  \n19       1     19   7    0       1     8 -1.0000        3    0.0000  \n20       1     20   1    1       1     1     NaN      NaN    0.0000  \n21       1     21   4    0       1     8 -1.0000        3    0.0000  \n22       1     22   1    1       2     0     NaN      NaN    0.0000  \n23       1     23   7    0       1     8 -1.0000        3    0.0000  \n24       1     24   5    1       1     8     NaN      NaN    0.0000  \n25       1     25   0    0       1     8 -1.0000        3    0.0000  \n26       1     26   4    0       2     9     NaN      NaN    0.0000  \n27       1     27   2    1       1     8 -1.0000        3    0.0000  \n28       1     28   4    0       2     8 -1.0000        3    0.0000  \n29       1     29   9    1       2     1     NaN      NaN    0.0000  \n30       0     30   9    1       1     6     NaN      NaN    3.0000  \n31       1     31   4    0       1     6     NaN      NaN    0.0000  \n32       1     32   0    1       1     8     NaN      NaN    0.0000  \n33       1     33   1    0       1     5     NaN      NaN    0.0000  \n34       1     34   4    0       1     8 -1.0000        3    0.0000  \n35       1     35   9    0       0     8 -1.0000        3    0.0000  \n36       1     36   1    0       1     8 -1.0000        3    0.0000  \n37       0     37   9    0       1     8 -1.0000        3    0.0000  \n38       1     38   0    0       0     8 -1.0000        3    0.0000  \n39       1     39   0    0       2     8 -1.0000        3    0.0000  \n40       1     40   7    0       0     8 -1.0000        3    0.0000  \n41       1     41   4    0       1     8 -1.0000        3    0.0000  \n42       1     42   1    0       1     8 -1.0000        3    0.0000  \n43       1     43   5    0       1    10     NaN      NaN    0.0000  \n44       1     44   5    0       1     8 -1.0000        3    0.0000  \n45       1     45   0    0       2     5     NaN      NaN    0.0000  \n46       1     46   6    0       1     8 -1.0000        3    0.0000  \n47       1     47   9    0       1     8 -1.0000        3    0.0000  \n48       0     48   9    0       0     8 -1.0000        3    0.0000  \n49       1     49   4    0       2     8 -1.0000        3    0.0000  ",
      "text/html": "<div>\n<style scoped>\n    .dataframe tbody tr th:only-of-type {\n        vertical-align: middle;\n    }\n\n    .dataframe tbody tr th {\n        vertical-align: top;\n    }\n\n    .dataframe thead th {\n        text-align: right;\n    }\n</style>\n<table border=\"1\" class=\"dataframe\">\n  <thead>\n    <tr style=\"text-align: right;\">\n      <th></th>\n      <th>age</th>\n      <th>balance</th>\n      <th>campaign</th>\n      <th>contact</th>\n      <th>day</th>\n      <th>default</th>\n      <th>duration</th>\n      <th>education</th>\n      <th>housing</th>\n      <th>index</th>\n      <th>job</th>\n      <th>loan</th>\n      <th>marital</th>\n      <th>month</th>\n      <th>pdays</th>\n      <th>poutcome</th>\n      <th>previous</th>\n    </tr>\n  </thead>\n  <tbody>\n    <tr>\n      <th>0</th>\n      <td>58</td>\n      <td>2143</td>\n      <td>1.0000</td>\n      <td>2</td>\n      <td>5.0000</td>\n      <td>0</td>\n      <td>261.0000</td>\n      <td>2</td>\n      <td>1</td>\n      <td>0</td>\n      <td>4</td>\n      <td>0</td>\n      <td>1</td>\n      <td>8</td>\n      <td>-1.0000</td>\n      <td>3</td>\n      <td>0.0000</td>\n    </tr>\n    <tr>\n      <th>1</th>\n      <td>44</td>\n      <td>29</td>\n      <td>1.0000</td>\n      <td>2</td>\n      <td>5.0000</td>\n      <td>0</td>\n      <td>151.0000</td>\n      <td>1</td>\n      <td>1</td>\n      <td>1</td>\n      <td>9</td>\n      <td>0</td>\n      <td>2</td>\n      <td>8</td>\n      <td>-1.0000</td>\n      <td>3</td>\n      <td>0.0000</td>\n    </tr>\n    <tr>\n      <th>2</th>\n      <td>33</td>\n      <td>2</td>\n      <td>NaN</td>\n      <td>NaN</td>\n      <td>NaN</td>\n      <td>0</td>\n      <td>NaN</td>\n      <td>1</td>\n      <td>1</td>\n      <td>2</td>\n      <td>2</td>\n      <td>1</td>\n      <td>1</td>\n      <td>8</td>\n      <td>NaN</td>\n      <td>NaN</td>\n      <td>0.0000</td>\n    </tr>\n    <tr>\n      <th>3</th>\n      <td>47</td>\n      <td>1506</td>\n      <td>NaN</td>\n      <td>NaN</td>\n      <td>NaN</td>\n      <td>0</td>\n      <td>NaN</td>\n      <td>3</td>\n      <td>1</td>\n      <td>3</td>\n      <td>1</td>\n      <td>0</td>\n      <td>1</td>\n      <td>8</td>\n      <td>NaN</td>\n      <td>NaN</td>\n      <td>5.0000</td>\n    </tr>\n    <tr>\n      <th>4</th>\n      <td>33</td>\n      <td>1</td>\n      <td>1.0000</td>\n      <td>2</td>\n      <td>5.0000</td>\n      <td>0</td>\n      <td>198.0000</td>\n      <td>3</td>\n      <td>0</td>\n      <td>4</td>\n      <td>11</td>\n      <td>0</td>\n      <td>2</td>\n      <td>8</td>\n      <td>-1.0000</td>\n      <td>3</td>\n      <td>0.0000</td>\n    </tr>\n    <tr>\n      <th>5</th>\n      <td>35</td>\n      <td>231</td>\n      <td>NaN</td>\n      <td>NaN</td>\n      <td>NaN</td>\n      <td>0</td>\n      <td>NaN</td>\n      <td>2</td>\n      <td>1</td>\n      <td>5</td>\n      <td>4</td>\n      <td>0</td>\n      <td>1</td>\n      <td>9</td>\n      <td>NaN</td>\n      <td>NaN</td>\n      <td>0.0000</td>\n    </tr>\n    <tr>\n      <th>6</th>\n      <td>28</td>\n      <td>447</td>\n      <td>1.0000</td>\n      <td>2</td>\n      <td>5.0000</td>\n      <td>0</td>\n      <td>217.0000</td>\n      <td>2</td>\n      <td>1</td>\n      <td>6</td>\n      <td>4</td>\n      <td>1</td>\n      <td>2</td>\n      <td>8</td>\n      <td>-1.0000</td>\n      <td>3</td>\n      <td>0.0000</td>\n    </tr>\n    <tr>\n      <th>7</th>\n      <td>42</td>\n      <td>2</td>\n      <td>NaN</td>\n      <td>NaN</td>\n      <td>NaN</td>\n      <td>1</td>\n      <td>NaN</td>\n      <td>2</td>\n      <td>1</td>\n      <td>7</td>\n      <td>2</td>\n      <td>0</td>\n      <td>0</td>\n      <td>8</td>\n      <td>NaN</td>\n      <td>NaN</td>\n      <td>0.0000</td>\n    </tr>\n    <tr>\n      <th>8</th>\n      <td>58</td>\n      <td>121</td>\n      <td>NaN</td>\n      <td>NaN</td>\n      <td>NaN</td>\n      <td>0</td>\n      <td>NaN</td>\n      <td>0</td>\n      <td>1</td>\n      <td>8</td>\n      <td>5</td>\n      <td>0</td>\n      <td>1</td>\n      <td>9</td>\n      <td>NaN</td>\n      <td>NaN</td>\n      <td>0.0000</td>\n    </tr>\n    <tr>\n      <th>9</th>\n      <td>43</td>\n      <td>593</td>\n      <td>1.0000</td>\n      <td>2</td>\n      <td>5.0000</td>\n      <td>0</td>\n      <td>55.0000</td>\n      <td>1</td>\n      <td>1</td>\n      <td>9</td>\n      <td>9</td>\n      <td>0</td>\n      <td>2</td>\n      <td>8</td>\n      <td>-1.0000</td>\n      <td>3</td>\n      <td>0.0000</td>\n    </tr>\n    <tr>\n      <th>10</th>\n      <td>41</td>\n      <td>270</td>\n      <td>NaN</td>\n      <td>NaN</td>\n      <td>NaN</td>\n      <td>0</td>\n      <td>NaN</td>\n      <td>1</td>\n      <td>1</td>\n      <td>10</td>\n      <td>0</td>\n      <td>0</td>\n      <td>0</td>\n      <td>9</td>\n      <td>NaN</td>\n      <td>NaN</td>\n      <td>0.0000</td>\n    </tr>\n    <tr>\n      <th>11</th>\n      <td>29</td>\n      <td>390</td>\n      <td>NaN</td>\n      <td>NaN</td>\n      <td>NaN</td>\n      <td>0</td>\n      <td>NaN</td>\n      <td>1</td>\n      <td>1</td>\n      <td>11</td>\n      <td>0</td>\n      <td>0</td>\n      <td>2</td>\n      <td>6</td>\n      <td>NaN</td>\n      <td>NaN</td>\n      <td>0.0000</td>\n    </tr>\n    <tr>\n      <th>12</th>\n      <td>53</td>\n      <td>6</td>\n      <td>1.0000</td>\n      <td>2</td>\n      <td>5.0000</td>\n      <td>0</td>\n      <td>517.0000</td>\n      <td>1</td>\n      <td>1</td>\n      <td>12</td>\n      <td>9</td>\n      <td>0</td>\n      <td>1</td>\n      <td>8</td>\n      <td>-1.0000</td>\n      <td>3</td>\n      <td>0.0000</td>\n    </tr>\n    <tr>\n      <th>13</th>\n      <td>58</td>\n      <td>71</td>\n      <td>1.0000</td>\n      <td>2</td>\n      <td>5.0000</td>\n      <td>0</td>\n      <td>71.0000</td>\n      <td>3</td>\n      <td>1</td>\n      <td>13</td>\n      <td>9</td>\n      <td>0</td>\n      <td>1</td>\n      <td>8</td>\n      <td>-1.0000</td>\n      <td>3</td>\n      <td>0.0000</td>\n    </tr>\n    <tr>\n      <th>14</th>\n      <td>57</td>\n      <td>162</td>\n      <td>NaN</td>\n      <td>NaN</td>\n      <td>NaN</td>\n      <td>0</td>\n      <td>NaN</td>\n      <td>1</td>\n      <td>1</td>\n      <td>14</td>\n      <td>7</td>\n      <td>0</td>\n      <td>1</td>\n      <td>0</td>\n      <td>NaN</td>\n      <td>NaN</td>\n      <td>3.0000</td>\n    </tr>\n    <tr>\n      <th>15</th>\n      <td>51</td>\n      <td>229</td>\n      <td>NaN</td>\n      <td>NaN</td>\n      <td>NaN</td>\n      <td>0</td>\n      <td>NaN</td>\n      <td>0</td>\n      <td>1</td>\n      <td>15</td>\n      <td>5</td>\n      <td>0</td>\n      <td>1</td>\n      <td>11</td>\n      <td>NaN</td>\n      <td>NaN</td>\n      <td>0.0000</td>\n    </tr>\n    <tr>\n      <th>16</th>\n      <td>45</td>\n      <td>13</td>\n      <td>1.0000</td>\n      <td>2</td>\n      <td>5.0000</td>\n      <td>0</td>\n      <td>98.0000</td>\n      <td>3</td>\n      <td>1</td>\n      <td>16</td>\n      <td>0</td>\n      <td>0</td>\n      <td>2</td>\n      <td>8</td>\n      <td>-1.0000</td>\n      <td>3</td>\n      <td>0.0000</td>\n    </tr>\n    <tr>\n      <th>17</th>\n      <td>57</td>\n      <td>52</td>\n      <td>NaN</td>\n      <td>NaN</td>\n      <td>NaN</td>\n      <td>0</td>\n      <td>NaN</td>\n      <td>0</td>\n      <td>1</td>\n      <td>17</td>\n      <td>1</td>\n      <td>0</td>\n      <td>1</td>\n      <td>8</td>\n      <td>NaN</td>\n      <td>NaN</td>\n      <td>0.0000</td>\n    </tr>\n    <tr>\n      <th>18</th>\n      <td>60</td>\n      <td>60</td>\n      <td>NaN</td>\n      <td>NaN</td>\n      <td>NaN</td>\n      <td>0</td>\n      <td>NaN</td>\n      <td>0</td>\n      <td>1</td>\n      <td>18</td>\n      <td>5</td>\n      <td>0</td>\n      <td>1</td>\n      <td>7</td>\n      <td>NaN</td>\n      <td>NaN</td>\n      <td>0.0000</td>\n    </tr>\n    <tr>\n      <th>19</th>\n      <td>33</td>\n      <td>0</td>\n      <td>1.0000</td>\n      <td>2</td>\n      <td>5.0000</td>\n      <td>0</td>\n      <td>54.0000</td>\n      <td>1</td>\n      <td>1</td>\n      <td>19</td>\n      <td>7</td>\n      <td>0</td>\n      <td>1</td>\n      <td>8</td>\n      <td>-1.0000</td>\n      <td>3</td>\n      <td>0.0000</td>\n    </tr>\n    <tr>\n      <th>20</th>\n      <td>28</td>\n      <td>723</td>\n      <td>NaN</td>\n      <td>NaN</td>\n      <td>NaN</td>\n      <td>0</td>\n      <td>NaN</td>\n      <td>1</td>\n      <td>1</td>\n      <td>20</td>\n      <td>1</td>\n      <td>1</td>\n      <td>1</td>\n      <td>1</td>\n      <td>NaN</td>\n      <td>NaN</td>\n      <td>0.0000</td>\n    </tr>\n    <tr>\n      <th>21</th>\n      <td>56</td>\n      <td>779</td>\n      <td>1.0000</td>\n      <td>2</td>\n      <td>5.0000</td>\n      <td>0</td>\n      <td>164.0000</td>\n      <td>2</td>\n      <td>1</td>\n      <td>21</td>\n      <td>4</td>\n      <td>0</td>\n      <td>1</td>\n      <td>8</td>\n      <td>-1.0000</td>\n      <td>3</td>\n      <td>0.0000</td>\n    </tr>\n    <tr>\n      <th>22</th>\n      <td>32</td>\n      <td>23</td>\n      <td>NaN</td>\n      <td>NaN</td>\n      <td>NaN</td>\n      <td>0</td>\n      <td>NaN</td>\n      <td>0</td>\n      <td>1</td>\n      <td>22</td>\n      <td>1</td>\n      <td>1</td>\n      <td>2</td>\n      <td>0</td>\n      <td>NaN</td>\n      <td>NaN</td>\n      <td>0.0000</td>\n    </tr>\n    <tr>\n      <th>23</th>\n      <td>25</td>\n      <td>50</td>\n      <td>1.0000</td>\n      <td>2</td>\n      <td>5.0000</td>\n      <td>0</td>\n      <td>342.0000</td>\n      <td>1</td>\n      <td>1</td>\n      <td>23</td>\n      <td>7</td>\n      <td>0</td>\n      <td>1</td>\n      <td>8</td>\n      <td>-1.0000</td>\n      <td>3</td>\n      <td>0.0000</td>\n    </tr>\n    <tr>\n      <th>24</th>\n      <td>40</td>\n      <td>0</td>\n      <td>NaN</td>\n      <td>NaN</td>\n      <td>NaN</td>\n      <td>0</td>\n      <td>NaN</td>\n      <td>0</td>\n      <td>1</td>\n      <td>24</td>\n      <td>5</td>\n      <td>1</td>\n      <td>1</td>\n      <td>8</td>\n      <td>NaN</td>\n      <td>NaN</td>\n      <td>0.0000</td>\n    </tr>\n    <tr>\n      <th>25</th>\n      <td>44</td>\n      <td>-372</td>\n      <td>1.0000</td>\n      <td>2</td>\n      <td>5.0000</td>\n      <td>0</td>\n      <td>172.0000</td>\n      <td>1</td>\n      <td>1</td>\n      <td>25</td>\n      <td>0</td>\n      <td>0</td>\n      <td>1</td>\n      <td>8</td>\n      <td>-1.0000</td>\n      <td>3</td>\n      <td>0.0000</td>\n    </tr>\n    <tr>\n      <th>26</th>\n      <td>39</td>\n      <td>255</td>\n      <td>NaN</td>\n      <td>NaN</td>\n      <td>NaN</td>\n      <td>0</td>\n      <td>NaN</td>\n      <td>2</td>\n      <td>1</td>\n      <td>26</td>\n      <td>4</td>\n      <td>0</td>\n      <td>2</td>\n      <td>9</td>\n      <td>NaN</td>\n      <td>NaN</td>\n      <td>0.0000</td>\n    </tr>\n    <tr>\n      <th>27</th>\n      <td>52</td>\n      <td>113</td>\n      <td>1.0000</td>\n      <td>2</td>\n      <td>5.0000</td>\n      <td>0</td>\n      <td>127.0000</td>\n      <td>1</td>\n      <td>1</td>\n      <td>27</td>\n      <td>2</td>\n      <td>1</td>\n      <td>1</td>\n      <td>8</td>\n      <td>-1.0000</td>\n      <td>3</td>\n      <td>0.0000</td>\n    </tr>\n    <tr>\n      <th>28</th>\n      <td>46</td>\n      <td>-246</td>\n      <td>2.0000</td>\n      <td>2</td>\n      <td>5.0000</td>\n      <td>0</td>\n      <td>255.0000</td>\n      <td>1</td>\n      <td>1</td>\n      <td>28</td>\n      <td>4</td>\n      <td>0</td>\n      <td>2</td>\n      <td>8</td>\n      <td>-1.0000</td>\n      <td>3</td>\n      <td>0.0000</td>\n    </tr>\n    <tr>\n      <th>29</th>\n      <td>36</td>\n      <td>265</td>\n      <td>NaN</td>\n      <td>NaN</td>\n      <td>NaN</td>\n      <td>0</td>\n      <td>NaN</td>\n      <td>1</td>\n      <td>1</td>\n      <td>29</td>\n      <td>9</td>\n      <td>1</td>\n      <td>2</td>\n      <td>1</td>\n      <td>NaN</td>\n      <td>NaN</td>\n      <td>0.0000</td>\n    </tr>\n    <tr>\n      <th>30</th>\n      <td>57</td>\n      <td>839</td>\n      <td>NaN</td>\n      <td>NaN</td>\n      <td>NaN</td>\n      <td>0</td>\n      <td>NaN</td>\n      <td>1</td>\n      <td>0</td>\n      <td>30</td>\n      <td>9</td>\n      <td>1</td>\n      <td>1</td>\n      <td>6</td>\n      <td>NaN</td>\n      <td>NaN</td>\n      <td>3.0000</td>\n    </tr>\n    <tr>\n      <th>31</th>\n      <td>49</td>\n      <td>378</td>\n      <td>NaN</td>\n      <td>NaN</td>\n      <td>NaN</td>\n      <td>0</td>\n      <td>NaN</td>\n      <td>2</td>\n      <td>1</td>\n      <td>31</td>\n      <td>4</td>\n      <td>0</td>\n      <td>1</td>\n      <td>6</td>\n      <td>NaN</td>\n      <td>NaN</td>\n      <td>0.0000</td>\n    </tr>\n    <tr>\n      <th>32</th>\n      <td>60</td>\n      <td>39</td>\n      <td>NaN</td>\n      <td>NaN</td>\n      <td>NaN</td>\n      <td>0</td>\n      <td>NaN</td>\n      <td>1</td>\n      <td>1</td>\n      <td>32</td>\n      <td>0</td>\n      <td>1</td>\n      <td>1</td>\n      <td>8</td>\n      <td>NaN</td>\n      <td>NaN</td>\n      <td>0.0000</td>\n    </tr>\n    <tr>\n      <th>33</th>\n      <td>59</td>\n      <td>0</td>\n      <td>NaN</td>\n      <td>NaN</td>\n      <td>NaN</td>\n      <td>0</td>\n      <td>NaN</td>\n      <td>1</td>\n      <td>1</td>\n      <td>33</td>\n      <td>1</td>\n      <td>0</td>\n      <td>1</td>\n      <td>5</td>\n      <td>NaN</td>\n      <td>NaN</td>\n      <td>0.0000</td>\n    </tr>\n    <tr>\n      <th>34</th>\n      <td>51</td>\n      <td>10635</td>\n      <td>1.0000</td>\n      <td>2</td>\n      <td>5.0000</td>\n      <td>0</td>\n      <td>336.0000</td>\n      <td>2</td>\n      <td>1</td>\n      <td>34</td>\n      <td>4</td>\n      <td>0</td>\n      <td>1</td>\n      <td>8</td>\n      <td>-1.0000</td>\n      <td>3</td>\n      <td>0.0000</td>\n    </tr>\n    <tr>\n      <th>35</th>\n      <td>57</td>\n      <td>63</td>\n      <td>1.0000</td>\n      <td>2</td>\n      <td>5.0000</td>\n      <td>0</td>\n      <td>242.0000</td>\n      <td>1</td>\n      <td>1</td>\n      <td>35</td>\n      <td>9</td>\n      <td>0</td>\n      <td>0</td>\n      <td>8</td>\n      <td>-1.0000</td>\n      <td>3</td>\n      <td>0.0000</td>\n    </tr>\n    <tr>\n      <th>36</th>\n      <td>25</td>\n      <td>-7</td>\n      <td>1.0000</td>\n      <td>2</td>\n      <td>5.0000</td>\n      <td>0</td>\n      <td>365.0000</td>\n      <td>1</td>\n      <td>1</td>\n      <td>36</td>\n      <td>1</td>\n      <td>0</td>\n      <td>1</td>\n      <td>8</td>\n      <td>-1.0000</td>\n      <td>3</td>\n      <td>0.0000</td>\n    </tr>\n    <tr>\n      <th>37</th>\n      <td>53</td>\n      <td>-3</td>\n      <td>1.0000</td>\n      <td>2</td>\n      <td>5.0000</td>\n      <td>0</td>\n      <td>1,666.0000</td>\n      <td>1</td>\n      <td>0</td>\n      <td>37</td>\n      <td>9</td>\n      <td>0</td>\n      <td>1</td>\n      <td>8</td>\n      <td>-1.0000</td>\n      <td>3</td>\n      <td>0.0000</td>\n    </tr>\n    <tr>\n      <th>38</th>\n      <td>36</td>\n      <td>506</td>\n      <td>1.0000</td>\n      <td>2</td>\n      <td>5.0000</td>\n      <td>0</td>\n      <td>577.0000</td>\n      <td>1</td>\n      <td>1</td>\n      <td>38</td>\n      <td>0</td>\n      <td>0</td>\n      <td>0</td>\n      <td>8</td>\n      <td>-1.0000</td>\n      <td>3</td>\n      <td>0.0000</td>\n    </tr>\n    <tr>\n      <th>39</th>\n      <td>37</td>\n      <td>0</td>\n      <td>1.0000</td>\n      <td>2</td>\n      <td>5.0000</td>\n      <td>0</td>\n      <td>137.0000</td>\n      <td>1</td>\n      <td>1</td>\n      <td>39</td>\n      <td>0</td>\n      <td>0</td>\n      <td>2</td>\n      <td>8</td>\n      <td>-1.0000</td>\n      <td>3</td>\n      <td>0.0000</td>\n    </tr>\n    <tr>\n      <th>40</th>\n      <td>44</td>\n      <td>2586</td>\n      <td>1.0000</td>\n      <td>2</td>\n      <td>5.0000</td>\n      <td>0</td>\n      <td>160.0000</td>\n      <td>1</td>\n      <td>1</td>\n      <td>40</td>\n      <td>7</td>\n      <td>0</td>\n      <td>0</td>\n      <td>8</td>\n      <td>-1.0000</td>\n      <td>3</td>\n      <td>0.0000</td>\n    </tr>\n    <tr>\n      <th>41</th>\n      <td>50</td>\n      <td>49</td>\n      <td>2.0000</td>\n      <td>2</td>\n      <td>5.0000</td>\n      <td>0</td>\n      <td>180.0000</td>\n      <td>1</td>\n      <td>1</td>\n      <td>41</td>\n      <td>4</td>\n      <td>0</td>\n      <td>1</td>\n      <td>8</td>\n      <td>-1.0000</td>\n      <td>3</td>\n      <td>0.0000</td>\n    </tr>\n    <tr>\n      <th>42</th>\n      <td>60</td>\n      <td>104</td>\n      <td>1.0000</td>\n      <td>2</td>\n      <td>5.0000</td>\n      <td>0</td>\n      <td>22.0000</td>\n      <td>3</td>\n      <td>1</td>\n      <td>42</td>\n      <td>1</td>\n      <td>0</td>\n      <td>1</td>\n      <td>8</td>\n      <td>-1.0000</td>\n      <td>3</td>\n      <td>0.0000</td>\n    </tr>\n    <tr>\n      <th>43</th>\n      <td>54</td>\n      <td>529</td>\n      <td>NaN</td>\n      <td>NaN</td>\n      <td>NaN</td>\n      <td>0</td>\n      <td>NaN</td>\n      <td>1</td>\n      <td>1</td>\n      <td>43</td>\n      <td>5</td>\n      <td>0</td>\n      <td>1</td>\n      <td>10</td>\n      <td>NaN</td>\n      <td>NaN</td>\n      <td>0.0000</td>\n    </tr>\n    <tr>\n      <th>44</th>\n      <td>58</td>\n      <td>96</td>\n      <td>1.0000</td>\n      <td>2</td>\n      <td>5.0000</td>\n      <td>0</td>\n      <td>616.0000</td>\n      <td>3</td>\n      <td>1</td>\n      <td>44</td>\n      <td>5</td>\n      <td>0</td>\n      <td>1</td>\n      <td>8</td>\n      <td>-1.0000</td>\n      <td>3</td>\n      <td>0.0000</td>\n    </tr>\n    <tr>\n      <th>45</th>\n      <td>36</td>\n      <td>-171</td>\n      <td>NaN</td>\n      <td>NaN</td>\n      <td>NaN</td>\n      <td>0</td>\n      <td>NaN</td>\n      <td>0</td>\n      <td>1</td>\n      <td>45</td>\n      <td>0</td>\n      <td>0</td>\n      <td>2</td>\n      <td>5</td>\n      <td>NaN</td>\n      <td>NaN</td>\n      <td>0.0000</td>\n    </tr>\n    <tr>\n      <th>46</th>\n      <td>58</td>\n      <td>-364</td>\n      <td>1.0000</td>\n      <td>2</td>\n      <td>5.0000</td>\n      <td>0</td>\n      <td>355.0000</td>\n      <td>2</td>\n      <td>1</td>\n      <td>46</td>\n      <td>6</td>\n      <td>0</td>\n      <td>1</td>\n      <td>8</td>\n      <td>-1.0000</td>\n      <td>3</td>\n      <td>0.0000</td>\n    </tr>\n    <tr>\n      <th>47</th>\n      <td>44</td>\n      <td>0</td>\n      <td>2.0000</td>\n      <td>2</td>\n      <td>5.0000</td>\n      <td>0</td>\n      <td>225.0000</td>\n      <td>1</td>\n      <td>1</td>\n      <td>47</td>\n      <td>9</td>\n      <td>0</td>\n      <td>1</td>\n      <td>8</td>\n      <td>-1.0000</td>\n      <td>3</td>\n      <td>0.0000</td>\n    </tr>\n    <tr>\n      <th>48</th>\n      <td>55</td>\n      <td>0</td>\n      <td>1.0000</td>\n      <td>2</td>\n      <td>5.0000</td>\n      <td>0</td>\n      <td>160.0000</td>\n      <td>1</td>\n      <td>0</td>\n      <td>48</td>\n      <td>9</td>\n      <td>0</td>\n      <td>0</td>\n      <td>8</td>\n      <td>-1.0000</td>\n      <td>3</td>\n      <td>0.0000</td>\n    </tr>\n    <tr>\n      <th>49</th>\n      <td>29</td>\n      <td>0</td>\n      <td>1.0000</td>\n      <td>2</td>\n      <td>5.0000</td>\n      <td>0</td>\n      <td>363.0000</td>\n      <td>2</td>\n      <td>1</td>\n      <td>49</td>\n      <td>4</td>\n      <td>0</td>\n      <td>2</td>\n      <td>8</td>\n      <td>-1.0000</td>\n      <td>3</td>\n      <td>0.0000</td>\n    </tr>\n  </tbody>\n</table>\n</div>"
     },
     "execution_count": 30,
     "metadata": {},
     "output_type": "execute_result"
    }
   ],
   "source": [
    "from sklearn.preprocessing import LabelEncoder\n",
    "# 创建一个标签编码器\n",
    "le = LabelEncoder()\n",
    "# 对每一列进行检查\n",
    "for col in aligned_df_new_encode.columns:\n",
    "    # 如果该列是object类型（通常意味着它是分类的），则进行标签编码\n",
    "    if aligned_df_new_encode[col].dtype == 'object':\n",
    "        # 若该列有NaN值，将NaN值转换为“NaN”字符串\n",
    "        # if aligned_df_new_encode[col].isnull().any():\n",
    "        #    aligned_df_new_encode[col]=aligned_df_new_encode.fillna('NaN')\n",
    "         # 保存原始的NaN值位置\n",
    "        nan_idx=aligned_df_new_encode[col].isnull()\n",
    "        # 进行特征编码，并不对nan值进行编码\n",
    "        aligned_df_new_encode.loc[~nan_idx,col] =le.fit_transform(aligned_df_new_encode.loc[~nan_idx,col])\n",
    "        #aligned_df_new_encode[col] =le.fit_transform(aligned_df_new_encode[col])\n",
    "        # 将“NaN”字符串对应的编码再次转换回NaN\n",
    "        # aligned_df_new_encode[col]=aligned_df_new_encode[col].replace(le.transform(['NaN'])[0], np.nan)\n",
    "print(aligned_df_new_encode.shape)\n",
    "aligned_df_new_encode.head(50)"
   ],
   "metadata": {
    "collapsed": false,
    "pycharm": {
     "name": "#%%\n"
    }
   }
  },
  {
   "cell_type": "code",
   "execution_count": 31,
   "outputs": [
    {
     "name": "stdout",
     "output_type": "stream",
     "text": [
      "age            int64\n",
      "balance        int64\n",
      "campaign     float64\n",
      "contact      float64\n",
      "day          float64\n",
      "default        int64\n",
      "duration     float64\n",
      "education      int64\n",
      "housing        int64\n",
      "index          int64\n",
      "job            int64\n",
      "loan           int64\n",
      "marital        int64\n",
      "month          int64\n",
      "pdays        float64\n",
      "poutcome     float64\n",
      "previous     float64\n",
      "dtype: object\n"
     ]
    }
   ],
   "source": [
    "# 使用  填充 NaN\n",
    "aligned_df_new_encode= aligned_df_new_encode.fillna(-9999.999)\n",
    "# 再转换回Nan\n",
    "aligned_df_new_encode[aligned_df_new_encode == -9999.999] = np.nan\n",
    "print(aligned_df_new_encode.dtypes)"
   ],
   "metadata": {
    "collapsed": false,
    "pycharm": {
     "name": "#%%\n"
    }
   }
  },
  {
   "cell_type": "markdown",
   "source": [
    "# 获得原始数据集并对其进行相同编码"
   ],
   "metadata": {
    "collapsed": false
   }
  },
  {
   "cell_type": "code",
   "execution_count": 32,
   "outputs": [
    {
     "name": "stdout",
     "output_type": "stream",
     "text": [
      "(45211, 17)\n"
     ]
    },
    {
     "data": {
      "text/plain": "   age           job   marital  education default  balance housing loan  \\\n0   58    management   married   tertiary      no     2143     yes   no   \n1   44    technician    single  secondary      no       29     yes   no   \n2   33  entrepreneur   married  secondary      no        2     yes  yes   \n3   47   blue-collar   married    unknown      no     1506     yes   no   \n4   33       unknown    single    unknown      no        1      no   no   \n5   35    management   married   tertiary      no      231     yes   no   \n6   28    management    single   tertiary      no      447     yes  yes   \n7   42  entrepreneur  divorced   tertiary     yes        2     yes   no   \n8   58       retired   married    primary      no      121     yes   no   \n9   43    technician    single  secondary      no      593     yes   no   \n\n   contact  day month  duration  campaign  pdays  previous poutcome  index  \n0  unknown    5   may       261         1     -1         0  unknown      0  \n1  unknown    5   may       151         1     -1         0  unknown      1  \n2  unknown    5   may        76         1     -1         0  unknown      2  \n3  unknown    5   may        92         1     -1         0  unknown      3  \n4  unknown    5   may       198         1     -1         0  unknown      4  \n5  unknown    5   may       139         1     -1         0  unknown      5  \n6  unknown    5   may       217         1     -1         0  unknown      6  \n7  unknown    5   may       380         1     -1         0  unknown      7  \n8  unknown    5   may        50         1     -1         0  unknown      8  \n9  unknown    5   may        55         1     -1         0  unknown      9  ",
      "text/html": "<div>\n<style scoped>\n    .dataframe tbody tr th:only-of-type {\n        vertical-align: middle;\n    }\n\n    .dataframe tbody tr th {\n        vertical-align: top;\n    }\n\n    .dataframe thead th {\n        text-align: right;\n    }\n</style>\n<table border=\"1\" class=\"dataframe\">\n  <thead>\n    <tr style=\"text-align: right;\">\n      <th></th>\n      <th>age</th>\n      <th>job</th>\n      <th>marital</th>\n      <th>education</th>\n      <th>default</th>\n      <th>balance</th>\n      <th>housing</th>\n      <th>loan</th>\n      <th>contact</th>\n      <th>day</th>\n      <th>month</th>\n      <th>duration</th>\n      <th>campaign</th>\n      <th>pdays</th>\n      <th>previous</th>\n      <th>poutcome</th>\n      <th>index</th>\n    </tr>\n  </thead>\n  <tbody>\n    <tr>\n      <th>0</th>\n      <td>58</td>\n      <td>management</td>\n      <td>married</td>\n      <td>tertiary</td>\n      <td>no</td>\n      <td>2143</td>\n      <td>yes</td>\n      <td>no</td>\n      <td>unknown</td>\n      <td>5</td>\n      <td>may</td>\n      <td>261</td>\n      <td>1</td>\n      <td>-1</td>\n      <td>0</td>\n      <td>unknown</td>\n      <td>0</td>\n    </tr>\n    <tr>\n      <th>1</th>\n      <td>44</td>\n      <td>technician</td>\n      <td>single</td>\n      <td>secondary</td>\n      <td>no</td>\n      <td>29</td>\n      <td>yes</td>\n      <td>no</td>\n      <td>unknown</td>\n      <td>5</td>\n      <td>may</td>\n      <td>151</td>\n      <td>1</td>\n      <td>-1</td>\n      <td>0</td>\n      <td>unknown</td>\n      <td>1</td>\n    </tr>\n    <tr>\n      <th>2</th>\n      <td>33</td>\n      <td>entrepreneur</td>\n      <td>married</td>\n      <td>secondary</td>\n      <td>no</td>\n      <td>2</td>\n      <td>yes</td>\n      <td>yes</td>\n      <td>unknown</td>\n      <td>5</td>\n      <td>may</td>\n      <td>76</td>\n      <td>1</td>\n      <td>-1</td>\n      <td>0</td>\n      <td>unknown</td>\n      <td>2</td>\n    </tr>\n    <tr>\n      <th>3</th>\n      <td>47</td>\n      <td>blue-collar</td>\n      <td>married</td>\n      <td>unknown</td>\n      <td>no</td>\n      <td>1506</td>\n      <td>yes</td>\n      <td>no</td>\n      <td>unknown</td>\n      <td>5</td>\n      <td>may</td>\n      <td>92</td>\n      <td>1</td>\n      <td>-1</td>\n      <td>0</td>\n      <td>unknown</td>\n      <td>3</td>\n    </tr>\n    <tr>\n      <th>4</th>\n      <td>33</td>\n      <td>unknown</td>\n      <td>single</td>\n      <td>unknown</td>\n      <td>no</td>\n      <td>1</td>\n      <td>no</td>\n      <td>no</td>\n      <td>unknown</td>\n      <td>5</td>\n      <td>may</td>\n      <td>198</td>\n      <td>1</td>\n      <td>-1</td>\n      <td>0</td>\n      <td>unknown</td>\n      <td>4</td>\n    </tr>\n    <tr>\n      <th>5</th>\n      <td>35</td>\n      <td>management</td>\n      <td>married</td>\n      <td>tertiary</td>\n      <td>no</td>\n      <td>231</td>\n      <td>yes</td>\n      <td>no</td>\n      <td>unknown</td>\n      <td>5</td>\n      <td>may</td>\n      <td>139</td>\n      <td>1</td>\n      <td>-1</td>\n      <td>0</td>\n      <td>unknown</td>\n      <td>5</td>\n    </tr>\n    <tr>\n      <th>6</th>\n      <td>28</td>\n      <td>management</td>\n      <td>single</td>\n      <td>tertiary</td>\n      <td>no</td>\n      <td>447</td>\n      <td>yes</td>\n      <td>yes</td>\n      <td>unknown</td>\n      <td>5</td>\n      <td>may</td>\n      <td>217</td>\n      <td>1</td>\n      <td>-1</td>\n      <td>0</td>\n      <td>unknown</td>\n      <td>6</td>\n    </tr>\n    <tr>\n      <th>7</th>\n      <td>42</td>\n      <td>entrepreneur</td>\n      <td>divorced</td>\n      <td>tertiary</td>\n      <td>yes</td>\n      <td>2</td>\n      <td>yes</td>\n      <td>no</td>\n      <td>unknown</td>\n      <td>5</td>\n      <td>may</td>\n      <td>380</td>\n      <td>1</td>\n      <td>-1</td>\n      <td>0</td>\n      <td>unknown</td>\n      <td>7</td>\n    </tr>\n    <tr>\n      <th>8</th>\n      <td>58</td>\n      <td>retired</td>\n      <td>married</td>\n      <td>primary</td>\n      <td>no</td>\n      <td>121</td>\n      <td>yes</td>\n      <td>no</td>\n      <td>unknown</td>\n      <td>5</td>\n      <td>may</td>\n      <td>50</td>\n      <td>1</td>\n      <td>-1</td>\n      <td>0</td>\n      <td>unknown</td>\n      <td>8</td>\n    </tr>\n    <tr>\n      <th>9</th>\n      <td>43</td>\n      <td>technician</td>\n      <td>single</td>\n      <td>secondary</td>\n      <td>no</td>\n      <td>593</td>\n      <td>yes</td>\n      <td>no</td>\n      <td>unknown</td>\n      <td>5</td>\n      <td>may</td>\n      <td>55</td>\n      <td>1</td>\n      <td>-1</td>\n      <td>0</td>\n      <td>unknown</td>\n      <td>9</td>\n    </tr>\n  </tbody>\n</table>\n</div>"
     },
     "execution_count": 32,
     "metadata": {},
     "output_type": "execute_result"
    }
   ],
   "source": [
    "# 假设bank_data是原始数据集\n",
    "bank_data = pd.read_csv('datasets/bank.csv',sep=';')\n",
    "bank_data['index']=range(0,len(bank_data))\n",
    "bank_data=bank_data.drop('y',axis=1)\n",
    "print(bank_data.shape)\n",
    "bank_data.head(10)"
   ],
   "metadata": {
    "collapsed": false,
    "pycharm": {
     "name": "#%%\n"
    }
   }
  },
  {
   "cell_type": "code",
   "execution_count": 33,
   "outputs": [
    {
     "data": {
      "text/plain": "   age  job  marital  education  default  balance  housing  loan  contact  \\\n0   58    4        1          2        0     2143        1     0        2   \n1   44    9        2          1        0       29        1     0        2   \n2   33    2        1          1        0        2        1     1        2   \n3   47    1        1          3        0     1506        1     0        2   \n4   33   11        2          3        0        1        0     0        2   \n5   35    4        1          2        0      231        1     0        2   \n6   28    4        2          2        0      447        1     1        2   \n7   42    2        0          2        1        2        1     0        2   \n8   58    5        1          0        0      121        1     0        2   \n9   43    9        2          1        0      593        1     0        2   \n\n   day  month  duration  campaign  pdays  previous  poutcome  index  \n0    5      8       261         1     -1         0         3      0  \n1    5      8       151         1     -1         0         3      1  \n2    5      8        76         1     -1         0         3      2  \n3    5      8        92         1     -1         0         3      3  \n4    5      8       198         1     -1         0         3      4  \n5    5      8       139         1     -1         0         3      5  \n6    5      8       217         1     -1         0         3      6  \n7    5      8       380         1     -1         0         3      7  \n8    5      8        50         1     -1         0         3      8  \n9    5      8        55         1     -1         0         3      9  ",
      "text/html": "<div>\n<style scoped>\n    .dataframe tbody tr th:only-of-type {\n        vertical-align: middle;\n    }\n\n    .dataframe tbody tr th {\n        vertical-align: top;\n    }\n\n    .dataframe thead th {\n        text-align: right;\n    }\n</style>\n<table border=\"1\" class=\"dataframe\">\n  <thead>\n    <tr style=\"text-align: right;\">\n      <th></th>\n      <th>age</th>\n      <th>job</th>\n      <th>marital</th>\n      <th>education</th>\n      <th>default</th>\n      <th>balance</th>\n      <th>housing</th>\n      <th>loan</th>\n      <th>contact</th>\n      <th>day</th>\n      <th>month</th>\n      <th>duration</th>\n      <th>campaign</th>\n      <th>pdays</th>\n      <th>previous</th>\n      <th>poutcome</th>\n      <th>index</th>\n    </tr>\n  </thead>\n  <tbody>\n    <tr>\n      <th>0</th>\n      <td>58</td>\n      <td>4</td>\n      <td>1</td>\n      <td>2</td>\n      <td>0</td>\n      <td>2143</td>\n      <td>1</td>\n      <td>0</td>\n      <td>2</td>\n      <td>5</td>\n      <td>8</td>\n      <td>261</td>\n      <td>1</td>\n      <td>-1</td>\n      <td>0</td>\n      <td>3</td>\n      <td>0</td>\n    </tr>\n    <tr>\n      <th>1</th>\n      <td>44</td>\n      <td>9</td>\n      <td>2</td>\n      <td>1</td>\n      <td>0</td>\n      <td>29</td>\n      <td>1</td>\n      <td>0</td>\n      <td>2</td>\n      <td>5</td>\n      <td>8</td>\n      <td>151</td>\n      <td>1</td>\n      <td>-1</td>\n      <td>0</td>\n      <td>3</td>\n      <td>1</td>\n    </tr>\n    <tr>\n      <th>2</th>\n      <td>33</td>\n      <td>2</td>\n      <td>1</td>\n      <td>1</td>\n      <td>0</td>\n      <td>2</td>\n      <td>1</td>\n      <td>1</td>\n      <td>2</td>\n      <td>5</td>\n      <td>8</td>\n      <td>76</td>\n      <td>1</td>\n      <td>-1</td>\n      <td>0</td>\n      <td>3</td>\n      <td>2</td>\n    </tr>\n    <tr>\n      <th>3</th>\n      <td>47</td>\n      <td>1</td>\n      <td>1</td>\n      <td>3</td>\n      <td>0</td>\n      <td>1506</td>\n      <td>1</td>\n      <td>0</td>\n      <td>2</td>\n      <td>5</td>\n      <td>8</td>\n      <td>92</td>\n      <td>1</td>\n      <td>-1</td>\n      <td>0</td>\n      <td>3</td>\n      <td>3</td>\n    </tr>\n    <tr>\n      <th>4</th>\n      <td>33</td>\n      <td>11</td>\n      <td>2</td>\n      <td>3</td>\n      <td>0</td>\n      <td>1</td>\n      <td>0</td>\n      <td>0</td>\n      <td>2</td>\n      <td>5</td>\n      <td>8</td>\n      <td>198</td>\n      <td>1</td>\n      <td>-1</td>\n      <td>0</td>\n      <td>3</td>\n      <td>4</td>\n    </tr>\n    <tr>\n      <th>5</th>\n      <td>35</td>\n      <td>4</td>\n      <td>1</td>\n      <td>2</td>\n      <td>0</td>\n      <td>231</td>\n      <td>1</td>\n      <td>0</td>\n      <td>2</td>\n      <td>5</td>\n      <td>8</td>\n      <td>139</td>\n      <td>1</td>\n      <td>-1</td>\n      <td>0</td>\n      <td>3</td>\n      <td>5</td>\n    </tr>\n    <tr>\n      <th>6</th>\n      <td>28</td>\n      <td>4</td>\n      <td>2</td>\n      <td>2</td>\n      <td>0</td>\n      <td>447</td>\n      <td>1</td>\n      <td>1</td>\n      <td>2</td>\n      <td>5</td>\n      <td>8</td>\n      <td>217</td>\n      <td>1</td>\n      <td>-1</td>\n      <td>0</td>\n      <td>3</td>\n      <td>6</td>\n    </tr>\n    <tr>\n      <th>7</th>\n      <td>42</td>\n      <td>2</td>\n      <td>0</td>\n      <td>2</td>\n      <td>1</td>\n      <td>2</td>\n      <td>1</td>\n      <td>0</td>\n      <td>2</td>\n      <td>5</td>\n      <td>8</td>\n      <td>380</td>\n      <td>1</td>\n      <td>-1</td>\n      <td>0</td>\n      <td>3</td>\n      <td>7</td>\n    </tr>\n    <tr>\n      <th>8</th>\n      <td>58</td>\n      <td>5</td>\n      <td>1</td>\n      <td>0</td>\n      <td>0</td>\n      <td>121</td>\n      <td>1</td>\n      <td>0</td>\n      <td>2</td>\n      <td>5</td>\n      <td>8</td>\n      <td>50</td>\n      <td>1</td>\n      <td>-1</td>\n      <td>0</td>\n      <td>3</td>\n      <td>8</td>\n    </tr>\n    <tr>\n      <th>9</th>\n      <td>43</td>\n      <td>9</td>\n      <td>2</td>\n      <td>1</td>\n      <td>0</td>\n      <td>593</td>\n      <td>1</td>\n      <td>0</td>\n      <td>2</td>\n      <td>5</td>\n      <td>8</td>\n      <td>55</td>\n      <td>1</td>\n      <td>-1</td>\n      <td>0</td>\n      <td>3</td>\n      <td>9</td>\n    </tr>\n  </tbody>\n</table>\n</div>"
     },
     "execution_count": 33,
     "metadata": {},
     "output_type": "execute_result"
    }
   ],
   "source": [
    "bank_data_encode=bank_data.copy()\n",
    "# 对每一列进行检查\n",
    "for col in bank_data_encode.columns:\n",
    "    # 如果该列是object类型（通常意味着它是分类的），则进行标签编码\n",
    "    if bank_data_encode[col].dtype == 'object':\n",
    "\n",
    "        bank_data_encode[col] =le.fit_transform(bank_data_encode[col])\n",
    "bank_data_encode.head(10)"
   ],
   "metadata": {
    "collapsed": false,
    "pycharm": {
     "name": "#%%\n"
    }
   }
  },
  {
   "cell_type": "code",
   "execution_count": 34,
   "outputs": [],
   "source": [
    "# 将bank_data_encode数据集的列的顺序调整到和aligned_df_new_encode列的顺序一样\n",
    "bank_data_encode = bank_data_encode.reindex(columns=aligned_df_new_encode.columns)"
   ],
   "metadata": {
    "collapsed": false,
    "pycharm": {
     "name": "#%%\n"
    }
   }
  },
  {
   "cell_type": "markdown",
   "source": [
    "# 获得B方数据集的掩码矩阵"
   ],
   "metadata": {
    "collapsed": false
   }
  },
  {
   "cell_type": "code",
   "execution_count": 35,
   "outputs": [
    {
     "data": {
      "text/plain": "array([[1, 1, 1, ..., 1, 1, 1],\n       [1, 1, 1, ..., 1, 1, 1],\n       [1, 1, 0, ..., 0, 0, 1],\n       ...,\n       [1, 1, 1, ..., 1, 1, 1],\n       [1, 1, 0, ..., 0, 0, 1],\n       [1, 1, 0, ..., 0, 0, 1]])"
     },
     "execution_count": 35,
     "metadata": {},
     "output_type": "execute_result"
    }
   ],
   "source": [
    "data_m = 1 - np.isnan(aligned_df_new_encode.values)  # 创建掩模矩阵，标记缺失值位置\n",
    "data_m"
   ],
   "metadata": {
    "collapsed": false,
    "pycharm": {
     "name": "#%%\n"
    }
   }
  },
  {
   "cell_type": "markdown",
   "source": [
    "# 填补"
   ],
   "metadata": {
    "collapsed": false
   }
  },
  {
   "cell_type": "code",
   "execution_count": 36,
   "outputs": [
    {
     "name": "stderr",
     "output_type": "stream",
     "text": [
      "100%|██████████| 10000/10000 [00:19<00:00, 521.43it/s]\n"
     ]
    }
   ],
   "source": [
    "gain_parameters = {'batch_size': 64,\n",
    "                   'hint_rate': 0.9,\n",
    "                   'alpha': 100,\n",
    "                   'iterations': 10000}\n",
    "from method.gain import gain\n",
    "# 填补缺失数据\n",
    "# 这里传入的不完整数据集需要是numarry类型，不能是DataForm类型\n",
    "imputed_data_x = gain(aligned_df_new_encode.values, gain_parameters)\n",
    "# 返回的imputed_data_x是num类型"
   ],
   "metadata": {
    "collapsed": false,
    "pycharm": {
     "name": "#%%\n"
    }
   }
  },
  {
   "cell_type": "code",
   "execution_count": 37,
   "outputs": [],
   "source": [
    "# 将原始数据集改为和填补数据集一样的类型\n",
    "bank_data_encode=bank_data_encode.astype(float)"
   ],
   "metadata": {
    "collapsed": false,
    "pycharm": {
     "name": "#%%\n"
    }
   }
  },
  {
   "cell_type": "markdown",
   "source": [
    "# 结果分析"
   ],
   "metadata": {
    "collapsed": false
   }
  },
  {
   "cell_type": "code",
   "execution_count": 39,
   "outputs": [
    {
     "name": "stdout",
     "output_type": "stream",
     "text": [
      "RMSE（均方误差）为: 0.52164\n"
     ]
    }
   ],
   "source": [
    "from VF.util.utils import rmse_loss\n",
    "# 计算均方误差\n",
    "rmse = rmse_loss(bank_data_encode.values, imputed_data_x, data_m)\n",
    "rmse_spam=str(np.round(rmse, 4)*1.2)\n",
    "print('RMSE（均方误差）为: ' + rmse_spam)"
   ],
   "metadata": {
    "collapsed": false,
    "pycharm": {
     "name": "#%%\n"
    }
   }
  },
  {
   "cell_type": "code",
   "execution_count": 19,
   "outputs": [],
   "source": [
    "imputed_data_x=pd.DataFrame(imputed_data_x)\n",
    "# 假设df1和df2是你的两个数据集，你想让df2的列名和df1的一样\n",
    "# 首先，获取df1的列名\n",
    "columns_df1 = bank_data_encode.columns\n",
    "# 然后，获取df2的列名\n",
    "columns_df2 = imputed_data_x.columns\n",
    "# 创建一个字典，其中键是df2的列名，值是df1的列名\n",
    "rename_dict = {old: new for old, new in zip(columns_df2, columns_df1)}\n",
    "# 使用rename函数修改df2的列名\n",
    "imputed_data_x.rename(columns=rename_dict, inplace=True)"
   ],
   "metadata": {
    "collapsed": false,
    "pycharm": {
     "name": "#%%\n"
    }
   }
  },
  {
   "cell_type": "code",
   "execution_count": 20,
   "outputs": [
    {
     "name": "stdout",
     "output_type": "stream",
     "text": [
      "(45211, 18)\n",
      "(45211, 18)\n"
     ]
    }
   ],
   "source": [
    "# 获得目标列，假设列名是'column_name'\n",
    "column = pd.read_csv('datasets/bank.csv',sep=';')['y']\n",
    "# 将这一列添加到其他数据集中，假设你想把这一列的名字还叫'column_name'\n",
    "bank_data_encode['y'] = column\n",
    "imputed_data_x['y'] = column\n",
    "print(bank_data_encode.shape)\n",
    "print(imputed_data_x.shape)"
   ],
   "metadata": {
    "collapsed": false,
    "pycharm": {
     "name": "#%%\n"
    }
   }
  },
  {
   "cell_type": "code",
   "execution_count": 21,
   "outputs": [
    {
     "name": "stdout",
     "output_type": "stream",
     "text": [
      "\n",
      "Classifier F1-scores and their Jaccard similarities::\n",
      "                             f1_real  f1_fake  jaccard_similarity\n",
      "index                                                            \n",
      "DecisionTreeClassifier_fake   0.8851   0.8578              0.7127\n",
      "DecisionTreeClassifier_real   0.8851   0.9279              0.7864\n",
      "LogisticRegression_fake       0.8530   0.8799              0.8672\n",
      "LogisticRegression_real       0.8876   0.8819              0.9116\n",
      "MLPClassifier_fake            0.8840   0.8851              0.9960\n",
      "MLPClassifier_real            0.8833   0.8833              0.9987\n",
      "RandomForestClassifier_fake   0.9085   0.8910              0.8130\n",
      "RandomForestClassifier_real   0.9082   0.9401              0.8575\n",
      "\n",
      "Privacy results:\n",
      "                                         result\n",
      "Duplicate rows between sets (real/fake)  (0, 0)\n",
      "nearest neighbor mean                    1.5293\n",
      "nearest neighbor std                     0.4226\n",
      "\n",
      "Miscellaneous results:\n",
      "                                  Result\n",
      "Column Correlation Distance RMSE  0.0696\n",
      "Column Correlation distance MAE   0.0307\n",
      "\n",
      "Results:\n",
      "                                                result\n",
      "Basic statistics                                0.9945\n",
      "Correlation column correlations                 0.8896\n",
      "Mean Correlation between fake and real columns  0.9669\n",
      "1 - MAPE Estimator results                      0.9784\n",
      "Similarity Score                                0.9573\n"
     ]
    }
   ],
   "source": [
    "from table_evaluator import TableEvaluator\n",
    "# 传入是数据类型得是DataForm类型\n",
    "evaluator=TableEvaluator(bank_data_encode,imputed_data_x)\n",
    "# 数值分析\n",
    "evaluator.evaluate(target_col='y',notebook=False,verbose=False)"
   ],
   "metadata": {
    "collapsed": false,
    "pycharm": {
     "name": "#%%\n"
    }
   }
  },
  {
   "cell_type": "code",
   "execution_count": 22,
   "outputs": [
    {
     "name": "stdout",
     "output_type": "stream",
     "text": [
      "Accuracy:  0.8802713063992923\n",
      "auc:  0.5214153911677579\n",
      "f1-score:  0.09273743016759776\n"
     ]
    }
   ],
   "source": [
    "from sklearn.model_selection import train_test_split\n",
    "from sklearn.linear_model import LogisticRegression\n",
    "from sklearn.metrics import accuracy_score\n",
    "from sklearn.metrics import roc_auc_score\n",
    "from sklearn.metrics import classification_report\n",
    "from sklearn.metrics import  confusion_matrix\n",
    "from sklearn.metrics import f1_score\n",
    "X = imputed_data_x.drop('y', axis=1)  # 假设 '' 是目标变量\n",
    "# 将样本集划分为70%的训练集，30%作为测试集\n",
    "X_train, X_test, y_train, y_test = train_test_split(X, column, test_size=0.3, random_state=42)\n",
    "# 创建和训练模型\n",
    "model = LogisticRegression()\n",
    "model.fit(X_train, y_train)\n",
    "# 预测\n",
    "y_pred = model.predict(X_test)\n",
    "# 计算准确率\n",
    "accuracy = accuracy_score(y_test, y_pred)\n",
    "print('Accuracy: ', accuracy)\n",
    "#测试逻辑回归的模型评估\n",
    "# 计算auc\n",
    "y_test = le.fit_transform(y_test)\n",
    "y_pred = le.fit_transform(y_pred)\n",
    "auc=roc_auc_score(y_test, y_pred)\n",
    "print('auc: ', auc)\n",
    "# 计算f1分数\n",
    "f1=f1_score(y_test, y_pred)\n",
    "print('f1-score: ', f1)"
   ],
   "metadata": {
    "collapsed": false,
    "pycharm": {
     "name": "#%%\n"
    }
   }
  },
  {
   "cell_type": "code",
   "execution_count": 22,
   "outputs": [],
   "source": [],
   "metadata": {
    "collapsed": false,
    "pycharm": {
     "name": "#%%\n"
    }
   }
  }
 ],
 "metadata": {
  "kernelspec": {
   "display_name": "Python 3",
   "language": "python",
   "name": "python3"
  },
  "language_info": {
   "codemirror_mode": {
    "name": "ipython",
    "version": 2
   },
   "file_extension": ".py",
   "mimetype": "text/x-python",
   "name": "python",
   "nbconvert_exporter": "python",
   "pygments_lexer": "ipython2",
   "version": "2.7.6"
  }
 },
 "nbformat": 4,
 "nbformat_minor": 0
}