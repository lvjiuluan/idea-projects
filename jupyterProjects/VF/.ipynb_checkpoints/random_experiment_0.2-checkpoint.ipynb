{
 "cells": [
  {
   "cell_type": "markdown",
   "source": [
    "随机生成，然后进行填补"
   ],
   "metadata": {
    "collapsed": false
   }
  },
  {
   "cell_type": "code",
   "execution_count": 1,
   "metadata": {
    "collapsed": true
   },
   "outputs": [],
   "source": [
    "import pandas as pd\n",
    "import numpy as np"
   ]
  },
  {
   "cell_type": "markdown",
   "source": [
    "# 数据集处理"
   ],
   "metadata": {
    "collapsed": false
   }
  },
  {
   "cell_type": "markdown",
   "source": [
    "设置缺失的行占比率，然后得到单方的缺失数据集"
   ],
   "metadata": {
    "collapsed": false
   }
  },
  {
   "cell_type": "code",
   "execution_count": 2,
   "outputs": [],
   "source": [
    "from util.data_loader import data_loader2\n",
    "data_name='bank_data_B'\n",
    "miss_rate=0.2\n",
    "complete_data_B,incomplete_data_B=data_loader2(data_name,miss_rate)"
   ],
   "metadata": {
    "collapsed": false,
    "pycharm": {
     "name": "#%%\n"
    }
   }
  },
  {
   "cell_type": "markdown",
   "source": [
    "# CTGAN生成"
   ],
   "metadata": {
    "collapsed": false
   }
  },
  {
   "cell_type": "markdown",
   "source": [
    "选出分类列然后利用CTGAN进行生成"
   ],
   "metadata": {
    "collapsed": false
   }
  },
  {
   "cell_type": "code",
   "execution_count": 3,
   "outputs": [
    {
     "name": "stderr",
     "output_type": "stream",
     "text": [
      "D:\\Anaconda\\anaconda\\envs\\neural_network\\lib\\site-packages\\rdt\\transformers\\base.py:132: FutureWarning: Future versions of RDT will not support the 'model_missing_values' parameter. Please switch to using the 'missing_value_generation' parameter to select your strategy.\n",
      "  warnings.warn(\n",
      "D:\\Anaconda\\anaconda\\envs\\neural_network\\lib\\site-packages\\rdt\\transformers\\base.py:132: FutureWarning: Future versions of RDT will not support the 'model_missing_values' parameter. Please switch to using the 'missing_value_generation' parameter to select your strategy.\n",
      "  warnings.warn(\n",
      "D:\\Anaconda\\anaconda\\envs\\neural_network\\lib\\site-packages\\rdt\\transformers\\base.py:132: FutureWarning: Future versions of RDT will not support the 'model_missing_values' parameter. Please switch to using the 'missing_value_generation' parameter to select your strategy.\n",
      "  warnings.warn(\n",
      "D:\\Anaconda\\anaconda\\envs\\neural_network\\lib\\site-packages\\rdt\\transformers\\base.py:132: FutureWarning: Future versions of RDT will not support the 'model_missing_values' parameter. Please switch to using the 'missing_value_generation' parameter to select your strategy.\n",
      "  warnings.warn(\n",
      "D:\\Anaconda\\anaconda\\envs\\neural_network\\lib\\site-packages\\rdt\\transformers\\base.py:132: FutureWarning: Future versions of RDT will not support the 'model_missing_values' parameter. Please switch to using the 'missing_value_generation' parameter to select your strategy.\n",
      "  warnings.warn(\n",
      "D:\\Anaconda\\anaconda\\envs\\neural_network\\lib\\site-packages\\rdt\\transformers\\base.py:132: FutureWarning: Future versions of RDT will not support the 'model_missing_values' parameter. Please switch to using the 'missing_value_generation' parameter to select your strategy.\n",
      "  warnings.warn(\n"
     ]
    }
   ],
   "source": [
    "discrete_columns=incomplete_data_B.select_dtypes(include=['object'])\n",
    "from ctgan import CTGAN\n",
    "ctgan = CTGAN(epochs=10)\n",
    "ctgan.fit(incomplete_data_B,discrete_columns)\n",
    "len1=complete_data_B.shape[0]\n",
    "len2=incomplete_data_B.shape[0]\n",
    "# 生成数据\n",
    "synthetic_data = ctgan.sample(len1)"
   ],
   "metadata": {
    "collapsed": false,
    "pycharm": {
     "name": "#%%\n"
    }
   }
  },
  {
   "cell_type": "markdown",
   "source": [
    "生成的数据中随机保留3列数据，丢弃其他数据"
   ],
   "metadata": {
    "collapsed": false
   }
  },
  {
   "cell_type": "code",
   "execution_count": 9,
   "outputs": [
    {
     "data": {
      "text/plain": "       day  duration  campaign\n0       18        65         2\n1       18        77         1\n2       20       211         2\n3       17       193         4\n4       19       198         7\n...    ...       ...       ...\n45206   24       350         1\n45207   22       320         2\n45208    7       123         1\n45209   33       254         1\n45210    9       185         2\n\n[45211 rows x 3 columns]",
      "text/html": "<div>\n<style scoped>\n    .dataframe tbody tr th:only-of-type {\n        vertical-align: middle;\n    }\n\n    .dataframe tbody tr th {\n        vertical-align: top;\n    }\n\n    .dataframe thead th {\n        text-align: right;\n    }\n</style>\n<table border=\"1\" class=\"dataframe\">\n  <thead>\n    <tr style=\"text-align: right;\">\n      <th></th>\n      <th>day</th>\n      <th>duration</th>\n      <th>campaign</th>\n    </tr>\n  </thead>\n  <tbody>\n    <tr>\n      <th>0</th>\n      <td>18</td>\n      <td>65</td>\n      <td>2</td>\n    </tr>\n    <tr>\n      <th>1</th>\n      <td>18</td>\n      <td>77</td>\n      <td>1</td>\n    </tr>\n    <tr>\n      <th>2</th>\n      <td>20</td>\n      <td>211</td>\n      <td>2</td>\n    </tr>\n    <tr>\n      <th>3</th>\n      <td>17</td>\n      <td>193</td>\n      <td>4</td>\n    </tr>\n    <tr>\n      <th>4</th>\n      <td>19</td>\n      <td>198</td>\n      <td>7</td>\n    </tr>\n    <tr>\n      <th>...</th>\n      <td>...</td>\n      <td>...</td>\n      <td>...</td>\n    </tr>\n    <tr>\n      <th>45206</th>\n      <td>24</td>\n      <td>350</td>\n      <td>1</td>\n    </tr>\n    <tr>\n      <th>45207</th>\n      <td>22</td>\n      <td>320</td>\n      <td>2</td>\n    </tr>\n    <tr>\n      <th>45208</th>\n      <td>7</td>\n      <td>123</td>\n      <td>1</td>\n    </tr>\n    <tr>\n      <th>45209</th>\n      <td>33</td>\n      <td>254</td>\n      <td>1</td>\n    </tr>\n    <tr>\n      <th>45210</th>\n      <td>9</td>\n      <td>185</td>\n      <td>2</td>\n    </tr>\n  </tbody>\n</table>\n<p>45211 rows × 3 columns</p>\n</div>"
     },
     "execution_count": 9,
     "metadata": {},
     "output_type": "execute_result"
    }
   ],
   "source": [
    "# 随机选择数据集中的3列\n",
    "random_columns = synthetic_data.drop('index', axis=1).sample(n=3, axis=1)\n",
    "random_columns"
   ],
   "metadata": {
    "collapsed": false,
    "pycharm": {
     "name": "#%%\n"
    }
   }
  },
  {
   "cell_type": "code",
   "execution_count": 11,
   "outputs": [
    {
     "name": "stdout",
     "output_type": "stream",
     "text": [
      "(45211, 10)\n"
     ]
    },
    {
     "data": {
      "text/plain": "   contact  day  month  duration  campaign  pdays  previous  poutcome   y  \\\n0      NaN   18    NaN        65         2    NaN       NaN       NaN NaN   \n1      NaN   18    NaN        77         1    NaN       NaN       NaN NaN   \n2      NaN   20    NaN       211         2    NaN       NaN       NaN NaN   \n3      NaN   17    NaN       193         4    NaN       NaN       NaN NaN   \n4      NaN   19    NaN       198         7    NaN       NaN       NaN NaN   \n5      NaN   28    NaN       210         1    NaN       NaN       NaN NaN   \n6      NaN    4    NaN       149         2    NaN       NaN       NaN NaN   \n7      NaN   10    NaN        42         1    NaN       NaN       NaN NaN   \n8      NaN    6    NaN       312         4    NaN       NaN       NaN NaN   \n9      NaN    9    NaN        15         1    NaN       NaN       NaN NaN   \n\n   index  \n0    NaN  \n1    NaN  \n2    NaN  \n3    NaN  \n4    NaN  \n5    NaN  \n6    NaN  \n7    NaN  \n8    NaN  \n9    NaN  ",
      "text/html": "<div>\n<style scoped>\n    .dataframe tbody tr th:only-of-type {\n        vertical-align: middle;\n    }\n\n    .dataframe tbody tr th {\n        vertical-align: top;\n    }\n\n    .dataframe thead th {\n        text-align: right;\n    }\n</style>\n<table border=\"1\" class=\"dataframe\">\n  <thead>\n    <tr style=\"text-align: right;\">\n      <th></th>\n      <th>contact</th>\n      <th>day</th>\n      <th>month</th>\n      <th>duration</th>\n      <th>campaign</th>\n      <th>pdays</th>\n      <th>previous</th>\n      <th>poutcome</th>\n      <th>y</th>\n      <th>index</th>\n    </tr>\n  </thead>\n  <tbody>\n    <tr>\n      <th>0</th>\n      <td>NaN</td>\n      <td>18</td>\n      <td>NaN</td>\n      <td>65</td>\n      <td>2</td>\n      <td>NaN</td>\n      <td>NaN</td>\n      <td>NaN</td>\n      <td>NaN</td>\n      <td>NaN</td>\n    </tr>\n    <tr>\n      <th>1</th>\n      <td>NaN</td>\n      <td>18</td>\n      <td>NaN</td>\n      <td>77</td>\n      <td>1</td>\n      <td>NaN</td>\n      <td>NaN</td>\n      <td>NaN</td>\n      <td>NaN</td>\n      <td>NaN</td>\n    </tr>\n    <tr>\n      <th>2</th>\n      <td>NaN</td>\n      <td>20</td>\n      <td>NaN</td>\n      <td>211</td>\n      <td>2</td>\n      <td>NaN</td>\n      <td>NaN</td>\n      <td>NaN</td>\n      <td>NaN</td>\n      <td>NaN</td>\n    </tr>\n    <tr>\n      <th>3</th>\n      <td>NaN</td>\n      <td>17</td>\n      <td>NaN</td>\n      <td>193</td>\n      <td>4</td>\n      <td>NaN</td>\n      <td>NaN</td>\n      <td>NaN</td>\n      <td>NaN</td>\n      <td>NaN</td>\n    </tr>\n    <tr>\n      <th>4</th>\n      <td>NaN</td>\n      <td>19</td>\n      <td>NaN</td>\n      <td>198</td>\n      <td>7</td>\n      <td>NaN</td>\n      <td>NaN</td>\n      <td>NaN</td>\n      <td>NaN</td>\n      <td>NaN</td>\n    </tr>\n    <tr>\n      <th>5</th>\n      <td>NaN</td>\n      <td>28</td>\n      <td>NaN</td>\n      <td>210</td>\n      <td>1</td>\n      <td>NaN</td>\n      <td>NaN</td>\n      <td>NaN</td>\n      <td>NaN</td>\n      <td>NaN</td>\n    </tr>\n    <tr>\n      <th>6</th>\n      <td>NaN</td>\n      <td>4</td>\n      <td>NaN</td>\n      <td>149</td>\n      <td>2</td>\n      <td>NaN</td>\n      <td>NaN</td>\n      <td>NaN</td>\n      <td>NaN</td>\n      <td>NaN</td>\n    </tr>\n    <tr>\n      <th>7</th>\n      <td>NaN</td>\n      <td>10</td>\n      <td>NaN</td>\n      <td>42</td>\n      <td>1</td>\n      <td>NaN</td>\n      <td>NaN</td>\n      <td>NaN</td>\n      <td>NaN</td>\n      <td>NaN</td>\n    </tr>\n    <tr>\n      <th>8</th>\n      <td>NaN</td>\n      <td>6</td>\n      <td>NaN</td>\n      <td>312</td>\n      <td>4</td>\n      <td>NaN</td>\n      <td>NaN</td>\n      <td>NaN</td>\n      <td>NaN</td>\n      <td>NaN</td>\n    </tr>\n    <tr>\n      <th>9</th>\n      <td>NaN</td>\n      <td>9</td>\n      <td>NaN</td>\n      <td>15</td>\n      <td>1</td>\n      <td>NaN</td>\n      <td>NaN</td>\n      <td>NaN</td>\n      <td>NaN</td>\n      <td>NaN</td>\n    </tr>\n  </tbody>\n</table>\n</div>"
     },
     "execution_count": 11,
     "metadata": {},
     "output_type": "execute_result"
    }
   ],
   "source": [
    "# 创建一个新的DataFrame，保留要保留的列，其他列设为NaN\n",
    "correlation_synthetic_data = synthetic_data.copy()\n",
    "\n",
    "# correlation_synthetic_data=pd.DataFrame(correlation_synthetic_data)\n",
    "# correlation_synthetic_data.shape\n",
    "for column in correlation_synthetic_data.columns:\n",
    "    if column not in random_columns:\n",
    "        correlation_synthetic_data[column] = np.nan\n",
    "print(correlation_synthetic_data.shape)\n",
    "correlation_synthetic_data.head(10)"
   ],
   "metadata": {
    "collapsed": false,
    "pycharm": {
     "name": "#%%\n"
    }
   }
  },
  {
   "cell_type": "markdown",
   "source": [
    "# 得到A方完整数据集和B方随机生成的数据集"
   ],
   "metadata": {
    "collapsed": false
   }
  },
  {
   "cell_type": "code",
   "execution_count": 4,
   "outputs": [],
   "source": [
    "complete_data_A = pd.read_csv('datasetsAB/bank_data_A.csv', sep=',')\n",
    "# 假设A和B是你的DataFrame，你想保留A中的重复列\n",
    "aligned_df = complete_data_A.merge(incomplete_data_B, left_index=True, right_index=True, how='outer', suffixes=('_keep', '_drop'))\n",
    "\n",
    "# 删除B中的重复列\n",
    "columns_to_drop = [column for column in aligned_df.columns if '_drop' in column]\n",
    "aligned_df = aligned_df.drop(columns_to_drop, axis=1)\n",
    "\n",
    "# 删除列名中的后缀\n",
    "aligned_df.columns = aligned_df.columns.str.replace('_keep', '')"
   ],
   "metadata": {
    "collapsed": false,
    "pycharm": {
     "name": "#%%\n"
    }
   }
  },
  {
   "cell_type": "code",
   "execution_count": 5,
   "outputs": [
    {
     "name": "stdout",
     "output_type": "stream",
     "text": [
      "(45211, 18)\n"
     ]
    },
    {
     "data": {
      "text/plain": "    age            job   marital  education default  balance housing loan  \\\n0    58     management   married   tertiary      no     2143     yes   no   \n1    44     technician    single  secondary      no       29     yes   no   \n2    33   entrepreneur   married  secondary      no        2     yes  yes   \n3    47    blue-collar   married    unknown      no     1506     yes   no   \n4    33        unknown    single    unknown      no        1      no   no   \n5    35     management   married   tertiary      no      231     yes   no   \n6    28     management    single   tertiary      no      447     yes  yes   \n7    42   entrepreneur  divorced   tertiary     yes        2     yes   no   \n8    58        retired   married    primary      no      121     yes   no   \n9    43     technician    single  secondary      no      593     yes   no   \n10   41         admin.  divorced  secondary      no      270     yes   no   \n11   29         admin.    single  secondary      no      390     yes   no   \n12   53     technician   married  secondary      no        6     yes   no   \n13   58     technician   married    unknown      no       71     yes   no   \n14   57       services   married  secondary      no      162     yes   no   \n15   51        retired   married    primary      no      229     yes   no   \n16   45         admin.    single    unknown      no       13     yes   no   \n17   57    blue-collar   married    primary      no       52     yes   no   \n18   60        retired   married    primary      no       60     yes   no   \n19   33       services   married  secondary      no        0     yes   no   \n20   28    blue-collar   married  secondary      no      723     yes  yes   \n21   56     management   married   tertiary      no      779     yes   no   \n22   32    blue-collar    single    primary      no       23     yes  yes   \n23   25       services   married  secondary      no       50     yes   no   \n24   40        retired   married    primary      no        0     yes  yes   \n25   44         admin.   married  secondary      no     -372     yes   no   \n26   39     management    single   tertiary      no      255     yes   no   \n27   52   entrepreneur   married  secondary      no      113     yes  yes   \n28   46     management    single  secondary      no     -246     yes   no   \n29   36     technician    single  secondary      no      265     yes  yes   \n30   57     technician   married  secondary      no      839      no  yes   \n31   49     management   married   tertiary      no      378     yes   no   \n32   60         admin.   married  secondary      no       39     yes  yes   \n33   59    blue-collar   married  secondary      no        0     yes   no   \n34   51     management   married   tertiary      no    10635     yes   no   \n35   57     technician  divorced  secondary      no       63     yes   no   \n36   25    blue-collar   married  secondary      no       -7     yes   no   \n37   53     technician   married  secondary      no       -3      no   no   \n38   36         admin.  divorced  secondary      no      506     yes   no   \n39   37         admin.    single  secondary      no        0     yes   no   \n40   44       services  divorced  secondary      no     2586     yes   no   \n41   50     management   married  secondary      no       49     yes   no   \n42   60    blue-collar   married    unknown      no      104     yes   no   \n43   54        retired   married  secondary      no      529     yes   no   \n44   58        retired   married    unknown      no       96     yes   no   \n45   36         admin.    single    primary      no     -171     yes   no   \n46   58  self-employed   married   tertiary      no     -364     yes   no   \n47   44     technician   married  secondary      no        0     yes   no   \n48   55     technician  divorced  secondary      no        0      no   no   \n49   29     management    single   tertiary      no        0     yes   no   \n\n    index  contact  day month  duration  campaign  pdays  previous poutcome  \\\n0       0  unknown  5.0   may     261.0       1.0   -1.0       0.0  unknown   \n1       1  unknown  5.0   may     151.0       1.0   -1.0       0.0  unknown   \n2       2  unknown  5.0   may      76.0       1.0   -1.0       0.0  unknown   \n3       3  unknown  5.0   may      92.0       1.0   -1.0       0.0  unknown   \n4       4  unknown  5.0   may     198.0       1.0   -1.0       0.0  unknown   \n5       5  unknown  5.0   may     139.0       1.0   -1.0       0.0  unknown   \n6       6  unknown  5.0   may     217.0       1.0   -1.0       0.0  unknown   \n7       7  unknown  5.0   may     380.0       1.0   -1.0       0.0  unknown   \n8       8  unknown  5.0   may      50.0       1.0   -1.0       0.0  unknown   \n9       9      NaN  NaN   NaN       NaN       NaN    NaN       NaN      NaN   \n10     10  unknown  5.0   may     222.0       1.0   -1.0       0.0  unknown   \n11     11  unknown  5.0   may     137.0       1.0   -1.0       0.0  unknown   \n12     12  unknown  5.0   may     517.0       1.0   -1.0       0.0  unknown   \n13     13  unknown  5.0   may      71.0       1.0   -1.0       0.0  unknown   \n14     14      NaN  NaN   NaN       NaN       NaN    NaN       NaN      NaN   \n15     15  unknown  5.0   may     353.0       1.0   -1.0       0.0  unknown   \n16     16  unknown  5.0   may      98.0       1.0   -1.0       0.0  unknown   \n17     17  unknown  5.0   may      38.0       1.0   -1.0       0.0  unknown   \n18     18      NaN  NaN   NaN       NaN       NaN    NaN       NaN      NaN   \n19     19      NaN  NaN   NaN       NaN       NaN    NaN       NaN      NaN   \n20     20  unknown  5.0   may     262.0       1.0   -1.0       0.0  unknown   \n21     21  unknown  5.0   may     164.0       1.0   -1.0       0.0  unknown   \n22     22  unknown  5.0   may     160.0       1.0   -1.0       0.0  unknown   \n23     23  unknown  5.0   may     342.0       1.0   -1.0       0.0  unknown   \n24     24  unknown  5.0   may     181.0       1.0   -1.0       0.0  unknown   \n25     25  unknown  5.0   may     172.0       1.0   -1.0       0.0  unknown   \n26     26      NaN  NaN   NaN       NaN       NaN    NaN       NaN      NaN   \n27     27  unknown  5.0   may     127.0       1.0   -1.0       0.0  unknown   \n28     28  unknown  5.0   may     255.0       2.0   -1.0       0.0  unknown   \n29     29      NaN  NaN   NaN       NaN       NaN    NaN       NaN      NaN   \n30     30  unknown  5.0   may     225.0       1.0   -1.0       0.0  unknown   \n31     31  unknown  5.0   may     230.0       1.0   -1.0       0.0  unknown   \n32     32  unknown  5.0   may     208.0       1.0   -1.0       0.0  unknown   \n33     33  unknown  5.0   may     226.0       1.0   -1.0       0.0  unknown   \n34     34  unknown  5.0   may     336.0       1.0   -1.0       0.0  unknown   \n35     35  unknown  5.0   may     242.0       1.0   -1.0       0.0  unknown   \n36     36  unknown  5.0   may     365.0       1.0   -1.0       0.0  unknown   \n37     37  unknown  5.0   may    1666.0       1.0   -1.0       0.0  unknown   \n38     38  unknown  5.0   may     577.0       1.0   -1.0       0.0  unknown   \n39     39  unknown  5.0   may     137.0       1.0   -1.0       0.0  unknown   \n40     40  unknown  5.0   may     160.0       1.0   -1.0       0.0  unknown   \n41     41  unknown  5.0   may     180.0       2.0   -1.0       0.0  unknown   \n42     42  unknown  5.0   may      22.0       1.0   -1.0       0.0  unknown   \n43     43      NaN  NaN   NaN       NaN       NaN    NaN       NaN      NaN   \n44     44  unknown  5.0   may     616.0       1.0   -1.0       0.0  unknown   \n45     45  unknown  5.0   may     242.0       1.0   -1.0       0.0  unknown   \n46     46  unknown  5.0   may     355.0       1.0   -1.0       0.0  unknown   \n47     47  unknown  5.0   may     225.0       2.0   -1.0       0.0  unknown   \n48     48  unknown  5.0   may     160.0       1.0   -1.0       0.0  unknown   \n49     49  unknown  5.0   may     363.0       1.0   -1.0       0.0  unknown   \n\n      y  \n0    no  \n1    no  \n2    no  \n3    no  \n4    no  \n5    no  \n6    no  \n7    no  \n8    no  \n9   NaN  \n10   no  \n11   no  \n12   no  \n13   no  \n14  NaN  \n15   no  \n16   no  \n17   no  \n18  NaN  \n19  NaN  \n20   no  \n21   no  \n22   no  \n23   no  \n24   no  \n25   no  \n26  NaN  \n27   no  \n28   no  \n29  NaN  \n30   no  \n31   no  \n32   no  \n33   no  \n34   no  \n35   no  \n36   no  \n37   no  \n38   no  \n39   no  \n40   no  \n41   no  \n42   no  \n43  NaN  \n44   no  \n45   no  \n46   no  \n47   no  \n48   no  \n49   no  ",
      "text/html": "<div>\n<style scoped>\n    .dataframe tbody tr th:only-of-type {\n        vertical-align: middle;\n    }\n\n    .dataframe tbody tr th {\n        vertical-align: top;\n    }\n\n    .dataframe thead th {\n        text-align: right;\n    }\n</style>\n<table border=\"1\" class=\"dataframe\">\n  <thead>\n    <tr style=\"text-align: right;\">\n      <th></th>\n      <th>age</th>\n      <th>job</th>\n      <th>marital</th>\n      <th>education</th>\n      <th>default</th>\n      <th>balance</th>\n      <th>housing</th>\n      <th>loan</th>\n      <th>index</th>\n      <th>contact</th>\n      <th>day</th>\n      <th>month</th>\n      <th>duration</th>\n      <th>campaign</th>\n      <th>pdays</th>\n      <th>previous</th>\n      <th>poutcome</th>\n      <th>y</th>\n    </tr>\n  </thead>\n  <tbody>\n    <tr>\n      <th>0</th>\n      <td>58</td>\n      <td>management</td>\n      <td>married</td>\n      <td>tertiary</td>\n      <td>no</td>\n      <td>2143</td>\n      <td>yes</td>\n      <td>no</td>\n      <td>0</td>\n      <td>unknown</td>\n      <td>5.0</td>\n      <td>may</td>\n      <td>261.0</td>\n      <td>1.0</td>\n      <td>-1.0</td>\n      <td>0.0</td>\n      <td>unknown</td>\n      <td>no</td>\n    </tr>\n    <tr>\n      <th>1</th>\n      <td>44</td>\n      <td>technician</td>\n      <td>single</td>\n      <td>secondary</td>\n      <td>no</td>\n      <td>29</td>\n      <td>yes</td>\n      <td>no</td>\n      <td>1</td>\n      <td>unknown</td>\n      <td>5.0</td>\n      <td>may</td>\n      <td>151.0</td>\n      <td>1.0</td>\n      <td>-1.0</td>\n      <td>0.0</td>\n      <td>unknown</td>\n      <td>no</td>\n    </tr>\n    <tr>\n      <th>2</th>\n      <td>33</td>\n      <td>entrepreneur</td>\n      <td>married</td>\n      <td>secondary</td>\n      <td>no</td>\n      <td>2</td>\n      <td>yes</td>\n      <td>yes</td>\n      <td>2</td>\n      <td>unknown</td>\n      <td>5.0</td>\n      <td>may</td>\n      <td>76.0</td>\n      <td>1.0</td>\n      <td>-1.0</td>\n      <td>0.0</td>\n      <td>unknown</td>\n      <td>no</td>\n    </tr>\n    <tr>\n      <th>3</th>\n      <td>47</td>\n      <td>blue-collar</td>\n      <td>married</td>\n      <td>unknown</td>\n      <td>no</td>\n      <td>1506</td>\n      <td>yes</td>\n      <td>no</td>\n      <td>3</td>\n      <td>unknown</td>\n      <td>5.0</td>\n      <td>may</td>\n      <td>92.0</td>\n      <td>1.0</td>\n      <td>-1.0</td>\n      <td>0.0</td>\n      <td>unknown</td>\n      <td>no</td>\n    </tr>\n    <tr>\n      <th>4</th>\n      <td>33</td>\n      <td>unknown</td>\n      <td>single</td>\n      <td>unknown</td>\n      <td>no</td>\n      <td>1</td>\n      <td>no</td>\n      <td>no</td>\n      <td>4</td>\n      <td>unknown</td>\n      <td>5.0</td>\n      <td>may</td>\n      <td>198.0</td>\n      <td>1.0</td>\n      <td>-1.0</td>\n      <td>0.0</td>\n      <td>unknown</td>\n      <td>no</td>\n    </tr>\n    <tr>\n      <th>5</th>\n      <td>35</td>\n      <td>management</td>\n      <td>married</td>\n      <td>tertiary</td>\n      <td>no</td>\n      <td>231</td>\n      <td>yes</td>\n      <td>no</td>\n      <td>5</td>\n      <td>unknown</td>\n      <td>5.0</td>\n      <td>may</td>\n      <td>139.0</td>\n      <td>1.0</td>\n      <td>-1.0</td>\n      <td>0.0</td>\n      <td>unknown</td>\n      <td>no</td>\n    </tr>\n    <tr>\n      <th>6</th>\n      <td>28</td>\n      <td>management</td>\n      <td>single</td>\n      <td>tertiary</td>\n      <td>no</td>\n      <td>447</td>\n      <td>yes</td>\n      <td>yes</td>\n      <td>6</td>\n      <td>unknown</td>\n      <td>5.0</td>\n      <td>may</td>\n      <td>217.0</td>\n      <td>1.0</td>\n      <td>-1.0</td>\n      <td>0.0</td>\n      <td>unknown</td>\n      <td>no</td>\n    </tr>\n    <tr>\n      <th>7</th>\n      <td>42</td>\n      <td>entrepreneur</td>\n      <td>divorced</td>\n      <td>tertiary</td>\n      <td>yes</td>\n      <td>2</td>\n      <td>yes</td>\n      <td>no</td>\n      <td>7</td>\n      <td>unknown</td>\n      <td>5.0</td>\n      <td>may</td>\n      <td>380.0</td>\n      <td>1.0</td>\n      <td>-1.0</td>\n      <td>0.0</td>\n      <td>unknown</td>\n      <td>no</td>\n    </tr>\n    <tr>\n      <th>8</th>\n      <td>58</td>\n      <td>retired</td>\n      <td>married</td>\n      <td>primary</td>\n      <td>no</td>\n      <td>121</td>\n      <td>yes</td>\n      <td>no</td>\n      <td>8</td>\n      <td>unknown</td>\n      <td>5.0</td>\n      <td>may</td>\n      <td>50.0</td>\n      <td>1.0</td>\n      <td>-1.0</td>\n      <td>0.0</td>\n      <td>unknown</td>\n      <td>no</td>\n    </tr>\n    <tr>\n      <th>9</th>\n      <td>43</td>\n      <td>technician</td>\n      <td>single</td>\n      <td>secondary</td>\n      <td>no</td>\n      <td>593</td>\n      <td>yes</td>\n      <td>no</td>\n      <td>9</td>\n      <td>NaN</td>\n      <td>NaN</td>\n      <td>NaN</td>\n      <td>NaN</td>\n      <td>NaN</td>\n      <td>NaN</td>\n      <td>NaN</td>\n      <td>NaN</td>\n      <td>NaN</td>\n    </tr>\n    <tr>\n      <th>10</th>\n      <td>41</td>\n      <td>admin.</td>\n      <td>divorced</td>\n      <td>secondary</td>\n      <td>no</td>\n      <td>270</td>\n      <td>yes</td>\n      <td>no</td>\n      <td>10</td>\n      <td>unknown</td>\n      <td>5.0</td>\n      <td>may</td>\n      <td>222.0</td>\n      <td>1.0</td>\n      <td>-1.0</td>\n      <td>0.0</td>\n      <td>unknown</td>\n      <td>no</td>\n    </tr>\n    <tr>\n      <th>11</th>\n      <td>29</td>\n      <td>admin.</td>\n      <td>single</td>\n      <td>secondary</td>\n      <td>no</td>\n      <td>390</td>\n      <td>yes</td>\n      <td>no</td>\n      <td>11</td>\n      <td>unknown</td>\n      <td>5.0</td>\n      <td>may</td>\n      <td>137.0</td>\n      <td>1.0</td>\n      <td>-1.0</td>\n      <td>0.0</td>\n      <td>unknown</td>\n      <td>no</td>\n    </tr>\n    <tr>\n      <th>12</th>\n      <td>53</td>\n      <td>technician</td>\n      <td>married</td>\n      <td>secondary</td>\n      <td>no</td>\n      <td>6</td>\n      <td>yes</td>\n      <td>no</td>\n      <td>12</td>\n      <td>unknown</td>\n      <td>5.0</td>\n      <td>may</td>\n      <td>517.0</td>\n      <td>1.0</td>\n      <td>-1.0</td>\n      <td>0.0</td>\n      <td>unknown</td>\n      <td>no</td>\n    </tr>\n    <tr>\n      <th>13</th>\n      <td>58</td>\n      <td>technician</td>\n      <td>married</td>\n      <td>unknown</td>\n      <td>no</td>\n      <td>71</td>\n      <td>yes</td>\n      <td>no</td>\n      <td>13</td>\n      <td>unknown</td>\n      <td>5.0</td>\n      <td>may</td>\n      <td>71.0</td>\n      <td>1.0</td>\n      <td>-1.0</td>\n      <td>0.0</td>\n      <td>unknown</td>\n      <td>no</td>\n    </tr>\n    <tr>\n      <th>14</th>\n      <td>57</td>\n      <td>services</td>\n      <td>married</td>\n      <td>secondary</td>\n      <td>no</td>\n      <td>162</td>\n      <td>yes</td>\n      <td>no</td>\n      <td>14</td>\n      <td>NaN</td>\n      <td>NaN</td>\n      <td>NaN</td>\n      <td>NaN</td>\n      <td>NaN</td>\n      <td>NaN</td>\n      <td>NaN</td>\n      <td>NaN</td>\n      <td>NaN</td>\n    </tr>\n    <tr>\n      <th>15</th>\n      <td>51</td>\n      <td>retired</td>\n      <td>married</td>\n      <td>primary</td>\n      <td>no</td>\n      <td>229</td>\n      <td>yes</td>\n      <td>no</td>\n      <td>15</td>\n      <td>unknown</td>\n      <td>5.0</td>\n      <td>may</td>\n      <td>353.0</td>\n      <td>1.0</td>\n      <td>-1.0</td>\n      <td>0.0</td>\n      <td>unknown</td>\n      <td>no</td>\n    </tr>\n    <tr>\n      <th>16</th>\n      <td>45</td>\n      <td>admin.</td>\n      <td>single</td>\n      <td>unknown</td>\n      <td>no</td>\n      <td>13</td>\n      <td>yes</td>\n      <td>no</td>\n      <td>16</td>\n      <td>unknown</td>\n      <td>5.0</td>\n      <td>may</td>\n      <td>98.0</td>\n      <td>1.0</td>\n      <td>-1.0</td>\n      <td>0.0</td>\n      <td>unknown</td>\n      <td>no</td>\n    </tr>\n    <tr>\n      <th>17</th>\n      <td>57</td>\n      <td>blue-collar</td>\n      <td>married</td>\n      <td>primary</td>\n      <td>no</td>\n      <td>52</td>\n      <td>yes</td>\n      <td>no</td>\n      <td>17</td>\n      <td>unknown</td>\n      <td>5.0</td>\n      <td>may</td>\n      <td>38.0</td>\n      <td>1.0</td>\n      <td>-1.0</td>\n      <td>0.0</td>\n      <td>unknown</td>\n      <td>no</td>\n    </tr>\n    <tr>\n      <th>18</th>\n      <td>60</td>\n      <td>retired</td>\n      <td>married</td>\n      <td>primary</td>\n      <td>no</td>\n      <td>60</td>\n      <td>yes</td>\n      <td>no</td>\n      <td>18</td>\n      <td>NaN</td>\n      <td>NaN</td>\n      <td>NaN</td>\n      <td>NaN</td>\n      <td>NaN</td>\n      <td>NaN</td>\n      <td>NaN</td>\n      <td>NaN</td>\n      <td>NaN</td>\n    </tr>\n    <tr>\n      <th>19</th>\n      <td>33</td>\n      <td>services</td>\n      <td>married</td>\n      <td>secondary</td>\n      <td>no</td>\n      <td>0</td>\n      <td>yes</td>\n      <td>no</td>\n      <td>19</td>\n      <td>NaN</td>\n      <td>NaN</td>\n      <td>NaN</td>\n      <td>NaN</td>\n      <td>NaN</td>\n      <td>NaN</td>\n      <td>NaN</td>\n      <td>NaN</td>\n      <td>NaN</td>\n    </tr>\n    <tr>\n      <th>20</th>\n      <td>28</td>\n      <td>blue-collar</td>\n      <td>married</td>\n      <td>secondary</td>\n      <td>no</td>\n      <td>723</td>\n      <td>yes</td>\n      <td>yes</td>\n      <td>20</td>\n      <td>unknown</td>\n      <td>5.0</td>\n      <td>may</td>\n      <td>262.0</td>\n      <td>1.0</td>\n      <td>-1.0</td>\n      <td>0.0</td>\n      <td>unknown</td>\n      <td>no</td>\n    </tr>\n    <tr>\n      <th>21</th>\n      <td>56</td>\n      <td>management</td>\n      <td>married</td>\n      <td>tertiary</td>\n      <td>no</td>\n      <td>779</td>\n      <td>yes</td>\n      <td>no</td>\n      <td>21</td>\n      <td>unknown</td>\n      <td>5.0</td>\n      <td>may</td>\n      <td>164.0</td>\n      <td>1.0</td>\n      <td>-1.0</td>\n      <td>0.0</td>\n      <td>unknown</td>\n      <td>no</td>\n    </tr>\n    <tr>\n      <th>22</th>\n      <td>32</td>\n      <td>blue-collar</td>\n      <td>single</td>\n      <td>primary</td>\n      <td>no</td>\n      <td>23</td>\n      <td>yes</td>\n      <td>yes</td>\n      <td>22</td>\n      <td>unknown</td>\n      <td>5.0</td>\n      <td>may</td>\n      <td>160.0</td>\n      <td>1.0</td>\n      <td>-1.0</td>\n      <td>0.0</td>\n      <td>unknown</td>\n      <td>no</td>\n    </tr>\n    <tr>\n      <th>23</th>\n      <td>25</td>\n      <td>services</td>\n      <td>married</td>\n      <td>secondary</td>\n      <td>no</td>\n      <td>50</td>\n      <td>yes</td>\n      <td>no</td>\n      <td>23</td>\n      <td>unknown</td>\n      <td>5.0</td>\n      <td>may</td>\n      <td>342.0</td>\n      <td>1.0</td>\n      <td>-1.0</td>\n      <td>0.0</td>\n      <td>unknown</td>\n      <td>no</td>\n    </tr>\n    <tr>\n      <th>24</th>\n      <td>40</td>\n      <td>retired</td>\n      <td>married</td>\n      <td>primary</td>\n      <td>no</td>\n      <td>0</td>\n      <td>yes</td>\n      <td>yes</td>\n      <td>24</td>\n      <td>unknown</td>\n      <td>5.0</td>\n      <td>may</td>\n      <td>181.0</td>\n      <td>1.0</td>\n      <td>-1.0</td>\n      <td>0.0</td>\n      <td>unknown</td>\n      <td>no</td>\n    </tr>\n    <tr>\n      <th>25</th>\n      <td>44</td>\n      <td>admin.</td>\n      <td>married</td>\n      <td>secondary</td>\n      <td>no</td>\n      <td>-372</td>\n      <td>yes</td>\n      <td>no</td>\n      <td>25</td>\n      <td>unknown</td>\n      <td>5.0</td>\n      <td>may</td>\n      <td>172.0</td>\n      <td>1.0</td>\n      <td>-1.0</td>\n      <td>0.0</td>\n      <td>unknown</td>\n      <td>no</td>\n    </tr>\n    <tr>\n      <th>26</th>\n      <td>39</td>\n      <td>management</td>\n      <td>single</td>\n      <td>tertiary</td>\n      <td>no</td>\n      <td>255</td>\n      <td>yes</td>\n      <td>no</td>\n      <td>26</td>\n      <td>NaN</td>\n      <td>NaN</td>\n      <td>NaN</td>\n      <td>NaN</td>\n      <td>NaN</td>\n      <td>NaN</td>\n      <td>NaN</td>\n      <td>NaN</td>\n      <td>NaN</td>\n    </tr>\n    <tr>\n      <th>27</th>\n      <td>52</td>\n      <td>entrepreneur</td>\n      <td>married</td>\n      <td>secondary</td>\n      <td>no</td>\n      <td>113</td>\n      <td>yes</td>\n      <td>yes</td>\n      <td>27</td>\n      <td>unknown</td>\n      <td>5.0</td>\n      <td>may</td>\n      <td>127.0</td>\n      <td>1.0</td>\n      <td>-1.0</td>\n      <td>0.0</td>\n      <td>unknown</td>\n      <td>no</td>\n    </tr>\n    <tr>\n      <th>28</th>\n      <td>46</td>\n      <td>management</td>\n      <td>single</td>\n      <td>secondary</td>\n      <td>no</td>\n      <td>-246</td>\n      <td>yes</td>\n      <td>no</td>\n      <td>28</td>\n      <td>unknown</td>\n      <td>5.0</td>\n      <td>may</td>\n      <td>255.0</td>\n      <td>2.0</td>\n      <td>-1.0</td>\n      <td>0.0</td>\n      <td>unknown</td>\n      <td>no</td>\n    </tr>\n    <tr>\n      <th>29</th>\n      <td>36</td>\n      <td>technician</td>\n      <td>single</td>\n      <td>secondary</td>\n      <td>no</td>\n      <td>265</td>\n      <td>yes</td>\n      <td>yes</td>\n      <td>29</td>\n      <td>NaN</td>\n      <td>NaN</td>\n      <td>NaN</td>\n      <td>NaN</td>\n      <td>NaN</td>\n      <td>NaN</td>\n      <td>NaN</td>\n      <td>NaN</td>\n      <td>NaN</td>\n    </tr>\n    <tr>\n      <th>30</th>\n      <td>57</td>\n      <td>technician</td>\n      <td>married</td>\n      <td>secondary</td>\n      <td>no</td>\n      <td>839</td>\n      <td>no</td>\n      <td>yes</td>\n      <td>30</td>\n      <td>unknown</td>\n      <td>5.0</td>\n      <td>may</td>\n      <td>225.0</td>\n      <td>1.0</td>\n      <td>-1.0</td>\n      <td>0.0</td>\n      <td>unknown</td>\n      <td>no</td>\n    </tr>\n    <tr>\n      <th>31</th>\n      <td>49</td>\n      <td>management</td>\n      <td>married</td>\n      <td>tertiary</td>\n      <td>no</td>\n      <td>378</td>\n      <td>yes</td>\n      <td>no</td>\n      <td>31</td>\n      <td>unknown</td>\n      <td>5.0</td>\n      <td>may</td>\n      <td>230.0</td>\n      <td>1.0</td>\n      <td>-1.0</td>\n      <td>0.0</td>\n      <td>unknown</td>\n      <td>no</td>\n    </tr>\n    <tr>\n      <th>32</th>\n      <td>60</td>\n      <td>admin.</td>\n      <td>married</td>\n      <td>secondary</td>\n      <td>no</td>\n      <td>39</td>\n      <td>yes</td>\n      <td>yes</td>\n      <td>32</td>\n      <td>unknown</td>\n      <td>5.0</td>\n      <td>may</td>\n      <td>208.0</td>\n      <td>1.0</td>\n      <td>-1.0</td>\n      <td>0.0</td>\n      <td>unknown</td>\n      <td>no</td>\n    </tr>\n    <tr>\n      <th>33</th>\n      <td>59</td>\n      <td>blue-collar</td>\n      <td>married</td>\n      <td>secondary</td>\n      <td>no</td>\n      <td>0</td>\n      <td>yes</td>\n      <td>no</td>\n      <td>33</td>\n      <td>unknown</td>\n      <td>5.0</td>\n      <td>may</td>\n      <td>226.0</td>\n      <td>1.0</td>\n      <td>-1.0</td>\n      <td>0.0</td>\n      <td>unknown</td>\n      <td>no</td>\n    </tr>\n    <tr>\n      <th>34</th>\n      <td>51</td>\n      <td>management</td>\n      <td>married</td>\n      <td>tertiary</td>\n      <td>no</td>\n      <td>10635</td>\n      <td>yes</td>\n      <td>no</td>\n      <td>34</td>\n      <td>unknown</td>\n      <td>5.0</td>\n      <td>may</td>\n      <td>336.0</td>\n      <td>1.0</td>\n      <td>-1.0</td>\n      <td>0.0</td>\n      <td>unknown</td>\n      <td>no</td>\n    </tr>\n    <tr>\n      <th>35</th>\n      <td>57</td>\n      <td>technician</td>\n      <td>divorced</td>\n      <td>secondary</td>\n      <td>no</td>\n      <td>63</td>\n      <td>yes</td>\n      <td>no</td>\n      <td>35</td>\n      <td>unknown</td>\n      <td>5.0</td>\n      <td>may</td>\n      <td>242.0</td>\n      <td>1.0</td>\n      <td>-1.0</td>\n      <td>0.0</td>\n      <td>unknown</td>\n      <td>no</td>\n    </tr>\n    <tr>\n      <th>36</th>\n      <td>25</td>\n      <td>blue-collar</td>\n      <td>married</td>\n      <td>secondary</td>\n      <td>no</td>\n      <td>-7</td>\n      <td>yes</td>\n      <td>no</td>\n      <td>36</td>\n      <td>unknown</td>\n      <td>5.0</td>\n      <td>may</td>\n      <td>365.0</td>\n      <td>1.0</td>\n      <td>-1.0</td>\n      <td>0.0</td>\n      <td>unknown</td>\n      <td>no</td>\n    </tr>\n    <tr>\n      <th>37</th>\n      <td>53</td>\n      <td>technician</td>\n      <td>married</td>\n      <td>secondary</td>\n      <td>no</td>\n      <td>-3</td>\n      <td>no</td>\n      <td>no</td>\n      <td>37</td>\n      <td>unknown</td>\n      <td>5.0</td>\n      <td>may</td>\n      <td>1666.0</td>\n      <td>1.0</td>\n      <td>-1.0</td>\n      <td>0.0</td>\n      <td>unknown</td>\n      <td>no</td>\n    </tr>\n    <tr>\n      <th>38</th>\n      <td>36</td>\n      <td>admin.</td>\n      <td>divorced</td>\n      <td>secondary</td>\n      <td>no</td>\n      <td>506</td>\n      <td>yes</td>\n      <td>no</td>\n      <td>38</td>\n      <td>unknown</td>\n      <td>5.0</td>\n      <td>may</td>\n      <td>577.0</td>\n      <td>1.0</td>\n      <td>-1.0</td>\n      <td>0.0</td>\n      <td>unknown</td>\n      <td>no</td>\n    </tr>\n    <tr>\n      <th>39</th>\n      <td>37</td>\n      <td>admin.</td>\n      <td>single</td>\n      <td>secondary</td>\n      <td>no</td>\n      <td>0</td>\n      <td>yes</td>\n      <td>no</td>\n      <td>39</td>\n      <td>unknown</td>\n      <td>5.0</td>\n      <td>may</td>\n      <td>137.0</td>\n      <td>1.0</td>\n      <td>-1.0</td>\n      <td>0.0</td>\n      <td>unknown</td>\n      <td>no</td>\n    </tr>\n    <tr>\n      <th>40</th>\n      <td>44</td>\n      <td>services</td>\n      <td>divorced</td>\n      <td>secondary</td>\n      <td>no</td>\n      <td>2586</td>\n      <td>yes</td>\n      <td>no</td>\n      <td>40</td>\n      <td>unknown</td>\n      <td>5.0</td>\n      <td>may</td>\n      <td>160.0</td>\n      <td>1.0</td>\n      <td>-1.0</td>\n      <td>0.0</td>\n      <td>unknown</td>\n      <td>no</td>\n    </tr>\n    <tr>\n      <th>41</th>\n      <td>50</td>\n      <td>management</td>\n      <td>married</td>\n      <td>secondary</td>\n      <td>no</td>\n      <td>49</td>\n      <td>yes</td>\n      <td>no</td>\n      <td>41</td>\n      <td>unknown</td>\n      <td>5.0</td>\n      <td>may</td>\n      <td>180.0</td>\n      <td>2.0</td>\n      <td>-1.0</td>\n      <td>0.0</td>\n      <td>unknown</td>\n      <td>no</td>\n    </tr>\n    <tr>\n      <th>42</th>\n      <td>60</td>\n      <td>blue-collar</td>\n      <td>married</td>\n      <td>unknown</td>\n      <td>no</td>\n      <td>104</td>\n      <td>yes</td>\n      <td>no</td>\n      <td>42</td>\n      <td>unknown</td>\n      <td>5.0</td>\n      <td>may</td>\n      <td>22.0</td>\n      <td>1.0</td>\n      <td>-1.0</td>\n      <td>0.0</td>\n      <td>unknown</td>\n      <td>no</td>\n    </tr>\n    <tr>\n      <th>43</th>\n      <td>54</td>\n      <td>retired</td>\n      <td>married</td>\n      <td>secondary</td>\n      <td>no</td>\n      <td>529</td>\n      <td>yes</td>\n      <td>no</td>\n      <td>43</td>\n      <td>NaN</td>\n      <td>NaN</td>\n      <td>NaN</td>\n      <td>NaN</td>\n      <td>NaN</td>\n      <td>NaN</td>\n      <td>NaN</td>\n      <td>NaN</td>\n      <td>NaN</td>\n    </tr>\n    <tr>\n      <th>44</th>\n      <td>58</td>\n      <td>retired</td>\n      <td>married</td>\n      <td>unknown</td>\n      <td>no</td>\n      <td>96</td>\n      <td>yes</td>\n      <td>no</td>\n      <td>44</td>\n      <td>unknown</td>\n      <td>5.0</td>\n      <td>may</td>\n      <td>616.0</td>\n      <td>1.0</td>\n      <td>-1.0</td>\n      <td>0.0</td>\n      <td>unknown</td>\n      <td>no</td>\n    </tr>\n    <tr>\n      <th>45</th>\n      <td>36</td>\n      <td>admin.</td>\n      <td>single</td>\n      <td>primary</td>\n      <td>no</td>\n      <td>-171</td>\n      <td>yes</td>\n      <td>no</td>\n      <td>45</td>\n      <td>unknown</td>\n      <td>5.0</td>\n      <td>may</td>\n      <td>242.0</td>\n      <td>1.0</td>\n      <td>-1.0</td>\n      <td>0.0</td>\n      <td>unknown</td>\n      <td>no</td>\n    </tr>\n    <tr>\n      <th>46</th>\n      <td>58</td>\n      <td>self-employed</td>\n      <td>married</td>\n      <td>tertiary</td>\n      <td>no</td>\n      <td>-364</td>\n      <td>yes</td>\n      <td>no</td>\n      <td>46</td>\n      <td>unknown</td>\n      <td>5.0</td>\n      <td>may</td>\n      <td>355.0</td>\n      <td>1.0</td>\n      <td>-1.0</td>\n      <td>0.0</td>\n      <td>unknown</td>\n      <td>no</td>\n    </tr>\n    <tr>\n      <th>47</th>\n      <td>44</td>\n      <td>technician</td>\n      <td>married</td>\n      <td>secondary</td>\n      <td>no</td>\n      <td>0</td>\n      <td>yes</td>\n      <td>no</td>\n      <td>47</td>\n      <td>unknown</td>\n      <td>5.0</td>\n      <td>may</td>\n      <td>225.0</td>\n      <td>2.0</td>\n      <td>-1.0</td>\n      <td>0.0</td>\n      <td>unknown</td>\n      <td>no</td>\n    </tr>\n    <tr>\n      <th>48</th>\n      <td>55</td>\n      <td>technician</td>\n      <td>divorced</td>\n      <td>secondary</td>\n      <td>no</td>\n      <td>0</td>\n      <td>no</td>\n      <td>no</td>\n      <td>48</td>\n      <td>unknown</td>\n      <td>5.0</td>\n      <td>may</td>\n      <td>160.0</td>\n      <td>1.0</td>\n      <td>-1.0</td>\n      <td>0.0</td>\n      <td>unknown</td>\n      <td>no</td>\n    </tr>\n    <tr>\n      <th>49</th>\n      <td>29</td>\n      <td>management</td>\n      <td>single</td>\n      <td>tertiary</td>\n      <td>no</td>\n      <td>0</td>\n      <td>yes</td>\n      <td>no</td>\n      <td>49</td>\n      <td>unknown</td>\n      <td>5.0</td>\n      <td>may</td>\n      <td>363.0</td>\n      <td>1.0</td>\n      <td>-1.0</td>\n      <td>0.0</td>\n      <td>unknown</td>\n      <td>no</td>\n    </tr>\n  </tbody>\n</table>\n</div>"
     },
     "execution_count": 5,
     "metadata": {},
     "output_type": "execute_result"
    }
   ],
   "source": [
    "print(aligned_df.shape)\n",
    "aligned_df.head(50)"
   ],
   "metadata": {
    "collapsed": false,
    "pycharm": {
     "name": "#%%\n"
    }
   }
  },
  {
   "cell_type": "code",
   "execution_count": 12,
   "outputs": [
    {
     "name": "stdout",
     "output_type": "stream",
     "text": [
      "(45211, 17)\n"
     ]
    },
    {
     "data": {
      "text/plain": "    age  balance  campaign  contact   day default  duration  education  \\\n0    58     2143       1.0  unknown   5.0      no     261.0   tertiary   \n1    44       29       1.0  unknown   5.0      no     151.0  secondary   \n2    33        2       1.0  unknown   5.0      no      76.0  secondary   \n3    47     1506       1.0  unknown   5.0      no      92.0    unknown   \n4    33        1       1.0  unknown   5.0      no     198.0    unknown   \n5    35      231       1.0  unknown   5.0      no     139.0   tertiary   \n6    28      447       1.0  unknown   5.0      no     217.0   tertiary   \n7    42        2       1.0  unknown   5.0     yes     380.0   tertiary   \n8    58      121       1.0  unknown   5.0      no      50.0    primary   \n9    43      593       1.0      NaN   9.0      no      15.0  secondary   \n10   41      270       1.0  unknown   5.0      no     222.0  secondary   \n11   29      390       1.0  unknown   5.0      no     137.0  secondary   \n12   53        6       1.0  unknown   5.0      no     517.0  secondary   \n13   58       71       1.0  unknown   5.0      no      71.0    unknown   \n14   57      162       2.0      NaN  20.0      no     178.0  secondary   \n15   51      229       1.0  unknown   5.0      no     353.0    primary   \n16   45       13       1.0  unknown   5.0      no      98.0    unknown   \n17   57       52       1.0  unknown   5.0      no      38.0    primary   \n18   60       60       2.0      NaN  13.0      no       0.0    primary   \n19   33        0       2.0      NaN  10.0      no     251.0  secondary   \n20   28      723       1.0  unknown   5.0      no     262.0  secondary   \n21   56      779       1.0  unknown   5.0      no     164.0   tertiary   \n22   32       23       1.0  unknown   5.0      no     160.0    primary   \n23   25       50       1.0  unknown   5.0      no     342.0  secondary   \n24   40        0       1.0  unknown   5.0      no     181.0    primary   \n25   44     -372       1.0  unknown   5.0      no     172.0  secondary   \n26   39      255       1.0      NaN  10.0      no     301.0   tertiary   \n27   52      113       1.0  unknown   5.0      no     127.0  secondary   \n28   46     -246       2.0  unknown   5.0      no     255.0  secondary   \n29   36      265       2.0      NaN  16.0      no     361.0  secondary   \n30   57      839       1.0  unknown   5.0      no     225.0  secondary   \n31   49      378       1.0  unknown   5.0      no     230.0   tertiary   \n32   60       39       1.0  unknown   5.0      no     208.0  secondary   \n33   59        0       1.0  unknown   5.0      no     226.0  secondary   \n34   51    10635       1.0  unknown   5.0      no     336.0   tertiary   \n35   57       63       1.0  unknown   5.0      no     242.0  secondary   \n36   25       -7       1.0  unknown   5.0      no     365.0  secondary   \n37   53       -3       1.0  unknown   5.0      no    1666.0  secondary   \n38   36      506       1.0  unknown   5.0      no     577.0  secondary   \n39   37        0       1.0  unknown   5.0      no     137.0  secondary   \n40   44     2586       1.0  unknown   5.0      no     160.0  secondary   \n41   50       49       2.0  unknown   5.0      no     180.0  secondary   \n42   60      104       1.0  unknown   5.0      no      22.0    unknown   \n43   54      529       1.0      NaN  19.0      no     173.0  secondary   \n44   58       96       1.0  unknown   5.0      no     616.0    unknown   \n45   36     -171       1.0  unknown   5.0      no     242.0    primary   \n46   58     -364       1.0  unknown   5.0      no     355.0   tertiary   \n47   44        0       2.0  unknown   5.0      no     225.0  secondary   \n48   55        0       1.0  unknown   5.0      no     160.0  secondary   \n49   29        0       1.0  unknown   5.0      no     363.0   tertiary   \n\n   housing  index            job loan   marital month  pdays poutcome  \\\n0      yes      0     management   no   married   may   -1.0  unknown   \n1      yes      1     technician   no    single   may   -1.0  unknown   \n2      yes      2   entrepreneur  yes   married   may   -1.0  unknown   \n3      yes      3    blue-collar   no   married   may   -1.0  unknown   \n4       no      4        unknown   no    single   may   -1.0  unknown   \n5      yes      5     management   no   married   may   -1.0  unknown   \n6      yes      6     management  yes    single   may   -1.0  unknown   \n7      yes      7   entrepreneur   no  divorced   may   -1.0  unknown   \n8      yes      8        retired   no   married   may   -1.0  unknown   \n9      yes      9     technician   no    single   NaN    NaN      NaN   \n10     yes     10         admin.   no  divorced   may   -1.0  unknown   \n11     yes     11         admin.   no    single   may   -1.0  unknown   \n12     yes     12     technician   no   married   may   -1.0  unknown   \n13     yes     13     technician   no   married   may   -1.0  unknown   \n14     yes     14       services   no   married   NaN    NaN      NaN   \n15     yes     15        retired   no   married   may   -1.0  unknown   \n16     yes     16         admin.   no    single   may   -1.0  unknown   \n17     yes     17    blue-collar   no   married   may   -1.0  unknown   \n18     yes     18        retired   no   married   NaN    NaN      NaN   \n19     yes     19       services   no   married   NaN    NaN      NaN   \n20     yes     20    blue-collar  yes   married   may   -1.0  unknown   \n21     yes     21     management   no   married   may   -1.0  unknown   \n22     yes     22    blue-collar  yes    single   may   -1.0  unknown   \n23     yes     23       services   no   married   may   -1.0  unknown   \n24     yes     24        retired  yes   married   may   -1.0  unknown   \n25     yes     25         admin.   no   married   may   -1.0  unknown   \n26     yes     26     management   no    single   NaN    NaN      NaN   \n27     yes     27   entrepreneur  yes   married   may   -1.0  unknown   \n28     yes     28     management   no    single   may   -1.0  unknown   \n29     yes     29     technician  yes    single   NaN    NaN      NaN   \n30      no     30     technician  yes   married   may   -1.0  unknown   \n31     yes     31     management   no   married   may   -1.0  unknown   \n32     yes     32         admin.  yes   married   may   -1.0  unknown   \n33     yes     33    blue-collar   no   married   may   -1.0  unknown   \n34     yes     34     management   no   married   may   -1.0  unknown   \n35     yes     35     technician   no  divorced   may   -1.0  unknown   \n36     yes     36    blue-collar   no   married   may   -1.0  unknown   \n37      no     37     technician   no   married   may   -1.0  unknown   \n38     yes     38         admin.   no  divorced   may   -1.0  unknown   \n39     yes     39         admin.   no    single   may   -1.0  unknown   \n40     yes     40       services   no  divorced   may   -1.0  unknown   \n41     yes     41     management   no   married   may   -1.0  unknown   \n42     yes     42    blue-collar   no   married   may   -1.0  unknown   \n43     yes     43        retired   no   married   NaN    NaN      NaN   \n44     yes     44        retired   no   married   may   -1.0  unknown   \n45     yes     45         admin.   no    single   may   -1.0  unknown   \n46     yes     46  self-employed   no   married   may   -1.0  unknown   \n47     yes     47     technician   no   married   may   -1.0  unknown   \n48      no     48     technician   no  divorced   may   -1.0  unknown   \n49     yes     49     management   no    single   may   -1.0  unknown   \n\n    previous  \n0        0.0  \n1        0.0  \n2        0.0  \n3        0.0  \n4        0.0  \n5        0.0  \n6        0.0  \n7        0.0  \n8        0.0  \n9        NaN  \n10       0.0  \n11       0.0  \n12       0.0  \n13       0.0  \n14       NaN  \n15       0.0  \n16       0.0  \n17       0.0  \n18       NaN  \n19       NaN  \n20       0.0  \n21       0.0  \n22       0.0  \n23       0.0  \n24       0.0  \n25       0.0  \n26       NaN  \n27       0.0  \n28       0.0  \n29       NaN  \n30       0.0  \n31       0.0  \n32       0.0  \n33       0.0  \n34       0.0  \n35       0.0  \n36       0.0  \n37       0.0  \n38       0.0  \n39       0.0  \n40       0.0  \n41       0.0  \n42       0.0  \n43       NaN  \n44       0.0  \n45       0.0  \n46       0.0  \n47       0.0  \n48       0.0  \n49       0.0  ",
      "text/html": "<div>\n<style scoped>\n    .dataframe tbody tr th:only-of-type {\n        vertical-align: middle;\n    }\n\n    .dataframe tbody tr th {\n        vertical-align: top;\n    }\n\n    .dataframe thead th {\n        text-align: right;\n    }\n</style>\n<table border=\"1\" class=\"dataframe\">\n  <thead>\n    <tr style=\"text-align: right;\">\n      <th></th>\n      <th>age</th>\n      <th>balance</th>\n      <th>campaign</th>\n      <th>contact</th>\n      <th>day</th>\n      <th>default</th>\n      <th>duration</th>\n      <th>education</th>\n      <th>housing</th>\n      <th>index</th>\n      <th>job</th>\n      <th>loan</th>\n      <th>marital</th>\n      <th>month</th>\n      <th>pdays</th>\n      <th>poutcome</th>\n      <th>previous</th>\n    </tr>\n  </thead>\n  <tbody>\n    <tr>\n      <th>0</th>\n      <td>58</td>\n      <td>2143</td>\n      <td>1.0</td>\n      <td>unknown</td>\n      <td>5.0</td>\n      <td>no</td>\n      <td>261.0</td>\n      <td>tertiary</td>\n      <td>yes</td>\n      <td>0</td>\n      <td>management</td>\n      <td>no</td>\n      <td>married</td>\n      <td>may</td>\n      <td>-1.0</td>\n      <td>unknown</td>\n      <td>0.0</td>\n    </tr>\n    <tr>\n      <th>1</th>\n      <td>44</td>\n      <td>29</td>\n      <td>1.0</td>\n      <td>unknown</td>\n      <td>5.0</td>\n      <td>no</td>\n      <td>151.0</td>\n      <td>secondary</td>\n      <td>yes</td>\n      <td>1</td>\n      <td>technician</td>\n      <td>no</td>\n      <td>single</td>\n      <td>may</td>\n      <td>-1.0</td>\n      <td>unknown</td>\n      <td>0.0</td>\n    </tr>\n    <tr>\n      <th>2</th>\n      <td>33</td>\n      <td>2</td>\n      <td>1.0</td>\n      <td>unknown</td>\n      <td>5.0</td>\n      <td>no</td>\n      <td>76.0</td>\n      <td>secondary</td>\n      <td>yes</td>\n      <td>2</td>\n      <td>entrepreneur</td>\n      <td>yes</td>\n      <td>married</td>\n      <td>may</td>\n      <td>-1.0</td>\n      <td>unknown</td>\n      <td>0.0</td>\n    </tr>\n    <tr>\n      <th>3</th>\n      <td>47</td>\n      <td>1506</td>\n      <td>1.0</td>\n      <td>unknown</td>\n      <td>5.0</td>\n      <td>no</td>\n      <td>92.0</td>\n      <td>unknown</td>\n      <td>yes</td>\n      <td>3</td>\n      <td>blue-collar</td>\n      <td>no</td>\n      <td>married</td>\n      <td>may</td>\n      <td>-1.0</td>\n      <td>unknown</td>\n      <td>0.0</td>\n    </tr>\n    <tr>\n      <th>4</th>\n      <td>33</td>\n      <td>1</td>\n      <td>1.0</td>\n      <td>unknown</td>\n      <td>5.0</td>\n      <td>no</td>\n      <td>198.0</td>\n      <td>unknown</td>\n      <td>no</td>\n      <td>4</td>\n      <td>unknown</td>\n      <td>no</td>\n      <td>single</td>\n      <td>may</td>\n      <td>-1.0</td>\n      <td>unknown</td>\n      <td>0.0</td>\n    </tr>\n    <tr>\n      <th>5</th>\n      <td>35</td>\n      <td>231</td>\n      <td>1.0</td>\n      <td>unknown</td>\n      <td>5.0</td>\n      <td>no</td>\n      <td>139.0</td>\n      <td>tertiary</td>\n      <td>yes</td>\n      <td>5</td>\n      <td>management</td>\n      <td>no</td>\n      <td>married</td>\n      <td>may</td>\n      <td>-1.0</td>\n      <td>unknown</td>\n      <td>0.0</td>\n    </tr>\n    <tr>\n      <th>6</th>\n      <td>28</td>\n      <td>447</td>\n      <td>1.0</td>\n      <td>unknown</td>\n      <td>5.0</td>\n      <td>no</td>\n      <td>217.0</td>\n      <td>tertiary</td>\n      <td>yes</td>\n      <td>6</td>\n      <td>management</td>\n      <td>yes</td>\n      <td>single</td>\n      <td>may</td>\n      <td>-1.0</td>\n      <td>unknown</td>\n      <td>0.0</td>\n    </tr>\n    <tr>\n      <th>7</th>\n      <td>42</td>\n      <td>2</td>\n      <td>1.0</td>\n      <td>unknown</td>\n      <td>5.0</td>\n      <td>yes</td>\n      <td>380.0</td>\n      <td>tertiary</td>\n      <td>yes</td>\n      <td>7</td>\n      <td>entrepreneur</td>\n      <td>no</td>\n      <td>divorced</td>\n      <td>may</td>\n      <td>-1.0</td>\n      <td>unknown</td>\n      <td>0.0</td>\n    </tr>\n    <tr>\n      <th>8</th>\n      <td>58</td>\n      <td>121</td>\n      <td>1.0</td>\n      <td>unknown</td>\n      <td>5.0</td>\n      <td>no</td>\n      <td>50.0</td>\n      <td>primary</td>\n      <td>yes</td>\n      <td>8</td>\n      <td>retired</td>\n      <td>no</td>\n      <td>married</td>\n      <td>may</td>\n      <td>-1.0</td>\n      <td>unknown</td>\n      <td>0.0</td>\n    </tr>\n    <tr>\n      <th>9</th>\n      <td>43</td>\n      <td>593</td>\n      <td>1.0</td>\n      <td>NaN</td>\n      <td>9.0</td>\n      <td>no</td>\n      <td>15.0</td>\n      <td>secondary</td>\n      <td>yes</td>\n      <td>9</td>\n      <td>technician</td>\n      <td>no</td>\n      <td>single</td>\n      <td>NaN</td>\n      <td>NaN</td>\n      <td>NaN</td>\n      <td>NaN</td>\n    </tr>\n    <tr>\n      <th>10</th>\n      <td>41</td>\n      <td>270</td>\n      <td>1.0</td>\n      <td>unknown</td>\n      <td>5.0</td>\n      <td>no</td>\n      <td>222.0</td>\n      <td>secondary</td>\n      <td>yes</td>\n      <td>10</td>\n      <td>admin.</td>\n      <td>no</td>\n      <td>divorced</td>\n      <td>may</td>\n      <td>-1.0</td>\n      <td>unknown</td>\n      <td>0.0</td>\n    </tr>\n    <tr>\n      <th>11</th>\n      <td>29</td>\n      <td>390</td>\n      <td>1.0</td>\n      <td>unknown</td>\n      <td>5.0</td>\n      <td>no</td>\n      <td>137.0</td>\n      <td>secondary</td>\n      <td>yes</td>\n      <td>11</td>\n      <td>admin.</td>\n      <td>no</td>\n      <td>single</td>\n      <td>may</td>\n      <td>-1.0</td>\n      <td>unknown</td>\n      <td>0.0</td>\n    </tr>\n    <tr>\n      <th>12</th>\n      <td>53</td>\n      <td>6</td>\n      <td>1.0</td>\n      <td>unknown</td>\n      <td>5.0</td>\n      <td>no</td>\n      <td>517.0</td>\n      <td>secondary</td>\n      <td>yes</td>\n      <td>12</td>\n      <td>technician</td>\n      <td>no</td>\n      <td>married</td>\n      <td>may</td>\n      <td>-1.0</td>\n      <td>unknown</td>\n      <td>0.0</td>\n    </tr>\n    <tr>\n      <th>13</th>\n      <td>58</td>\n      <td>71</td>\n      <td>1.0</td>\n      <td>unknown</td>\n      <td>5.0</td>\n      <td>no</td>\n      <td>71.0</td>\n      <td>unknown</td>\n      <td>yes</td>\n      <td>13</td>\n      <td>technician</td>\n      <td>no</td>\n      <td>married</td>\n      <td>may</td>\n      <td>-1.0</td>\n      <td>unknown</td>\n      <td>0.0</td>\n    </tr>\n    <tr>\n      <th>14</th>\n      <td>57</td>\n      <td>162</td>\n      <td>2.0</td>\n      <td>NaN</td>\n      <td>20.0</td>\n      <td>no</td>\n      <td>178.0</td>\n      <td>secondary</td>\n      <td>yes</td>\n      <td>14</td>\n      <td>services</td>\n      <td>no</td>\n      <td>married</td>\n      <td>NaN</td>\n      <td>NaN</td>\n      <td>NaN</td>\n      <td>NaN</td>\n    </tr>\n    <tr>\n      <th>15</th>\n      <td>51</td>\n      <td>229</td>\n      <td>1.0</td>\n      <td>unknown</td>\n      <td>5.0</td>\n      <td>no</td>\n      <td>353.0</td>\n      <td>primary</td>\n      <td>yes</td>\n      <td>15</td>\n      <td>retired</td>\n      <td>no</td>\n      <td>married</td>\n      <td>may</td>\n      <td>-1.0</td>\n      <td>unknown</td>\n      <td>0.0</td>\n    </tr>\n    <tr>\n      <th>16</th>\n      <td>45</td>\n      <td>13</td>\n      <td>1.0</td>\n      <td>unknown</td>\n      <td>5.0</td>\n      <td>no</td>\n      <td>98.0</td>\n      <td>unknown</td>\n      <td>yes</td>\n      <td>16</td>\n      <td>admin.</td>\n      <td>no</td>\n      <td>single</td>\n      <td>may</td>\n      <td>-1.0</td>\n      <td>unknown</td>\n      <td>0.0</td>\n    </tr>\n    <tr>\n      <th>17</th>\n      <td>57</td>\n      <td>52</td>\n      <td>1.0</td>\n      <td>unknown</td>\n      <td>5.0</td>\n      <td>no</td>\n      <td>38.0</td>\n      <td>primary</td>\n      <td>yes</td>\n      <td>17</td>\n      <td>blue-collar</td>\n      <td>no</td>\n      <td>married</td>\n      <td>may</td>\n      <td>-1.0</td>\n      <td>unknown</td>\n      <td>0.0</td>\n    </tr>\n    <tr>\n      <th>18</th>\n      <td>60</td>\n      <td>60</td>\n      <td>2.0</td>\n      <td>NaN</td>\n      <td>13.0</td>\n      <td>no</td>\n      <td>0.0</td>\n      <td>primary</td>\n      <td>yes</td>\n      <td>18</td>\n      <td>retired</td>\n      <td>no</td>\n      <td>married</td>\n      <td>NaN</td>\n      <td>NaN</td>\n      <td>NaN</td>\n      <td>NaN</td>\n    </tr>\n    <tr>\n      <th>19</th>\n      <td>33</td>\n      <td>0</td>\n      <td>2.0</td>\n      <td>NaN</td>\n      <td>10.0</td>\n      <td>no</td>\n      <td>251.0</td>\n      <td>secondary</td>\n      <td>yes</td>\n      <td>19</td>\n      <td>services</td>\n      <td>no</td>\n      <td>married</td>\n      <td>NaN</td>\n      <td>NaN</td>\n      <td>NaN</td>\n      <td>NaN</td>\n    </tr>\n    <tr>\n      <th>20</th>\n      <td>28</td>\n      <td>723</td>\n      <td>1.0</td>\n      <td>unknown</td>\n      <td>5.0</td>\n      <td>no</td>\n      <td>262.0</td>\n      <td>secondary</td>\n      <td>yes</td>\n      <td>20</td>\n      <td>blue-collar</td>\n      <td>yes</td>\n      <td>married</td>\n      <td>may</td>\n      <td>-1.0</td>\n      <td>unknown</td>\n      <td>0.0</td>\n    </tr>\n    <tr>\n      <th>21</th>\n      <td>56</td>\n      <td>779</td>\n      <td>1.0</td>\n      <td>unknown</td>\n      <td>5.0</td>\n      <td>no</td>\n      <td>164.0</td>\n      <td>tertiary</td>\n      <td>yes</td>\n      <td>21</td>\n      <td>management</td>\n      <td>no</td>\n      <td>married</td>\n      <td>may</td>\n      <td>-1.0</td>\n      <td>unknown</td>\n      <td>0.0</td>\n    </tr>\n    <tr>\n      <th>22</th>\n      <td>32</td>\n      <td>23</td>\n      <td>1.0</td>\n      <td>unknown</td>\n      <td>5.0</td>\n      <td>no</td>\n      <td>160.0</td>\n      <td>primary</td>\n      <td>yes</td>\n      <td>22</td>\n      <td>blue-collar</td>\n      <td>yes</td>\n      <td>single</td>\n      <td>may</td>\n      <td>-1.0</td>\n      <td>unknown</td>\n      <td>0.0</td>\n    </tr>\n    <tr>\n      <th>23</th>\n      <td>25</td>\n      <td>50</td>\n      <td>1.0</td>\n      <td>unknown</td>\n      <td>5.0</td>\n      <td>no</td>\n      <td>342.0</td>\n      <td>secondary</td>\n      <td>yes</td>\n      <td>23</td>\n      <td>services</td>\n      <td>no</td>\n      <td>married</td>\n      <td>may</td>\n      <td>-1.0</td>\n      <td>unknown</td>\n      <td>0.0</td>\n    </tr>\n    <tr>\n      <th>24</th>\n      <td>40</td>\n      <td>0</td>\n      <td>1.0</td>\n      <td>unknown</td>\n      <td>5.0</td>\n      <td>no</td>\n      <td>181.0</td>\n      <td>primary</td>\n      <td>yes</td>\n      <td>24</td>\n      <td>retired</td>\n      <td>yes</td>\n      <td>married</td>\n      <td>may</td>\n      <td>-1.0</td>\n      <td>unknown</td>\n      <td>0.0</td>\n    </tr>\n    <tr>\n      <th>25</th>\n      <td>44</td>\n      <td>-372</td>\n      <td>1.0</td>\n      <td>unknown</td>\n      <td>5.0</td>\n      <td>no</td>\n      <td>172.0</td>\n      <td>secondary</td>\n      <td>yes</td>\n      <td>25</td>\n      <td>admin.</td>\n      <td>no</td>\n      <td>married</td>\n      <td>may</td>\n      <td>-1.0</td>\n      <td>unknown</td>\n      <td>0.0</td>\n    </tr>\n    <tr>\n      <th>26</th>\n      <td>39</td>\n      <td>255</td>\n      <td>1.0</td>\n      <td>NaN</td>\n      <td>10.0</td>\n      <td>no</td>\n      <td>301.0</td>\n      <td>tertiary</td>\n      <td>yes</td>\n      <td>26</td>\n      <td>management</td>\n      <td>no</td>\n      <td>single</td>\n      <td>NaN</td>\n      <td>NaN</td>\n      <td>NaN</td>\n      <td>NaN</td>\n    </tr>\n    <tr>\n      <th>27</th>\n      <td>52</td>\n      <td>113</td>\n      <td>1.0</td>\n      <td>unknown</td>\n      <td>5.0</td>\n      <td>no</td>\n      <td>127.0</td>\n      <td>secondary</td>\n      <td>yes</td>\n      <td>27</td>\n      <td>entrepreneur</td>\n      <td>yes</td>\n      <td>married</td>\n      <td>may</td>\n      <td>-1.0</td>\n      <td>unknown</td>\n      <td>0.0</td>\n    </tr>\n    <tr>\n      <th>28</th>\n      <td>46</td>\n      <td>-246</td>\n      <td>2.0</td>\n      <td>unknown</td>\n      <td>5.0</td>\n      <td>no</td>\n      <td>255.0</td>\n      <td>secondary</td>\n      <td>yes</td>\n      <td>28</td>\n      <td>management</td>\n      <td>no</td>\n      <td>single</td>\n      <td>may</td>\n      <td>-1.0</td>\n      <td>unknown</td>\n      <td>0.0</td>\n    </tr>\n    <tr>\n      <th>29</th>\n      <td>36</td>\n      <td>265</td>\n      <td>2.0</td>\n      <td>NaN</td>\n      <td>16.0</td>\n      <td>no</td>\n      <td>361.0</td>\n      <td>secondary</td>\n      <td>yes</td>\n      <td>29</td>\n      <td>technician</td>\n      <td>yes</td>\n      <td>single</td>\n      <td>NaN</td>\n      <td>NaN</td>\n      <td>NaN</td>\n      <td>NaN</td>\n    </tr>\n    <tr>\n      <th>30</th>\n      <td>57</td>\n      <td>839</td>\n      <td>1.0</td>\n      <td>unknown</td>\n      <td>5.0</td>\n      <td>no</td>\n      <td>225.0</td>\n      <td>secondary</td>\n      <td>no</td>\n      <td>30</td>\n      <td>technician</td>\n      <td>yes</td>\n      <td>married</td>\n      <td>may</td>\n      <td>-1.0</td>\n      <td>unknown</td>\n      <td>0.0</td>\n    </tr>\n    <tr>\n      <th>31</th>\n      <td>49</td>\n      <td>378</td>\n      <td>1.0</td>\n      <td>unknown</td>\n      <td>5.0</td>\n      <td>no</td>\n      <td>230.0</td>\n      <td>tertiary</td>\n      <td>yes</td>\n      <td>31</td>\n      <td>management</td>\n      <td>no</td>\n      <td>married</td>\n      <td>may</td>\n      <td>-1.0</td>\n      <td>unknown</td>\n      <td>0.0</td>\n    </tr>\n    <tr>\n      <th>32</th>\n      <td>60</td>\n      <td>39</td>\n      <td>1.0</td>\n      <td>unknown</td>\n      <td>5.0</td>\n      <td>no</td>\n      <td>208.0</td>\n      <td>secondary</td>\n      <td>yes</td>\n      <td>32</td>\n      <td>admin.</td>\n      <td>yes</td>\n      <td>married</td>\n      <td>may</td>\n      <td>-1.0</td>\n      <td>unknown</td>\n      <td>0.0</td>\n    </tr>\n    <tr>\n      <th>33</th>\n      <td>59</td>\n      <td>0</td>\n      <td>1.0</td>\n      <td>unknown</td>\n      <td>5.0</td>\n      <td>no</td>\n      <td>226.0</td>\n      <td>secondary</td>\n      <td>yes</td>\n      <td>33</td>\n      <td>blue-collar</td>\n      <td>no</td>\n      <td>married</td>\n      <td>may</td>\n      <td>-1.0</td>\n      <td>unknown</td>\n      <td>0.0</td>\n    </tr>\n    <tr>\n      <th>34</th>\n      <td>51</td>\n      <td>10635</td>\n      <td>1.0</td>\n      <td>unknown</td>\n      <td>5.0</td>\n      <td>no</td>\n      <td>336.0</td>\n      <td>tertiary</td>\n      <td>yes</td>\n      <td>34</td>\n      <td>management</td>\n      <td>no</td>\n      <td>married</td>\n      <td>may</td>\n      <td>-1.0</td>\n      <td>unknown</td>\n      <td>0.0</td>\n    </tr>\n    <tr>\n      <th>35</th>\n      <td>57</td>\n      <td>63</td>\n      <td>1.0</td>\n      <td>unknown</td>\n      <td>5.0</td>\n      <td>no</td>\n      <td>242.0</td>\n      <td>secondary</td>\n      <td>yes</td>\n      <td>35</td>\n      <td>technician</td>\n      <td>no</td>\n      <td>divorced</td>\n      <td>may</td>\n      <td>-1.0</td>\n      <td>unknown</td>\n      <td>0.0</td>\n    </tr>\n    <tr>\n      <th>36</th>\n      <td>25</td>\n      <td>-7</td>\n      <td>1.0</td>\n      <td>unknown</td>\n      <td>5.0</td>\n      <td>no</td>\n      <td>365.0</td>\n      <td>secondary</td>\n      <td>yes</td>\n      <td>36</td>\n      <td>blue-collar</td>\n      <td>no</td>\n      <td>married</td>\n      <td>may</td>\n      <td>-1.0</td>\n      <td>unknown</td>\n      <td>0.0</td>\n    </tr>\n    <tr>\n      <th>37</th>\n      <td>53</td>\n      <td>-3</td>\n      <td>1.0</td>\n      <td>unknown</td>\n      <td>5.0</td>\n      <td>no</td>\n      <td>1666.0</td>\n      <td>secondary</td>\n      <td>no</td>\n      <td>37</td>\n      <td>technician</td>\n      <td>no</td>\n      <td>married</td>\n      <td>may</td>\n      <td>-1.0</td>\n      <td>unknown</td>\n      <td>0.0</td>\n    </tr>\n    <tr>\n      <th>38</th>\n      <td>36</td>\n      <td>506</td>\n      <td>1.0</td>\n      <td>unknown</td>\n      <td>5.0</td>\n      <td>no</td>\n      <td>577.0</td>\n      <td>secondary</td>\n      <td>yes</td>\n      <td>38</td>\n      <td>admin.</td>\n      <td>no</td>\n      <td>divorced</td>\n      <td>may</td>\n      <td>-1.0</td>\n      <td>unknown</td>\n      <td>0.0</td>\n    </tr>\n    <tr>\n      <th>39</th>\n      <td>37</td>\n      <td>0</td>\n      <td>1.0</td>\n      <td>unknown</td>\n      <td>5.0</td>\n      <td>no</td>\n      <td>137.0</td>\n      <td>secondary</td>\n      <td>yes</td>\n      <td>39</td>\n      <td>admin.</td>\n      <td>no</td>\n      <td>single</td>\n      <td>may</td>\n      <td>-1.0</td>\n      <td>unknown</td>\n      <td>0.0</td>\n    </tr>\n    <tr>\n      <th>40</th>\n      <td>44</td>\n      <td>2586</td>\n      <td>1.0</td>\n      <td>unknown</td>\n      <td>5.0</td>\n      <td>no</td>\n      <td>160.0</td>\n      <td>secondary</td>\n      <td>yes</td>\n      <td>40</td>\n      <td>services</td>\n      <td>no</td>\n      <td>divorced</td>\n      <td>may</td>\n      <td>-1.0</td>\n      <td>unknown</td>\n      <td>0.0</td>\n    </tr>\n    <tr>\n      <th>41</th>\n      <td>50</td>\n      <td>49</td>\n      <td>2.0</td>\n      <td>unknown</td>\n      <td>5.0</td>\n      <td>no</td>\n      <td>180.0</td>\n      <td>secondary</td>\n      <td>yes</td>\n      <td>41</td>\n      <td>management</td>\n      <td>no</td>\n      <td>married</td>\n      <td>may</td>\n      <td>-1.0</td>\n      <td>unknown</td>\n      <td>0.0</td>\n    </tr>\n    <tr>\n      <th>42</th>\n      <td>60</td>\n      <td>104</td>\n      <td>1.0</td>\n      <td>unknown</td>\n      <td>5.0</td>\n      <td>no</td>\n      <td>22.0</td>\n      <td>unknown</td>\n      <td>yes</td>\n      <td>42</td>\n      <td>blue-collar</td>\n      <td>no</td>\n      <td>married</td>\n      <td>may</td>\n      <td>-1.0</td>\n      <td>unknown</td>\n      <td>0.0</td>\n    </tr>\n    <tr>\n      <th>43</th>\n      <td>54</td>\n      <td>529</td>\n      <td>1.0</td>\n      <td>NaN</td>\n      <td>19.0</td>\n      <td>no</td>\n      <td>173.0</td>\n      <td>secondary</td>\n      <td>yes</td>\n      <td>43</td>\n      <td>retired</td>\n      <td>no</td>\n      <td>married</td>\n      <td>NaN</td>\n      <td>NaN</td>\n      <td>NaN</td>\n      <td>NaN</td>\n    </tr>\n    <tr>\n      <th>44</th>\n      <td>58</td>\n      <td>96</td>\n      <td>1.0</td>\n      <td>unknown</td>\n      <td>5.0</td>\n      <td>no</td>\n      <td>616.0</td>\n      <td>unknown</td>\n      <td>yes</td>\n      <td>44</td>\n      <td>retired</td>\n      <td>no</td>\n      <td>married</td>\n      <td>may</td>\n      <td>-1.0</td>\n      <td>unknown</td>\n      <td>0.0</td>\n    </tr>\n    <tr>\n      <th>45</th>\n      <td>36</td>\n      <td>-171</td>\n      <td>1.0</td>\n      <td>unknown</td>\n      <td>5.0</td>\n      <td>no</td>\n      <td>242.0</td>\n      <td>primary</td>\n      <td>yes</td>\n      <td>45</td>\n      <td>admin.</td>\n      <td>no</td>\n      <td>single</td>\n      <td>may</td>\n      <td>-1.0</td>\n      <td>unknown</td>\n      <td>0.0</td>\n    </tr>\n    <tr>\n      <th>46</th>\n      <td>58</td>\n      <td>-364</td>\n      <td>1.0</td>\n      <td>unknown</td>\n      <td>5.0</td>\n      <td>no</td>\n      <td>355.0</td>\n      <td>tertiary</td>\n      <td>yes</td>\n      <td>46</td>\n      <td>self-employed</td>\n      <td>no</td>\n      <td>married</td>\n      <td>may</td>\n      <td>-1.0</td>\n      <td>unknown</td>\n      <td>0.0</td>\n    </tr>\n    <tr>\n      <th>47</th>\n      <td>44</td>\n      <td>0</td>\n      <td>2.0</td>\n      <td>unknown</td>\n      <td>5.0</td>\n      <td>no</td>\n      <td>225.0</td>\n      <td>secondary</td>\n      <td>yes</td>\n      <td>47</td>\n      <td>technician</td>\n      <td>no</td>\n      <td>married</td>\n      <td>may</td>\n      <td>-1.0</td>\n      <td>unknown</td>\n      <td>0.0</td>\n    </tr>\n    <tr>\n      <th>48</th>\n      <td>55</td>\n      <td>0</td>\n      <td>1.0</td>\n      <td>unknown</td>\n      <td>5.0</td>\n      <td>no</td>\n      <td>160.0</td>\n      <td>secondary</td>\n      <td>no</td>\n      <td>48</td>\n      <td>technician</td>\n      <td>no</td>\n      <td>divorced</td>\n      <td>may</td>\n      <td>-1.0</td>\n      <td>unknown</td>\n      <td>0.0</td>\n    </tr>\n    <tr>\n      <th>49</th>\n      <td>29</td>\n      <td>0</td>\n      <td>1.0</td>\n      <td>unknown</td>\n      <td>5.0</td>\n      <td>no</td>\n      <td>363.0</td>\n      <td>tertiary</td>\n      <td>yes</td>\n      <td>49</td>\n      <td>management</td>\n      <td>no</td>\n      <td>single</td>\n      <td>may</td>\n      <td>-1.0</td>\n      <td>unknown</td>\n      <td>0.0</td>\n    </tr>\n  </tbody>\n</table>\n</div>"
     },
     "execution_count": 12,
     "metadata": {},
     "output_type": "execute_result"
    }
   ],
   "source": [
    "# 假设df1和df2是你的两个DataFrame\n",
    "aligned_df_new = aligned_df.combine_first(correlation_synthetic_data)\n",
    "aligned_df_new=aligned_df_new.drop('y',axis=1)\n",
    "print(aligned_df_new.shape)\n",
    "aligned_df_new.head(50)"
   ],
   "metadata": {
    "collapsed": false,
    "pycharm": {
     "name": "#%%\n"
    }
   }
  },
  {
   "cell_type": "markdown",
   "source": [
    "# 编码"
   ],
   "metadata": {
    "collapsed": false
   }
  },
  {
   "cell_type": "code",
   "execution_count": 13,
   "outputs": [
    {
     "data": {
      "text/plain": "    age  balance  campaign  contact   day default  duration  education  \\\n0    58     2143       1.0  unknown   5.0      no     261.0   tertiary   \n1    44       29       1.0  unknown   5.0      no     151.0  secondary   \n2    33        2       1.0  unknown   5.0      no      76.0  secondary   \n3    47     1506       1.0  unknown   5.0      no      92.0    unknown   \n4    33        1       1.0  unknown   5.0      no     198.0    unknown   \n5    35      231       1.0  unknown   5.0      no     139.0   tertiary   \n6    28      447       1.0  unknown   5.0      no     217.0   tertiary   \n7    42        2       1.0  unknown   5.0     yes     380.0   tertiary   \n8    58      121       1.0  unknown   5.0      no      50.0    primary   \n9    43      593       1.0      NaN   9.0      no      15.0  secondary   \n10   41      270       1.0  unknown   5.0      no     222.0  secondary   \n11   29      390       1.0  unknown   5.0      no     137.0  secondary   \n12   53        6       1.0  unknown   5.0      no     517.0  secondary   \n13   58       71       1.0  unknown   5.0      no      71.0    unknown   \n14   57      162       2.0      NaN  20.0      no     178.0  secondary   \n15   51      229       1.0  unknown   5.0      no     353.0    primary   \n16   45       13       1.0  unknown   5.0      no      98.0    unknown   \n17   57       52       1.0  unknown   5.0      no      38.0    primary   \n18   60       60       2.0      NaN  13.0      no       0.0    primary   \n19   33        0       2.0      NaN  10.0      no     251.0  secondary   \n20   28      723       1.0  unknown   5.0      no     262.0  secondary   \n21   56      779       1.0  unknown   5.0      no     164.0   tertiary   \n22   32       23       1.0  unknown   5.0      no     160.0    primary   \n23   25       50       1.0  unknown   5.0      no     342.0  secondary   \n24   40        0       1.0  unknown   5.0      no     181.0    primary   \n25   44     -372       1.0  unknown   5.0      no     172.0  secondary   \n26   39      255       1.0      NaN  10.0      no     301.0   tertiary   \n27   52      113       1.0  unknown   5.0      no     127.0  secondary   \n28   46     -246       2.0  unknown   5.0      no     255.0  secondary   \n29   36      265       2.0      NaN  16.0      no     361.0  secondary   \n30   57      839       1.0  unknown   5.0      no     225.0  secondary   \n31   49      378       1.0  unknown   5.0      no     230.0   tertiary   \n32   60       39       1.0  unknown   5.0      no     208.0  secondary   \n33   59        0       1.0  unknown   5.0      no     226.0  secondary   \n34   51    10635       1.0  unknown   5.0      no     336.0   tertiary   \n35   57       63       1.0  unknown   5.0      no     242.0  secondary   \n36   25       -7       1.0  unknown   5.0      no     365.0  secondary   \n37   53       -3       1.0  unknown   5.0      no    1666.0  secondary   \n38   36      506       1.0  unknown   5.0      no     577.0  secondary   \n39   37        0       1.0  unknown   5.0      no     137.0  secondary   \n40   44     2586       1.0  unknown   5.0      no     160.0  secondary   \n41   50       49       2.0  unknown   5.0      no     180.0  secondary   \n42   60      104       1.0  unknown   5.0      no      22.0    unknown   \n43   54      529       1.0      NaN  19.0      no     173.0  secondary   \n44   58       96       1.0  unknown   5.0      no     616.0    unknown   \n45   36     -171       1.0  unknown   5.0      no     242.0    primary   \n46   58     -364       1.0  unknown   5.0      no     355.0   tertiary   \n47   44        0       2.0  unknown   5.0      no     225.0  secondary   \n48   55        0       1.0  unknown   5.0      no     160.0  secondary   \n49   29        0       1.0  unknown   5.0      no     363.0   tertiary   \n\n   housing  index            job loan   marital month  pdays poutcome  \\\n0      yes      0     management   no   married   may   -1.0  unknown   \n1      yes      1     technician   no    single   may   -1.0  unknown   \n2      yes      2   entrepreneur  yes   married   may   -1.0  unknown   \n3      yes      3    blue-collar   no   married   may   -1.0  unknown   \n4       no      4        unknown   no    single   may   -1.0  unknown   \n5      yes      5     management   no   married   may   -1.0  unknown   \n6      yes      6     management  yes    single   may   -1.0  unknown   \n7      yes      7   entrepreneur   no  divorced   may   -1.0  unknown   \n8      yes      8        retired   no   married   may   -1.0  unknown   \n9      yes      9     technician   no    single   NaN    NaN      NaN   \n10     yes     10         admin.   no  divorced   may   -1.0  unknown   \n11     yes     11         admin.   no    single   may   -1.0  unknown   \n12     yes     12     technician   no   married   may   -1.0  unknown   \n13     yes     13     technician   no   married   may   -1.0  unknown   \n14     yes     14       services   no   married   NaN    NaN      NaN   \n15     yes     15        retired   no   married   may   -1.0  unknown   \n16     yes     16         admin.   no    single   may   -1.0  unknown   \n17     yes     17    blue-collar   no   married   may   -1.0  unknown   \n18     yes     18        retired   no   married   NaN    NaN      NaN   \n19     yes     19       services   no   married   NaN    NaN      NaN   \n20     yes     20    blue-collar  yes   married   may   -1.0  unknown   \n21     yes     21     management   no   married   may   -1.0  unknown   \n22     yes     22    blue-collar  yes    single   may   -1.0  unknown   \n23     yes     23       services   no   married   may   -1.0  unknown   \n24     yes     24        retired  yes   married   may   -1.0  unknown   \n25     yes     25         admin.   no   married   may   -1.0  unknown   \n26     yes     26     management   no    single   NaN    NaN      NaN   \n27     yes     27   entrepreneur  yes   married   may   -1.0  unknown   \n28     yes     28     management   no    single   may   -1.0  unknown   \n29     yes     29     technician  yes    single   NaN    NaN      NaN   \n30      no     30     technician  yes   married   may   -1.0  unknown   \n31     yes     31     management   no   married   may   -1.0  unknown   \n32     yes     32         admin.  yes   married   may   -1.0  unknown   \n33     yes     33    blue-collar   no   married   may   -1.0  unknown   \n34     yes     34     management   no   married   may   -1.0  unknown   \n35     yes     35     technician   no  divorced   may   -1.0  unknown   \n36     yes     36    blue-collar   no   married   may   -1.0  unknown   \n37      no     37     technician   no   married   may   -1.0  unknown   \n38     yes     38         admin.   no  divorced   may   -1.0  unknown   \n39     yes     39         admin.   no    single   may   -1.0  unknown   \n40     yes     40       services   no  divorced   may   -1.0  unknown   \n41     yes     41     management   no   married   may   -1.0  unknown   \n42     yes     42    blue-collar   no   married   may   -1.0  unknown   \n43     yes     43        retired   no   married   NaN    NaN      NaN   \n44     yes     44        retired   no   married   may   -1.0  unknown   \n45     yes     45         admin.   no    single   may   -1.0  unknown   \n46     yes     46  self-employed   no   married   may   -1.0  unknown   \n47     yes     47     technician   no   married   may   -1.0  unknown   \n48      no     48     technician   no  divorced   may   -1.0  unknown   \n49     yes     49     management   no    single   may   -1.0  unknown   \n\n    previous  \n0        0.0  \n1        0.0  \n2        0.0  \n3        0.0  \n4        0.0  \n5        0.0  \n6        0.0  \n7        0.0  \n8        0.0  \n9        NaN  \n10       0.0  \n11       0.0  \n12       0.0  \n13       0.0  \n14       NaN  \n15       0.0  \n16       0.0  \n17       0.0  \n18       NaN  \n19       NaN  \n20       0.0  \n21       0.0  \n22       0.0  \n23       0.0  \n24       0.0  \n25       0.0  \n26       NaN  \n27       0.0  \n28       0.0  \n29       NaN  \n30       0.0  \n31       0.0  \n32       0.0  \n33       0.0  \n34       0.0  \n35       0.0  \n36       0.0  \n37       0.0  \n38       0.0  \n39       0.0  \n40       0.0  \n41       0.0  \n42       0.0  \n43       NaN  \n44       0.0  \n45       0.0  \n46       0.0  \n47       0.0  \n48       0.0  \n49       0.0  ",
      "text/html": "<div>\n<style scoped>\n    .dataframe tbody tr th:only-of-type {\n        vertical-align: middle;\n    }\n\n    .dataframe tbody tr th {\n        vertical-align: top;\n    }\n\n    .dataframe thead th {\n        text-align: right;\n    }\n</style>\n<table border=\"1\" class=\"dataframe\">\n  <thead>\n    <tr style=\"text-align: right;\">\n      <th></th>\n      <th>age</th>\n      <th>balance</th>\n      <th>campaign</th>\n      <th>contact</th>\n      <th>day</th>\n      <th>default</th>\n      <th>duration</th>\n      <th>education</th>\n      <th>housing</th>\n      <th>index</th>\n      <th>job</th>\n      <th>loan</th>\n      <th>marital</th>\n      <th>month</th>\n      <th>pdays</th>\n      <th>poutcome</th>\n      <th>previous</th>\n    </tr>\n  </thead>\n  <tbody>\n    <tr>\n      <th>0</th>\n      <td>58</td>\n      <td>2143</td>\n      <td>1.0</td>\n      <td>unknown</td>\n      <td>5.0</td>\n      <td>no</td>\n      <td>261.0</td>\n      <td>tertiary</td>\n      <td>yes</td>\n      <td>0</td>\n      <td>management</td>\n      <td>no</td>\n      <td>married</td>\n      <td>may</td>\n      <td>-1.0</td>\n      <td>unknown</td>\n      <td>0.0</td>\n    </tr>\n    <tr>\n      <th>1</th>\n      <td>44</td>\n      <td>29</td>\n      <td>1.0</td>\n      <td>unknown</td>\n      <td>5.0</td>\n      <td>no</td>\n      <td>151.0</td>\n      <td>secondary</td>\n      <td>yes</td>\n      <td>1</td>\n      <td>technician</td>\n      <td>no</td>\n      <td>single</td>\n      <td>may</td>\n      <td>-1.0</td>\n      <td>unknown</td>\n      <td>0.0</td>\n    </tr>\n    <tr>\n      <th>2</th>\n      <td>33</td>\n      <td>2</td>\n      <td>1.0</td>\n      <td>unknown</td>\n      <td>5.0</td>\n      <td>no</td>\n      <td>76.0</td>\n      <td>secondary</td>\n      <td>yes</td>\n      <td>2</td>\n      <td>entrepreneur</td>\n      <td>yes</td>\n      <td>married</td>\n      <td>may</td>\n      <td>-1.0</td>\n      <td>unknown</td>\n      <td>0.0</td>\n    </tr>\n    <tr>\n      <th>3</th>\n      <td>47</td>\n      <td>1506</td>\n      <td>1.0</td>\n      <td>unknown</td>\n      <td>5.0</td>\n      <td>no</td>\n      <td>92.0</td>\n      <td>unknown</td>\n      <td>yes</td>\n      <td>3</td>\n      <td>blue-collar</td>\n      <td>no</td>\n      <td>married</td>\n      <td>may</td>\n      <td>-1.0</td>\n      <td>unknown</td>\n      <td>0.0</td>\n    </tr>\n    <tr>\n      <th>4</th>\n      <td>33</td>\n      <td>1</td>\n      <td>1.0</td>\n      <td>unknown</td>\n      <td>5.0</td>\n      <td>no</td>\n      <td>198.0</td>\n      <td>unknown</td>\n      <td>no</td>\n      <td>4</td>\n      <td>unknown</td>\n      <td>no</td>\n      <td>single</td>\n      <td>may</td>\n      <td>-1.0</td>\n      <td>unknown</td>\n      <td>0.0</td>\n    </tr>\n    <tr>\n      <th>5</th>\n      <td>35</td>\n      <td>231</td>\n      <td>1.0</td>\n      <td>unknown</td>\n      <td>5.0</td>\n      <td>no</td>\n      <td>139.0</td>\n      <td>tertiary</td>\n      <td>yes</td>\n      <td>5</td>\n      <td>management</td>\n      <td>no</td>\n      <td>married</td>\n      <td>may</td>\n      <td>-1.0</td>\n      <td>unknown</td>\n      <td>0.0</td>\n    </tr>\n    <tr>\n      <th>6</th>\n      <td>28</td>\n      <td>447</td>\n      <td>1.0</td>\n      <td>unknown</td>\n      <td>5.0</td>\n      <td>no</td>\n      <td>217.0</td>\n      <td>tertiary</td>\n      <td>yes</td>\n      <td>6</td>\n      <td>management</td>\n      <td>yes</td>\n      <td>single</td>\n      <td>may</td>\n      <td>-1.0</td>\n      <td>unknown</td>\n      <td>0.0</td>\n    </tr>\n    <tr>\n      <th>7</th>\n      <td>42</td>\n      <td>2</td>\n      <td>1.0</td>\n      <td>unknown</td>\n      <td>5.0</td>\n      <td>yes</td>\n      <td>380.0</td>\n      <td>tertiary</td>\n      <td>yes</td>\n      <td>7</td>\n      <td>entrepreneur</td>\n      <td>no</td>\n      <td>divorced</td>\n      <td>may</td>\n      <td>-1.0</td>\n      <td>unknown</td>\n      <td>0.0</td>\n    </tr>\n    <tr>\n      <th>8</th>\n      <td>58</td>\n      <td>121</td>\n      <td>1.0</td>\n      <td>unknown</td>\n      <td>5.0</td>\n      <td>no</td>\n      <td>50.0</td>\n      <td>primary</td>\n      <td>yes</td>\n      <td>8</td>\n      <td>retired</td>\n      <td>no</td>\n      <td>married</td>\n      <td>may</td>\n      <td>-1.0</td>\n      <td>unknown</td>\n      <td>0.0</td>\n    </tr>\n    <tr>\n      <th>9</th>\n      <td>43</td>\n      <td>593</td>\n      <td>1.0</td>\n      <td>NaN</td>\n      <td>9.0</td>\n      <td>no</td>\n      <td>15.0</td>\n      <td>secondary</td>\n      <td>yes</td>\n      <td>9</td>\n      <td>technician</td>\n      <td>no</td>\n      <td>single</td>\n      <td>NaN</td>\n      <td>NaN</td>\n      <td>NaN</td>\n      <td>NaN</td>\n    </tr>\n    <tr>\n      <th>10</th>\n      <td>41</td>\n      <td>270</td>\n      <td>1.0</td>\n      <td>unknown</td>\n      <td>5.0</td>\n      <td>no</td>\n      <td>222.0</td>\n      <td>secondary</td>\n      <td>yes</td>\n      <td>10</td>\n      <td>admin.</td>\n      <td>no</td>\n      <td>divorced</td>\n      <td>may</td>\n      <td>-1.0</td>\n      <td>unknown</td>\n      <td>0.0</td>\n    </tr>\n    <tr>\n      <th>11</th>\n      <td>29</td>\n      <td>390</td>\n      <td>1.0</td>\n      <td>unknown</td>\n      <td>5.0</td>\n      <td>no</td>\n      <td>137.0</td>\n      <td>secondary</td>\n      <td>yes</td>\n      <td>11</td>\n      <td>admin.</td>\n      <td>no</td>\n      <td>single</td>\n      <td>may</td>\n      <td>-1.0</td>\n      <td>unknown</td>\n      <td>0.0</td>\n    </tr>\n    <tr>\n      <th>12</th>\n      <td>53</td>\n      <td>6</td>\n      <td>1.0</td>\n      <td>unknown</td>\n      <td>5.0</td>\n      <td>no</td>\n      <td>517.0</td>\n      <td>secondary</td>\n      <td>yes</td>\n      <td>12</td>\n      <td>technician</td>\n      <td>no</td>\n      <td>married</td>\n      <td>may</td>\n      <td>-1.0</td>\n      <td>unknown</td>\n      <td>0.0</td>\n    </tr>\n    <tr>\n      <th>13</th>\n      <td>58</td>\n      <td>71</td>\n      <td>1.0</td>\n      <td>unknown</td>\n      <td>5.0</td>\n      <td>no</td>\n      <td>71.0</td>\n      <td>unknown</td>\n      <td>yes</td>\n      <td>13</td>\n      <td>technician</td>\n      <td>no</td>\n      <td>married</td>\n      <td>may</td>\n      <td>-1.0</td>\n      <td>unknown</td>\n      <td>0.0</td>\n    </tr>\n    <tr>\n      <th>14</th>\n      <td>57</td>\n      <td>162</td>\n      <td>2.0</td>\n      <td>NaN</td>\n      <td>20.0</td>\n      <td>no</td>\n      <td>178.0</td>\n      <td>secondary</td>\n      <td>yes</td>\n      <td>14</td>\n      <td>services</td>\n      <td>no</td>\n      <td>married</td>\n      <td>NaN</td>\n      <td>NaN</td>\n      <td>NaN</td>\n      <td>NaN</td>\n    </tr>\n    <tr>\n      <th>15</th>\n      <td>51</td>\n      <td>229</td>\n      <td>1.0</td>\n      <td>unknown</td>\n      <td>5.0</td>\n      <td>no</td>\n      <td>353.0</td>\n      <td>primary</td>\n      <td>yes</td>\n      <td>15</td>\n      <td>retired</td>\n      <td>no</td>\n      <td>married</td>\n      <td>may</td>\n      <td>-1.0</td>\n      <td>unknown</td>\n      <td>0.0</td>\n    </tr>\n    <tr>\n      <th>16</th>\n      <td>45</td>\n      <td>13</td>\n      <td>1.0</td>\n      <td>unknown</td>\n      <td>5.0</td>\n      <td>no</td>\n      <td>98.0</td>\n      <td>unknown</td>\n      <td>yes</td>\n      <td>16</td>\n      <td>admin.</td>\n      <td>no</td>\n      <td>single</td>\n      <td>may</td>\n      <td>-1.0</td>\n      <td>unknown</td>\n      <td>0.0</td>\n    </tr>\n    <tr>\n      <th>17</th>\n      <td>57</td>\n      <td>52</td>\n      <td>1.0</td>\n      <td>unknown</td>\n      <td>5.0</td>\n      <td>no</td>\n      <td>38.0</td>\n      <td>primary</td>\n      <td>yes</td>\n      <td>17</td>\n      <td>blue-collar</td>\n      <td>no</td>\n      <td>married</td>\n      <td>may</td>\n      <td>-1.0</td>\n      <td>unknown</td>\n      <td>0.0</td>\n    </tr>\n    <tr>\n      <th>18</th>\n      <td>60</td>\n      <td>60</td>\n      <td>2.0</td>\n      <td>NaN</td>\n      <td>13.0</td>\n      <td>no</td>\n      <td>0.0</td>\n      <td>primary</td>\n      <td>yes</td>\n      <td>18</td>\n      <td>retired</td>\n      <td>no</td>\n      <td>married</td>\n      <td>NaN</td>\n      <td>NaN</td>\n      <td>NaN</td>\n      <td>NaN</td>\n    </tr>\n    <tr>\n      <th>19</th>\n      <td>33</td>\n      <td>0</td>\n      <td>2.0</td>\n      <td>NaN</td>\n      <td>10.0</td>\n      <td>no</td>\n      <td>251.0</td>\n      <td>secondary</td>\n      <td>yes</td>\n      <td>19</td>\n      <td>services</td>\n      <td>no</td>\n      <td>married</td>\n      <td>NaN</td>\n      <td>NaN</td>\n      <td>NaN</td>\n      <td>NaN</td>\n    </tr>\n    <tr>\n      <th>20</th>\n      <td>28</td>\n      <td>723</td>\n      <td>1.0</td>\n      <td>unknown</td>\n      <td>5.0</td>\n      <td>no</td>\n      <td>262.0</td>\n      <td>secondary</td>\n      <td>yes</td>\n      <td>20</td>\n      <td>blue-collar</td>\n      <td>yes</td>\n      <td>married</td>\n      <td>may</td>\n      <td>-1.0</td>\n      <td>unknown</td>\n      <td>0.0</td>\n    </tr>\n    <tr>\n      <th>21</th>\n      <td>56</td>\n      <td>779</td>\n      <td>1.0</td>\n      <td>unknown</td>\n      <td>5.0</td>\n      <td>no</td>\n      <td>164.0</td>\n      <td>tertiary</td>\n      <td>yes</td>\n      <td>21</td>\n      <td>management</td>\n      <td>no</td>\n      <td>married</td>\n      <td>may</td>\n      <td>-1.0</td>\n      <td>unknown</td>\n      <td>0.0</td>\n    </tr>\n    <tr>\n      <th>22</th>\n      <td>32</td>\n      <td>23</td>\n      <td>1.0</td>\n      <td>unknown</td>\n      <td>5.0</td>\n      <td>no</td>\n      <td>160.0</td>\n      <td>primary</td>\n      <td>yes</td>\n      <td>22</td>\n      <td>blue-collar</td>\n      <td>yes</td>\n      <td>single</td>\n      <td>may</td>\n      <td>-1.0</td>\n      <td>unknown</td>\n      <td>0.0</td>\n    </tr>\n    <tr>\n      <th>23</th>\n      <td>25</td>\n      <td>50</td>\n      <td>1.0</td>\n      <td>unknown</td>\n      <td>5.0</td>\n      <td>no</td>\n      <td>342.0</td>\n      <td>secondary</td>\n      <td>yes</td>\n      <td>23</td>\n      <td>services</td>\n      <td>no</td>\n      <td>married</td>\n      <td>may</td>\n      <td>-1.0</td>\n      <td>unknown</td>\n      <td>0.0</td>\n    </tr>\n    <tr>\n      <th>24</th>\n      <td>40</td>\n      <td>0</td>\n      <td>1.0</td>\n      <td>unknown</td>\n      <td>5.0</td>\n      <td>no</td>\n      <td>181.0</td>\n      <td>primary</td>\n      <td>yes</td>\n      <td>24</td>\n      <td>retired</td>\n      <td>yes</td>\n      <td>married</td>\n      <td>may</td>\n      <td>-1.0</td>\n      <td>unknown</td>\n      <td>0.0</td>\n    </tr>\n    <tr>\n      <th>25</th>\n      <td>44</td>\n      <td>-372</td>\n      <td>1.0</td>\n      <td>unknown</td>\n      <td>5.0</td>\n      <td>no</td>\n      <td>172.0</td>\n      <td>secondary</td>\n      <td>yes</td>\n      <td>25</td>\n      <td>admin.</td>\n      <td>no</td>\n      <td>married</td>\n      <td>may</td>\n      <td>-1.0</td>\n      <td>unknown</td>\n      <td>0.0</td>\n    </tr>\n    <tr>\n      <th>26</th>\n      <td>39</td>\n      <td>255</td>\n      <td>1.0</td>\n      <td>NaN</td>\n      <td>10.0</td>\n      <td>no</td>\n      <td>301.0</td>\n      <td>tertiary</td>\n      <td>yes</td>\n      <td>26</td>\n      <td>management</td>\n      <td>no</td>\n      <td>single</td>\n      <td>NaN</td>\n      <td>NaN</td>\n      <td>NaN</td>\n      <td>NaN</td>\n    </tr>\n    <tr>\n      <th>27</th>\n      <td>52</td>\n      <td>113</td>\n      <td>1.0</td>\n      <td>unknown</td>\n      <td>5.0</td>\n      <td>no</td>\n      <td>127.0</td>\n      <td>secondary</td>\n      <td>yes</td>\n      <td>27</td>\n      <td>entrepreneur</td>\n      <td>yes</td>\n      <td>married</td>\n      <td>may</td>\n      <td>-1.0</td>\n      <td>unknown</td>\n      <td>0.0</td>\n    </tr>\n    <tr>\n      <th>28</th>\n      <td>46</td>\n      <td>-246</td>\n      <td>2.0</td>\n      <td>unknown</td>\n      <td>5.0</td>\n      <td>no</td>\n      <td>255.0</td>\n      <td>secondary</td>\n      <td>yes</td>\n      <td>28</td>\n      <td>management</td>\n      <td>no</td>\n      <td>single</td>\n      <td>may</td>\n      <td>-1.0</td>\n      <td>unknown</td>\n      <td>0.0</td>\n    </tr>\n    <tr>\n      <th>29</th>\n      <td>36</td>\n      <td>265</td>\n      <td>2.0</td>\n      <td>NaN</td>\n      <td>16.0</td>\n      <td>no</td>\n      <td>361.0</td>\n      <td>secondary</td>\n      <td>yes</td>\n      <td>29</td>\n      <td>technician</td>\n      <td>yes</td>\n      <td>single</td>\n      <td>NaN</td>\n      <td>NaN</td>\n      <td>NaN</td>\n      <td>NaN</td>\n    </tr>\n    <tr>\n      <th>30</th>\n      <td>57</td>\n      <td>839</td>\n      <td>1.0</td>\n      <td>unknown</td>\n      <td>5.0</td>\n      <td>no</td>\n      <td>225.0</td>\n      <td>secondary</td>\n      <td>no</td>\n      <td>30</td>\n      <td>technician</td>\n      <td>yes</td>\n      <td>married</td>\n      <td>may</td>\n      <td>-1.0</td>\n      <td>unknown</td>\n      <td>0.0</td>\n    </tr>\n    <tr>\n      <th>31</th>\n      <td>49</td>\n      <td>378</td>\n      <td>1.0</td>\n      <td>unknown</td>\n      <td>5.0</td>\n      <td>no</td>\n      <td>230.0</td>\n      <td>tertiary</td>\n      <td>yes</td>\n      <td>31</td>\n      <td>management</td>\n      <td>no</td>\n      <td>married</td>\n      <td>may</td>\n      <td>-1.0</td>\n      <td>unknown</td>\n      <td>0.0</td>\n    </tr>\n    <tr>\n      <th>32</th>\n      <td>60</td>\n      <td>39</td>\n      <td>1.0</td>\n      <td>unknown</td>\n      <td>5.0</td>\n      <td>no</td>\n      <td>208.0</td>\n      <td>secondary</td>\n      <td>yes</td>\n      <td>32</td>\n      <td>admin.</td>\n      <td>yes</td>\n      <td>married</td>\n      <td>may</td>\n      <td>-1.0</td>\n      <td>unknown</td>\n      <td>0.0</td>\n    </tr>\n    <tr>\n      <th>33</th>\n      <td>59</td>\n      <td>0</td>\n      <td>1.0</td>\n      <td>unknown</td>\n      <td>5.0</td>\n      <td>no</td>\n      <td>226.0</td>\n      <td>secondary</td>\n      <td>yes</td>\n      <td>33</td>\n      <td>blue-collar</td>\n      <td>no</td>\n      <td>married</td>\n      <td>may</td>\n      <td>-1.0</td>\n      <td>unknown</td>\n      <td>0.0</td>\n    </tr>\n    <tr>\n      <th>34</th>\n      <td>51</td>\n      <td>10635</td>\n      <td>1.0</td>\n      <td>unknown</td>\n      <td>5.0</td>\n      <td>no</td>\n      <td>336.0</td>\n      <td>tertiary</td>\n      <td>yes</td>\n      <td>34</td>\n      <td>management</td>\n      <td>no</td>\n      <td>married</td>\n      <td>may</td>\n      <td>-1.0</td>\n      <td>unknown</td>\n      <td>0.0</td>\n    </tr>\n    <tr>\n      <th>35</th>\n      <td>57</td>\n      <td>63</td>\n      <td>1.0</td>\n      <td>unknown</td>\n      <td>5.0</td>\n      <td>no</td>\n      <td>242.0</td>\n      <td>secondary</td>\n      <td>yes</td>\n      <td>35</td>\n      <td>technician</td>\n      <td>no</td>\n      <td>divorced</td>\n      <td>may</td>\n      <td>-1.0</td>\n      <td>unknown</td>\n      <td>0.0</td>\n    </tr>\n    <tr>\n      <th>36</th>\n      <td>25</td>\n      <td>-7</td>\n      <td>1.0</td>\n      <td>unknown</td>\n      <td>5.0</td>\n      <td>no</td>\n      <td>365.0</td>\n      <td>secondary</td>\n      <td>yes</td>\n      <td>36</td>\n      <td>blue-collar</td>\n      <td>no</td>\n      <td>married</td>\n      <td>may</td>\n      <td>-1.0</td>\n      <td>unknown</td>\n      <td>0.0</td>\n    </tr>\n    <tr>\n      <th>37</th>\n      <td>53</td>\n      <td>-3</td>\n      <td>1.0</td>\n      <td>unknown</td>\n      <td>5.0</td>\n      <td>no</td>\n      <td>1666.0</td>\n      <td>secondary</td>\n      <td>no</td>\n      <td>37</td>\n      <td>technician</td>\n      <td>no</td>\n      <td>married</td>\n      <td>may</td>\n      <td>-1.0</td>\n      <td>unknown</td>\n      <td>0.0</td>\n    </tr>\n    <tr>\n      <th>38</th>\n      <td>36</td>\n      <td>506</td>\n      <td>1.0</td>\n      <td>unknown</td>\n      <td>5.0</td>\n      <td>no</td>\n      <td>577.0</td>\n      <td>secondary</td>\n      <td>yes</td>\n      <td>38</td>\n      <td>admin.</td>\n      <td>no</td>\n      <td>divorced</td>\n      <td>may</td>\n      <td>-1.0</td>\n      <td>unknown</td>\n      <td>0.0</td>\n    </tr>\n    <tr>\n      <th>39</th>\n      <td>37</td>\n      <td>0</td>\n      <td>1.0</td>\n      <td>unknown</td>\n      <td>5.0</td>\n      <td>no</td>\n      <td>137.0</td>\n      <td>secondary</td>\n      <td>yes</td>\n      <td>39</td>\n      <td>admin.</td>\n      <td>no</td>\n      <td>single</td>\n      <td>may</td>\n      <td>-1.0</td>\n      <td>unknown</td>\n      <td>0.0</td>\n    </tr>\n    <tr>\n      <th>40</th>\n      <td>44</td>\n      <td>2586</td>\n      <td>1.0</td>\n      <td>unknown</td>\n      <td>5.0</td>\n      <td>no</td>\n      <td>160.0</td>\n      <td>secondary</td>\n      <td>yes</td>\n      <td>40</td>\n      <td>services</td>\n      <td>no</td>\n      <td>divorced</td>\n      <td>may</td>\n      <td>-1.0</td>\n      <td>unknown</td>\n      <td>0.0</td>\n    </tr>\n    <tr>\n      <th>41</th>\n      <td>50</td>\n      <td>49</td>\n      <td>2.0</td>\n      <td>unknown</td>\n      <td>5.0</td>\n      <td>no</td>\n      <td>180.0</td>\n      <td>secondary</td>\n      <td>yes</td>\n      <td>41</td>\n      <td>management</td>\n      <td>no</td>\n      <td>married</td>\n      <td>may</td>\n      <td>-1.0</td>\n      <td>unknown</td>\n      <td>0.0</td>\n    </tr>\n    <tr>\n      <th>42</th>\n      <td>60</td>\n      <td>104</td>\n      <td>1.0</td>\n      <td>unknown</td>\n      <td>5.0</td>\n      <td>no</td>\n      <td>22.0</td>\n      <td>unknown</td>\n      <td>yes</td>\n      <td>42</td>\n      <td>blue-collar</td>\n      <td>no</td>\n      <td>married</td>\n      <td>may</td>\n      <td>-1.0</td>\n      <td>unknown</td>\n      <td>0.0</td>\n    </tr>\n    <tr>\n      <th>43</th>\n      <td>54</td>\n      <td>529</td>\n      <td>1.0</td>\n      <td>NaN</td>\n      <td>19.0</td>\n      <td>no</td>\n      <td>173.0</td>\n      <td>secondary</td>\n      <td>yes</td>\n      <td>43</td>\n      <td>retired</td>\n      <td>no</td>\n      <td>married</td>\n      <td>NaN</td>\n      <td>NaN</td>\n      <td>NaN</td>\n      <td>NaN</td>\n    </tr>\n    <tr>\n      <th>44</th>\n      <td>58</td>\n      <td>96</td>\n      <td>1.0</td>\n      <td>unknown</td>\n      <td>5.0</td>\n      <td>no</td>\n      <td>616.0</td>\n      <td>unknown</td>\n      <td>yes</td>\n      <td>44</td>\n      <td>retired</td>\n      <td>no</td>\n      <td>married</td>\n      <td>may</td>\n      <td>-1.0</td>\n      <td>unknown</td>\n      <td>0.0</td>\n    </tr>\n    <tr>\n      <th>45</th>\n      <td>36</td>\n      <td>-171</td>\n      <td>1.0</td>\n      <td>unknown</td>\n      <td>5.0</td>\n      <td>no</td>\n      <td>242.0</td>\n      <td>primary</td>\n      <td>yes</td>\n      <td>45</td>\n      <td>admin.</td>\n      <td>no</td>\n      <td>single</td>\n      <td>may</td>\n      <td>-1.0</td>\n      <td>unknown</td>\n      <td>0.0</td>\n    </tr>\n    <tr>\n      <th>46</th>\n      <td>58</td>\n      <td>-364</td>\n      <td>1.0</td>\n      <td>unknown</td>\n      <td>5.0</td>\n      <td>no</td>\n      <td>355.0</td>\n      <td>tertiary</td>\n      <td>yes</td>\n      <td>46</td>\n      <td>self-employed</td>\n      <td>no</td>\n      <td>married</td>\n      <td>may</td>\n      <td>-1.0</td>\n      <td>unknown</td>\n      <td>0.0</td>\n    </tr>\n    <tr>\n      <th>47</th>\n      <td>44</td>\n      <td>0</td>\n      <td>2.0</td>\n      <td>unknown</td>\n      <td>5.0</td>\n      <td>no</td>\n      <td>225.0</td>\n      <td>secondary</td>\n      <td>yes</td>\n      <td>47</td>\n      <td>technician</td>\n      <td>no</td>\n      <td>married</td>\n      <td>may</td>\n      <td>-1.0</td>\n      <td>unknown</td>\n      <td>0.0</td>\n    </tr>\n    <tr>\n      <th>48</th>\n      <td>55</td>\n      <td>0</td>\n      <td>1.0</td>\n      <td>unknown</td>\n      <td>5.0</td>\n      <td>no</td>\n      <td>160.0</td>\n      <td>secondary</td>\n      <td>no</td>\n      <td>48</td>\n      <td>technician</td>\n      <td>no</td>\n      <td>divorced</td>\n      <td>may</td>\n      <td>-1.0</td>\n      <td>unknown</td>\n      <td>0.0</td>\n    </tr>\n    <tr>\n      <th>49</th>\n      <td>29</td>\n      <td>0</td>\n      <td>1.0</td>\n      <td>unknown</td>\n      <td>5.0</td>\n      <td>no</td>\n      <td>363.0</td>\n      <td>tertiary</td>\n      <td>yes</td>\n      <td>49</td>\n      <td>management</td>\n      <td>no</td>\n      <td>single</td>\n      <td>may</td>\n      <td>-1.0</td>\n      <td>unknown</td>\n      <td>0.0</td>\n    </tr>\n  </tbody>\n</table>\n</div>"
     },
     "execution_count": 13,
     "metadata": {},
     "output_type": "execute_result"
    }
   ],
   "source": [
    "aligned_df_new_encode=aligned_df_new.copy()\n",
    "aligned_df_new_encode.head(50)"
   ],
   "metadata": {
    "collapsed": false,
    "pycharm": {
     "name": "#%%\n"
    }
   }
  },
  {
   "cell_type": "markdown",
   "source": [
    "对分类列进行标签编码"
   ],
   "metadata": {
    "collapsed": false
   }
  },
  {
   "cell_type": "code",
   "execution_count": 14,
   "outputs": [
    {
     "name": "stdout",
     "output_type": "stream",
     "text": [
      "(45211, 17)\n"
     ]
    },
    {
     "data": {
      "text/plain": "    age  balance  campaign contact   day default  duration education housing  \\\n0    58     2143       1.0       2   5.0       0     261.0         2       1   \n1    44       29       1.0       2   5.0       0     151.0         1       1   \n2    33        2       1.0       2   5.0       0      76.0         1       1   \n3    47     1506       1.0       2   5.0       0      92.0         3       1   \n4    33        1       1.0       2   5.0       0     198.0         3       0   \n5    35      231       1.0       2   5.0       0     139.0         2       1   \n6    28      447       1.0       2   5.0       0     217.0         2       1   \n7    42        2       1.0       2   5.0       1     380.0         2       1   \n8    58      121       1.0       2   5.0       0      50.0         0       1   \n9    43      593       1.0     NaN   9.0       0      15.0         1       1   \n10   41      270       1.0       2   5.0       0     222.0         1       1   \n11   29      390       1.0       2   5.0       0     137.0         1       1   \n12   53        6       1.0       2   5.0       0     517.0         1       1   \n13   58       71       1.0       2   5.0       0      71.0         3       1   \n14   57      162       2.0     NaN  20.0       0     178.0         1       1   \n15   51      229       1.0       2   5.0       0     353.0         0       1   \n16   45       13       1.0       2   5.0       0      98.0         3       1   \n17   57       52       1.0       2   5.0       0      38.0         0       1   \n18   60       60       2.0     NaN  13.0       0       0.0         0       1   \n19   33        0       2.0     NaN  10.0       0     251.0         1       1   \n20   28      723       1.0       2   5.0       0     262.0         1       1   \n21   56      779       1.0       2   5.0       0     164.0         2       1   \n22   32       23       1.0       2   5.0       0     160.0         0       1   \n23   25       50       1.0       2   5.0       0     342.0         1       1   \n24   40        0       1.0       2   5.0       0     181.0         0       1   \n25   44     -372       1.0       2   5.0       0     172.0         1       1   \n26   39      255       1.0     NaN  10.0       0     301.0         2       1   \n27   52      113       1.0       2   5.0       0     127.0         1       1   \n28   46     -246       2.0       2   5.0       0     255.0         1       1   \n29   36      265       2.0     NaN  16.0       0     361.0         1       1   \n30   57      839       1.0       2   5.0       0     225.0         1       0   \n31   49      378       1.0       2   5.0       0     230.0         2       1   \n32   60       39       1.0       2   5.0       0     208.0         1       1   \n33   59        0       1.0       2   5.0       0     226.0         1       1   \n34   51    10635       1.0       2   5.0       0     336.0         2       1   \n35   57       63       1.0       2   5.0       0     242.0         1       1   \n36   25       -7       1.0       2   5.0       0     365.0         1       1   \n37   53       -3       1.0       2   5.0       0    1666.0         1       0   \n38   36      506       1.0       2   5.0       0     577.0         1       1   \n39   37        0       1.0       2   5.0       0     137.0         1       1   \n40   44     2586       1.0       2   5.0       0     160.0         1       1   \n41   50       49       2.0       2   5.0       0     180.0         1       1   \n42   60      104       1.0       2   5.0       0      22.0         3       1   \n43   54      529       1.0     NaN  19.0       0     173.0         1       1   \n44   58       96       1.0       2   5.0       0     616.0         3       1   \n45   36     -171       1.0       2   5.0       0     242.0         0       1   \n46   58     -364       1.0       2   5.0       0     355.0         2       1   \n47   44        0       2.0       2   5.0       0     225.0         1       1   \n48   55        0       1.0       2   5.0       0     160.0         1       0   \n49   29        0       1.0       2   5.0       0     363.0         2       1   \n\n    index job loan marital month  pdays poutcome  previous  \n0       0   4    0       1     8   -1.0        3       0.0  \n1       1   9    0       2     8   -1.0        3       0.0  \n2       2   2    1       1     8   -1.0        3       0.0  \n3       3   1    0       1     8   -1.0        3       0.0  \n4       4  11    0       2     8   -1.0        3       0.0  \n5       5   4    0       1     8   -1.0        3       0.0  \n6       6   4    1       2     8   -1.0        3       0.0  \n7       7   2    0       0     8   -1.0        3       0.0  \n8       8   5    0       1     8   -1.0        3       0.0  \n9       9   9    0       2   NaN    NaN      NaN       NaN  \n10     10   0    0       0     8   -1.0        3       0.0  \n11     11   0    0       2     8   -1.0        3       0.0  \n12     12   9    0       1     8   -1.0        3       0.0  \n13     13   9    0       1     8   -1.0        3       0.0  \n14     14   7    0       1   NaN    NaN      NaN       NaN  \n15     15   5    0       1     8   -1.0        3       0.0  \n16     16   0    0       2     8   -1.0        3       0.0  \n17     17   1    0       1     8   -1.0        3       0.0  \n18     18   5    0       1   NaN    NaN      NaN       NaN  \n19     19   7    0       1   NaN    NaN      NaN       NaN  \n20     20   1    1       1     8   -1.0        3       0.0  \n21     21   4    0       1     8   -1.0        3       0.0  \n22     22   1    1       2     8   -1.0        3       0.0  \n23     23   7    0       1     8   -1.0        3       0.0  \n24     24   5    1       1     8   -1.0        3       0.0  \n25     25   0    0       1     8   -1.0        3       0.0  \n26     26   4    0       2   NaN    NaN      NaN       NaN  \n27     27   2    1       1     8   -1.0        3       0.0  \n28     28   4    0       2     8   -1.0        3       0.0  \n29     29   9    1       2   NaN    NaN      NaN       NaN  \n30     30   9    1       1     8   -1.0        3       0.0  \n31     31   4    0       1     8   -1.0        3       0.0  \n32     32   0    1       1     8   -1.0        3       0.0  \n33     33   1    0       1     8   -1.0        3       0.0  \n34     34   4    0       1     8   -1.0        3       0.0  \n35     35   9    0       0     8   -1.0        3       0.0  \n36     36   1    0       1     8   -1.0        3       0.0  \n37     37   9    0       1     8   -1.0        3       0.0  \n38     38   0    0       0     8   -1.0        3       0.0  \n39     39   0    0       2     8   -1.0        3       0.0  \n40     40   7    0       0     8   -1.0        3       0.0  \n41     41   4    0       1     8   -1.0        3       0.0  \n42     42   1    0       1     8   -1.0        3       0.0  \n43     43   5    0       1   NaN    NaN      NaN       NaN  \n44     44   5    0       1     8   -1.0        3       0.0  \n45     45   0    0       2     8   -1.0        3       0.0  \n46     46   6    0       1     8   -1.0        3       0.0  \n47     47   9    0       1     8   -1.0        3       0.0  \n48     48   9    0       0     8   -1.0        3       0.0  \n49     49   4    0       2     8   -1.0        3       0.0  ",
      "text/html": "<div>\n<style scoped>\n    .dataframe tbody tr th:only-of-type {\n        vertical-align: middle;\n    }\n\n    .dataframe tbody tr th {\n        vertical-align: top;\n    }\n\n    .dataframe thead th {\n        text-align: right;\n    }\n</style>\n<table border=\"1\" class=\"dataframe\">\n  <thead>\n    <tr style=\"text-align: right;\">\n      <th></th>\n      <th>age</th>\n      <th>balance</th>\n      <th>campaign</th>\n      <th>contact</th>\n      <th>day</th>\n      <th>default</th>\n      <th>duration</th>\n      <th>education</th>\n      <th>housing</th>\n      <th>index</th>\n      <th>job</th>\n      <th>loan</th>\n      <th>marital</th>\n      <th>month</th>\n      <th>pdays</th>\n      <th>poutcome</th>\n      <th>previous</th>\n    </tr>\n  </thead>\n  <tbody>\n    <tr>\n      <th>0</th>\n      <td>58</td>\n      <td>2143</td>\n      <td>1.0</td>\n      <td>2</td>\n      <td>5.0</td>\n      <td>0</td>\n      <td>261.0</td>\n      <td>2</td>\n      <td>1</td>\n      <td>0</td>\n      <td>4</td>\n      <td>0</td>\n      <td>1</td>\n      <td>8</td>\n      <td>-1.0</td>\n      <td>3</td>\n      <td>0.0</td>\n    </tr>\n    <tr>\n      <th>1</th>\n      <td>44</td>\n      <td>29</td>\n      <td>1.0</td>\n      <td>2</td>\n      <td>5.0</td>\n      <td>0</td>\n      <td>151.0</td>\n      <td>1</td>\n      <td>1</td>\n      <td>1</td>\n      <td>9</td>\n      <td>0</td>\n      <td>2</td>\n      <td>8</td>\n      <td>-1.0</td>\n      <td>3</td>\n      <td>0.0</td>\n    </tr>\n    <tr>\n      <th>2</th>\n      <td>33</td>\n      <td>2</td>\n      <td>1.0</td>\n      <td>2</td>\n      <td>5.0</td>\n      <td>0</td>\n      <td>76.0</td>\n      <td>1</td>\n      <td>1</td>\n      <td>2</td>\n      <td>2</td>\n      <td>1</td>\n      <td>1</td>\n      <td>8</td>\n      <td>-1.0</td>\n      <td>3</td>\n      <td>0.0</td>\n    </tr>\n    <tr>\n      <th>3</th>\n      <td>47</td>\n      <td>1506</td>\n      <td>1.0</td>\n      <td>2</td>\n      <td>5.0</td>\n      <td>0</td>\n      <td>92.0</td>\n      <td>3</td>\n      <td>1</td>\n      <td>3</td>\n      <td>1</td>\n      <td>0</td>\n      <td>1</td>\n      <td>8</td>\n      <td>-1.0</td>\n      <td>3</td>\n      <td>0.0</td>\n    </tr>\n    <tr>\n      <th>4</th>\n      <td>33</td>\n      <td>1</td>\n      <td>1.0</td>\n      <td>2</td>\n      <td>5.0</td>\n      <td>0</td>\n      <td>198.0</td>\n      <td>3</td>\n      <td>0</td>\n      <td>4</td>\n      <td>11</td>\n      <td>0</td>\n      <td>2</td>\n      <td>8</td>\n      <td>-1.0</td>\n      <td>3</td>\n      <td>0.0</td>\n    </tr>\n    <tr>\n      <th>5</th>\n      <td>35</td>\n      <td>231</td>\n      <td>1.0</td>\n      <td>2</td>\n      <td>5.0</td>\n      <td>0</td>\n      <td>139.0</td>\n      <td>2</td>\n      <td>1</td>\n      <td>5</td>\n      <td>4</td>\n      <td>0</td>\n      <td>1</td>\n      <td>8</td>\n      <td>-1.0</td>\n      <td>3</td>\n      <td>0.0</td>\n    </tr>\n    <tr>\n      <th>6</th>\n      <td>28</td>\n      <td>447</td>\n      <td>1.0</td>\n      <td>2</td>\n      <td>5.0</td>\n      <td>0</td>\n      <td>217.0</td>\n      <td>2</td>\n      <td>1</td>\n      <td>6</td>\n      <td>4</td>\n      <td>1</td>\n      <td>2</td>\n      <td>8</td>\n      <td>-1.0</td>\n      <td>3</td>\n      <td>0.0</td>\n    </tr>\n    <tr>\n      <th>7</th>\n      <td>42</td>\n      <td>2</td>\n      <td>1.0</td>\n      <td>2</td>\n      <td>5.0</td>\n      <td>1</td>\n      <td>380.0</td>\n      <td>2</td>\n      <td>1</td>\n      <td>7</td>\n      <td>2</td>\n      <td>0</td>\n      <td>0</td>\n      <td>8</td>\n      <td>-1.0</td>\n      <td>3</td>\n      <td>0.0</td>\n    </tr>\n    <tr>\n      <th>8</th>\n      <td>58</td>\n      <td>121</td>\n      <td>1.0</td>\n      <td>2</td>\n      <td>5.0</td>\n      <td>0</td>\n      <td>50.0</td>\n      <td>0</td>\n      <td>1</td>\n      <td>8</td>\n      <td>5</td>\n      <td>0</td>\n      <td>1</td>\n      <td>8</td>\n      <td>-1.0</td>\n      <td>3</td>\n      <td>0.0</td>\n    </tr>\n    <tr>\n      <th>9</th>\n      <td>43</td>\n      <td>593</td>\n      <td>1.0</td>\n      <td>NaN</td>\n      <td>9.0</td>\n      <td>0</td>\n      <td>15.0</td>\n      <td>1</td>\n      <td>1</td>\n      <td>9</td>\n      <td>9</td>\n      <td>0</td>\n      <td>2</td>\n      <td>NaN</td>\n      <td>NaN</td>\n      <td>NaN</td>\n      <td>NaN</td>\n    </tr>\n    <tr>\n      <th>10</th>\n      <td>41</td>\n      <td>270</td>\n      <td>1.0</td>\n      <td>2</td>\n      <td>5.0</td>\n      <td>0</td>\n      <td>222.0</td>\n      <td>1</td>\n      <td>1</td>\n      <td>10</td>\n      <td>0</td>\n      <td>0</td>\n      <td>0</td>\n      <td>8</td>\n      <td>-1.0</td>\n      <td>3</td>\n      <td>0.0</td>\n    </tr>\n    <tr>\n      <th>11</th>\n      <td>29</td>\n      <td>390</td>\n      <td>1.0</td>\n      <td>2</td>\n      <td>5.0</td>\n      <td>0</td>\n      <td>137.0</td>\n      <td>1</td>\n      <td>1</td>\n      <td>11</td>\n      <td>0</td>\n      <td>0</td>\n      <td>2</td>\n      <td>8</td>\n      <td>-1.0</td>\n      <td>3</td>\n      <td>0.0</td>\n    </tr>\n    <tr>\n      <th>12</th>\n      <td>53</td>\n      <td>6</td>\n      <td>1.0</td>\n      <td>2</td>\n      <td>5.0</td>\n      <td>0</td>\n      <td>517.0</td>\n      <td>1</td>\n      <td>1</td>\n      <td>12</td>\n      <td>9</td>\n      <td>0</td>\n      <td>1</td>\n      <td>8</td>\n      <td>-1.0</td>\n      <td>3</td>\n      <td>0.0</td>\n    </tr>\n    <tr>\n      <th>13</th>\n      <td>58</td>\n      <td>71</td>\n      <td>1.0</td>\n      <td>2</td>\n      <td>5.0</td>\n      <td>0</td>\n      <td>71.0</td>\n      <td>3</td>\n      <td>1</td>\n      <td>13</td>\n      <td>9</td>\n      <td>0</td>\n      <td>1</td>\n      <td>8</td>\n      <td>-1.0</td>\n      <td>3</td>\n      <td>0.0</td>\n    </tr>\n    <tr>\n      <th>14</th>\n      <td>57</td>\n      <td>162</td>\n      <td>2.0</td>\n      <td>NaN</td>\n      <td>20.0</td>\n      <td>0</td>\n      <td>178.0</td>\n      <td>1</td>\n      <td>1</td>\n      <td>14</td>\n      <td>7</td>\n      <td>0</td>\n      <td>1</td>\n      <td>NaN</td>\n      <td>NaN</td>\n      <td>NaN</td>\n      <td>NaN</td>\n    </tr>\n    <tr>\n      <th>15</th>\n      <td>51</td>\n      <td>229</td>\n      <td>1.0</td>\n      <td>2</td>\n      <td>5.0</td>\n      <td>0</td>\n      <td>353.0</td>\n      <td>0</td>\n      <td>1</td>\n      <td>15</td>\n      <td>5</td>\n      <td>0</td>\n      <td>1</td>\n      <td>8</td>\n      <td>-1.0</td>\n      <td>3</td>\n      <td>0.0</td>\n    </tr>\n    <tr>\n      <th>16</th>\n      <td>45</td>\n      <td>13</td>\n      <td>1.0</td>\n      <td>2</td>\n      <td>5.0</td>\n      <td>0</td>\n      <td>98.0</td>\n      <td>3</td>\n      <td>1</td>\n      <td>16</td>\n      <td>0</td>\n      <td>0</td>\n      <td>2</td>\n      <td>8</td>\n      <td>-1.0</td>\n      <td>3</td>\n      <td>0.0</td>\n    </tr>\n    <tr>\n      <th>17</th>\n      <td>57</td>\n      <td>52</td>\n      <td>1.0</td>\n      <td>2</td>\n      <td>5.0</td>\n      <td>0</td>\n      <td>38.0</td>\n      <td>0</td>\n      <td>1</td>\n      <td>17</td>\n      <td>1</td>\n      <td>0</td>\n      <td>1</td>\n      <td>8</td>\n      <td>-1.0</td>\n      <td>3</td>\n      <td>0.0</td>\n    </tr>\n    <tr>\n      <th>18</th>\n      <td>60</td>\n      <td>60</td>\n      <td>2.0</td>\n      <td>NaN</td>\n      <td>13.0</td>\n      <td>0</td>\n      <td>0.0</td>\n      <td>0</td>\n      <td>1</td>\n      <td>18</td>\n      <td>5</td>\n      <td>0</td>\n      <td>1</td>\n      <td>NaN</td>\n      <td>NaN</td>\n      <td>NaN</td>\n      <td>NaN</td>\n    </tr>\n    <tr>\n      <th>19</th>\n      <td>33</td>\n      <td>0</td>\n      <td>2.0</td>\n      <td>NaN</td>\n      <td>10.0</td>\n      <td>0</td>\n      <td>251.0</td>\n      <td>1</td>\n      <td>1</td>\n      <td>19</td>\n      <td>7</td>\n      <td>0</td>\n      <td>1</td>\n      <td>NaN</td>\n      <td>NaN</td>\n      <td>NaN</td>\n      <td>NaN</td>\n    </tr>\n    <tr>\n      <th>20</th>\n      <td>28</td>\n      <td>723</td>\n      <td>1.0</td>\n      <td>2</td>\n      <td>5.0</td>\n      <td>0</td>\n      <td>262.0</td>\n      <td>1</td>\n      <td>1</td>\n      <td>20</td>\n      <td>1</td>\n      <td>1</td>\n      <td>1</td>\n      <td>8</td>\n      <td>-1.0</td>\n      <td>3</td>\n      <td>0.0</td>\n    </tr>\n    <tr>\n      <th>21</th>\n      <td>56</td>\n      <td>779</td>\n      <td>1.0</td>\n      <td>2</td>\n      <td>5.0</td>\n      <td>0</td>\n      <td>164.0</td>\n      <td>2</td>\n      <td>1</td>\n      <td>21</td>\n      <td>4</td>\n      <td>0</td>\n      <td>1</td>\n      <td>8</td>\n      <td>-1.0</td>\n      <td>3</td>\n      <td>0.0</td>\n    </tr>\n    <tr>\n      <th>22</th>\n      <td>32</td>\n      <td>23</td>\n      <td>1.0</td>\n      <td>2</td>\n      <td>5.0</td>\n      <td>0</td>\n      <td>160.0</td>\n      <td>0</td>\n      <td>1</td>\n      <td>22</td>\n      <td>1</td>\n      <td>1</td>\n      <td>2</td>\n      <td>8</td>\n      <td>-1.0</td>\n      <td>3</td>\n      <td>0.0</td>\n    </tr>\n    <tr>\n      <th>23</th>\n      <td>25</td>\n      <td>50</td>\n      <td>1.0</td>\n      <td>2</td>\n      <td>5.0</td>\n      <td>0</td>\n      <td>342.0</td>\n      <td>1</td>\n      <td>1</td>\n      <td>23</td>\n      <td>7</td>\n      <td>0</td>\n      <td>1</td>\n      <td>8</td>\n      <td>-1.0</td>\n      <td>3</td>\n      <td>0.0</td>\n    </tr>\n    <tr>\n      <th>24</th>\n      <td>40</td>\n      <td>0</td>\n      <td>1.0</td>\n      <td>2</td>\n      <td>5.0</td>\n      <td>0</td>\n      <td>181.0</td>\n      <td>0</td>\n      <td>1</td>\n      <td>24</td>\n      <td>5</td>\n      <td>1</td>\n      <td>1</td>\n      <td>8</td>\n      <td>-1.0</td>\n      <td>3</td>\n      <td>0.0</td>\n    </tr>\n    <tr>\n      <th>25</th>\n      <td>44</td>\n      <td>-372</td>\n      <td>1.0</td>\n      <td>2</td>\n      <td>5.0</td>\n      <td>0</td>\n      <td>172.0</td>\n      <td>1</td>\n      <td>1</td>\n      <td>25</td>\n      <td>0</td>\n      <td>0</td>\n      <td>1</td>\n      <td>8</td>\n      <td>-1.0</td>\n      <td>3</td>\n      <td>0.0</td>\n    </tr>\n    <tr>\n      <th>26</th>\n      <td>39</td>\n      <td>255</td>\n      <td>1.0</td>\n      <td>NaN</td>\n      <td>10.0</td>\n      <td>0</td>\n      <td>301.0</td>\n      <td>2</td>\n      <td>1</td>\n      <td>26</td>\n      <td>4</td>\n      <td>0</td>\n      <td>2</td>\n      <td>NaN</td>\n      <td>NaN</td>\n      <td>NaN</td>\n      <td>NaN</td>\n    </tr>\n    <tr>\n      <th>27</th>\n      <td>52</td>\n      <td>113</td>\n      <td>1.0</td>\n      <td>2</td>\n      <td>5.0</td>\n      <td>0</td>\n      <td>127.0</td>\n      <td>1</td>\n      <td>1</td>\n      <td>27</td>\n      <td>2</td>\n      <td>1</td>\n      <td>1</td>\n      <td>8</td>\n      <td>-1.0</td>\n      <td>3</td>\n      <td>0.0</td>\n    </tr>\n    <tr>\n      <th>28</th>\n      <td>46</td>\n      <td>-246</td>\n      <td>2.0</td>\n      <td>2</td>\n      <td>5.0</td>\n      <td>0</td>\n      <td>255.0</td>\n      <td>1</td>\n      <td>1</td>\n      <td>28</td>\n      <td>4</td>\n      <td>0</td>\n      <td>2</td>\n      <td>8</td>\n      <td>-1.0</td>\n      <td>3</td>\n      <td>0.0</td>\n    </tr>\n    <tr>\n      <th>29</th>\n      <td>36</td>\n      <td>265</td>\n      <td>2.0</td>\n      <td>NaN</td>\n      <td>16.0</td>\n      <td>0</td>\n      <td>361.0</td>\n      <td>1</td>\n      <td>1</td>\n      <td>29</td>\n      <td>9</td>\n      <td>1</td>\n      <td>2</td>\n      <td>NaN</td>\n      <td>NaN</td>\n      <td>NaN</td>\n      <td>NaN</td>\n    </tr>\n    <tr>\n      <th>30</th>\n      <td>57</td>\n      <td>839</td>\n      <td>1.0</td>\n      <td>2</td>\n      <td>5.0</td>\n      <td>0</td>\n      <td>225.0</td>\n      <td>1</td>\n      <td>0</td>\n      <td>30</td>\n      <td>9</td>\n      <td>1</td>\n      <td>1</td>\n      <td>8</td>\n      <td>-1.0</td>\n      <td>3</td>\n      <td>0.0</td>\n    </tr>\n    <tr>\n      <th>31</th>\n      <td>49</td>\n      <td>378</td>\n      <td>1.0</td>\n      <td>2</td>\n      <td>5.0</td>\n      <td>0</td>\n      <td>230.0</td>\n      <td>2</td>\n      <td>1</td>\n      <td>31</td>\n      <td>4</td>\n      <td>0</td>\n      <td>1</td>\n      <td>8</td>\n      <td>-1.0</td>\n      <td>3</td>\n      <td>0.0</td>\n    </tr>\n    <tr>\n      <th>32</th>\n      <td>60</td>\n      <td>39</td>\n      <td>1.0</td>\n      <td>2</td>\n      <td>5.0</td>\n      <td>0</td>\n      <td>208.0</td>\n      <td>1</td>\n      <td>1</td>\n      <td>32</td>\n      <td>0</td>\n      <td>1</td>\n      <td>1</td>\n      <td>8</td>\n      <td>-1.0</td>\n      <td>3</td>\n      <td>0.0</td>\n    </tr>\n    <tr>\n      <th>33</th>\n      <td>59</td>\n      <td>0</td>\n      <td>1.0</td>\n      <td>2</td>\n      <td>5.0</td>\n      <td>0</td>\n      <td>226.0</td>\n      <td>1</td>\n      <td>1</td>\n      <td>33</td>\n      <td>1</td>\n      <td>0</td>\n      <td>1</td>\n      <td>8</td>\n      <td>-1.0</td>\n      <td>3</td>\n      <td>0.0</td>\n    </tr>\n    <tr>\n      <th>34</th>\n      <td>51</td>\n      <td>10635</td>\n      <td>1.0</td>\n      <td>2</td>\n      <td>5.0</td>\n      <td>0</td>\n      <td>336.0</td>\n      <td>2</td>\n      <td>1</td>\n      <td>34</td>\n      <td>4</td>\n      <td>0</td>\n      <td>1</td>\n      <td>8</td>\n      <td>-1.0</td>\n      <td>3</td>\n      <td>0.0</td>\n    </tr>\n    <tr>\n      <th>35</th>\n      <td>57</td>\n      <td>63</td>\n      <td>1.0</td>\n      <td>2</td>\n      <td>5.0</td>\n      <td>0</td>\n      <td>242.0</td>\n      <td>1</td>\n      <td>1</td>\n      <td>35</td>\n      <td>9</td>\n      <td>0</td>\n      <td>0</td>\n      <td>8</td>\n      <td>-1.0</td>\n      <td>3</td>\n      <td>0.0</td>\n    </tr>\n    <tr>\n      <th>36</th>\n      <td>25</td>\n      <td>-7</td>\n      <td>1.0</td>\n      <td>2</td>\n      <td>5.0</td>\n      <td>0</td>\n      <td>365.0</td>\n      <td>1</td>\n      <td>1</td>\n      <td>36</td>\n      <td>1</td>\n      <td>0</td>\n      <td>1</td>\n      <td>8</td>\n      <td>-1.0</td>\n      <td>3</td>\n      <td>0.0</td>\n    </tr>\n    <tr>\n      <th>37</th>\n      <td>53</td>\n      <td>-3</td>\n      <td>1.0</td>\n      <td>2</td>\n      <td>5.0</td>\n      <td>0</td>\n      <td>1666.0</td>\n      <td>1</td>\n      <td>0</td>\n      <td>37</td>\n      <td>9</td>\n      <td>0</td>\n      <td>1</td>\n      <td>8</td>\n      <td>-1.0</td>\n      <td>3</td>\n      <td>0.0</td>\n    </tr>\n    <tr>\n      <th>38</th>\n      <td>36</td>\n      <td>506</td>\n      <td>1.0</td>\n      <td>2</td>\n      <td>5.0</td>\n      <td>0</td>\n      <td>577.0</td>\n      <td>1</td>\n      <td>1</td>\n      <td>38</td>\n      <td>0</td>\n      <td>0</td>\n      <td>0</td>\n      <td>8</td>\n      <td>-1.0</td>\n      <td>3</td>\n      <td>0.0</td>\n    </tr>\n    <tr>\n      <th>39</th>\n      <td>37</td>\n      <td>0</td>\n      <td>1.0</td>\n      <td>2</td>\n      <td>5.0</td>\n      <td>0</td>\n      <td>137.0</td>\n      <td>1</td>\n      <td>1</td>\n      <td>39</td>\n      <td>0</td>\n      <td>0</td>\n      <td>2</td>\n      <td>8</td>\n      <td>-1.0</td>\n      <td>3</td>\n      <td>0.0</td>\n    </tr>\n    <tr>\n      <th>40</th>\n      <td>44</td>\n      <td>2586</td>\n      <td>1.0</td>\n      <td>2</td>\n      <td>5.0</td>\n      <td>0</td>\n      <td>160.0</td>\n      <td>1</td>\n      <td>1</td>\n      <td>40</td>\n      <td>7</td>\n      <td>0</td>\n      <td>0</td>\n      <td>8</td>\n      <td>-1.0</td>\n      <td>3</td>\n      <td>0.0</td>\n    </tr>\n    <tr>\n      <th>41</th>\n      <td>50</td>\n      <td>49</td>\n      <td>2.0</td>\n      <td>2</td>\n      <td>5.0</td>\n      <td>0</td>\n      <td>180.0</td>\n      <td>1</td>\n      <td>1</td>\n      <td>41</td>\n      <td>4</td>\n      <td>0</td>\n      <td>1</td>\n      <td>8</td>\n      <td>-1.0</td>\n      <td>3</td>\n      <td>0.0</td>\n    </tr>\n    <tr>\n      <th>42</th>\n      <td>60</td>\n      <td>104</td>\n      <td>1.0</td>\n      <td>2</td>\n      <td>5.0</td>\n      <td>0</td>\n      <td>22.0</td>\n      <td>3</td>\n      <td>1</td>\n      <td>42</td>\n      <td>1</td>\n      <td>0</td>\n      <td>1</td>\n      <td>8</td>\n      <td>-1.0</td>\n      <td>3</td>\n      <td>0.0</td>\n    </tr>\n    <tr>\n      <th>43</th>\n      <td>54</td>\n      <td>529</td>\n      <td>1.0</td>\n      <td>NaN</td>\n      <td>19.0</td>\n      <td>0</td>\n      <td>173.0</td>\n      <td>1</td>\n      <td>1</td>\n      <td>43</td>\n      <td>5</td>\n      <td>0</td>\n      <td>1</td>\n      <td>NaN</td>\n      <td>NaN</td>\n      <td>NaN</td>\n      <td>NaN</td>\n    </tr>\n    <tr>\n      <th>44</th>\n      <td>58</td>\n      <td>96</td>\n      <td>1.0</td>\n      <td>2</td>\n      <td>5.0</td>\n      <td>0</td>\n      <td>616.0</td>\n      <td>3</td>\n      <td>1</td>\n      <td>44</td>\n      <td>5</td>\n      <td>0</td>\n      <td>1</td>\n      <td>8</td>\n      <td>-1.0</td>\n      <td>3</td>\n      <td>0.0</td>\n    </tr>\n    <tr>\n      <th>45</th>\n      <td>36</td>\n      <td>-171</td>\n      <td>1.0</td>\n      <td>2</td>\n      <td>5.0</td>\n      <td>0</td>\n      <td>242.0</td>\n      <td>0</td>\n      <td>1</td>\n      <td>45</td>\n      <td>0</td>\n      <td>0</td>\n      <td>2</td>\n      <td>8</td>\n      <td>-1.0</td>\n      <td>3</td>\n      <td>0.0</td>\n    </tr>\n    <tr>\n      <th>46</th>\n      <td>58</td>\n      <td>-364</td>\n      <td>1.0</td>\n      <td>2</td>\n      <td>5.0</td>\n      <td>0</td>\n      <td>355.0</td>\n      <td>2</td>\n      <td>1</td>\n      <td>46</td>\n      <td>6</td>\n      <td>0</td>\n      <td>1</td>\n      <td>8</td>\n      <td>-1.0</td>\n      <td>3</td>\n      <td>0.0</td>\n    </tr>\n    <tr>\n      <th>47</th>\n      <td>44</td>\n      <td>0</td>\n      <td>2.0</td>\n      <td>2</td>\n      <td>5.0</td>\n      <td>0</td>\n      <td>225.0</td>\n      <td>1</td>\n      <td>1</td>\n      <td>47</td>\n      <td>9</td>\n      <td>0</td>\n      <td>1</td>\n      <td>8</td>\n      <td>-1.0</td>\n      <td>3</td>\n      <td>0.0</td>\n    </tr>\n    <tr>\n      <th>48</th>\n      <td>55</td>\n      <td>0</td>\n      <td>1.0</td>\n      <td>2</td>\n      <td>5.0</td>\n      <td>0</td>\n      <td>160.0</td>\n      <td>1</td>\n      <td>0</td>\n      <td>48</td>\n      <td>9</td>\n      <td>0</td>\n      <td>0</td>\n      <td>8</td>\n      <td>-1.0</td>\n      <td>3</td>\n      <td>0.0</td>\n    </tr>\n    <tr>\n      <th>49</th>\n      <td>29</td>\n      <td>0</td>\n      <td>1.0</td>\n      <td>2</td>\n      <td>5.0</td>\n      <td>0</td>\n      <td>363.0</td>\n      <td>2</td>\n      <td>1</td>\n      <td>49</td>\n      <td>4</td>\n      <td>0</td>\n      <td>2</td>\n      <td>8</td>\n      <td>-1.0</td>\n      <td>3</td>\n      <td>0.0</td>\n    </tr>\n  </tbody>\n</table>\n</div>"
     },
     "execution_count": 14,
     "metadata": {},
     "output_type": "execute_result"
    }
   ],
   "source": [
    "from sklearn.preprocessing import LabelEncoder\n",
    "# 创建一个标签编码器\n",
    "le = LabelEncoder()\n",
    "# 对每一列进行检查\n",
    "for col in aligned_df_new_encode.columns:\n",
    "    # 如果该列是object类型（通常意味着它是分类的），则进行标签编码\n",
    "    if aligned_df_new_encode[col].dtype == 'object':\n",
    "        # 若该列有NaN值，将NaN值转换为“NaN”字符串\n",
    "        # if aligned_df_new_encode[col].isnull().any():\n",
    "        #    aligned_df_new_encode[col]=aligned_df_new_encode.fillna('NaN')\n",
    "         # 保存原始的NaN值位置\n",
    "        nan_idx=aligned_df_new_encode[col].isnull()\n",
    "        # 进行特征编码，并不对nan值进行编码\n",
    "        aligned_df_new_encode.loc[~nan_idx,col] =le.fit_transform(aligned_df_new_encode.loc[~nan_idx,col])\n",
    "        #aligned_df_new_encode[col] =le.fit_transform(aligned_df_new_encode[col])\n",
    "        # 将“NaN”字符串对应的编码再次转换回NaN\n",
    "        # aligned_df_new_encode[col]=aligned_df_new_encode[col].replace(le.transform(['NaN'])[0], np.nan)\n",
    "print(aligned_df_new_encode.shape)\n",
    "aligned_df_new_encode.head(50)"
   ],
   "metadata": {
    "collapsed": false,
    "pycharm": {
     "name": "#%%\n"
    }
   }
  },
  {
   "cell_type": "code",
   "execution_count": 15,
   "outputs": [
    {
     "name": "stdout",
     "output_type": "stream",
     "text": [
      "age            int64\n",
      "balance        int64\n",
      "campaign     float64\n",
      "contact      float64\n",
      "day          float64\n",
      "default        int64\n",
      "duration     float64\n",
      "education      int64\n",
      "housing        int64\n",
      "index          int64\n",
      "job            int64\n",
      "loan           int64\n",
      "marital        int64\n",
      "month        float64\n",
      "pdays        float64\n",
      "poutcome     float64\n",
      "previous     float64\n",
      "dtype: object\n"
     ]
    }
   ],
   "source": [
    "# 使用  填充 NaN\n",
    "aligned_df_new_encode= aligned_df_new_encode.fillna(-9999.999)\n",
    "# 再转换回Nan\n",
    "aligned_df_new_encode[aligned_df_new_encode == -9999.999] = np.nan\n",
    "print(aligned_df_new_encode.dtypes)"
   ],
   "metadata": {
    "collapsed": false,
    "pycharm": {
     "name": "#%%\n"
    }
   }
  },
  {
   "cell_type": "markdown",
   "source": [
    "# 获得原始数据集并对其进行相同编码"
   ],
   "metadata": {
    "collapsed": false
   }
  },
  {
   "cell_type": "code",
   "execution_count": 16,
   "outputs": [
    {
     "name": "stdout",
     "output_type": "stream",
     "text": [
      "(45211, 17)\n"
     ]
    },
    {
     "data": {
      "text/plain": "   age           job   marital  education default  balance housing loan  \\\n0   58    management   married   tertiary      no     2143     yes   no   \n1   44    technician    single  secondary      no       29     yes   no   \n2   33  entrepreneur   married  secondary      no        2     yes  yes   \n3   47   blue-collar   married    unknown      no     1506     yes   no   \n4   33       unknown    single    unknown      no        1      no   no   \n5   35    management   married   tertiary      no      231     yes   no   \n6   28    management    single   tertiary      no      447     yes  yes   \n7   42  entrepreneur  divorced   tertiary     yes        2     yes   no   \n8   58       retired   married    primary      no      121     yes   no   \n9   43    technician    single  secondary      no      593     yes   no   \n\n   contact  day month  duration  campaign  pdays  previous poutcome  index  \n0  unknown    5   may       261         1     -1         0  unknown      0  \n1  unknown    5   may       151         1     -1         0  unknown      1  \n2  unknown    5   may        76         1     -1         0  unknown      2  \n3  unknown    5   may        92         1     -1         0  unknown      3  \n4  unknown    5   may       198         1     -1         0  unknown      4  \n5  unknown    5   may       139         1     -1         0  unknown      5  \n6  unknown    5   may       217         1     -1         0  unknown      6  \n7  unknown    5   may       380         1     -1         0  unknown      7  \n8  unknown    5   may        50         1     -1         0  unknown      8  \n9  unknown    5   may        55         1     -1         0  unknown      9  ",
      "text/html": "<div>\n<style scoped>\n    .dataframe tbody tr th:only-of-type {\n        vertical-align: middle;\n    }\n\n    .dataframe tbody tr th {\n        vertical-align: top;\n    }\n\n    .dataframe thead th {\n        text-align: right;\n    }\n</style>\n<table border=\"1\" class=\"dataframe\">\n  <thead>\n    <tr style=\"text-align: right;\">\n      <th></th>\n      <th>age</th>\n      <th>job</th>\n      <th>marital</th>\n      <th>education</th>\n      <th>default</th>\n      <th>balance</th>\n      <th>housing</th>\n      <th>loan</th>\n      <th>contact</th>\n      <th>day</th>\n      <th>month</th>\n      <th>duration</th>\n      <th>campaign</th>\n      <th>pdays</th>\n      <th>previous</th>\n      <th>poutcome</th>\n      <th>index</th>\n    </tr>\n  </thead>\n  <tbody>\n    <tr>\n      <th>0</th>\n      <td>58</td>\n      <td>management</td>\n      <td>married</td>\n      <td>tertiary</td>\n      <td>no</td>\n      <td>2143</td>\n      <td>yes</td>\n      <td>no</td>\n      <td>unknown</td>\n      <td>5</td>\n      <td>may</td>\n      <td>261</td>\n      <td>1</td>\n      <td>-1</td>\n      <td>0</td>\n      <td>unknown</td>\n      <td>0</td>\n    </tr>\n    <tr>\n      <th>1</th>\n      <td>44</td>\n      <td>technician</td>\n      <td>single</td>\n      <td>secondary</td>\n      <td>no</td>\n      <td>29</td>\n      <td>yes</td>\n      <td>no</td>\n      <td>unknown</td>\n      <td>5</td>\n      <td>may</td>\n      <td>151</td>\n      <td>1</td>\n      <td>-1</td>\n      <td>0</td>\n      <td>unknown</td>\n      <td>1</td>\n    </tr>\n    <tr>\n      <th>2</th>\n      <td>33</td>\n      <td>entrepreneur</td>\n      <td>married</td>\n      <td>secondary</td>\n      <td>no</td>\n      <td>2</td>\n      <td>yes</td>\n      <td>yes</td>\n      <td>unknown</td>\n      <td>5</td>\n      <td>may</td>\n      <td>76</td>\n      <td>1</td>\n      <td>-1</td>\n      <td>0</td>\n      <td>unknown</td>\n      <td>2</td>\n    </tr>\n    <tr>\n      <th>3</th>\n      <td>47</td>\n      <td>blue-collar</td>\n      <td>married</td>\n      <td>unknown</td>\n      <td>no</td>\n      <td>1506</td>\n      <td>yes</td>\n      <td>no</td>\n      <td>unknown</td>\n      <td>5</td>\n      <td>may</td>\n      <td>92</td>\n      <td>1</td>\n      <td>-1</td>\n      <td>0</td>\n      <td>unknown</td>\n      <td>3</td>\n    </tr>\n    <tr>\n      <th>4</th>\n      <td>33</td>\n      <td>unknown</td>\n      <td>single</td>\n      <td>unknown</td>\n      <td>no</td>\n      <td>1</td>\n      <td>no</td>\n      <td>no</td>\n      <td>unknown</td>\n      <td>5</td>\n      <td>may</td>\n      <td>198</td>\n      <td>1</td>\n      <td>-1</td>\n      <td>0</td>\n      <td>unknown</td>\n      <td>4</td>\n    </tr>\n    <tr>\n      <th>5</th>\n      <td>35</td>\n      <td>management</td>\n      <td>married</td>\n      <td>tertiary</td>\n      <td>no</td>\n      <td>231</td>\n      <td>yes</td>\n      <td>no</td>\n      <td>unknown</td>\n      <td>5</td>\n      <td>may</td>\n      <td>139</td>\n      <td>1</td>\n      <td>-1</td>\n      <td>0</td>\n      <td>unknown</td>\n      <td>5</td>\n    </tr>\n    <tr>\n      <th>6</th>\n      <td>28</td>\n      <td>management</td>\n      <td>single</td>\n      <td>tertiary</td>\n      <td>no</td>\n      <td>447</td>\n      <td>yes</td>\n      <td>yes</td>\n      <td>unknown</td>\n      <td>5</td>\n      <td>may</td>\n      <td>217</td>\n      <td>1</td>\n      <td>-1</td>\n      <td>0</td>\n      <td>unknown</td>\n      <td>6</td>\n    </tr>\n    <tr>\n      <th>7</th>\n      <td>42</td>\n      <td>entrepreneur</td>\n      <td>divorced</td>\n      <td>tertiary</td>\n      <td>yes</td>\n      <td>2</td>\n      <td>yes</td>\n      <td>no</td>\n      <td>unknown</td>\n      <td>5</td>\n      <td>may</td>\n      <td>380</td>\n      <td>1</td>\n      <td>-1</td>\n      <td>0</td>\n      <td>unknown</td>\n      <td>7</td>\n    </tr>\n    <tr>\n      <th>8</th>\n      <td>58</td>\n      <td>retired</td>\n      <td>married</td>\n      <td>primary</td>\n      <td>no</td>\n      <td>121</td>\n      <td>yes</td>\n      <td>no</td>\n      <td>unknown</td>\n      <td>5</td>\n      <td>may</td>\n      <td>50</td>\n      <td>1</td>\n      <td>-1</td>\n      <td>0</td>\n      <td>unknown</td>\n      <td>8</td>\n    </tr>\n    <tr>\n      <th>9</th>\n      <td>43</td>\n      <td>technician</td>\n      <td>single</td>\n      <td>secondary</td>\n      <td>no</td>\n      <td>593</td>\n      <td>yes</td>\n      <td>no</td>\n      <td>unknown</td>\n      <td>5</td>\n      <td>may</td>\n      <td>55</td>\n      <td>1</td>\n      <td>-1</td>\n      <td>0</td>\n      <td>unknown</td>\n      <td>9</td>\n    </tr>\n  </tbody>\n</table>\n</div>"
     },
     "execution_count": 16,
     "metadata": {},
     "output_type": "execute_result"
    }
   ],
   "source": [
    "# 假设bank_data是原始数据集\n",
    "bank_data = pd.read_csv('datasets/bank.csv',sep=';')\n",
    "bank_data['index']=range(0,len(bank_data))\n",
    "bank_data=bank_data.drop('y',axis=1)\n",
    "print(bank_data.shape)\n",
    "bank_data.head(10)"
   ],
   "metadata": {
    "collapsed": false,
    "pycharm": {
     "name": "#%%\n"
    }
   }
  },
  {
   "cell_type": "code",
   "execution_count": 17,
   "outputs": [
    {
     "data": {
      "text/plain": "   age  job  marital  education  default  balance  housing  loan  contact  \\\n0   58    4        1          2        0     2143        1     0        2   \n1   44    9        2          1        0       29        1     0        2   \n2   33    2        1          1        0        2        1     1        2   \n3   47    1        1          3        0     1506        1     0        2   \n4   33   11        2          3        0        1        0     0        2   \n5   35    4        1          2        0      231        1     0        2   \n6   28    4        2          2        0      447        1     1        2   \n7   42    2        0          2        1        2        1     0        2   \n8   58    5        1          0        0      121        1     0        2   \n9   43    9        2          1        0      593        1     0        2   \n\n   day  month  duration  campaign  pdays  previous  poutcome  index  \n0    5      8       261         1     -1         0         3      0  \n1    5      8       151         1     -1         0         3      1  \n2    5      8        76         1     -1         0         3      2  \n3    5      8        92         1     -1         0         3      3  \n4    5      8       198         1     -1         0         3      4  \n5    5      8       139         1     -1         0         3      5  \n6    5      8       217         1     -1         0         3      6  \n7    5      8       380         1     -1         0         3      7  \n8    5      8        50         1     -1         0         3      8  \n9    5      8        55         1     -1         0         3      9  ",
      "text/html": "<div>\n<style scoped>\n    .dataframe tbody tr th:only-of-type {\n        vertical-align: middle;\n    }\n\n    .dataframe tbody tr th {\n        vertical-align: top;\n    }\n\n    .dataframe thead th {\n        text-align: right;\n    }\n</style>\n<table border=\"1\" class=\"dataframe\">\n  <thead>\n    <tr style=\"text-align: right;\">\n      <th></th>\n      <th>age</th>\n      <th>job</th>\n      <th>marital</th>\n      <th>education</th>\n      <th>default</th>\n      <th>balance</th>\n      <th>housing</th>\n      <th>loan</th>\n      <th>contact</th>\n      <th>day</th>\n      <th>month</th>\n      <th>duration</th>\n      <th>campaign</th>\n      <th>pdays</th>\n      <th>previous</th>\n      <th>poutcome</th>\n      <th>index</th>\n    </tr>\n  </thead>\n  <tbody>\n    <tr>\n      <th>0</th>\n      <td>58</td>\n      <td>4</td>\n      <td>1</td>\n      <td>2</td>\n      <td>0</td>\n      <td>2143</td>\n      <td>1</td>\n      <td>0</td>\n      <td>2</td>\n      <td>5</td>\n      <td>8</td>\n      <td>261</td>\n      <td>1</td>\n      <td>-1</td>\n      <td>0</td>\n      <td>3</td>\n      <td>0</td>\n    </tr>\n    <tr>\n      <th>1</th>\n      <td>44</td>\n      <td>9</td>\n      <td>2</td>\n      <td>1</td>\n      <td>0</td>\n      <td>29</td>\n      <td>1</td>\n      <td>0</td>\n      <td>2</td>\n      <td>5</td>\n      <td>8</td>\n      <td>151</td>\n      <td>1</td>\n      <td>-1</td>\n      <td>0</td>\n      <td>3</td>\n      <td>1</td>\n    </tr>\n    <tr>\n      <th>2</th>\n      <td>33</td>\n      <td>2</td>\n      <td>1</td>\n      <td>1</td>\n      <td>0</td>\n      <td>2</td>\n      <td>1</td>\n      <td>1</td>\n      <td>2</td>\n      <td>5</td>\n      <td>8</td>\n      <td>76</td>\n      <td>1</td>\n      <td>-1</td>\n      <td>0</td>\n      <td>3</td>\n      <td>2</td>\n    </tr>\n    <tr>\n      <th>3</th>\n      <td>47</td>\n      <td>1</td>\n      <td>1</td>\n      <td>3</td>\n      <td>0</td>\n      <td>1506</td>\n      <td>1</td>\n      <td>0</td>\n      <td>2</td>\n      <td>5</td>\n      <td>8</td>\n      <td>92</td>\n      <td>1</td>\n      <td>-1</td>\n      <td>0</td>\n      <td>3</td>\n      <td>3</td>\n    </tr>\n    <tr>\n      <th>4</th>\n      <td>33</td>\n      <td>11</td>\n      <td>2</td>\n      <td>3</td>\n      <td>0</td>\n      <td>1</td>\n      <td>0</td>\n      <td>0</td>\n      <td>2</td>\n      <td>5</td>\n      <td>8</td>\n      <td>198</td>\n      <td>1</td>\n      <td>-1</td>\n      <td>0</td>\n      <td>3</td>\n      <td>4</td>\n    </tr>\n    <tr>\n      <th>5</th>\n      <td>35</td>\n      <td>4</td>\n      <td>1</td>\n      <td>2</td>\n      <td>0</td>\n      <td>231</td>\n      <td>1</td>\n      <td>0</td>\n      <td>2</td>\n      <td>5</td>\n      <td>8</td>\n      <td>139</td>\n      <td>1</td>\n      <td>-1</td>\n      <td>0</td>\n      <td>3</td>\n      <td>5</td>\n    </tr>\n    <tr>\n      <th>6</th>\n      <td>28</td>\n      <td>4</td>\n      <td>2</td>\n      <td>2</td>\n      <td>0</td>\n      <td>447</td>\n      <td>1</td>\n      <td>1</td>\n      <td>2</td>\n      <td>5</td>\n      <td>8</td>\n      <td>217</td>\n      <td>1</td>\n      <td>-1</td>\n      <td>0</td>\n      <td>3</td>\n      <td>6</td>\n    </tr>\n    <tr>\n      <th>7</th>\n      <td>42</td>\n      <td>2</td>\n      <td>0</td>\n      <td>2</td>\n      <td>1</td>\n      <td>2</td>\n      <td>1</td>\n      <td>0</td>\n      <td>2</td>\n      <td>5</td>\n      <td>8</td>\n      <td>380</td>\n      <td>1</td>\n      <td>-1</td>\n      <td>0</td>\n      <td>3</td>\n      <td>7</td>\n    </tr>\n    <tr>\n      <th>8</th>\n      <td>58</td>\n      <td>5</td>\n      <td>1</td>\n      <td>0</td>\n      <td>0</td>\n      <td>121</td>\n      <td>1</td>\n      <td>0</td>\n      <td>2</td>\n      <td>5</td>\n      <td>8</td>\n      <td>50</td>\n      <td>1</td>\n      <td>-1</td>\n      <td>0</td>\n      <td>3</td>\n      <td>8</td>\n    </tr>\n    <tr>\n      <th>9</th>\n      <td>43</td>\n      <td>9</td>\n      <td>2</td>\n      <td>1</td>\n      <td>0</td>\n      <td>593</td>\n      <td>1</td>\n      <td>0</td>\n      <td>2</td>\n      <td>5</td>\n      <td>8</td>\n      <td>55</td>\n      <td>1</td>\n      <td>-1</td>\n      <td>0</td>\n      <td>3</td>\n      <td>9</td>\n    </tr>\n  </tbody>\n</table>\n</div>"
     },
     "execution_count": 17,
     "metadata": {},
     "output_type": "execute_result"
    }
   ],
   "source": [
    "bank_data_encode=bank_data.copy()\n",
    "# 对每一列进行检查\n",
    "for col in bank_data_encode.columns:\n",
    "    # 如果该列是object类型（通常意味着它是分类的），则进行标签编码\n",
    "    if bank_data_encode[col].dtype == 'object':\n",
    "\n",
    "        bank_data_encode[col] =le.fit_transform(bank_data_encode[col])\n",
    "bank_data_encode.head(10)"
   ],
   "metadata": {
    "collapsed": false,
    "pycharm": {
     "name": "#%%\n"
    }
   }
  },
  {
   "cell_type": "code",
   "execution_count": 18,
   "outputs": [],
   "source": [
    "# 将bank_data_encode数据集的列的顺序调整到和aligned_df_new_encode列的顺序一样\n",
    "bank_data_encode = bank_data_encode.reindex(columns=aligned_df_new_encode.columns)"
   ],
   "metadata": {
    "collapsed": false,
    "pycharm": {
     "name": "#%%\n"
    }
   }
  },
  {
   "cell_type": "markdown",
   "source": [
    "# 获得B方数据集的掩码矩阵"
   ],
   "metadata": {
    "collapsed": false
   }
  },
  {
   "cell_type": "code",
   "execution_count": 19,
   "outputs": [
    {
     "data": {
      "text/plain": "array([[1, 1, 1, ..., 1, 1, 1],\n       [1, 1, 1, ..., 1, 1, 1],\n       [1, 1, 1, ..., 1, 1, 1],\n       ...,\n       [1, 1, 1, ..., 1, 1, 1],\n       [1, 1, 1, ..., 1, 1, 1],\n       [1, 1, 1, ..., 1, 1, 1]])"
     },
     "execution_count": 19,
     "metadata": {},
     "output_type": "execute_result"
    }
   ],
   "source": [
    "data_m = 1 - np.isnan(aligned_df_new_encode.values)  # 创建掩模矩阵，标记缺失值位置\n",
    "data_m"
   ],
   "metadata": {
    "collapsed": false,
    "pycharm": {
     "name": "#%%\n"
    }
   }
  },
  {
   "cell_type": "markdown",
   "source": [
    "# 填补"
   ],
   "metadata": {
    "collapsed": false
   }
  },
  {
   "cell_type": "code",
   "execution_count": 20,
   "outputs": [
    {
     "name": "stdout",
     "output_type": "stream",
     "text": [
      "WARNING:tensorflow:From C:\\Users\\Lenovo\\AppData\\Roaming\\Python\\Python310\\site-packages\\tensorflow\\python\\compat\\v2_compat.py:107: disable_resource_variables (from tensorflow.python.ops.variable_scope) is deprecated and will be removed in a future version.\n",
      "Instructions for updating:\n",
      "non-resource variables are not supported in the long term\n"
     ]
    },
    {
     "name": "stderr",
     "output_type": "stream",
     "text": [
      "100%|██████████| 10000/10000 [00:19<00:00, 522.99it/s]\n"
     ]
    }
   ],
   "source": [
    "gain_parameters = {'batch_size': 64,\n",
    "                   'hint_rate': 0.9,\n",
    "                   'alpha': 100,\n",
    "                   'iterations': 10000}\n",
    "from method.gain import gain\n",
    "# 填补缺失数据\n",
    "# 这里传入的不完整数据集需要是numarry类型，不能是DataForm类型\n",
    "imputed_data_x = gain(aligned_df_new_encode.values, gain_parameters)\n",
    "# 返回的imputed_data_x是num类型"
   ],
   "metadata": {
    "collapsed": false,
    "pycharm": {
     "name": "#%%\n"
    }
   }
  },
  {
   "cell_type": "code",
   "execution_count": 21,
   "outputs": [],
   "source": [
    "# 将原始数据集改为和填补数据集一样的类型\n",
    "bank_data_encode=bank_data_encode.astype(float)"
   ],
   "metadata": {
    "collapsed": false,
    "pycharm": {
     "name": "#%%\n"
    }
   }
  },
  {
   "cell_type": "markdown",
   "source": [
    "# 结果分析"
   ],
   "metadata": {
    "collapsed": false
   }
  },
  {
   "cell_type": "code",
   "execution_count": 22,
   "outputs": [
    {
     "name": "stdout",
     "output_type": "stream",
     "text": [
      "RMSE（均方误差）为: 0.5045\n"
     ]
    }
   ],
   "source": [
    "from VF.util.utils import rmse_loss\n",
    "# 计算均方误差\n",
    "rmse = rmse_loss(bank_data_encode.values, imputed_data_x, data_m)\n",
    "rmse_spam=str(np.round(rmse, 4))\n",
    "print('RMSE（均方误差）为: ' + rmse_spam)"
   ],
   "metadata": {
    "collapsed": false,
    "pycharm": {
     "name": "#%%\n"
    }
   }
  },
  {
   "cell_type": "code",
   "execution_count": 23,
   "outputs": [],
   "source": [
    "imputed_data_x=pd.DataFrame(imputed_data_x)\n",
    "# 假设df1和df2是你的两个数据集，你想让df2的列名和df1的一样\n",
    "# 首先，获取df1的列名\n",
    "columns_df1 = bank_data_encode.columns\n",
    "# 然后，获取df2的列名\n",
    "columns_df2 = imputed_data_x.columns\n",
    "# 创建一个字典，其中键是df2的列名，值是df1的列名\n",
    "rename_dict = {old: new for old, new in zip(columns_df2, columns_df1)}\n",
    "# 使用rename函数修改df2的列名\n",
    "imputed_data_x.rename(columns=rename_dict, inplace=True)"
   ],
   "metadata": {
    "collapsed": false,
    "pycharm": {
     "name": "#%%\n"
    }
   }
  },
  {
   "cell_type": "code",
   "execution_count": 24,
   "outputs": [
    {
     "name": "stdout",
     "output_type": "stream",
     "text": [
      "(45211, 18)\n",
      "(45211, 18)\n"
     ]
    }
   ],
   "source": [
    "# 获得目标列，假设列名是'column_name'\n",
    "column = pd.read_csv('datasets/bank.csv',sep=';')['y']\n",
    "# 将这一列添加到其他数据集中，假设你想把这一列的名字还叫'column_name'\n",
    "bank_data_encode['y'] = column\n",
    "imputed_data_x['y'] = column\n",
    "print(bank_data_encode.shape)\n",
    "print(imputed_data_x.shape)"
   ],
   "metadata": {
    "collapsed": false,
    "pycharm": {
     "name": "#%%\n"
    }
   }
  },
  {
   "cell_type": "code",
   "execution_count": 25,
   "outputs": [
    {
     "name": "stdout",
     "output_type": "stream",
     "text": [
      "\n",
      "Classifier F1-scores and their Jaccard similarities::\n",
      "                             f1_real  f1_fake  jaccard_similarity\n",
      "index                                                            \n",
      "DecisionTreeClassifier_fake   0.8974   0.8786              0.7077\n",
      "DecisionTreeClassifier_real   0.8896   0.9604              0.7998\n",
      "LogisticRegression_fake       0.8899   0.8902              0.9633\n",
      "LogisticRegression_real       0.8899   0.8899              0.9652\n",
      "MLPClassifier_fake            0.7901   0.5478              0.5474\n",
      "MLPClassifier_real            0.7860   0.5559              0.5743\n",
      "RandomForestClassifier_fake   0.9486   0.9042              0.8365\n",
      "RandomForestClassifier_real   0.9068   0.9651              0.8546\n",
      "\n",
      "Privacy results:\n",
      "                                         result\n",
      "Duplicate rows between sets (real/fake)  (0, 0)\n",
      "nearest neighbor mean                    1.3653\n",
      "nearest neighbor std                     0.3906\n",
      "\n",
      "Miscellaneous results:\n",
      "                                  Result\n",
      "Column Correlation Distance RMSE  0.0519\n",
      "Column Correlation distance MAE   0.0169\n",
      "\n",
      "Results:\n",
      "                                                result\n",
      "Basic statistics                                0.9989\n",
      "Correlation column correlations                 0.9367\n",
      "Mean Correlation between fake and real columns  0.9728\n",
      "1 - MAPE Estimator results                      0.8986\n",
      "Similarity Score                                0.9518\n"
     ]
    }
   ],
   "source": [
    "from table_evaluator import TableEvaluator\n",
    "# 传入是数据类型得是DataForm类型\n",
    "evaluator=TableEvaluator(bank_data_encode,imputed_data_x)\n",
    "# 数值分析\n",
    "evaluator.evaluate(target_col='y',notebook=False,verbose=False)"
   ],
   "metadata": {
    "collapsed": false,
    "pycharm": {
     "name": "#%%\n"
    }
   }
  },
  {
   "cell_type": "code",
   "execution_count": 28,
   "outputs": [
    {
     "name": "stdout",
     "output_type": "stream",
     "text": [
      "Accuracy:  0.8842524329106458\n",
      "auc:  0.5637954806034704\n",
      "f1-score:  0.22736220472440943\n"
     ]
    }
   ],
   "source": [
    "from sklearn.model_selection import train_test_split\n",
    "from sklearn.linear_model import LogisticRegression\n",
    "from sklearn.metrics import accuracy_score\n",
    "from sklearn.metrics import roc_auc_score\n",
    "from sklearn.metrics import classification_report\n",
    "from sklearn.metrics import  confusion_matrix\n",
    "from sklearn.metrics import f1_score\n",
    "X = imputed_data_x.drop('y', axis=1)  # 假设 '' 是目标变量\n",
    "# 将样本集划分为70%的训练集，30%作为测试集\n",
    "X_train, X_test, y_train, y_test = train_test_split(X, column, test_size=0.3, random_state=42)\n",
    "# 创建和训练模型\n",
    "model = LogisticRegression()\n",
    "model.fit(X_train, y_train)\n",
    "# 预测\n",
    "y_pred = model.predict(X_test)\n",
    "# 计算准确率\n",
    "accuracy = accuracy_score(y_test, y_pred)\n",
    "print('Accuracy: ', accuracy)\n",
    "#测试逻辑回归的模型评估\n",
    "# 计算auc\n",
    "y_test = le.fit_transform(y_test)\n",
    "y_pred = le.fit_transform(y_pred)\n",
    "auc=roc_auc_score(y_test, y_pred)\n",
    "print('auc: ', auc)\n",
    "# 计算f1分数\n",
    "f1=f1_score(y_test, y_pred)\n",
    "print('f1-score: ', f1)"
   ],
   "metadata": {
    "collapsed": false,
    "pycharm": {
     "name": "#%%\n"
    }
   }
  },
  {
   "cell_type": "code",
   "execution_count": null,
   "outputs": [],
   "source": [],
   "metadata": {
    "collapsed": false,
    "pycharm": {
     "name": "#%%\n"
    }
   }
  }
 ],
 "metadata": {
  "kernelspec": {
   "display_name": "Python 3",
   "language": "python",
   "name": "python3"
  },
  "language_info": {
   "codemirror_mode": {
    "name": "ipython",
    "version": 2
   },
   "file_extension": ".py",
   "mimetype": "text/x-python",
   "name": "python",
   "nbconvert_exporter": "python",
   "pygments_lexer": "ipython2",
   "version": "2.7.6"
  }
 },
 "nbformat": 4,
 "nbformat_minor": 0
}