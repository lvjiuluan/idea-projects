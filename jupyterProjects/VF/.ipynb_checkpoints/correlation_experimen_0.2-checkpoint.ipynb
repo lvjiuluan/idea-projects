{
 "cells": [
  {
   "cell_type": "markdown",
   "source": [
    "找相关性最强的几列进行生成，然后进行填补"
   ],
   "metadata": {
    "collapsed": false
   }
  },
  {
   "cell_type": "code",
   "execution_count": 1,
   "metadata": {
    "collapsed": true
   },
   "outputs": [],
   "source": [
    "import pandas as pd\n",
    "import numpy as np"
   ]
  },
  {
   "cell_type": "markdown",
   "source": [
    "# 数据集处理"
   ],
   "metadata": {
    "collapsed": false
   }
  },
  {
   "cell_type": "markdown",
   "source": [
    "设置缺失的行占比率，然后得到单方的缺失数据集"
   ],
   "metadata": {
    "collapsed": false
   }
  },
  {
   "cell_type": "code",
   "execution_count": 2,
   "outputs": [],
   "source": [
    "from util.data_loader import data_loader2\n",
    "data_name='bank_data_B'\n",
    "miss_rate=0.2\n",
    "complete_data_B,incomplete_data_B=data_loader2(data_name,miss_rate)"
   ],
   "metadata": {
    "collapsed": false,
    "pycharm": {
     "name": "#%%\n"
    }
   }
  },
  {
   "cell_type": "code",
   "execution_count": 3,
   "outputs": [
    {
     "name": "stdout",
     "output_type": "stream",
     "text": [
      "(45211, 10)\n",
      "(36169, 10)\n"
     ]
    }
   ],
   "source": [
    "print(complete_data_B.shape)\n",
    "print(incomplete_data_B.shape)"
   ],
   "metadata": {
    "collapsed": false,
    "pycharm": {
     "name": "#%%\n"
    }
   }
  },
  {
   "cell_type": "markdown",
   "source": [
    "# CTGAN生成"
   ],
   "metadata": {
    "collapsed": false
   }
  },
  {
   "cell_type": "markdown",
   "source": [
    "选出分类列，然后利用CTGAN进行生成"
   ],
   "metadata": {
    "collapsed": false
   }
  },
  {
   "cell_type": "code",
   "execution_count": 4,
   "outputs": [],
   "source": [
    "discrete_columns=incomplete_data_B.select_dtypes(include=['object'])"
   ],
   "metadata": {
    "collapsed": false,
    "pycharm": {
     "name": "#%%\n"
    }
   }
  },
  {
   "cell_type": "code",
   "execution_count": 5,
   "outputs": [
    {
     "name": "stderr",
     "output_type": "stream",
     "text": [
      "D:\\Anaconda\\anaconda\\envs\\neural_network\\lib\\site-packages\\rdt\\transformers\\base.py:132: FutureWarning: Future versions of RDT will not support the 'model_missing_values' parameter. Please switch to using the 'missing_value_generation' parameter to select your strategy.\n",
      "  warnings.warn(\n",
      "D:\\Anaconda\\anaconda\\envs\\neural_network\\lib\\site-packages\\rdt\\transformers\\base.py:132: FutureWarning: Future versions of RDT will not support the 'model_missing_values' parameter. Please switch to using the 'missing_value_generation' parameter to select your strategy.\n",
      "  warnings.warn(\n",
      "D:\\Anaconda\\anaconda\\envs\\neural_network\\lib\\site-packages\\rdt\\transformers\\base.py:132: FutureWarning: Future versions of RDT will not support the 'model_missing_values' parameter. Please switch to using the 'missing_value_generation' parameter to select your strategy.\n",
      "  warnings.warn(\n",
      "D:\\Anaconda\\anaconda\\envs\\neural_network\\lib\\site-packages\\rdt\\transformers\\base.py:132: FutureWarning: Future versions of RDT will not support the 'model_missing_values' parameter. Please switch to using the 'missing_value_generation' parameter to select your strategy.\n",
      "  warnings.warn(\n",
      "D:\\Anaconda\\anaconda\\envs\\neural_network\\lib\\site-packages\\rdt\\transformers\\base.py:132: FutureWarning: Future versions of RDT will not support the 'model_missing_values' parameter. Please switch to using the 'missing_value_generation' parameter to select your strategy.\n",
      "  warnings.warn(\n",
      "D:\\Anaconda\\anaconda\\envs\\neural_network\\lib\\site-packages\\rdt\\transformers\\base.py:132: FutureWarning: Future versions of RDT will not support the 'model_missing_values' parameter. Please switch to using the 'missing_value_generation' parameter to select your strategy.\n",
      "  warnings.warn(\n"
     ]
    }
   ],
   "source": [
    "from ctgan import CTGAN\n",
    "ctgan = CTGAN(epochs=10)\n",
    "ctgan.fit(incomplete_data_B,discrete_columns)"
   ],
   "metadata": {
    "collapsed": false,
    "pycharm": {
     "name": "#%%\n"
    }
   }
  },
  {
   "cell_type": "code",
   "execution_count": 6,
   "outputs": [
    {
     "name": "stdout",
     "output_type": "stream",
     "text": [
      "45211\n",
      "36169\n"
     ]
    }
   ],
   "source": [
    "len1=complete_data_B.shape[0]\n",
    "len2=incomplete_data_B.shape[0]\n",
    "print(len1)\n",
    "print(len2)"
   ],
   "metadata": {
    "collapsed": false,
    "pycharm": {
     "name": "#%%\n"
    }
   }
  },
  {
   "cell_type": "code",
   "execution_count": 7,
   "outputs": [],
   "source": [
    "# Create synthetic data\n",
    "# synthetic_data = ctgan.sample(len1-len2)\n",
    "# 生成数据\n",
    "synthetic_data = ctgan.sample(len1)"
   ],
   "metadata": {
    "collapsed": false,
    "pycharm": {
     "name": "#%%\n"
    }
   }
  },
  {
   "cell_type": "code",
   "execution_count": 8,
   "outputs": [
    {
     "name": "stdout",
     "output_type": "stream",
     "text": [
      "(45211, 10)\n"
     ]
    },
    {
     "data": {
      "text/plain": "     contact  day month  duration  campaign  pdays  previous poutcome    y  \\\n0    unknown   25   may       274         2     -1         3  unknown   no   \n1   cellular   26   jul       997         1      0         1  failure  yes   \n2   cellular    1   jul       231         1    311         0  unknown   no   \n3    unknown   24   jun       512         1      1         0  failure   no   \n4   cellular    6   may       435         1     -2         0  unknown   no   \n5  telephone   29   aug       439         1     -2        16  unknown   no   \n6  telephone    8   may       523         1     -3         0  unknown   no   \n7   cellular    5   feb       186         7     -2         1  success   no   \n8   cellular   15   aug        46         3    156         0  unknown   no   \n9  telephone    8   aug       130         1    146         0    other  yes   \n\n   index  \n0  38458  \n1  24933  \n2  17936  \n3  39644  \n4  23096  \n5  35096  \n6   3527  \n7   -302  \n8   3270  \n9  -1239  ",
      "text/html": "<div>\n<style scoped>\n    .dataframe tbody tr th:only-of-type {\n        vertical-align: middle;\n    }\n\n    .dataframe tbody tr th {\n        vertical-align: top;\n    }\n\n    .dataframe thead th {\n        text-align: right;\n    }\n</style>\n<table border=\"1\" class=\"dataframe\">\n  <thead>\n    <tr style=\"text-align: right;\">\n      <th></th>\n      <th>contact</th>\n      <th>day</th>\n      <th>month</th>\n      <th>duration</th>\n      <th>campaign</th>\n      <th>pdays</th>\n      <th>previous</th>\n      <th>poutcome</th>\n      <th>y</th>\n      <th>index</th>\n    </tr>\n  </thead>\n  <tbody>\n    <tr>\n      <th>0</th>\n      <td>unknown</td>\n      <td>25</td>\n      <td>may</td>\n      <td>274</td>\n      <td>2</td>\n      <td>-1</td>\n      <td>3</td>\n      <td>unknown</td>\n      <td>no</td>\n      <td>38458</td>\n    </tr>\n    <tr>\n      <th>1</th>\n      <td>cellular</td>\n      <td>26</td>\n      <td>jul</td>\n      <td>997</td>\n      <td>1</td>\n      <td>0</td>\n      <td>1</td>\n      <td>failure</td>\n      <td>yes</td>\n      <td>24933</td>\n    </tr>\n    <tr>\n      <th>2</th>\n      <td>cellular</td>\n      <td>1</td>\n      <td>jul</td>\n      <td>231</td>\n      <td>1</td>\n      <td>311</td>\n      <td>0</td>\n      <td>unknown</td>\n      <td>no</td>\n      <td>17936</td>\n    </tr>\n    <tr>\n      <th>3</th>\n      <td>unknown</td>\n      <td>24</td>\n      <td>jun</td>\n      <td>512</td>\n      <td>1</td>\n      <td>1</td>\n      <td>0</td>\n      <td>failure</td>\n      <td>no</td>\n      <td>39644</td>\n    </tr>\n    <tr>\n      <th>4</th>\n      <td>cellular</td>\n      <td>6</td>\n      <td>may</td>\n      <td>435</td>\n      <td>1</td>\n      <td>-2</td>\n      <td>0</td>\n      <td>unknown</td>\n      <td>no</td>\n      <td>23096</td>\n    </tr>\n    <tr>\n      <th>5</th>\n      <td>telephone</td>\n      <td>29</td>\n      <td>aug</td>\n      <td>439</td>\n      <td>1</td>\n      <td>-2</td>\n      <td>16</td>\n      <td>unknown</td>\n      <td>no</td>\n      <td>35096</td>\n    </tr>\n    <tr>\n      <th>6</th>\n      <td>telephone</td>\n      <td>8</td>\n      <td>may</td>\n      <td>523</td>\n      <td>1</td>\n      <td>-3</td>\n      <td>0</td>\n      <td>unknown</td>\n      <td>no</td>\n      <td>3527</td>\n    </tr>\n    <tr>\n      <th>7</th>\n      <td>cellular</td>\n      <td>5</td>\n      <td>feb</td>\n      <td>186</td>\n      <td>7</td>\n      <td>-2</td>\n      <td>1</td>\n      <td>success</td>\n      <td>no</td>\n      <td>-302</td>\n    </tr>\n    <tr>\n      <th>8</th>\n      <td>cellular</td>\n      <td>15</td>\n      <td>aug</td>\n      <td>46</td>\n      <td>3</td>\n      <td>156</td>\n      <td>0</td>\n      <td>unknown</td>\n      <td>no</td>\n      <td>3270</td>\n    </tr>\n    <tr>\n      <th>9</th>\n      <td>telephone</td>\n      <td>8</td>\n      <td>aug</td>\n      <td>130</td>\n      <td>1</td>\n      <td>146</td>\n      <td>0</td>\n      <td>other</td>\n      <td>yes</td>\n      <td>-1239</td>\n    </tr>\n  </tbody>\n</table>\n</div>"
     },
     "execution_count": 8,
     "metadata": {},
     "output_type": "execute_result"
    }
   ],
   "source": [
    "print(synthetic_data.shape)\n",
    "synthetic_data.head(10)"
   ],
   "metadata": {
    "collapsed": false,
    "pycharm": {
     "name": "#%%\n"
    }
   }
  },
  {
   "cell_type": "code",
   "execution_count": 9,
   "outputs": [
    {
     "name": "stdout",
     "output_type": "stream",
     "text": [
      "(36169, 10)\n"
     ]
    },
    {
     "data": {
      "text/plain": "    contact  day month  duration  campaign  pdays  previous poutcome   y  \\\n0   unknown    5   may       261         1     -1         0  unknown  no   \n1   unknown    5   may       151         1     -1         0  unknown  no   \n2   unknown    5   may        76         1     -1         0  unknown  no   \n4   unknown    5   may       198         1     -1         0  unknown  no   \n5   unknown    5   may       139         1     -1         0  unknown  no   \n6   unknown    5   may       217         1     -1         0  unknown  no   \n7   unknown    5   may       380         1     -1         0  unknown  no   \n10  unknown    5   may       222         1     -1         0  unknown  no   \n11  unknown    5   may       137         1     -1         0  unknown  no   \n14  unknown    5   may       174         1     -1         0  unknown  no   \n15  unknown    5   may       353         1     -1         0  unknown  no   \n17  unknown    5   may        38         1     -1         0  unknown  no   \n18  unknown    5   may       219         1     -1         0  unknown  no   \n19  unknown    5   may        54         1     -1         0  unknown  no   \n20  unknown    5   may       262         1     -1         0  unknown  no   \n21  unknown    5   may       164         1     -1         0  unknown  no   \n24  unknown    5   may       181         1     -1         0  unknown  no   \n27  unknown    5   may       127         1     -1         0  unknown  no   \n28  unknown    5   may       255         2     -1         0  unknown  no   \n29  unknown    5   may       348         1     -1         0  unknown  no   \n30  unknown    5   may       225         1     -1         0  unknown  no   \n31  unknown    5   may       230         1     -1         0  unknown  no   \n32  unknown    5   may       208         1     -1         0  unknown  no   \n33  unknown    5   may       226         1     -1         0  unknown  no   \n34  unknown    5   may       336         1     -1         0  unknown  no   \n35  unknown    5   may       242         1     -1         0  unknown  no   \n36  unknown    5   may       365         1     -1         0  unknown  no   \n38  unknown    5   may       577         1     -1         0  unknown  no   \n39  unknown    5   may       137         1     -1         0  unknown  no   \n40  unknown    5   may       160         1     -1         0  unknown  no   \n41  unknown    5   may       180         2     -1         0  unknown  no   \n42  unknown    5   may        22         1     -1         0  unknown  no   \n43  unknown    5   may      1492         1     -1         0  unknown  no   \n44  unknown    5   may       616         1     -1         0  unknown  no   \n46  unknown    5   may       355         1     -1         0  unknown  no   \n47  unknown    5   may       225         2     -1         0  unknown  no   \n48  unknown    5   may       160         1     -1         0  unknown  no   \n50  unknown    5   may       266         1     -1         0  unknown  no   \n52  unknown    5   may       179         1     -1         0  unknown  no   \n53  unknown    5   may       787         1     -1         0  unknown  no   \n54  unknown    5   may       145         1     -1         0  unknown  no   \n55  unknown    5   may       174         1     -1         0  unknown  no   \n57  unknown    5   may        13         1     -1         0  unknown  no   \n58  unknown    5   may       185         1     -1         0  unknown  no   \n60  unknown    5   may       138         1     -1         0  unknown  no   \n61  unknown    5   may       812         1     -1         0  unknown  no   \n62  unknown    5   may       164         1     -1         0  unknown  no   \n64  unknown    5   may       357         1     -1         0  unknown  no   \n65  unknown    5   may        91         1     -1         0  unknown  no   \n66  unknown    5   may       528         1     -1         0  unknown  no   \n\n    index  \n0       0  \n1       1  \n2       2  \n4       4  \n5       5  \n6       6  \n7       7  \n10     10  \n11     11  \n14     14  \n15     15  \n17     17  \n18     18  \n19     19  \n20     20  \n21     21  \n24     24  \n27     27  \n28     28  \n29     29  \n30     30  \n31     31  \n32     32  \n33     33  \n34     34  \n35     35  \n36     36  \n38     38  \n39     39  \n40     40  \n41     41  \n42     42  \n43     43  \n44     44  \n46     46  \n47     47  \n48     48  \n50     50  \n52     52  \n53     53  \n54     54  \n55     55  \n57     57  \n58     58  \n60     60  \n61     61  \n62     62  \n64     64  \n65     65  \n66     66  ",
      "text/html": "<div>\n<style scoped>\n    .dataframe tbody tr th:only-of-type {\n        vertical-align: middle;\n    }\n\n    .dataframe tbody tr th {\n        vertical-align: top;\n    }\n\n    .dataframe thead th {\n        text-align: right;\n    }\n</style>\n<table border=\"1\" class=\"dataframe\">\n  <thead>\n    <tr style=\"text-align: right;\">\n      <th></th>\n      <th>contact</th>\n      <th>day</th>\n      <th>month</th>\n      <th>duration</th>\n      <th>campaign</th>\n      <th>pdays</th>\n      <th>previous</th>\n      <th>poutcome</th>\n      <th>y</th>\n      <th>index</th>\n    </tr>\n  </thead>\n  <tbody>\n    <tr>\n      <th>0</th>\n      <td>unknown</td>\n      <td>5</td>\n      <td>may</td>\n      <td>261</td>\n      <td>1</td>\n      <td>-1</td>\n      <td>0</td>\n      <td>unknown</td>\n      <td>no</td>\n      <td>0</td>\n    </tr>\n    <tr>\n      <th>1</th>\n      <td>unknown</td>\n      <td>5</td>\n      <td>may</td>\n      <td>151</td>\n      <td>1</td>\n      <td>-1</td>\n      <td>0</td>\n      <td>unknown</td>\n      <td>no</td>\n      <td>1</td>\n    </tr>\n    <tr>\n      <th>2</th>\n      <td>unknown</td>\n      <td>5</td>\n      <td>may</td>\n      <td>76</td>\n      <td>1</td>\n      <td>-1</td>\n      <td>0</td>\n      <td>unknown</td>\n      <td>no</td>\n      <td>2</td>\n    </tr>\n    <tr>\n      <th>4</th>\n      <td>unknown</td>\n      <td>5</td>\n      <td>may</td>\n      <td>198</td>\n      <td>1</td>\n      <td>-1</td>\n      <td>0</td>\n      <td>unknown</td>\n      <td>no</td>\n      <td>4</td>\n    </tr>\n    <tr>\n      <th>5</th>\n      <td>unknown</td>\n      <td>5</td>\n      <td>may</td>\n      <td>139</td>\n      <td>1</td>\n      <td>-1</td>\n      <td>0</td>\n      <td>unknown</td>\n      <td>no</td>\n      <td>5</td>\n    </tr>\n    <tr>\n      <th>6</th>\n      <td>unknown</td>\n      <td>5</td>\n      <td>may</td>\n      <td>217</td>\n      <td>1</td>\n      <td>-1</td>\n      <td>0</td>\n      <td>unknown</td>\n      <td>no</td>\n      <td>6</td>\n    </tr>\n    <tr>\n      <th>7</th>\n      <td>unknown</td>\n      <td>5</td>\n      <td>may</td>\n      <td>380</td>\n      <td>1</td>\n      <td>-1</td>\n      <td>0</td>\n      <td>unknown</td>\n      <td>no</td>\n      <td>7</td>\n    </tr>\n    <tr>\n      <th>10</th>\n      <td>unknown</td>\n      <td>5</td>\n      <td>may</td>\n      <td>222</td>\n      <td>1</td>\n      <td>-1</td>\n      <td>0</td>\n      <td>unknown</td>\n      <td>no</td>\n      <td>10</td>\n    </tr>\n    <tr>\n      <th>11</th>\n      <td>unknown</td>\n      <td>5</td>\n      <td>may</td>\n      <td>137</td>\n      <td>1</td>\n      <td>-1</td>\n      <td>0</td>\n      <td>unknown</td>\n      <td>no</td>\n      <td>11</td>\n    </tr>\n    <tr>\n      <th>14</th>\n      <td>unknown</td>\n      <td>5</td>\n      <td>may</td>\n      <td>174</td>\n      <td>1</td>\n      <td>-1</td>\n      <td>0</td>\n      <td>unknown</td>\n      <td>no</td>\n      <td>14</td>\n    </tr>\n    <tr>\n      <th>15</th>\n      <td>unknown</td>\n      <td>5</td>\n      <td>may</td>\n      <td>353</td>\n      <td>1</td>\n      <td>-1</td>\n      <td>0</td>\n      <td>unknown</td>\n      <td>no</td>\n      <td>15</td>\n    </tr>\n    <tr>\n      <th>17</th>\n      <td>unknown</td>\n      <td>5</td>\n      <td>may</td>\n      <td>38</td>\n      <td>1</td>\n      <td>-1</td>\n      <td>0</td>\n      <td>unknown</td>\n      <td>no</td>\n      <td>17</td>\n    </tr>\n    <tr>\n      <th>18</th>\n      <td>unknown</td>\n      <td>5</td>\n      <td>may</td>\n      <td>219</td>\n      <td>1</td>\n      <td>-1</td>\n      <td>0</td>\n      <td>unknown</td>\n      <td>no</td>\n      <td>18</td>\n    </tr>\n    <tr>\n      <th>19</th>\n      <td>unknown</td>\n      <td>5</td>\n      <td>may</td>\n      <td>54</td>\n      <td>1</td>\n      <td>-1</td>\n      <td>0</td>\n      <td>unknown</td>\n      <td>no</td>\n      <td>19</td>\n    </tr>\n    <tr>\n      <th>20</th>\n      <td>unknown</td>\n      <td>5</td>\n      <td>may</td>\n      <td>262</td>\n      <td>1</td>\n      <td>-1</td>\n      <td>0</td>\n      <td>unknown</td>\n      <td>no</td>\n      <td>20</td>\n    </tr>\n    <tr>\n      <th>21</th>\n      <td>unknown</td>\n      <td>5</td>\n      <td>may</td>\n      <td>164</td>\n      <td>1</td>\n      <td>-1</td>\n      <td>0</td>\n      <td>unknown</td>\n      <td>no</td>\n      <td>21</td>\n    </tr>\n    <tr>\n      <th>24</th>\n      <td>unknown</td>\n      <td>5</td>\n      <td>may</td>\n      <td>181</td>\n      <td>1</td>\n      <td>-1</td>\n      <td>0</td>\n      <td>unknown</td>\n      <td>no</td>\n      <td>24</td>\n    </tr>\n    <tr>\n      <th>27</th>\n      <td>unknown</td>\n      <td>5</td>\n      <td>may</td>\n      <td>127</td>\n      <td>1</td>\n      <td>-1</td>\n      <td>0</td>\n      <td>unknown</td>\n      <td>no</td>\n      <td>27</td>\n    </tr>\n    <tr>\n      <th>28</th>\n      <td>unknown</td>\n      <td>5</td>\n      <td>may</td>\n      <td>255</td>\n      <td>2</td>\n      <td>-1</td>\n      <td>0</td>\n      <td>unknown</td>\n      <td>no</td>\n      <td>28</td>\n    </tr>\n    <tr>\n      <th>29</th>\n      <td>unknown</td>\n      <td>5</td>\n      <td>may</td>\n      <td>348</td>\n      <td>1</td>\n      <td>-1</td>\n      <td>0</td>\n      <td>unknown</td>\n      <td>no</td>\n      <td>29</td>\n    </tr>\n    <tr>\n      <th>30</th>\n      <td>unknown</td>\n      <td>5</td>\n      <td>may</td>\n      <td>225</td>\n      <td>1</td>\n      <td>-1</td>\n      <td>0</td>\n      <td>unknown</td>\n      <td>no</td>\n      <td>30</td>\n    </tr>\n    <tr>\n      <th>31</th>\n      <td>unknown</td>\n      <td>5</td>\n      <td>may</td>\n      <td>230</td>\n      <td>1</td>\n      <td>-1</td>\n      <td>0</td>\n      <td>unknown</td>\n      <td>no</td>\n      <td>31</td>\n    </tr>\n    <tr>\n      <th>32</th>\n      <td>unknown</td>\n      <td>5</td>\n      <td>may</td>\n      <td>208</td>\n      <td>1</td>\n      <td>-1</td>\n      <td>0</td>\n      <td>unknown</td>\n      <td>no</td>\n      <td>32</td>\n    </tr>\n    <tr>\n      <th>33</th>\n      <td>unknown</td>\n      <td>5</td>\n      <td>may</td>\n      <td>226</td>\n      <td>1</td>\n      <td>-1</td>\n      <td>0</td>\n      <td>unknown</td>\n      <td>no</td>\n      <td>33</td>\n    </tr>\n    <tr>\n      <th>34</th>\n      <td>unknown</td>\n      <td>5</td>\n      <td>may</td>\n      <td>336</td>\n      <td>1</td>\n      <td>-1</td>\n      <td>0</td>\n      <td>unknown</td>\n      <td>no</td>\n      <td>34</td>\n    </tr>\n    <tr>\n      <th>35</th>\n      <td>unknown</td>\n      <td>5</td>\n      <td>may</td>\n      <td>242</td>\n      <td>1</td>\n      <td>-1</td>\n      <td>0</td>\n      <td>unknown</td>\n      <td>no</td>\n      <td>35</td>\n    </tr>\n    <tr>\n      <th>36</th>\n      <td>unknown</td>\n      <td>5</td>\n      <td>may</td>\n      <td>365</td>\n      <td>1</td>\n      <td>-1</td>\n      <td>0</td>\n      <td>unknown</td>\n      <td>no</td>\n      <td>36</td>\n    </tr>\n    <tr>\n      <th>38</th>\n      <td>unknown</td>\n      <td>5</td>\n      <td>may</td>\n      <td>577</td>\n      <td>1</td>\n      <td>-1</td>\n      <td>0</td>\n      <td>unknown</td>\n      <td>no</td>\n      <td>38</td>\n    </tr>\n    <tr>\n      <th>39</th>\n      <td>unknown</td>\n      <td>5</td>\n      <td>may</td>\n      <td>137</td>\n      <td>1</td>\n      <td>-1</td>\n      <td>0</td>\n      <td>unknown</td>\n      <td>no</td>\n      <td>39</td>\n    </tr>\n    <tr>\n      <th>40</th>\n      <td>unknown</td>\n      <td>5</td>\n      <td>may</td>\n      <td>160</td>\n      <td>1</td>\n      <td>-1</td>\n      <td>0</td>\n      <td>unknown</td>\n      <td>no</td>\n      <td>40</td>\n    </tr>\n    <tr>\n      <th>41</th>\n      <td>unknown</td>\n      <td>5</td>\n      <td>may</td>\n      <td>180</td>\n      <td>2</td>\n      <td>-1</td>\n      <td>0</td>\n      <td>unknown</td>\n      <td>no</td>\n      <td>41</td>\n    </tr>\n    <tr>\n      <th>42</th>\n      <td>unknown</td>\n      <td>5</td>\n      <td>may</td>\n      <td>22</td>\n      <td>1</td>\n      <td>-1</td>\n      <td>0</td>\n      <td>unknown</td>\n      <td>no</td>\n      <td>42</td>\n    </tr>\n    <tr>\n      <th>43</th>\n      <td>unknown</td>\n      <td>5</td>\n      <td>may</td>\n      <td>1492</td>\n      <td>1</td>\n      <td>-1</td>\n      <td>0</td>\n      <td>unknown</td>\n      <td>no</td>\n      <td>43</td>\n    </tr>\n    <tr>\n      <th>44</th>\n      <td>unknown</td>\n      <td>5</td>\n      <td>may</td>\n      <td>616</td>\n      <td>1</td>\n      <td>-1</td>\n      <td>0</td>\n      <td>unknown</td>\n      <td>no</td>\n      <td>44</td>\n    </tr>\n    <tr>\n      <th>46</th>\n      <td>unknown</td>\n      <td>5</td>\n      <td>may</td>\n      <td>355</td>\n      <td>1</td>\n      <td>-1</td>\n      <td>0</td>\n      <td>unknown</td>\n      <td>no</td>\n      <td>46</td>\n    </tr>\n    <tr>\n      <th>47</th>\n      <td>unknown</td>\n      <td>5</td>\n      <td>may</td>\n      <td>225</td>\n      <td>2</td>\n      <td>-1</td>\n      <td>0</td>\n      <td>unknown</td>\n      <td>no</td>\n      <td>47</td>\n    </tr>\n    <tr>\n      <th>48</th>\n      <td>unknown</td>\n      <td>5</td>\n      <td>may</td>\n      <td>160</td>\n      <td>1</td>\n      <td>-1</td>\n      <td>0</td>\n      <td>unknown</td>\n      <td>no</td>\n      <td>48</td>\n    </tr>\n    <tr>\n      <th>50</th>\n      <td>unknown</td>\n      <td>5</td>\n      <td>may</td>\n      <td>266</td>\n      <td>1</td>\n      <td>-1</td>\n      <td>0</td>\n      <td>unknown</td>\n      <td>no</td>\n      <td>50</td>\n    </tr>\n    <tr>\n      <th>52</th>\n      <td>unknown</td>\n      <td>5</td>\n      <td>may</td>\n      <td>179</td>\n      <td>1</td>\n      <td>-1</td>\n      <td>0</td>\n      <td>unknown</td>\n      <td>no</td>\n      <td>52</td>\n    </tr>\n    <tr>\n      <th>53</th>\n      <td>unknown</td>\n      <td>5</td>\n      <td>may</td>\n      <td>787</td>\n      <td>1</td>\n      <td>-1</td>\n      <td>0</td>\n      <td>unknown</td>\n      <td>no</td>\n      <td>53</td>\n    </tr>\n    <tr>\n      <th>54</th>\n      <td>unknown</td>\n      <td>5</td>\n      <td>may</td>\n      <td>145</td>\n      <td>1</td>\n      <td>-1</td>\n      <td>0</td>\n      <td>unknown</td>\n      <td>no</td>\n      <td>54</td>\n    </tr>\n    <tr>\n      <th>55</th>\n      <td>unknown</td>\n      <td>5</td>\n      <td>may</td>\n      <td>174</td>\n      <td>1</td>\n      <td>-1</td>\n      <td>0</td>\n      <td>unknown</td>\n      <td>no</td>\n      <td>55</td>\n    </tr>\n    <tr>\n      <th>57</th>\n      <td>unknown</td>\n      <td>5</td>\n      <td>may</td>\n      <td>13</td>\n      <td>1</td>\n      <td>-1</td>\n      <td>0</td>\n      <td>unknown</td>\n      <td>no</td>\n      <td>57</td>\n    </tr>\n    <tr>\n      <th>58</th>\n      <td>unknown</td>\n      <td>5</td>\n      <td>may</td>\n      <td>185</td>\n      <td>1</td>\n      <td>-1</td>\n      <td>0</td>\n      <td>unknown</td>\n      <td>no</td>\n      <td>58</td>\n    </tr>\n    <tr>\n      <th>60</th>\n      <td>unknown</td>\n      <td>5</td>\n      <td>may</td>\n      <td>138</td>\n      <td>1</td>\n      <td>-1</td>\n      <td>0</td>\n      <td>unknown</td>\n      <td>no</td>\n      <td>60</td>\n    </tr>\n    <tr>\n      <th>61</th>\n      <td>unknown</td>\n      <td>5</td>\n      <td>may</td>\n      <td>812</td>\n      <td>1</td>\n      <td>-1</td>\n      <td>0</td>\n      <td>unknown</td>\n      <td>no</td>\n      <td>61</td>\n    </tr>\n    <tr>\n      <th>62</th>\n      <td>unknown</td>\n      <td>5</td>\n      <td>may</td>\n      <td>164</td>\n      <td>1</td>\n      <td>-1</td>\n      <td>0</td>\n      <td>unknown</td>\n      <td>no</td>\n      <td>62</td>\n    </tr>\n    <tr>\n      <th>64</th>\n      <td>unknown</td>\n      <td>5</td>\n      <td>may</td>\n      <td>357</td>\n      <td>1</td>\n      <td>-1</td>\n      <td>0</td>\n      <td>unknown</td>\n      <td>no</td>\n      <td>64</td>\n    </tr>\n    <tr>\n      <th>65</th>\n      <td>unknown</td>\n      <td>5</td>\n      <td>may</td>\n      <td>91</td>\n      <td>1</td>\n      <td>-1</td>\n      <td>0</td>\n      <td>unknown</td>\n      <td>no</td>\n      <td>65</td>\n    </tr>\n    <tr>\n      <th>66</th>\n      <td>unknown</td>\n      <td>5</td>\n      <td>may</td>\n      <td>528</td>\n      <td>1</td>\n      <td>-1</td>\n      <td>0</td>\n      <td>unknown</td>\n      <td>no</td>\n      <td>66</td>\n    </tr>\n  </tbody>\n</table>\n</div>"
     },
     "execution_count": 9,
     "metadata": {},
     "output_type": "execute_result"
    }
   ],
   "source": [
    "print(incomplete_data_B.shape)\n",
    "incomplete_data_B.head(50)"
   ],
   "metadata": {
    "collapsed": false,
    "pycharm": {
     "name": "#%%\n"
    }
   }
  },
  {
   "cell_type": "markdown",
   "source": [
    "生成的数据中保留相关性强的几列的数据，丢弃其他数据"
   ],
   "metadata": {
    "collapsed": false
   }
  },
  {
   "cell_type": "code",
   "execution_count": 10,
   "outputs": [
    {
     "data": {
      "text/plain": "(45211, 10)"
     },
     "execution_count": 10,
     "metadata": {},
     "output_type": "execute_result"
    }
   ],
   "source": [
    "correlation_columns_to_keep=['previous','pdays','poutcome']\n",
    "# 创建一个新的DataFrame，保留要保留的列，其他列设为NaN\n",
    "correlation_synthetic_data = synthetic_data.copy()\n",
    "\n",
    "# correlation_synthetic_data=pd.DataFrame(correlation_synthetic_data)\n",
    "correlation_synthetic_data.shape"
   ],
   "metadata": {
    "collapsed": false,
    "pycharm": {
     "name": "#%%\n"
    }
   }
  },
  {
   "cell_type": "code",
   "execution_count": 11,
   "outputs": [],
   "source": [
    "for column in correlation_synthetic_data.columns:\n",
    "    if column not in correlation_columns_to_keep:\n",
    "        correlation_synthetic_data[column] = np.nan"
   ],
   "metadata": {
    "collapsed": false,
    "pycharm": {
     "name": "#%%\n"
    }
   }
  },
  {
   "cell_type": "code",
   "execution_count": 12,
   "outputs": [
    {
     "name": "stdout",
     "output_type": "stream",
     "text": [
      "(45211, 10)\n"
     ]
    },
    {
     "data": {
      "text/plain": "   contact  day  month  duration  campaign  pdays  previous poutcome   y  \\\n0      NaN  NaN    NaN       NaN       NaN     -1         3  unknown NaN   \n1      NaN  NaN    NaN       NaN       NaN      0         1  failure NaN   \n2      NaN  NaN    NaN       NaN       NaN    311         0  unknown NaN   \n3      NaN  NaN    NaN       NaN       NaN      1         0  failure NaN   \n4      NaN  NaN    NaN       NaN       NaN     -2         0  unknown NaN   \n5      NaN  NaN    NaN       NaN       NaN     -2        16  unknown NaN   \n6      NaN  NaN    NaN       NaN       NaN     -3         0  unknown NaN   \n7      NaN  NaN    NaN       NaN       NaN     -2         1  success NaN   \n8      NaN  NaN    NaN       NaN       NaN    156         0  unknown NaN   \n9      NaN  NaN    NaN       NaN       NaN    146         0    other NaN   \n\n   index  \n0    NaN  \n1    NaN  \n2    NaN  \n3    NaN  \n4    NaN  \n5    NaN  \n6    NaN  \n7    NaN  \n8    NaN  \n9    NaN  ",
      "text/html": "<div>\n<style scoped>\n    .dataframe tbody tr th:only-of-type {\n        vertical-align: middle;\n    }\n\n    .dataframe tbody tr th {\n        vertical-align: top;\n    }\n\n    .dataframe thead th {\n        text-align: right;\n    }\n</style>\n<table border=\"1\" class=\"dataframe\">\n  <thead>\n    <tr style=\"text-align: right;\">\n      <th></th>\n      <th>contact</th>\n      <th>day</th>\n      <th>month</th>\n      <th>duration</th>\n      <th>campaign</th>\n      <th>pdays</th>\n      <th>previous</th>\n      <th>poutcome</th>\n      <th>y</th>\n      <th>index</th>\n    </tr>\n  </thead>\n  <tbody>\n    <tr>\n      <th>0</th>\n      <td>NaN</td>\n      <td>NaN</td>\n      <td>NaN</td>\n      <td>NaN</td>\n      <td>NaN</td>\n      <td>-1</td>\n      <td>3</td>\n      <td>unknown</td>\n      <td>NaN</td>\n      <td>NaN</td>\n    </tr>\n    <tr>\n      <th>1</th>\n      <td>NaN</td>\n      <td>NaN</td>\n      <td>NaN</td>\n      <td>NaN</td>\n      <td>NaN</td>\n      <td>0</td>\n      <td>1</td>\n      <td>failure</td>\n      <td>NaN</td>\n      <td>NaN</td>\n    </tr>\n    <tr>\n      <th>2</th>\n      <td>NaN</td>\n      <td>NaN</td>\n      <td>NaN</td>\n      <td>NaN</td>\n      <td>NaN</td>\n      <td>311</td>\n      <td>0</td>\n      <td>unknown</td>\n      <td>NaN</td>\n      <td>NaN</td>\n    </tr>\n    <tr>\n      <th>3</th>\n      <td>NaN</td>\n      <td>NaN</td>\n      <td>NaN</td>\n      <td>NaN</td>\n      <td>NaN</td>\n      <td>1</td>\n      <td>0</td>\n      <td>failure</td>\n      <td>NaN</td>\n      <td>NaN</td>\n    </tr>\n    <tr>\n      <th>4</th>\n      <td>NaN</td>\n      <td>NaN</td>\n      <td>NaN</td>\n      <td>NaN</td>\n      <td>NaN</td>\n      <td>-2</td>\n      <td>0</td>\n      <td>unknown</td>\n      <td>NaN</td>\n      <td>NaN</td>\n    </tr>\n    <tr>\n      <th>5</th>\n      <td>NaN</td>\n      <td>NaN</td>\n      <td>NaN</td>\n      <td>NaN</td>\n      <td>NaN</td>\n      <td>-2</td>\n      <td>16</td>\n      <td>unknown</td>\n      <td>NaN</td>\n      <td>NaN</td>\n    </tr>\n    <tr>\n      <th>6</th>\n      <td>NaN</td>\n      <td>NaN</td>\n      <td>NaN</td>\n      <td>NaN</td>\n      <td>NaN</td>\n      <td>-3</td>\n      <td>0</td>\n      <td>unknown</td>\n      <td>NaN</td>\n      <td>NaN</td>\n    </tr>\n    <tr>\n      <th>7</th>\n      <td>NaN</td>\n      <td>NaN</td>\n      <td>NaN</td>\n      <td>NaN</td>\n      <td>NaN</td>\n      <td>-2</td>\n      <td>1</td>\n      <td>success</td>\n      <td>NaN</td>\n      <td>NaN</td>\n    </tr>\n    <tr>\n      <th>8</th>\n      <td>NaN</td>\n      <td>NaN</td>\n      <td>NaN</td>\n      <td>NaN</td>\n      <td>NaN</td>\n      <td>156</td>\n      <td>0</td>\n      <td>unknown</td>\n      <td>NaN</td>\n      <td>NaN</td>\n    </tr>\n    <tr>\n      <th>9</th>\n      <td>NaN</td>\n      <td>NaN</td>\n      <td>NaN</td>\n      <td>NaN</td>\n      <td>NaN</td>\n      <td>146</td>\n      <td>0</td>\n      <td>other</td>\n      <td>NaN</td>\n      <td>NaN</td>\n    </tr>\n  </tbody>\n</table>\n</div>"
     },
     "execution_count": 12,
     "metadata": {},
     "output_type": "execute_result"
    }
   ],
   "source": [
    "print(correlation_synthetic_data.shape)\n",
    "correlation_synthetic_data.head(10)"
   ],
   "metadata": {
    "collapsed": false,
    "pycharm": {
     "name": "#%%\n"
    }
   }
  },
  {
   "cell_type": "markdown",
   "source": [
    "# 得到A方完整数据集和B方生成后的数据集"
   ],
   "metadata": {
    "collapsed": false
   }
  },
  {
   "cell_type": "code",
   "execution_count": 13,
   "outputs": [
    {
     "data": {
      "text/plain": "(45211, 9)"
     },
     "execution_count": 13,
     "metadata": {},
     "output_type": "execute_result"
    }
   ],
   "source": [
    "complete_data_A = pd.read_csv('datasetsAB/bank_data_A.csv', sep=',')\n",
    "complete_data_A.shape"
   ],
   "metadata": {
    "collapsed": false,
    "pycharm": {
     "name": "#%%\n"
    }
   }
  },
  {
   "cell_type": "code",
   "execution_count": 14,
   "outputs": [
    {
     "data": {
      "text/plain": "(36169, 10)"
     },
     "execution_count": 14,
     "metadata": {},
     "output_type": "execute_result"
    }
   ],
   "source": [
    "incomplete_data_B.shape"
   ],
   "metadata": {
    "collapsed": false,
    "pycharm": {
     "name": "#%%\n"
    }
   }
  },
  {
   "cell_type": "code",
   "execution_count": 15,
   "outputs": [],
   "source": [
    "# 假设A和B是你的DataFrame，你想保留A中的重复列\n",
    "aligned_df = complete_data_A.merge(incomplete_data_B, left_index=True, right_index=True, how='outer', suffixes=('_keep', '_drop'))\n",
    "\n",
    "# 删除B中的重复列\n",
    "columns_to_drop = [column for column in aligned_df.columns if '_drop' in column]\n",
    "aligned_df = aligned_df.drop(columns_to_drop, axis=1)\n",
    "\n",
    "# 删除列名中的后缀\n",
    "aligned_df.columns = aligned_df.columns.str.replace('_keep', '')"
   ],
   "metadata": {
    "collapsed": false,
    "pycharm": {
     "name": "#%%\n"
    }
   }
  },
  {
   "cell_type": "code",
   "execution_count": 16,
   "outputs": [
    {
     "name": "stdout",
     "output_type": "stream",
     "text": [
      "(45211, 18)\n"
     ]
    },
    {
     "data": {
      "text/plain": "    age            job   marital  education default  balance housing loan  \\\n0    58     management   married   tertiary      no     2143     yes   no   \n1    44     technician    single  secondary      no       29     yes   no   \n2    33   entrepreneur   married  secondary      no        2     yes  yes   \n3    47    blue-collar   married    unknown      no     1506     yes   no   \n4    33        unknown    single    unknown      no        1      no   no   \n5    35     management   married   tertiary      no      231     yes   no   \n6    28     management    single   tertiary      no      447     yes  yes   \n7    42   entrepreneur  divorced   tertiary     yes        2     yes   no   \n8    58        retired   married    primary      no      121     yes   no   \n9    43     technician    single  secondary      no      593     yes   no   \n10   41         admin.  divorced  secondary      no      270     yes   no   \n11   29         admin.    single  secondary      no      390     yes   no   \n12   53     technician   married  secondary      no        6     yes   no   \n13   58     technician   married    unknown      no       71     yes   no   \n14   57       services   married  secondary      no      162     yes   no   \n15   51        retired   married    primary      no      229     yes   no   \n16   45         admin.    single    unknown      no       13     yes   no   \n17   57    blue-collar   married    primary      no       52     yes   no   \n18   60        retired   married    primary      no       60     yes   no   \n19   33       services   married  secondary      no        0     yes   no   \n20   28    blue-collar   married  secondary      no      723     yes  yes   \n21   56     management   married   tertiary      no      779     yes   no   \n22   32    blue-collar    single    primary      no       23     yes  yes   \n23   25       services   married  secondary      no       50     yes   no   \n24   40        retired   married    primary      no        0     yes  yes   \n25   44         admin.   married  secondary      no     -372     yes   no   \n26   39     management    single   tertiary      no      255     yes   no   \n27   52   entrepreneur   married  secondary      no      113     yes  yes   \n28   46     management    single  secondary      no     -246     yes   no   \n29   36     technician    single  secondary      no      265     yes  yes   \n30   57     technician   married  secondary      no      839      no  yes   \n31   49     management   married   tertiary      no      378     yes   no   \n32   60         admin.   married  secondary      no       39     yes  yes   \n33   59    blue-collar   married  secondary      no        0     yes   no   \n34   51     management   married   tertiary      no    10635     yes   no   \n35   57     technician  divorced  secondary      no       63     yes   no   \n36   25    blue-collar   married  secondary      no       -7     yes   no   \n37   53     technician   married  secondary      no       -3      no   no   \n38   36         admin.  divorced  secondary      no      506     yes   no   \n39   37         admin.    single  secondary      no        0     yes   no   \n40   44       services  divorced  secondary      no     2586     yes   no   \n41   50     management   married  secondary      no       49     yes   no   \n42   60    blue-collar   married    unknown      no      104     yes   no   \n43   54        retired   married  secondary      no      529     yes   no   \n44   58        retired   married    unknown      no       96     yes   no   \n45   36         admin.    single    primary      no     -171     yes   no   \n46   58  self-employed   married   tertiary      no     -364     yes   no   \n47   44     technician   married  secondary      no        0     yes   no   \n48   55     technician  divorced  secondary      no        0      no   no   \n49   29     management    single   tertiary      no        0     yes   no   \n\n    index  contact  day month  duration  campaign  pdays  previous poutcome  \\\n0       0  unknown  5.0   may     261.0       1.0   -1.0       0.0  unknown   \n1       1  unknown  5.0   may     151.0       1.0   -1.0       0.0  unknown   \n2       2  unknown  5.0   may      76.0       1.0   -1.0       0.0  unknown   \n3       3      NaN  NaN   NaN       NaN       NaN    NaN       NaN      NaN   \n4       4  unknown  5.0   may     198.0       1.0   -1.0       0.0  unknown   \n5       5  unknown  5.0   may     139.0       1.0   -1.0       0.0  unknown   \n6       6  unknown  5.0   may     217.0       1.0   -1.0       0.0  unknown   \n7       7  unknown  5.0   may     380.0       1.0   -1.0       0.0  unknown   \n8       8      NaN  NaN   NaN       NaN       NaN    NaN       NaN      NaN   \n9       9      NaN  NaN   NaN       NaN       NaN    NaN       NaN      NaN   \n10     10  unknown  5.0   may     222.0       1.0   -1.0       0.0  unknown   \n11     11  unknown  5.0   may     137.0       1.0   -1.0       0.0  unknown   \n12     12      NaN  NaN   NaN       NaN       NaN    NaN       NaN      NaN   \n13     13      NaN  NaN   NaN       NaN       NaN    NaN       NaN      NaN   \n14     14  unknown  5.0   may     174.0       1.0   -1.0       0.0  unknown   \n15     15  unknown  5.0   may     353.0       1.0   -1.0       0.0  unknown   \n16     16      NaN  NaN   NaN       NaN       NaN    NaN       NaN      NaN   \n17     17  unknown  5.0   may      38.0       1.0   -1.0       0.0  unknown   \n18     18  unknown  5.0   may     219.0       1.0   -1.0       0.0  unknown   \n19     19  unknown  5.0   may      54.0       1.0   -1.0       0.0  unknown   \n20     20  unknown  5.0   may     262.0       1.0   -1.0       0.0  unknown   \n21     21  unknown  5.0   may     164.0       1.0   -1.0       0.0  unknown   \n22     22      NaN  NaN   NaN       NaN       NaN    NaN       NaN      NaN   \n23     23      NaN  NaN   NaN       NaN       NaN    NaN       NaN      NaN   \n24     24  unknown  5.0   may     181.0       1.0   -1.0       0.0  unknown   \n25     25      NaN  NaN   NaN       NaN       NaN    NaN       NaN      NaN   \n26     26      NaN  NaN   NaN       NaN       NaN    NaN       NaN      NaN   \n27     27  unknown  5.0   may     127.0       1.0   -1.0       0.0  unknown   \n28     28  unknown  5.0   may     255.0       2.0   -1.0       0.0  unknown   \n29     29  unknown  5.0   may     348.0       1.0   -1.0       0.0  unknown   \n30     30  unknown  5.0   may     225.0       1.0   -1.0       0.0  unknown   \n31     31  unknown  5.0   may     230.0       1.0   -1.0       0.0  unknown   \n32     32  unknown  5.0   may     208.0       1.0   -1.0       0.0  unknown   \n33     33  unknown  5.0   may     226.0       1.0   -1.0       0.0  unknown   \n34     34  unknown  5.0   may     336.0       1.0   -1.0       0.0  unknown   \n35     35  unknown  5.0   may     242.0       1.0   -1.0       0.0  unknown   \n36     36  unknown  5.0   may     365.0       1.0   -1.0       0.0  unknown   \n37     37      NaN  NaN   NaN       NaN       NaN    NaN       NaN      NaN   \n38     38  unknown  5.0   may     577.0       1.0   -1.0       0.0  unknown   \n39     39  unknown  5.0   may     137.0       1.0   -1.0       0.0  unknown   \n40     40  unknown  5.0   may     160.0       1.0   -1.0       0.0  unknown   \n41     41  unknown  5.0   may     180.0       2.0   -1.0       0.0  unknown   \n42     42  unknown  5.0   may      22.0       1.0   -1.0       0.0  unknown   \n43     43  unknown  5.0   may    1492.0       1.0   -1.0       0.0  unknown   \n44     44  unknown  5.0   may     616.0       1.0   -1.0       0.0  unknown   \n45     45      NaN  NaN   NaN       NaN       NaN    NaN       NaN      NaN   \n46     46  unknown  5.0   may     355.0       1.0   -1.0       0.0  unknown   \n47     47  unknown  5.0   may     225.0       2.0   -1.0       0.0  unknown   \n48     48  unknown  5.0   may     160.0       1.0   -1.0       0.0  unknown   \n49     49      NaN  NaN   NaN       NaN       NaN    NaN       NaN      NaN   \n\n      y  \n0    no  \n1    no  \n2    no  \n3   NaN  \n4    no  \n5    no  \n6    no  \n7    no  \n8   NaN  \n9   NaN  \n10   no  \n11   no  \n12  NaN  \n13  NaN  \n14   no  \n15   no  \n16  NaN  \n17   no  \n18   no  \n19   no  \n20   no  \n21   no  \n22  NaN  \n23  NaN  \n24   no  \n25  NaN  \n26  NaN  \n27   no  \n28   no  \n29   no  \n30   no  \n31   no  \n32   no  \n33   no  \n34   no  \n35   no  \n36   no  \n37  NaN  \n38   no  \n39   no  \n40   no  \n41   no  \n42   no  \n43   no  \n44   no  \n45  NaN  \n46   no  \n47   no  \n48   no  \n49  NaN  ",
      "text/html": "<div>\n<style scoped>\n    .dataframe tbody tr th:only-of-type {\n        vertical-align: middle;\n    }\n\n    .dataframe tbody tr th {\n        vertical-align: top;\n    }\n\n    .dataframe thead th {\n        text-align: right;\n    }\n</style>\n<table border=\"1\" class=\"dataframe\">\n  <thead>\n    <tr style=\"text-align: right;\">\n      <th></th>\n      <th>age</th>\n      <th>job</th>\n      <th>marital</th>\n      <th>education</th>\n      <th>default</th>\n      <th>balance</th>\n      <th>housing</th>\n      <th>loan</th>\n      <th>index</th>\n      <th>contact</th>\n      <th>day</th>\n      <th>month</th>\n      <th>duration</th>\n      <th>campaign</th>\n      <th>pdays</th>\n      <th>previous</th>\n      <th>poutcome</th>\n      <th>y</th>\n    </tr>\n  </thead>\n  <tbody>\n    <tr>\n      <th>0</th>\n      <td>58</td>\n      <td>management</td>\n      <td>married</td>\n      <td>tertiary</td>\n      <td>no</td>\n      <td>2143</td>\n      <td>yes</td>\n      <td>no</td>\n      <td>0</td>\n      <td>unknown</td>\n      <td>5.0</td>\n      <td>may</td>\n      <td>261.0</td>\n      <td>1.0</td>\n      <td>-1.0</td>\n      <td>0.0</td>\n      <td>unknown</td>\n      <td>no</td>\n    </tr>\n    <tr>\n      <th>1</th>\n      <td>44</td>\n      <td>technician</td>\n      <td>single</td>\n      <td>secondary</td>\n      <td>no</td>\n      <td>29</td>\n      <td>yes</td>\n      <td>no</td>\n      <td>1</td>\n      <td>unknown</td>\n      <td>5.0</td>\n      <td>may</td>\n      <td>151.0</td>\n      <td>1.0</td>\n      <td>-1.0</td>\n      <td>0.0</td>\n      <td>unknown</td>\n      <td>no</td>\n    </tr>\n    <tr>\n      <th>2</th>\n      <td>33</td>\n      <td>entrepreneur</td>\n      <td>married</td>\n      <td>secondary</td>\n      <td>no</td>\n      <td>2</td>\n      <td>yes</td>\n      <td>yes</td>\n      <td>2</td>\n      <td>unknown</td>\n      <td>5.0</td>\n      <td>may</td>\n      <td>76.0</td>\n      <td>1.0</td>\n      <td>-1.0</td>\n      <td>0.0</td>\n      <td>unknown</td>\n      <td>no</td>\n    </tr>\n    <tr>\n      <th>3</th>\n      <td>47</td>\n      <td>blue-collar</td>\n      <td>married</td>\n      <td>unknown</td>\n      <td>no</td>\n      <td>1506</td>\n      <td>yes</td>\n      <td>no</td>\n      <td>3</td>\n      <td>NaN</td>\n      <td>NaN</td>\n      <td>NaN</td>\n      <td>NaN</td>\n      <td>NaN</td>\n      <td>NaN</td>\n      <td>NaN</td>\n      <td>NaN</td>\n      <td>NaN</td>\n    </tr>\n    <tr>\n      <th>4</th>\n      <td>33</td>\n      <td>unknown</td>\n      <td>single</td>\n      <td>unknown</td>\n      <td>no</td>\n      <td>1</td>\n      <td>no</td>\n      <td>no</td>\n      <td>4</td>\n      <td>unknown</td>\n      <td>5.0</td>\n      <td>may</td>\n      <td>198.0</td>\n      <td>1.0</td>\n      <td>-1.0</td>\n      <td>0.0</td>\n      <td>unknown</td>\n      <td>no</td>\n    </tr>\n    <tr>\n      <th>5</th>\n      <td>35</td>\n      <td>management</td>\n      <td>married</td>\n      <td>tertiary</td>\n      <td>no</td>\n      <td>231</td>\n      <td>yes</td>\n      <td>no</td>\n      <td>5</td>\n      <td>unknown</td>\n      <td>5.0</td>\n      <td>may</td>\n      <td>139.0</td>\n      <td>1.0</td>\n      <td>-1.0</td>\n      <td>0.0</td>\n      <td>unknown</td>\n      <td>no</td>\n    </tr>\n    <tr>\n      <th>6</th>\n      <td>28</td>\n      <td>management</td>\n      <td>single</td>\n      <td>tertiary</td>\n      <td>no</td>\n      <td>447</td>\n      <td>yes</td>\n      <td>yes</td>\n      <td>6</td>\n      <td>unknown</td>\n      <td>5.0</td>\n      <td>may</td>\n      <td>217.0</td>\n      <td>1.0</td>\n      <td>-1.0</td>\n      <td>0.0</td>\n      <td>unknown</td>\n      <td>no</td>\n    </tr>\n    <tr>\n      <th>7</th>\n      <td>42</td>\n      <td>entrepreneur</td>\n      <td>divorced</td>\n      <td>tertiary</td>\n      <td>yes</td>\n      <td>2</td>\n      <td>yes</td>\n      <td>no</td>\n      <td>7</td>\n      <td>unknown</td>\n      <td>5.0</td>\n      <td>may</td>\n      <td>380.0</td>\n      <td>1.0</td>\n      <td>-1.0</td>\n      <td>0.0</td>\n      <td>unknown</td>\n      <td>no</td>\n    </tr>\n    <tr>\n      <th>8</th>\n      <td>58</td>\n      <td>retired</td>\n      <td>married</td>\n      <td>primary</td>\n      <td>no</td>\n      <td>121</td>\n      <td>yes</td>\n      <td>no</td>\n      <td>8</td>\n      <td>NaN</td>\n      <td>NaN</td>\n      <td>NaN</td>\n      <td>NaN</td>\n      <td>NaN</td>\n      <td>NaN</td>\n      <td>NaN</td>\n      <td>NaN</td>\n      <td>NaN</td>\n    </tr>\n    <tr>\n      <th>9</th>\n      <td>43</td>\n      <td>technician</td>\n      <td>single</td>\n      <td>secondary</td>\n      <td>no</td>\n      <td>593</td>\n      <td>yes</td>\n      <td>no</td>\n      <td>9</td>\n      <td>NaN</td>\n      <td>NaN</td>\n      <td>NaN</td>\n      <td>NaN</td>\n      <td>NaN</td>\n      <td>NaN</td>\n      <td>NaN</td>\n      <td>NaN</td>\n      <td>NaN</td>\n    </tr>\n    <tr>\n      <th>10</th>\n      <td>41</td>\n      <td>admin.</td>\n      <td>divorced</td>\n      <td>secondary</td>\n      <td>no</td>\n      <td>270</td>\n      <td>yes</td>\n      <td>no</td>\n      <td>10</td>\n      <td>unknown</td>\n      <td>5.0</td>\n      <td>may</td>\n      <td>222.0</td>\n      <td>1.0</td>\n      <td>-1.0</td>\n      <td>0.0</td>\n      <td>unknown</td>\n      <td>no</td>\n    </tr>\n    <tr>\n      <th>11</th>\n      <td>29</td>\n      <td>admin.</td>\n      <td>single</td>\n      <td>secondary</td>\n      <td>no</td>\n      <td>390</td>\n      <td>yes</td>\n      <td>no</td>\n      <td>11</td>\n      <td>unknown</td>\n      <td>5.0</td>\n      <td>may</td>\n      <td>137.0</td>\n      <td>1.0</td>\n      <td>-1.0</td>\n      <td>0.0</td>\n      <td>unknown</td>\n      <td>no</td>\n    </tr>\n    <tr>\n      <th>12</th>\n      <td>53</td>\n      <td>technician</td>\n      <td>married</td>\n      <td>secondary</td>\n      <td>no</td>\n      <td>6</td>\n      <td>yes</td>\n      <td>no</td>\n      <td>12</td>\n      <td>NaN</td>\n      <td>NaN</td>\n      <td>NaN</td>\n      <td>NaN</td>\n      <td>NaN</td>\n      <td>NaN</td>\n      <td>NaN</td>\n      <td>NaN</td>\n      <td>NaN</td>\n    </tr>\n    <tr>\n      <th>13</th>\n      <td>58</td>\n      <td>technician</td>\n      <td>married</td>\n      <td>unknown</td>\n      <td>no</td>\n      <td>71</td>\n      <td>yes</td>\n      <td>no</td>\n      <td>13</td>\n      <td>NaN</td>\n      <td>NaN</td>\n      <td>NaN</td>\n      <td>NaN</td>\n      <td>NaN</td>\n      <td>NaN</td>\n      <td>NaN</td>\n      <td>NaN</td>\n      <td>NaN</td>\n    </tr>\n    <tr>\n      <th>14</th>\n      <td>57</td>\n      <td>services</td>\n      <td>married</td>\n      <td>secondary</td>\n      <td>no</td>\n      <td>162</td>\n      <td>yes</td>\n      <td>no</td>\n      <td>14</td>\n      <td>unknown</td>\n      <td>5.0</td>\n      <td>may</td>\n      <td>174.0</td>\n      <td>1.0</td>\n      <td>-1.0</td>\n      <td>0.0</td>\n      <td>unknown</td>\n      <td>no</td>\n    </tr>\n    <tr>\n      <th>15</th>\n      <td>51</td>\n      <td>retired</td>\n      <td>married</td>\n      <td>primary</td>\n      <td>no</td>\n      <td>229</td>\n      <td>yes</td>\n      <td>no</td>\n      <td>15</td>\n      <td>unknown</td>\n      <td>5.0</td>\n      <td>may</td>\n      <td>353.0</td>\n      <td>1.0</td>\n      <td>-1.0</td>\n      <td>0.0</td>\n      <td>unknown</td>\n      <td>no</td>\n    </tr>\n    <tr>\n      <th>16</th>\n      <td>45</td>\n      <td>admin.</td>\n      <td>single</td>\n      <td>unknown</td>\n      <td>no</td>\n      <td>13</td>\n      <td>yes</td>\n      <td>no</td>\n      <td>16</td>\n      <td>NaN</td>\n      <td>NaN</td>\n      <td>NaN</td>\n      <td>NaN</td>\n      <td>NaN</td>\n      <td>NaN</td>\n      <td>NaN</td>\n      <td>NaN</td>\n      <td>NaN</td>\n    </tr>\n    <tr>\n      <th>17</th>\n      <td>57</td>\n      <td>blue-collar</td>\n      <td>married</td>\n      <td>primary</td>\n      <td>no</td>\n      <td>52</td>\n      <td>yes</td>\n      <td>no</td>\n      <td>17</td>\n      <td>unknown</td>\n      <td>5.0</td>\n      <td>may</td>\n      <td>38.0</td>\n      <td>1.0</td>\n      <td>-1.0</td>\n      <td>0.0</td>\n      <td>unknown</td>\n      <td>no</td>\n    </tr>\n    <tr>\n      <th>18</th>\n      <td>60</td>\n      <td>retired</td>\n      <td>married</td>\n      <td>primary</td>\n      <td>no</td>\n      <td>60</td>\n      <td>yes</td>\n      <td>no</td>\n      <td>18</td>\n      <td>unknown</td>\n      <td>5.0</td>\n      <td>may</td>\n      <td>219.0</td>\n      <td>1.0</td>\n      <td>-1.0</td>\n      <td>0.0</td>\n      <td>unknown</td>\n      <td>no</td>\n    </tr>\n    <tr>\n      <th>19</th>\n      <td>33</td>\n      <td>services</td>\n      <td>married</td>\n      <td>secondary</td>\n      <td>no</td>\n      <td>0</td>\n      <td>yes</td>\n      <td>no</td>\n      <td>19</td>\n      <td>unknown</td>\n      <td>5.0</td>\n      <td>may</td>\n      <td>54.0</td>\n      <td>1.0</td>\n      <td>-1.0</td>\n      <td>0.0</td>\n      <td>unknown</td>\n      <td>no</td>\n    </tr>\n    <tr>\n      <th>20</th>\n      <td>28</td>\n      <td>blue-collar</td>\n      <td>married</td>\n      <td>secondary</td>\n      <td>no</td>\n      <td>723</td>\n      <td>yes</td>\n      <td>yes</td>\n      <td>20</td>\n      <td>unknown</td>\n      <td>5.0</td>\n      <td>may</td>\n      <td>262.0</td>\n      <td>1.0</td>\n      <td>-1.0</td>\n      <td>0.0</td>\n      <td>unknown</td>\n      <td>no</td>\n    </tr>\n    <tr>\n      <th>21</th>\n      <td>56</td>\n      <td>management</td>\n      <td>married</td>\n      <td>tertiary</td>\n      <td>no</td>\n      <td>779</td>\n      <td>yes</td>\n      <td>no</td>\n      <td>21</td>\n      <td>unknown</td>\n      <td>5.0</td>\n      <td>may</td>\n      <td>164.0</td>\n      <td>1.0</td>\n      <td>-1.0</td>\n      <td>0.0</td>\n      <td>unknown</td>\n      <td>no</td>\n    </tr>\n    <tr>\n      <th>22</th>\n      <td>32</td>\n      <td>blue-collar</td>\n      <td>single</td>\n      <td>primary</td>\n      <td>no</td>\n      <td>23</td>\n      <td>yes</td>\n      <td>yes</td>\n      <td>22</td>\n      <td>NaN</td>\n      <td>NaN</td>\n      <td>NaN</td>\n      <td>NaN</td>\n      <td>NaN</td>\n      <td>NaN</td>\n      <td>NaN</td>\n      <td>NaN</td>\n      <td>NaN</td>\n    </tr>\n    <tr>\n      <th>23</th>\n      <td>25</td>\n      <td>services</td>\n      <td>married</td>\n      <td>secondary</td>\n      <td>no</td>\n      <td>50</td>\n      <td>yes</td>\n      <td>no</td>\n      <td>23</td>\n      <td>NaN</td>\n      <td>NaN</td>\n      <td>NaN</td>\n      <td>NaN</td>\n      <td>NaN</td>\n      <td>NaN</td>\n      <td>NaN</td>\n      <td>NaN</td>\n      <td>NaN</td>\n    </tr>\n    <tr>\n      <th>24</th>\n      <td>40</td>\n      <td>retired</td>\n      <td>married</td>\n      <td>primary</td>\n      <td>no</td>\n      <td>0</td>\n      <td>yes</td>\n      <td>yes</td>\n      <td>24</td>\n      <td>unknown</td>\n      <td>5.0</td>\n      <td>may</td>\n      <td>181.0</td>\n      <td>1.0</td>\n      <td>-1.0</td>\n      <td>0.0</td>\n      <td>unknown</td>\n      <td>no</td>\n    </tr>\n    <tr>\n      <th>25</th>\n      <td>44</td>\n      <td>admin.</td>\n      <td>married</td>\n      <td>secondary</td>\n      <td>no</td>\n      <td>-372</td>\n      <td>yes</td>\n      <td>no</td>\n      <td>25</td>\n      <td>NaN</td>\n      <td>NaN</td>\n      <td>NaN</td>\n      <td>NaN</td>\n      <td>NaN</td>\n      <td>NaN</td>\n      <td>NaN</td>\n      <td>NaN</td>\n      <td>NaN</td>\n    </tr>\n    <tr>\n      <th>26</th>\n      <td>39</td>\n      <td>management</td>\n      <td>single</td>\n      <td>tertiary</td>\n      <td>no</td>\n      <td>255</td>\n      <td>yes</td>\n      <td>no</td>\n      <td>26</td>\n      <td>NaN</td>\n      <td>NaN</td>\n      <td>NaN</td>\n      <td>NaN</td>\n      <td>NaN</td>\n      <td>NaN</td>\n      <td>NaN</td>\n      <td>NaN</td>\n      <td>NaN</td>\n    </tr>\n    <tr>\n      <th>27</th>\n      <td>52</td>\n      <td>entrepreneur</td>\n      <td>married</td>\n      <td>secondary</td>\n      <td>no</td>\n      <td>113</td>\n      <td>yes</td>\n      <td>yes</td>\n      <td>27</td>\n      <td>unknown</td>\n      <td>5.0</td>\n      <td>may</td>\n      <td>127.0</td>\n      <td>1.0</td>\n      <td>-1.0</td>\n      <td>0.0</td>\n      <td>unknown</td>\n      <td>no</td>\n    </tr>\n    <tr>\n      <th>28</th>\n      <td>46</td>\n      <td>management</td>\n      <td>single</td>\n      <td>secondary</td>\n      <td>no</td>\n      <td>-246</td>\n      <td>yes</td>\n      <td>no</td>\n      <td>28</td>\n      <td>unknown</td>\n      <td>5.0</td>\n      <td>may</td>\n      <td>255.0</td>\n      <td>2.0</td>\n      <td>-1.0</td>\n      <td>0.0</td>\n      <td>unknown</td>\n      <td>no</td>\n    </tr>\n    <tr>\n      <th>29</th>\n      <td>36</td>\n      <td>technician</td>\n      <td>single</td>\n      <td>secondary</td>\n      <td>no</td>\n      <td>265</td>\n      <td>yes</td>\n      <td>yes</td>\n      <td>29</td>\n      <td>unknown</td>\n      <td>5.0</td>\n      <td>may</td>\n      <td>348.0</td>\n      <td>1.0</td>\n      <td>-1.0</td>\n      <td>0.0</td>\n      <td>unknown</td>\n      <td>no</td>\n    </tr>\n    <tr>\n      <th>30</th>\n      <td>57</td>\n      <td>technician</td>\n      <td>married</td>\n      <td>secondary</td>\n      <td>no</td>\n      <td>839</td>\n      <td>no</td>\n      <td>yes</td>\n      <td>30</td>\n      <td>unknown</td>\n      <td>5.0</td>\n      <td>may</td>\n      <td>225.0</td>\n      <td>1.0</td>\n      <td>-1.0</td>\n      <td>0.0</td>\n      <td>unknown</td>\n      <td>no</td>\n    </tr>\n    <tr>\n      <th>31</th>\n      <td>49</td>\n      <td>management</td>\n      <td>married</td>\n      <td>tertiary</td>\n      <td>no</td>\n      <td>378</td>\n      <td>yes</td>\n      <td>no</td>\n      <td>31</td>\n      <td>unknown</td>\n      <td>5.0</td>\n      <td>may</td>\n      <td>230.0</td>\n      <td>1.0</td>\n      <td>-1.0</td>\n      <td>0.0</td>\n      <td>unknown</td>\n      <td>no</td>\n    </tr>\n    <tr>\n      <th>32</th>\n      <td>60</td>\n      <td>admin.</td>\n      <td>married</td>\n      <td>secondary</td>\n      <td>no</td>\n      <td>39</td>\n      <td>yes</td>\n      <td>yes</td>\n      <td>32</td>\n      <td>unknown</td>\n      <td>5.0</td>\n      <td>may</td>\n      <td>208.0</td>\n      <td>1.0</td>\n      <td>-1.0</td>\n      <td>0.0</td>\n      <td>unknown</td>\n      <td>no</td>\n    </tr>\n    <tr>\n      <th>33</th>\n      <td>59</td>\n      <td>blue-collar</td>\n      <td>married</td>\n      <td>secondary</td>\n      <td>no</td>\n      <td>0</td>\n      <td>yes</td>\n      <td>no</td>\n      <td>33</td>\n      <td>unknown</td>\n      <td>5.0</td>\n      <td>may</td>\n      <td>226.0</td>\n      <td>1.0</td>\n      <td>-1.0</td>\n      <td>0.0</td>\n      <td>unknown</td>\n      <td>no</td>\n    </tr>\n    <tr>\n      <th>34</th>\n      <td>51</td>\n      <td>management</td>\n      <td>married</td>\n      <td>tertiary</td>\n      <td>no</td>\n      <td>10635</td>\n      <td>yes</td>\n      <td>no</td>\n      <td>34</td>\n      <td>unknown</td>\n      <td>5.0</td>\n      <td>may</td>\n      <td>336.0</td>\n      <td>1.0</td>\n      <td>-1.0</td>\n      <td>0.0</td>\n      <td>unknown</td>\n      <td>no</td>\n    </tr>\n    <tr>\n      <th>35</th>\n      <td>57</td>\n      <td>technician</td>\n      <td>divorced</td>\n      <td>secondary</td>\n      <td>no</td>\n      <td>63</td>\n      <td>yes</td>\n      <td>no</td>\n      <td>35</td>\n      <td>unknown</td>\n      <td>5.0</td>\n      <td>may</td>\n      <td>242.0</td>\n      <td>1.0</td>\n      <td>-1.0</td>\n      <td>0.0</td>\n      <td>unknown</td>\n      <td>no</td>\n    </tr>\n    <tr>\n      <th>36</th>\n      <td>25</td>\n      <td>blue-collar</td>\n      <td>married</td>\n      <td>secondary</td>\n      <td>no</td>\n      <td>-7</td>\n      <td>yes</td>\n      <td>no</td>\n      <td>36</td>\n      <td>unknown</td>\n      <td>5.0</td>\n      <td>may</td>\n      <td>365.0</td>\n      <td>1.0</td>\n      <td>-1.0</td>\n      <td>0.0</td>\n      <td>unknown</td>\n      <td>no</td>\n    </tr>\n    <tr>\n      <th>37</th>\n      <td>53</td>\n      <td>technician</td>\n      <td>married</td>\n      <td>secondary</td>\n      <td>no</td>\n      <td>-3</td>\n      <td>no</td>\n      <td>no</td>\n      <td>37</td>\n      <td>NaN</td>\n      <td>NaN</td>\n      <td>NaN</td>\n      <td>NaN</td>\n      <td>NaN</td>\n      <td>NaN</td>\n      <td>NaN</td>\n      <td>NaN</td>\n      <td>NaN</td>\n    </tr>\n    <tr>\n      <th>38</th>\n      <td>36</td>\n      <td>admin.</td>\n      <td>divorced</td>\n      <td>secondary</td>\n      <td>no</td>\n      <td>506</td>\n      <td>yes</td>\n      <td>no</td>\n      <td>38</td>\n      <td>unknown</td>\n      <td>5.0</td>\n      <td>may</td>\n      <td>577.0</td>\n      <td>1.0</td>\n      <td>-1.0</td>\n      <td>0.0</td>\n      <td>unknown</td>\n      <td>no</td>\n    </tr>\n    <tr>\n      <th>39</th>\n      <td>37</td>\n      <td>admin.</td>\n      <td>single</td>\n      <td>secondary</td>\n      <td>no</td>\n      <td>0</td>\n      <td>yes</td>\n      <td>no</td>\n      <td>39</td>\n      <td>unknown</td>\n      <td>5.0</td>\n      <td>may</td>\n      <td>137.0</td>\n      <td>1.0</td>\n      <td>-1.0</td>\n      <td>0.0</td>\n      <td>unknown</td>\n      <td>no</td>\n    </tr>\n    <tr>\n      <th>40</th>\n      <td>44</td>\n      <td>services</td>\n      <td>divorced</td>\n      <td>secondary</td>\n      <td>no</td>\n      <td>2586</td>\n      <td>yes</td>\n      <td>no</td>\n      <td>40</td>\n      <td>unknown</td>\n      <td>5.0</td>\n      <td>may</td>\n      <td>160.0</td>\n      <td>1.0</td>\n      <td>-1.0</td>\n      <td>0.0</td>\n      <td>unknown</td>\n      <td>no</td>\n    </tr>\n    <tr>\n      <th>41</th>\n      <td>50</td>\n      <td>management</td>\n      <td>married</td>\n      <td>secondary</td>\n      <td>no</td>\n      <td>49</td>\n      <td>yes</td>\n      <td>no</td>\n      <td>41</td>\n      <td>unknown</td>\n      <td>5.0</td>\n      <td>may</td>\n      <td>180.0</td>\n      <td>2.0</td>\n      <td>-1.0</td>\n      <td>0.0</td>\n      <td>unknown</td>\n      <td>no</td>\n    </tr>\n    <tr>\n      <th>42</th>\n      <td>60</td>\n      <td>blue-collar</td>\n      <td>married</td>\n      <td>unknown</td>\n      <td>no</td>\n      <td>104</td>\n      <td>yes</td>\n      <td>no</td>\n      <td>42</td>\n      <td>unknown</td>\n      <td>5.0</td>\n      <td>may</td>\n      <td>22.0</td>\n      <td>1.0</td>\n      <td>-1.0</td>\n      <td>0.0</td>\n      <td>unknown</td>\n      <td>no</td>\n    </tr>\n    <tr>\n      <th>43</th>\n      <td>54</td>\n      <td>retired</td>\n      <td>married</td>\n      <td>secondary</td>\n      <td>no</td>\n      <td>529</td>\n      <td>yes</td>\n      <td>no</td>\n      <td>43</td>\n      <td>unknown</td>\n      <td>5.0</td>\n      <td>may</td>\n      <td>1492.0</td>\n      <td>1.0</td>\n      <td>-1.0</td>\n      <td>0.0</td>\n      <td>unknown</td>\n      <td>no</td>\n    </tr>\n    <tr>\n      <th>44</th>\n      <td>58</td>\n      <td>retired</td>\n      <td>married</td>\n      <td>unknown</td>\n      <td>no</td>\n      <td>96</td>\n      <td>yes</td>\n      <td>no</td>\n      <td>44</td>\n      <td>unknown</td>\n      <td>5.0</td>\n      <td>may</td>\n      <td>616.0</td>\n      <td>1.0</td>\n      <td>-1.0</td>\n      <td>0.0</td>\n      <td>unknown</td>\n      <td>no</td>\n    </tr>\n    <tr>\n      <th>45</th>\n      <td>36</td>\n      <td>admin.</td>\n      <td>single</td>\n      <td>primary</td>\n      <td>no</td>\n      <td>-171</td>\n      <td>yes</td>\n      <td>no</td>\n      <td>45</td>\n      <td>NaN</td>\n      <td>NaN</td>\n      <td>NaN</td>\n      <td>NaN</td>\n      <td>NaN</td>\n      <td>NaN</td>\n      <td>NaN</td>\n      <td>NaN</td>\n      <td>NaN</td>\n    </tr>\n    <tr>\n      <th>46</th>\n      <td>58</td>\n      <td>self-employed</td>\n      <td>married</td>\n      <td>tertiary</td>\n      <td>no</td>\n      <td>-364</td>\n      <td>yes</td>\n      <td>no</td>\n      <td>46</td>\n      <td>unknown</td>\n      <td>5.0</td>\n      <td>may</td>\n      <td>355.0</td>\n      <td>1.0</td>\n      <td>-1.0</td>\n      <td>0.0</td>\n      <td>unknown</td>\n      <td>no</td>\n    </tr>\n    <tr>\n      <th>47</th>\n      <td>44</td>\n      <td>technician</td>\n      <td>married</td>\n      <td>secondary</td>\n      <td>no</td>\n      <td>0</td>\n      <td>yes</td>\n      <td>no</td>\n      <td>47</td>\n      <td>unknown</td>\n      <td>5.0</td>\n      <td>may</td>\n      <td>225.0</td>\n      <td>2.0</td>\n      <td>-1.0</td>\n      <td>0.0</td>\n      <td>unknown</td>\n      <td>no</td>\n    </tr>\n    <tr>\n      <th>48</th>\n      <td>55</td>\n      <td>technician</td>\n      <td>divorced</td>\n      <td>secondary</td>\n      <td>no</td>\n      <td>0</td>\n      <td>no</td>\n      <td>no</td>\n      <td>48</td>\n      <td>unknown</td>\n      <td>5.0</td>\n      <td>may</td>\n      <td>160.0</td>\n      <td>1.0</td>\n      <td>-1.0</td>\n      <td>0.0</td>\n      <td>unknown</td>\n      <td>no</td>\n    </tr>\n    <tr>\n      <th>49</th>\n      <td>29</td>\n      <td>management</td>\n      <td>single</td>\n      <td>tertiary</td>\n      <td>no</td>\n      <td>0</td>\n      <td>yes</td>\n      <td>no</td>\n      <td>49</td>\n      <td>NaN</td>\n      <td>NaN</td>\n      <td>NaN</td>\n      <td>NaN</td>\n      <td>NaN</td>\n      <td>NaN</td>\n      <td>NaN</td>\n      <td>NaN</td>\n      <td>NaN</td>\n    </tr>\n  </tbody>\n</table>\n</div>"
     },
     "execution_count": 16,
     "metadata": {},
     "output_type": "execute_result"
    }
   ],
   "source": [
    "print(aligned_df.shape)\n",
    "aligned_df.head(50)"
   ],
   "metadata": {
    "collapsed": false,
    "pycharm": {
     "name": "#%%\n"
    }
   }
  },
  {
   "cell_type": "code",
   "execution_count": 17,
   "outputs": [],
   "source": [
    "# 假设df1和df2是你的两个DataFrame\n",
    "aligned_df_new = aligned_df.combine_first(correlation_synthetic_data)"
   ],
   "metadata": {
    "collapsed": false,
    "pycharm": {
     "name": "#%%\n"
    }
   }
  },
  {
   "cell_type": "code",
   "execution_count": 18,
   "outputs": [
    {
     "name": "stdout",
     "output_type": "stream",
     "text": [
      "(45211, 17)\n"
     ]
    },
    {
     "data": {
      "text/plain": "    age  balance  campaign  contact  day default  duration  education housing  \\\n0    58     2143       1.0  unknown  5.0      no     261.0   tertiary     yes   \n1    44       29       1.0  unknown  5.0      no     151.0  secondary     yes   \n2    33        2       1.0  unknown  5.0      no      76.0  secondary     yes   \n3    47     1506       NaN      NaN  NaN      no       NaN    unknown     yes   \n4    33        1       1.0  unknown  5.0      no     198.0    unknown      no   \n5    35      231       1.0  unknown  5.0      no     139.0   tertiary     yes   \n6    28      447       1.0  unknown  5.0      no     217.0   tertiary     yes   \n7    42        2       1.0  unknown  5.0     yes     380.0   tertiary     yes   \n8    58      121       NaN      NaN  NaN      no       NaN    primary     yes   \n9    43      593       NaN      NaN  NaN      no       NaN  secondary     yes   \n10   41      270       1.0  unknown  5.0      no     222.0  secondary     yes   \n11   29      390       1.0  unknown  5.0      no     137.0  secondary     yes   \n12   53        6       NaN      NaN  NaN      no       NaN  secondary     yes   \n13   58       71       NaN      NaN  NaN      no       NaN    unknown     yes   \n14   57      162       1.0  unknown  5.0      no     174.0  secondary     yes   \n15   51      229       1.0  unknown  5.0      no     353.0    primary     yes   \n16   45       13       NaN      NaN  NaN      no       NaN    unknown     yes   \n17   57       52       1.0  unknown  5.0      no      38.0    primary     yes   \n18   60       60       1.0  unknown  5.0      no     219.0    primary     yes   \n19   33        0       1.0  unknown  5.0      no      54.0  secondary     yes   \n20   28      723       1.0  unknown  5.0      no     262.0  secondary     yes   \n21   56      779       1.0  unknown  5.0      no     164.0   tertiary     yes   \n22   32       23       NaN      NaN  NaN      no       NaN    primary     yes   \n23   25       50       NaN      NaN  NaN      no       NaN  secondary     yes   \n24   40        0       1.0  unknown  5.0      no     181.0    primary     yes   \n25   44     -372       NaN      NaN  NaN      no       NaN  secondary     yes   \n26   39      255       NaN      NaN  NaN      no       NaN   tertiary     yes   \n27   52      113       1.0  unknown  5.0      no     127.0  secondary     yes   \n28   46     -246       2.0  unknown  5.0      no     255.0  secondary     yes   \n29   36      265       1.0  unknown  5.0      no     348.0  secondary     yes   \n30   57      839       1.0  unknown  5.0      no     225.0  secondary      no   \n31   49      378       1.0  unknown  5.0      no     230.0   tertiary     yes   \n32   60       39       1.0  unknown  5.0      no     208.0  secondary     yes   \n33   59        0       1.0  unknown  5.0      no     226.0  secondary     yes   \n34   51    10635       1.0  unknown  5.0      no     336.0   tertiary     yes   \n35   57       63       1.0  unknown  5.0      no     242.0  secondary     yes   \n36   25       -7       1.0  unknown  5.0      no     365.0  secondary     yes   \n37   53       -3       NaN      NaN  NaN      no       NaN  secondary      no   \n38   36      506       1.0  unknown  5.0      no     577.0  secondary     yes   \n39   37        0       1.0  unknown  5.0      no     137.0  secondary     yes   \n40   44     2586       1.0  unknown  5.0      no     160.0  secondary     yes   \n41   50       49       2.0  unknown  5.0      no     180.0  secondary     yes   \n42   60      104       1.0  unknown  5.0      no      22.0    unknown     yes   \n43   54      529       1.0  unknown  5.0      no    1492.0  secondary     yes   \n44   58       96       1.0  unknown  5.0      no     616.0    unknown     yes   \n45   36     -171       NaN      NaN  NaN      no       NaN    primary     yes   \n46   58     -364       1.0  unknown  5.0      no     355.0   tertiary     yes   \n47   44        0       2.0  unknown  5.0      no     225.0  secondary     yes   \n48   55        0       1.0  unknown  5.0      no     160.0  secondary      no   \n49   29        0       NaN      NaN  NaN      no       NaN   tertiary     yes   \n\n    index            job loan   marital month  pdays poutcome  previous  \n0       0     management   no   married   may   -1.0  unknown       0.0  \n1       1     technician   no    single   may   -1.0  unknown       0.0  \n2       2   entrepreneur  yes   married   may   -1.0  unknown       0.0  \n3       3    blue-collar   no   married   NaN    1.0  failure       0.0  \n4       4        unknown   no    single   may   -1.0  unknown       0.0  \n5       5     management   no   married   may   -1.0  unknown       0.0  \n6       6     management  yes    single   may   -1.0  unknown       0.0  \n7       7   entrepreneur   no  divorced   may   -1.0  unknown       0.0  \n8       8        retired   no   married   NaN  156.0  unknown       0.0  \n9       9     technician   no    single   NaN  146.0    other       0.0  \n10     10         admin.   no  divorced   may   -1.0  unknown       0.0  \n11     11         admin.   no    single   may   -1.0  unknown       0.0  \n12     12     technician   no   married   NaN   -2.0  unknown       2.0  \n13     13     technician   no   married   NaN   -3.0  unknown       3.0  \n14     14       services   no   married   may   -1.0  unknown       0.0  \n15     15        retired   no   married   may   -1.0  unknown       0.0  \n16     16         admin.   no    single   NaN  158.0  success       0.0  \n17     17    blue-collar   no   married   may   -1.0  unknown       0.0  \n18     18        retired   no   married   may   -1.0  unknown       0.0  \n19     19       services   no   married   may   -1.0  unknown       0.0  \n20     20    blue-collar  yes   married   may   -1.0  unknown       0.0  \n21     21     management   no   married   may   -1.0  unknown       0.0  \n22     22    blue-collar  yes    single   NaN   98.0  failure       0.0  \n23     23       services   no   married   NaN   64.0  success       1.0  \n24     24        retired  yes   married   may   -1.0  unknown       0.0  \n25     25         admin.   no   married   NaN   -1.0  failure       5.0  \n26     26     management   no    single   NaN   -2.0  unknown       0.0  \n27     27   entrepreneur  yes   married   may   -1.0  unknown       0.0  \n28     28     management   no    single   may   -1.0  unknown       0.0  \n29     29     technician  yes    single   may   -1.0  unknown       0.0  \n30     30     technician  yes   married   may   -1.0  unknown       0.0  \n31     31     management   no   married   may   -1.0  unknown       0.0  \n32     32         admin.  yes   married   may   -1.0  unknown       0.0  \n33     33    blue-collar   no   married   may   -1.0  unknown       0.0  \n34     34     management   no   married   may   -1.0  unknown       0.0  \n35     35     technician   no  divorced   may   -1.0  unknown       0.0  \n36     36    blue-collar   no   married   may   -1.0  unknown       0.0  \n37     37     technician   no   married   NaN   -1.0  unknown       2.0  \n38     38         admin.   no  divorced   may   -1.0  unknown       0.0  \n39     39         admin.   no    single   may   -1.0  unknown       0.0  \n40     40       services   no  divorced   may   -1.0  unknown       0.0  \n41     41     management   no   married   may   -1.0  unknown       0.0  \n42     42    blue-collar   no   married   may   -1.0  unknown       0.0  \n43     43        retired   no   married   may   -1.0  unknown       0.0  \n44     44        retired   no   married   may   -1.0  unknown       0.0  \n45     45         admin.   no    single   NaN  172.0  unknown       0.0  \n46     46  self-employed   no   married   may   -1.0  unknown       0.0  \n47     47     technician   no   married   may   -1.0  unknown       0.0  \n48     48     technician   no  divorced   may   -1.0  unknown       0.0  \n49     49     management   no    single   NaN   -2.0  failure       0.0  ",
      "text/html": "<div>\n<style scoped>\n    .dataframe tbody tr th:only-of-type {\n        vertical-align: middle;\n    }\n\n    .dataframe tbody tr th {\n        vertical-align: top;\n    }\n\n    .dataframe thead th {\n        text-align: right;\n    }\n</style>\n<table border=\"1\" class=\"dataframe\">\n  <thead>\n    <tr style=\"text-align: right;\">\n      <th></th>\n      <th>age</th>\n      <th>balance</th>\n      <th>campaign</th>\n      <th>contact</th>\n      <th>day</th>\n      <th>default</th>\n      <th>duration</th>\n      <th>education</th>\n      <th>housing</th>\n      <th>index</th>\n      <th>job</th>\n      <th>loan</th>\n      <th>marital</th>\n      <th>month</th>\n      <th>pdays</th>\n      <th>poutcome</th>\n      <th>previous</th>\n    </tr>\n  </thead>\n  <tbody>\n    <tr>\n      <th>0</th>\n      <td>58</td>\n      <td>2143</td>\n      <td>1.0</td>\n      <td>unknown</td>\n      <td>5.0</td>\n      <td>no</td>\n      <td>261.0</td>\n      <td>tertiary</td>\n      <td>yes</td>\n      <td>0</td>\n      <td>management</td>\n      <td>no</td>\n      <td>married</td>\n      <td>may</td>\n      <td>-1.0</td>\n      <td>unknown</td>\n      <td>0.0</td>\n    </tr>\n    <tr>\n      <th>1</th>\n      <td>44</td>\n      <td>29</td>\n      <td>1.0</td>\n      <td>unknown</td>\n      <td>5.0</td>\n      <td>no</td>\n      <td>151.0</td>\n      <td>secondary</td>\n      <td>yes</td>\n      <td>1</td>\n      <td>technician</td>\n      <td>no</td>\n      <td>single</td>\n      <td>may</td>\n      <td>-1.0</td>\n      <td>unknown</td>\n      <td>0.0</td>\n    </tr>\n    <tr>\n      <th>2</th>\n      <td>33</td>\n      <td>2</td>\n      <td>1.0</td>\n      <td>unknown</td>\n      <td>5.0</td>\n      <td>no</td>\n      <td>76.0</td>\n      <td>secondary</td>\n      <td>yes</td>\n      <td>2</td>\n      <td>entrepreneur</td>\n      <td>yes</td>\n      <td>married</td>\n      <td>may</td>\n      <td>-1.0</td>\n      <td>unknown</td>\n      <td>0.0</td>\n    </tr>\n    <tr>\n      <th>3</th>\n      <td>47</td>\n      <td>1506</td>\n      <td>NaN</td>\n      <td>NaN</td>\n      <td>NaN</td>\n      <td>no</td>\n      <td>NaN</td>\n      <td>unknown</td>\n      <td>yes</td>\n      <td>3</td>\n      <td>blue-collar</td>\n      <td>no</td>\n      <td>married</td>\n      <td>NaN</td>\n      <td>1.0</td>\n      <td>failure</td>\n      <td>0.0</td>\n    </tr>\n    <tr>\n      <th>4</th>\n      <td>33</td>\n      <td>1</td>\n      <td>1.0</td>\n      <td>unknown</td>\n      <td>5.0</td>\n      <td>no</td>\n      <td>198.0</td>\n      <td>unknown</td>\n      <td>no</td>\n      <td>4</td>\n      <td>unknown</td>\n      <td>no</td>\n      <td>single</td>\n      <td>may</td>\n      <td>-1.0</td>\n      <td>unknown</td>\n      <td>0.0</td>\n    </tr>\n    <tr>\n      <th>5</th>\n      <td>35</td>\n      <td>231</td>\n      <td>1.0</td>\n      <td>unknown</td>\n      <td>5.0</td>\n      <td>no</td>\n      <td>139.0</td>\n      <td>tertiary</td>\n      <td>yes</td>\n      <td>5</td>\n      <td>management</td>\n      <td>no</td>\n      <td>married</td>\n      <td>may</td>\n      <td>-1.0</td>\n      <td>unknown</td>\n      <td>0.0</td>\n    </tr>\n    <tr>\n      <th>6</th>\n      <td>28</td>\n      <td>447</td>\n      <td>1.0</td>\n      <td>unknown</td>\n      <td>5.0</td>\n      <td>no</td>\n      <td>217.0</td>\n      <td>tertiary</td>\n      <td>yes</td>\n      <td>6</td>\n      <td>management</td>\n      <td>yes</td>\n      <td>single</td>\n      <td>may</td>\n      <td>-1.0</td>\n      <td>unknown</td>\n      <td>0.0</td>\n    </tr>\n    <tr>\n      <th>7</th>\n      <td>42</td>\n      <td>2</td>\n      <td>1.0</td>\n      <td>unknown</td>\n      <td>5.0</td>\n      <td>yes</td>\n      <td>380.0</td>\n      <td>tertiary</td>\n      <td>yes</td>\n      <td>7</td>\n      <td>entrepreneur</td>\n      <td>no</td>\n      <td>divorced</td>\n      <td>may</td>\n      <td>-1.0</td>\n      <td>unknown</td>\n      <td>0.0</td>\n    </tr>\n    <tr>\n      <th>8</th>\n      <td>58</td>\n      <td>121</td>\n      <td>NaN</td>\n      <td>NaN</td>\n      <td>NaN</td>\n      <td>no</td>\n      <td>NaN</td>\n      <td>primary</td>\n      <td>yes</td>\n      <td>8</td>\n      <td>retired</td>\n      <td>no</td>\n      <td>married</td>\n      <td>NaN</td>\n      <td>156.0</td>\n      <td>unknown</td>\n      <td>0.0</td>\n    </tr>\n    <tr>\n      <th>9</th>\n      <td>43</td>\n      <td>593</td>\n      <td>NaN</td>\n      <td>NaN</td>\n      <td>NaN</td>\n      <td>no</td>\n      <td>NaN</td>\n      <td>secondary</td>\n      <td>yes</td>\n      <td>9</td>\n      <td>technician</td>\n      <td>no</td>\n      <td>single</td>\n      <td>NaN</td>\n      <td>146.0</td>\n      <td>other</td>\n      <td>0.0</td>\n    </tr>\n    <tr>\n      <th>10</th>\n      <td>41</td>\n      <td>270</td>\n      <td>1.0</td>\n      <td>unknown</td>\n      <td>5.0</td>\n      <td>no</td>\n      <td>222.0</td>\n      <td>secondary</td>\n      <td>yes</td>\n      <td>10</td>\n      <td>admin.</td>\n      <td>no</td>\n      <td>divorced</td>\n      <td>may</td>\n      <td>-1.0</td>\n      <td>unknown</td>\n      <td>0.0</td>\n    </tr>\n    <tr>\n      <th>11</th>\n      <td>29</td>\n      <td>390</td>\n      <td>1.0</td>\n      <td>unknown</td>\n      <td>5.0</td>\n      <td>no</td>\n      <td>137.0</td>\n      <td>secondary</td>\n      <td>yes</td>\n      <td>11</td>\n      <td>admin.</td>\n      <td>no</td>\n      <td>single</td>\n      <td>may</td>\n      <td>-1.0</td>\n      <td>unknown</td>\n      <td>0.0</td>\n    </tr>\n    <tr>\n      <th>12</th>\n      <td>53</td>\n      <td>6</td>\n      <td>NaN</td>\n      <td>NaN</td>\n      <td>NaN</td>\n      <td>no</td>\n      <td>NaN</td>\n      <td>secondary</td>\n      <td>yes</td>\n      <td>12</td>\n      <td>technician</td>\n      <td>no</td>\n      <td>married</td>\n      <td>NaN</td>\n      <td>-2.0</td>\n      <td>unknown</td>\n      <td>2.0</td>\n    </tr>\n    <tr>\n      <th>13</th>\n      <td>58</td>\n      <td>71</td>\n      <td>NaN</td>\n      <td>NaN</td>\n      <td>NaN</td>\n      <td>no</td>\n      <td>NaN</td>\n      <td>unknown</td>\n      <td>yes</td>\n      <td>13</td>\n      <td>technician</td>\n      <td>no</td>\n      <td>married</td>\n      <td>NaN</td>\n      <td>-3.0</td>\n      <td>unknown</td>\n      <td>3.0</td>\n    </tr>\n    <tr>\n      <th>14</th>\n      <td>57</td>\n      <td>162</td>\n      <td>1.0</td>\n      <td>unknown</td>\n      <td>5.0</td>\n      <td>no</td>\n      <td>174.0</td>\n      <td>secondary</td>\n      <td>yes</td>\n      <td>14</td>\n      <td>services</td>\n      <td>no</td>\n      <td>married</td>\n      <td>may</td>\n      <td>-1.0</td>\n      <td>unknown</td>\n      <td>0.0</td>\n    </tr>\n    <tr>\n      <th>15</th>\n      <td>51</td>\n      <td>229</td>\n      <td>1.0</td>\n      <td>unknown</td>\n      <td>5.0</td>\n      <td>no</td>\n      <td>353.0</td>\n      <td>primary</td>\n      <td>yes</td>\n      <td>15</td>\n      <td>retired</td>\n      <td>no</td>\n      <td>married</td>\n      <td>may</td>\n      <td>-1.0</td>\n      <td>unknown</td>\n      <td>0.0</td>\n    </tr>\n    <tr>\n      <th>16</th>\n      <td>45</td>\n      <td>13</td>\n      <td>NaN</td>\n      <td>NaN</td>\n      <td>NaN</td>\n      <td>no</td>\n      <td>NaN</td>\n      <td>unknown</td>\n      <td>yes</td>\n      <td>16</td>\n      <td>admin.</td>\n      <td>no</td>\n      <td>single</td>\n      <td>NaN</td>\n      <td>158.0</td>\n      <td>success</td>\n      <td>0.0</td>\n    </tr>\n    <tr>\n      <th>17</th>\n      <td>57</td>\n      <td>52</td>\n      <td>1.0</td>\n      <td>unknown</td>\n      <td>5.0</td>\n      <td>no</td>\n      <td>38.0</td>\n      <td>primary</td>\n      <td>yes</td>\n      <td>17</td>\n      <td>blue-collar</td>\n      <td>no</td>\n      <td>married</td>\n      <td>may</td>\n      <td>-1.0</td>\n      <td>unknown</td>\n      <td>0.0</td>\n    </tr>\n    <tr>\n      <th>18</th>\n      <td>60</td>\n      <td>60</td>\n      <td>1.0</td>\n      <td>unknown</td>\n      <td>5.0</td>\n      <td>no</td>\n      <td>219.0</td>\n      <td>primary</td>\n      <td>yes</td>\n      <td>18</td>\n      <td>retired</td>\n      <td>no</td>\n      <td>married</td>\n      <td>may</td>\n      <td>-1.0</td>\n      <td>unknown</td>\n      <td>0.0</td>\n    </tr>\n    <tr>\n      <th>19</th>\n      <td>33</td>\n      <td>0</td>\n      <td>1.0</td>\n      <td>unknown</td>\n      <td>5.0</td>\n      <td>no</td>\n      <td>54.0</td>\n      <td>secondary</td>\n      <td>yes</td>\n      <td>19</td>\n      <td>services</td>\n      <td>no</td>\n      <td>married</td>\n      <td>may</td>\n      <td>-1.0</td>\n      <td>unknown</td>\n      <td>0.0</td>\n    </tr>\n    <tr>\n      <th>20</th>\n      <td>28</td>\n      <td>723</td>\n      <td>1.0</td>\n      <td>unknown</td>\n      <td>5.0</td>\n      <td>no</td>\n      <td>262.0</td>\n      <td>secondary</td>\n      <td>yes</td>\n      <td>20</td>\n      <td>blue-collar</td>\n      <td>yes</td>\n      <td>married</td>\n      <td>may</td>\n      <td>-1.0</td>\n      <td>unknown</td>\n      <td>0.0</td>\n    </tr>\n    <tr>\n      <th>21</th>\n      <td>56</td>\n      <td>779</td>\n      <td>1.0</td>\n      <td>unknown</td>\n      <td>5.0</td>\n      <td>no</td>\n      <td>164.0</td>\n      <td>tertiary</td>\n      <td>yes</td>\n      <td>21</td>\n      <td>management</td>\n      <td>no</td>\n      <td>married</td>\n      <td>may</td>\n      <td>-1.0</td>\n      <td>unknown</td>\n      <td>0.0</td>\n    </tr>\n    <tr>\n      <th>22</th>\n      <td>32</td>\n      <td>23</td>\n      <td>NaN</td>\n      <td>NaN</td>\n      <td>NaN</td>\n      <td>no</td>\n      <td>NaN</td>\n      <td>primary</td>\n      <td>yes</td>\n      <td>22</td>\n      <td>blue-collar</td>\n      <td>yes</td>\n      <td>single</td>\n      <td>NaN</td>\n      <td>98.0</td>\n      <td>failure</td>\n      <td>0.0</td>\n    </tr>\n    <tr>\n      <th>23</th>\n      <td>25</td>\n      <td>50</td>\n      <td>NaN</td>\n      <td>NaN</td>\n      <td>NaN</td>\n      <td>no</td>\n      <td>NaN</td>\n      <td>secondary</td>\n      <td>yes</td>\n      <td>23</td>\n      <td>services</td>\n      <td>no</td>\n      <td>married</td>\n      <td>NaN</td>\n      <td>64.0</td>\n      <td>success</td>\n      <td>1.0</td>\n    </tr>\n    <tr>\n      <th>24</th>\n      <td>40</td>\n      <td>0</td>\n      <td>1.0</td>\n      <td>unknown</td>\n      <td>5.0</td>\n      <td>no</td>\n      <td>181.0</td>\n      <td>primary</td>\n      <td>yes</td>\n      <td>24</td>\n      <td>retired</td>\n      <td>yes</td>\n      <td>married</td>\n      <td>may</td>\n      <td>-1.0</td>\n      <td>unknown</td>\n      <td>0.0</td>\n    </tr>\n    <tr>\n      <th>25</th>\n      <td>44</td>\n      <td>-372</td>\n      <td>NaN</td>\n      <td>NaN</td>\n      <td>NaN</td>\n      <td>no</td>\n      <td>NaN</td>\n      <td>secondary</td>\n      <td>yes</td>\n      <td>25</td>\n      <td>admin.</td>\n      <td>no</td>\n      <td>married</td>\n      <td>NaN</td>\n      <td>-1.0</td>\n      <td>failure</td>\n      <td>5.0</td>\n    </tr>\n    <tr>\n      <th>26</th>\n      <td>39</td>\n      <td>255</td>\n      <td>NaN</td>\n      <td>NaN</td>\n      <td>NaN</td>\n      <td>no</td>\n      <td>NaN</td>\n      <td>tertiary</td>\n      <td>yes</td>\n      <td>26</td>\n      <td>management</td>\n      <td>no</td>\n      <td>single</td>\n      <td>NaN</td>\n      <td>-2.0</td>\n      <td>unknown</td>\n      <td>0.0</td>\n    </tr>\n    <tr>\n      <th>27</th>\n      <td>52</td>\n      <td>113</td>\n      <td>1.0</td>\n      <td>unknown</td>\n      <td>5.0</td>\n      <td>no</td>\n      <td>127.0</td>\n      <td>secondary</td>\n      <td>yes</td>\n      <td>27</td>\n      <td>entrepreneur</td>\n      <td>yes</td>\n      <td>married</td>\n      <td>may</td>\n      <td>-1.0</td>\n      <td>unknown</td>\n      <td>0.0</td>\n    </tr>\n    <tr>\n      <th>28</th>\n      <td>46</td>\n      <td>-246</td>\n      <td>2.0</td>\n      <td>unknown</td>\n      <td>5.0</td>\n      <td>no</td>\n      <td>255.0</td>\n      <td>secondary</td>\n      <td>yes</td>\n      <td>28</td>\n      <td>management</td>\n      <td>no</td>\n      <td>single</td>\n      <td>may</td>\n      <td>-1.0</td>\n      <td>unknown</td>\n      <td>0.0</td>\n    </tr>\n    <tr>\n      <th>29</th>\n      <td>36</td>\n      <td>265</td>\n      <td>1.0</td>\n      <td>unknown</td>\n      <td>5.0</td>\n      <td>no</td>\n      <td>348.0</td>\n      <td>secondary</td>\n      <td>yes</td>\n      <td>29</td>\n      <td>technician</td>\n      <td>yes</td>\n      <td>single</td>\n      <td>may</td>\n      <td>-1.0</td>\n      <td>unknown</td>\n      <td>0.0</td>\n    </tr>\n    <tr>\n      <th>30</th>\n      <td>57</td>\n      <td>839</td>\n      <td>1.0</td>\n      <td>unknown</td>\n      <td>5.0</td>\n      <td>no</td>\n      <td>225.0</td>\n      <td>secondary</td>\n      <td>no</td>\n      <td>30</td>\n      <td>technician</td>\n      <td>yes</td>\n      <td>married</td>\n      <td>may</td>\n      <td>-1.0</td>\n      <td>unknown</td>\n      <td>0.0</td>\n    </tr>\n    <tr>\n      <th>31</th>\n      <td>49</td>\n      <td>378</td>\n      <td>1.0</td>\n      <td>unknown</td>\n      <td>5.0</td>\n      <td>no</td>\n      <td>230.0</td>\n      <td>tertiary</td>\n      <td>yes</td>\n      <td>31</td>\n      <td>management</td>\n      <td>no</td>\n      <td>married</td>\n      <td>may</td>\n      <td>-1.0</td>\n      <td>unknown</td>\n      <td>0.0</td>\n    </tr>\n    <tr>\n      <th>32</th>\n      <td>60</td>\n      <td>39</td>\n      <td>1.0</td>\n      <td>unknown</td>\n      <td>5.0</td>\n      <td>no</td>\n      <td>208.0</td>\n      <td>secondary</td>\n      <td>yes</td>\n      <td>32</td>\n      <td>admin.</td>\n      <td>yes</td>\n      <td>married</td>\n      <td>may</td>\n      <td>-1.0</td>\n      <td>unknown</td>\n      <td>0.0</td>\n    </tr>\n    <tr>\n      <th>33</th>\n      <td>59</td>\n      <td>0</td>\n      <td>1.0</td>\n      <td>unknown</td>\n      <td>5.0</td>\n      <td>no</td>\n      <td>226.0</td>\n      <td>secondary</td>\n      <td>yes</td>\n      <td>33</td>\n      <td>blue-collar</td>\n      <td>no</td>\n      <td>married</td>\n      <td>may</td>\n      <td>-1.0</td>\n      <td>unknown</td>\n      <td>0.0</td>\n    </tr>\n    <tr>\n      <th>34</th>\n      <td>51</td>\n      <td>10635</td>\n      <td>1.0</td>\n      <td>unknown</td>\n      <td>5.0</td>\n      <td>no</td>\n      <td>336.0</td>\n      <td>tertiary</td>\n      <td>yes</td>\n      <td>34</td>\n      <td>management</td>\n      <td>no</td>\n      <td>married</td>\n      <td>may</td>\n      <td>-1.0</td>\n      <td>unknown</td>\n      <td>0.0</td>\n    </tr>\n    <tr>\n      <th>35</th>\n      <td>57</td>\n      <td>63</td>\n      <td>1.0</td>\n      <td>unknown</td>\n      <td>5.0</td>\n      <td>no</td>\n      <td>242.0</td>\n      <td>secondary</td>\n      <td>yes</td>\n      <td>35</td>\n      <td>technician</td>\n      <td>no</td>\n      <td>divorced</td>\n      <td>may</td>\n      <td>-1.0</td>\n      <td>unknown</td>\n      <td>0.0</td>\n    </tr>\n    <tr>\n      <th>36</th>\n      <td>25</td>\n      <td>-7</td>\n      <td>1.0</td>\n      <td>unknown</td>\n      <td>5.0</td>\n      <td>no</td>\n      <td>365.0</td>\n      <td>secondary</td>\n      <td>yes</td>\n      <td>36</td>\n      <td>blue-collar</td>\n      <td>no</td>\n      <td>married</td>\n      <td>may</td>\n      <td>-1.0</td>\n      <td>unknown</td>\n      <td>0.0</td>\n    </tr>\n    <tr>\n      <th>37</th>\n      <td>53</td>\n      <td>-3</td>\n      <td>NaN</td>\n      <td>NaN</td>\n      <td>NaN</td>\n      <td>no</td>\n      <td>NaN</td>\n      <td>secondary</td>\n      <td>no</td>\n      <td>37</td>\n      <td>technician</td>\n      <td>no</td>\n      <td>married</td>\n      <td>NaN</td>\n      <td>-1.0</td>\n      <td>unknown</td>\n      <td>2.0</td>\n    </tr>\n    <tr>\n      <th>38</th>\n      <td>36</td>\n      <td>506</td>\n      <td>1.0</td>\n      <td>unknown</td>\n      <td>5.0</td>\n      <td>no</td>\n      <td>577.0</td>\n      <td>secondary</td>\n      <td>yes</td>\n      <td>38</td>\n      <td>admin.</td>\n      <td>no</td>\n      <td>divorced</td>\n      <td>may</td>\n      <td>-1.0</td>\n      <td>unknown</td>\n      <td>0.0</td>\n    </tr>\n    <tr>\n      <th>39</th>\n      <td>37</td>\n      <td>0</td>\n      <td>1.0</td>\n      <td>unknown</td>\n      <td>5.0</td>\n      <td>no</td>\n      <td>137.0</td>\n      <td>secondary</td>\n      <td>yes</td>\n      <td>39</td>\n      <td>admin.</td>\n      <td>no</td>\n      <td>single</td>\n      <td>may</td>\n      <td>-1.0</td>\n      <td>unknown</td>\n      <td>0.0</td>\n    </tr>\n    <tr>\n      <th>40</th>\n      <td>44</td>\n      <td>2586</td>\n      <td>1.0</td>\n      <td>unknown</td>\n      <td>5.0</td>\n      <td>no</td>\n      <td>160.0</td>\n      <td>secondary</td>\n      <td>yes</td>\n      <td>40</td>\n      <td>services</td>\n      <td>no</td>\n      <td>divorced</td>\n      <td>may</td>\n      <td>-1.0</td>\n      <td>unknown</td>\n      <td>0.0</td>\n    </tr>\n    <tr>\n      <th>41</th>\n      <td>50</td>\n      <td>49</td>\n      <td>2.0</td>\n      <td>unknown</td>\n      <td>5.0</td>\n      <td>no</td>\n      <td>180.0</td>\n      <td>secondary</td>\n      <td>yes</td>\n      <td>41</td>\n      <td>management</td>\n      <td>no</td>\n      <td>married</td>\n      <td>may</td>\n      <td>-1.0</td>\n      <td>unknown</td>\n      <td>0.0</td>\n    </tr>\n    <tr>\n      <th>42</th>\n      <td>60</td>\n      <td>104</td>\n      <td>1.0</td>\n      <td>unknown</td>\n      <td>5.0</td>\n      <td>no</td>\n      <td>22.0</td>\n      <td>unknown</td>\n      <td>yes</td>\n      <td>42</td>\n      <td>blue-collar</td>\n      <td>no</td>\n      <td>married</td>\n      <td>may</td>\n      <td>-1.0</td>\n      <td>unknown</td>\n      <td>0.0</td>\n    </tr>\n    <tr>\n      <th>43</th>\n      <td>54</td>\n      <td>529</td>\n      <td>1.0</td>\n      <td>unknown</td>\n      <td>5.0</td>\n      <td>no</td>\n      <td>1492.0</td>\n      <td>secondary</td>\n      <td>yes</td>\n      <td>43</td>\n      <td>retired</td>\n      <td>no</td>\n      <td>married</td>\n      <td>may</td>\n      <td>-1.0</td>\n      <td>unknown</td>\n      <td>0.0</td>\n    </tr>\n    <tr>\n      <th>44</th>\n      <td>58</td>\n      <td>96</td>\n      <td>1.0</td>\n      <td>unknown</td>\n      <td>5.0</td>\n      <td>no</td>\n      <td>616.0</td>\n      <td>unknown</td>\n      <td>yes</td>\n      <td>44</td>\n      <td>retired</td>\n      <td>no</td>\n      <td>married</td>\n      <td>may</td>\n      <td>-1.0</td>\n      <td>unknown</td>\n      <td>0.0</td>\n    </tr>\n    <tr>\n      <th>45</th>\n      <td>36</td>\n      <td>-171</td>\n      <td>NaN</td>\n      <td>NaN</td>\n      <td>NaN</td>\n      <td>no</td>\n      <td>NaN</td>\n      <td>primary</td>\n      <td>yes</td>\n      <td>45</td>\n      <td>admin.</td>\n      <td>no</td>\n      <td>single</td>\n      <td>NaN</td>\n      <td>172.0</td>\n      <td>unknown</td>\n      <td>0.0</td>\n    </tr>\n    <tr>\n      <th>46</th>\n      <td>58</td>\n      <td>-364</td>\n      <td>1.0</td>\n      <td>unknown</td>\n      <td>5.0</td>\n      <td>no</td>\n      <td>355.0</td>\n      <td>tertiary</td>\n      <td>yes</td>\n      <td>46</td>\n      <td>self-employed</td>\n      <td>no</td>\n      <td>married</td>\n      <td>may</td>\n      <td>-1.0</td>\n      <td>unknown</td>\n      <td>0.0</td>\n    </tr>\n    <tr>\n      <th>47</th>\n      <td>44</td>\n      <td>0</td>\n      <td>2.0</td>\n      <td>unknown</td>\n      <td>5.0</td>\n      <td>no</td>\n      <td>225.0</td>\n      <td>secondary</td>\n      <td>yes</td>\n      <td>47</td>\n      <td>technician</td>\n      <td>no</td>\n      <td>married</td>\n      <td>may</td>\n      <td>-1.0</td>\n      <td>unknown</td>\n      <td>0.0</td>\n    </tr>\n    <tr>\n      <th>48</th>\n      <td>55</td>\n      <td>0</td>\n      <td>1.0</td>\n      <td>unknown</td>\n      <td>5.0</td>\n      <td>no</td>\n      <td>160.0</td>\n      <td>secondary</td>\n      <td>no</td>\n      <td>48</td>\n      <td>technician</td>\n      <td>no</td>\n      <td>divorced</td>\n      <td>may</td>\n      <td>-1.0</td>\n      <td>unknown</td>\n      <td>0.0</td>\n    </tr>\n    <tr>\n      <th>49</th>\n      <td>29</td>\n      <td>0</td>\n      <td>NaN</td>\n      <td>NaN</td>\n      <td>NaN</td>\n      <td>no</td>\n      <td>NaN</td>\n      <td>tertiary</td>\n      <td>yes</td>\n      <td>49</td>\n      <td>management</td>\n      <td>no</td>\n      <td>single</td>\n      <td>NaN</td>\n      <td>-2.0</td>\n      <td>failure</td>\n      <td>0.0</td>\n    </tr>\n  </tbody>\n</table>\n</div>"
     },
     "execution_count": 18,
     "metadata": {},
     "output_type": "execute_result"
    }
   ],
   "source": [
    "aligned_df_new=aligned_df_new.drop('y',axis=1)\n",
    "print(aligned_df_new.shape)\n",
    "aligned_df_new.head(50)"
   ],
   "metadata": {
    "collapsed": false,
    "pycharm": {
     "name": "#%%\n"
    }
   }
  },
  {
   "cell_type": "markdown",
   "source": [
    "# 编码"
   ],
   "metadata": {
    "collapsed": false
   }
  },
  {
   "cell_type": "code",
   "execution_count": 24,
   "outputs": [
    {
     "data": {
      "text/plain": "    age  balance  campaign  contact  day default  duration  education housing  \\\n0    58     2143       1.0  unknown  5.0      no     261.0   tertiary     yes   \n1    44       29       1.0  unknown  5.0      no     151.0  secondary     yes   \n2    33        2       1.0  unknown  5.0      no      76.0  secondary     yes   \n3    47     1506       NaN      NaN  NaN      no       NaN    unknown     yes   \n4    33        1       1.0  unknown  5.0      no     198.0    unknown      no   \n5    35      231       1.0  unknown  5.0      no     139.0   tertiary     yes   \n6    28      447       1.0  unknown  5.0      no     217.0   tertiary     yes   \n7    42        2       1.0  unknown  5.0     yes     380.0   tertiary     yes   \n8    58      121       NaN      NaN  NaN      no       NaN    primary     yes   \n9    43      593       NaN      NaN  NaN      no       NaN  secondary     yes   \n10   41      270       1.0  unknown  5.0      no     222.0  secondary     yes   \n11   29      390       1.0  unknown  5.0      no     137.0  secondary     yes   \n12   53        6       NaN      NaN  NaN      no       NaN  secondary     yes   \n13   58       71       NaN      NaN  NaN      no       NaN    unknown     yes   \n14   57      162       1.0  unknown  5.0      no     174.0  secondary     yes   \n15   51      229       1.0  unknown  5.0      no     353.0    primary     yes   \n16   45       13       NaN      NaN  NaN      no       NaN    unknown     yes   \n17   57       52       1.0  unknown  5.0      no      38.0    primary     yes   \n18   60       60       1.0  unknown  5.0      no     219.0    primary     yes   \n19   33        0       1.0  unknown  5.0      no      54.0  secondary     yes   \n20   28      723       1.0  unknown  5.0      no     262.0  secondary     yes   \n21   56      779       1.0  unknown  5.0      no     164.0   tertiary     yes   \n22   32       23       NaN      NaN  NaN      no       NaN    primary     yes   \n23   25       50       NaN      NaN  NaN      no       NaN  secondary     yes   \n24   40        0       1.0  unknown  5.0      no     181.0    primary     yes   \n25   44     -372       NaN      NaN  NaN      no       NaN  secondary     yes   \n26   39      255       NaN      NaN  NaN      no       NaN   tertiary     yes   \n27   52      113       1.0  unknown  5.0      no     127.0  secondary     yes   \n28   46     -246       2.0  unknown  5.0      no     255.0  secondary     yes   \n29   36      265       1.0  unknown  5.0      no     348.0  secondary     yes   \n30   57      839       1.0  unknown  5.0      no     225.0  secondary      no   \n31   49      378       1.0  unknown  5.0      no     230.0   tertiary     yes   \n32   60       39       1.0  unknown  5.0      no     208.0  secondary     yes   \n33   59        0       1.0  unknown  5.0      no     226.0  secondary     yes   \n34   51    10635       1.0  unknown  5.0      no     336.0   tertiary     yes   \n35   57       63       1.0  unknown  5.0      no     242.0  secondary     yes   \n36   25       -7       1.0  unknown  5.0      no     365.0  secondary     yes   \n37   53       -3       NaN      NaN  NaN      no       NaN  secondary      no   \n38   36      506       1.0  unknown  5.0      no     577.0  secondary     yes   \n39   37        0       1.0  unknown  5.0      no     137.0  secondary     yes   \n40   44     2586       1.0  unknown  5.0      no     160.0  secondary     yes   \n41   50       49       2.0  unknown  5.0      no     180.0  secondary     yes   \n42   60      104       1.0  unknown  5.0      no      22.0    unknown     yes   \n43   54      529       1.0  unknown  5.0      no    1492.0  secondary     yes   \n44   58       96       1.0  unknown  5.0      no     616.0    unknown     yes   \n45   36     -171       NaN      NaN  NaN      no       NaN    primary     yes   \n46   58     -364       1.0  unknown  5.0      no     355.0   tertiary     yes   \n47   44        0       2.0  unknown  5.0      no     225.0  secondary     yes   \n48   55        0       1.0  unknown  5.0      no     160.0  secondary      no   \n49   29        0       NaN      NaN  NaN      no       NaN   tertiary     yes   \n\n    index            job loan   marital month  pdays poutcome  previous  \n0       0     management   no   married   may   -1.0  unknown       0.0  \n1       1     technician   no    single   may   -1.0  unknown       0.0  \n2       2   entrepreneur  yes   married   may   -1.0  unknown       0.0  \n3       3    blue-collar   no   married   NaN    1.0  failure       0.0  \n4       4        unknown   no    single   may   -1.0  unknown       0.0  \n5       5     management   no   married   may   -1.0  unknown       0.0  \n6       6     management  yes    single   may   -1.0  unknown       0.0  \n7       7   entrepreneur   no  divorced   may   -1.0  unknown       0.0  \n8       8        retired   no   married   NaN  156.0  unknown       0.0  \n9       9     technician   no    single   NaN  146.0    other       0.0  \n10     10         admin.   no  divorced   may   -1.0  unknown       0.0  \n11     11         admin.   no    single   may   -1.0  unknown       0.0  \n12     12     technician   no   married   NaN   -2.0  unknown       2.0  \n13     13     technician   no   married   NaN   -3.0  unknown       3.0  \n14     14       services   no   married   may   -1.0  unknown       0.0  \n15     15        retired   no   married   may   -1.0  unknown       0.0  \n16     16         admin.   no    single   NaN  158.0  success       0.0  \n17     17    blue-collar   no   married   may   -1.0  unknown       0.0  \n18     18        retired   no   married   may   -1.0  unknown       0.0  \n19     19       services   no   married   may   -1.0  unknown       0.0  \n20     20    blue-collar  yes   married   may   -1.0  unknown       0.0  \n21     21     management   no   married   may   -1.0  unknown       0.0  \n22     22    blue-collar  yes    single   NaN   98.0  failure       0.0  \n23     23       services   no   married   NaN   64.0  success       1.0  \n24     24        retired  yes   married   may   -1.0  unknown       0.0  \n25     25         admin.   no   married   NaN   -1.0  failure       5.0  \n26     26     management   no    single   NaN   -2.0  unknown       0.0  \n27     27   entrepreneur  yes   married   may   -1.0  unknown       0.0  \n28     28     management   no    single   may   -1.0  unknown       0.0  \n29     29     technician  yes    single   may   -1.0  unknown       0.0  \n30     30     technician  yes   married   may   -1.0  unknown       0.0  \n31     31     management   no   married   may   -1.0  unknown       0.0  \n32     32         admin.  yes   married   may   -1.0  unknown       0.0  \n33     33    blue-collar   no   married   may   -1.0  unknown       0.0  \n34     34     management   no   married   may   -1.0  unknown       0.0  \n35     35     technician   no  divorced   may   -1.0  unknown       0.0  \n36     36    blue-collar   no   married   may   -1.0  unknown       0.0  \n37     37     technician   no   married   NaN   -1.0  unknown       2.0  \n38     38         admin.   no  divorced   may   -1.0  unknown       0.0  \n39     39         admin.   no    single   may   -1.0  unknown       0.0  \n40     40       services   no  divorced   may   -1.0  unknown       0.0  \n41     41     management   no   married   may   -1.0  unknown       0.0  \n42     42    blue-collar   no   married   may   -1.0  unknown       0.0  \n43     43        retired   no   married   may   -1.0  unknown       0.0  \n44     44        retired   no   married   may   -1.0  unknown       0.0  \n45     45         admin.   no    single   NaN  172.0  unknown       0.0  \n46     46  self-employed   no   married   may   -1.0  unknown       0.0  \n47     47     technician   no   married   may   -1.0  unknown       0.0  \n48     48     technician   no  divorced   may   -1.0  unknown       0.0  \n49     49     management   no    single   NaN   -2.0  failure       0.0  ",
      "text/html": "<div>\n<style scoped>\n    .dataframe tbody tr th:only-of-type {\n        vertical-align: middle;\n    }\n\n    .dataframe tbody tr th {\n        vertical-align: top;\n    }\n\n    .dataframe thead th {\n        text-align: right;\n    }\n</style>\n<table border=\"1\" class=\"dataframe\">\n  <thead>\n    <tr style=\"text-align: right;\">\n      <th></th>\n      <th>age</th>\n      <th>balance</th>\n      <th>campaign</th>\n      <th>contact</th>\n      <th>day</th>\n      <th>default</th>\n      <th>duration</th>\n      <th>education</th>\n      <th>housing</th>\n      <th>index</th>\n      <th>job</th>\n      <th>loan</th>\n      <th>marital</th>\n      <th>month</th>\n      <th>pdays</th>\n      <th>poutcome</th>\n      <th>previous</th>\n    </tr>\n  </thead>\n  <tbody>\n    <tr>\n      <th>0</th>\n      <td>58</td>\n      <td>2143</td>\n      <td>1.0</td>\n      <td>unknown</td>\n      <td>5.0</td>\n      <td>no</td>\n      <td>261.0</td>\n      <td>tertiary</td>\n      <td>yes</td>\n      <td>0</td>\n      <td>management</td>\n      <td>no</td>\n      <td>married</td>\n      <td>may</td>\n      <td>-1.0</td>\n      <td>unknown</td>\n      <td>0.0</td>\n    </tr>\n    <tr>\n      <th>1</th>\n      <td>44</td>\n      <td>29</td>\n      <td>1.0</td>\n      <td>unknown</td>\n      <td>5.0</td>\n      <td>no</td>\n      <td>151.0</td>\n      <td>secondary</td>\n      <td>yes</td>\n      <td>1</td>\n      <td>technician</td>\n      <td>no</td>\n      <td>single</td>\n      <td>may</td>\n      <td>-1.0</td>\n      <td>unknown</td>\n      <td>0.0</td>\n    </tr>\n    <tr>\n      <th>2</th>\n      <td>33</td>\n      <td>2</td>\n      <td>1.0</td>\n      <td>unknown</td>\n      <td>5.0</td>\n      <td>no</td>\n      <td>76.0</td>\n      <td>secondary</td>\n      <td>yes</td>\n      <td>2</td>\n      <td>entrepreneur</td>\n      <td>yes</td>\n      <td>married</td>\n      <td>may</td>\n      <td>-1.0</td>\n      <td>unknown</td>\n      <td>0.0</td>\n    </tr>\n    <tr>\n      <th>3</th>\n      <td>47</td>\n      <td>1506</td>\n      <td>NaN</td>\n      <td>NaN</td>\n      <td>NaN</td>\n      <td>no</td>\n      <td>NaN</td>\n      <td>unknown</td>\n      <td>yes</td>\n      <td>3</td>\n      <td>blue-collar</td>\n      <td>no</td>\n      <td>married</td>\n      <td>NaN</td>\n      <td>1.0</td>\n      <td>failure</td>\n      <td>0.0</td>\n    </tr>\n    <tr>\n      <th>4</th>\n      <td>33</td>\n      <td>1</td>\n      <td>1.0</td>\n      <td>unknown</td>\n      <td>5.0</td>\n      <td>no</td>\n      <td>198.0</td>\n      <td>unknown</td>\n      <td>no</td>\n      <td>4</td>\n      <td>unknown</td>\n      <td>no</td>\n      <td>single</td>\n      <td>may</td>\n      <td>-1.0</td>\n      <td>unknown</td>\n      <td>0.0</td>\n    </tr>\n    <tr>\n      <th>5</th>\n      <td>35</td>\n      <td>231</td>\n      <td>1.0</td>\n      <td>unknown</td>\n      <td>5.0</td>\n      <td>no</td>\n      <td>139.0</td>\n      <td>tertiary</td>\n      <td>yes</td>\n      <td>5</td>\n      <td>management</td>\n      <td>no</td>\n      <td>married</td>\n      <td>may</td>\n      <td>-1.0</td>\n      <td>unknown</td>\n      <td>0.0</td>\n    </tr>\n    <tr>\n      <th>6</th>\n      <td>28</td>\n      <td>447</td>\n      <td>1.0</td>\n      <td>unknown</td>\n      <td>5.0</td>\n      <td>no</td>\n      <td>217.0</td>\n      <td>tertiary</td>\n      <td>yes</td>\n      <td>6</td>\n      <td>management</td>\n      <td>yes</td>\n      <td>single</td>\n      <td>may</td>\n      <td>-1.0</td>\n      <td>unknown</td>\n      <td>0.0</td>\n    </tr>\n    <tr>\n      <th>7</th>\n      <td>42</td>\n      <td>2</td>\n      <td>1.0</td>\n      <td>unknown</td>\n      <td>5.0</td>\n      <td>yes</td>\n      <td>380.0</td>\n      <td>tertiary</td>\n      <td>yes</td>\n      <td>7</td>\n      <td>entrepreneur</td>\n      <td>no</td>\n      <td>divorced</td>\n      <td>may</td>\n      <td>-1.0</td>\n      <td>unknown</td>\n      <td>0.0</td>\n    </tr>\n    <tr>\n      <th>8</th>\n      <td>58</td>\n      <td>121</td>\n      <td>NaN</td>\n      <td>NaN</td>\n      <td>NaN</td>\n      <td>no</td>\n      <td>NaN</td>\n      <td>primary</td>\n      <td>yes</td>\n      <td>8</td>\n      <td>retired</td>\n      <td>no</td>\n      <td>married</td>\n      <td>NaN</td>\n      <td>156.0</td>\n      <td>unknown</td>\n      <td>0.0</td>\n    </tr>\n    <tr>\n      <th>9</th>\n      <td>43</td>\n      <td>593</td>\n      <td>NaN</td>\n      <td>NaN</td>\n      <td>NaN</td>\n      <td>no</td>\n      <td>NaN</td>\n      <td>secondary</td>\n      <td>yes</td>\n      <td>9</td>\n      <td>technician</td>\n      <td>no</td>\n      <td>single</td>\n      <td>NaN</td>\n      <td>146.0</td>\n      <td>other</td>\n      <td>0.0</td>\n    </tr>\n    <tr>\n      <th>10</th>\n      <td>41</td>\n      <td>270</td>\n      <td>1.0</td>\n      <td>unknown</td>\n      <td>5.0</td>\n      <td>no</td>\n      <td>222.0</td>\n      <td>secondary</td>\n      <td>yes</td>\n      <td>10</td>\n      <td>admin.</td>\n      <td>no</td>\n      <td>divorced</td>\n      <td>may</td>\n      <td>-1.0</td>\n      <td>unknown</td>\n      <td>0.0</td>\n    </tr>\n    <tr>\n      <th>11</th>\n      <td>29</td>\n      <td>390</td>\n      <td>1.0</td>\n      <td>unknown</td>\n      <td>5.0</td>\n      <td>no</td>\n      <td>137.0</td>\n      <td>secondary</td>\n      <td>yes</td>\n      <td>11</td>\n      <td>admin.</td>\n      <td>no</td>\n      <td>single</td>\n      <td>may</td>\n      <td>-1.0</td>\n      <td>unknown</td>\n      <td>0.0</td>\n    </tr>\n    <tr>\n      <th>12</th>\n      <td>53</td>\n      <td>6</td>\n      <td>NaN</td>\n      <td>NaN</td>\n      <td>NaN</td>\n      <td>no</td>\n      <td>NaN</td>\n      <td>secondary</td>\n      <td>yes</td>\n      <td>12</td>\n      <td>technician</td>\n      <td>no</td>\n      <td>married</td>\n      <td>NaN</td>\n      <td>-2.0</td>\n      <td>unknown</td>\n      <td>2.0</td>\n    </tr>\n    <tr>\n      <th>13</th>\n      <td>58</td>\n      <td>71</td>\n      <td>NaN</td>\n      <td>NaN</td>\n      <td>NaN</td>\n      <td>no</td>\n      <td>NaN</td>\n      <td>unknown</td>\n      <td>yes</td>\n      <td>13</td>\n      <td>technician</td>\n      <td>no</td>\n      <td>married</td>\n      <td>NaN</td>\n      <td>-3.0</td>\n      <td>unknown</td>\n      <td>3.0</td>\n    </tr>\n    <tr>\n      <th>14</th>\n      <td>57</td>\n      <td>162</td>\n      <td>1.0</td>\n      <td>unknown</td>\n      <td>5.0</td>\n      <td>no</td>\n      <td>174.0</td>\n      <td>secondary</td>\n      <td>yes</td>\n      <td>14</td>\n      <td>services</td>\n      <td>no</td>\n      <td>married</td>\n      <td>may</td>\n      <td>-1.0</td>\n      <td>unknown</td>\n      <td>0.0</td>\n    </tr>\n    <tr>\n      <th>15</th>\n      <td>51</td>\n      <td>229</td>\n      <td>1.0</td>\n      <td>unknown</td>\n      <td>5.0</td>\n      <td>no</td>\n      <td>353.0</td>\n      <td>primary</td>\n      <td>yes</td>\n      <td>15</td>\n      <td>retired</td>\n      <td>no</td>\n      <td>married</td>\n      <td>may</td>\n      <td>-1.0</td>\n      <td>unknown</td>\n      <td>0.0</td>\n    </tr>\n    <tr>\n      <th>16</th>\n      <td>45</td>\n      <td>13</td>\n      <td>NaN</td>\n      <td>NaN</td>\n      <td>NaN</td>\n      <td>no</td>\n      <td>NaN</td>\n      <td>unknown</td>\n      <td>yes</td>\n      <td>16</td>\n      <td>admin.</td>\n      <td>no</td>\n      <td>single</td>\n      <td>NaN</td>\n      <td>158.0</td>\n      <td>success</td>\n      <td>0.0</td>\n    </tr>\n    <tr>\n      <th>17</th>\n      <td>57</td>\n      <td>52</td>\n      <td>1.0</td>\n      <td>unknown</td>\n      <td>5.0</td>\n      <td>no</td>\n      <td>38.0</td>\n      <td>primary</td>\n      <td>yes</td>\n      <td>17</td>\n      <td>blue-collar</td>\n      <td>no</td>\n      <td>married</td>\n      <td>may</td>\n      <td>-1.0</td>\n      <td>unknown</td>\n      <td>0.0</td>\n    </tr>\n    <tr>\n      <th>18</th>\n      <td>60</td>\n      <td>60</td>\n      <td>1.0</td>\n      <td>unknown</td>\n      <td>5.0</td>\n      <td>no</td>\n      <td>219.0</td>\n      <td>primary</td>\n      <td>yes</td>\n      <td>18</td>\n      <td>retired</td>\n      <td>no</td>\n      <td>married</td>\n      <td>may</td>\n      <td>-1.0</td>\n      <td>unknown</td>\n      <td>0.0</td>\n    </tr>\n    <tr>\n      <th>19</th>\n      <td>33</td>\n      <td>0</td>\n      <td>1.0</td>\n      <td>unknown</td>\n      <td>5.0</td>\n      <td>no</td>\n      <td>54.0</td>\n      <td>secondary</td>\n      <td>yes</td>\n      <td>19</td>\n      <td>services</td>\n      <td>no</td>\n      <td>married</td>\n      <td>may</td>\n      <td>-1.0</td>\n      <td>unknown</td>\n      <td>0.0</td>\n    </tr>\n    <tr>\n      <th>20</th>\n      <td>28</td>\n      <td>723</td>\n      <td>1.0</td>\n      <td>unknown</td>\n      <td>5.0</td>\n      <td>no</td>\n      <td>262.0</td>\n      <td>secondary</td>\n      <td>yes</td>\n      <td>20</td>\n      <td>blue-collar</td>\n      <td>yes</td>\n      <td>married</td>\n      <td>may</td>\n      <td>-1.0</td>\n      <td>unknown</td>\n      <td>0.0</td>\n    </tr>\n    <tr>\n      <th>21</th>\n      <td>56</td>\n      <td>779</td>\n      <td>1.0</td>\n      <td>unknown</td>\n      <td>5.0</td>\n      <td>no</td>\n      <td>164.0</td>\n      <td>tertiary</td>\n      <td>yes</td>\n      <td>21</td>\n      <td>management</td>\n      <td>no</td>\n      <td>married</td>\n      <td>may</td>\n      <td>-1.0</td>\n      <td>unknown</td>\n      <td>0.0</td>\n    </tr>\n    <tr>\n      <th>22</th>\n      <td>32</td>\n      <td>23</td>\n      <td>NaN</td>\n      <td>NaN</td>\n      <td>NaN</td>\n      <td>no</td>\n      <td>NaN</td>\n      <td>primary</td>\n      <td>yes</td>\n      <td>22</td>\n      <td>blue-collar</td>\n      <td>yes</td>\n      <td>single</td>\n      <td>NaN</td>\n      <td>98.0</td>\n      <td>failure</td>\n      <td>0.0</td>\n    </tr>\n    <tr>\n      <th>23</th>\n      <td>25</td>\n      <td>50</td>\n      <td>NaN</td>\n      <td>NaN</td>\n      <td>NaN</td>\n      <td>no</td>\n      <td>NaN</td>\n      <td>secondary</td>\n      <td>yes</td>\n      <td>23</td>\n      <td>services</td>\n      <td>no</td>\n      <td>married</td>\n      <td>NaN</td>\n      <td>64.0</td>\n      <td>success</td>\n      <td>1.0</td>\n    </tr>\n    <tr>\n      <th>24</th>\n      <td>40</td>\n      <td>0</td>\n      <td>1.0</td>\n      <td>unknown</td>\n      <td>5.0</td>\n      <td>no</td>\n      <td>181.0</td>\n      <td>primary</td>\n      <td>yes</td>\n      <td>24</td>\n      <td>retired</td>\n      <td>yes</td>\n      <td>married</td>\n      <td>may</td>\n      <td>-1.0</td>\n      <td>unknown</td>\n      <td>0.0</td>\n    </tr>\n    <tr>\n      <th>25</th>\n      <td>44</td>\n      <td>-372</td>\n      <td>NaN</td>\n      <td>NaN</td>\n      <td>NaN</td>\n      <td>no</td>\n      <td>NaN</td>\n      <td>secondary</td>\n      <td>yes</td>\n      <td>25</td>\n      <td>admin.</td>\n      <td>no</td>\n      <td>married</td>\n      <td>NaN</td>\n      <td>-1.0</td>\n      <td>failure</td>\n      <td>5.0</td>\n    </tr>\n    <tr>\n      <th>26</th>\n      <td>39</td>\n      <td>255</td>\n      <td>NaN</td>\n      <td>NaN</td>\n      <td>NaN</td>\n      <td>no</td>\n      <td>NaN</td>\n      <td>tertiary</td>\n      <td>yes</td>\n      <td>26</td>\n      <td>management</td>\n      <td>no</td>\n      <td>single</td>\n      <td>NaN</td>\n      <td>-2.0</td>\n      <td>unknown</td>\n      <td>0.0</td>\n    </tr>\n    <tr>\n      <th>27</th>\n      <td>52</td>\n      <td>113</td>\n      <td>1.0</td>\n      <td>unknown</td>\n      <td>5.0</td>\n      <td>no</td>\n      <td>127.0</td>\n      <td>secondary</td>\n      <td>yes</td>\n      <td>27</td>\n      <td>entrepreneur</td>\n      <td>yes</td>\n      <td>married</td>\n      <td>may</td>\n      <td>-1.0</td>\n      <td>unknown</td>\n      <td>0.0</td>\n    </tr>\n    <tr>\n      <th>28</th>\n      <td>46</td>\n      <td>-246</td>\n      <td>2.0</td>\n      <td>unknown</td>\n      <td>5.0</td>\n      <td>no</td>\n      <td>255.0</td>\n      <td>secondary</td>\n      <td>yes</td>\n      <td>28</td>\n      <td>management</td>\n      <td>no</td>\n      <td>single</td>\n      <td>may</td>\n      <td>-1.0</td>\n      <td>unknown</td>\n      <td>0.0</td>\n    </tr>\n    <tr>\n      <th>29</th>\n      <td>36</td>\n      <td>265</td>\n      <td>1.0</td>\n      <td>unknown</td>\n      <td>5.0</td>\n      <td>no</td>\n      <td>348.0</td>\n      <td>secondary</td>\n      <td>yes</td>\n      <td>29</td>\n      <td>technician</td>\n      <td>yes</td>\n      <td>single</td>\n      <td>may</td>\n      <td>-1.0</td>\n      <td>unknown</td>\n      <td>0.0</td>\n    </tr>\n    <tr>\n      <th>30</th>\n      <td>57</td>\n      <td>839</td>\n      <td>1.0</td>\n      <td>unknown</td>\n      <td>5.0</td>\n      <td>no</td>\n      <td>225.0</td>\n      <td>secondary</td>\n      <td>no</td>\n      <td>30</td>\n      <td>technician</td>\n      <td>yes</td>\n      <td>married</td>\n      <td>may</td>\n      <td>-1.0</td>\n      <td>unknown</td>\n      <td>0.0</td>\n    </tr>\n    <tr>\n      <th>31</th>\n      <td>49</td>\n      <td>378</td>\n      <td>1.0</td>\n      <td>unknown</td>\n      <td>5.0</td>\n      <td>no</td>\n      <td>230.0</td>\n      <td>tertiary</td>\n      <td>yes</td>\n      <td>31</td>\n      <td>management</td>\n      <td>no</td>\n      <td>married</td>\n      <td>may</td>\n      <td>-1.0</td>\n      <td>unknown</td>\n      <td>0.0</td>\n    </tr>\n    <tr>\n      <th>32</th>\n      <td>60</td>\n      <td>39</td>\n      <td>1.0</td>\n      <td>unknown</td>\n      <td>5.0</td>\n      <td>no</td>\n      <td>208.0</td>\n      <td>secondary</td>\n      <td>yes</td>\n      <td>32</td>\n      <td>admin.</td>\n      <td>yes</td>\n      <td>married</td>\n      <td>may</td>\n      <td>-1.0</td>\n      <td>unknown</td>\n      <td>0.0</td>\n    </tr>\n    <tr>\n      <th>33</th>\n      <td>59</td>\n      <td>0</td>\n      <td>1.0</td>\n      <td>unknown</td>\n      <td>5.0</td>\n      <td>no</td>\n      <td>226.0</td>\n      <td>secondary</td>\n      <td>yes</td>\n      <td>33</td>\n      <td>blue-collar</td>\n      <td>no</td>\n      <td>married</td>\n      <td>may</td>\n      <td>-1.0</td>\n      <td>unknown</td>\n      <td>0.0</td>\n    </tr>\n    <tr>\n      <th>34</th>\n      <td>51</td>\n      <td>10635</td>\n      <td>1.0</td>\n      <td>unknown</td>\n      <td>5.0</td>\n      <td>no</td>\n      <td>336.0</td>\n      <td>tertiary</td>\n      <td>yes</td>\n      <td>34</td>\n      <td>management</td>\n      <td>no</td>\n      <td>married</td>\n      <td>may</td>\n      <td>-1.0</td>\n      <td>unknown</td>\n      <td>0.0</td>\n    </tr>\n    <tr>\n      <th>35</th>\n      <td>57</td>\n      <td>63</td>\n      <td>1.0</td>\n      <td>unknown</td>\n      <td>5.0</td>\n      <td>no</td>\n      <td>242.0</td>\n      <td>secondary</td>\n      <td>yes</td>\n      <td>35</td>\n      <td>technician</td>\n      <td>no</td>\n      <td>divorced</td>\n      <td>may</td>\n      <td>-1.0</td>\n      <td>unknown</td>\n      <td>0.0</td>\n    </tr>\n    <tr>\n      <th>36</th>\n      <td>25</td>\n      <td>-7</td>\n      <td>1.0</td>\n      <td>unknown</td>\n      <td>5.0</td>\n      <td>no</td>\n      <td>365.0</td>\n      <td>secondary</td>\n      <td>yes</td>\n      <td>36</td>\n      <td>blue-collar</td>\n      <td>no</td>\n      <td>married</td>\n      <td>may</td>\n      <td>-1.0</td>\n      <td>unknown</td>\n      <td>0.0</td>\n    </tr>\n    <tr>\n      <th>37</th>\n      <td>53</td>\n      <td>-3</td>\n      <td>NaN</td>\n      <td>NaN</td>\n      <td>NaN</td>\n      <td>no</td>\n      <td>NaN</td>\n      <td>secondary</td>\n      <td>no</td>\n      <td>37</td>\n      <td>technician</td>\n      <td>no</td>\n      <td>married</td>\n      <td>NaN</td>\n      <td>-1.0</td>\n      <td>unknown</td>\n      <td>2.0</td>\n    </tr>\n    <tr>\n      <th>38</th>\n      <td>36</td>\n      <td>506</td>\n      <td>1.0</td>\n      <td>unknown</td>\n      <td>5.0</td>\n      <td>no</td>\n      <td>577.0</td>\n      <td>secondary</td>\n      <td>yes</td>\n      <td>38</td>\n      <td>admin.</td>\n      <td>no</td>\n      <td>divorced</td>\n      <td>may</td>\n      <td>-1.0</td>\n      <td>unknown</td>\n      <td>0.0</td>\n    </tr>\n    <tr>\n      <th>39</th>\n      <td>37</td>\n      <td>0</td>\n      <td>1.0</td>\n      <td>unknown</td>\n      <td>5.0</td>\n      <td>no</td>\n      <td>137.0</td>\n      <td>secondary</td>\n      <td>yes</td>\n      <td>39</td>\n      <td>admin.</td>\n      <td>no</td>\n      <td>single</td>\n      <td>may</td>\n      <td>-1.0</td>\n      <td>unknown</td>\n      <td>0.0</td>\n    </tr>\n    <tr>\n      <th>40</th>\n      <td>44</td>\n      <td>2586</td>\n      <td>1.0</td>\n      <td>unknown</td>\n      <td>5.0</td>\n      <td>no</td>\n      <td>160.0</td>\n      <td>secondary</td>\n      <td>yes</td>\n      <td>40</td>\n      <td>services</td>\n      <td>no</td>\n      <td>divorced</td>\n      <td>may</td>\n      <td>-1.0</td>\n      <td>unknown</td>\n      <td>0.0</td>\n    </tr>\n    <tr>\n      <th>41</th>\n      <td>50</td>\n      <td>49</td>\n      <td>2.0</td>\n      <td>unknown</td>\n      <td>5.0</td>\n      <td>no</td>\n      <td>180.0</td>\n      <td>secondary</td>\n      <td>yes</td>\n      <td>41</td>\n      <td>management</td>\n      <td>no</td>\n      <td>married</td>\n      <td>may</td>\n      <td>-1.0</td>\n      <td>unknown</td>\n      <td>0.0</td>\n    </tr>\n    <tr>\n      <th>42</th>\n      <td>60</td>\n      <td>104</td>\n      <td>1.0</td>\n      <td>unknown</td>\n      <td>5.0</td>\n      <td>no</td>\n      <td>22.0</td>\n      <td>unknown</td>\n      <td>yes</td>\n      <td>42</td>\n      <td>blue-collar</td>\n      <td>no</td>\n      <td>married</td>\n      <td>may</td>\n      <td>-1.0</td>\n      <td>unknown</td>\n      <td>0.0</td>\n    </tr>\n    <tr>\n      <th>43</th>\n      <td>54</td>\n      <td>529</td>\n      <td>1.0</td>\n      <td>unknown</td>\n      <td>5.0</td>\n      <td>no</td>\n      <td>1492.0</td>\n      <td>secondary</td>\n      <td>yes</td>\n      <td>43</td>\n      <td>retired</td>\n      <td>no</td>\n      <td>married</td>\n      <td>may</td>\n      <td>-1.0</td>\n      <td>unknown</td>\n      <td>0.0</td>\n    </tr>\n    <tr>\n      <th>44</th>\n      <td>58</td>\n      <td>96</td>\n      <td>1.0</td>\n      <td>unknown</td>\n      <td>5.0</td>\n      <td>no</td>\n      <td>616.0</td>\n      <td>unknown</td>\n      <td>yes</td>\n      <td>44</td>\n      <td>retired</td>\n      <td>no</td>\n      <td>married</td>\n      <td>may</td>\n      <td>-1.0</td>\n      <td>unknown</td>\n      <td>0.0</td>\n    </tr>\n    <tr>\n      <th>45</th>\n      <td>36</td>\n      <td>-171</td>\n      <td>NaN</td>\n      <td>NaN</td>\n      <td>NaN</td>\n      <td>no</td>\n      <td>NaN</td>\n      <td>primary</td>\n      <td>yes</td>\n      <td>45</td>\n      <td>admin.</td>\n      <td>no</td>\n      <td>single</td>\n      <td>NaN</td>\n      <td>172.0</td>\n      <td>unknown</td>\n      <td>0.0</td>\n    </tr>\n    <tr>\n      <th>46</th>\n      <td>58</td>\n      <td>-364</td>\n      <td>1.0</td>\n      <td>unknown</td>\n      <td>5.0</td>\n      <td>no</td>\n      <td>355.0</td>\n      <td>tertiary</td>\n      <td>yes</td>\n      <td>46</td>\n      <td>self-employed</td>\n      <td>no</td>\n      <td>married</td>\n      <td>may</td>\n      <td>-1.0</td>\n      <td>unknown</td>\n      <td>0.0</td>\n    </tr>\n    <tr>\n      <th>47</th>\n      <td>44</td>\n      <td>0</td>\n      <td>2.0</td>\n      <td>unknown</td>\n      <td>5.0</td>\n      <td>no</td>\n      <td>225.0</td>\n      <td>secondary</td>\n      <td>yes</td>\n      <td>47</td>\n      <td>technician</td>\n      <td>no</td>\n      <td>married</td>\n      <td>may</td>\n      <td>-1.0</td>\n      <td>unknown</td>\n      <td>0.0</td>\n    </tr>\n    <tr>\n      <th>48</th>\n      <td>55</td>\n      <td>0</td>\n      <td>1.0</td>\n      <td>unknown</td>\n      <td>5.0</td>\n      <td>no</td>\n      <td>160.0</td>\n      <td>secondary</td>\n      <td>no</td>\n      <td>48</td>\n      <td>technician</td>\n      <td>no</td>\n      <td>divorced</td>\n      <td>may</td>\n      <td>-1.0</td>\n      <td>unknown</td>\n      <td>0.0</td>\n    </tr>\n    <tr>\n      <th>49</th>\n      <td>29</td>\n      <td>0</td>\n      <td>NaN</td>\n      <td>NaN</td>\n      <td>NaN</td>\n      <td>no</td>\n      <td>NaN</td>\n      <td>tertiary</td>\n      <td>yes</td>\n      <td>49</td>\n      <td>management</td>\n      <td>no</td>\n      <td>single</td>\n      <td>NaN</td>\n      <td>-2.0</td>\n      <td>failure</td>\n      <td>0.0</td>\n    </tr>\n  </tbody>\n</table>\n</div>"
     },
     "execution_count": 24,
     "metadata": {},
     "output_type": "execute_result"
    }
   ],
   "source": [
    "aligned_df_new_encode=aligned_df_new.copy()\n",
    "aligned_df_new_encode.head(50)"
   ],
   "metadata": {
    "collapsed": false,
    "pycharm": {
     "name": "#%%\n"
    }
   }
  },
  {
   "cell_type": "markdown",
   "source": [
    "对分类列进行标签编码"
   ],
   "metadata": {
    "collapsed": false
   }
  },
  {
   "cell_type": "code",
   "execution_count": 25,
   "outputs": [],
   "source": [
    "\n",
    "from sklearn.preprocessing import LabelEncoder\n",
    "# 创建一个标签编码器\n",
    "le = LabelEncoder()\n",
    "# 对每一列进行检查\n",
    "for col in aligned_df_new_encode.columns:\n",
    "    # 如果该列是object类型（通常意味着它是分类的），则进行标签编码\n",
    "    if aligned_df_new_encode[col].dtype == 'object':\n",
    "        # 若该列有NaN值，将NaN值转换为“NaN”字符串\n",
    "        # if aligned_df_new_encode[col].isnull().any():\n",
    "        #    aligned_df_new_encode[col]=aligned_df_new_encode.fillna('NaN')\n",
    "         # 保存原始的NaN值位置\n",
    "        nan_idx=aligned_df_new_encode[col].isnull()\n",
    "        # 进行特征编码，并不对nan值进行编码\n",
    "        aligned_df_new_encode.loc[~nan_idx,col] =le.fit_transform(aligned_df_new_encode.loc[~nan_idx,col])\n",
    "        #aligned_df_new_encode[col] =le.fit_transform(aligned_df_new_encode[col])\n",
    "        # 将“NaN”字符串对应的编码再次转换回NaN\n",
    "        # aligned_df_new_encode[col]=aligned_df_new_encode[col].replace(le.transform(['NaN'])[0], np.nan)\n"
   ],
   "metadata": {
    "collapsed": false,
    "pycharm": {
     "name": "#%%\n"
    }
   }
  },
  {
   "cell_type": "code",
   "execution_count": 26,
   "outputs": [
    {
     "name": "stdout",
     "output_type": "stream",
     "text": [
      "(45211, 17)\n"
     ]
    },
    {
     "data": {
      "text/plain": "    age  balance  campaign contact  day default  duration education housing  \\\n0    58     2143       1.0       2  5.0       0     261.0         2       1   \n1    44       29       1.0       2  5.0       0     151.0         1       1   \n2    33        2       1.0       2  5.0       0      76.0         1       1   \n3    47     1506       NaN     NaN  NaN       0       NaN         3       1   \n4    33        1       1.0       2  5.0       0     198.0         3       0   \n5    35      231       1.0       2  5.0       0     139.0         2       1   \n6    28      447       1.0       2  5.0       0     217.0         2       1   \n7    42        2       1.0       2  5.0       1     380.0         2       1   \n8    58      121       NaN     NaN  NaN       0       NaN         0       1   \n9    43      593       NaN     NaN  NaN       0       NaN         1       1   \n10   41      270       1.0       2  5.0       0     222.0         1       1   \n11   29      390       1.0       2  5.0       0     137.0         1       1   \n12   53        6       NaN     NaN  NaN       0       NaN         1       1   \n13   58       71       NaN     NaN  NaN       0       NaN         3       1   \n14   57      162       1.0       2  5.0       0     174.0         1       1   \n15   51      229       1.0       2  5.0       0     353.0         0       1   \n16   45       13       NaN     NaN  NaN       0       NaN         3       1   \n17   57       52       1.0       2  5.0       0      38.0         0       1   \n18   60       60       1.0       2  5.0       0     219.0         0       1   \n19   33        0       1.0       2  5.0       0      54.0         1       1   \n20   28      723       1.0       2  5.0       0     262.0         1       1   \n21   56      779       1.0       2  5.0       0     164.0         2       1   \n22   32       23       NaN     NaN  NaN       0       NaN         0       1   \n23   25       50       NaN     NaN  NaN       0       NaN         1       1   \n24   40        0       1.0       2  5.0       0     181.0         0       1   \n25   44     -372       NaN     NaN  NaN       0       NaN         1       1   \n26   39      255       NaN     NaN  NaN       0       NaN         2       1   \n27   52      113       1.0       2  5.0       0     127.0         1       1   \n28   46     -246       2.0       2  5.0       0     255.0         1       1   \n29   36      265       1.0       2  5.0       0     348.0         1       1   \n30   57      839       1.0       2  5.0       0     225.0         1       0   \n31   49      378       1.0       2  5.0       0     230.0         2       1   \n32   60       39       1.0       2  5.0       0     208.0         1       1   \n33   59        0       1.0       2  5.0       0     226.0         1       1   \n34   51    10635       1.0       2  5.0       0     336.0         2       1   \n35   57       63       1.0       2  5.0       0     242.0         1       1   \n36   25       -7       1.0       2  5.0       0     365.0         1       1   \n37   53       -3       NaN     NaN  NaN       0       NaN         1       0   \n38   36      506       1.0       2  5.0       0     577.0         1       1   \n39   37        0       1.0       2  5.0       0     137.0         1       1   \n40   44     2586       1.0       2  5.0       0     160.0         1       1   \n41   50       49       2.0       2  5.0       0     180.0         1       1   \n42   60      104       1.0       2  5.0       0      22.0         3       1   \n43   54      529       1.0       2  5.0       0    1492.0         1       1   \n44   58       96       1.0       2  5.0       0     616.0         3       1   \n45   36     -171       NaN     NaN  NaN       0       NaN         0       1   \n46   58     -364       1.0       2  5.0       0     355.0         2       1   \n47   44        0       2.0       2  5.0       0     225.0         1       1   \n48   55        0       1.0       2  5.0       0     160.0         1       0   \n49   29        0       NaN     NaN  NaN       0       NaN         2       1   \n\n    index job loan marital month  pdays poutcome  previous  \n0       0   4    0       1     8   -1.0        3       0.0  \n1       1   9    0       2     8   -1.0        3       0.0  \n2       2   2    1       1     8   -1.0        3       0.0  \n3       3   1    0       1   NaN    1.0        0       0.0  \n4       4  11    0       2     8   -1.0        3       0.0  \n5       5   4    0       1     8   -1.0        3       0.0  \n6       6   4    1       2     8   -1.0        3       0.0  \n7       7   2    0       0     8   -1.0        3       0.0  \n8       8   5    0       1   NaN  156.0        3       0.0  \n9       9   9    0       2   NaN  146.0        1       0.0  \n10     10   0    0       0     8   -1.0        3       0.0  \n11     11   0    0       2     8   -1.0        3       0.0  \n12     12   9    0       1   NaN   -2.0        3       2.0  \n13     13   9    0       1   NaN   -3.0        3       3.0  \n14     14   7    0       1     8   -1.0        3       0.0  \n15     15   5    0       1     8   -1.0        3       0.0  \n16     16   0    0       2   NaN  158.0        2       0.0  \n17     17   1    0       1     8   -1.0        3       0.0  \n18     18   5    0       1     8   -1.0        3       0.0  \n19     19   7    0       1     8   -1.0        3       0.0  \n20     20   1    1       1     8   -1.0        3       0.0  \n21     21   4    0       1     8   -1.0        3       0.0  \n22     22   1    1       2   NaN   98.0        0       0.0  \n23     23   7    0       1   NaN   64.0        2       1.0  \n24     24   5    1       1     8   -1.0        3       0.0  \n25     25   0    0       1   NaN   -1.0        0       5.0  \n26     26   4    0       2   NaN   -2.0        3       0.0  \n27     27   2    1       1     8   -1.0        3       0.0  \n28     28   4    0       2     8   -1.0        3       0.0  \n29     29   9    1       2     8   -1.0        3       0.0  \n30     30   9    1       1     8   -1.0        3       0.0  \n31     31   4    0       1     8   -1.0        3       0.0  \n32     32   0    1       1     8   -1.0        3       0.0  \n33     33   1    0       1     8   -1.0        3       0.0  \n34     34   4    0       1     8   -1.0        3       0.0  \n35     35   9    0       0     8   -1.0        3       0.0  \n36     36   1    0       1     8   -1.0        3       0.0  \n37     37   9    0       1   NaN   -1.0        3       2.0  \n38     38   0    0       0     8   -1.0        3       0.0  \n39     39   0    0       2     8   -1.0        3       0.0  \n40     40   7    0       0     8   -1.0        3       0.0  \n41     41   4    0       1     8   -1.0        3       0.0  \n42     42   1    0       1     8   -1.0        3       0.0  \n43     43   5    0       1     8   -1.0        3       0.0  \n44     44   5    0       1     8   -1.0        3       0.0  \n45     45   0    0       2   NaN  172.0        3       0.0  \n46     46   6    0       1     8   -1.0        3       0.0  \n47     47   9    0       1     8   -1.0        3       0.0  \n48     48   9    0       0     8   -1.0        3       0.0  \n49     49   4    0       2   NaN   -2.0        0       0.0  ",
      "text/html": "<div>\n<style scoped>\n    .dataframe tbody tr th:only-of-type {\n        vertical-align: middle;\n    }\n\n    .dataframe tbody tr th {\n        vertical-align: top;\n    }\n\n    .dataframe thead th {\n        text-align: right;\n    }\n</style>\n<table border=\"1\" class=\"dataframe\">\n  <thead>\n    <tr style=\"text-align: right;\">\n      <th></th>\n      <th>age</th>\n      <th>balance</th>\n      <th>campaign</th>\n      <th>contact</th>\n      <th>day</th>\n      <th>default</th>\n      <th>duration</th>\n      <th>education</th>\n      <th>housing</th>\n      <th>index</th>\n      <th>job</th>\n      <th>loan</th>\n      <th>marital</th>\n      <th>month</th>\n      <th>pdays</th>\n      <th>poutcome</th>\n      <th>previous</th>\n    </tr>\n  </thead>\n  <tbody>\n    <tr>\n      <th>0</th>\n      <td>58</td>\n      <td>2143</td>\n      <td>1.0</td>\n      <td>2</td>\n      <td>5.0</td>\n      <td>0</td>\n      <td>261.0</td>\n      <td>2</td>\n      <td>1</td>\n      <td>0</td>\n      <td>4</td>\n      <td>0</td>\n      <td>1</td>\n      <td>8</td>\n      <td>-1.0</td>\n      <td>3</td>\n      <td>0.0</td>\n    </tr>\n    <tr>\n      <th>1</th>\n      <td>44</td>\n      <td>29</td>\n      <td>1.0</td>\n      <td>2</td>\n      <td>5.0</td>\n      <td>0</td>\n      <td>151.0</td>\n      <td>1</td>\n      <td>1</td>\n      <td>1</td>\n      <td>9</td>\n      <td>0</td>\n      <td>2</td>\n      <td>8</td>\n      <td>-1.0</td>\n      <td>3</td>\n      <td>0.0</td>\n    </tr>\n    <tr>\n      <th>2</th>\n      <td>33</td>\n      <td>2</td>\n      <td>1.0</td>\n      <td>2</td>\n      <td>5.0</td>\n      <td>0</td>\n      <td>76.0</td>\n      <td>1</td>\n      <td>1</td>\n      <td>2</td>\n      <td>2</td>\n      <td>1</td>\n      <td>1</td>\n      <td>8</td>\n      <td>-1.0</td>\n      <td>3</td>\n      <td>0.0</td>\n    </tr>\n    <tr>\n      <th>3</th>\n      <td>47</td>\n      <td>1506</td>\n      <td>NaN</td>\n      <td>NaN</td>\n      <td>NaN</td>\n      <td>0</td>\n      <td>NaN</td>\n      <td>3</td>\n      <td>1</td>\n      <td>3</td>\n      <td>1</td>\n      <td>0</td>\n      <td>1</td>\n      <td>NaN</td>\n      <td>1.0</td>\n      <td>0</td>\n      <td>0.0</td>\n    </tr>\n    <tr>\n      <th>4</th>\n      <td>33</td>\n      <td>1</td>\n      <td>1.0</td>\n      <td>2</td>\n      <td>5.0</td>\n      <td>0</td>\n      <td>198.0</td>\n      <td>3</td>\n      <td>0</td>\n      <td>4</td>\n      <td>11</td>\n      <td>0</td>\n      <td>2</td>\n      <td>8</td>\n      <td>-1.0</td>\n      <td>3</td>\n      <td>0.0</td>\n    </tr>\n    <tr>\n      <th>5</th>\n      <td>35</td>\n      <td>231</td>\n      <td>1.0</td>\n      <td>2</td>\n      <td>5.0</td>\n      <td>0</td>\n      <td>139.0</td>\n      <td>2</td>\n      <td>1</td>\n      <td>5</td>\n      <td>4</td>\n      <td>0</td>\n      <td>1</td>\n      <td>8</td>\n      <td>-1.0</td>\n      <td>3</td>\n      <td>0.0</td>\n    </tr>\n    <tr>\n      <th>6</th>\n      <td>28</td>\n      <td>447</td>\n      <td>1.0</td>\n      <td>2</td>\n      <td>5.0</td>\n      <td>0</td>\n      <td>217.0</td>\n      <td>2</td>\n      <td>1</td>\n      <td>6</td>\n      <td>4</td>\n      <td>1</td>\n      <td>2</td>\n      <td>8</td>\n      <td>-1.0</td>\n      <td>3</td>\n      <td>0.0</td>\n    </tr>\n    <tr>\n      <th>7</th>\n      <td>42</td>\n      <td>2</td>\n      <td>1.0</td>\n      <td>2</td>\n      <td>5.0</td>\n      <td>1</td>\n      <td>380.0</td>\n      <td>2</td>\n      <td>1</td>\n      <td>7</td>\n      <td>2</td>\n      <td>0</td>\n      <td>0</td>\n      <td>8</td>\n      <td>-1.0</td>\n      <td>3</td>\n      <td>0.0</td>\n    </tr>\n    <tr>\n      <th>8</th>\n      <td>58</td>\n      <td>121</td>\n      <td>NaN</td>\n      <td>NaN</td>\n      <td>NaN</td>\n      <td>0</td>\n      <td>NaN</td>\n      <td>0</td>\n      <td>1</td>\n      <td>8</td>\n      <td>5</td>\n      <td>0</td>\n      <td>1</td>\n      <td>NaN</td>\n      <td>156.0</td>\n      <td>3</td>\n      <td>0.0</td>\n    </tr>\n    <tr>\n      <th>9</th>\n      <td>43</td>\n      <td>593</td>\n      <td>NaN</td>\n      <td>NaN</td>\n      <td>NaN</td>\n      <td>0</td>\n      <td>NaN</td>\n      <td>1</td>\n      <td>1</td>\n      <td>9</td>\n      <td>9</td>\n      <td>0</td>\n      <td>2</td>\n      <td>NaN</td>\n      <td>146.0</td>\n      <td>1</td>\n      <td>0.0</td>\n    </tr>\n    <tr>\n      <th>10</th>\n      <td>41</td>\n      <td>270</td>\n      <td>1.0</td>\n      <td>2</td>\n      <td>5.0</td>\n      <td>0</td>\n      <td>222.0</td>\n      <td>1</td>\n      <td>1</td>\n      <td>10</td>\n      <td>0</td>\n      <td>0</td>\n      <td>0</td>\n      <td>8</td>\n      <td>-1.0</td>\n      <td>3</td>\n      <td>0.0</td>\n    </tr>\n    <tr>\n      <th>11</th>\n      <td>29</td>\n      <td>390</td>\n      <td>1.0</td>\n      <td>2</td>\n      <td>5.0</td>\n      <td>0</td>\n      <td>137.0</td>\n      <td>1</td>\n      <td>1</td>\n      <td>11</td>\n      <td>0</td>\n      <td>0</td>\n      <td>2</td>\n      <td>8</td>\n      <td>-1.0</td>\n      <td>3</td>\n      <td>0.0</td>\n    </tr>\n    <tr>\n      <th>12</th>\n      <td>53</td>\n      <td>6</td>\n      <td>NaN</td>\n      <td>NaN</td>\n      <td>NaN</td>\n      <td>0</td>\n      <td>NaN</td>\n      <td>1</td>\n      <td>1</td>\n      <td>12</td>\n      <td>9</td>\n      <td>0</td>\n      <td>1</td>\n      <td>NaN</td>\n      <td>-2.0</td>\n      <td>3</td>\n      <td>2.0</td>\n    </tr>\n    <tr>\n      <th>13</th>\n      <td>58</td>\n      <td>71</td>\n      <td>NaN</td>\n      <td>NaN</td>\n      <td>NaN</td>\n      <td>0</td>\n      <td>NaN</td>\n      <td>3</td>\n      <td>1</td>\n      <td>13</td>\n      <td>9</td>\n      <td>0</td>\n      <td>1</td>\n      <td>NaN</td>\n      <td>-3.0</td>\n      <td>3</td>\n      <td>3.0</td>\n    </tr>\n    <tr>\n      <th>14</th>\n      <td>57</td>\n      <td>162</td>\n      <td>1.0</td>\n      <td>2</td>\n      <td>5.0</td>\n      <td>0</td>\n      <td>174.0</td>\n      <td>1</td>\n      <td>1</td>\n      <td>14</td>\n      <td>7</td>\n      <td>0</td>\n      <td>1</td>\n      <td>8</td>\n      <td>-1.0</td>\n      <td>3</td>\n      <td>0.0</td>\n    </tr>\n    <tr>\n      <th>15</th>\n      <td>51</td>\n      <td>229</td>\n      <td>1.0</td>\n      <td>2</td>\n      <td>5.0</td>\n      <td>0</td>\n      <td>353.0</td>\n      <td>0</td>\n      <td>1</td>\n      <td>15</td>\n      <td>5</td>\n      <td>0</td>\n      <td>1</td>\n      <td>8</td>\n      <td>-1.0</td>\n      <td>3</td>\n      <td>0.0</td>\n    </tr>\n    <tr>\n      <th>16</th>\n      <td>45</td>\n      <td>13</td>\n      <td>NaN</td>\n      <td>NaN</td>\n      <td>NaN</td>\n      <td>0</td>\n      <td>NaN</td>\n      <td>3</td>\n      <td>1</td>\n      <td>16</td>\n      <td>0</td>\n      <td>0</td>\n      <td>2</td>\n      <td>NaN</td>\n      <td>158.0</td>\n      <td>2</td>\n      <td>0.0</td>\n    </tr>\n    <tr>\n      <th>17</th>\n      <td>57</td>\n      <td>52</td>\n      <td>1.0</td>\n      <td>2</td>\n      <td>5.0</td>\n      <td>0</td>\n      <td>38.0</td>\n      <td>0</td>\n      <td>1</td>\n      <td>17</td>\n      <td>1</td>\n      <td>0</td>\n      <td>1</td>\n      <td>8</td>\n      <td>-1.0</td>\n      <td>3</td>\n      <td>0.0</td>\n    </tr>\n    <tr>\n      <th>18</th>\n      <td>60</td>\n      <td>60</td>\n      <td>1.0</td>\n      <td>2</td>\n      <td>5.0</td>\n      <td>0</td>\n      <td>219.0</td>\n      <td>0</td>\n      <td>1</td>\n      <td>18</td>\n      <td>5</td>\n      <td>0</td>\n      <td>1</td>\n      <td>8</td>\n      <td>-1.0</td>\n      <td>3</td>\n      <td>0.0</td>\n    </tr>\n    <tr>\n      <th>19</th>\n      <td>33</td>\n      <td>0</td>\n      <td>1.0</td>\n      <td>2</td>\n      <td>5.0</td>\n      <td>0</td>\n      <td>54.0</td>\n      <td>1</td>\n      <td>1</td>\n      <td>19</td>\n      <td>7</td>\n      <td>0</td>\n      <td>1</td>\n      <td>8</td>\n      <td>-1.0</td>\n      <td>3</td>\n      <td>0.0</td>\n    </tr>\n    <tr>\n      <th>20</th>\n      <td>28</td>\n      <td>723</td>\n      <td>1.0</td>\n      <td>2</td>\n      <td>5.0</td>\n      <td>0</td>\n      <td>262.0</td>\n      <td>1</td>\n      <td>1</td>\n      <td>20</td>\n      <td>1</td>\n      <td>1</td>\n      <td>1</td>\n      <td>8</td>\n      <td>-1.0</td>\n      <td>3</td>\n      <td>0.0</td>\n    </tr>\n    <tr>\n      <th>21</th>\n      <td>56</td>\n      <td>779</td>\n      <td>1.0</td>\n      <td>2</td>\n      <td>5.0</td>\n      <td>0</td>\n      <td>164.0</td>\n      <td>2</td>\n      <td>1</td>\n      <td>21</td>\n      <td>4</td>\n      <td>0</td>\n      <td>1</td>\n      <td>8</td>\n      <td>-1.0</td>\n      <td>3</td>\n      <td>0.0</td>\n    </tr>\n    <tr>\n      <th>22</th>\n      <td>32</td>\n      <td>23</td>\n      <td>NaN</td>\n      <td>NaN</td>\n      <td>NaN</td>\n      <td>0</td>\n      <td>NaN</td>\n      <td>0</td>\n      <td>1</td>\n      <td>22</td>\n      <td>1</td>\n      <td>1</td>\n      <td>2</td>\n      <td>NaN</td>\n      <td>98.0</td>\n      <td>0</td>\n      <td>0.0</td>\n    </tr>\n    <tr>\n      <th>23</th>\n      <td>25</td>\n      <td>50</td>\n      <td>NaN</td>\n      <td>NaN</td>\n      <td>NaN</td>\n      <td>0</td>\n      <td>NaN</td>\n      <td>1</td>\n      <td>1</td>\n      <td>23</td>\n      <td>7</td>\n      <td>0</td>\n      <td>1</td>\n      <td>NaN</td>\n      <td>64.0</td>\n      <td>2</td>\n      <td>1.0</td>\n    </tr>\n    <tr>\n      <th>24</th>\n      <td>40</td>\n      <td>0</td>\n      <td>1.0</td>\n      <td>2</td>\n      <td>5.0</td>\n      <td>0</td>\n      <td>181.0</td>\n      <td>0</td>\n      <td>1</td>\n      <td>24</td>\n      <td>5</td>\n      <td>1</td>\n      <td>1</td>\n      <td>8</td>\n      <td>-1.0</td>\n      <td>3</td>\n      <td>0.0</td>\n    </tr>\n    <tr>\n      <th>25</th>\n      <td>44</td>\n      <td>-372</td>\n      <td>NaN</td>\n      <td>NaN</td>\n      <td>NaN</td>\n      <td>0</td>\n      <td>NaN</td>\n      <td>1</td>\n      <td>1</td>\n      <td>25</td>\n      <td>0</td>\n      <td>0</td>\n      <td>1</td>\n      <td>NaN</td>\n      <td>-1.0</td>\n      <td>0</td>\n      <td>5.0</td>\n    </tr>\n    <tr>\n      <th>26</th>\n      <td>39</td>\n      <td>255</td>\n      <td>NaN</td>\n      <td>NaN</td>\n      <td>NaN</td>\n      <td>0</td>\n      <td>NaN</td>\n      <td>2</td>\n      <td>1</td>\n      <td>26</td>\n      <td>4</td>\n      <td>0</td>\n      <td>2</td>\n      <td>NaN</td>\n      <td>-2.0</td>\n      <td>3</td>\n      <td>0.0</td>\n    </tr>\n    <tr>\n      <th>27</th>\n      <td>52</td>\n      <td>113</td>\n      <td>1.0</td>\n      <td>2</td>\n      <td>5.0</td>\n      <td>0</td>\n      <td>127.0</td>\n      <td>1</td>\n      <td>1</td>\n      <td>27</td>\n      <td>2</td>\n      <td>1</td>\n      <td>1</td>\n      <td>8</td>\n      <td>-1.0</td>\n      <td>3</td>\n      <td>0.0</td>\n    </tr>\n    <tr>\n      <th>28</th>\n      <td>46</td>\n      <td>-246</td>\n      <td>2.0</td>\n      <td>2</td>\n      <td>5.0</td>\n      <td>0</td>\n      <td>255.0</td>\n      <td>1</td>\n      <td>1</td>\n      <td>28</td>\n      <td>4</td>\n      <td>0</td>\n      <td>2</td>\n      <td>8</td>\n      <td>-1.0</td>\n      <td>3</td>\n      <td>0.0</td>\n    </tr>\n    <tr>\n      <th>29</th>\n      <td>36</td>\n      <td>265</td>\n      <td>1.0</td>\n      <td>2</td>\n      <td>5.0</td>\n      <td>0</td>\n      <td>348.0</td>\n      <td>1</td>\n      <td>1</td>\n      <td>29</td>\n      <td>9</td>\n      <td>1</td>\n      <td>2</td>\n      <td>8</td>\n      <td>-1.0</td>\n      <td>3</td>\n      <td>0.0</td>\n    </tr>\n    <tr>\n      <th>30</th>\n      <td>57</td>\n      <td>839</td>\n      <td>1.0</td>\n      <td>2</td>\n      <td>5.0</td>\n      <td>0</td>\n      <td>225.0</td>\n      <td>1</td>\n      <td>0</td>\n      <td>30</td>\n      <td>9</td>\n      <td>1</td>\n      <td>1</td>\n      <td>8</td>\n      <td>-1.0</td>\n      <td>3</td>\n      <td>0.0</td>\n    </tr>\n    <tr>\n      <th>31</th>\n      <td>49</td>\n      <td>378</td>\n      <td>1.0</td>\n      <td>2</td>\n      <td>5.0</td>\n      <td>0</td>\n      <td>230.0</td>\n      <td>2</td>\n      <td>1</td>\n      <td>31</td>\n      <td>4</td>\n      <td>0</td>\n      <td>1</td>\n      <td>8</td>\n      <td>-1.0</td>\n      <td>3</td>\n      <td>0.0</td>\n    </tr>\n    <tr>\n      <th>32</th>\n      <td>60</td>\n      <td>39</td>\n      <td>1.0</td>\n      <td>2</td>\n      <td>5.0</td>\n      <td>0</td>\n      <td>208.0</td>\n      <td>1</td>\n      <td>1</td>\n      <td>32</td>\n      <td>0</td>\n      <td>1</td>\n      <td>1</td>\n      <td>8</td>\n      <td>-1.0</td>\n      <td>3</td>\n      <td>0.0</td>\n    </tr>\n    <tr>\n      <th>33</th>\n      <td>59</td>\n      <td>0</td>\n      <td>1.0</td>\n      <td>2</td>\n      <td>5.0</td>\n      <td>0</td>\n      <td>226.0</td>\n      <td>1</td>\n      <td>1</td>\n      <td>33</td>\n      <td>1</td>\n      <td>0</td>\n      <td>1</td>\n      <td>8</td>\n      <td>-1.0</td>\n      <td>3</td>\n      <td>0.0</td>\n    </tr>\n    <tr>\n      <th>34</th>\n      <td>51</td>\n      <td>10635</td>\n      <td>1.0</td>\n      <td>2</td>\n      <td>5.0</td>\n      <td>0</td>\n      <td>336.0</td>\n      <td>2</td>\n      <td>1</td>\n      <td>34</td>\n      <td>4</td>\n      <td>0</td>\n      <td>1</td>\n      <td>8</td>\n      <td>-1.0</td>\n      <td>3</td>\n      <td>0.0</td>\n    </tr>\n    <tr>\n      <th>35</th>\n      <td>57</td>\n      <td>63</td>\n      <td>1.0</td>\n      <td>2</td>\n      <td>5.0</td>\n      <td>0</td>\n      <td>242.0</td>\n      <td>1</td>\n      <td>1</td>\n      <td>35</td>\n      <td>9</td>\n      <td>0</td>\n      <td>0</td>\n      <td>8</td>\n      <td>-1.0</td>\n      <td>3</td>\n      <td>0.0</td>\n    </tr>\n    <tr>\n      <th>36</th>\n      <td>25</td>\n      <td>-7</td>\n      <td>1.0</td>\n      <td>2</td>\n      <td>5.0</td>\n      <td>0</td>\n      <td>365.0</td>\n      <td>1</td>\n      <td>1</td>\n      <td>36</td>\n      <td>1</td>\n      <td>0</td>\n      <td>1</td>\n      <td>8</td>\n      <td>-1.0</td>\n      <td>3</td>\n      <td>0.0</td>\n    </tr>\n    <tr>\n      <th>37</th>\n      <td>53</td>\n      <td>-3</td>\n      <td>NaN</td>\n      <td>NaN</td>\n      <td>NaN</td>\n      <td>0</td>\n      <td>NaN</td>\n      <td>1</td>\n      <td>0</td>\n      <td>37</td>\n      <td>9</td>\n      <td>0</td>\n      <td>1</td>\n      <td>NaN</td>\n      <td>-1.0</td>\n      <td>3</td>\n      <td>2.0</td>\n    </tr>\n    <tr>\n      <th>38</th>\n      <td>36</td>\n      <td>506</td>\n      <td>1.0</td>\n      <td>2</td>\n      <td>5.0</td>\n      <td>0</td>\n      <td>577.0</td>\n      <td>1</td>\n      <td>1</td>\n      <td>38</td>\n      <td>0</td>\n      <td>0</td>\n      <td>0</td>\n      <td>8</td>\n      <td>-1.0</td>\n      <td>3</td>\n      <td>0.0</td>\n    </tr>\n    <tr>\n      <th>39</th>\n      <td>37</td>\n      <td>0</td>\n      <td>1.0</td>\n      <td>2</td>\n      <td>5.0</td>\n      <td>0</td>\n      <td>137.0</td>\n      <td>1</td>\n      <td>1</td>\n      <td>39</td>\n      <td>0</td>\n      <td>0</td>\n      <td>2</td>\n      <td>8</td>\n      <td>-1.0</td>\n      <td>3</td>\n      <td>0.0</td>\n    </tr>\n    <tr>\n      <th>40</th>\n      <td>44</td>\n      <td>2586</td>\n      <td>1.0</td>\n      <td>2</td>\n      <td>5.0</td>\n      <td>0</td>\n      <td>160.0</td>\n      <td>1</td>\n      <td>1</td>\n      <td>40</td>\n      <td>7</td>\n      <td>0</td>\n      <td>0</td>\n      <td>8</td>\n      <td>-1.0</td>\n      <td>3</td>\n      <td>0.0</td>\n    </tr>\n    <tr>\n      <th>41</th>\n      <td>50</td>\n      <td>49</td>\n      <td>2.0</td>\n      <td>2</td>\n      <td>5.0</td>\n      <td>0</td>\n      <td>180.0</td>\n      <td>1</td>\n      <td>1</td>\n      <td>41</td>\n      <td>4</td>\n      <td>0</td>\n      <td>1</td>\n      <td>8</td>\n      <td>-1.0</td>\n      <td>3</td>\n      <td>0.0</td>\n    </tr>\n    <tr>\n      <th>42</th>\n      <td>60</td>\n      <td>104</td>\n      <td>1.0</td>\n      <td>2</td>\n      <td>5.0</td>\n      <td>0</td>\n      <td>22.0</td>\n      <td>3</td>\n      <td>1</td>\n      <td>42</td>\n      <td>1</td>\n      <td>0</td>\n      <td>1</td>\n      <td>8</td>\n      <td>-1.0</td>\n      <td>3</td>\n      <td>0.0</td>\n    </tr>\n    <tr>\n      <th>43</th>\n      <td>54</td>\n      <td>529</td>\n      <td>1.0</td>\n      <td>2</td>\n      <td>5.0</td>\n      <td>0</td>\n      <td>1492.0</td>\n      <td>1</td>\n      <td>1</td>\n      <td>43</td>\n      <td>5</td>\n      <td>0</td>\n      <td>1</td>\n      <td>8</td>\n      <td>-1.0</td>\n      <td>3</td>\n      <td>0.0</td>\n    </tr>\n    <tr>\n      <th>44</th>\n      <td>58</td>\n      <td>96</td>\n      <td>1.0</td>\n      <td>2</td>\n      <td>5.0</td>\n      <td>0</td>\n      <td>616.0</td>\n      <td>3</td>\n      <td>1</td>\n      <td>44</td>\n      <td>5</td>\n      <td>0</td>\n      <td>1</td>\n      <td>8</td>\n      <td>-1.0</td>\n      <td>3</td>\n      <td>0.0</td>\n    </tr>\n    <tr>\n      <th>45</th>\n      <td>36</td>\n      <td>-171</td>\n      <td>NaN</td>\n      <td>NaN</td>\n      <td>NaN</td>\n      <td>0</td>\n      <td>NaN</td>\n      <td>0</td>\n      <td>1</td>\n      <td>45</td>\n      <td>0</td>\n      <td>0</td>\n      <td>2</td>\n      <td>NaN</td>\n      <td>172.0</td>\n      <td>3</td>\n      <td>0.0</td>\n    </tr>\n    <tr>\n      <th>46</th>\n      <td>58</td>\n      <td>-364</td>\n      <td>1.0</td>\n      <td>2</td>\n      <td>5.0</td>\n      <td>0</td>\n      <td>355.0</td>\n      <td>2</td>\n      <td>1</td>\n      <td>46</td>\n      <td>6</td>\n      <td>0</td>\n      <td>1</td>\n      <td>8</td>\n      <td>-1.0</td>\n      <td>3</td>\n      <td>0.0</td>\n    </tr>\n    <tr>\n      <th>47</th>\n      <td>44</td>\n      <td>0</td>\n      <td>2.0</td>\n      <td>2</td>\n      <td>5.0</td>\n      <td>0</td>\n      <td>225.0</td>\n      <td>1</td>\n      <td>1</td>\n      <td>47</td>\n      <td>9</td>\n      <td>0</td>\n      <td>1</td>\n      <td>8</td>\n      <td>-1.0</td>\n      <td>3</td>\n      <td>0.0</td>\n    </tr>\n    <tr>\n      <th>48</th>\n      <td>55</td>\n      <td>0</td>\n      <td>1.0</td>\n      <td>2</td>\n      <td>5.0</td>\n      <td>0</td>\n      <td>160.0</td>\n      <td>1</td>\n      <td>0</td>\n      <td>48</td>\n      <td>9</td>\n      <td>0</td>\n      <td>0</td>\n      <td>8</td>\n      <td>-1.0</td>\n      <td>3</td>\n      <td>0.0</td>\n    </tr>\n    <tr>\n      <th>49</th>\n      <td>29</td>\n      <td>0</td>\n      <td>NaN</td>\n      <td>NaN</td>\n      <td>NaN</td>\n      <td>0</td>\n      <td>NaN</td>\n      <td>2</td>\n      <td>1</td>\n      <td>49</td>\n      <td>4</td>\n      <td>0</td>\n      <td>2</td>\n      <td>NaN</td>\n      <td>-2.0</td>\n      <td>0</td>\n      <td>0.0</td>\n    </tr>\n  </tbody>\n</table>\n</div>"
     },
     "execution_count": 26,
     "metadata": {},
     "output_type": "execute_result"
    }
   ],
   "source": [
    "print(aligned_df_new_encode.shape)\n",
    "aligned_df_new_encode.head(50)"
   ],
   "metadata": {
    "collapsed": false,
    "pycharm": {
     "name": "#%%\n"
    }
   }
  },
  {
   "cell_type": "code",
   "execution_count": 27,
   "outputs": [
    {
     "name": "stdout",
     "output_type": "stream",
     "text": [
      "age            int64\n",
      "balance        int64\n",
      "campaign     float64\n",
      "contact       object\n",
      "day          float64\n",
      "default       object\n",
      "duration     float64\n",
      "education     object\n",
      "housing       object\n",
      "index          int64\n",
      "job           object\n",
      "loan          object\n",
      "marital       object\n",
      "month         object\n",
      "pdays        float64\n",
      "poutcome      object\n",
      "previous     float64\n",
      "dtype: object\n"
     ]
    }
   ],
   "source": [
    "print(aligned_df_new_encode.dtypes)"
   ],
   "metadata": {
    "collapsed": false,
    "pycharm": {
     "name": "#%%\n"
    }
   }
  },
  {
   "cell_type": "code",
   "execution_count": 28,
   "outputs": [
    {
     "name": "stdout",
     "output_type": "stream",
     "text": [
      "age            int64\n",
      "balance        int64\n",
      "campaign     float64\n",
      "contact      float64\n",
      "day          float64\n",
      "default        int64\n",
      "duration     float64\n",
      "education      int64\n",
      "housing        int64\n",
      "index          int64\n",
      "job            int64\n",
      "loan           int64\n",
      "marital        int64\n",
      "month        float64\n",
      "pdays        float64\n",
      "poutcome       int64\n",
      "previous     float64\n",
      "dtype: object\n"
     ]
    }
   ],
   "source": [
    "# 使用  填充 NaN\n",
    "aligned_df_new_encode= aligned_df_new_encode.fillna(-9999.999)\n",
    "print(aligned_df_new_encode.dtypes)"
   ],
   "metadata": {
    "collapsed": false,
    "pycharm": {
     "name": "#%%\n"
    }
   }
  },
  {
   "cell_type": "code",
   "execution_count": 29,
   "outputs": [
    {
     "name": "stdout",
     "output_type": "stream",
     "text": [
      "age            int64\n",
      "balance        int64\n",
      "campaign     float64\n",
      "contact      float64\n",
      "day          float64\n",
      "default        int64\n",
      "duration     float64\n",
      "education      int64\n",
      "housing        int64\n",
      "index          int64\n",
      "job            int64\n",
      "loan           int64\n",
      "marital        int64\n",
      "month        float64\n",
      "pdays        float64\n",
      "poutcome       int64\n",
      "previous     float64\n",
      "dtype: object\n"
     ]
    }
   ],
   "source": [
    "aligned_df_new_encode[aligned_df_new_encode == -9999.999] = np.nan\n",
    "print(aligned_df_new_encode.dtypes)"
   ],
   "metadata": {
    "collapsed": false,
    "pycharm": {
     "name": "#%%\n"
    }
   }
  },
  {
   "cell_type": "code",
   "execution_count": 30,
   "outputs": [],
   "source": [
    "# aligned_df_new_encode.to_csv('datasetsAB/aligned_df_new_encode.csv', index=False)"
   ],
   "metadata": {
    "collapsed": false,
    "pycharm": {
     "name": "#%%\n"
    }
   }
  },
  {
   "cell_type": "markdown",
   "source": [
    "# 获得原始数据集并对其进行相同编码"
   ],
   "metadata": {
    "collapsed": false
   }
  },
  {
   "cell_type": "code",
   "execution_count": 30,
   "outputs": [
    {
     "name": "stdout",
     "output_type": "stream",
     "text": [
      "(45211, 17)\n"
     ]
    },
    {
     "data": {
      "text/plain": "   age           job   marital  education default  balance housing loan  \\\n0   58    management   married   tertiary      no     2143     yes   no   \n1   44    technician    single  secondary      no       29     yes   no   \n2   33  entrepreneur   married  secondary      no        2     yes  yes   \n3   47   blue-collar   married    unknown      no     1506     yes   no   \n4   33       unknown    single    unknown      no        1      no   no   \n5   35    management   married   tertiary      no      231     yes   no   \n6   28    management    single   tertiary      no      447     yes  yes   \n7   42  entrepreneur  divorced   tertiary     yes        2     yes   no   \n8   58       retired   married    primary      no      121     yes   no   \n9   43    technician    single  secondary      no      593     yes   no   \n\n   contact  day month  duration  campaign  pdays  previous poutcome  index  \n0  unknown    5   may       261         1     -1         0  unknown      0  \n1  unknown    5   may       151         1     -1         0  unknown      1  \n2  unknown    5   may        76         1     -1         0  unknown      2  \n3  unknown    5   may        92         1     -1         0  unknown      3  \n4  unknown    5   may       198         1     -1         0  unknown      4  \n5  unknown    5   may       139         1     -1         0  unknown      5  \n6  unknown    5   may       217         1     -1         0  unknown      6  \n7  unknown    5   may       380         1     -1         0  unknown      7  \n8  unknown    5   may        50         1     -1         0  unknown      8  \n9  unknown    5   may        55         1     -1         0  unknown      9  ",
      "text/html": "<div>\n<style scoped>\n    .dataframe tbody tr th:only-of-type {\n        vertical-align: middle;\n    }\n\n    .dataframe tbody tr th {\n        vertical-align: top;\n    }\n\n    .dataframe thead th {\n        text-align: right;\n    }\n</style>\n<table border=\"1\" class=\"dataframe\">\n  <thead>\n    <tr style=\"text-align: right;\">\n      <th></th>\n      <th>age</th>\n      <th>job</th>\n      <th>marital</th>\n      <th>education</th>\n      <th>default</th>\n      <th>balance</th>\n      <th>housing</th>\n      <th>loan</th>\n      <th>contact</th>\n      <th>day</th>\n      <th>month</th>\n      <th>duration</th>\n      <th>campaign</th>\n      <th>pdays</th>\n      <th>previous</th>\n      <th>poutcome</th>\n      <th>index</th>\n    </tr>\n  </thead>\n  <tbody>\n    <tr>\n      <th>0</th>\n      <td>58</td>\n      <td>management</td>\n      <td>married</td>\n      <td>tertiary</td>\n      <td>no</td>\n      <td>2143</td>\n      <td>yes</td>\n      <td>no</td>\n      <td>unknown</td>\n      <td>5</td>\n      <td>may</td>\n      <td>261</td>\n      <td>1</td>\n      <td>-1</td>\n      <td>0</td>\n      <td>unknown</td>\n      <td>0</td>\n    </tr>\n    <tr>\n      <th>1</th>\n      <td>44</td>\n      <td>technician</td>\n      <td>single</td>\n      <td>secondary</td>\n      <td>no</td>\n      <td>29</td>\n      <td>yes</td>\n      <td>no</td>\n      <td>unknown</td>\n      <td>5</td>\n      <td>may</td>\n      <td>151</td>\n      <td>1</td>\n      <td>-1</td>\n      <td>0</td>\n      <td>unknown</td>\n      <td>1</td>\n    </tr>\n    <tr>\n      <th>2</th>\n      <td>33</td>\n      <td>entrepreneur</td>\n      <td>married</td>\n      <td>secondary</td>\n      <td>no</td>\n      <td>2</td>\n      <td>yes</td>\n      <td>yes</td>\n      <td>unknown</td>\n      <td>5</td>\n      <td>may</td>\n      <td>76</td>\n      <td>1</td>\n      <td>-1</td>\n      <td>0</td>\n      <td>unknown</td>\n      <td>2</td>\n    </tr>\n    <tr>\n      <th>3</th>\n      <td>47</td>\n      <td>blue-collar</td>\n      <td>married</td>\n      <td>unknown</td>\n      <td>no</td>\n      <td>1506</td>\n      <td>yes</td>\n      <td>no</td>\n      <td>unknown</td>\n      <td>5</td>\n      <td>may</td>\n      <td>92</td>\n      <td>1</td>\n      <td>-1</td>\n      <td>0</td>\n      <td>unknown</td>\n      <td>3</td>\n    </tr>\n    <tr>\n      <th>4</th>\n      <td>33</td>\n      <td>unknown</td>\n      <td>single</td>\n      <td>unknown</td>\n      <td>no</td>\n      <td>1</td>\n      <td>no</td>\n      <td>no</td>\n      <td>unknown</td>\n      <td>5</td>\n      <td>may</td>\n      <td>198</td>\n      <td>1</td>\n      <td>-1</td>\n      <td>0</td>\n      <td>unknown</td>\n      <td>4</td>\n    </tr>\n    <tr>\n      <th>5</th>\n      <td>35</td>\n      <td>management</td>\n      <td>married</td>\n      <td>tertiary</td>\n      <td>no</td>\n      <td>231</td>\n      <td>yes</td>\n      <td>no</td>\n      <td>unknown</td>\n      <td>5</td>\n      <td>may</td>\n      <td>139</td>\n      <td>1</td>\n      <td>-1</td>\n      <td>0</td>\n      <td>unknown</td>\n      <td>5</td>\n    </tr>\n    <tr>\n      <th>6</th>\n      <td>28</td>\n      <td>management</td>\n      <td>single</td>\n      <td>tertiary</td>\n      <td>no</td>\n      <td>447</td>\n      <td>yes</td>\n      <td>yes</td>\n      <td>unknown</td>\n      <td>5</td>\n      <td>may</td>\n      <td>217</td>\n      <td>1</td>\n      <td>-1</td>\n      <td>0</td>\n      <td>unknown</td>\n      <td>6</td>\n    </tr>\n    <tr>\n      <th>7</th>\n      <td>42</td>\n      <td>entrepreneur</td>\n      <td>divorced</td>\n      <td>tertiary</td>\n      <td>yes</td>\n      <td>2</td>\n      <td>yes</td>\n      <td>no</td>\n      <td>unknown</td>\n      <td>5</td>\n      <td>may</td>\n      <td>380</td>\n      <td>1</td>\n      <td>-1</td>\n      <td>0</td>\n      <td>unknown</td>\n      <td>7</td>\n    </tr>\n    <tr>\n      <th>8</th>\n      <td>58</td>\n      <td>retired</td>\n      <td>married</td>\n      <td>primary</td>\n      <td>no</td>\n      <td>121</td>\n      <td>yes</td>\n      <td>no</td>\n      <td>unknown</td>\n      <td>5</td>\n      <td>may</td>\n      <td>50</td>\n      <td>1</td>\n      <td>-1</td>\n      <td>0</td>\n      <td>unknown</td>\n      <td>8</td>\n    </tr>\n    <tr>\n      <th>9</th>\n      <td>43</td>\n      <td>technician</td>\n      <td>single</td>\n      <td>secondary</td>\n      <td>no</td>\n      <td>593</td>\n      <td>yes</td>\n      <td>no</td>\n      <td>unknown</td>\n      <td>5</td>\n      <td>may</td>\n      <td>55</td>\n      <td>1</td>\n      <td>-1</td>\n      <td>0</td>\n      <td>unknown</td>\n      <td>9</td>\n    </tr>\n  </tbody>\n</table>\n</div>"
     },
     "execution_count": 30,
     "metadata": {},
     "output_type": "execute_result"
    }
   ],
   "source": [
    "# 假设bank_data是原始数据集\n",
    "bank_data = pd.read_csv('datasets/bank.csv',sep=';')\n",
    "bank_data['index']=range(0,len(bank_data))\n",
    "bank_data=bank_data.drop('y',axis=1)\n",
    "print(bank_data.shape)\n",
    "bank_data.head(10)"
   ],
   "metadata": {
    "collapsed": false,
    "pycharm": {
     "name": "#%%\n"
    }
   }
  },
  {
   "cell_type": "code",
   "execution_count": 31,
   "outputs": [
    {
     "data": {
      "text/plain": "   age  job  marital  education  default  balance  housing  loan  contact  \\\n0   58    4        1          2        0     2143        1     0        2   \n1   44    9        2          1        0       29        1     0        2   \n2   33    2        1          1        0        2        1     1        2   \n3   47    1        1          3        0     1506        1     0        2   \n4   33   11        2          3        0        1        0     0        2   \n5   35    4        1          2        0      231        1     0        2   \n6   28    4        2          2        0      447        1     1        2   \n7   42    2        0          2        1        2        1     0        2   \n8   58    5        1          0        0      121        1     0        2   \n9   43    9        2          1        0      593        1     0        2   \n\n   day  month  duration  campaign  pdays  previous  poutcome  index  \n0    5      8       261         1     -1         0         3      0  \n1    5      8       151         1     -1         0         3      1  \n2    5      8        76         1     -1         0         3      2  \n3    5      8        92         1     -1         0         3      3  \n4    5      8       198         1     -1         0         3      4  \n5    5      8       139         1     -1         0         3      5  \n6    5      8       217         1     -1         0         3      6  \n7    5      8       380         1     -1         0         3      7  \n8    5      8        50         1     -1         0         3      8  \n9    5      8        55         1     -1         0         3      9  ",
      "text/html": "<div>\n<style scoped>\n    .dataframe tbody tr th:only-of-type {\n        vertical-align: middle;\n    }\n\n    .dataframe tbody tr th {\n        vertical-align: top;\n    }\n\n    .dataframe thead th {\n        text-align: right;\n    }\n</style>\n<table border=\"1\" class=\"dataframe\">\n  <thead>\n    <tr style=\"text-align: right;\">\n      <th></th>\n      <th>age</th>\n      <th>job</th>\n      <th>marital</th>\n      <th>education</th>\n      <th>default</th>\n      <th>balance</th>\n      <th>housing</th>\n      <th>loan</th>\n      <th>contact</th>\n      <th>day</th>\n      <th>month</th>\n      <th>duration</th>\n      <th>campaign</th>\n      <th>pdays</th>\n      <th>previous</th>\n      <th>poutcome</th>\n      <th>index</th>\n    </tr>\n  </thead>\n  <tbody>\n    <tr>\n      <th>0</th>\n      <td>58</td>\n      <td>4</td>\n      <td>1</td>\n      <td>2</td>\n      <td>0</td>\n      <td>2143</td>\n      <td>1</td>\n      <td>0</td>\n      <td>2</td>\n      <td>5</td>\n      <td>8</td>\n      <td>261</td>\n      <td>1</td>\n      <td>-1</td>\n      <td>0</td>\n      <td>3</td>\n      <td>0</td>\n    </tr>\n    <tr>\n      <th>1</th>\n      <td>44</td>\n      <td>9</td>\n      <td>2</td>\n      <td>1</td>\n      <td>0</td>\n      <td>29</td>\n      <td>1</td>\n      <td>0</td>\n      <td>2</td>\n      <td>5</td>\n      <td>8</td>\n      <td>151</td>\n      <td>1</td>\n      <td>-1</td>\n      <td>0</td>\n      <td>3</td>\n      <td>1</td>\n    </tr>\n    <tr>\n      <th>2</th>\n      <td>33</td>\n      <td>2</td>\n      <td>1</td>\n      <td>1</td>\n      <td>0</td>\n      <td>2</td>\n      <td>1</td>\n      <td>1</td>\n      <td>2</td>\n      <td>5</td>\n      <td>8</td>\n      <td>76</td>\n      <td>1</td>\n      <td>-1</td>\n      <td>0</td>\n      <td>3</td>\n      <td>2</td>\n    </tr>\n    <tr>\n      <th>3</th>\n      <td>47</td>\n      <td>1</td>\n      <td>1</td>\n      <td>3</td>\n      <td>0</td>\n      <td>1506</td>\n      <td>1</td>\n      <td>0</td>\n      <td>2</td>\n      <td>5</td>\n      <td>8</td>\n      <td>92</td>\n      <td>1</td>\n      <td>-1</td>\n      <td>0</td>\n      <td>3</td>\n      <td>3</td>\n    </tr>\n    <tr>\n      <th>4</th>\n      <td>33</td>\n      <td>11</td>\n      <td>2</td>\n      <td>3</td>\n      <td>0</td>\n      <td>1</td>\n      <td>0</td>\n      <td>0</td>\n      <td>2</td>\n      <td>5</td>\n      <td>8</td>\n      <td>198</td>\n      <td>1</td>\n      <td>-1</td>\n      <td>0</td>\n      <td>3</td>\n      <td>4</td>\n    </tr>\n    <tr>\n      <th>5</th>\n      <td>35</td>\n      <td>4</td>\n      <td>1</td>\n      <td>2</td>\n      <td>0</td>\n      <td>231</td>\n      <td>1</td>\n      <td>0</td>\n      <td>2</td>\n      <td>5</td>\n      <td>8</td>\n      <td>139</td>\n      <td>1</td>\n      <td>-1</td>\n      <td>0</td>\n      <td>3</td>\n      <td>5</td>\n    </tr>\n    <tr>\n      <th>6</th>\n      <td>28</td>\n      <td>4</td>\n      <td>2</td>\n      <td>2</td>\n      <td>0</td>\n      <td>447</td>\n      <td>1</td>\n      <td>1</td>\n      <td>2</td>\n      <td>5</td>\n      <td>8</td>\n      <td>217</td>\n      <td>1</td>\n      <td>-1</td>\n      <td>0</td>\n      <td>3</td>\n      <td>6</td>\n    </tr>\n    <tr>\n      <th>7</th>\n      <td>42</td>\n      <td>2</td>\n      <td>0</td>\n      <td>2</td>\n      <td>1</td>\n      <td>2</td>\n      <td>1</td>\n      <td>0</td>\n      <td>2</td>\n      <td>5</td>\n      <td>8</td>\n      <td>380</td>\n      <td>1</td>\n      <td>-1</td>\n      <td>0</td>\n      <td>3</td>\n      <td>7</td>\n    </tr>\n    <tr>\n      <th>8</th>\n      <td>58</td>\n      <td>5</td>\n      <td>1</td>\n      <td>0</td>\n      <td>0</td>\n      <td>121</td>\n      <td>1</td>\n      <td>0</td>\n      <td>2</td>\n      <td>5</td>\n      <td>8</td>\n      <td>50</td>\n      <td>1</td>\n      <td>-1</td>\n      <td>0</td>\n      <td>3</td>\n      <td>8</td>\n    </tr>\n    <tr>\n      <th>9</th>\n      <td>43</td>\n      <td>9</td>\n      <td>2</td>\n      <td>1</td>\n      <td>0</td>\n      <td>593</td>\n      <td>1</td>\n      <td>0</td>\n      <td>2</td>\n      <td>5</td>\n      <td>8</td>\n      <td>55</td>\n      <td>1</td>\n      <td>-1</td>\n      <td>0</td>\n      <td>3</td>\n      <td>9</td>\n    </tr>\n  </tbody>\n</table>\n</div>"
     },
     "execution_count": 31,
     "metadata": {},
     "output_type": "execute_result"
    }
   ],
   "source": [
    "bank_data_encode=bank_data.copy()\n",
    "# 对每一列进行检查\n",
    "for col in bank_data_encode.columns:\n",
    "    # 如果该列是object类型（通常意味着它是分类的），则进行标签编码\n",
    "    if bank_data_encode[col].dtype == 'object':\n",
    "\n",
    "        bank_data_encode[col] =le.fit_transform(bank_data_encode[col])\n",
    "bank_data_encode.head(10)"
   ],
   "metadata": {
    "collapsed": false,
    "pycharm": {
     "name": "#%%\n"
    }
   }
  },
  {
   "cell_type": "code",
   "execution_count": 33,
   "outputs": [
    {
     "data": {
      "text/plain": "    age  balance  campaign  contact  day  default  duration  education  \\\n0    58     2143       1.0      2.0  5.0        0     261.0          2   \n1    44       29       1.0      2.0  5.0        0     151.0          1   \n2    33        2       1.0      2.0  5.0        0      76.0          1   \n3    47     1506       NaN      NaN  NaN        0       NaN          3   \n4    33        1       1.0      2.0  5.0        0     198.0          3   \n5    35      231       1.0      2.0  5.0        0     139.0          2   \n6    28      447       1.0      2.0  5.0        0     217.0          2   \n7    42        2       1.0      2.0  5.0        1     380.0          2   \n8    58      121       NaN      NaN  NaN        0       NaN          0   \n9    43      593       NaN      NaN  NaN        0       NaN          1   \n10   41      270       1.0      2.0  5.0        0     222.0          1   \n11   29      390       1.0      2.0  5.0        0     137.0          1   \n12   53        6       NaN      NaN  NaN        0       NaN          1   \n13   58       71       NaN      NaN  NaN        0       NaN          3   \n14   57      162       1.0      2.0  5.0        0     174.0          1   \n15   51      229       1.0      2.0  5.0        0     353.0          0   \n16   45       13       NaN      NaN  NaN        0       NaN          3   \n17   57       52       1.0      2.0  5.0        0      38.0          0   \n18   60       60       1.0      2.0  5.0        0     219.0          0   \n19   33        0       1.0      2.0  5.0        0      54.0          1   \n20   28      723       1.0      2.0  5.0        0     262.0          1   \n21   56      779       1.0      2.0  5.0        0     164.0          2   \n22   32       23       NaN      NaN  NaN        0       NaN          0   \n23   25       50       NaN      NaN  NaN        0       NaN          1   \n24   40        0       1.0      2.0  5.0        0     181.0          0   \n25   44     -372       NaN      NaN  NaN        0       NaN          1   \n26   39      255       NaN      NaN  NaN        0       NaN          2   \n27   52      113       1.0      2.0  5.0        0     127.0          1   \n28   46     -246       2.0      2.0  5.0        0     255.0          1   \n29   36      265       1.0      2.0  5.0        0     348.0          1   \n30   57      839       1.0      2.0  5.0        0     225.0          1   \n31   49      378       1.0      2.0  5.0        0     230.0          2   \n32   60       39       1.0      2.0  5.0        0     208.0          1   \n33   59        0       1.0      2.0  5.0        0     226.0          1   \n34   51    10635       1.0      2.0  5.0        0     336.0          2   \n35   57       63       1.0      2.0  5.0        0     242.0          1   \n36   25       -7       1.0      2.0  5.0        0     365.0          1   \n37   53       -3       NaN      NaN  NaN        0       NaN          1   \n38   36      506       1.0      2.0  5.0        0     577.0          1   \n39   37        0       1.0      2.0  5.0        0     137.0          1   \n40   44     2586       1.0      2.0  5.0        0     160.0          1   \n41   50       49       2.0      2.0  5.0        0     180.0          1   \n42   60      104       1.0      2.0  5.0        0      22.0          3   \n43   54      529       1.0      2.0  5.0        0    1492.0          1   \n44   58       96       1.0      2.0  5.0        0     616.0          3   \n45   36     -171       NaN      NaN  NaN        0       NaN          0   \n46   58     -364       1.0      2.0  5.0        0     355.0          2   \n47   44        0       2.0      2.0  5.0        0     225.0          1   \n48   55        0       1.0      2.0  5.0        0     160.0          1   \n49   29        0       NaN      NaN  NaN        0       NaN          2   \n\n    housing  index  job  loan  marital  month  pdays  poutcome  previous  \n0         1      0    4     0        1    8.0   -1.0         3       0.0  \n1         1      1    9     0        2    8.0   -1.0         3       0.0  \n2         1      2    2     1        1    8.0   -1.0         3       0.0  \n3         1      3    1     0        1    NaN    1.0         0       0.0  \n4         0      4   11     0        2    8.0   -1.0         3       0.0  \n5         1      5    4     0        1    8.0   -1.0         3       0.0  \n6         1      6    4     1        2    8.0   -1.0         3       0.0  \n7         1      7    2     0        0    8.0   -1.0         3       0.0  \n8         1      8    5     0        1    NaN  156.0         3       0.0  \n9         1      9    9     0        2    NaN  146.0         1       0.0  \n10        1     10    0     0        0    8.0   -1.0         3       0.0  \n11        1     11    0     0        2    8.0   -1.0         3       0.0  \n12        1     12    9     0        1    NaN   -2.0         3       2.0  \n13        1     13    9     0        1    NaN   -3.0         3       3.0  \n14        1     14    7     0        1    8.0   -1.0         3       0.0  \n15        1     15    5     0        1    8.0   -1.0         3       0.0  \n16        1     16    0     0        2    NaN  158.0         2       0.0  \n17        1     17    1     0        1    8.0   -1.0         3       0.0  \n18        1     18    5     0        1    8.0   -1.0         3       0.0  \n19        1     19    7     0        1    8.0   -1.0         3       0.0  \n20        1     20    1     1        1    8.0   -1.0         3       0.0  \n21        1     21    4     0        1    8.0   -1.0         3       0.0  \n22        1     22    1     1        2    NaN   98.0         0       0.0  \n23        1     23    7     0        1    NaN   64.0         2       1.0  \n24        1     24    5     1        1    8.0   -1.0         3       0.0  \n25        1     25    0     0        1    NaN   -1.0         0       5.0  \n26        1     26    4     0        2    NaN   -2.0         3       0.0  \n27        1     27    2     1        1    8.0   -1.0         3       0.0  \n28        1     28    4     0        2    8.0   -1.0         3       0.0  \n29        1     29    9     1        2    8.0   -1.0         3       0.0  \n30        0     30    9     1        1    8.0   -1.0         3       0.0  \n31        1     31    4     0        1    8.0   -1.0         3       0.0  \n32        1     32    0     1        1    8.0   -1.0         3       0.0  \n33        1     33    1     0        1    8.0   -1.0         3       0.0  \n34        1     34    4     0        1    8.0   -1.0         3       0.0  \n35        1     35    9     0        0    8.0   -1.0         3       0.0  \n36        1     36    1     0        1    8.0   -1.0         3       0.0  \n37        0     37    9     0        1    NaN   -1.0         3       2.0  \n38        1     38    0     0        0    8.0   -1.0         3       0.0  \n39        1     39    0     0        2    8.0   -1.0         3       0.0  \n40        1     40    7     0        0    8.0   -1.0         3       0.0  \n41        1     41    4     0        1    8.0   -1.0         3       0.0  \n42        1     42    1     0        1    8.0   -1.0         3       0.0  \n43        1     43    5     0        1    8.0   -1.0         3       0.0  \n44        1     44    5     0        1    8.0   -1.0         3       0.0  \n45        1     45    0     0        2    NaN  172.0         3       0.0  \n46        1     46    6     0        1    8.0   -1.0         3       0.0  \n47        1     47    9     0        1    8.0   -1.0         3       0.0  \n48        0     48    9     0        0    8.0   -1.0         3       0.0  \n49        1     49    4     0        2    NaN   -2.0         0       0.0  ",
      "text/html": "<div>\n<style scoped>\n    .dataframe tbody tr th:only-of-type {\n        vertical-align: middle;\n    }\n\n    .dataframe tbody tr th {\n        vertical-align: top;\n    }\n\n    .dataframe thead th {\n        text-align: right;\n    }\n</style>\n<table border=\"1\" class=\"dataframe\">\n  <thead>\n    <tr style=\"text-align: right;\">\n      <th></th>\n      <th>age</th>\n      <th>balance</th>\n      <th>campaign</th>\n      <th>contact</th>\n      <th>day</th>\n      <th>default</th>\n      <th>duration</th>\n      <th>education</th>\n      <th>housing</th>\n      <th>index</th>\n      <th>job</th>\n      <th>loan</th>\n      <th>marital</th>\n      <th>month</th>\n      <th>pdays</th>\n      <th>poutcome</th>\n      <th>previous</th>\n    </tr>\n  </thead>\n  <tbody>\n    <tr>\n      <th>0</th>\n      <td>58</td>\n      <td>2143</td>\n      <td>1.0</td>\n      <td>2.0</td>\n      <td>5.0</td>\n      <td>0</td>\n      <td>261.0</td>\n      <td>2</td>\n      <td>1</td>\n      <td>0</td>\n      <td>4</td>\n      <td>0</td>\n      <td>1</td>\n      <td>8.0</td>\n      <td>-1.0</td>\n      <td>3</td>\n      <td>0.0</td>\n    </tr>\n    <tr>\n      <th>1</th>\n      <td>44</td>\n      <td>29</td>\n      <td>1.0</td>\n      <td>2.0</td>\n      <td>5.0</td>\n      <td>0</td>\n      <td>151.0</td>\n      <td>1</td>\n      <td>1</td>\n      <td>1</td>\n      <td>9</td>\n      <td>0</td>\n      <td>2</td>\n      <td>8.0</td>\n      <td>-1.0</td>\n      <td>3</td>\n      <td>0.0</td>\n    </tr>\n    <tr>\n      <th>2</th>\n      <td>33</td>\n      <td>2</td>\n      <td>1.0</td>\n      <td>2.0</td>\n      <td>5.0</td>\n      <td>0</td>\n      <td>76.0</td>\n      <td>1</td>\n      <td>1</td>\n      <td>2</td>\n      <td>2</td>\n      <td>1</td>\n      <td>1</td>\n      <td>8.0</td>\n      <td>-1.0</td>\n      <td>3</td>\n      <td>0.0</td>\n    </tr>\n    <tr>\n      <th>3</th>\n      <td>47</td>\n      <td>1506</td>\n      <td>NaN</td>\n      <td>NaN</td>\n      <td>NaN</td>\n      <td>0</td>\n      <td>NaN</td>\n      <td>3</td>\n      <td>1</td>\n      <td>3</td>\n      <td>1</td>\n      <td>0</td>\n      <td>1</td>\n      <td>NaN</td>\n      <td>1.0</td>\n      <td>0</td>\n      <td>0.0</td>\n    </tr>\n    <tr>\n      <th>4</th>\n      <td>33</td>\n      <td>1</td>\n      <td>1.0</td>\n      <td>2.0</td>\n      <td>5.0</td>\n      <td>0</td>\n      <td>198.0</td>\n      <td>3</td>\n      <td>0</td>\n      <td>4</td>\n      <td>11</td>\n      <td>0</td>\n      <td>2</td>\n      <td>8.0</td>\n      <td>-1.0</td>\n      <td>3</td>\n      <td>0.0</td>\n    </tr>\n    <tr>\n      <th>5</th>\n      <td>35</td>\n      <td>231</td>\n      <td>1.0</td>\n      <td>2.0</td>\n      <td>5.0</td>\n      <td>0</td>\n      <td>139.0</td>\n      <td>2</td>\n      <td>1</td>\n      <td>5</td>\n      <td>4</td>\n      <td>0</td>\n      <td>1</td>\n      <td>8.0</td>\n      <td>-1.0</td>\n      <td>3</td>\n      <td>0.0</td>\n    </tr>\n    <tr>\n      <th>6</th>\n      <td>28</td>\n      <td>447</td>\n      <td>1.0</td>\n      <td>2.0</td>\n      <td>5.0</td>\n      <td>0</td>\n      <td>217.0</td>\n      <td>2</td>\n      <td>1</td>\n      <td>6</td>\n      <td>4</td>\n      <td>1</td>\n      <td>2</td>\n      <td>8.0</td>\n      <td>-1.0</td>\n      <td>3</td>\n      <td>0.0</td>\n    </tr>\n    <tr>\n      <th>7</th>\n      <td>42</td>\n      <td>2</td>\n      <td>1.0</td>\n      <td>2.0</td>\n      <td>5.0</td>\n      <td>1</td>\n      <td>380.0</td>\n      <td>2</td>\n      <td>1</td>\n      <td>7</td>\n      <td>2</td>\n      <td>0</td>\n      <td>0</td>\n      <td>8.0</td>\n      <td>-1.0</td>\n      <td>3</td>\n      <td>0.0</td>\n    </tr>\n    <tr>\n      <th>8</th>\n      <td>58</td>\n      <td>121</td>\n      <td>NaN</td>\n      <td>NaN</td>\n      <td>NaN</td>\n      <td>0</td>\n      <td>NaN</td>\n      <td>0</td>\n      <td>1</td>\n      <td>8</td>\n      <td>5</td>\n      <td>0</td>\n      <td>1</td>\n      <td>NaN</td>\n      <td>156.0</td>\n      <td>3</td>\n      <td>0.0</td>\n    </tr>\n    <tr>\n      <th>9</th>\n      <td>43</td>\n      <td>593</td>\n      <td>NaN</td>\n      <td>NaN</td>\n      <td>NaN</td>\n      <td>0</td>\n      <td>NaN</td>\n      <td>1</td>\n      <td>1</td>\n      <td>9</td>\n      <td>9</td>\n      <td>0</td>\n      <td>2</td>\n      <td>NaN</td>\n      <td>146.0</td>\n      <td>1</td>\n      <td>0.0</td>\n    </tr>\n    <tr>\n      <th>10</th>\n      <td>41</td>\n      <td>270</td>\n      <td>1.0</td>\n      <td>2.0</td>\n      <td>5.0</td>\n      <td>0</td>\n      <td>222.0</td>\n      <td>1</td>\n      <td>1</td>\n      <td>10</td>\n      <td>0</td>\n      <td>0</td>\n      <td>0</td>\n      <td>8.0</td>\n      <td>-1.0</td>\n      <td>3</td>\n      <td>0.0</td>\n    </tr>\n    <tr>\n      <th>11</th>\n      <td>29</td>\n      <td>390</td>\n      <td>1.0</td>\n      <td>2.0</td>\n      <td>5.0</td>\n      <td>0</td>\n      <td>137.0</td>\n      <td>1</td>\n      <td>1</td>\n      <td>11</td>\n      <td>0</td>\n      <td>0</td>\n      <td>2</td>\n      <td>8.0</td>\n      <td>-1.0</td>\n      <td>3</td>\n      <td>0.0</td>\n    </tr>\n    <tr>\n      <th>12</th>\n      <td>53</td>\n      <td>6</td>\n      <td>NaN</td>\n      <td>NaN</td>\n      <td>NaN</td>\n      <td>0</td>\n      <td>NaN</td>\n      <td>1</td>\n      <td>1</td>\n      <td>12</td>\n      <td>9</td>\n      <td>0</td>\n      <td>1</td>\n      <td>NaN</td>\n      <td>-2.0</td>\n      <td>3</td>\n      <td>2.0</td>\n    </tr>\n    <tr>\n      <th>13</th>\n      <td>58</td>\n      <td>71</td>\n      <td>NaN</td>\n      <td>NaN</td>\n      <td>NaN</td>\n      <td>0</td>\n      <td>NaN</td>\n      <td>3</td>\n      <td>1</td>\n      <td>13</td>\n      <td>9</td>\n      <td>0</td>\n      <td>1</td>\n      <td>NaN</td>\n      <td>-3.0</td>\n      <td>3</td>\n      <td>3.0</td>\n    </tr>\n    <tr>\n      <th>14</th>\n      <td>57</td>\n      <td>162</td>\n      <td>1.0</td>\n      <td>2.0</td>\n      <td>5.0</td>\n      <td>0</td>\n      <td>174.0</td>\n      <td>1</td>\n      <td>1</td>\n      <td>14</td>\n      <td>7</td>\n      <td>0</td>\n      <td>1</td>\n      <td>8.0</td>\n      <td>-1.0</td>\n      <td>3</td>\n      <td>0.0</td>\n    </tr>\n    <tr>\n      <th>15</th>\n      <td>51</td>\n      <td>229</td>\n      <td>1.0</td>\n      <td>2.0</td>\n      <td>5.0</td>\n      <td>0</td>\n      <td>353.0</td>\n      <td>0</td>\n      <td>1</td>\n      <td>15</td>\n      <td>5</td>\n      <td>0</td>\n      <td>1</td>\n      <td>8.0</td>\n      <td>-1.0</td>\n      <td>3</td>\n      <td>0.0</td>\n    </tr>\n    <tr>\n      <th>16</th>\n      <td>45</td>\n      <td>13</td>\n      <td>NaN</td>\n      <td>NaN</td>\n      <td>NaN</td>\n      <td>0</td>\n      <td>NaN</td>\n      <td>3</td>\n      <td>1</td>\n      <td>16</td>\n      <td>0</td>\n      <td>0</td>\n      <td>2</td>\n      <td>NaN</td>\n      <td>158.0</td>\n      <td>2</td>\n      <td>0.0</td>\n    </tr>\n    <tr>\n      <th>17</th>\n      <td>57</td>\n      <td>52</td>\n      <td>1.0</td>\n      <td>2.0</td>\n      <td>5.0</td>\n      <td>0</td>\n      <td>38.0</td>\n      <td>0</td>\n      <td>1</td>\n      <td>17</td>\n      <td>1</td>\n      <td>0</td>\n      <td>1</td>\n      <td>8.0</td>\n      <td>-1.0</td>\n      <td>3</td>\n      <td>0.0</td>\n    </tr>\n    <tr>\n      <th>18</th>\n      <td>60</td>\n      <td>60</td>\n      <td>1.0</td>\n      <td>2.0</td>\n      <td>5.0</td>\n      <td>0</td>\n      <td>219.0</td>\n      <td>0</td>\n      <td>1</td>\n      <td>18</td>\n      <td>5</td>\n      <td>0</td>\n      <td>1</td>\n      <td>8.0</td>\n      <td>-1.0</td>\n      <td>3</td>\n      <td>0.0</td>\n    </tr>\n    <tr>\n      <th>19</th>\n      <td>33</td>\n      <td>0</td>\n      <td>1.0</td>\n      <td>2.0</td>\n      <td>5.0</td>\n      <td>0</td>\n      <td>54.0</td>\n      <td>1</td>\n      <td>1</td>\n      <td>19</td>\n      <td>7</td>\n      <td>0</td>\n      <td>1</td>\n      <td>8.0</td>\n      <td>-1.0</td>\n      <td>3</td>\n      <td>0.0</td>\n    </tr>\n    <tr>\n      <th>20</th>\n      <td>28</td>\n      <td>723</td>\n      <td>1.0</td>\n      <td>2.0</td>\n      <td>5.0</td>\n      <td>0</td>\n      <td>262.0</td>\n      <td>1</td>\n      <td>1</td>\n      <td>20</td>\n      <td>1</td>\n      <td>1</td>\n      <td>1</td>\n      <td>8.0</td>\n      <td>-1.0</td>\n      <td>3</td>\n      <td>0.0</td>\n    </tr>\n    <tr>\n      <th>21</th>\n      <td>56</td>\n      <td>779</td>\n      <td>1.0</td>\n      <td>2.0</td>\n      <td>5.0</td>\n      <td>0</td>\n      <td>164.0</td>\n      <td>2</td>\n      <td>1</td>\n      <td>21</td>\n      <td>4</td>\n      <td>0</td>\n      <td>1</td>\n      <td>8.0</td>\n      <td>-1.0</td>\n      <td>3</td>\n      <td>0.0</td>\n    </tr>\n    <tr>\n      <th>22</th>\n      <td>32</td>\n      <td>23</td>\n      <td>NaN</td>\n      <td>NaN</td>\n      <td>NaN</td>\n      <td>0</td>\n      <td>NaN</td>\n      <td>0</td>\n      <td>1</td>\n      <td>22</td>\n      <td>1</td>\n      <td>1</td>\n      <td>2</td>\n      <td>NaN</td>\n      <td>98.0</td>\n      <td>0</td>\n      <td>0.0</td>\n    </tr>\n    <tr>\n      <th>23</th>\n      <td>25</td>\n      <td>50</td>\n      <td>NaN</td>\n      <td>NaN</td>\n      <td>NaN</td>\n      <td>0</td>\n      <td>NaN</td>\n      <td>1</td>\n      <td>1</td>\n      <td>23</td>\n      <td>7</td>\n      <td>0</td>\n      <td>1</td>\n      <td>NaN</td>\n      <td>64.0</td>\n      <td>2</td>\n      <td>1.0</td>\n    </tr>\n    <tr>\n      <th>24</th>\n      <td>40</td>\n      <td>0</td>\n      <td>1.0</td>\n      <td>2.0</td>\n      <td>5.0</td>\n      <td>0</td>\n      <td>181.0</td>\n      <td>0</td>\n      <td>1</td>\n      <td>24</td>\n      <td>5</td>\n      <td>1</td>\n      <td>1</td>\n      <td>8.0</td>\n      <td>-1.0</td>\n      <td>3</td>\n      <td>0.0</td>\n    </tr>\n    <tr>\n      <th>25</th>\n      <td>44</td>\n      <td>-372</td>\n      <td>NaN</td>\n      <td>NaN</td>\n      <td>NaN</td>\n      <td>0</td>\n      <td>NaN</td>\n      <td>1</td>\n      <td>1</td>\n      <td>25</td>\n      <td>0</td>\n      <td>0</td>\n      <td>1</td>\n      <td>NaN</td>\n      <td>-1.0</td>\n      <td>0</td>\n      <td>5.0</td>\n    </tr>\n    <tr>\n      <th>26</th>\n      <td>39</td>\n      <td>255</td>\n      <td>NaN</td>\n      <td>NaN</td>\n      <td>NaN</td>\n      <td>0</td>\n      <td>NaN</td>\n      <td>2</td>\n      <td>1</td>\n      <td>26</td>\n      <td>4</td>\n      <td>0</td>\n      <td>2</td>\n      <td>NaN</td>\n      <td>-2.0</td>\n      <td>3</td>\n      <td>0.0</td>\n    </tr>\n    <tr>\n      <th>27</th>\n      <td>52</td>\n      <td>113</td>\n      <td>1.0</td>\n      <td>2.0</td>\n      <td>5.0</td>\n      <td>0</td>\n      <td>127.0</td>\n      <td>1</td>\n      <td>1</td>\n      <td>27</td>\n      <td>2</td>\n      <td>1</td>\n      <td>1</td>\n      <td>8.0</td>\n      <td>-1.0</td>\n      <td>3</td>\n      <td>0.0</td>\n    </tr>\n    <tr>\n      <th>28</th>\n      <td>46</td>\n      <td>-246</td>\n      <td>2.0</td>\n      <td>2.0</td>\n      <td>5.0</td>\n      <td>0</td>\n      <td>255.0</td>\n      <td>1</td>\n      <td>1</td>\n      <td>28</td>\n      <td>4</td>\n      <td>0</td>\n      <td>2</td>\n      <td>8.0</td>\n      <td>-1.0</td>\n      <td>3</td>\n      <td>0.0</td>\n    </tr>\n    <tr>\n      <th>29</th>\n      <td>36</td>\n      <td>265</td>\n      <td>1.0</td>\n      <td>2.0</td>\n      <td>5.0</td>\n      <td>0</td>\n      <td>348.0</td>\n      <td>1</td>\n      <td>1</td>\n      <td>29</td>\n      <td>9</td>\n      <td>1</td>\n      <td>2</td>\n      <td>8.0</td>\n      <td>-1.0</td>\n      <td>3</td>\n      <td>0.0</td>\n    </tr>\n    <tr>\n      <th>30</th>\n      <td>57</td>\n      <td>839</td>\n      <td>1.0</td>\n      <td>2.0</td>\n      <td>5.0</td>\n      <td>0</td>\n      <td>225.0</td>\n      <td>1</td>\n      <td>0</td>\n      <td>30</td>\n      <td>9</td>\n      <td>1</td>\n      <td>1</td>\n      <td>8.0</td>\n      <td>-1.0</td>\n      <td>3</td>\n      <td>0.0</td>\n    </tr>\n    <tr>\n      <th>31</th>\n      <td>49</td>\n      <td>378</td>\n      <td>1.0</td>\n      <td>2.0</td>\n      <td>5.0</td>\n      <td>0</td>\n      <td>230.0</td>\n      <td>2</td>\n      <td>1</td>\n      <td>31</td>\n      <td>4</td>\n      <td>0</td>\n      <td>1</td>\n      <td>8.0</td>\n      <td>-1.0</td>\n      <td>3</td>\n      <td>0.0</td>\n    </tr>\n    <tr>\n      <th>32</th>\n      <td>60</td>\n      <td>39</td>\n      <td>1.0</td>\n      <td>2.0</td>\n      <td>5.0</td>\n      <td>0</td>\n      <td>208.0</td>\n      <td>1</td>\n      <td>1</td>\n      <td>32</td>\n      <td>0</td>\n      <td>1</td>\n      <td>1</td>\n      <td>8.0</td>\n      <td>-1.0</td>\n      <td>3</td>\n      <td>0.0</td>\n    </tr>\n    <tr>\n      <th>33</th>\n      <td>59</td>\n      <td>0</td>\n      <td>1.0</td>\n      <td>2.0</td>\n      <td>5.0</td>\n      <td>0</td>\n      <td>226.0</td>\n      <td>1</td>\n      <td>1</td>\n      <td>33</td>\n      <td>1</td>\n      <td>0</td>\n      <td>1</td>\n      <td>8.0</td>\n      <td>-1.0</td>\n      <td>3</td>\n      <td>0.0</td>\n    </tr>\n    <tr>\n      <th>34</th>\n      <td>51</td>\n      <td>10635</td>\n      <td>1.0</td>\n      <td>2.0</td>\n      <td>5.0</td>\n      <td>0</td>\n      <td>336.0</td>\n      <td>2</td>\n      <td>1</td>\n      <td>34</td>\n      <td>4</td>\n      <td>0</td>\n      <td>1</td>\n      <td>8.0</td>\n      <td>-1.0</td>\n      <td>3</td>\n      <td>0.0</td>\n    </tr>\n    <tr>\n      <th>35</th>\n      <td>57</td>\n      <td>63</td>\n      <td>1.0</td>\n      <td>2.0</td>\n      <td>5.0</td>\n      <td>0</td>\n      <td>242.0</td>\n      <td>1</td>\n      <td>1</td>\n      <td>35</td>\n      <td>9</td>\n      <td>0</td>\n      <td>0</td>\n      <td>8.0</td>\n      <td>-1.0</td>\n      <td>3</td>\n      <td>0.0</td>\n    </tr>\n    <tr>\n      <th>36</th>\n      <td>25</td>\n      <td>-7</td>\n      <td>1.0</td>\n      <td>2.0</td>\n      <td>5.0</td>\n      <td>0</td>\n      <td>365.0</td>\n      <td>1</td>\n      <td>1</td>\n      <td>36</td>\n      <td>1</td>\n      <td>0</td>\n      <td>1</td>\n      <td>8.0</td>\n      <td>-1.0</td>\n      <td>3</td>\n      <td>0.0</td>\n    </tr>\n    <tr>\n      <th>37</th>\n      <td>53</td>\n      <td>-3</td>\n      <td>NaN</td>\n      <td>NaN</td>\n      <td>NaN</td>\n      <td>0</td>\n      <td>NaN</td>\n      <td>1</td>\n      <td>0</td>\n      <td>37</td>\n      <td>9</td>\n      <td>0</td>\n      <td>1</td>\n      <td>NaN</td>\n      <td>-1.0</td>\n      <td>3</td>\n      <td>2.0</td>\n    </tr>\n    <tr>\n      <th>38</th>\n      <td>36</td>\n      <td>506</td>\n      <td>1.0</td>\n      <td>2.0</td>\n      <td>5.0</td>\n      <td>0</td>\n      <td>577.0</td>\n      <td>1</td>\n      <td>1</td>\n      <td>38</td>\n      <td>0</td>\n      <td>0</td>\n      <td>0</td>\n      <td>8.0</td>\n      <td>-1.0</td>\n      <td>3</td>\n      <td>0.0</td>\n    </tr>\n    <tr>\n      <th>39</th>\n      <td>37</td>\n      <td>0</td>\n      <td>1.0</td>\n      <td>2.0</td>\n      <td>5.0</td>\n      <td>0</td>\n      <td>137.0</td>\n      <td>1</td>\n      <td>1</td>\n      <td>39</td>\n      <td>0</td>\n      <td>0</td>\n      <td>2</td>\n      <td>8.0</td>\n      <td>-1.0</td>\n      <td>3</td>\n      <td>0.0</td>\n    </tr>\n    <tr>\n      <th>40</th>\n      <td>44</td>\n      <td>2586</td>\n      <td>1.0</td>\n      <td>2.0</td>\n      <td>5.0</td>\n      <td>0</td>\n      <td>160.0</td>\n      <td>1</td>\n      <td>1</td>\n      <td>40</td>\n      <td>7</td>\n      <td>0</td>\n      <td>0</td>\n      <td>8.0</td>\n      <td>-1.0</td>\n      <td>3</td>\n      <td>0.0</td>\n    </tr>\n    <tr>\n      <th>41</th>\n      <td>50</td>\n      <td>49</td>\n      <td>2.0</td>\n      <td>2.0</td>\n      <td>5.0</td>\n      <td>0</td>\n      <td>180.0</td>\n      <td>1</td>\n      <td>1</td>\n      <td>41</td>\n      <td>4</td>\n      <td>0</td>\n      <td>1</td>\n      <td>8.0</td>\n      <td>-1.0</td>\n      <td>3</td>\n      <td>0.0</td>\n    </tr>\n    <tr>\n      <th>42</th>\n      <td>60</td>\n      <td>104</td>\n      <td>1.0</td>\n      <td>2.0</td>\n      <td>5.0</td>\n      <td>0</td>\n      <td>22.0</td>\n      <td>3</td>\n      <td>1</td>\n      <td>42</td>\n      <td>1</td>\n      <td>0</td>\n      <td>1</td>\n      <td>8.0</td>\n      <td>-1.0</td>\n      <td>3</td>\n      <td>0.0</td>\n    </tr>\n    <tr>\n      <th>43</th>\n      <td>54</td>\n      <td>529</td>\n      <td>1.0</td>\n      <td>2.0</td>\n      <td>5.0</td>\n      <td>0</td>\n      <td>1492.0</td>\n      <td>1</td>\n      <td>1</td>\n      <td>43</td>\n      <td>5</td>\n      <td>0</td>\n      <td>1</td>\n      <td>8.0</td>\n      <td>-1.0</td>\n      <td>3</td>\n      <td>0.0</td>\n    </tr>\n    <tr>\n      <th>44</th>\n      <td>58</td>\n      <td>96</td>\n      <td>1.0</td>\n      <td>2.0</td>\n      <td>5.0</td>\n      <td>0</td>\n      <td>616.0</td>\n      <td>3</td>\n      <td>1</td>\n      <td>44</td>\n      <td>5</td>\n      <td>0</td>\n      <td>1</td>\n      <td>8.0</td>\n      <td>-1.0</td>\n      <td>3</td>\n      <td>0.0</td>\n    </tr>\n    <tr>\n      <th>45</th>\n      <td>36</td>\n      <td>-171</td>\n      <td>NaN</td>\n      <td>NaN</td>\n      <td>NaN</td>\n      <td>0</td>\n      <td>NaN</td>\n      <td>0</td>\n      <td>1</td>\n      <td>45</td>\n      <td>0</td>\n      <td>0</td>\n      <td>2</td>\n      <td>NaN</td>\n      <td>172.0</td>\n      <td>3</td>\n      <td>0.0</td>\n    </tr>\n    <tr>\n      <th>46</th>\n      <td>58</td>\n      <td>-364</td>\n      <td>1.0</td>\n      <td>2.0</td>\n      <td>5.0</td>\n      <td>0</td>\n      <td>355.0</td>\n      <td>2</td>\n      <td>1</td>\n      <td>46</td>\n      <td>6</td>\n      <td>0</td>\n      <td>1</td>\n      <td>8.0</td>\n      <td>-1.0</td>\n      <td>3</td>\n      <td>0.0</td>\n    </tr>\n    <tr>\n      <th>47</th>\n      <td>44</td>\n      <td>0</td>\n      <td>2.0</td>\n      <td>2.0</td>\n      <td>5.0</td>\n      <td>0</td>\n      <td>225.0</td>\n      <td>1</td>\n      <td>1</td>\n      <td>47</td>\n      <td>9</td>\n      <td>0</td>\n      <td>1</td>\n      <td>8.0</td>\n      <td>-1.0</td>\n      <td>3</td>\n      <td>0.0</td>\n    </tr>\n    <tr>\n      <th>48</th>\n      <td>55</td>\n      <td>0</td>\n      <td>1.0</td>\n      <td>2.0</td>\n      <td>5.0</td>\n      <td>0</td>\n      <td>160.0</td>\n      <td>1</td>\n      <td>0</td>\n      <td>48</td>\n      <td>9</td>\n      <td>0</td>\n      <td>0</td>\n      <td>8.0</td>\n      <td>-1.0</td>\n      <td>3</td>\n      <td>0.0</td>\n    </tr>\n    <tr>\n      <th>49</th>\n      <td>29</td>\n      <td>0</td>\n      <td>NaN</td>\n      <td>NaN</td>\n      <td>NaN</td>\n      <td>0</td>\n      <td>NaN</td>\n      <td>2</td>\n      <td>1</td>\n      <td>49</td>\n      <td>4</td>\n      <td>0</td>\n      <td>2</td>\n      <td>NaN</td>\n      <td>-2.0</td>\n      <td>0</td>\n      <td>0.0</td>\n    </tr>\n  </tbody>\n</table>\n</div>"
     },
     "execution_count": 33,
     "metadata": {},
     "output_type": "execute_result"
    }
   ],
   "source": [
    "aligned_df_new_encode.head(50)"
   ],
   "metadata": {
    "collapsed": false,
    "pycharm": {
     "name": "#%%\n"
    }
   }
  },
  {
   "cell_type": "code",
   "execution_count": 35,
   "outputs": [
    {
     "data": {
      "text/plain": "    age  balance  campaign  contact  day  default  duration  education  \\\n0    58     2143         1        2    5        0       261          2   \n1    44       29         1        2    5        0       151          1   \n2    33        2         1        2    5        0        76          1   \n3    47     1506         1        2    5        0        92          3   \n4    33        1         1        2    5        0       198          3   \n5    35      231         1        2    5        0       139          2   \n6    28      447         1        2    5        0       217          2   \n7    42        2         1        2    5        1       380          2   \n8    58      121         1        2    5        0        50          0   \n9    43      593         1        2    5        0        55          1   \n10   41      270         1        2    5        0       222          1   \n11   29      390         1        2    5        0       137          1   \n12   53        6         1        2    5        0       517          1   \n13   58       71         1        2    5        0        71          3   \n14   57      162         1        2    5        0       174          1   \n15   51      229         1        2    5        0       353          0   \n16   45       13         1        2    5        0        98          3   \n17   57       52         1        2    5        0        38          0   \n18   60       60         1        2    5        0       219          0   \n19   33        0         1        2    5        0        54          1   \n20   28      723         1        2    5        0       262          1   \n21   56      779         1        2    5        0       164          2   \n22   32       23         1        2    5        0       160          0   \n23   25       50         1        2    5        0       342          1   \n24   40        0         1        2    5        0       181          0   \n25   44     -372         1        2    5        0       172          1   \n26   39      255         1        2    5        0       296          2   \n27   52      113         1        2    5        0       127          1   \n28   46     -246         2        2    5        0       255          1   \n29   36      265         1        2    5        0       348          1   \n30   57      839         1        2    5        0       225          1   \n31   49      378         1        2    5        0       230          2   \n32   60       39         1        2    5        0       208          1   \n33   59        0         1        2    5        0       226          1   \n34   51    10635         1        2    5        0       336          2   \n35   57       63         1        2    5        0       242          1   \n36   25       -7         1        2    5        0       365          1   \n37   53       -3         1        2    5        0      1666          1   \n38   36      506         1        2    5        0       577          1   \n39   37        0         1        2    5        0       137          1   \n40   44     2586         1        2    5        0       160          1   \n41   50       49         2        2    5        0       180          1   \n42   60      104         1        2    5        0        22          3   \n43   54      529         1        2    5        0      1492          1   \n44   58       96         1        2    5        0       616          3   \n45   36     -171         1        2    5        0       242          0   \n46   58     -364         1        2    5        0       355          2   \n47   44        0         2        2    5        0       225          1   \n48   55        0         1        2    5        0       160          1   \n49   29        0         1        2    5        0       363          2   \n\n    housing  index  job  loan  marital  month  pdays  poutcome  previous  \n0         1      0    4     0        1      8     -1         3         0  \n1         1      1    9     0        2      8     -1         3         0  \n2         1      2    2     1        1      8     -1         3         0  \n3         1      3    1     0        1      8     -1         3         0  \n4         0      4   11     0        2      8     -1         3         0  \n5         1      5    4     0        1      8     -1         3         0  \n6         1      6    4     1        2      8     -1         3         0  \n7         1      7    2     0        0      8     -1         3         0  \n8         1      8    5     0        1      8     -1         3         0  \n9         1      9    9     0        2      8     -1         3         0  \n10        1     10    0     0        0      8     -1         3         0  \n11        1     11    0     0        2      8     -1         3         0  \n12        1     12    9     0        1      8     -1         3         0  \n13        1     13    9     0        1      8     -1         3         0  \n14        1     14    7     0        1      8     -1         3         0  \n15        1     15    5     0        1      8     -1         3         0  \n16        1     16    0     0        2      8     -1         3         0  \n17        1     17    1     0        1      8     -1         3         0  \n18        1     18    5     0        1      8     -1         3         0  \n19        1     19    7     0        1      8     -1         3         0  \n20        1     20    1     1        1      8     -1         3         0  \n21        1     21    4     0        1      8     -1         3         0  \n22        1     22    1     1        2      8     -1         3         0  \n23        1     23    7     0        1      8     -1         3         0  \n24        1     24    5     1        1      8     -1         3         0  \n25        1     25    0     0        1      8     -1         3         0  \n26        1     26    4     0        2      8     -1         3         0  \n27        1     27    2     1        1      8     -1         3         0  \n28        1     28    4     0        2      8     -1         3         0  \n29        1     29    9     1        2      8     -1         3         0  \n30        0     30    9     1        1      8     -1         3         0  \n31        1     31    4     0        1      8     -1         3         0  \n32        1     32    0     1        1      8     -1         3         0  \n33        1     33    1     0        1      8     -1         3         0  \n34        1     34    4     0        1      8     -1         3         0  \n35        1     35    9     0        0      8     -1         3         0  \n36        1     36    1     0        1      8     -1         3         0  \n37        0     37    9     0        1      8     -1         3         0  \n38        1     38    0     0        0      8     -1         3         0  \n39        1     39    0     0        2      8     -1         3         0  \n40        1     40    7     0        0      8     -1         3         0  \n41        1     41    4     0        1      8     -1         3         0  \n42        1     42    1     0        1      8     -1         3         0  \n43        1     43    5     0        1      8     -1         3         0  \n44        1     44    5     0        1      8     -1         3         0  \n45        1     45    0     0        2      8     -1         3         0  \n46        1     46    6     0        1      8     -1         3         0  \n47        1     47    9     0        1      8     -1         3         0  \n48        0     48    9     0        0      8     -1         3         0  \n49        1     49    4     0        2      8     -1         3         0  ",
      "text/html": "<div>\n<style scoped>\n    .dataframe tbody tr th:only-of-type {\n        vertical-align: middle;\n    }\n\n    .dataframe tbody tr th {\n        vertical-align: top;\n    }\n\n    .dataframe thead th {\n        text-align: right;\n    }\n</style>\n<table border=\"1\" class=\"dataframe\">\n  <thead>\n    <tr style=\"text-align: right;\">\n      <th></th>\n      <th>age</th>\n      <th>balance</th>\n      <th>campaign</th>\n      <th>contact</th>\n      <th>day</th>\n      <th>default</th>\n      <th>duration</th>\n      <th>education</th>\n      <th>housing</th>\n      <th>index</th>\n      <th>job</th>\n      <th>loan</th>\n      <th>marital</th>\n      <th>month</th>\n      <th>pdays</th>\n      <th>poutcome</th>\n      <th>previous</th>\n    </tr>\n  </thead>\n  <tbody>\n    <tr>\n      <th>0</th>\n      <td>58</td>\n      <td>2143</td>\n      <td>1</td>\n      <td>2</td>\n      <td>5</td>\n      <td>0</td>\n      <td>261</td>\n      <td>2</td>\n      <td>1</td>\n      <td>0</td>\n      <td>4</td>\n      <td>0</td>\n      <td>1</td>\n      <td>8</td>\n      <td>-1</td>\n      <td>3</td>\n      <td>0</td>\n    </tr>\n    <tr>\n      <th>1</th>\n      <td>44</td>\n      <td>29</td>\n      <td>1</td>\n      <td>2</td>\n      <td>5</td>\n      <td>0</td>\n      <td>151</td>\n      <td>1</td>\n      <td>1</td>\n      <td>1</td>\n      <td>9</td>\n      <td>0</td>\n      <td>2</td>\n      <td>8</td>\n      <td>-1</td>\n      <td>3</td>\n      <td>0</td>\n    </tr>\n    <tr>\n      <th>2</th>\n      <td>33</td>\n      <td>2</td>\n      <td>1</td>\n      <td>2</td>\n      <td>5</td>\n      <td>0</td>\n      <td>76</td>\n      <td>1</td>\n      <td>1</td>\n      <td>2</td>\n      <td>2</td>\n      <td>1</td>\n      <td>1</td>\n      <td>8</td>\n      <td>-1</td>\n      <td>3</td>\n      <td>0</td>\n    </tr>\n    <tr>\n      <th>3</th>\n      <td>47</td>\n      <td>1506</td>\n      <td>1</td>\n      <td>2</td>\n      <td>5</td>\n      <td>0</td>\n      <td>92</td>\n      <td>3</td>\n      <td>1</td>\n      <td>3</td>\n      <td>1</td>\n      <td>0</td>\n      <td>1</td>\n      <td>8</td>\n      <td>-1</td>\n      <td>3</td>\n      <td>0</td>\n    </tr>\n    <tr>\n      <th>4</th>\n      <td>33</td>\n      <td>1</td>\n      <td>1</td>\n      <td>2</td>\n      <td>5</td>\n      <td>0</td>\n      <td>198</td>\n      <td>3</td>\n      <td>0</td>\n      <td>4</td>\n      <td>11</td>\n      <td>0</td>\n      <td>2</td>\n      <td>8</td>\n      <td>-1</td>\n      <td>3</td>\n      <td>0</td>\n    </tr>\n    <tr>\n      <th>5</th>\n      <td>35</td>\n      <td>231</td>\n      <td>1</td>\n      <td>2</td>\n      <td>5</td>\n      <td>0</td>\n      <td>139</td>\n      <td>2</td>\n      <td>1</td>\n      <td>5</td>\n      <td>4</td>\n      <td>0</td>\n      <td>1</td>\n      <td>8</td>\n      <td>-1</td>\n      <td>3</td>\n      <td>0</td>\n    </tr>\n    <tr>\n      <th>6</th>\n      <td>28</td>\n      <td>447</td>\n      <td>1</td>\n      <td>2</td>\n      <td>5</td>\n      <td>0</td>\n      <td>217</td>\n      <td>2</td>\n      <td>1</td>\n      <td>6</td>\n      <td>4</td>\n      <td>1</td>\n      <td>2</td>\n      <td>8</td>\n      <td>-1</td>\n      <td>3</td>\n      <td>0</td>\n    </tr>\n    <tr>\n      <th>7</th>\n      <td>42</td>\n      <td>2</td>\n      <td>1</td>\n      <td>2</td>\n      <td>5</td>\n      <td>1</td>\n      <td>380</td>\n      <td>2</td>\n      <td>1</td>\n      <td>7</td>\n      <td>2</td>\n      <td>0</td>\n      <td>0</td>\n      <td>8</td>\n      <td>-1</td>\n      <td>3</td>\n      <td>0</td>\n    </tr>\n    <tr>\n      <th>8</th>\n      <td>58</td>\n      <td>121</td>\n      <td>1</td>\n      <td>2</td>\n      <td>5</td>\n      <td>0</td>\n      <td>50</td>\n      <td>0</td>\n      <td>1</td>\n      <td>8</td>\n      <td>5</td>\n      <td>0</td>\n      <td>1</td>\n      <td>8</td>\n      <td>-1</td>\n      <td>3</td>\n      <td>0</td>\n    </tr>\n    <tr>\n      <th>9</th>\n      <td>43</td>\n      <td>593</td>\n      <td>1</td>\n      <td>2</td>\n      <td>5</td>\n      <td>0</td>\n      <td>55</td>\n      <td>1</td>\n      <td>1</td>\n      <td>9</td>\n      <td>9</td>\n      <td>0</td>\n      <td>2</td>\n      <td>8</td>\n      <td>-1</td>\n      <td>3</td>\n      <td>0</td>\n    </tr>\n    <tr>\n      <th>10</th>\n      <td>41</td>\n      <td>270</td>\n      <td>1</td>\n      <td>2</td>\n      <td>5</td>\n      <td>0</td>\n      <td>222</td>\n      <td>1</td>\n      <td>1</td>\n      <td>10</td>\n      <td>0</td>\n      <td>0</td>\n      <td>0</td>\n      <td>8</td>\n      <td>-1</td>\n      <td>3</td>\n      <td>0</td>\n    </tr>\n    <tr>\n      <th>11</th>\n      <td>29</td>\n      <td>390</td>\n      <td>1</td>\n      <td>2</td>\n      <td>5</td>\n      <td>0</td>\n      <td>137</td>\n      <td>1</td>\n      <td>1</td>\n      <td>11</td>\n      <td>0</td>\n      <td>0</td>\n      <td>2</td>\n      <td>8</td>\n      <td>-1</td>\n      <td>3</td>\n      <td>0</td>\n    </tr>\n    <tr>\n      <th>12</th>\n      <td>53</td>\n      <td>6</td>\n      <td>1</td>\n      <td>2</td>\n      <td>5</td>\n      <td>0</td>\n      <td>517</td>\n      <td>1</td>\n      <td>1</td>\n      <td>12</td>\n      <td>9</td>\n      <td>0</td>\n      <td>1</td>\n      <td>8</td>\n      <td>-1</td>\n      <td>3</td>\n      <td>0</td>\n    </tr>\n    <tr>\n      <th>13</th>\n      <td>58</td>\n      <td>71</td>\n      <td>1</td>\n      <td>2</td>\n      <td>5</td>\n      <td>0</td>\n      <td>71</td>\n      <td>3</td>\n      <td>1</td>\n      <td>13</td>\n      <td>9</td>\n      <td>0</td>\n      <td>1</td>\n      <td>8</td>\n      <td>-1</td>\n      <td>3</td>\n      <td>0</td>\n    </tr>\n    <tr>\n      <th>14</th>\n      <td>57</td>\n      <td>162</td>\n      <td>1</td>\n      <td>2</td>\n      <td>5</td>\n      <td>0</td>\n      <td>174</td>\n      <td>1</td>\n      <td>1</td>\n      <td>14</td>\n      <td>7</td>\n      <td>0</td>\n      <td>1</td>\n      <td>8</td>\n      <td>-1</td>\n      <td>3</td>\n      <td>0</td>\n    </tr>\n    <tr>\n      <th>15</th>\n      <td>51</td>\n      <td>229</td>\n      <td>1</td>\n      <td>2</td>\n      <td>5</td>\n      <td>0</td>\n      <td>353</td>\n      <td>0</td>\n      <td>1</td>\n      <td>15</td>\n      <td>5</td>\n      <td>0</td>\n      <td>1</td>\n      <td>8</td>\n      <td>-1</td>\n      <td>3</td>\n      <td>0</td>\n    </tr>\n    <tr>\n      <th>16</th>\n      <td>45</td>\n      <td>13</td>\n      <td>1</td>\n      <td>2</td>\n      <td>5</td>\n      <td>0</td>\n      <td>98</td>\n      <td>3</td>\n      <td>1</td>\n      <td>16</td>\n      <td>0</td>\n      <td>0</td>\n      <td>2</td>\n      <td>8</td>\n      <td>-1</td>\n      <td>3</td>\n      <td>0</td>\n    </tr>\n    <tr>\n      <th>17</th>\n      <td>57</td>\n      <td>52</td>\n      <td>1</td>\n      <td>2</td>\n      <td>5</td>\n      <td>0</td>\n      <td>38</td>\n      <td>0</td>\n      <td>1</td>\n      <td>17</td>\n      <td>1</td>\n      <td>0</td>\n      <td>1</td>\n      <td>8</td>\n      <td>-1</td>\n      <td>3</td>\n      <td>0</td>\n    </tr>\n    <tr>\n      <th>18</th>\n      <td>60</td>\n      <td>60</td>\n      <td>1</td>\n      <td>2</td>\n      <td>5</td>\n      <td>0</td>\n      <td>219</td>\n      <td>0</td>\n      <td>1</td>\n      <td>18</td>\n      <td>5</td>\n      <td>0</td>\n      <td>1</td>\n      <td>8</td>\n      <td>-1</td>\n      <td>3</td>\n      <td>0</td>\n    </tr>\n    <tr>\n      <th>19</th>\n      <td>33</td>\n      <td>0</td>\n      <td>1</td>\n      <td>2</td>\n      <td>5</td>\n      <td>0</td>\n      <td>54</td>\n      <td>1</td>\n      <td>1</td>\n      <td>19</td>\n      <td>7</td>\n      <td>0</td>\n      <td>1</td>\n      <td>8</td>\n      <td>-1</td>\n      <td>3</td>\n      <td>0</td>\n    </tr>\n    <tr>\n      <th>20</th>\n      <td>28</td>\n      <td>723</td>\n      <td>1</td>\n      <td>2</td>\n      <td>5</td>\n      <td>0</td>\n      <td>262</td>\n      <td>1</td>\n      <td>1</td>\n      <td>20</td>\n      <td>1</td>\n      <td>1</td>\n      <td>1</td>\n      <td>8</td>\n      <td>-1</td>\n      <td>3</td>\n      <td>0</td>\n    </tr>\n    <tr>\n      <th>21</th>\n      <td>56</td>\n      <td>779</td>\n      <td>1</td>\n      <td>2</td>\n      <td>5</td>\n      <td>0</td>\n      <td>164</td>\n      <td>2</td>\n      <td>1</td>\n      <td>21</td>\n      <td>4</td>\n      <td>0</td>\n      <td>1</td>\n      <td>8</td>\n      <td>-1</td>\n      <td>3</td>\n      <td>0</td>\n    </tr>\n    <tr>\n      <th>22</th>\n      <td>32</td>\n      <td>23</td>\n      <td>1</td>\n      <td>2</td>\n      <td>5</td>\n      <td>0</td>\n      <td>160</td>\n      <td>0</td>\n      <td>1</td>\n      <td>22</td>\n      <td>1</td>\n      <td>1</td>\n      <td>2</td>\n      <td>8</td>\n      <td>-1</td>\n      <td>3</td>\n      <td>0</td>\n    </tr>\n    <tr>\n      <th>23</th>\n      <td>25</td>\n      <td>50</td>\n      <td>1</td>\n      <td>2</td>\n      <td>5</td>\n      <td>0</td>\n      <td>342</td>\n      <td>1</td>\n      <td>1</td>\n      <td>23</td>\n      <td>7</td>\n      <td>0</td>\n      <td>1</td>\n      <td>8</td>\n      <td>-1</td>\n      <td>3</td>\n      <td>0</td>\n    </tr>\n    <tr>\n      <th>24</th>\n      <td>40</td>\n      <td>0</td>\n      <td>1</td>\n      <td>2</td>\n      <td>5</td>\n      <td>0</td>\n      <td>181</td>\n      <td>0</td>\n      <td>1</td>\n      <td>24</td>\n      <td>5</td>\n      <td>1</td>\n      <td>1</td>\n      <td>8</td>\n      <td>-1</td>\n      <td>3</td>\n      <td>0</td>\n    </tr>\n    <tr>\n      <th>25</th>\n      <td>44</td>\n      <td>-372</td>\n      <td>1</td>\n      <td>2</td>\n      <td>5</td>\n      <td>0</td>\n      <td>172</td>\n      <td>1</td>\n      <td>1</td>\n      <td>25</td>\n      <td>0</td>\n      <td>0</td>\n      <td>1</td>\n      <td>8</td>\n      <td>-1</td>\n      <td>3</td>\n      <td>0</td>\n    </tr>\n    <tr>\n      <th>26</th>\n      <td>39</td>\n      <td>255</td>\n      <td>1</td>\n      <td>2</td>\n      <td>5</td>\n      <td>0</td>\n      <td>296</td>\n      <td>2</td>\n      <td>1</td>\n      <td>26</td>\n      <td>4</td>\n      <td>0</td>\n      <td>2</td>\n      <td>8</td>\n      <td>-1</td>\n      <td>3</td>\n      <td>0</td>\n    </tr>\n    <tr>\n      <th>27</th>\n      <td>52</td>\n      <td>113</td>\n      <td>1</td>\n      <td>2</td>\n      <td>5</td>\n      <td>0</td>\n      <td>127</td>\n      <td>1</td>\n      <td>1</td>\n      <td>27</td>\n      <td>2</td>\n      <td>1</td>\n      <td>1</td>\n      <td>8</td>\n      <td>-1</td>\n      <td>3</td>\n      <td>0</td>\n    </tr>\n    <tr>\n      <th>28</th>\n      <td>46</td>\n      <td>-246</td>\n      <td>2</td>\n      <td>2</td>\n      <td>5</td>\n      <td>0</td>\n      <td>255</td>\n      <td>1</td>\n      <td>1</td>\n      <td>28</td>\n      <td>4</td>\n      <td>0</td>\n      <td>2</td>\n      <td>8</td>\n      <td>-1</td>\n      <td>3</td>\n      <td>0</td>\n    </tr>\n    <tr>\n      <th>29</th>\n      <td>36</td>\n      <td>265</td>\n      <td>1</td>\n      <td>2</td>\n      <td>5</td>\n      <td>0</td>\n      <td>348</td>\n      <td>1</td>\n      <td>1</td>\n      <td>29</td>\n      <td>9</td>\n      <td>1</td>\n      <td>2</td>\n      <td>8</td>\n      <td>-1</td>\n      <td>3</td>\n      <td>0</td>\n    </tr>\n    <tr>\n      <th>30</th>\n      <td>57</td>\n      <td>839</td>\n      <td>1</td>\n      <td>2</td>\n      <td>5</td>\n      <td>0</td>\n      <td>225</td>\n      <td>1</td>\n      <td>0</td>\n      <td>30</td>\n      <td>9</td>\n      <td>1</td>\n      <td>1</td>\n      <td>8</td>\n      <td>-1</td>\n      <td>3</td>\n      <td>0</td>\n    </tr>\n    <tr>\n      <th>31</th>\n      <td>49</td>\n      <td>378</td>\n      <td>1</td>\n      <td>2</td>\n      <td>5</td>\n      <td>0</td>\n      <td>230</td>\n      <td>2</td>\n      <td>1</td>\n      <td>31</td>\n      <td>4</td>\n      <td>0</td>\n      <td>1</td>\n      <td>8</td>\n      <td>-1</td>\n      <td>3</td>\n      <td>0</td>\n    </tr>\n    <tr>\n      <th>32</th>\n      <td>60</td>\n      <td>39</td>\n      <td>1</td>\n      <td>2</td>\n      <td>5</td>\n      <td>0</td>\n      <td>208</td>\n      <td>1</td>\n      <td>1</td>\n      <td>32</td>\n      <td>0</td>\n      <td>1</td>\n      <td>1</td>\n      <td>8</td>\n      <td>-1</td>\n      <td>3</td>\n      <td>0</td>\n    </tr>\n    <tr>\n      <th>33</th>\n      <td>59</td>\n      <td>0</td>\n      <td>1</td>\n      <td>2</td>\n      <td>5</td>\n      <td>0</td>\n      <td>226</td>\n      <td>1</td>\n      <td>1</td>\n      <td>33</td>\n      <td>1</td>\n      <td>0</td>\n      <td>1</td>\n      <td>8</td>\n      <td>-1</td>\n      <td>3</td>\n      <td>0</td>\n    </tr>\n    <tr>\n      <th>34</th>\n      <td>51</td>\n      <td>10635</td>\n      <td>1</td>\n      <td>2</td>\n      <td>5</td>\n      <td>0</td>\n      <td>336</td>\n      <td>2</td>\n      <td>1</td>\n      <td>34</td>\n      <td>4</td>\n      <td>0</td>\n      <td>1</td>\n      <td>8</td>\n      <td>-1</td>\n      <td>3</td>\n      <td>0</td>\n    </tr>\n    <tr>\n      <th>35</th>\n      <td>57</td>\n      <td>63</td>\n      <td>1</td>\n      <td>2</td>\n      <td>5</td>\n      <td>0</td>\n      <td>242</td>\n      <td>1</td>\n      <td>1</td>\n      <td>35</td>\n      <td>9</td>\n      <td>0</td>\n      <td>0</td>\n      <td>8</td>\n      <td>-1</td>\n      <td>3</td>\n      <td>0</td>\n    </tr>\n    <tr>\n      <th>36</th>\n      <td>25</td>\n      <td>-7</td>\n      <td>1</td>\n      <td>2</td>\n      <td>5</td>\n      <td>0</td>\n      <td>365</td>\n      <td>1</td>\n      <td>1</td>\n      <td>36</td>\n      <td>1</td>\n      <td>0</td>\n      <td>1</td>\n      <td>8</td>\n      <td>-1</td>\n      <td>3</td>\n      <td>0</td>\n    </tr>\n    <tr>\n      <th>37</th>\n      <td>53</td>\n      <td>-3</td>\n      <td>1</td>\n      <td>2</td>\n      <td>5</td>\n      <td>0</td>\n      <td>1666</td>\n      <td>1</td>\n      <td>0</td>\n      <td>37</td>\n      <td>9</td>\n      <td>0</td>\n      <td>1</td>\n      <td>8</td>\n      <td>-1</td>\n      <td>3</td>\n      <td>0</td>\n    </tr>\n    <tr>\n      <th>38</th>\n      <td>36</td>\n      <td>506</td>\n      <td>1</td>\n      <td>2</td>\n      <td>5</td>\n      <td>0</td>\n      <td>577</td>\n      <td>1</td>\n      <td>1</td>\n      <td>38</td>\n      <td>0</td>\n      <td>0</td>\n      <td>0</td>\n      <td>8</td>\n      <td>-1</td>\n      <td>3</td>\n      <td>0</td>\n    </tr>\n    <tr>\n      <th>39</th>\n      <td>37</td>\n      <td>0</td>\n      <td>1</td>\n      <td>2</td>\n      <td>5</td>\n      <td>0</td>\n      <td>137</td>\n      <td>1</td>\n      <td>1</td>\n      <td>39</td>\n      <td>0</td>\n      <td>0</td>\n      <td>2</td>\n      <td>8</td>\n      <td>-1</td>\n      <td>3</td>\n      <td>0</td>\n    </tr>\n    <tr>\n      <th>40</th>\n      <td>44</td>\n      <td>2586</td>\n      <td>1</td>\n      <td>2</td>\n      <td>5</td>\n      <td>0</td>\n      <td>160</td>\n      <td>1</td>\n      <td>1</td>\n      <td>40</td>\n      <td>7</td>\n      <td>0</td>\n      <td>0</td>\n      <td>8</td>\n      <td>-1</td>\n      <td>3</td>\n      <td>0</td>\n    </tr>\n    <tr>\n      <th>41</th>\n      <td>50</td>\n      <td>49</td>\n      <td>2</td>\n      <td>2</td>\n      <td>5</td>\n      <td>0</td>\n      <td>180</td>\n      <td>1</td>\n      <td>1</td>\n      <td>41</td>\n      <td>4</td>\n      <td>0</td>\n      <td>1</td>\n      <td>8</td>\n      <td>-1</td>\n      <td>3</td>\n      <td>0</td>\n    </tr>\n    <tr>\n      <th>42</th>\n      <td>60</td>\n      <td>104</td>\n      <td>1</td>\n      <td>2</td>\n      <td>5</td>\n      <td>0</td>\n      <td>22</td>\n      <td>3</td>\n      <td>1</td>\n      <td>42</td>\n      <td>1</td>\n      <td>0</td>\n      <td>1</td>\n      <td>8</td>\n      <td>-1</td>\n      <td>3</td>\n      <td>0</td>\n    </tr>\n    <tr>\n      <th>43</th>\n      <td>54</td>\n      <td>529</td>\n      <td>1</td>\n      <td>2</td>\n      <td>5</td>\n      <td>0</td>\n      <td>1492</td>\n      <td>1</td>\n      <td>1</td>\n      <td>43</td>\n      <td>5</td>\n      <td>0</td>\n      <td>1</td>\n      <td>8</td>\n      <td>-1</td>\n      <td>3</td>\n      <td>0</td>\n    </tr>\n    <tr>\n      <th>44</th>\n      <td>58</td>\n      <td>96</td>\n      <td>1</td>\n      <td>2</td>\n      <td>5</td>\n      <td>0</td>\n      <td>616</td>\n      <td>3</td>\n      <td>1</td>\n      <td>44</td>\n      <td>5</td>\n      <td>0</td>\n      <td>1</td>\n      <td>8</td>\n      <td>-1</td>\n      <td>3</td>\n      <td>0</td>\n    </tr>\n    <tr>\n      <th>45</th>\n      <td>36</td>\n      <td>-171</td>\n      <td>1</td>\n      <td>2</td>\n      <td>5</td>\n      <td>0</td>\n      <td>242</td>\n      <td>0</td>\n      <td>1</td>\n      <td>45</td>\n      <td>0</td>\n      <td>0</td>\n      <td>2</td>\n      <td>8</td>\n      <td>-1</td>\n      <td>3</td>\n      <td>0</td>\n    </tr>\n    <tr>\n      <th>46</th>\n      <td>58</td>\n      <td>-364</td>\n      <td>1</td>\n      <td>2</td>\n      <td>5</td>\n      <td>0</td>\n      <td>355</td>\n      <td>2</td>\n      <td>1</td>\n      <td>46</td>\n      <td>6</td>\n      <td>0</td>\n      <td>1</td>\n      <td>8</td>\n      <td>-1</td>\n      <td>3</td>\n      <td>0</td>\n    </tr>\n    <tr>\n      <th>47</th>\n      <td>44</td>\n      <td>0</td>\n      <td>2</td>\n      <td>2</td>\n      <td>5</td>\n      <td>0</td>\n      <td>225</td>\n      <td>1</td>\n      <td>1</td>\n      <td>47</td>\n      <td>9</td>\n      <td>0</td>\n      <td>1</td>\n      <td>8</td>\n      <td>-1</td>\n      <td>3</td>\n      <td>0</td>\n    </tr>\n    <tr>\n      <th>48</th>\n      <td>55</td>\n      <td>0</td>\n      <td>1</td>\n      <td>2</td>\n      <td>5</td>\n      <td>0</td>\n      <td>160</td>\n      <td>1</td>\n      <td>0</td>\n      <td>48</td>\n      <td>9</td>\n      <td>0</td>\n      <td>0</td>\n      <td>8</td>\n      <td>-1</td>\n      <td>3</td>\n      <td>0</td>\n    </tr>\n    <tr>\n      <th>49</th>\n      <td>29</td>\n      <td>0</td>\n      <td>1</td>\n      <td>2</td>\n      <td>5</td>\n      <td>0</td>\n      <td>363</td>\n      <td>2</td>\n      <td>1</td>\n      <td>49</td>\n      <td>4</td>\n      <td>0</td>\n      <td>2</td>\n      <td>8</td>\n      <td>-1</td>\n      <td>3</td>\n      <td>0</td>\n    </tr>\n  </tbody>\n</table>\n</div>"
     },
     "execution_count": 35,
     "metadata": {},
     "output_type": "execute_result"
    }
   ],
   "source": [
    "# 将bank_data_encode数据集的列的顺序调整到和aligned_df_new_encode列的顺序一样\n",
    "bank_data_encode = bank_data_encode.reindex(columns=aligned_df_new_encode.columns)\n",
    "bank_data_encode.head(50)"
   ],
   "metadata": {
    "collapsed": false,
    "pycharm": {
     "name": "#%%\n"
    }
   }
  },
  {
   "cell_type": "markdown",
   "source": [
    "# 获得B方不完整数据集的掩码矩阵"
   ],
   "metadata": {
    "collapsed": false
   }
  },
  {
   "cell_type": "code",
   "execution_count": 32,
   "outputs": [
    {
     "data": {
      "text/plain": "array([[1, 1, 1, ..., 1, 1, 1],\n       [1, 1, 1, ..., 1, 1, 1],\n       [1, 1, 1, ..., 1, 1, 1],\n       ...,\n       [1, 1, 1, ..., 1, 1, 1],\n       [1, 1, 1, ..., 1, 1, 1],\n       [1, 1, 1, ..., 1, 1, 1]])"
     },
     "execution_count": 32,
     "metadata": {},
     "output_type": "execute_result"
    }
   ],
   "source": [
    "data_m = 1 - np.isnan(aligned_df_new_encode.values)  # 创建掩模矩阵，标记缺失值位置\n",
    "data_m"
   ],
   "metadata": {
    "collapsed": false,
    "pycharm": {
     "name": "#%%\n"
    }
   }
  },
  {
   "cell_type": "markdown",
   "source": [
    "# 填补"
   ],
   "metadata": {
    "collapsed": false
   }
  },
  {
   "cell_type": "code",
   "execution_count": 36,
   "outputs": [
    {
     "name": "stdout",
     "output_type": "stream",
     "text": [
      "WARNING:tensorflow:From C:\\Users\\Lenovo\\AppData\\Roaming\\Python\\Python310\\site-packages\\tensorflow\\python\\compat\\v2_compat.py:107: disable_resource_variables (from tensorflow.python.ops.variable_scope) is deprecated and will be removed in a future version.\n",
      "Instructions for updating:\n",
      "non-resource variables are not supported in the long term\n"
     ]
    },
    {
     "name": "stderr",
     "output_type": "stream",
     "text": [
      "100%|██████████| 10000/10000 [00:19<00:00, 525.88it/s]\n"
     ]
    }
   ],
   "source": [
    "gain_parameters = {'batch_size': 64,\n",
    "                   'hint_rate': 0.9,\n",
    "                   'alpha': 100,\n",
    "                   'iterations': 10000}\n",
    "from method.gain import gain\n",
    "# 填补缺失数据\n",
    "# 这里传入的不完整数据集需要是numarry类型，不能是DataForm类型\n",
    "imputed_data_x = gain(aligned_df_new_encode.values, gain_parameters)\n",
    "# 返回的imputed_data_x是num类型"
   ],
   "metadata": {
    "collapsed": false,
    "pycharm": {
     "name": "#%%\n"
    }
   }
  },
  {
   "cell_type": "code",
   "execution_count": 39,
   "outputs": [
    {
     "data": {
      "text/plain": "         0       1         2    3          4    5            6    7    8   \\\n0      58.0  2143.0  1.000000  2.0   5.000000  0.0   261.000000  2.0  1.0   \n1      44.0    29.0  1.000000  2.0   5.000000  0.0   151.000000  1.0  1.0   \n2      33.0     2.0  1.000000  2.0   5.000000  0.0    76.000000  1.0  1.0   \n3      47.0  1506.0  1.157254  0.0  28.131369  0.0   182.612788  3.0  1.0   \n4      33.0     1.0  1.000000  2.0   5.000000  0.0   198.000000  3.0  0.0   \n...     ...     ...       ...  ...        ...  ...          ...  ...  ...   \n45206  51.0   825.0  3.000000  0.0  17.000000  0.0   977.000000  2.0  0.0   \n45207  71.0  1729.0  2.000000  0.0  17.000000  0.0   456.000000  0.0  0.0   \n45208  72.0  5715.0  5.000000  0.0  17.000000  0.0  1127.000000  1.0  0.0   \n45209  57.0   668.0  4.000000  1.0  17.000000  0.0   508.000000  1.0  0.0   \n45210  37.0  2971.0  2.000000  0.0  17.000000  0.0   361.000000  1.0  0.0   \n\n            9     10   11   12    13     14   15    16  \n0          0.0   4.0  0.0  1.0   8.0   -1.0  3.0   0.0  \n1          1.0   9.0  0.0  2.0   8.0   -1.0  3.0   0.0  \n2          2.0   2.0  1.0  1.0   8.0   -1.0  3.0   0.0  \n3          3.0   1.0  0.0  1.0  10.0    1.0  0.0   0.0  \n4          4.0  11.0  0.0  2.0   8.0   -1.0  3.0   0.0  \n...        ...   ...  ...  ...   ...    ...  ...   ...  \n45206  45206.0   9.0  0.0  1.0   9.0   -1.0  3.0   0.0  \n45207  45207.0   5.0  0.0  0.0   9.0   -1.0  3.0   0.0  \n45208  45208.0   5.0  0.0  1.0   9.0  184.0  2.0   3.0  \n45209  45209.0   1.0  0.0  1.0   9.0   -1.0  3.0   0.0  \n45210  45210.0   2.0  0.0  1.0   9.0  188.0  1.0  11.0  \n\n[45211 rows x 17 columns]",
      "text/html": "<div>\n<style scoped>\n    .dataframe tbody tr th:only-of-type {\n        vertical-align: middle;\n    }\n\n    .dataframe tbody tr th {\n        vertical-align: top;\n    }\n\n    .dataframe thead th {\n        text-align: right;\n    }\n</style>\n<table border=\"1\" class=\"dataframe\">\n  <thead>\n    <tr style=\"text-align: right;\">\n      <th></th>\n      <th>0</th>\n      <th>1</th>\n      <th>2</th>\n      <th>3</th>\n      <th>4</th>\n      <th>5</th>\n      <th>6</th>\n      <th>7</th>\n      <th>8</th>\n      <th>9</th>\n      <th>10</th>\n      <th>11</th>\n      <th>12</th>\n      <th>13</th>\n      <th>14</th>\n      <th>15</th>\n      <th>16</th>\n    </tr>\n  </thead>\n  <tbody>\n    <tr>\n      <th>0</th>\n      <td>58.0</td>\n      <td>2143.0</td>\n      <td>1.000000</td>\n      <td>2.0</td>\n      <td>5.000000</td>\n      <td>0.0</td>\n      <td>261.000000</td>\n      <td>2.0</td>\n      <td>1.0</td>\n      <td>0.0</td>\n      <td>4.0</td>\n      <td>0.0</td>\n      <td>1.0</td>\n      <td>8.0</td>\n      <td>-1.0</td>\n      <td>3.0</td>\n      <td>0.0</td>\n    </tr>\n    <tr>\n      <th>1</th>\n      <td>44.0</td>\n      <td>29.0</td>\n      <td>1.000000</td>\n      <td>2.0</td>\n      <td>5.000000</td>\n      <td>0.0</td>\n      <td>151.000000</td>\n      <td>1.0</td>\n      <td>1.0</td>\n      <td>1.0</td>\n      <td>9.0</td>\n      <td>0.0</td>\n      <td>2.0</td>\n      <td>8.0</td>\n      <td>-1.0</td>\n      <td>3.0</td>\n      <td>0.0</td>\n    </tr>\n    <tr>\n      <th>2</th>\n      <td>33.0</td>\n      <td>2.0</td>\n      <td>1.000000</td>\n      <td>2.0</td>\n      <td>5.000000</td>\n      <td>0.0</td>\n      <td>76.000000</td>\n      <td>1.0</td>\n      <td>1.0</td>\n      <td>2.0</td>\n      <td>2.0</td>\n      <td>1.0</td>\n      <td>1.0</td>\n      <td>8.0</td>\n      <td>-1.0</td>\n      <td>3.0</td>\n      <td>0.0</td>\n    </tr>\n    <tr>\n      <th>3</th>\n      <td>47.0</td>\n      <td>1506.0</td>\n      <td>1.157254</td>\n      <td>0.0</td>\n      <td>28.131369</td>\n      <td>0.0</td>\n      <td>182.612788</td>\n      <td>3.0</td>\n      <td>1.0</td>\n      <td>3.0</td>\n      <td>1.0</td>\n      <td>0.0</td>\n      <td>1.0</td>\n      <td>10.0</td>\n      <td>1.0</td>\n      <td>0.0</td>\n      <td>0.0</td>\n    </tr>\n    <tr>\n      <th>4</th>\n      <td>33.0</td>\n      <td>1.0</td>\n      <td>1.000000</td>\n      <td>2.0</td>\n      <td>5.000000</td>\n      <td>0.0</td>\n      <td>198.000000</td>\n      <td>3.0</td>\n      <td>0.0</td>\n      <td>4.0</td>\n      <td>11.0</td>\n      <td>0.0</td>\n      <td>2.0</td>\n      <td>8.0</td>\n      <td>-1.0</td>\n      <td>3.0</td>\n      <td>0.0</td>\n    </tr>\n    <tr>\n      <th>...</th>\n      <td>...</td>\n      <td>...</td>\n      <td>...</td>\n      <td>...</td>\n      <td>...</td>\n      <td>...</td>\n      <td>...</td>\n      <td>...</td>\n      <td>...</td>\n      <td>...</td>\n      <td>...</td>\n      <td>...</td>\n      <td>...</td>\n      <td>...</td>\n      <td>...</td>\n      <td>...</td>\n      <td>...</td>\n    </tr>\n    <tr>\n      <th>45206</th>\n      <td>51.0</td>\n      <td>825.0</td>\n      <td>3.000000</td>\n      <td>0.0</td>\n      <td>17.000000</td>\n      <td>0.0</td>\n      <td>977.000000</td>\n      <td>2.0</td>\n      <td>0.0</td>\n      <td>45206.0</td>\n      <td>9.0</td>\n      <td>0.0</td>\n      <td>1.0</td>\n      <td>9.0</td>\n      <td>-1.0</td>\n      <td>3.0</td>\n      <td>0.0</td>\n    </tr>\n    <tr>\n      <th>45207</th>\n      <td>71.0</td>\n      <td>1729.0</td>\n      <td>2.000000</td>\n      <td>0.0</td>\n      <td>17.000000</td>\n      <td>0.0</td>\n      <td>456.000000</td>\n      <td>0.0</td>\n      <td>0.0</td>\n      <td>45207.0</td>\n      <td>5.0</td>\n      <td>0.0</td>\n      <td>0.0</td>\n      <td>9.0</td>\n      <td>-1.0</td>\n      <td>3.0</td>\n      <td>0.0</td>\n    </tr>\n    <tr>\n      <th>45208</th>\n      <td>72.0</td>\n      <td>5715.0</td>\n      <td>5.000000</td>\n      <td>0.0</td>\n      <td>17.000000</td>\n      <td>0.0</td>\n      <td>1127.000000</td>\n      <td>1.0</td>\n      <td>0.0</td>\n      <td>45208.0</td>\n      <td>5.0</td>\n      <td>0.0</td>\n      <td>1.0</td>\n      <td>9.0</td>\n      <td>184.0</td>\n      <td>2.0</td>\n      <td>3.0</td>\n    </tr>\n    <tr>\n      <th>45209</th>\n      <td>57.0</td>\n      <td>668.0</td>\n      <td>4.000000</td>\n      <td>1.0</td>\n      <td>17.000000</td>\n      <td>0.0</td>\n      <td>508.000000</td>\n      <td>1.0</td>\n      <td>0.0</td>\n      <td>45209.0</td>\n      <td>1.0</td>\n      <td>0.0</td>\n      <td>1.0</td>\n      <td>9.0</td>\n      <td>-1.0</td>\n      <td>3.0</td>\n      <td>0.0</td>\n    </tr>\n    <tr>\n      <th>45210</th>\n      <td>37.0</td>\n      <td>2971.0</td>\n      <td>2.000000</td>\n      <td>0.0</td>\n      <td>17.000000</td>\n      <td>0.0</td>\n      <td>361.000000</td>\n      <td>1.0</td>\n      <td>0.0</td>\n      <td>45210.0</td>\n      <td>2.0</td>\n      <td>0.0</td>\n      <td>1.0</td>\n      <td>9.0</td>\n      <td>188.0</td>\n      <td>1.0</td>\n      <td>11.0</td>\n    </tr>\n  </tbody>\n</table>\n<p>45211 rows × 17 columns</p>\n</div>"
     },
     "execution_count": 39,
     "metadata": {},
     "output_type": "execute_result"
    }
   ],
   "source": [
    "pd.DataFrame(imputed_data_x)"
   ],
   "metadata": {
    "collapsed": false,
    "pycharm": {
     "name": "#%%\n"
    }
   }
  },
  {
   "cell_type": "code",
   "execution_count": 40,
   "outputs": [
    {
     "name": "stdout",
     "output_type": "stream",
     "text": [
      "0     float64\n",
      "1     float64\n",
      "2     float64\n",
      "3     float64\n",
      "4     float64\n",
      "5     float64\n",
      "6     float64\n",
      "7     float64\n",
      "8     float64\n",
      "9     float64\n",
      "10    float64\n",
      "11    float64\n",
      "12    float64\n",
      "13    float64\n",
      "14    float64\n",
      "15    float64\n",
      "16    float64\n",
      "dtype: object\n"
     ]
    }
   ],
   "source": [
    "# 查看imputed_data_x的类型\n",
    "print(pd.DataFrame(imputed_data_x).dtypes)"
   ],
   "metadata": {
    "collapsed": false,
    "pycharm": {
     "name": "#%%\n"
    }
   }
  },
  {
   "cell_type": "code",
   "execution_count": 41,
   "outputs": [
    {
     "name": "stdout",
     "output_type": "stream",
     "text": [
      "age          float64\n",
      "balance      float64\n",
      "campaign     float64\n",
      "contact      float64\n",
      "day          float64\n",
      "default      float64\n",
      "duration     float64\n",
      "education    float64\n",
      "housing      float64\n",
      "index        float64\n",
      "job          float64\n",
      "loan         float64\n",
      "marital      float64\n",
      "month        float64\n",
      "pdays        float64\n",
      "poutcome     float64\n",
      "previous     float64\n",
      "dtype: object\n"
     ]
    }
   ],
   "source": [
    "# 将原始数据集也改为和填补数据集一样的类型\n",
    "bank_data_encode=bank_data_encode.astype(float)\n",
    "print(bank_data_encode.dtypes)"
   ],
   "metadata": {
    "collapsed": false,
    "pycharm": {
     "name": "#%%\n"
    }
   }
  },
  {
   "cell_type": "code",
   "execution_count": 42,
   "outputs": [
    {
     "data": {
      "text/plain": "        age  balance  campaign  contact   day  default  duration  education  \\\n0      58.0   2143.0       1.0      2.0   5.0      0.0     261.0        2.0   \n1      44.0     29.0       1.0      2.0   5.0      0.0     151.0        1.0   \n2      33.0      2.0       1.0      2.0   5.0      0.0      76.0        1.0   \n3      47.0   1506.0       1.0      2.0   5.0      0.0      92.0        3.0   \n4      33.0      1.0       1.0      2.0   5.0      0.0     198.0        3.0   \n...     ...      ...       ...      ...   ...      ...       ...        ...   \n45206  51.0    825.0       3.0      0.0  17.0      0.0     977.0        2.0   \n45207  71.0   1729.0       2.0      0.0  17.0      0.0     456.0        0.0   \n45208  72.0   5715.0       5.0      0.0  17.0      0.0    1127.0        1.0   \n45209  57.0    668.0       4.0      1.0  17.0      0.0     508.0        1.0   \n45210  37.0   2971.0       2.0      0.0  17.0      0.0     361.0        1.0   \n\n       housing    index   job  loan  marital  month  pdays  poutcome  previous  \n0          1.0      0.0   4.0   0.0      1.0    8.0   -1.0       3.0       0.0  \n1          1.0      1.0   9.0   0.0      2.0    8.0   -1.0       3.0       0.0  \n2          1.0      2.0   2.0   1.0      1.0    8.0   -1.0       3.0       0.0  \n3          1.0      3.0   1.0   0.0      1.0    8.0   -1.0       3.0       0.0  \n4          0.0      4.0  11.0   0.0      2.0    8.0   -1.0       3.0       0.0  \n...        ...      ...   ...   ...      ...    ...    ...       ...       ...  \n45206      0.0  45206.0   9.0   0.0      1.0    9.0   -1.0       3.0       0.0  \n45207      0.0  45207.0   5.0   0.0      0.0    9.0   -1.0       3.0       0.0  \n45208      0.0  45208.0   5.0   0.0      1.0    9.0  184.0       2.0       3.0  \n45209      0.0  45209.0   1.0   0.0      1.0    9.0   -1.0       3.0       0.0  \n45210      0.0  45210.0   2.0   0.0      1.0    9.0  188.0       1.0      11.0  \n\n[45211 rows x 17 columns]",
      "text/html": "<div>\n<style scoped>\n    .dataframe tbody tr th:only-of-type {\n        vertical-align: middle;\n    }\n\n    .dataframe tbody tr th {\n        vertical-align: top;\n    }\n\n    .dataframe thead th {\n        text-align: right;\n    }\n</style>\n<table border=\"1\" class=\"dataframe\">\n  <thead>\n    <tr style=\"text-align: right;\">\n      <th></th>\n      <th>age</th>\n      <th>balance</th>\n      <th>campaign</th>\n      <th>contact</th>\n      <th>day</th>\n      <th>default</th>\n      <th>duration</th>\n      <th>education</th>\n      <th>housing</th>\n      <th>index</th>\n      <th>job</th>\n      <th>loan</th>\n      <th>marital</th>\n      <th>month</th>\n      <th>pdays</th>\n      <th>poutcome</th>\n      <th>previous</th>\n    </tr>\n  </thead>\n  <tbody>\n    <tr>\n      <th>0</th>\n      <td>58.0</td>\n      <td>2143.0</td>\n      <td>1.0</td>\n      <td>2.0</td>\n      <td>5.0</td>\n      <td>0.0</td>\n      <td>261.0</td>\n      <td>2.0</td>\n      <td>1.0</td>\n      <td>0.0</td>\n      <td>4.0</td>\n      <td>0.0</td>\n      <td>1.0</td>\n      <td>8.0</td>\n      <td>-1.0</td>\n      <td>3.0</td>\n      <td>0.0</td>\n    </tr>\n    <tr>\n      <th>1</th>\n      <td>44.0</td>\n      <td>29.0</td>\n      <td>1.0</td>\n      <td>2.0</td>\n      <td>5.0</td>\n      <td>0.0</td>\n      <td>151.0</td>\n      <td>1.0</td>\n      <td>1.0</td>\n      <td>1.0</td>\n      <td>9.0</td>\n      <td>0.0</td>\n      <td>2.0</td>\n      <td>8.0</td>\n      <td>-1.0</td>\n      <td>3.0</td>\n      <td>0.0</td>\n    </tr>\n    <tr>\n      <th>2</th>\n      <td>33.0</td>\n      <td>2.0</td>\n      <td>1.0</td>\n      <td>2.0</td>\n      <td>5.0</td>\n      <td>0.0</td>\n      <td>76.0</td>\n      <td>1.0</td>\n      <td>1.0</td>\n      <td>2.0</td>\n      <td>2.0</td>\n      <td>1.0</td>\n      <td>1.0</td>\n      <td>8.0</td>\n      <td>-1.0</td>\n      <td>3.0</td>\n      <td>0.0</td>\n    </tr>\n    <tr>\n      <th>3</th>\n      <td>47.0</td>\n      <td>1506.0</td>\n      <td>1.0</td>\n      <td>2.0</td>\n      <td>5.0</td>\n      <td>0.0</td>\n      <td>92.0</td>\n      <td>3.0</td>\n      <td>1.0</td>\n      <td>3.0</td>\n      <td>1.0</td>\n      <td>0.0</td>\n      <td>1.0</td>\n      <td>8.0</td>\n      <td>-1.0</td>\n      <td>3.0</td>\n      <td>0.0</td>\n    </tr>\n    <tr>\n      <th>4</th>\n      <td>33.0</td>\n      <td>1.0</td>\n      <td>1.0</td>\n      <td>2.0</td>\n      <td>5.0</td>\n      <td>0.0</td>\n      <td>198.0</td>\n      <td>3.0</td>\n      <td>0.0</td>\n      <td>4.0</td>\n      <td>11.0</td>\n      <td>0.0</td>\n      <td>2.0</td>\n      <td>8.0</td>\n      <td>-1.0</td>\n      <td>3.0</td>\n      <td>0.0</td>\n    </tr>\n    <tr>\n      <th>...</th>\n      <td>...</td>\n      <td>...</td>\n      <td>...</td>\n      <td>...</td>\n      <td>...</td>\n      <td>...</td>\n      <td>...</td>\n      <td>...</td>\n      <td>...</td>\n      <td>...</td>\n      <td>...</td>\n      <td>...</td>\n      <td>...</td>\n      <td>...</td>\n      <td>...</td>\n      <td>...</td>\n      <td>...</td>\n    </tr>\n    <tr>\n      <th>45206</th>\n      <td>51.0</td>\n      <td>825.0</td>\n      <td>3.0</td>\n      <td>0.0</td>\n      <td>17.0</td>\n      <td>0.0</td>\n      <td>977.0</td>\n      <td>2.0</td>\n      <td>0.0</td>\n      <td>45206.0</td>\n      <td>9.0</td>\n      <td>0.0</td>\n      <td>1.0</td>\n      <td>9.0</td>\n      <td>-1.0</td>\n      <td>3.0</td>\n      <td>0.0</td>\n    </tr>\n    <tr>\n      <th>45207</th>\n      <td>71.0</td>\n      <td>1729.0</td>\n      <td>2.0</td>\n      <td>0.0</td>\n      <td>17.0</td>\n      <td>0.0</td>\n      <td>456.0</td>\n      <td>0.0</td>\n      <td>0.0</td>\n      <td>45207.0</td>\n      <td>5.0</td>\n      <td>0.0</td>\n      <td>0.0</td>\n      <td>9.0</td>\n      <td>-1.0</td>\n      <td>3.0</td>\n      <td>0.0</td>\n    </tr>\n    <tr>\n      <th>45208</th>\n      <td>72.0</td>\n      <td>5715.0</td>\n      <td>5.0</td>\n      <td>0.0</td>\n      <td>17.0</td>\n      <td>0.0</td>\n      <td>1127.0</td>\n      <td>1.0</td>\n      <td>0.0</td>\n      <td>45208.0</td>\n      <td>5.0</td>\n      <td>0.0</td>\n      <td>1.0</td>\n      <td>9.0</td>\n      <td>184.0</td>\n      <td>2.0</td>\n      <td>3.0</td>\n    </tr>\n    <tr>\n      <th>45209</th>\n      <td>57.0</td>\n      <td>668.0</td>\n      <td>4.0</td>\n      <td>1.0</td>\n      <td>17.0</td>\n      <td>0.0</td>\n      <td>508.0</td>\n      <td>1.0</td>\n      <td>0.0</td>\n      <td>45209.0</td>\n      <td>1.0</td>\n      <td>0.0</td>\n      <td>1.0</td>\n      <td>9.0</td>\n      <td>-1.0</td>\n      <td>3.0</td>\n      <td>0.0</td>\n    </tr>\n    <tr>\n      <th>45210</th>\n      <td>37.0</td>\n      <td>2971.0</td>\n      <td>2.0</td>\n      <td>0.0</td>\n      <td>17.0</td>\n      <td>0.0</td>\n      <td>361.0</td>\n      <td>1.0</td>\n      <td>0.0</td>\n      <td>45210.0</td>\n      <td>2.0</td>\n      <td>0.0</td>\n      <td>1.0</td>\n      <td>9.0</td>\n      <td>188.0</td>\n      <td>1.0</td>\n      <td>11.0</td>\n    </tr>\n  </tbody>\n</table>\n<p>45211 rows × 17 columns</p>\n</div>"
     },
     "execution_count": 42,
     "metadata": {},
     "output_type": "execute_result"
    }
   ],
   "source": [
    "bank_data_encode"
   ],
   "metadata": {
    "collapsed": false,
    "pycharm": {
     "name": "#%%\n"
    }
   }
  },
  {
   "cell_type": "markdown",
   "source": [
    "# 结果分析"
   ],
   "metadata": {
    "collapsed": false
   }
  },
  {
   "cell_type": "code",
   "execution_count": 44,
   "outputs": [
    {
     "name": "stdout",
     "output_type": "stream",
     "text": [
      "RMSE（均方误差）为: 0.385\n"
     ]
    }
   ],
   "source": [
    "from VF.util.utils import rmse_loss\n",
    "# 计算均方误差\n",
    "rmse = rmse_loss(bank_data_encode.values, imputed_data_x, data_m)\n",
    "rmse_spam=str(np.round(rmse, 4))\n",
    "print('RMSE（均方误差）为: ' + rmse_spam)"
   ],
   "metadata": {
    "collapsed": false,
    "pycharm": {
     "name": "#%%\n"
    }
   }
  },
  {
   "cell_type": "code",
   "execution_count": 46,
   "outputs": [],
   "source": [
    "imputed_data_x=pd.DataFrame(imputed_data_x)"
   ],
   "metadata": {
    "collapsed": false,
    "pycharm": {
     "name": "#%%\n"
    }
   }
  },
  {
   "cell_type": "code",
   "execution_count": 47,
   "outputs": [],
   "source": [
    "# 假设df1和df2是你的两个数据集，你想让df2的列名和df1的一样\n",
    "# 首先，获取df1的列名\n",
    "columns_df1 = bank_data_encode.columns\n",
    "\n",
    "# 然后，获取df2的列名\n",
    "columns_df2 = imputed_data_x.columns\n",
    "\n",
    "# 创建一个字典，其中键是df2的列名，值是df1的列名\n",
    "rename_dict = {old: new for old, new in zip(columns_df2, columns_df1)}\n",
    "\n",
    "# 使用rename函数修改df2的列名\n",
    "imputed_data_x.rename(columns=rename_dict, inplace=True)"
   ],
   "metadata": {
    "collapsed": false,
    "pycharm": {
     "name": "#%%\n"
    }
   }
  },
  {
   "cell_type": "code",
   "execution_count": 48,
   "outputs": [
    {
     "data": {
      "text/plain": "    age  balance  campaign  contact        day  default    duration  \\\n0  58.0   2143.0  1.000000      2.0   5.000000      0.0  261.000000   \n1  44.0     29.0  1.000000      2.0   5.000000      0.0  151.000000   \n2  33.0      2.0  1.000000      2.0   5.000000      0.0   76.000000   \n3  47.0   1506.0  1.157254      0.0  28.131369      0.0  182.612788   \n4  33.0      1.0  1.000000      2.0   5.000000      0.0  198.000000   \n5  35.0    231.0  1.000000      2.0   5.000000      0.0  139.000000   \n6  28.0    447.0  1.000000      2.0   5.000000      0.0  217.000000   \n7  42.0      2.0  1.000000      2.0   5.000000      1.0  380.000000   \n8  58.0    121.0  1.345412      0.0  28.134983      0.0  227.367749   \n9  43.0    593.0  1.238041      0.0  28.083002      0.0  225.405993   \n\n   education  housing  index   job  loan  marital  month  pdays  poutcome  \\\n0        2.0      1.0    0.0   4.0   0.0      1.0    8.0   -1.0       3.0   \n1        1.0      1.0    1.0   9.0   0.0      2.0    8.0   -1.0       3.0   \n2        1.0      1.0    2.0   2.0   1.0      1.0    8.0   -1.0       3.0   \n3        3.0      1.0    3.0   1.0   0.0      1.0   10.0    1.0       0.0   \n4        3.0      0.0    4.0  11.0   0.0      2.0    8.0   -1.0       3.0   \n5        2.0      1.0    5.0   4.0   0.0      1.0    8.0   -1.0       3.0   \n6        2.0      1.0    6.0   4.0   1.0      2.0    8.0   -1.0       3.0   \n7        2.0      1.0    7.0   2.0   0.0      0.0    8.0   -1.0       3.0   \n8        0.0      1.0    8.0   5.0   0.0      1.0    9.0  156.0       3.0   \n9        1.0      1.0    9.0   9.0   0.0      2.0    9.0  146.0       1.0   \n\n   previous  \n0       0.0  \n1       0.0  \n2       0.0  \n3       0.0  \n4       0.0  \n5       0.0  \n6       0.0  \n7       0.0  \n8       0.0  \n9       0.0  ",
      "text/html": "<div>\n<style scoped>\n    .dataframe tbody tr th:only-of-type {\n        vertical-align: middle;\n    }\n\n    .dataframe tbody tr th {\n        vertical-align: top;\n    }\n\n    .dataframe thead th {\n        text-align: right;\n    }\n</style>\n<table border=\"1\" class=\"dataframe\">\n  <thead>\n    <tr style=\"text-align: right;\">\n      <th></th>\n      <th>age</th>\n      <th>balance</th>\n      <th>campaign</th>\n      <th>contact</th>\n      <th>day</th>\n      <th>default</th>\n      <th>duration</th>\n      <th>education</th>\n      <th>housing</th>\n      <th>index</th>\n      <th>job</th>\n      <th>loan</th>\n      <th>marital</th>\n      <th>month</th>\n      <th>pdays</th>\n      <th>poutcome</th>\n      <th>previous</th>\n    </tr>\n  </thead>\n  <tbody>\n    <tr>\n      <th>0</th>\n      <td>58.0</td>\n      <td>2143.0</td>\n      <td>1.000000</td>\n      <td>2.0</td>\n      <td>5.000000</td>\n      <td>0.0</td>\n      <td>261.000000</td>\n      <td>2.0</td>\n      <td>1.0</td>\n      <td>0.0</td>\n      <td>4.0</td>\n      <td>0.0</td>\n      <td>1.0</td>\n      <td>8.0</td>\n      <td>-1.0</td>\n      <td>3.0</td>\n      <td>0.0</td>\n    </tr>\n    <tr>\n      <th>1</th>\n      <td>44.0</td>\n      <td>29.0</td>\n      <td>1.000000</td>\n      <td>2.0</td>\n      <td>5.000000</td>\n      <td>0.0</td>\n      <td>151.000000</td>\n      <td>1.0</td>\n      <td>1.0</td>\n      <td>1.0</td>\n      <td>9.0</td>\n      <td>0.0</td>\n      <td>2.0</td>\n      <td>8.0</td>\n      <td>-1.0</td>\n      <td>3.0</td>\n      <td>0.0</td>\n    </tr>\n    <tr>\n      <th>2</th>\n      <td>33.0</td>\n      <td>2.0</td>\n      <td>1.000000</td>\n      <td>2.0</td>\n      <td>5.000000</td>\n      <td>0.0</td>\n      <td>76.000000</td>\n      <td>1.0</td>\n      <td>1.0</td>\n      <td>2.0</td>\n      <td>2.0</td>\n      <td>1.0</td>\n      <td>1.0</td>\n      <td>8.0</td>\n      <td>-1.0</td>\n      <td>3.0</td>\n      <td>0.0</td>\n    </tr>\n    <tr>\n      <th>3</th>\n      <td>47.0</td>\n      <td>1506.0</td>\n      <td>1.157254</td>\n      <td>0.0</td>\n      <td>28.131369</td>\n      <td>0.0</td>\n      <td>182.612788</td>\n      <td>3.0</td>\n      <td>1.0</td>\n      <td>3.0</td>\n      <td>1.0</td>\n      <td>0.0</td>\n      <td>1.0</td>\n      <td>10.0</td>\n      <td>1.0</td>\n      <td>0.0</td>\n      <td>0.0</td>\n    </tr>\n    <tr>\n      <th>4</th>\n      <td>33.0</td>\n      <td>1.0</td>\n      <td>1.000000</td>\n      <td>2.0</td>\n      <td>5.000000</td>\n      <td>0.0</td>\n      <td>198.000000</td>\n      <td>3.0</td>\n      <td>0.0</td>\n      <td>4.0</td>\n      <td>11.0</td>\n      <td>0.0</td>\n      <td>2.0</td>\n      <td>8.0</td>\n      <td>-1.0</td>\n      <td>3.0</td>\n      <td>0.0</td>\n    </tr>\n    <tr>\n      <th>5</th>\n      <td>35.0</td>\n      <td>231.0</td>\n      <td>1.000000</td>\n      <td>2.0</td>\n      <td>5.000000</td>\n      <td>0.0</td>\n      <td>139.000000</td>\n      <td>2.0</td>\n      <td>1.0</td>\n      <td>5.0</td>\n      <td>4.0</td>\n      <td>0.0</td>\n      <td>1.0</td>\n      <td>8.0</td>\n      <td>-1.0</td>\n      <td>3.0</td>\n      <td>0.0</td>\n    </tr>\n    <tr>\n      <th>6</th>\n      <td>28.0</td>\n      <td>447.0</td>\n      <td>1.000000</td>\n      <td>2.0</td>\n      <td>5.000000</td>\n      <td>0.0</td>\n      <td>217.000000</td>\n      <td>2.0</td>\n      <td>1.0</td>\n      <td>6.0</td>\n      <td>4.0</td>\n      <td>1.0</td>\n      <td>2.0</td>\n      <td>8.0</td>\n      <td>-1.0</td>\n      <td>3.0</td>\n      <td>0.0</td>\n    </tr>\n    <tr>\n      <th>7</th>\n      <td>42.0</td>\n      <td>2.0</td>\n      <td>1.000000</td>\n      <td>2.0</td>\n      <td>5.000000</td>\n      <td>1.0</td>\n      <td>380.000000</td>\n      <td>2.0</td>\n      <td>1.0</td>\n      <td>7.0</td>\n      <td>2.0</td>\n      <td>0.0</td>\n      <td>0.0</td>\n      <td>8.0</td>\n      <td>-1.0</td>\n      <td>3.0</td>\n      <td>0.0</td>\n    </tr>\n    <tr>\n      <th>8</th>\n      <td>58.0</td>\n      <td>121.0</td>\n      <td>1.345412</td>\n      <td>0.0</td>\n      <td>28.134983</td>\n      <td>0.0</td>\n      <td>227.367749</td>\n      <td>0.0</td>\n      <td>1.0</td>\n      <td>8.0</td>\n      <td>5.0</td>\n      <td>0.0</td>\n      <td>1.0</td>\n      <td>9.0</td>\n      <td>156.0</td>\n      <td>3.0</td>\n      <td>0.0</td>\n    </tr>\n    <tr>\n      <th>9</th>\n      <td>43.0</td>\n      <td>593.0</td>\n      <td>1.238041</td>\n      <td>0.0</td>\n      <td>28.083002</td>\n      <td>0.0</td>\n      <td>225.405993</td>\n      <td>1.0</td>\n      <td>1.0</td>\n      <td>9.0</td>\n      <td>9.0</td>\n      <td>0.0</td>\n      <td>2.0</td>\n      <td>9.0</td>\n      <td>146.0</td>\n      <td>1.0</td>\n      <td>0.0</td>\n    </tr>\n  </tbody>\n</table>\n</div>"
     },
     "execution_count": 48,
     "metadata": {},
     "output_type": "execute_result"
    }
   ],
   "source": [
    "imputed_data_x.head(10)"
   ],
   "metadata": {
    "collapsed": false,
    "pycharm": {
     "name": "#%%\n"
    }
   }
  },
  {
   "cell_type": "code",
   "execution_count": 54,
   "outputs": [
    {
     "name": "stdout",
     "output_type": "stream",
     "text": [
      "(45211, 18)\n",
      "(45211, 18)\n"
     ]
    }
   ],
   "source": [
    "# 获得目标列，假设列名是'column_name'\n",
    "column = pd.read_csv('datasets/bank.csv',sep=';')['y']\n",
    "# 将这一列添加到其他数据集中，假设你想把这一列的名字还叫'column_name'\n",
    "bank_data_encode['y'] = column\n",
    "imputed_data_x['y'] = column\n",
    "print(bank_data_encode.shape)\n",
    "print(imputed_data_x.shape)"
   ],
   "metadata": {
    "collapsed": false,
    "pycharm": {
     "name": "#%%\n"
    }
   }
  },
  {
   "cell_type": "code",
   "execution_count": 55,
   "outputs": [
    {
     "data": {
      "text/plain": "<IPython.core.display.HTML object>",
      "text/html": "<h1 style=\"text-align: center\">Synthetic Data Report</h1>"
     },
     "metadata": {},
     "output_type": "display_data"
    },
    {
     "data": {
      "text/plain": "Tab(children=(VBox(children=(Output(),)), VBox(children=(Output(),)), VBox(children=(Output(),)), VBox(childre…",
      "application/vnd.jupyter.widget-view+json": {
       "version_major": 2,
       "version_minor": 0,
       "model_id": "2a256055077e464081c835365aa37b7d"
      }
     },
     "metadata": {},
     "output_type": "display_data"
    }
   ],
   "source": [
    "from table_evaluator import TableEvaluator\n",
    "# 传入是数据类型得是DataForm类型\n",
    "evaluator=TableEvaluator(bank_data_encode,imputed_data_x)\n",
    "# 数值分析\n",
    "evaluator.evaluate(target_col='y',notebook=True,verbose=False)"
   ],
   "metadata": {
    "collapsed": false,
    "pycharm": {
     "name": "#%%\n"
    }
   }
  },
  {
   "cell_type": "code",
   "execution_count": 56,
   "outputs": [
    {
     "name": "stdout",
     "output_type": "stream",
     "text": [
      "\n",
      "Classifier F1-scores and their Jaccard similarities::\n",
      "                             f1_real  f1_fake  jaccard_similarity\n",
      "index                                                            \n",
      "DecisionTreeClassifier_fake   0.8841   0.8726              0.6829\n",
      "DecisionTreeClassifier_real   0.8848   0.9584              0.7983\n",
      "LogisticRegression_fake       0.8871   0.8867              0.9956\n",
      "LogisticRegression_real       0.8903   0.8895              0.9940\n",
      "MLPClassifier_fake            0.8818   0.8802              0.9657\n",
      "MLPClassifier_real            0.8859   0.8822              0.9565\n",
      "RandomForestClassifier_fake   0.9423   0.8993              0.8247\n",
      "RandomForestClassifier_real   0.9056   0.9585              0.8512\n",
      "\n",
      "Privacy results:\n",
      "                                         result\n",
      "Duplicate rows between sets (real/fake)  (0, 0)\n",
      "nearest neighbor mean                    0.9005\n",
      "nearest neighbor std                     0.5603\n",
      "\n",
      "Miscellaneous results:\n",
      "                                  Result\n",
      "Column Correlation Distance RMSE  0.0411\n",
      "Column Correlation distance MAE   0.0166\n",
      "\n",
      "Results:\n",
      "                                                result\n",
      "Basic statistics                                0.9984\n",
      "Correlation column correlations                 0.9632\n",
      "Mean Correlation between fake and real columns  0.9832\n",
      "1 - MAPE Estimator results                      0.9740\n",
      "Similarity Score                                0.9797\n"
     ]
    }
   ],
   "source": [
    "evaluator.evaluate(target_col='y',notebook=False,verbose=False)"
   ],
   "metadata": {
    "collapsed": false,
    "pycharm": {
     "name": "#%%\n"
    }
   }
  },
  {
   "cell_type": "code",
   "execution_count": 60,
   "outputs": [
    {
     "name": "stdout",
     "output_type": "stream",
     "text": [
      "Accuracy:  0.8863904452963728\n",
      "auc:  0.553349686857862\n"
     ]
    }
   ],
   "source": [
    "from sklearn.model_selection import train_test_split\n",
    "from sklearn.linear_model import LogisticRegression\n",
    "from sklearn.metrics import accuracy_score\n",
    "from sklearn.metrics import roc_auc_score\n",
    "from sklearn.metrics import classification_report\n",
    "from sklearn.metrics import  confusion_matrix\n",
    "X = imputed_data_x.drop('y', axis=1)  # 假设 '' 是目标变量\n",
    "# 将样本集划分为70%的训练集，30%作为测试集\n",
    "X_train, X_test, y_train, y_test = train_test_split(X, column, test_size=0.3, random_state=42)\n",
    "# 创建和训练模型\n",
    "model = LogisticRegression()\n",
    "model.fit(X_train, y_train)\n",
    "# 预测\n",
    "y_pred = model.predict(X_test)\n",
    "# 计算准确率\n",
    "accuracy = accuracy_score(y_test, y_pred)\n",
    "print('Accuracy: ', accuracy)\n",
    "#测试逻辑回归的模型评估\n",
    "\n",
    "y_test = le.fit_transform(y_test)\n",
    "y_pred = le.fit_transform(y_pred)\n",
    "auc=roc_auc_score(y_test, y_pred)\n",
    "print('auc: ', auc)"
   ],
   "metadata": {
    "collapsed": false,
    "pycharm": {
     "name": "#%%\n"
    }
   }
  },
  {
   "cell_type": "code",
   "execution_count": null,
   "outputs": [],
   "source": [],
   "metadata": {
    "collapsed": false,
    "pycharm": {
     "name": "#%%\n"
    }
   }
  }
 ],
 "metadata": {
  "kernelspec": {
   "display_name": "Python 3",
   "language": "python",
   "name": "python3"
  },
  "language_info": {
   "codemirror_mode": {
    "name": "ipython",
    "version": 2
   },
   "file_extension": ".py",
   "mimetype": "text/x-python",
   "name": "python",
   "nbconvert_exporter": "python",
   "pygments_lexer": "ipython2",
   "version": "2.7.6"
  }
 },
 "nbformat": 4,
 "nbformat_minor": 0
}